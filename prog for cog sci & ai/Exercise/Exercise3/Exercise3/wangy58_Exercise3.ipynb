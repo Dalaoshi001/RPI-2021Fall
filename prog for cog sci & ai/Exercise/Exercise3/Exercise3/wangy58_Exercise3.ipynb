{
 "cells": [
  {
   "cell_type": "code",
   "execution_count": 117,
   "metadata": {},
   "outputs": [],
   "source": [
    "import warnings\n",
    "warnings.simplefilter(action='ignore', category=FutureWarning)\n",
    "warnings.simplefilter(action='ignore', category=UserWarning)\n",
    "\n",
    "import numpy as np\n",
    "import pandas as pd\n",
    "from scipy import stats\n",
    "import seaborn as sns\n",
    "import matplotlib.pyplot as plt\n",
    "%matplotlib inline"
   ]
  },
  {
   "cell_type": "code",
   "execution_count": 118,
   "metadata": {},
   "outputs": [],
   "source": [
    "from sklearn.model_selection import train_test_split\n",
    "from sklearn.preprocessing import LabelEncoder\n",
    "from sklearn.preprocessing import StandardScaler\n",
    "from sklearn.metrics import confusion_matrix\n",
    "\n",
    "from sklearn.neighbors import KNeighborsClassifier"
   ]
  },
  {
   "cell_type": "code",
   "execution_count": 119,
   "metadata": {},
   "outputs": [
    {
     "data": {
      "text/plain": [
       "'1.8.1'"
      ]
     },
     "execution_count": 119,
     "metadata": {},
     "output_type": "execute_result"
    }
   ],
   "source": [
    "import torch\n",
    "import torch.nn as nn\n",
    "import torch.nn.functional as F\n",
    "\n",
    "torch.__version__"
   ]
  },
  {
   "cell_type": "markdown",
   "metadata": {},
   "source": [
    "## Exercise Set 3\n",
    "\n",
    "Due 10/22 10am\n",
    "\n",
    "20 points 10 questions 2 points each\n",
    "\n",
    "Name your submission your_rcsid_Exercise3.ipynb"
   ]
  },
  {
   "cell_type": "markdown",
   "metadata": {},
   "source": [
    "### 1) Polynomial Kernel\n",
    "\n",
    "Given x and z below. Define a function Poly_k that implements the polynomial kernel with r = 0 and d = 2. Also define a function Phi that computes the dot product of the $\\phi$ transformation. Show that given the inputs x and z they compute the same value.\n",
    "$\\Phi(\\vec{x}) = (x_1^2,\\sqrt{2}x_1x_2,x_2^2) $"
   ]
  },
  {
   "cell_type": "code",
   "execution_count": 120,
   "metadata": {},
   "outputs": [
    {
     "data": {
      "text/plain": [
       "(676.0, 676.0)"
      ]
     },
     "execution_count": 120,
     "metadata": {},
     "output_type": "execute_result"
    }
   ],
   "source": [
    "x = np.array([3,4])\n",
    "z = np.array([2,5])\n",
    "\n",
    "# Your Code Here\n",
    "from math import *\n",
    "def Poly_k(x, z):\n",
    "    return pow(np.dot(x, z), 2)\n",
    "\n",
    "def Phi(x, z):\n",
    "    x_1 = np.array([pow(x[0], 2), sqrt(2)*x[0] * x[1], pow(x[1], 2)])\n",
    "    z_1 = np.array([pow(z[0], 2), sqrt(2) * z[0] * z[1], pow(z[1], 2)])\n",
    "    return np.dot(x_1, z_1)\n",
    "Poly_k(x, z), Phi(x, z)"
   ]
  },
  {
   "cell_type": "markdown",
   "metadata": {},
   "source": [
    "### Wine Dataset\n",
    "\n",
    "https://archive-beta.ics.uci.edu/ml/datasets/wine\n",
    "\n",
    "Dependent Variable is Customer_Segment with values 1 - 3.\n",
    "Independent Variables in columns 0-12, all numerical.\n"
   ]
  },
  {
   "cell_type": "code",
   "execution_count": 121,
   "metadata": {},
   "outputs": [
    {
     "data": {
      "text/html": [
       "<div>\n",
       "<style scoped>\n",
       "    .dataframe tbody tr th:only-of-type {\n",
       "        vertical-align: middle;\n",
       "    }\n",
       "\n",
       "    .dataframe tbody tr th {\n",
       "        vertical-align: top;\n",
       "    }\n",
       "\n",
       "    .dataframe thead th {\n",
       "        text-align: right;\n",
       "    }\n",
       "</style>\n",
       "<table border=\"1\" class=\"dataframe\">\n",
       "  <thead>\n",
       "    <tr style=\"text-align: right;\">\n",
       "      <th></th>\n",
       "      <th>Alcohol</th>\n",
       "      <th>Malic_Acid</th>\n",
       "      <th>Ash</th>\n",
       "      <th>Ash_Alcanity</th>\n",
       "      <th>Magnesium</th>\n",
       "      <th>Total_Phenols</th>\n",
       "      <th>Flavanoids</th>\n",
       "      <th>Nonflavanoid_Phenols</th>\n",
       "      <th>Proanthocyanins</th>\n",
       "      <th>Color_Intensity</th>\n",
       "      <th>Hue</th>\n",
       "      <th>OD280</th>\n",
       "      <th>Proline</th>\n",
       "      <th>Customer_Segment</th>\n",
       "    </tr>\n",
       "  </thead>\n",
       "  <tbody>\n",
       "    <tr>\n",
       "      <th>173</th>\n",
       "      <td>13.71</td>\n",
       "      <td>5.65</td>\n",
       "      <td>2.45</td>\n",
       "      <td>20.5</td>\n",
       "      <td>95</td>\n",
       "      <td>1.68</td>\n",
       "      <td>0.61</td>\n",
       "      <td>0.52</td>\n",
       "      <td>1.06</td>\n",
       "      <td>7.7</td>\n",
       "      <td>0.64</td>\n",
       "      <td>1.74</td>\n",
       "      <td>740</td>\n",
       "      <td>3</td>\n",
       "    </tr>\n",
       "    <tr>\n",
       "      <th>174</th>\n",
       "      <td>13.40</td>\n",
       "      <td>3.91</td>\n",
       "      <td>2.48</td>\n",
       "      <td>23.0</td>\n",
       "      <td>102</td>\n",
       "      <td>1.80</td>\n",
       "      <td>0.75</td>\n",
       "      <td>0.43</td>\n",
       "      <td>1.41</td>\n",
       "      <td>7.3</td>\n",
       "      <td>0.70</td>\n",
       "      <td>1.56</td>\n",
       "      <td>750</td>\n",
       "      <td>3</td>\n",
       "    </tr>\n",
       "    <tr>\n",
       "      <th>175</th>\n",
       "      <td>13.27</td>\n",
       "      <td>4.28</td>\n",
       "      <td>2.26</td>\n",
       "      <td>20.0</td>\n",
       "      <td>120</td>\n",
       "      <td>1.59</td>\n",
       "      <td>0.69</td>\n",
       "      <td>0.43</td>\n",
       "      <td>1.35</td>\n",
       "      <td>10.2</td>\n",
       "      <td>0.59</td>\n",
       "      <td>1.56</td>\n",
       "      <td>835</td>\n",
       "      <td>3</td>\n",
       "    </tr>\n",
       "    <tr>\n",
       "      <th>176</th>\n",
       "      <td>13.17</td>\n",
       "      <td>2.59</td>\n",
       "      <td>2.37</td>\n",
       "      <td>20.0</td>\n",
       "      <td>120</td>\n",
       "      <td>1.65</td>\n",
       "      <td>0.68</td>\n",
       "      <td>0.53</td>\n",
       "      <td>1.46</td>\n",
       "      <td>9.3</td>\n",
       "      <td>0.60</td>\n",
       "      <td>1.62</td>\n",
       "      <td>840</td>\n",
       "      <td>3</td>\n",
       "    </tr>\n",
       "    <tr>\n",
       "      <th>177</th>\n",
       "      <td>14.13</td>\n",
       "      <td>4.10</td>\n",
       "      <td>2.74</td>\n",
       "      <td>24.5</td>\n",
       "      <td>96</td>\n",
       "      <td>2.05</td>\n",
       "      <td>0.76</td>\n",
       "      <td>0.56</td>\n",
       "      <td>1.35</td>\n",
       "      <td>9.2</td>\n",
       "      <td>0.61</td>\n",
       "      <td>1.60</td>\n",
       "      <td>560</td>\n",
       "      <td>3</td>\n",
       "    </tr>\n",
       "  </tbody>\n",
       "</table>\n",
       "</div>"
      ],
      "text/plain": [
       "     Alcohol  Malic_Acid   Ash  Ash_Alcanity  Magnesium  Total_Phenols  \\\n",
       "173    13.71        5.65  2.45          20.5         95           1.68   \n",
       "174    13.40        3.91  2.48          23.0        102           1.80   \n",
       "175    13.27        4.28  2.26          20.0        120           1.59   \n",
       "176    13.17        2.59  2.37          20.0        120           1.65   \n",
       "177    14.13        4.10  2.74          24.5         96           2.05   \n",
       "\n",
       "     Flavanoids  Nonflavanoid_Phenols  Proanthocyanins  Color_Intensity   Hue  \\\n",
       "173        0.61                  0.52             1.06              7.7  0.64   \n",
       "174        0.75                  0.43             1.41              7.3  0.70   \n",
       "175        0.69                  0.43             1.35             10.2  0.59   \n",
       "176        0.68                  0.53             1.46              9.3  0.60   \n",
       "177        0.76                  0.56             1.35              9.2  0.61   \n",
       "\n",
       "     OD280  Proline  Customer_Segment  \n",
       "173   1.74      740                 3  \n",
       "174   1.56      750                 3  \n",
       "175   1.56      835                 3  \n",
       "176   1.62      840                 3  \n",
       "177   1.60      560                 3  "
      ]
     },
     "execution_count": 121,
     "metadata": {},
     "output_type": "execute_result"
    }
   ],
   "source": [
    "wine = pd.read_csv(\"wine.csv\")\n",
    "wine.tail()"
   ]
  },
  {
   "cell_type": "code",
   "execution_count": 122,
   "metadata": {},
   "outputs": [],
   "source": [
    "# Covert to arrays\n",
    "\n",
    "X = wine.iloc[:,0:4].values\n",
    "y = wine.loc[:,'Customer_Segment'].values\n",
    "\n",
    "y =  LabelEncoder().fit_transform(y) # Encode"
   ]
  },
  {
   "cell_type": "markdown",
   "metadata": {},
   "source": [
    "###  Pytorch\n",
    "\n",
    "Create and run a pytorch multinomial model\n",
    "\n",
    "Use the wine data set."
   ]
  },
  {
   "cell_type": "code",
   "execution_count": 123,
   "metadata": {
    "colab": {
     "base_uri": "https://localhost:8080/",
     "height": 85
    },
    "colab_type": "code",
    "id": "Mcf9Nw9xa8JE",
    "outputId": "70e4583a-b097-4060-cdcd-43f86ac6c749"
   },
   "outputs": [],
   "source": [
    "# Splitting the dataset into the Training set and Test set\n",
    "\n",
    "X_train, X_test, y_train, y_test = train_test_split(X, y, \n",
    "                                                    stratify=y, \n",
    "                                                    test_size = 0.2, \n",
    "                                                    random_state = 1)\n",
    "\n",
    "# Feature Scaling\n",
    "sc = StandardScaler()\n",
    "X_train = sc.fit_transform(X_train)\n",
    "X_test = sc.transform(X_test)"
   ]
  },
  {
   "cell_type": "markdown",
   "metadata": {},
   "source": [
    "#### 2) Convert numpy arrays to torch tensors\n",
    "\n",
    "The train and test dependent variables should be type np.int64."
   ]
  },
  {
   "cell_type": "code",
   "execution_count": 124,
   "metadata": {
    "colab": {
     "base_uri": "https://localhost:8080/",
     "height": 85
    },
    "colab_type": "code",
    "id": "Mcf9Nw9xa8JE",
    "outputId": "70e4583a-b097-4060-cdcd-43f86ac6c749"
   },
   "outputs": [],
   "source": [
    "# Your Code Here\n",
    "X_train_t = torch.from_numpy(X_train.astype(np.float32))\n",
    "X_test_t = torch.from_numpy(X_test.astype(np.float32))\n",
    "y_train_t = torch.from_numpy(y_train.astype(np.int64))\n",
    "y_test_t = torch.from_numpy(y_test.astype(np.int64))\n"
   ]
  },
  {
   "cell_type": "markdown",
   "metadata": {},
   "source": [
    "#### 3) Define the model class\n",
    "\n",
    "One linear layer with 7 nodes. Pass through a ReLU activation function to an output layer."
   ]
  },
  {
   "cell_type": "code",
   "execution_count": 125,
   "metadata": {},
   "outputs": [],
   "source": [
    "# Your Code Here\n",
    "class MultiRegress(nn.Module):\n",
    "    def __init__(self,num_in,num_out):\n",
    "        super(MultiRegress, self).__init__() \n",
    "        self.linear1 = nn.Linear(num_in, 7)\n",
    "        self.linear2 = nn.Linear(7, num_out) \n",
    "        self.relu = nn.ReLU()\n",
    "  \n",
    "    def forward(self, x): \n",
    "        x = self.linear1(x)\n",
    "        x = self.relu(x) \n",
    "        return self.linear2(x)\n",
    "    \n",
    "model = MultiRegress(X_train.shape[1],3)\n"
   ]
  },
  {
   "cell_type": "markdown",
   "metadata": {},
   "source": [
    "#### 4) Define a Cross Entropy Loss criterion and an Adam optimizer"
   ]
  },
  {
   "cell_type": "code",
   "execution_count": 126,
   "metadata": {},
   "outputs": [],
   "source": [
    "# Your Code Here\n",
    "criterion = nn.CrossEntropyLoss()\n",
    "optimizer = torch.optim.Adam(model.parameters())"
   ]
  },
  {
   "cell_type": "markdown",
   "metadata": {},
   "source": [
    "#### 5) Train the model for 1000 epochs. Print the  training loss and test lost every 100 epochs"
   ]
  },
  {
   "cell_type": "code",
   "execution_count": 127,
   "metadata": {},
   "outputs": [
    {
     "name": "stdout",
     "output_type": "stream",
     "text": [
      "Epoch 100/1000, Train Loss: 0.9341, Test Loss: 0.9497\n",
      "Epoch 200/1000, Train Loss: 0.6720, Test Loss: 0.7239\n",
      "Epoch 300/1000, Train Loss: 0.4760, Test Loss: 0.5853\n",
      "Epoch 400/1000, Train Loss: 0.3818, Test Loss: 0.5486\n",
      "Epoch 500/1000, Train Loss: 0.3370, Test Loss: 0.5522\n",
      "Epoch 600/1000, Train Loss: 0.3115, Test Loss: 0.5671\n",
      "Epoch 700/1000, Train Loss: 0.2953, Test Loss: 0.5755\n",
      "Epoch 800/1000, Train Loss: 0.2837, Test Loss: 0.5792\n",
      "Epoch 900/1000, Train Loss: 0.2749, Test Loss: 0.5820\n",
      "Epoch 1000/1000, Train Loss: 0.2677, Test Loss: 0.5866\n"
     ]
    }
   ],
   "source": [
    "# Your Code Here\n",
    "# Train the model\n",
    "n_epochs = 1000\n",
    "\n",
    "# Stuff to store\n",
    "train_losses = np.zeros(n_epochs)\n",
    "test_losses = np.zeros(n_epochs)\n",
    "\n",
    "for it in range(n_epochs):\n",
    "  \n",
    "  optimizer.zero_grad() # zero the parameter gradients\n",
    "\n",
    "  outputs = model(X_train_t) # Forward pass via __call__, outputs is a tensor\n",
    "    \n",
    "  loss = criterion(outputs, y_train_t) # Calculate the loss\n",
    "    \n",
    "  loss.backward() # Computes the Gradients\n",
    "  optimizer.step() # Updates the weights\n",
    "\n",
    "  # Get test loss\n",
    "  outputs_test = model(X_test_t)\n",
    "  loss_test = criterion(outputs_test, y_test_t)\n",
    "\n",
    "  # Save losses\n",
    "  train_losses[it] = loss.item()\n",
    "  test_losses[it] = loss_test.item()\n",
    "    \n",
    "  if (it + 1) % 100 == 0:\n",
    "    print(f'Epoch {it+1}/{n_epochs}, Train Loss: {loss.item():.4f}, Test Loss: {loss_test.item():.4f}')\n",
    "\n"
   ]
  },
  {
   "cell_type": "markdown",
   "metadata": {},
   "source": [
    "#### 6) Predict the test data and calculate the accuracy. Use the PyTorch softmax function.\n",
    "\n",
    "https://pytorch.org/docs/stable/nn.functional.html"
   ]
  },
  {
   "cell_type": "code",
   "execution_count": 128,
   "metadata": {},
   "outputs": [
    {
     "data": {
      "text/plain": [
       "0.8055555555555556"
      ]
     },
     "execution_count": 128,
     "metadata": {},
     "output_type": "execute_result"
    }
   ],
   "source": [
    "# Your Code Here\n",
    "def predict(tnsr):\n",
    "    with torch.no_grad():\n",
    "      logits = model(tnsr)\n",
    "      probs = F.softmax(logits)\n",
    "      probs = probs.numpy()\n",
    "      return list(map(np.argmax,probs))\n",
    "preds = predict(X_test_t)\n",
    "np.sum(preds == y_test)/len(preds)"
   ]
  },
  {
   "cell_type": "markdown",
   "metadata": {},
   "source": [
    " \n",
    "### K-Nearest Neighbor (KNN)\n",
    "\n",
    "https://scikit-learn.org/stable/modules/generated/sklearn.neighbors.KNeighborsClassifier.html"
   ]
  },
  {
   "cell_type": "markdown",
   "metadata": {},
   "source": [
    "The K-Nearest Neighbor Classification algorithm classifies a point according to the the class of its K closest neighbors. The KNN Regression algorithm assigns a value to the mean of the K closest neighbors.\n",
    "\n",
    "Closest is determined by some distance measure, e.g. Euclidean distance. Since it uses a distance measure the data must be scaled.\n",
    "\n",
    "It is a simple algorithm in that there is no learning of parameters but it often gives very good results.\n",
    "It is called a Lazy learner since it just uses the training data, it doesn't really learn anything.\n",
    "\n",
    "The K is a hyperparameter.\n"
   ]
  },
  {
   "cell_type": "markdown",
   "metadata": {},
   "source": [
    "### KNN Algorithm\n",
    "\n",
    "1. Choose K (the number of neighbors to use)\n",
    "\n",
    "2. Find the K nearest neighbors to the new point $x_{new}$ using a distance measure (most common is Euclidean Distance)  \n",
    "\n",
    "<div style=\"font-size: 110%;\">\n",
    "$$\\text{Euclidean distance between two points }(x_1,y_1),(x_2,y_2) = \\sqrt{(x_1 - x_2)^2 + (y_1 - y_2)^2}$$\n",
    "</div>\n",
    " \n",
    " \n",
    "3. Among these K neighbors count the number in each category (i.e. class)  \n",
    "\n",
    "4. Assign the new point the category  with the highest count.\n",
    "\n",
    "\n",
    "The algorithm estimates the conditional probability for class j as the fraction of points in $N_{new}$ with response value j and classifies $X_{new}$ to the class with highest probability.\n",
    "\n",
    "$$Pr(Y=j|X=x_{new}) = \\frac{1}{K}\\sum_{i\\in{N_{new}}}I(y_i=j)$$\n",
    "\n",
    "### Distance Measures\n",
    "\n",
    " http://scikit-learn.org/stable/modules/generated/sklearn.neighbors.DistanceMetric.html\n",
    "\n",
    "\n"
   ]
  },
  {
   "cell_type": "markdown",
   "metadata": {},
   "source": [
    "### KNN Model\n",
    "\n",
    "Using the Wine data set\n",
    "\n",
    "#### 7. Split the data into training, validation and test sets.  Display the shapes."
   ]
  },
  {
   "cell_type": "code",
   "execution_count": 129,
   "metadata": {},
   "outputs": [],
   "source": [
    "# Your Code Here\n",
    "X_train, X_test, y_train, y_test = train_test_split(X, y, test_size=0.2, random_state=1)\n",
    "\n",
    "X_train, X_val, y_train, y_val = train_test_split(X_train, y_train, test_size=0.25, random_state=1)\n"
   ]
  },
  {
   "cell_type": "markdown",
   "metadata": {},
   "source": [
    "#### 8) Scale the data"
   ]
  },
  {
   "cell_type": "code",
   "execution_count": 130,
   "metadata": {},
   "outputs": [],
   "source": [
    "# Your Code Here\n",
    "X_train = sc.fit_transform(X_train)\n",
    "X_test = sc.transform(X_test)\n",
    "X_val = sc.transform(X_val)"
   ]
  },
  {
   "cell_type": "markdown",
   "metadata": {},
   "source": [
    "#### 9. Model definition and execution\n",
    "\n",
    "Using the wine dataset, create a function whose arguments are the standardized training features, the standardized validation features, the training dependent variable, the validation dependent variable and the number of neighbors.\n",
    "\n",
    "Use the 'euclidean' metric.\n",
    "\n",
    "The function returns the accuracy on the validation data."
   ]
  },
  {
   "cell_type": "code",
   "execution_count": 131,
   "metadata": {},
   "outputs": [],
   "source": [
    "# Your Code Here\n",
    "def accuracy(X_train, y_train, X_val, y_val, neighbors):\n",
    "    knn = KNeighborsClassifier(n_neighbors = neighbors ,metric='euclidean')\n",
    "    knn.fit(X_train, y_train)\n",
    "    y_preds = knn.predict(X_val)\n",
    "    return np.sum(y_preds == y_val) / (len(y_preds))"
   ]
  },
  {
   "cell_type": "markdown",
   "metadata": {},
   "source": [
    "#### 10. Collect and plot the accuracy scores for 1 to 10 nearest neighbors."
   ]
  },
  {
   "cell_type": "code",
   "execution_count": 132,
   "metadata": {},
   "outputs": [
    {
     "name": "stdout",
     "output_type": "stream",
     "text": [
      "The accuracy scores for 1 nearest neighbors: 0.8055555555555556\n",
      "The accuracy scores for 2 nearest neighbors: 0.8611111111111112\n",
      "The accuracy scores for 3 nearest neighbors: 0.8333333333333334\n",
      "The accuracy scores for 4 nearest neighbors: 0.8055555555555556\n",
      "The accuracy scores for 5 nearest neighbors: 0.8333333333333334\n",
      "The accuracy scores for 6 nearest neighbors: 0.8333333333333334\n",
      "The accuracy scores for 7 nearest neighbors: 0.8611111111111112\n",
      "The accuracy scores for 8 nearest neighbors: 0.8611111111111112\n",
      "The accuracy scores for 9 nearest neighbors: 0.8611111111111112\n",
      "The accuracy scores for 10 nearest neighbors: 0.8333333333333334\n"
     ]
    },
    {
     "data": {
      "image/png": "[encoded data removed]",
      "text/plain": [
       "<Figure size 432x288 with 1 Axes>"
      ]
     },
     "metadata": {
      "needs_background": "light"
     },
     "output_type": "display_data"
    }
   ],
   "source": [
    "# Your Code Here\n",
    "acc = []\n",
    "position = []\n",
    "for i in range(1, 11):\n",
    "    position.append(i)\n",
    "    acc.append(accuracy(X_train, y_train, X_val, y_val, i))\n",
    "    print('The accuracy scores for {} nearest neighbors: {}'.format(i , acc[i-1]))\n",
    "\n",
    "plt.plot(np.array(position), np.array(acc), label='accuracy')\n",
    "plt.legend();\n"
   ]
  },
  {
   "cell_type": "code",
   "execution_count": null,
   "metadata": {},
   "outputs": [],
   "source": []
  }
 ],
 "metadata": {
  "kernelspec": {
   "display_name": "Python 3 (ipykernel)",
   "language": "python",
   "name": "python3"
  },
  "language_info": {
   "codemirror_mode": {
    "name": "ipython",
    "version": 3
   },
   "file_extension": ".py",
   "mimetype": "text/x-python",
   "name": "python",
   "nbconvert_exporter": "python",
   "pygments_lexer": "ipython3",
   "version": "3.8.11"
  },
  "varInspector": {
   "cols": {
    "lenName": 16,
    "lenType": 16,
    "lenVar": 40
   },
   "kernels_config": {
    "python": {
     "delete_cmd_postfix": "",
     "delete_cmd_prefix": "del ",
     "library": "var_list.py",
     "varRefreshCmd": "print(var_dic_list())"
    },
    "r": {
     "delete_cmd_postfix": ") ",
     "delete_cmd_prefix": "rm(",
     "library": "var_list.r",
     "varRefreshCmd": "cat(var_dic_list()) "
    }
   },
   "types_to_exclude": [
    "module",
    "function",
    "builtin_function_or_method",
    "instance",
    "_Feature"
   ],
   "window_display": false
  }
 },
 "nbformat": 4,
 "nbformat_minor": 4
}
