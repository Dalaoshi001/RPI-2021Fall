{
 "cells": [
  {
   "cell_type": "code",
   "execution_count": 1,
   "id": "df1f9a67-a5d6-489b-990a-4dff5cae6e89",
   "metadata": {},
   "outputs": [],
   "source": [
    "import warnings\n",
    "warnings.simplefilter(action='ignore', category=FutureWarning)\n",
    "warnings.simplefilter(action='ignore', category=UserWarning)\n",
    "\n",
    "import numpy as np\n",
    "import scipy.stats as stats\n",
    "import pandas as pd\n",
    "import matplotlib.pyplot as plt\n",
    "import seaborn as sns\n",
    "%matplotlib inline"
   ]
  },
  {
   "cell_type": "code",
   "execution_count": 2,
   "id": "37bd700d-adcb-4ddc-bf6b-6f29c6de3600",
   "metadata": {},
   "outputs": [],
   "source": [
    "from sklearn.preprocessing import LabelEncoder\n",
    "from sklearn.model_selection import train_test_split\n",
    "from sklearn.linear_model import LinearRegression\n",
    "from sklearn.metrics import r2_score"
   ]
  },
  {
   "cell_type": "markdown",
   "id": "a165814b-3250-46f2-90e3-1b0fdc017c1c",
   "metadata": {},
   "source": [
    "## Exercise Set 2\n",
    "\n",
    "Due 9/24 10am\n",
    "\n",
    "15 points (1 point per question)\n",
    "\n",
    "Name your submission your_rcsid_Exercise2.ipynb"
   ]
  },
  {
   "cell_type": "markdown",
   "id": "bf408d9a-5a64-4ed7-bc68-db623fec9edc",
   "metadata": {},
   "source": [
    "### Linear regression\n",
    "\n",
    "Goal: Using the 'tips' dataset from the seaborn datasets, predict the total bill as a function of 'tips' and 'time'."
   ]
  },
  {
   "cell_type": "markdown",
   "id": "0d1608b1-a67a-4aae-94ee-59a82f86d1c5",
   "metadata": {},
   "source": [
    "#### 1) Load the 'tips' dataset from seaborn datasets. Display the last 5 rows"
   ]
  },
  {
   "cell_type": "code",
   "execution_count": 3,
   "id": "187d55e0-484a-49e0-a044-b4d8bb0b94a9",
   "metadata": {},
   "outputs": [
    {
     "data": {
      "text/html": [
       "<div>\n",
       "<style scoped>\n",
       "    .dataframe tbody tr th:only-of-type {\n",
       "        vertical-align: middle;\n",
       "    }\n",
       "\n",
       "    .dataframe tbody tr th {\n",
       "        vertical-align: top;\n",
       "    }\n",
       "\n",
       "    .dataframe thead th {\n",
       "        text-align: right;\n",
       "    }\n",
       "</style>\n",
       "<table border=\"1\" class=\"dataframe\">\n",
       "  <thead>\n",
       "    <tr style=\"text-align: right;\">\n",
       "      <th></th>\n",
       "      <th>total_bill</th>\n",
       "      <th>tip</th>\n",
       "      <th>sex</th>\n",
       "      <th>smoker</th>\n",
       "      <th>day</th>\n",
       "      <th>time</th>\n",
       "      <th>size</th>\n",
       "    </tr>\n",
       "  </thead>\n",
       "  <tbody>\n",
       "    <tr>\n",
       "      <th>239</th>\n",
       "      <td>29.03</td>\n",
       "      <td>5.92</td>\n",
       "      <td>Male</td>\n",
       "      <td>No</td>\n",
       "      <td>Sat</td>\n",
       "      <td>Dinner</td>\n",
       "      <td>3</td>\n",
       "    </tr>\n",
       "    <tr>\n",
       "      <th>240</th>\n",
       "      <td>27.18</td>\n",
       "      <td>2.00</td>\n",
       "      <td>Female</td>\n",
       "      <td>Yes</td>\n",
       "      <td>Sat</td>\n",
       "      <td>Dinner</td>\n",
       "      <td>2</td>\n",
       "    </tr>\n",
       "    <tr>\n",
       "      <th>241</th>\n",
       "      <td>22.67</td>\n",
       "      <td>2.00</td>\n",
       "      <td>Male</td>\n",
       "      <td>Yes</td>\n",
       "      <td>Sat</td>\n",
       "      <td>Dinner</td>\n",
       "      <td>2</td>\n",
       "    </tr>\n",
       "    <tr>\n",
       "      <th>242</th>\n",
       "      <td>17.82</td>\n",
       "      <td>1.75</td>\n",
       "      <td>Male</td>\n",
       "      <td>No</td>\n",
       "      <td>Sat</td>\n",
       "      <td>Dinner</td>\n",
       "      <td>2</td>\n",
       "    </tr>\n",
       "    <tr>\n",
       "      <th>243</th>\n",
       "      <td>18.78</td>\n",
       "      <td>3.00</td>\n",
       "      <td>Female</td>\n",
       "      <td>No</td>\n",
       "      <td>Thur</td>\n",
       "      <td>Dinner</td>\n",
       "      <td>2</td>\n",
       "    </tr>\n",
       "  </tbody>\n",
       "</table>\n",
       "</div>"
      ],
      "text/plain": [
       "     total_bill   tip     sex smoker   day    time  size\n",
       "239       29.03  5.92    Male     No   Sat  Dinner     3\n",
       "240       27.18  2.00  Female    Yes   Sat  Dinner     2\n",
       "241       22.67  2.00    Male    Yes   Sat  Dinner     2\n",
       "242       17.82  1.75    Male     No   Sat  Dinner     2\n",
       "243       18.78  3.00  Female     No  Thur  Dinner     2"
      ]
     },
     "execution_count": 3,
     "metadata": {},
     "output_type": "execute_result"
    }
   ],
   "source": [
    "# Your Code Here\n",
    "tips = sns.load_dataset(\"tips\")\n",
    "tips.tail()\n"
   ]
  },
  {
   "cell_type": "markdown",
   "id": "dbbeac22-f8c4-48dd-a8b6-280de909da8a",
   "metadata": {},
   "source": [
    "#### 2) Encode the 'time' variable using the pandas or sklearn function. Display the first 5 rows"
   ]
  },
  {
   "cell_type": "code",
   "execution_count": 4,
   "id": "127863e6-ac93-440a-9756-dbb49a3c393a",
   "metadata": {},
   "outputs": [
    {
     "data": {
      "text/html": [
       "<div>\n",
       "<style scoped>\n",
       "    .dataframe tbody tr th:only-of-type {\n",
       "        vertical-align: middle;\n",
       "    }\n",
       "\n",
       "    .dataframe tbody tr th {\n",
       "        vertical-align: top;\n",
       "    }\n",
       "\n",
       "    .dataframe thead th {\n",
       "        text-align: right;\n",
       "    }\n",
       "</style>\n",
       "<table border=\"1\" class=\"dataframe\">\n",
       "  <thead>\n",
       "    <tr style=\"text-align: right;\">\n",
       "      <th></th>\n",
       "      <th>total_bill</th>\n",
       "      <th>tip</th>\n",
       "      <th>sex</th>\n",
       "      <th>smoker</th>\n",
       "      <th>day</th>\n",
       "      <th>time</th>\n",
       "      <th>size</th>\n",
       "    </tr>\n",
       "  </thead>\n",
       "  <tbody>\n",
       "    <tr>\n",
       "      <th>0</th>\n",
       "      <td>16.99</td>\n",
       "      <td>1.01</td>\n",
       "      <td>Female</td>\n",
       "      <td>No</td>\n",
       "      <td>Sun</td>\n",
       "      <td>1</td>\n",
       "      <td>2</td>\n",
       "    </tr>\n",
       "    <tr>\n",
       "      <th>1</th>\n",
       "      <td>10.34</td>\n",
       "      <td>1.66</td>\n",
       "      <td>Male</td>\n",
       "      <td>No</td>\n",
       "      <td>Sun</td>\n",
       "      <td>1</td>\n",
       "      <td>3</td>\n",
       "    </tr>\n",
       "    <tr>\n",
       "      <th>2</th>\n",
       "      <td>21.01</td>\n",
       "      <td>3.50</td>\n",
       "      <td>Male</td>\n",
       "      <td>No</td>\n",
       "      <td>Sun</td>\n",
       "      <td>1</td>\n",
       "      <td>3</td>\n",
       "    </tr>\n",
       "    <tr>\n",
       "      <th>3</th>\n",
       "      <td>23.68</td>\n",
       "      <td>3.31</td>\n",
       "      <td>Male</td>\n",
       "      <td>No</td>\n",
       "      <td>Sun</td>\n",
       "      <td>1</td>\n",
       "      <td>2</td>\n",
       "    </tr>\n",
       "    <tr>\n",
       "      <th>4</th>\n",
       "      <td>24.59</td>\n",
       "      <td>3.61</td>\n",
       "      <td>Female</td>\n",
       "      <td>No</td>\n",
       "      <td>Sun</td>\n",
       "      <td>1</td>\n",
       "      <td>4</td>\n",
       "    </tr>\n",
       "  </tbody>\n",
       "</table>\n",
       "</div>"
      ],
      "text/plain": [
       "   total_bill   tip     sex smoker  day  time  size\n",
       "0       16.99  1.01  Female     No  Sun     1     2\n",
       "1       10.34  1.66    Male     No  Sun     1     3\n",
       "2       21.01  3.50    Male     No  Sun     1     3\n",
       "3       23.68  3.31    Male     No  Sun     1     2\n",
       "4       24.59  3.61  Female     No  Sun     1     4"
      ]
     },
     "execution_count": 4,
     "metadata": {},
     "output_type": "execute_result"
    }
   ],
   "source": [
    "# Your Code Here\n",
    "tips.loc[:,'time'] = pd.Categorical(tips['time']).codes\n",
    "tips.head()\n",
    "\n"
   ]
  },
  {
   "cell_type": "markdown",
   "id": "4e65d1c9-b945-4362-a476-7715a25a5735",
   "metadata": {},
   "source": [
    "#### 3) Create numpy arrays for the response and predictors. Display their shapes."
   ]
  },
  {
   "cell_type": "code",
   "execution_count": 5,
   "id": "eaf4b7a3-9b54-4a59-b07d-07a4fdf005c3",
   "metadata": {},
   "outputs": [
    {
     "data": {
      "text/plain": [
       "((244, 2), (244,))"
      ]
     },
     "execution_count": 5,
     "metadata": {},
     "output_type": "execute_result"
    }
   ],
   "source": [
    "# Your Code Here\n",
    "X = tips.loc[:, ['tip', 'time']].values\n",
    "y = tips.loc[:, 'total_bill'].values\n",
    "X.shape, y.shape\n",
    "\n"
   ]
  },
  {
   "cell_type": "markdown",
   "id": "9cc01939-fd5b-4a1c-8a8a-40c11dff215c",
   "metadata": {},
   "source": [
    "#### 4) Split the data into train and test sets. Use 25% of the data for the test set. Use random_state = 42. Display the shapes."
   ]
  },
  {
   "cell_type": "code",
   "execution_count": 6,
   "id": "f5720098-0396-47aa-b27d-8fafeefe1287",
   "metadata": {},
   "outputs": [
    {
     "data": {
      "text/plain": [
       "((183, 2), (61, 2), (183,), (61,))"
      ]
     },
     "execution_count": 6,
     "metadata": {},
     "output_type": "execute_result"
    }
   ],
   "source": [
    "# Your Code Here\n",
    "X_train, X_test, y_train, y_test = train_test_split(X, y, test_size = 0.25, random_state = 42)\n",
    "X_train.shape, X_test.shape, y_train.shape, y_test.shape\n"
   ]
  },
  {
   "cell_type": "markdown",
   "id": "b5dbc327-1ae0-4075-a3eb-82b096c6cea2",
   "metadata": {},
   "source": [
    "#### 5) Create a Linear Regression model. Display the parameters"
   ]
  },
  {
   "cell_type": "code",
   "execution_count": 7,
   "id": "9d4fb44d-9ec2-40c5-a022-c3c84395cd5e",
   "metadata": {},
   "outputs": [
    {
     "data": {
      "text/plain": [
       "{'copy_X': True,\n",
       " 'fit_intercept': True,\n",
       " 'n_jobs': None,\n",
       " 'normalize': False,\n",
       " 'positive': False}"
      ]
     },
     "execution_count": 7,
     "metadata": {},
     "output_type": "execute_result"
    }
   ],
   "source": [
    "# Your Code Here\n",
    "model = LinearRegression()\n",
    "model.get_params()\n"
   ]
  },
  {
   "cell_type": "markdown",
   "id": "01b591da-ce2a-4318-a410-1e481490d3be",
   "metadata": {},
   "source": [
    "#### 6) Fit the model to the training data. Display the intercept and coefficients."
   ]
  },
  {
   "cell_type": "code",
   "execution_count": 8,
   "id": "b19e2ef1-c28e-480e-bcb8-4c303ba5caef",
   "metadata": {},
   "outputs": [
    {
     "name": "stdout",
     "output_type": "stream",
     "text": [
      "Intercept: 5.6959709473794575 Slope: 4.008190889617314 \n"
     ]
    }
   ],
   "source": [
    "# Your Code Here\n",
    "model.fit(X_train, y_train)\n",
    "print(f'Intercept: {model.intercept_} Slope: {model.coef_[0]} ')\n"
   ]
  },
  {
   "cell_type": "markdown",
   "id": "2e4a5d50-2933-4eb9-a61b-5e326d5777b5",
   "metadata": {},
   "source": [
    "#### 7) Predict the test data. Display the shape of the predictions"
   ]
  },
  {
   "cell_type": "code",
   "execution_count": 9,
   "id": "71138fdd-67f4-4404-9b76-9a1498d0560b",
   "metadata": {},
   "outputs": [
    {
     "data": {
      "text/plain": [
       "(61,)"
      ]
     },
     "execution_count": 9,
     "metadata": {},
     "output_type": "execute_result"
    }
   ],
   "source": [
    "# Your Code Here\n",
    "yhat = model.predict(X_test)\n",
    "yhat.shape\n"
   ]
  },
  {
   "cell_type": "markdown",
   "id": "3a8e87fd-522d-4acf-a38a-3c8f881ab3f8",
   "metadata": {},
   "source": [
    "#### 8) Display the Coefficient of Determination for the test data."
   ]
  },
  {
   "cell_type": "code",
   "execution_count": 10,
   "id": "13b58e48-96d0-4554-bbce-92ffb4e5b5ef",
   "metadata": {},
   "outputs": [
    {
     "name": "stdout",
     "output_type": "stream",
     "text": [
      "R-squared: 0.4034681610306893\n"
     ]
    }
   ],
   "source": [
    "# Your Code Here\n",
    "print(f'R-squared: {model.score(X_test, y_test)}')\n"
   ]
  },
  {
   "cell_type": "markdown",
   "id": "e342436f-b0e4-4629-86e3-56a393e4e9ae",
   "metadata": {},
   "source": [
    "### Probability"
   ]
  },
  {
   "cell_type": "markdown",
   "id": "effe0bf8-1b96-4057-9f70-5997bad96c58",
   "metadata": {},
   "source": [
    "#### 9) Marginal, Joint and Conditional Probability\n",
    "\n",
    "Given:\n",
    "\n",
    "P(A,C) = P_AC = .2  \n",
    "P(B,D) = P_AC = .1   \n",
    "P(B) = P_B = .4  \n",
    "P(D) = P_D = .2  \n",
    "P(E) = P_E = .5\n",
    "\n",
    "\n",
    "\n",
    "|<i></i> |C      |D      |E      |<i></i>|\n",
    "|-------:|------:|:------|------:|------:|\n",
    "|A       |.2     |<i></i>|<i></i>|<i></i>|\n",
    "|B       |<i></i>| .1    |<i></i>| .4    |\n",
    "|<i></i> |<i></i>| .2    | .5    | 1.0\n",
    "\n",
    "What is:  \n",
    "P(A)  \n",
    "P(C)  \n",
    "P(A,D)   \n",
    "P(A,E)  \n",
    "P(B,C)  \n",
    "P(B,E)  "
   ]
  },
  {
   "cell_type": "code",
   "execution_count": 11,
   "id": "b191a1f9-cde6-4464-830a-f1b456bc2384",
   "metadata": {},
   "outputs": [
    {
     "name": "stdout",
     "output_type": "stream",
     "text": [
      "P(A) =  0.6\n",
      "P(C) =  0.30000000000000004\n",
      "P(A,D) =  0.1\n",
      "P(A,E) =  0.29999999999999993\n",
      "P(B,C) =  0.10000000000000003\n",
      "P(B,E) =  0.20000000000000007\n"
     ]
    }
   ],
   "source": [
    "P_AC = .2  \n",
    "P_BD = .1  \n",
    "P_B =.4  \n",
    "P_D = .2  \n",
    "P_E = .5  \n",
    "\n",
    "P_A =  1 - P_B# Your Code Here\n",
    "P_C =  1 - P_D - P_E# Your Code Here\n",
    "P_AD = P_D - P_BD# Your Code Here\n",
    "P_AE = P_A - P_AC - P_AD# Your Code Here\n",
    "P_BC = P_C - P_AC# Your Code Here\n",
    "P_BE = P_E - P_AE# Your Code Here\n",
    "\n",
    "print('P(A) = ', P_A)\n",
    "print('P(C) = ', P_C)\n",
    "print('P(A,D) = ', P_AD)\n",
    "print('P(A,E) = ', P_AE)\n",
    "print('P(B,C) = ', P_BC)\n",
    "print('P(B,E) = ', P_BE)\n",
    "\n"
   ]
  },
  {
   "cell_type": "markdown",
   "id": "d527cf8b-dfb5-4c87-aa62-803e6bad384a",
   "metadata": {},
   "source": [
    "#### 10) Independence:  Show B and E are independent. You can use either definition of independence."
   ]
  },
  {
   "cell_type": "code",
   "execution_count": 13,
   "id": "ae25bbb7-23d8-49d5-a16a-5445583bf0bc",
   "metadata": {},
   "outputs": [
    {
     "name": "stdout",
     "output_type": "stream",
     "text": [
      "B and E are independent:  True\n"
     ]
    }
   ],
   "source": [
    "# Your Code Here\n",
    "allowed_error = 0.000000000001\n",
    "print('B and E are independent: ',abs(P_BE - (P_B*P_E)) <= allowed_error)\n",
    "\n"
   ]
  },
  {
   "cell_type": "markdown",
   "id": "17b4e3da-69f0-4323-9475-c22f001bb0e9",
   "metadata": {},
   "source": [
    "#### 11) Likelihood function\n",
    "\n",
    "Using the PDF for a Normal distribution, plot the Likelihood for the mean (i.e. the loc parameter), fixing the standard deviation at 2.0 at the value 2.0. Print the Maximum Likelihood value. Hint: index likelihoods using output of np.argmax"
   ]
  },
  {
   "cell_type": "code",
   "execution_count": 17,
   "id": "ebc35aab-393e-4fc2-8b9f-c1e4044a85c7",
   "metadata": {},
   "outputs": [
    {
     "name": "stdout",
     "output_type": "stream",
     "text": [
      "The maximum likelihood value is:  0.19934652240131134\n"
     ]
    },
    {
     "data": {
      "image/png": "[encoded data removed]",
      "text/plain": [
       "<Figure size 432x288 with 1 Axes>"
      ]
     },
     "metadata": {
      "needs_background": "light"
     },
     "output_type": "display_data"
    }
   ],
   "source": [
    "# Your Code Here\n",
    "from scipy.stats import norm\n",
    "x = np.linspace(-7,7,100) # range to plot\n",
    "# Create a Noramally distributed random variable\n",
    "rv = norm(loc=0,scale=2.0) # fix to parameters: loc = mean, scale = standard deviation\n",
    "y = rv.pdf(x) # pdf method for\n",
    "plt.plot(x,y)\n",
    "plt.title(\"PDF of Normal(x,0.25)\")\n",
    "plt.xlabel(\"X\")\n",
    "plt.ylabel(\"Density\");\n",
    "print('The maximum likelihood value is: ',y[np.argmax(y)])\n"
   ]
  },
  {
   "cell_type": "markdown",
   "id": "b6c3e318-bf77-46c3-846a-0109f4bfb21c",
   "metadata": {},
   "source": [
    "#### 12) What is the expected value of a random variable Y = X**2 with the RV and  PMF given below. "
   ]
  },
  {
   "cell_type": "code",
   "execution_count": 24,
   "id": "eb8f4722-0062-4855-8633-cae204948254",
   "metadata": {},
   "outputs": [
    {
     "name": "stdout",
     "output_type": "stream",
     "text": [
      "The expected value is:  17.833333333333332\n"
     ]
    }
   ],
   "source": [
    "pmf = (1/6,0,1/3,1/6,0,1/3)\n",
    "X = np.array([1,2,3,4,5,6])\n",
    "\n",
    "# Your Code Here\n",
    "y = np.power(X, 2)\n",
    "expected_value = np.dot(y, np.array(list(pmf)))\n",
    "print(\"The expected value is: \", expected_value)\n"
   ]
  },
  {
   "cell_type": "markdown",
   "id": "ab4ebab2-78ee-49d0-9fbf-96f0db60fb4c",
   "metadata": {},
   "source": [
    "#### 13) What is the probability of exactly 10 heads in 20 flips of a coin that has a 70% bias for heads?"
   ]
  },
  {
   "cell_type": "code",
   "execution_count": 36,
   "id": "e7435742-ed8d-43aa-9f1c-719b3ae6127d",
   "metadata": {},
   "outputs": [
    {
     "name": "stdout",
     "output_type": "stream",
     "text": [
      "The probability is:  0.030817080900085014\n"
     ]
    }
   ],
   "source": [
    "# Your Code Here\n",
    "from scipy.stats import binom\n",
    "k, n, p = 10, 20, 0.7\n",
    "prob = binom.pmf(k, n, p)\n",
    "print('The probability is: ', prob)"
   ]
  },
  {
   "cell_type": "markdown",
   "id": "35f32bcd-4912-44fc-87fe-7e7238394a70",
   "metadata": {},
   "source": [
    "#### 14) Draw (i.e. generate) 100 samples from a Normal distribution with mean = 5, variance = 2. Display the mean and standard deviation of the samples."
   ]
  },
  {
   "cell_type": "code",
   "execution_count": 47,
   "id": "801ac336-4931-4a7b-b0a2-3c8f1295241d",
   "metadata": {},
   "outputs": [
    {
     "name": "stdout",
     "output_type": "stream",
     "text": [
      "mean:  4.8531388466960586\n",
      "standard deviation:  1.2779062521905578\n"
     ]
    }
   ],
   "source": [
    "np.random.seed(42)\n",
    "\n",
    "# Your Code Here\n",
    "c = np.random.normal(5, np.sqrt(2), 100)\n",
    "mean = np.mean(c)\n",
    "std = np.std(c)\n",
    "print('mean: ', mean)\n",
    "print(\"standard deviation: \", std)\n",
    "\n"
   ]
  },
  {
   "cell_type": "markdown",
   "id": "21c46271-8fa5-4d4e-814e-2718f5549416",
   "metadata": {},
   "source": [
    "#### 15) Repeat with 10000 samples."
   ]
  },
  {
   "cell_type": "code",
   "execution_count": 49,
   "id": "6134af8a-05be-4d3e-90a6-f2552f3f7126",
   "metadata": {},
   "outputs": [
    {
     "name": "stdout",
     "output_type": "stream",
     "text": [
      "mean:  4.996979263351368\n",
      "standard deviation:  1.4190391505597364\n"
     ]
    }
   ],
   "source": [
    "np.random.seed(42)\n",
    "\n",
    "# Your Code Here\n",
    "c = np.random.normal(5, np.sqrt(2), 10000)\n",
    "mean = np.mean(c)\n",
    "std = np.std(c)\n",
    "print('mean: ', mean)\n",
    "print(\"standard deviation: \", std)"
   ]
  },
  {
   "cell_type": "code",
   "execution_count": null,
   "id": "63ffe3da-ee33-4470-8db9-ab1712d53389",
   "metadata": {},
   "outputs": [],
   "source": []
  }
 ],
 "metadata": {
  "kernelspec": {
   "display_name": "Python 3 (ipykernel)",
   "language": "python",
   "name": "python3"
  },
  "language_info": {
   "codemirror_mode": {
    "name": "ipython",
    "version": 3
   },
   "file_extension": ".py",
   "mimetype": "text/x-python",
   "name": "python",
   "nbconvert_exporter": "python",
   "pygments_lexer": "ipython3",
   "version": "3.8.11"
  }
 },
 "nbformat": 4,
 "nbformat_minor": 5
}
