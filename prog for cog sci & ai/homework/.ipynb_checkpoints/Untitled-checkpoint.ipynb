{
 "cells": [
  {
   "cell_type": "markdown",
   "id": "0797813a",
   "metadata": {},
   "source": [
    "### Homework1\n",
    "\n",
    "#### 1. Model Statement and Data Collection\n",
    "\n",
    "The link to the dataset: https://www.kaggle.com/dragonheir/logistic-regression\n"
   ]
  },
  {
   "cell_type": "code",
   "execution_count": 59,
   "id": "488d4c5b",
   "metadata": {},
   "outputs": [],
   "source": [
    "import warnings\n",
    "warnings.simplefilter(action='ignore', category=FutureWarning)\n",
    "warnings.simplefilter(action='ignore', category=UserWarning)\n",
    "import numpy as np\n",
    "import scipy.stats as stats\n",
    "import pandas as pd\n",
    "import matplotlib.pyplot as plt\n",
    "import seaborn as sns\n",
    "\n",
    "from sklearn.preprocessing import LabelEncoder,StandardScaler\n",
    "from sklearn.model_selection import train_test_split\n",
    "from sklearn.linear_model import LogisticRegression\n",
    "from sklearn.metrics import confusion_matrix,roc_curve,auc\n",
    "%matplotlib inline"
   ]
  },
  {
   "cell_type": "markdown",
   "id": "422c27a0",
   "metadata": {},
   "source": [
    "##### The Dataset used in these models tells about whether a person of certain age having certain income purchases a product or not.\n",
    "##### We need to predict whether a targeted audience will purchase the product or not."
   ]
  },
  {
   "cell_type": "code",
   "execution_count": 60,
   "id": "089d192b",
   "metadata": {},
   "outputs": [],
   "source": [
    "social_dataset = pd.read_csv(\"Social_Network_Ads.csv\")"
   ]
  },
  {
   "cell_type": "markdown",
   "id": "9d9c2cb4",
   "metadata": {},
   "source": [
    "#### Read the head of the dataset"
   ]
  },
  {
   "cell_type": "code",
   "execution_count": 61,
   "id": "e6c2baa8",
   "metadata": {},
   "outputs": [
    {
     "data": {
      "text/html": [
       "<div>\n",
       "<style scoped>\n",
       "    .dataframe tbody tr th:only-of-type {\n",
       "        vertical-align: middle;\n",
       "    }\n",
       "\n",
       "    .dataframe tbody tr th {\n",
       "        vertical-align: top;\n",
       "    }\n",
       "\n",
       "    .dataframe thead th {\n",
       "        text-align: right;\n",
       "    }\n",
       "</style>\n",
       "<table border=\"1\" class=\"dataframe\">\n",
       "  <thead>\n",
       "    <tr style=\"text-align: right;\">\n",
       "      <th></th>\n",
       "      <th>User ID</th>\n",
       "      <th>Gender</th>\n",
       "      <th>Age</th>\n",
       "      <th>EstimatedSalary</th>\n",
       "      <th>Purchased</th>\n",
       "    </tr>\n",
       "  </thead>\n",
       "  <tbody>\n",
       "    <tr>\n",
       "      <th>0</th>\n",
       "      <td>15624510</td>\n",
       "      <td>Male</td>\n",
       "      <td>19</td>\n",
       "      <td>19000</td>\n",
       "      <td>0</td>\n",
       "    </tr>\n",
       "    <tr>\n",
       "      <th>1</th>\n",
       "      <td>15810944</td>\n",
       "      <td>Male</td>\n",
       "      <td>35</td>\n",
       "      <td>20000</td>\n",
       "      <td>0</td>\n",
       "    </tr>\n",
       "    <tr>\n",
       "      <th>2</th>\n",
       "      <td>15668575</td>\n",
       "      <td>Female</td>\n",
       "      <td>26</td>\n",
       "      <td>43000</td>\n",
       "      <td>0</td>\n",
       "    </tr>\n",
       "    <tr>\n",
       "      <th>3</th>\n",
       "      <td>15603246</td>\n",
       "      <td>Female</td>\n",
       "      <td>27</td>\n",
       "      <td>57000</td>\n",
       "      <td>0</td>\n",
       "    </tr>\n",
       "    <tr>\n",
       "      <th>4</th>\n",
       "      <td>15804002</td>\n",
       "      <td>Male</td>\n",
       "      <td>19</td>\n",
       "      <td>76000</td>\n",
       "      <td>0</td>\n",
       "    </tr>\n",
       "  </tbody>\n",
       "</table>\n",
       "</div>"
      ],
      "text/plain": [
       "    User ID  Gender  Age  EstimatedSalary  Purchased\n",
       "0  15624510    Male   19            19000          0\n",
       "1  15810944    Male   35            20000          0\n",
       "2  15668575  Female   26            43000          0\n",
       "3  15603246  Female   27            57000          0\n",
       "4  15804002    Male   19            76000          0"
      ]
     },
     "execution_count": 61,
     "metadata": {},
     "output_type": "execute_result"
    }
   ],
   "source": [
    "social_dataset.head()"
   ]
  },
  {
   "cell_type": "markdown",
   "id": "56499af3",
   "metadata": {},
   "source": [
    "##### Read the tail of the dataset"
   ]
  },
  {
   "cell_type": "code",
   "execution_count": 62,
   "id": "d7c92ca2",
   "metadata": {},
   "outputs": [
    {
     "data": {
      "text/html": [
       "<div>\n",
       "<style scoped>\n",
       "    .dataframe tbody tr th:only-of-type {\n",
       "        vertical-align: middle;\n",
       "    }\n",
       "\n",
       "    .dataframe tbody tr th {\n",
       "        vertical-align: top;\n",
       "    }\n",
       "\n",
       "    .dataframe thead th {\n",
       "        text-align: right;\n",
       "    }\n",
       "</style>\n",
       "<table border=\"1\" class=\"dataframe\">\n",
       "  <thead>\n",
       "    <tr style=\"text-align: right;\">\n",
       "      <th></th>\n",
       "      <th>User ID</th>\n",
       "      <th>Gender</th>\n",
       "      <th>Age</th>\n",
       "      <th>EstimatedSalary</th>\n",
       "      <th>Purchased</th>\n",
       "    </tr>\n",
       "  </thead>\n",
       "  <tbody>\n",
       "    <tr>\n",
       "      <th>395</th>\n",
       "      <td>15691863</td>\n",
       "      <td>Female</td>\n",
       "      <td>46</td>\n",
       "      <td>41000</td>\n",
       "      <td>1</td>\n",
       "    </tr>\n",
       "    <tr>\n",
       "      <th>396</th>\n",
       "      <td>15706071</td>\n",
       "      <td>Male</td>\n",
       "      <td>51</td>\n",
       "      <td>23000</td>\n",
       "      <td>1</td>\n",
       "    </tr>\n",
       "    <tr>\n",
       "      <th>397</th>\n",
       "      <td>15654296</td>\n",
       "      <td>Female</td>\n",
       "      <td>50</td>\n",
       "      <td>20000</td>\n",
       "      <td>1</td>\n",
       "    </tr>\n",
       "    <tr>\n",
       "      <th>398</th>\n",
       "      <td>15755018</td>\n",
       "      <td>Male</td>\n",
       "      <td>36</td>\n",
       "      <td>33000</td>\n",
       "      <td>0</td>\n",
       "    </tr>\n",
       "    <tr>\n",
       "      <th>399</th>\n",
       "      <td>15594041</td>\n",
       "      <td>Female</td>\n",
       "      <td>49</td>\n",
       "      <td>36000</td>\n",
       "      <td>1</td>\n",
       "    </tr>\n",
       "  </tbody>\n",
       "</table>\n",
       "</div>"
      ],
      "text/plain": [
       "      User ID  Gender  Age  EstimatedSalary  Purchased\n",
       "395  15691863  Female   46            41000          1\n",
       "396  15706071    Male   51            23000          1\n",
       "397  15654296  Female   50            20000          1\n",
       "398  15755018    Male   36            33000          0\n",
       "399  15594041  Female   49            36000          1"
      ]
     },
     "execution_count": 62,
     "metadata": {},
     "output_type": "execute_result"
    }
   ],
   "source": [
    "social_dataset.tail()"
   ]
  },
  {
   "cell_type": "markdown",
   "id": "863cccab",
   "metadata": {},
   "source": [
    "#### 2. Exploratory Data Analysis and Data Preprocessing\n",
    "\n",
    "##### The brief description of the variables:\n",
    "\n",
    "User ID: each user has ID to difference he/she from others, no two different users have the same ID.\n",
    "\n",
    "Gender: male/Female\n",
    "\n",
    "Age: The year that this person live in the world\n",
    "\n",
    "EstimatedSalary: how much money this person can earn\n",
    "\n",
    "Purchased: whether this person purchased or not"
   ]
  },
  {
   "cell_type": "markdown",
   "id": "fc88f83e",
   "metadata": {},
   "source": [
    "##### The dependent variable is Purchased, which is categorical type. The independent variables are Age, which is quantitative."
   ]
  },
  {
   "cell_type": "markdown",
   "id": "58b7131d",
   "metadata": {},
   "source": [
    "##### Check for missing values"
   ]
  },
  {
   "cell_type": "code",
   "execution_count": 63,
   "id": "ec4c96f4",
   "metadata": {},
   "outputs": [
    {
     "data": {
      "text/plain": [
       "User ID            0\n",
       "Gender             0\n",
       "Age                0\n",
       "EstimatedSalary    0\n",
       "Purchased          0\n",
       "dtype: int64"
      ]
     },
     "execution_count": 63,
     "metadata": {},
     "output_type": "execute_result"
    }
   ],
   "source": [
    "np.sum(social_dataset.isnull())"
   ]
  },
  {
   "cell_type": "markdown",
   "id": "59472d1f",
   "metadata": {},
   "source": [
    "##### Drop null values, even though we do not have any null value"
   ]
  },
  {
   "cell_type": "code",
   "execution_count": 64,
   "id": "08ce9f3c",
   "metadata": {},
   "outputs": [
    {
     "data": {
      "text/plain": [
       "User ID            0\n",
       "Gender             0\n",
       "Age                0\n",
       "EstimatedSalary    0\n",
       "Purchased          0\n",
       "dtype: int64"
      ]
     },
     "execution_count": 64,
     "metadata": {},
     "output_type": "execute_result"
    }
   ],
   "source": [
    "social_dataset = social_dataset.dropna()\n",
    "np.sum(social_dataset.isnull())"
   ]
  },
  {
   "cell_type": "markdown",
   "id": "658f52bf",
   "metadata": {},
   "source": [
    "##### Descriptive statistics"
   ]
  },
  {
   "cell_type": "code",
   "execution_count": 65,
   "id": "ac6655cc",
   "metadata": {},
   "outputs": [
    {
     "data": {
      "text/html": [
       "<div>\n",
       "<style scoped>\n",
       "    .dataframe tbody tr th:only-of-type {\n",
       "        vertical-align: middle;\n",
       "    }\n",
       "\n",
       "    .dataframe tbody tr th {\n",
       "        vertical-align: top;\n",
       "    }\n",
       "\n",
       "    .dataframe thead th {\n",
       "        text-align: right;\n",
       "    }\n",
       "</style>\n",
       "<table border=\"1\" class=\"dataframe\">\n",
       "  <thead>\n",
       "    <tr style=\"text-align: right;\">\n",
       "      <th></th>\n",
       "      <th>User ID</th>\n",
       "      <th>Age</th>\n",
       "      <th>EstimatedSalary</th>\n",
       "      <th>Purchased</th>\n",
       "    </tr>\n",
       "  </thead>\n",
       "  <tbody>\n",
       "    <tr>\n",
       "      <th>count</th>\n",
       "      <td>4.000000e+02</td>\n",
       "      <td>400.000000</td>\n",
       "      <td>400.000000</td>\n",
       "      <td>400.000000</td>\n",
       "    </tr>\n",
       "    <tr>\n",
       "      <th>mean</th>\n",
       "      <td>1.569154e+07</td>\n",
       "      <td>37.655000</td>\n",
       "      <td>69742.500000</td>\n",
       "      <td>0.357500</td>\n",
       "    </tr>\n",
       "    <tr>\n",
       "      <th>std</th>\n",
       "      <td>7.165832e+04</td>\n",
       "      <td>10.482877</td>\n",
       "      <td>34096.960282</td>\n",
       "      <td>0.479864</td>\n",
       "    </tr>\n",
       "    <tr>\n",
       "      <th>min</th>\n",
       "      <td>1.556669e+07</td>\n",
       "      <td>18.000000</td>\n",
       "      <td>15000.000000</td>\n",
       "      <td>0.000000</td>\n",
       "    </tr>\n",
       "    <tr>\n",
       "      <th>25%</th>\n",
       "      <td>1.562676e+07</td>\n",
       "      <td>29.750000</td>\n",
       "      <td>43000.000000</td>\n",
       "      <td>0.000000</td>\n",
       "    </tr>\n",
       "    <tr>\n",
       "      <th>50%</th>\n",
       "      <td>1.569434e+07</td>\n",
       "      <td>37.000000</td>\n",
       "      <td>70000.000000</td>\n",
       "      <td>0.000000</td>\n",
       "    </tr>\n",
       "    <tr>\n",
       "      <th>75%</th>\n",
       "      <td>1.575036e+07</td>\n",
       "      <td>46.000000</td>\n",
       "      <td>88000.000000</td>\n",
       "      <td>1.000000</td>\n",
       "    </tr>\n",
       "    <tr>\n",
       "      <th>max</th>\n",
       "      <td>1.581524e+07</td>\n",
       "      <td>60.000000</td>\n",
       "      <td>150000.000000</td>\n",
       "      <td>1.000000</td>\n",
       "    </tr>\n",
       "  </tbody>\n",
       "</table>\n",
       "</div>"
      ],
      "text/plain": [
       "            User ID         Age  EstimatedSalary   Purchased\n",
       "count  4.000000e+02  400.000000       400.000000  400.000000\n",
       "mean   1.569154e+07   37.655000     69742.500000    0.357500\n",
       "std    7.165832e+04   10.482877     34096.960282    0.479864\n",
       "min    1.556669e+07   18.000000     15000.000000    0.000000\n",
       "25%    1.562676e+07   29.750000     43000.000000    0.000000\n",
       "50%    1.569434e+07   37.000000     70000.000000    0.000000\n",
       "75%    1.575036e+07   46.000000     88000.000000    1.000000\n",
       "max    1.581524e+07   60.000000    150000.000000    1.000000"
      ]
     },
     "execution_count": 65,
     "metadata": {},
     "output_type": "execute_result"
    }
   ],
   "source": [
    "social_dataset.describe()"
   ]
  },
  {
   "cell_type": "markdown",
   "id": "ed5596f5",
   "metadata": {},
   "source": [
    "##### Visualize the data"
   ]
  },
  {
   "cell_type": "code",
   "execution_count": null,
   "id": "c98d2f17",
   "metadata": {},
   "outputs": [],
   "source": []
  },
  {
   "cell_type": "markdown",
   "id": "4ea57973",
   "metadata": {},
   "source": [
    "##### correlation of variables"
   ]
  },
  {
   "cell_type": "code",
   "execution_count": 66,
   "id": "c5a8e235",
   "metadata": {},
   "outputs": [
    {
     "data": {
      "text/html": [
       "<div>\n",
       "<style scoped>\n",
       "    .dataframe tbody tr th:only-of-type {\n",
       "        vertical-align: middle;\n",
       "    }\n",
       "\n",
       "    .dataframe tbody tr th {\n",
       "        vertical-align: top;\n",
       "    }\n",
       "\n",
       "    .dataframe thead th {\n",
       "        text-align: right;\n",
       "    }\n",
       "</style>\n",
       "<table border=\"1\" class=\"dataframe\">\n",
       "  <thead>\n",
       "    <tr style=\"text-align: right;\">\n",
       "      <th></th>\n",
       "      <th>User ID</th>\n",
       "      <th>Age</th>\n",
       "      <th>EstimatedSalary</th>\n",
       "      <th>Purchased</th>\n",
       "    </tr>\n",
       "  </thead>\n",
       "  <tbody>\n",
       "    <tr>\n",
       "      <th>User ID</th>\n",
       "      <td>1.000000</td>\n",
       "      <td>-0.000721</td>\n",
       "      <td>0.071097</td>\n",
       "      <td>0.007120</td>\n",
       "    </tr>\n",
       "    <tr>\n",
       "      <th>Age</th>\n",
       "      <td>-0.000721</td>\n",
       "      <td>1.000000</td>\n",
       "      <td>0.155238</td>\n",
       "      <td>0.622454</td>\n",
       "    </tr>\n",
       "    <tr>\n",
       "      <th>EstimatedSalary</th>\n",
       "      <td>0.071097</td>\n",
       "      <td>0.155238</td>\n",
       "      <td>1.000000</td>\n",
       "      <td>0.362083</td>\n",
       "    </tr>\n",
       "    <tr>\n",
       "      <th>Purchased</th>\n",
       "      <td>0.007120</td>\n",
       "      <td>0.622454</td>\n",
       "      <td>0.362083</td>\n",
       "      <td>1.000000</td>\n",
       "    </tr>\n",
       "  </tbody>\n",
       "</table>\n",
       "</div>"
      ],
      "text/plain": [
       "                  User ID       Age  EstimatedSalary  Purchased\n",
       "User ID          1.000000 -0.000721         0.071097   0.007120\n",
       "Age             -0.000721  1.000000         0.155238   0.622454\n",
       "EstimatedSalary  0.071097  0.155238         1.000000   0.362083\n",
       "Purchased        0.007120  0.622454         0.362083   1.000000"
      ]
     },
     "execution_count": 66,
     "metadata": {},
     "output_type": "execute_result"
    }
   ],
   "source": [
    "social_dataset.corr()"
   ]
  },
  {
   "cell_type": "markdown",
   "id": "2a09e5f0",
   "metadata": {},
   "source": [
    "##### In addition to the code there should be some brief statements of your interpretation of the statistics and the plots. For example, you may notice a non-linear relationship."
   ]
  },
  {
   "cell_type": "code",
   "execution_count": null,
   "id": "113ea3b0",
   "metadata": {},
   "outputs": [],
   "source": []
  },
  {
   "cell_type": "markdown",
   "id": "8aeb66e2",
   "metadata": {},
   "source": [
    "##### encode the qualitative variables"
   ]
  },
  {
   "cell_type": "code",
   "execution_count": 67,
   "id": "8091f07a",
   "metadata": {},
   "outputs": [],
   "source": [
    "y =  LabelEncoder().fit_transform(social_dataset.Gender)"
   ]
  },
  {
   "cell_type": "markdown",
   "id": "153a6d22",
   "metadata": {},
   "source": [
    "##### split the dataset into training and test sets"
   ]
  },
  {
   "cell_type": "code",
   "execution_count": 68,
   "id": "94bb6db6",
   "metadata": {},
   "outputs": [
    {
     "data": {
      "text/plain": [
       "((320, 1), (80, 1), (320,), (80,))"
      ]
     },
     "execution_count": 68,
     "metadata": {},
     "output_type": "execute_result"
    }
   ],
   "source": [
    "X = social_dataset.loc[:,'Age'].values.reshape(-1, 1)\n",
    "y = social_dataset.Purchased.values\n",
    "\n",
    "X_train, X_test, y_train, y_test = train_test_split(X, y, test_size = 0.2, stratify = y, random_state = 42)\n",
    "X_train.shape, X_test.shape, y_train.shape, y_test.shape"
   ]
  },
  {
   "cell_type": "markdown",
   "id": "10762347",
   "metadata": {},
   "source": [
    "##### scale the variables or statement why no need to scale."
   ]
  },
  {
   "cell_type": "code",
   "execution_count": null,
   "id": "ea97d42c",
   "metadata": {},
   "outputs": [],
   "source": []
  },
  {
   "cell_type": "markdown",
   "id": "124cbfea",
   "metadata": {},
   "source": [
    "#### Applying the algorithms"
   ]
  },
  {
   "cell_type": "markdown",
   "id": "cd34cfd9",
   "metadata": {},
   "source": [
    "##### create the model and fit to training data"
   ]
  },
  {
   "cell_type": "code",
   "execution_count": 69,
   "id": "c5674197",
   "metadata": {},
   "outputs": [
    {
     "data": {
      "text/plain": [
       "LogisticRegression(random_state=42)"
      ]
     },
     "execution_count": 69,
     "metadata": {},
     "output_type": "execute_result"
    }
   ],
   "source": [
    "model = LogisticRegression(random_state = 42)\n",
    "model.fit(X_train, y_train)"
   ]
  },
  {
   "cell_type": "markdown",
   "id": "07ae2fa3",
   "metadata": {},
   "source": [
    "##### display the coefficients"
   ]
  },
  {
   "cell_type": "code",
   "execution_count": 70,
   "id": "a2599900",
   "metadata": {},
   "outputs": [
    {
     "name": "stdout",
     "output_type": "stream",
     "text": [
      "Intercept: -7.515, Coefficient: 0.1778\n"
     ]
    }
   ],
   "source": [
    "print(f'Intercept: {np.round(model.intercept_[0],3)}, Coefficient: {np.round(model.coef_[0,0],4)}')"
   ]
  },
  {
   "cell_type": "markdown",
   "id": "07aa1ad2",
   "metadata": {},
   "source": [
    "##### Text to interpret the coefficients"
   ]
  },
  {
   "cell_type": "code",
   "execution_count": null,
   "id": "0440bb74",
   "metadata": {},
   "outputs": [],
   "source": []
  },
  {
   "cell_type": "markdown",
   "id": "67225fa0",
   "metadata": {},
   "source": [
    "##### predict to test set"
   ]
  },
  {
   "cell_type": "code",
   "execution_count": 71,
   "id": "2af13f0c",
   "metadata": {},
   "outputs": [],
   "source": [
    "y_pred = model.predict(X_test)"
   ]
  },
  {
   "cell_type": "markdown",
   "id": "b7656d69",
   "metadata": {},
   "source": [
    "#### 4. Results\n",
    "\n",
    "##### display the confusion matrix for the test and the training data"
   ]
  },
  {
   "cell_type": "code",
   "execution_count": 72,
   "id": "f972ad93",
   "metadata": {},
   "outputs": [
    {
     "name": "stdout",
     "output_type": "stream",
     "text": [
      "Confusion Matrix for Test Data:\n",
      "[[48  3]\n",
      " [ 6 23]]\n"
     ]
    }
   ],
   "source": [
    "cm = confusion_matrix(y_test, y_pred)\n",
    "print(\"Confusion Matrix for Test Data:\")\n",
    "print(cm)"
   ]
  },
  {
   "cell_type": "markdown",
   "id": "212f6972",
   "metadata": {},
   "source": [
    "##### calculate the accuracy, precision,recall and F1 of the test data"
   ]
  },
  {
   "cell_type": "markdown",
   "id": "6918c4d7",
   "metadata": {},
   "source": [
    "##### Accuracy: tp+tn/(tp+tn+fp+fn)\n",
    "\n",
    "Accuracy is the probability of correct classification"
   ]
  },
  {
   "cell_type": "code",
   "execution_count": 74,
   "id": "0e93a0e5",
   "metadata": {},
   "outputs": [
    {
     "data": {
      "text/plain": [
       "0.8875"
      ]
     },
     "execution_count": 74,
     "metadata": {},
     "output_type": "execute_result"
    }
   ],
   "source": [
    "def accuracy(cm):\n",
    "    return np.trace(cm) / np.sum(cm)\n",
    "\n",
    "accuracy(cm)"
   ]
  },
  {
   "cell_type": "markdown",
   "id": "fa6dd994",
   "metadata": {},
   "source": [
    "##### Precision: tp/(tp+fp)\n",
    "\n",
    "Precision is the ability of the model not mislabel a true positive. "
   ]
  },
  {
   "cell_type": "code",
   "execution_count": 76,
   "id": "07a0c68d",
   "metadata": {},
   "outputs": [
    {
     "data": {
      "text/plain": [
       "0.8846153846153846"
      ]
     },
     "execution_count": 76,
     "metadata": {},
     "output_type": "execute_result"
    }
   ],
   "source": [
    "def precision(cm):\n",
    "    return cm[1, 1]/(cm[1, 1] + cm[0, 1])\n",
    "precision(cm)"
   ]
  },
  {
   "cell_type": "markdown",
   "id": "d3303ee9",
   "metadata": {},
   "source": [
    "##### Recall: tp/(tp+fn)\n",
    "\n",
    "Recall is the ability of the model to find all positive cases"
   ]
  },
  {
   "cell_type": "code",
   "execution_count": 77,
   "id": "a3138329",
   "metadata": {},
   "outputs": [
    {
     "data": {
      "text/plain": [
       "0.7931034482758621"
      ]
     },
     "execution_count": 77,
     "metadata": {},
     "output_type": "execute_result"
    }
   ],
   "source": [
    "def recall(cm):\n",
    "    return cm[1, 1] / (cm[1, 1] + cm[1, 0])\n",
    "recall(cm)"
   ]
  },
  {
   "cell_type": "markdown",
   "id": "92f65afb",
   "metadata": {},
   "source": [
    "##### $F_1$ score (also called the F-score)\n",
    "\n",
    "F_1 is the Harmonic mean of precision and recall. The Harmonic mean is used to average rates.\n",
    "\n",
    "$$F_1 = \\frac{2}{recall^{-1} + precision^{-1}} = \\frac{tp}{tp+\\frac{1}{2}(fp+fn)}$$"
   ]
  },
  {
   "cell_type": "code",
   "execution_count": 78,
   "id": "6e359c2a",
   "metadata": {},
   "outputs": [
    {
     "data": {
      "text/plain": [
       "0.8363636363636363"
      ]
     },
     "execution_count": 78,
     "metadata": {},
     "output_type": "execute_result"
    }
   ],
   "source": [
    "def F1(cm):\n",
    "    tp, fp, fn = cm[1, 1], cm[0, 1], cm[1, 0]\n",
    "    return tp/(tp + 1/2 * (fp + fn))\n",
    "F1(cm)"
   ]
  },
  {
   "cell_type": "markdown",
   "id": "07c50876",
   "metadata": {},
   "source": [
    "##### display a ROC curve and calculate the AUC"
   ]
  },
  {
   "cell_type": "code",
   "execution_count": 81,
   "id": "002a6cfd",
   "metadata": {},
   "outputs": [],
   "source": [
    "y_pred_probs = model.predict_proba(X_test)\n",
    "\n",
    "fpr, tpr, thresholds = roc_curve(y_test, y_pred_probs[:,1])\n",
    "\n",
    "roc_auc = auc(fpr, tpr)"
   ]
  },
  {
   "cell_type": "code",
   "execution_count": 82,
   "id": "ff59f0ae",
   "metadata": {},
   "outputs": [
    {
     "data": {
      "image/png": "[encoded data removed]",
      "text/plain": [
       "<Figure size 432x288 with 1 Axes>"
      ]
     },
     "metadata": {
      "needs_background": "light"
     },
     "output_type": "display_data"
    }
   ],
   "source": [
    "plt.title('Receiver Operating Characteristic')\n",
    "plt.plot(fpr, tpr, 'b', label = 'AUC = %0.2f' % roc_auc)\n",
    "plt.legend(loc = 'lower right')\n",
    "plt.plot([0, 1], [0, 1],'r--')\n",
    "plt.xlim([0, 1])\n",
    "plt.ylim([0, 1])\n",
    "plt.ylabel('True Positive Rate')\n",
    "plt.xlabel('False Positive Rate');"
   ]
  },
  {
   "cell_type": "markdown",
   "id": "b1b50b82",
   "metadata": {},
   "source": [
    "##### Provide an explanation and interpretation of the results"
   ]
  },
  {
   "cell_type": "code",
   "execution_count": null,
   "id": "8d5cd42a",
   "metadata": {},
   "outputs": [],
   "source": [
    "import scikitplot as skplt\n",
    "skplt.metrics.plot_roc_curve(y_test, y_pred_probs,figsize=(10,6));"
   ]
  }
 ],
 "metadata": {
  "kernelspec": {
   "display_name": "Python 3 (ipykernel)",
   "language": "python",
   "name": "python3"
  },
  "language_info": {
   "codemirror_mode": {
    "name": "ipython",
    "version": 3
   },
   "file_extension": ".py",
   "mimetype": "text/x-python",
   "name": "python",
   "nbconvert_exporter": "python",
   "pygments_lexer": "ipython3",
   "version": "3.8.11"
  }
 },
 "nbformat": 4,
 "nbformat_minor": 5
}
