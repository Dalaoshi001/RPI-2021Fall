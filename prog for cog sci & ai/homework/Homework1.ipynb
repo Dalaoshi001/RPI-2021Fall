{
 "cells": [
  {
   "cell_type": "markdown",
   "metadata": {},
   "source": [
    "### Homework 1\n",
    "\n",
    "Due 10/5 10am\n",
    "\n",
    "50 pts\n",
    "\n",
    "Work must be submitted as a jupyter notebook with code and markdown sections.\n",
    "\n",
    "This must be solely your work.\n",
    "\n",
    "The title of the notebook must be: rcsid_Homework1 (Note: your rcsid is 6 characters not your RIN)\n",
    "\n",
    "This homework is intended to give you experience with real-world datasets for a Classification task.\n",
    "\n",
    "You are applying for a Data Analytics job. The company asks you for a Portfolio containing an analysis of a Classification dataset of your choosing. In addition to the code you should use text boxes and comments to tell the reader what you are doing and why if you expect to get the job.\n",
    "\n",
    "#### Find and download the datasets. \n",
    "\n",
    "The datasets should be on a topic that interests you although this is not strictly a requirement.  \n",
    "Your submission must contain: \n",
    "\n",
    "#### 1. Model Statement and Data Collection\n",
    "\n",
    "A link to the datasets.   \n",
    "A statement about the goal of the model. What do you want to predict or explain?   \n",
    "The datasets should have three or more variables.   \n",
    "Code to read in the datasets and display the beginning and ending observations.   \n",
    "\n",
    "Total 5 pts."
   ]
  },
  {
   "cell_type": "markdown",
   "metadata": {},
   "source": [
    "#### 2. Exploratory Data Analysis and Data Preprocessing\n",
    "\n",
    "Your submission must contain:\n",
    "\n",
    "A brief description of the variables. What is the dependent variables? What are the independent variables?\n",
    "Is the variable a quantitative or qualitative (i.e. categorical)?\n",
    "\n",
    "Code to check for missing values and process them as needed.\n",
    "\n",
    "Code for descriptive statistics.\n",
    "\n",
    "Code for visualizations.\n",
    "\n",
    "Code for correlations of variables. \n",
    "\n",
    "In addition to the code there should be some brief statements of your interpretation of the statistics and the plots. For example, you may notice a non-linear relationship.\n",
    "\n",
    "Code to encode the qualitative variables if needed.\n",
    "\n",
    "Code to split the dataset into training and test sets.\n",
    "\n",
    "Code to scale the variables  or statement why no need to scale.\n",
    "\n",
    "Total 18 pts "
   ]
  },
  {
   "cell_type": "markdown",
   "metadata": {},
   "source": [
    "#### 3) Applying the algorithms\n",
    "\n",
    "Your submission must contain:\n",
    "\n",
    "Code to create the model and fit to training data. \n",
    "\n",
    "Code to display the coefficients\n",
    "\n",
    "Text to interpret the coefficients\n",
    "\n",
    "Code to predict to test set.\n",
    "\n",
    "Total 12 pts. "
   ]
  },
  {
   "cell_type": "markdown",
   "metadata": {},
   "source": [
    "#### 4. Results\n",
    "\n",
    "Your submission must contain:\n",
    "\n",
    "Code to display the confusion matrix for the test and the training data.\n",
    "\n",
    "Code to calculate the accuracy, precision,recall and F1 of the test data. \n",
    "\n",
    "Code to display a ROC curve and calculate the AUC. \n",
    "\n",
    "Provide an explanation and interpretation of the results.\n",
    "\n",
    "\n",
    "Total 15 points \n",
    "\n",
    "Total 50 pts "
   ]
  }
 ],
 "metadata": {
  "kernelspec": {
   "display_name": "Python 3 (ipykernel)",
   "language": "python",
   "name": "python3"
  },
  "language_info": {
   "codemirror_mode": {
    "name": "ipython",
    "version": 3
   },
   "file_extension": ".py",
   "mimetype": "text/x-python",
   "name": "python",
   "nbconvert_exporter": "python",
   "pygments_lexer": "ipython3",
   "version": "3.8.12"
  },
  "varInspector": {
   "cols": {
    "lenName": 16,
    "lenType": 16,
    "lenVar": 40
   },
   "kernels_config": {
    "python": {
     "delete_cmd_postfix": "",
     "delete_cmd_prefix": "del ",
     "library": "var_list.py",
     "varRefreshCmd": "print(var_dic_list())"
    },
    "r": {
     "delete_cmd_postfix": ") ",
     "delete_cmd_prefix": "rm(",
     "library": "var_list.r",
     "varRefreshCmd": "cat(var_dic_list()) "
    }
   },
   "types_to_exclude": [
    "module",
    "function",
    "builtin_function_or_method",
    "instance",
    "_Feature"
   ],
   "window_display": false
  }
 },
 "nbformat": 4,
 "nbformat_minor": 4
}
