{
 "cells": [
  {
   "cell_type": "markdown",
   "metadata": {},
   "source": [
    "Exam 1\n",
    "\n",
    "100 points, points for each question are in () after the question #\n",
    "\n",
    "6 questions, some have several parts. \n",
    "\n",
    "Be sure to execute your code blocks to display your answer\n",
    "\n",
    "Be sure to execute the code blocks that contain code and datasets I provided. \n",
    "\n",
    "Rename this notebook: your_rcsid_Exam.ipynb\n",
    "\n",
    "(your rcsid is 6 characters)\n"
   ]
  },
  {
   "cell_type": "code",
   "execution_count": 1,
   "metadata": {},
   "outputs": [],
   "source": [
    "import numpy as np\n",
    "import pandas as pd\n",
    "import matplotlib.pyplot as plt\n",
    "import seaborn as sns\n",
    "import scipy.stats as stats\n",
    "%matplotlib inline"
   ]
  },
  {
   "cell_type": "markdown",
   "metadata": {},
   "source": [
    "### 1. (15) Probability \n",
    "\n",
    "#### 1a. (10) Given:\n",
    "P(A,D) = .2  \n",
    "P(A,E) = .3  \n",
    "P(B,E) = .1  \n",
    "P(B) = .3  \n",
    "P(C,D) = .1  "
   ]
  },
  {
   "cell_type": "markdown",
   "metadata": {},
   "source": [
    "|<i></i> |D|E| <i></i>|\n",
    "|-----:|-----:|:----|:----|\n",
    "|A  |.2  | .3   | <i></i>|\n",
    "|B  | <i></i>   | .1   | .3 |\n",
    "|C  |.1  |  <i></i>    | <i></i> |\n",
    "| <i></i>  | <i></i>   |  <i></i>    | 1.0"
   ]
  },
  {
   "cell_type": "markdown",
   "metadata": {},
   "source": [
    "What is:  \n",
    "P(A)  \n",
    "P(B,D)   \n",
    "P(C,E)  \n",
    "P(C)  \n",
    "P(C|D)"
   ]
  },
  {
   "cell_type": "code",
   "execution_count": 2,
   "metadata": {},
   "outputs": [],
   "source": [
    "P_AD = .2\n",
    "P_AE = .3\n",
    "P_BE = .1\n",
    "P_B = .3\n",
    "P_CD = .1"
   ]
  },
  {
   "cell_type": "code",
   "execution_count": 3,
   "metadata": {},
   "outputs": [],
   "source": [
    "P_A = .5\n",
    "P_BD = .2\n",
    "P_CE = .1\n",
    "P_C = .2\n",
    "P_C_D = .2"
   ]
  },
  {
   "cell_type": "code",
   "execution_count": 4,
   "metadata": {},
   "outputs": [
    {
     "name": "stdout",
     "output_type": "stream",
     "text": [
      "P(A) =  0.5\n",
      "P(B,D) =  0.2\n",
      "P(C,E) =  0.1\n",
      "P(C) =  0.2\n",
      "P(C|D) =  0.2\n"
     ]
    }
   ],
   "source": [
    "print('P(A) = ', P_A)\n",
    "print('P(B,D) = ', P_BD)\n",
    "print('P(C,E) = ', P_CE)\n",
    "print('P(C) = ', P_C)\n",
    "print('P(C|D) = ', P_C_D)"
   ]
  },
  {
   "cell_type": "markdown",
   "metadata": {},
   "source": [
    "#### 1b. (2) Show C and D are independent.\n"
   ]
  },
  {
   "cell_type": "code",
   "execution_count": 5,
   "metadata": {},
   "outputs": [
    {
     "data": {
      "text/plain": [
       "True"
      ]
     },
     "execution_count": 5,
     "metadata": {},
     "output_type": "execute_result"
    }
   ],
   "source": [
    "P_D = P_AD+P_BD+P_CD\n",
    "np.isclose(P_CD,P_C*P_D)\n"
   ]
  },
  {
   "cell_type": "markdown",
   "metadata": {},
   "source": [
    "#### 1c. (3) What is the expected value of a die with the PMF given below. "
   ]
  },
  {
   "cell_type": "code",
   "execution_count": 6,
   "metadata": {},
   "outputs": [
    {
     "name": "stdout",
     "output_type": "stream",
     "text": [
      "0.638888888888889\n"
     ]
    }
   ],
   "source": [
    "pmf = (1/6,0,1/3,1/6,0,1/3)\n",
    "\n",
    "expectation = np.mean([pmf[i] * (i+1) for i in range(6)])\n",
    "print(expectation)"
   ]
  },
  {
   "cell_type": "markdown",
   "metadata": {},
   "source": [
    "### 2. (20) Linear Regression \n",
    "\n",
    "Sample of 78 bluegills. Age and length of the fish."
   ]
  },
  {
   "cell_type": "code",
   "execution_count": 7,
   "metadata": {},
   "outputs": [
    {
     "data": {
      "text/html": [
       "<div>\n",
       "<style scoped>\n",
       "    .dataframe tbody tr th:only-of-type {\n",
       "        vertical-align: middle;\n",
       "    }\n",
       "\n",
       "    .dataframe tbody tr th {\n",
       "        vertical-align: top;\n",
       "    }\n",
       "\n",
       "    .dataframe thead th {\n",
       "        text-align: right;\n",
       "    }\n",
       "</style>\n",
       "<table border=\"1\" class=\"dataframe\">\n",
       "  <thead>\n",
       "    <tr style=\"text-align: right;\">\n",
       "      <th></th>\n",
       "      <th>age</th>\n",
       "      <th>length</th>\n",
       "    </tr>\n",
       "  </thead>\n",
       "  <tbody>\n",
       "    <tr>\n",
       "      <th>73</th>\n",
       "      <td>6</td>\n",
       "      <td>170</td>\n",
       "    </tr>\n",
       "    <tr>\n",
       "      <th>74</th>\n",
       "      <td>4</td>\n",
       "      <td>160</td>\n",
       "    </tr>\n",
       "    <tr>\n",
       "      <th>75</th>\n",
       "      <td>5</td>\n",
       "      <td>180</td>\n",
       "    </tr>\n",
       "    <tr>\n",
       "      <th>76</th>\n",
       "      <td>4</td>\n",
       "      <td>160</td>\n",
       "    </tr>\n",
       "    <tr>\n",
       "      <th>77</th>\n",
       "      <td>4</td>\n",
       "      <td>170</td>\n",
       "    </tr>\n",
       "  </tbody>\n",
       "</table>\n",
       "</div>"
      ],
      "text/plain": [
       "    age  length\n",
       "73    6     170\n",
       "74    4     160\n",
       "75    5     180\n",
       "76    4     160\n",
       "77    4     170"
      ]
     },
     "execution_count": 7,
     "metadata": {},
     "output_type": "execute_result"
    }
   ],
   "source": [
    "bg_df  = pd.read_csv('bluegill.csv')\n",
    "bg_df.tail()\n"
   ]
  },
  {
   "cell_type": "markdown",
   "metadata": {},
   "source": [
    "#### 2a. (3) Create a scatterplot of length as a function of age"
   ]
  },
  {
   "cell_type": "code",
   "execution_count": 8,
   "metadata": {},
   "outputs": [
    {
     "data": {
      "image/png": "[encoded data removed]",
      "text/plain": [
       "<Figure size 432x288 with 1 Axes>"
      ]
     },
     "metadata": {
      "needs_background": "light"
     },
     "output_type": "display_data"
    }
   ],
   "source": [
    "xlabel,ylabel = 'age','length'\n",
    "plt.scatter(bg_df.age, bg_df.length, color = 'red')\n",
    "plt.title(f'scatterplot of length as a function of age')\n",
    "plt.xlabel(xlabel)\n",
    "plt.ylabel(ylabel);\n",
    "\n"
   ]
  },
  {
   "cell_type": "markdown",
   "metadata": {},
   "source": [
    "#### 2b. (9) \n",
    "Using a simple Linear Regression model of length as a function of age, output the Coefficient of Determination and the correlation of age and length. They should be equal.\n",
    "\n"
   ]
  },
  {
   "cell_type": "code",
   "execution_count": 9,
   "metadata": {},
   "outputs": [
    {
     "name": "stdout",
     "output_type": "stream",
     "text": [
      "0.734882147178252\n",
      "0.734882147178252\n"
     ]
    }
   ],
   "source": [
    "from sklearn.model_selection import train_test_split\n",
    "from sklearn.linear_model import LinearRegression\n",
    "from sklearn.metrics import r2_score\n",
    "\n",
    "def residuals(y,yhat):\n",
    "    return y - yhat\n",
    "\n",
    "def rss(y,yhat):\n",
    "    return(np.sum(residuals(y,yhat)**2))\n",
    "\n",
    "def tss(y):\n",
    "    return(np.sum((y - np.mean(y))**2))\n",
    "\n",
    "def R_squared(y,yhat):\n",
    "    return(1 - (rss(y,yhat)/tss(y)))\n",
    "\n",
    "X=bg_df.age.values.reshape(-1,1)\n",
    "y=bg_df.length.values\n",
    "\n",
    "model = LinearRegression().fit(X,y)\n",
    "ypred = model.predict(X)\n",
    "\n",
    "\n",
    "print(R_squared(y,ypred))\n",
    "print(model.score(X, y))"
   ]
  },
  {
   "cell_type": "markdown",
   "metadata": {},
   "source": [
    "#### 2c.(8) Plot the data with the best fitting line. The title is the linear equation (replace ???? with your code)."
   ]
  },
  {
   "cell_type": "code",
   "execution_count": 10,
   "metadata": {},
   "outputs": [
    {
     "data": {
      "image/png": "[encoded data removed]",
      "text/plain": [
       "<Figure size 432x288 with 1 Axes>"
      ]
     },
     "metadata": {
      "needs_background": "light"
     },
     "output_type": "display_data"
    }
   ],
   "source": [
    "# Your Code Here\n",
    "# Your Code Here\n",
    "X_test = np.array([X.min(),X.max()]).reshape(-1,1)\n",
    "yhat = model.predict(X_test)\n",
    "\n",
    "plt.scatter(X, y, color = 'red')\n",
    "plt.plot(X_test, yhat, color = 'blue')\n",
    "plt.title('Regression Line')\n",
    "\n",
    "plt.title(f'y = {model.coef_[0].round(2)}x + {model.intercept_.round(2)}');"
   ]
  },
  {
   "cell_type": "markdown",
   "metadata": {},
   "source": [
    "### 3. (20) Classification"
   ]
  },
  {
   "cell_type": "code",
   "execution_count": 11,
   "metadata": {},
   "outputs": [],
   "source": [
    "from sklearn.model_selection import train_test_split\n",
    "from sklearn.preprocessing import LabelEncoder\n",
    "from sklearn.preprocessing import StandardScaler\n"
   ]
  },
  {
   "cell_type": "code",
   "execution_count": 12,
   "metadata": {},
   "outputs": [
    {
     "data": {
      "text/html": [
       "<div>\n",
       "<style scoped>\n",
       "    .dataframe tbody tr th:only-of-type {\n",
       "        vertical-align: middle;\n",
       "    }\n",
       "\n",
       "    .dataframe tbody tr th {\n",
       "        vertical-align: top;\n",
       "    }\n",
       "\n",
       "    .dataframe thead th {\n",
       "        text-align: right;\n",
       "    }\n",
       "</style>\n",
       "<table border=\"1\" class=\"dataframe\">\n",
       "  <thead>\n",
       "    <tr style=\"text-align: right;\">\n",
       "      <th></th>\n",
       "      <th>species</th>\n",
       "      <th>island</th>\n",
       "      <th>bill_length_mm</th>\n",
       "      <th>bill_depth_mm</th>\n",
       "      <th>flipper_length_mm</th>\n",
       "      <th>body_mass_g</th>\n",
       "      <th>sex</th>\n",
       "    </tr>\n",
       "  </thead>\n",
       "  <tbody>\n",
       "    <tr>\n",
       "      <th>0</th>\n",
       "      <td>Adelie</td>\n",
       "      <td>Torgersen</td>\n",
       "      <td>39.1</td>\n",
       "      <td>18.7</td>\n",
       "      <td>181.0</td>\n",
       "      <td>3750.0</td>\n",
       "      <td>Male</td>\n",
       "    </tr>\n",
       "    <tr>\n",
       "      <th>1</th>\n",
       "      <td>Adelie</td>\n",
       "      <td>Torgersen</td>\n",
       "      <td>39.5</td>\n",
       "      <td>17.4</td>\n",
       "      <td>186.0</td>\n",
       "      <td>3800.0</td>\n",
       "      <td>Female</td>\n",
       "    </tr>\n",
       "    <tr>\n",
       "      <th>2</th>\n",
       "      <td>Adelie</td>\n",
       "      <td>Torgersen</td>\n",
       "      <td>40.3</td>\n",
       "      <td>18.0</td>\n",
       "      <td>195.0</td>\n",
       "      <td>3250.0</td>\n",
       "      <td>Female</td>\n",
       "    </tr>\n",
       "    <tr>\n",
       "      <th>4</th>\n",
       "      <td>Adelie</td>\n",
       "      <td>Torgersen</td>\n",
       "      <td>36.7</td>\n",
       "      <td>19.3</td>\n",
       "      <td>193.0</td>\n",
       "      <td>3450.0</td>\n",
       "      <td>Female</td>\n",
       "    </tr>\n",
       "    <tr>\n",
       "      <th>5</th>\n",
       "      <td>Adelie</td>\n",
       "      <td>Torgersen</td>\n",
       "      <td>39.3</td>\n",
       "      <td>20.6</td>\n",
       "      <td>190.0</td>\n",
       "      <td>3650.0</td>\n",
       "      <td>Male</td>\n",
       "    </tr>\n",
       "  </tbody>\n",
       "</table>\n",
       "</div>"
      ],
      "text/plain": [
       "  species     island  bill_length_mm  bill_depth_mm  flipper_length_mm  \\\n",
       "0  Adelie  Torgersen            39.1           18.7              181.0   \n",
       "1  Adelie  Torgersen            39.5           17.4              186.0   \n",
       "2  Adelie  Torgersen            40.3           18.0              195.0   \n",
       "4  Adelie  Torgersen            36.7           19.3              193.0   \n",
       "5  Adelie  Torgersen            39.3           20.6              190.0   \n",
       "\n",
       "   body_mass_g     sex  \n",
       "0       3750.0    Male  \n",
       "1       3800.0  Female  \n",
       "2       3250.0  Female  \n",
       "4       3450.0  Female  \n",
       "5       3650.0    Male  "
      ]
     },
     "execution_count": 12,
     "metadata": {},
     "output_type": "execute_result"
    }
   ],
   "source": [
    "penguins = sns.load_dataset('penguins')\n",
    "penguins.dropna(inplace=True)\n",
    "penguins.head()"
   ]
  },
  {
   "cell_type": "code",
   "execution_count": 13,
   "metadata": {},
   "outputs": [
    {
     "name": "stdout",
     "output_type": "stream",
     "text": [
      "(266, 2) (67, 2) (266,) (67,)\n"
     ]
    }
   ],
   "source": [
    "np.random.seed(1234)\n",
    "\n",
    "X = penguins.iloc[:,[2,3]].values\n",
    "y = penguins.species.values\n",
    "labelencoder = LabelEncoder()\n",
    "y = labelencoder.fit_transform(y)\n",
    "\n",
    "X_train, X_test, y_train, y_test = train_test_split(X, y, \n",
    "                                                    test_size = 0.2,\n",
    "                                                    random_state = 1234,\n",
    "                                                    stratify = y) ####\n",
    "print(X_train.shape, X_test.shape, y_train.shape, y_test.shape)"
   ]
  },
  {
   "cell_type": "markdown",
   "metadata": {},
   "source": [
    "#### 3a.(2) Scale the data with standard scaling"
   ]
  },
  {
   "cell_type": "code",
   "execution_count": 14,
   "metadata": {},
   "outputs": [],
   "source": [
    "sc = StandardScaler()\n",
    "scaler = StandardScaler()\n",
    "scaler = scaler.fit(X)\n",
    "X_scale = scaler.transform(X)"
   ]
  },
  {
   "cell_type": "markdown",
   "metadata": {},
   "source": [
    "#### 3b. (6) Create a Multinomial Regression model and output the accuracy of the test data"
   ]
  },
  {
   "cell_type": "code",
   "execution_count": 15,
   "metadata": {},
   "outputs": [
    {
     "name": "stdout",
     "output_type": "stream",
     "text": [
      "Accuracy: 0.9402985074626866\n"
     ]
    }
   ],
   "source": [
    "from sklearn.linear_model import LogisticRegression\n",
    "from sklearn.metrics import confusion_matrix\n",
    "\n",
    "clf = LogisticRegression().fit(X_train, y_train)\n",
    "ypred = clf.predict(X_test)\n",
    "\n",
    "def accuracy(cm):\n",
    "    return np.trace(cm)/np.sum(cm)\n",
    "\n",
    "cm = confusion_matrix(y_test, ypred)\n",
    "print(f'Accuracy: {accuracy(cm)}')\n",
    "\n",
    "\n",
    "\n"
   ]
  },
  {
   "cell_type": "markdown",
   "metadata": {},
   "source": [
    "#### 3c. (6)\n",
    "Create a Support Vector Machine Classifier with a linear kernel. Set the probability keyword to True. Output the accuracy"
   ]
  },
  {
   "cell_type": "code",
   "execution_count": 16,
   "metadata": {},
   "outputs": [
    {
     "name": "stdout",
     "output_type": "stream",
     "text": [
      "Accuracy: 0.9402985074626866\n"
     ]
    }
   ],
   "source": [
    "from sklearn.svm import SVC\n",
    "\n",
    "clf = SVC(kernel = 'linear', probability = True).fit(X_train, y_train)\n",
    "ypred = clf.predict(X_test)\n",
    "\n",
    "def accuracy(cm):\n",
    "    return np.trace(cm)/np.sum(cm)\n",
    "\n",
    "cm = confusion_matrix(y_test, ypred)\n",
    "print(f'Accuracy: {accuracy(cm)}')"
   ]
  },
  {
   "cell_type": "markdown",
   "metadata": {},
   "source": [
    "#### 3d. (4)\n",
    "\n",
    "Using the SVM Classifier predict a new observation with bill_length_mm = 50 and bill_depth_mm = 15.0"
   ]
  },
  {
   "cell_type": "code",
   "execution_count": 17,
   "metadata": {},
   "outputs": [
    {
     "name": "stdout",
     "output_type": "stream",
     "text": [
      "The prediction is Gentoo\n"
     ]
    }
   ],
   "source": [
    "sample = np.array([50, 15]).reshape(-1,2)\n",
    "sample_pred = clf.predict(sample)\n",
    "print(f'The prediction is {labelencoder.inverse_transform(sample_pred)[0]}')"
   ]
  },
  {
   "cell_type": "markdown",
   "metadata": {},
   "source": [
    "#### 3e. (2) \n",
    "Using the SVM Classifier, what is the probability of the new observation is class 0."
   ]
  },
  {
   "cell_type": "code",
   "execution_count": 18,
   "metadata": {},
   "outputs": [
    {
     "name": "stdout",
     "output_type": "stream",
     "text": [
      "The probability of being class 0 is 0.0009417815377945327\n"
     ]
    }
   ],
   "source": [
    "prob = clf.predict_proba(sample)\n",
    "prob0 = prob[0,0]\n",
    "print(f'The probability of being class 0 is {prob0}')\n"
   ]
  },
  {
   "cell_type": "markdown",
   "metadata": {},
   "source": [
    "### 4. (16) PyTorch\n",
    "\n",
    "4a. (6) Fill in the ???? with your code to create an linear input layer with 8 nodes and an linear output layer with 1 node"
   ]
  },
  {
   "cell_type": "code",
   "execution_count": 19,
   "metadata": {},
   "outputs": [
    {
     "data": {
      "text/plain": [
       "Model(\n",
       "  (input): Linear(in_features=1, out_features=8, bias=True)\n",
       "  (output): Linear(in_features=8, out_features=1, bias=True)\n",
       ")"
      ]
     },
     "execution_count": 19,
     "metadata": {},
     "output_type": "execute_result"
    }
   ],
   "source": [
    "from sklearn.preprocessing import MinMaxScaler\n",
    "import torch\n",
    "import torch.nn as nn\n",
    "\n",
    "x=bg_df.age.values.reshape(-1,1)\n",
    "y=bg_df.length.values.reshape(-1,1)\n",
    "scalerx = MinMaxScaler()\n",
    "x=scalerx.fit_transform(x)\n",
    "scalery = MinMaxScaler()\n",
    "y=scalery.fit_transform(y)\n",
    "\n",
    "x_t=torch.from_numpy(x.astype(np.float32))\n",
    "y_t=torch.from_numpy(y.astype(np.float32))\n",
    "\n",
    "class Model(nn.Module):\n",
    "    def __init__(self,num_in,num_out):\n",
    "        super(Model, self).__init__()\n",
    "        self.input =  nn.Linear(num_in, 8)  \n",
    "        self.output = nn.Linear(8, num_out)  \n",
    "        \n",
    "    def forward(self,input):\n",
    "        return (self.output(self.input(input)))\n",
    "    \n",
    "model = Model(x_t.shape[1],1) \n",
    "model"
   ]
  },
  {
   "cell_type": "markdown",
   "metadata": {},
   "source": [
    "4b. (4) \n",
    "Fill in ???? to create a Mean Squared error loss and a Stochastic Gradient Descent optimizer with learning rate of .1"
   ]
  },
  {
   "cell_type": "code",
   "execution_count": 20,
   "metadata": {},
   "outputs": [
    {
     "data": {
      "text/plain": [
       "SGD (\n",
       "Parameter Group 0\n",
       "    dampening: 0\n",
       "    lr: 0.1\n",
       "    momentum: 0\n",
       "    nesterov: False\n",
       "    weight_decay: 0\n",
       ")"
      ]
     },
     "execution_count": 20,
     "metadata": {},
     "output_type": "execute_result"
    }
   ],
   "source": [
    "criterion = nn.MSELoss() \n",
    "optimizer = torch.optim.SGD(model.parameters(), lr=0.1) \n",
    "optimizer"
   ]
  },
  {
   "cell_type": "markdown",
   "metadata": {},
   "source": [
    "#### 4c.(4) Fill in the ???? to complete the training loop"
   ]
  },
  {
   "cell_type": "code",
   "execution_count": 21,
   "metadata": {},
   "outputs": [
    {
     "name": "stdout",
     "output_type": "stream",
     "text": [
      "Epoch 1/10, Train Loss: 1.5018\n",
      "Epoch 2/10, Train Loss: 0.0512\n",
      "Epoch 3/10, Train Loss: 0.0458\n",
      "Epoch 4/10, Train Loss: 0.0450\n",
      "Epoch 5/10, Train Loss: 0.0442\n",
      "Epoch 6/10, Train Loss: 0.0434\n",
      "Epoch 7/10, Train Loss: 0.0427\n",
      "Epoch 8/10, Train Loss: 0.0419\n",
      "Epoch 9/10, Train Loss: 0.0412\n",
      "Epoch 10/10, Train Loss: 0.0405\n"
     ]
    }
   ],
   "source": [
    "torch.manual_seed(1)\n",
    "\n",
    "n_epochs = 10\n",
    "\n",
    "train_losses = np.zeros(n_epochs)\n",
    "\n",
    "for i in range(n_epochs):\n",
    "\n",
    "    optimizer.zero_grad()  # zero the parameter gradients\n",
    "    outputs = model(x_t) # Forward pass \n",
    "    loss = criterion(outputs, y_t) # Calculate loss\n",
    "    loss.backward()     # Backward pass\n",
    "    optimizer.step()       # Update weights\n",
    "    train_losses[i] = loss.item() # Log loss\n",
    "    \n",
    "    \n",
    "    print(f'Epoch {i+1}/{n_epochs}, Train Loss: {loss.item():.4f}')"
   ]
  },
  {
   "cell_type": "markdown",
   "metadata": {},
   "source": [
    "#### 4d. (2) Fill in the ???? to predict  new value for age of 3.5."
   ]
  },
  {
   "cell_type": "code",
   "execution_count": 22,
   "metadata": {},
   "outputs": [
    {
     "data": {
      "text/plain": [
       "array([[144.07303]], dtype=float32)"
      ]
     },
     "execution_count": 22,
     "metadata": {},
     "output_type": "execute_result"
    }
   ],
   "source": [
    "x_new = scalerx.transform(np.array([3.5],dtype=np.float32).reshape(-1,1))\n",
    "x_new = torch.from_numpy(x_new)\n",
    "pred = model(x_new)\n",
    "y_pred = pred.detach().numpy()\n",
    "scalery.inverse_transform(y_pred.reshape(-1,1))"
   ]
  },
  {
   "cell_type": "markdown",
   "metadata": {},
   "source": [
    "### 5. (11) Linear Algebra"
   ]
  },
  {
   "cell_type": "markdown",
   "metadata": {},
   "source": [
    "#### 5a. (5) Given the matrix M.  \n",
    "Show that the sum of the eigenvalues equals the trace of the matrix."
   ]
  },
  {
   "cell_type": "code",
   "execution_count": 23,
   "metadata": {},
   "outputs": [
    {
     "name": "stdout",
     "output_type": "stream",
     "text": [
      "The trace is 20\n",
      "The sum of eigen-value is 19.999999999999993\n"
     ]
    }
   ],
   "source": [
    "M = np.array([[1,2,3],[17,14,2],[8,8,5]])\n",
    "\n",
    "print(f'The trace is {np.trace(M)}')\n",
    "print(f'The sum of eigen-value is {np.linalg.eig(M)[0].sum()}')\n",
    "\n",
    "\n"
   ]
  },
  {
   "cell_type": "markdown",
   "metadata": {},
   "source": [
    "#### 5b. (6)"
   ]
  },
  {
   "cell_type": "code",
   "execution_count": 24,
   "metadata": {},
   "outputs": [
    {
     "data": {
      "text/html": [
       "<div>\n",
       "<style scoped>\n",
       "    .dataframe tbody tr th:only-of-type {\n",
       "        vertical-align: middle;\n",
       "    }\n",
       "\n",
       "    .dataframe tbody tr th {\n",
       "        vertical-align: top;\n",
       "    }\n",
       "\n",
       "    .dataframe thead th {\n",
       "        text-align: right;\n",
       "    }\n",
       "</style>\n",
       "<table border=\"1\" class=\"dataframe\">\n",
       "  <thead>\n",
       "    <tr style=\"text-align: right;\">\n",
       "      <th></th>\n",
       "      <th>mpg</th>\n",
       "      <th>cylinders</th>\n",
       "      <th>displacement</th>\n",
       "      <th>horsepower</th>\n",
       "      <th>weight</th>\n",
       "      <th>acceleration</th>\n",
       "      <th>model_year</th>\n",
       "      <th>origin</th>\n",
       "      <th>name</th>\n",
       "    </tr>\n",
       "  </thead>\n",
       "  <tbody>\n",
       "    <tr>\n",
       "      <th>393</th>\n",
       "      <td>27.0</td>\n",
       "      <td>4</td>\n",
       "      <td>140.0</td>\n",
       "      <td>86.0</td>\n",
       "      <td>2790</td>\n",
       "      <td>15.6</td>\n",
       "      <td>82</td>\n",
       "      <td>usa</td>\n",
       "      <td>ford mustang gl</td>\n",
       "    </tr>\n",
       "    <tr>\n",
       "      <th>394</th>\n",
       "      <td>44.0</td>\n",
       "      <td>4</td>\n",
       "      <td>97.0</td>\n",
       "      <td>52.0</td>\n",
       "      <td>2130</td>\n",
       "      <td>24.6</td>\n",
       "      <td>82</td>\n",
       "      <td>europe</td>\n",
       "      <td>vw pickup</td>\n",
       "    </tr>\n",
       "    <tr>\n",
       "      <th>395</th>\n",
       "      <td>32.0</td>\n",
       "      <td>4</td>\n",
       "      <td>135.0</td>\n",
       "      <td>84.0</td>\n",
       "      <td>2295</td>\n",
       "      <td>11.6</td>\n",
       "      <td>82</td>\n",
       "      <td>usa</td>\n",
       "      <td>dodge rampage</td>\n",
       "    </tr>\n",
       "    <tr>\n",
       "      <th>396</th>\n",
       "      <td>28.0</td>\n",
       "      <td>4</td>\n",
       "      <td>120.0</td>\n",
       "      <td>79.0</td>\n",
       "      <td>2625</td>\n",
       "      <td>18.6</td>\n",
       "      <td>82</td>\n",
       "      <td>usa</td>\n",
       "      <td>ford ranger</td>\n",
       "    </tr>\n",
       "    <tr>\n",
       "      <th>397</th>\n",
       "      <td>31.0</td>\n",
       "      <td>4</td>\n",
       "      <td>119.0</td>\n",
       "      <td>82.0</td>\n",
       "      <td>2720</td>\n",
       "      <td>19.4</td>\n",
       "      <td>82</td>\n",
       "      <td>usa</td>\n",
       "      <td>chevy s-10</td>\n",
       "    </tr>\n",
       "  </tbody>\n",
       "</table>\n",
       "</div>"
      ],
      "text/plain": [
       "      mpg  cylinders  displacement  horsepower  weight  acceleration  \\\n",
       "393  27.0          4         140.0        86.0    2790          15.6   \n",
       "394  44.0          4          97.0        52.0    2130          24.6   \n",
       "395  32.0          4         135.0        84.0    2295          11.6   \n",
       "396  28.0          4         120.0        79.0    2625          18.6   \n",
       "397  31.0          4         119.0        82.0    2720          19.4   \n",
       "\n",
       "     model_year  origin             name  \n",
       "393          82     usa  ford mustang gl  \n",
       "394          82  europe        vw pickup  \n",
       "395          82     usa    dodge rampage  \n",
       "396          82     usa      ford ranger  \n",
       "397          82     usa       chevy s-10  "
      ]
     },
     "execution_count": 24,
     "metadata": {},
     "output_type": "execute_result"
    }
   ],
   "source": [
    "mpg = sns.load_dataset('mpg',data_home='./seaborn-data')\n",
    "mpg.tail()"
   ]
  },
  {
   "cell_type": "markdown",
   "metadata": {},
   "source": [
    "Show that for Linear Regression there is a closed form solution for the parameters by showing that evaluating the Normal equation produces the same parameters as a Linear Regression model. You can just print them to visually compare them."
   ]
  },
  {
   "cell_type": "code",
   "execution_count": 25,
   "metadata": {},
   "outputs": [
    {
     "data": {
      "text/plain": [
       "((398, 3), (398,))"
      ]
     },
     "execution_count": 25,
     "metadata": {},
     "output_type": "execute_result"
    }
   ],
   "source": [
    "# Create the Design Matrix\n",
    "\n",
    "X=np.ones((mpg.mpg.size,3))\n",
    "X[:,[1,2]] = mpg.loc[:,['displacement','weight']].values\n",
    "y = mpg.mpg.values\n",
    "X.shape,y.shape"
   ]
  },
  {
   "cell_type": "code",
   "execution_count": 26,
   "metadata": {},
   "outputs": [
    {
     "name": "stdout",
     "output_type": "stream",
     "text": [
      "The coefficients of linear regression model are (array([ 0.        , -0.01635835, -0.00579774]), 43.90046375787347)\n",
      "\n",
      "The coefficients of normal equation are [ 4.39004638e+01 -1.63583529e-02 -5.79774419e-03]\n"
     ]
    }
   ],
   "source": [
    "# Your Code Here\n",
    "from sklearn.linear_model import LinearRegression\n",
    "from sklearn.metrics import r2_score\n",
    "\n",
    "reg = LinearRegression().fit(X, y)\n",
    "\n",
    "print(f'The coefficients of linear regression model are {reg.coef_, reg.intercept_}\\n')\n",
    "\n",
    "print(f'The coefficients of normal equation are {np.linalg.inv(X.T@X)@X.T@y}')\n"
   ]
  },
  {
   "cell_type": "markdown",
   "metadata": {},
   "source": [
    "### 6. (18) Short Answer\n",
    "\n",
    "Replace ???? with your answer"
   ]
  },
  {
   "cell_type": "markdown",
   "metadata": {},
   "source": [
    "a. The coefficients of Logistic Regression represent"
   ]
  },
  {
   "cell_type": "markdown",
   "metadata": {},
   "source": [
    "The linear coefficient of the logit model"
   ]
  },
  {
   "cell_type": "markdown",
   "metadata": {},
   "source": [
    "b. The Dot product is a measure of "
   ]
  },
  {
   "cell_type": "markdown",
   "metadata": {},
   "source": [
    "distance or similarity"
   ]
  },
  {
   "cell_type": "markdown",
   "metadata": {},
   "source": [
    "c. Which of the following are assumptions of the Ordinary Least Squares Method of Linear Regression:\n",
    "\n",
    "a. The errors have constant variance.  \n",
    "b. The distribution of the errors has mean 0.  \n",
    "c. The errors are independent.   \n",
    "d. The errors are correlated with the predictors."
   ]
  },
  {
   "cell_type": "markdown",
   "metadata": {},
   "source": [
    "abc"
   ]
  },
  {
   "cell_type": "markdown",
   "metadata": {},
   "source": [
    "d. The middle line of a plot box represents the"
   ]
  },
  {
   "cell_type": "markdown",
   "metadata": {},
   "source": [
    "median"
   ]
  },
  {
   "cell_type": "markdown",
   "metadata": {},
   "source": [
    "e. Given:  \n",
    "y = stats.norm.pdf(2.0)  \n",
    "True or False: y is the probability of a Normal random variable at the value 2.0"
   ]
  },
  {
   "cell_type": "markdown",
   "metadata": {},
   "source": [
    "False, it is the probability density"
   ]
  },
  {
   "cell_type": "markdown",
   "metadata": {},
   "source": [
    "f. A high Precision value means your model "
   ]
  },
  {
   "cell_type": "markdown",
   "metadata": {},
   "source": [
    "is accurate on all the predictions it made."
   ]
  },
  {
   "cell_type": "code",
   "execution_count": 27,
   "metadata": {},
   "outputs": [],
   "source": [
    "#Given:\n",
    "v2 = stats.norm.rvs(loc=0,scale = 5,size = 1000)  \n",
    "a,b = np.var(v2),np.var(v2,ddof=1)"
   ]
  },
  {
   "cell_type": "markdown",
   "metadata": {},
   "source": [
    "g. Which one is the sample variance"
   ]
  },
  {
   "cell_type": "markdown",
   "metadata": {},
   "source": [
    "b is the sample vairance as it allows degree of freedom = 1"
   ]
  },
  {
   "cell_type": "markdown",
   "metadata": {},
   "source": [
    "h. The sigmoid activation function is no longer the most popular method for a hidden layer because "
   ]
  },
  {
   "cell_type": "markdown",
   "metadata": {},
   "source": [
    "it leads to gradient vanishing"
   ]
  },
  {
   "cell_type": "markdown",
   "metadata": {},
   "source": [
    "i. The output of the softmax function sums to 1 because"
   ]
  },
  {
   "cell_type": "markdown",
   "metadata": {},
   "source": [
    "All the possibilities of the numerator sums to the denomiator."
   ]
  }
 ],
 "metadata": {
  "kernelspec": {
   "display_name": "Python 3 (ipykernel)",
   "language": "python",
   "name": "python3"
  },
  "language_info": {
   "codemirror_mode": {
    "name": "ipython",
    "version": 3
   },
   "file_extension": ".py",
   "mimetype": "text/x-python",
   "name": "python",
   "nbconvert_exporter": "python",
   "pygments_lexer": "ipython3",
   "version": "3.8.11"
  },
  "varInspector": {
   "cols": {
    "lenName": 16,
    "lenType": 16,
    "lenVar": 40
   },
   "kernels_config": {
    "python": {
     "delete_cmd_postfix": "",
     "delete_cmd_prefix": "del ",
     "library": "var_list.py",
     "varRefreshCmd": "print(var_dic_list())"
    },
    "r": {
     "delete_cmd_postfix": ") ",
     "delete_cmd_prefix": "rm(",
     "library": "var_list.r",
     "varRefreshCmd": "cat(var_dic_list()) "
    }
   },
   "types_to_exclude": [
    "module",
    "function",
    "builtin_function_or_method",
    "instance",
    "_Feature"
   ],
   "window_display": false
  }
 },
 "nbformat": 4,
 "nbformat_minor": 4
}
