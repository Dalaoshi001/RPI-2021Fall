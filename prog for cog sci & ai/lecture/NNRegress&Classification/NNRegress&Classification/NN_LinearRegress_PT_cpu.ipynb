{
 "cells": [
  {
   "cell_type": "markdown",
   "metadata": {},
   "source": [
    "## PyTorch Linear Regression"
   ]
  },
  {
   "cell_type": "markdown",
   "metadata": {},
   "source": [
    "Open a terminal and enter:\n",
    "\n",
    "conda install pytorch torchvision -c pytorch\n",
    "\n",
    "or \n",
    "\n",
    "in code cell, enter:\n",
    "\n",
    "!conda install pytorch torchvision -c pytorch\n",
    "\n",
    "PyTorch Documentation\n",
    "\n",
    "https://pytorch.org/docs/stable/index.html"
   ]
  },
  {
   "cell_type": "code",
   "execution_count": null,
   "metadata": {},
   "outputs": [],
   "source": [
    "import torch\n",
    "import torch.nn as nn\n",
    "torch.__version__"
   ]
  },
  {
   "cell_type": "code",
   "execution_count": null,
   "metadata": {},
   "outputs": [],
   "source": [
    "import warnings\n",
    "warnings.simplefilter(action='ignore', category=FutureWarning)\n",
    "warnings.simplefilter(action='ignore', category=UserWarning)\n",
    "\n",
    "import numpy as np\n",
    "import pandas as pd\n",
    "from scipy import stats\n",
    "import seaborn as sns\n",
    "import matplotlib.pyplot as plt\n",
    "%matplotlib inline"
   ]
  },
  {
   "cell_type": "code",
   "execution_count": null,
   "metadata": {},
   "outputs": [],
   "source": [
    "from sklearn.preprocessing import LabelEncoder,OneHotEncoder,StandardScaler,MinMaxScaler\n",
    "from sklearn.model_selection import train_test_split\n",
    "from sklearn.linear_model import LinearRegression\n",
    "from sklearn.metrics import r2_score,mean_squared_error"
   ]
  },
  {
   "cell_type": "markdown",
   "metadata": {},
   "source": [
    "#### Google colab\n",
    "\n",
    "Check if using Google Colab in order to upload data files"
   ]
  },
  {
   "cell_type": "code",
   "execution_count": null,
   "metadata": {},
   "outputs": [],
   "source": [
    "import sys\n",
    "if 'google.colab' in sys.modules:\n",
    "    from google.colab import files\n",
    "    uploaded = files.upload()"
   ]
  },
  {
   "cell_type": "code",
   "execution_count": null,
   "metadata": {},
   "outputs": [],
   "source": [
    "howell = pd.read_csv(\"Howell.csv\",sep=';')\n",
    "adult = howell.query(\"age > 17\")\n",
    "adult.tail()"
   ]
  },
  {
   "cell_type": "code",
   "execution_count": null,
   "metadata": {},
   "outputs": [],
   "source": [
    "X = adult.weight.values.reshape(-1,1)\n",
    "#X = adult.loc[:,['weight','age']]\n",
    "y = adult.height.values.reshape(-1,1)\n",
    "\n",
    "X_train, X_test, y_train, y_test = train_test_split(X, y, test_size = 0.2,random_state=1234)\n",
    "X_train.shape, X_test.shape, y_train.shape, y_test.shape"
   ]
  },
  {
   "cell_type": "code",
   "execution_count": null,
   "metadata": {},
   "outputs": [],
   "source": [
    "scaler = MinMaxScaler()\n",
    "X_train = scaler.fit_transform(X_train)\n",
    "X_test = scaler.transform(X_test)\n",
    "y_train = scaler.fit_transform(y_train)\n",
    "y_test = scaler.transform(y_test)\n",
    "X_train.shape, X_test.shape, y_train.shape, y_test.shape"
   ]
  },
  {
   "cell_type": "markdown",
   "metadata": {},
   "source": [
    "#### Create the linear regression model\n",
    "\n",
    "The model will have one Linear layer with one input feature and one output prediction.\n",
    "\n",
    "The model will have a $\\_\\_call\\_\\_()$ method which calls the forward function"
   ]
  },
  {
   "cell_type": "code",
   "execution_count": null,
   "metadata": {},
   "outputs": [],
   "source": [
    "torch.manual_seed(1)\n",
    "\n",
    "# Define the class, the arguments are the number of input features and output preds\n",
    "class LR(nn.Module):\n",
    "    def __init__(self,num_in,num_out):\n",
    "        super(LR, self).__init__() \n",
    "        self.linear = torch.nn.Linear(num_in, num_out)  #Instantiate Linear Class\n",
    "        \n",
    "    # the functon that is called in the forward pass\n",
    "    def forward(self, input):   \n",
    "        y_pred = self.linear(input) \n",
    "        return y_pred # return the prediction\n",
    "\n",
    "# Model Constructor\n",
    "model = LR(X_train.shape[1],1) #number of features, 1 prediction\n",
    "model"
   ]
  },
  {
   "cell_type": "code",
   "execution_count": null,
   "metadata": {},
   "outputs": [],
   "source": [
    "type(model.linear)"
   ]
  },
  {
   "cell_type": "markdown",
   "metadata": {},
   "source": [
    "#### Loss and optimizer\n",
    "\n",
    "Mean Squared error loss and stochastic gradient descent optimization"
   ]
  },
  {
   "cell_type": "code",
   "execution_count": null,
   "metadata": {},
   "outputs": [],
   "source": [
    "criterion = nn.MSELoss()\n",
    "optimizer = torch.optim.SGD(model.parameters(), lr=0.05) #lr = learning rate\n",
    "optimizer"
   ]
  },
  {
   "cell_type": "code",
   "execution_count": null,
   "metadata": {},
   "outputs": [],
   "source": [
    "model.parameters()"
   ]
  },
  {
   "cell_type": "markdown",
   "metadata": {},
   "source": [
    "#### Create the tensors for the model\n",
    "\n",
    "Numpy creates float64 by default, but PyTorch uses float32 by default."
   ]
  },
  {
   "cell_type": "code",
   "execution_count": null,
   "metadata": {},
   "outputs": [],
   "source": [
    "\n",
    "feats = torch.from_numpy(X_train.astype(np.float32))\n",
    "target = torch.from_numpy(y_train.astype(np.float32))\n",
    "test_input = torch.from_numpy(X_test.astype(np.float32))\n",
    "test_target = torch.from_numpy(y_test.astype(np.float32))\n",
    "\n",
    "feats.shape,target.shape,test_input.shape,test_target.shape"
   ]
  },
  {
   "cell_type": "markdown",
   "metadata": {},
   "source": [
    "#### Train the model\n",
    "\n",
    "Fit the model on the training data and then do a forward pass for the test data"
   ]
  },
  {
   "cell_type": "code",
   "execution_count": null,
   "metadata": {},
   "outputs": [],
   "source": [
    "n_epochs = 30\n",
    "\n",
    "train_losses = np.zeros(n_epochs)\n",
    "\n",
    "for i in range(n_epochs):\n",
    "\n",
    "    optimizer.zero_grad()  # zero the parameter gradients\n",
    "    outputs = model(feats) # Forward pass\n",
    "    loss = criterion(outputs, target) # Calculate loss\n",
    "    loss.backward()        # Backward pass\n",
    "    optimizer.step()       # Update weights\n",
    "    train_losses[i] = loss.item() # Log loss\n",
    "    \n",
    "    print(f'Epoch {i+1}/{n_epochs}, Train Loss: {loss.item():.4f}')"
   ]
  },
  {
   "cell_type": "code",
   "execution_count": null,
   "metadata": {},
   "outputs": [],
   "source": [
    "y_pred = model(torch.from_numpy(X_test.astype(np.float32))) # Forward pass for test data\n",
    "type(y_pred)"
   ]
  },
  {
   "cell_type": "code",
   "execution_count": null,
   "metadata": {},
   "outputs": [],
   "source": [
    "predicted2 = y_pred.detach().numpy()\n",
    "predicted2.shape,type(predicted2),predicted2.dtype"
   ]
  },
  {
   "cell_type": "code",
   "execution_count": null,
   "metadata": {
    "tags": []
   },
   "outputs": [],
   "source": [
    "r2_score(y_test,predicted2),np.sqrt(mean_squared_error(y_test,predicted2))"
   ]
  },
  {
   "cell_type": "code",
   "execution_count": null,
   "metadata": {},
   "outputs": [],
   "source": [
    "if X_test.shape[1] == 1:\n",
    "    plt.scatter(X_test, y_test, label='Original data')\n",
    "    plt.plot(X_test, predicted2, label='Fitted2 line')\n",
    "    plt.legend();"
   ]
  },
  {
   "cell_type": "code",
   "execution_count": null,
   "metadata": {},
   "outputs": [],
   "source": [
    "list(model.parameters())"
   ]
  },
  {
   "cell_type": "markdown",
   "metadata": {},
   "source": [
    "#### Alternate way to generate predictions for test data\n",
    "\n",
    "Train and test at the same time"
   ]
  },
  {
   "cell_type": "code",
   "execution_count": null,
   "metadata": {},
   "outputs": [],
   "source": [
    "torch.manual_seed(1)\n",
    "\n",
    "# Define the class, the arguments are the number of inputs and outputs\n",
    "class LR(nn.Module):\n",
    "    def __init__(self,num_in,num_out):\n",
    "        super(LR, self).__init__() \n",
    "        self.linear = torch.nn.Linear(num_in, num_out)  \n",
    "        \n",
    "    # the functon that is called in the forward pass\n",
    "    def forward(self, x):   \n",
    "        y_pred = self.linear(x) \n",
    "        return y_pred # return the prediction\n",
    "\n",
    "# Model Constructor\n",
    "model = LR(X_train.shape[1],1) #number of features, 1 prediction\n",
    "\n",
    "\n",
    "criterion = nn.MSELoss()\n",
    "optimizer = torch.optim.SGD(model.parameters(), lr=0.05) #lr = learning rate\n",
    "\n",
    "feats = torch.from_numpy(X_train.astype(np.float32))\n",
    "target = torch.from_numpy(y_train.astype(np.float32))\n",
    "test_input = torch.from_numpy(X_test.astype(np.float32))\n",
    "test_target = torch.from_numpy(y_test.astype(np.float32))\n",
    "\n",
    "feats.shape,target.shape,test_input.shape,test_target.shape"
   ]
  },
  {
   "cell_type": "code",
   "execution_count": null,
   "metadata": {},
   "outputs": [],
   "source": [
    "n_epochs = 30\n",
    "\n",
    "train_losses = np.zeros(n_epochs)\n",
    "test_losses = np.zeros(n_epochs)\n",
    "\n",
    "for i in range(n_epochs):\n",
    "\n",
    "    optimizer.zero_grad()  # zero the parameter gradients\n",
    "    outputs = model(feats) # Forward pass\n",
    "    loss = criterion(outputs, target) # Calculate loss\n",
    "    loss.backward()        # Backward pass\n",
    "    optimizer.step()       # Update weights\n",
    "    train_losses[i] = loss.item() # Log loss\n",
    "    \n",
    "    outputs_test = model(test_input) # run the test data\n",
    "    loss_test = criterion(outputs_test, test_target) # Calulate loss\n",
    "    test_losses[i] = loss_test.item()\n",
    "    \n",
    "    print(f'Epoch {i+1}/{n_epochs}, Train Loss: {loss.item():.4f} Test Loss: {loss_test.item():.4f}')"
   ]
  },
  {
   "cell_type": "markdown",
   "metadata": {},
   "source": [
    "#### Plot the loss per iteration"
   ]
  },
  {
   "cell_type": "code",
   "execution_count": null,
   "metadata": {},
   "outputs": [],
   "source": [
    "\n",
    "plt.plot(train_losses, label='train loss')\n",
    "plt.plot(test_losses, label='test loss')\n",
    "plt.legend();"
   ]
  },
  {
   "cell_type": "markdown",
   "metadata": {},
   "source": [
    "#### Convert predictions for the test data from tensors to numpy arrays"
   ]
  },
  {
   "cell_type": "code",
   "execution_count": null,
   "metadata": {
    "tags": []
   },
   "outputs": [],
   "source": [
    "predicted = outputs_test.detach().numpy()\n",
    "predicted.shape"
   ]
  },
  {
   "cell_type": "markdown",
   "metadata": {},
   "source": [
    "#### Calculate Coefficient of Determination"
   ]
  },
  {
   "cell_type": "code",
   "execution_count": null,
   "metadata": {},
   "outputs": [],
   "source": [
    "r2_score(y_test,predicted),np.sqrt(mean_squared_error(y_test,predicted))"
   ]
  },
  {
   "cell_type": "markdown",
   "metadata": {},
   "source": [
    "#### Plot the predictions"
   ]
  },
  {
   "cell_type": "code",
   "execution_count": null,
   "metadata": {},
   "outputs": [],
   "source": [
    "if X_test.shape[1] == 1:\n",
    "    plt.scatter(X_test, y_test, label='Original data')\n",
    "    plt.plot(X_test, predicted, 'r', label='Fitted line')\n",
    "    plt.legend();"
   ]
  },
  {
   "cell_type": "markdown",
   "metadata": {},
   "source": [
    "### Two layers"
   ]
  },
  {
   "cell_type": "code",
   "execution_count": null,
   "metadata": {},
   "outputs": [],
   "source": [
    "X = adult.loc[:,['weight','age']].values\n",
    "y = adult.height.values.reshape(-1,1)\n",
    "\n",
    "X_train, X_test, y_train, y_test = train_test_split(X, y, test_size = 0.2,random_state=1234)\n",
    "\n",
    "scaler = StandardScaler()\n",
    "X_train = scaler.fit_transform(X_train)\n",
    "X_test = scaler.transform(X_test)\n",
    "y_train = scaler.fit_transform(y_train)\n",
    "y_test = scaler.transform(y_test)\n",
    "\n",
    "X_train.shape, X_test.shape, y_train.shape, y_test.shape"
   ]
  },
  {
   "cell_type": "code",
   "execution_count": null,
   "metadata": {},
   "outputs": [],
   "source": [
    "torch.manual_seed(1)\n",
    "\n",
    "class LR2(nn.Module):\n",
    "    def __init__(self,num_in,num_out):\n",
    "        super(LR2, self).__init__() \n",
    "        self.hid1 = nn.Linear(num_in,8)\n",
    "        self.outp = nn.Linear(8,num_out)\n",
    "        \n",
    "  \n",
    "    def forward(self, x): \n",
    "        z = nn.ReLU()(self.hid1(x))\n",
    "        y_pred = self.outp(z)\n",
    "        return y_pred \n",
    "    \n",
    "model = LR2(X_train.shape[1],1)\n"
   ]
  },
  {
   "cell_type": "code",
   "execution_count": null,
   "metadata": {},
   "outputs": [],
   "source": [
    "criterion = nn.MSELoss()\n",
    "optimizer = torch.optim.SGD(model.parameters(), lr=0.05)"
   ]
  },
  {
   "cell_type": "code",
   "execution_count": null,
   "metadata": {},
   "outputs": [],
   "source": [
    "feats = torch.from_numpy(X_train.astype(np.float32))\n",
    "target = torch.from_numpy(y_train.astype(np.float32))\n",
    "test_input = torch.from_numpy(X_test.astype(np.float32))\n",
    "test_target = torch.from_numpy(y_test.astype(np.float32))\n",
    "feats.shape,target.shape,test_input.shape,test_target.shape"
   ]
  },
  {
   "cell_type": "code",
   "execution_count": null,
   "metadata": {},
   "outputs": [],
   "source": [
    "# Train the model\n",
    "n_epochs = 30\n",
    "\n",
    "train_losses = np.zeros(n_epochs)\n",
    "test_losses = np.zeros(n_epochs)\n",
    "\n",
    "for i in range(n_epochs):\n",
    "\n",
    "    optimizer.zero_grad()  # zero the parameter gradients\n",
    "    outputs = model(feats) # Forward pass\n",
    "    loss = criterion(outputs, target) # Calculate loss\n",
    "    loss.backward()        # Backward pass\n",
    "    optimizer.step()       # Update weights\n",
    "    train_losses[i] = loss.item() # Log loss\n",
    "    \n",
    "    outputs_test = model(test_input) # Get test loss\n",
    "    loss_test = criterion(outputs_test, test_target)\n",
    "    test_losses[i] = loss_test.item()\n",
    "    \n",
    "    print(f'Epoch {i+1}/{n_epochs}, Train Loss: {loss.item():.4f} Test Loss: {loss_test.item():.4f}')"
   ]
  },
  {
   "cell_type": "code",
   "execution_count": null,
   "metadata": {},
   "outputs": [],
   "source": [
    "# Plot the loss per iteration\n",
    "plt.plot(train_losses, label='train loss')\n",
    "plt.plot(test_losses, label='test loss')\n",
    "plt.legend();"
   ]
  },
  {
   "cell_type": "code",
   "execution_count": null,
   "metadata": {},
   "outputs": [],
   "source": [
    "foo = model(torch.from_numpy(X_test.astype(np.float32)))\n",
    "predicted = foo.detach().numpy()\n",
    "predicted.shape"
   ]
  },
  {
   "cell_type": "code",
   "execution_count": null,
   "metadata": {},
   "outputs": [],
   "source": [
    "r2_score(y_test,predicted),np.sqrt(mean_squared_error(y_test,predicted))"
   ]
  },
  {
   "cell_type": "code",
   "execution_count": null,
   "metadata": {},
   "outputs": [],
   "source": [
    "list(model.parameters())"
   ]
  }
 ],
 "metadata": {
  "kernelspec": {
   "display_name": "Python 3 (ipykernel)",
   "language": "python",
   "name": "python3"
  },
  "language_info": {
   "codemirror_mode": {
    "name": "ipython",
    "version": 3
   },
   "file_extension": ".py",
   "mimetype": "text/x-python",
   "name": "python",
   "nbconvert_exporter": "python",
   "pygments_lexer": "ipython3",
   "version": "3.8.11"
  },
  "varInspector": {
   "cols": {
    "lenName": 16,
    "lenType": 16,
    "lenVar": 40
   },
   "kernels_config": {
    "python": {
     "delete_cmd_postfix": "",
     "delete_cmd_prefix": "del ",
     "library": "var_list.py",
     "varRefreshCmd": "print(var_dic_list())"
    },
    "r": {
     "delete_cmd_postfix": ") ",
     "delete_cmd_prefix": "rm(",
     "library": "var_list.r",
     "varRefreshCmd": "cat(var_dic_list()) "
    }
   },
   "types_to_exclude": [
    "module",
    "function",
    "builtin_function_or_method",
    "instance",
    "_Feature"
   ],
   "window_display": false
  }
 },
 "nbformat": 4,
 "nbformat_minor": 4
}
