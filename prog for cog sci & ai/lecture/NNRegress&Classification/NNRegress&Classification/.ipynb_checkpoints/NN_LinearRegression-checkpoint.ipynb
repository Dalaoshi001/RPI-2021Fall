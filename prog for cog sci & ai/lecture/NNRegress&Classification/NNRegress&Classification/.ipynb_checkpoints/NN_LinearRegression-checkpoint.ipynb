{
 "cells": [
  {
   "cell_type": "markdown",
   "metadata": {},
   "source": [
    "## NN Linear Regression"
   ]
  },
  {
   "cell_type": "code",
   "execution_count": 1,
   "metadata": {},
   "outputs": [],
   "source": [
    "import warnings\n",
    "warnings.simplefilter(action='ignore', category=FutureWarning)\n",
    "warnings.simplefilter(action='ignore', category=UserWarning)\n",
    "\n",
    "import numpy as np\n",
    "import pandas as pd\n",
    "from scipy import stats\n",
    "import seaborn as sns\n",
    "import matplotlib.pyplot as plt\n",
    "%matplotlib inline"
   ]
  },
  {
   "cell_type": "code",
   "execution_count": 2,
   "metadata": {},
   "outputs": [],
   "source": [
    "from sklearn.preprocessing import LabelEncoder,OneHotEncoder,StandardScaler,MinMaxScaler\n",
    "from sklearn.model_selection import train_test_split\n",
    "from sklearn.linear_model import LinearRegression\n",
    "from sklearn.metrics import r2_score,mean_squared_error"
   ]
  },
  {
   "cell_type": "markdown",
   "metadata": {},
   "source": [
    "#### Google colab\n",
    "\n",
    "Check if using Google Colab in order to upload data files"
   ]
  },
  {
   "cell_type": "code",
   "execution_count": 3,
   "metadata": {},
   "outputs": [],
   "source": [
    "import sys\n",
    "if 'google.colab' in sys.modules:\n",
    "    from google.colab import files\n",
    "    uploaded = files.upload()"
   ]
  },
  {
   "cell_type": "code",
   "execution_count": 4,
   "metadata": {},
   "outputs": [
    {
     "data": {
      "text/html": [
       "<div>\n",
       "<style scoped>\n",
       "    .dataframe tbody tr th:only-of-type {\n",
       "        vertical-align: middle;\n",
       "    }\n",
       "\n",
       "    .dataframe tbody tr th {\n",
       "        vertical-align: top;\n",
       "    }\n",
       "\n",
       "    .dataframe thead th {\n",
       "        text-align: right;\n",
       "    }\n",
       "</style>\n",
       "<table border=\"1\" class=\"dataframe\">\n",
       "  <thead>\n",
       "    <tr style=\"text-align: right;\">\n",
       "      <th></th>\n",
       "      <th>height</th>\n",
       "      <th>weight</th>\n",
       "      <th>age</th>\n",
       "      <th>male</th>\n",
       "    </tr>\n",
       "  </thead>\n",
       "  <tbody>\n",
       "    <tr>\n",
       "      <th>534</th>\n",
       "      <td>162.560</td>\n",
       "      <td>47.031821</td>\n",
       "      <td>27.0</td>\n",
       "      <td>0</td>\n",
       "    </tr>\n",
       "    <tr>\n",
       "      <th>537</th>\n",
       "      <td>142.875</td>\n",
       "      <td>34.246196</td>\n",
       "      <td>31.0</td>\n",
       "      <td>0</td>\n",
       "    </tr>\n",
       "    <tr>\n",
       "      <th>540</th>\n",
       "      <td>162.560</td>\n",
       "      <td>52.163080</td>\n",
       "      <td>31.0</td>\n",
       "      <td>1</td>\n",
       "    </tr>\n",
       "    <tr>\n",
       "      <th>541</th>\n",
       "      <td>156.210</td>\n",
       "      <td>54.062497</td>\n",
       "      <td>21.0</td>\n",
       "      <td>0</td>\n",
       "    </tr>\n",
       "    <tr>\n",
       "      <th>543</th>\n",
       "      <td>158.750</td>\n",
       "      <td>52.531624</td>\n",
       "      <td>68.0</td>\n",
       "      <td>1</td>\n",
       "    </tr>\n",
       "  </tbody>\n",
       "</table>\n",
       "</div>"
      ],
      "text/plain": [
       "      height     weight   age  male\n",
       "534  162.560  47.031821  27.0     0\n",
       "537  142.875  34.246196  31.0     0\n",
       "540  162.560  52.163080  31.0     1\n",
       "541  156.210  54.062497  21.0     0\n",
       "543  158.750  52.531624  68.0     1"
      ]
     },
     "execution_count": 4,
     "metadata": {},
     "output_type": "execute_result"
    }
   ],
   "source": [
    "howell = pd.read_csv(\"Howell.csv\",sep=';')\n",
    "adult = howell.query(\"age > 17\")\n",
    "adult.tail()"
   ]
  },
  {
   "cell_type": "code",
   "execution_count": 5,
   "metadata": {},
   "outputs": [
    {
     "data": {
      "text/plain": [
       "((281, 1), (71, 1), (281, 1), (71, 1))"
      ]
     },
     "execution_count": 5,
     "metadata": {},
     "output_type": "execute_result"
    }
   ],
   "source": [
    "X = adult.weight.values.reshape(-1,1)\n",
    "#X = adult.loc[:,['weight','age']]\n",
    "y = adult.height.values.reshape(-1,1)\n",
    "\n",
    "X_train, X_test, y_train, y_test = train_test_split(X, y, test_size = 0.2,random_state=1234)\n",
    "X_train.shape, X_test.shape, y_train.shape, y_test.shape"
   ]
  },
  {
   "cell_type": "code",
   "execution_count": 6,
   "metadata": {},
   "outputs": [
    {
     "data": {
      "text/plain": [
       "((281, 1), (71, 1), (281, 1), (71, 1))"
      ]
     },
     "execution_count": 6,
     "metadata": {},
     "output_type": "execute_result"
    }
   ],
   "source": [
    "scaler = MinMaxScaler()\n",
    "X_train = scaler.fit_transform(X_train)\n",
    "X_test = scaler.transform(X_test)\n",
    "y_train = scaler.fit_transform(y_train)\n",
    "y_test = scaler.transform(y_test)\n",
    "X_train.shape, X_test.shape, y_train.shape, y_test.shape"
   ]
  },
  {
   "cell_type": "markdown",
   "metadata": {},
   "source": [
    "## PyTorch"
   ]
  },
  {
   "cell_type": "code",
   "execution_count": 7,
   "metadata": {},
   "outputs": [
    {
     "data": {
      "text/plain": [
       "'1.9.0'"
      ]
     },
     "execution_count": 7,
     "metadata": {},
     "output_type": "execute_result"
    }
   ],
   "source": [
    "import torch\n",
    "import torch.nn as nn\n",
    "torch.__version__"
   ]
  },
  {
   "cell_type": "markdown",
   "metadata": {},
   "source": [
    "#### Create the linear regression model\n",
    "\n",
    "The model will have one Linear layer with one input and one output."
   ]
  },
  {
   "cell_type": "code",
   "execution_count": 9,
   "metadata": {},
   "outputs": [
    {
     "data": {
      "text/plain": [
       "LR(\n",
       "  (linear): Linear(in_features=1, out_features=1, bias=True)\n",
       ")"
      ]
     },
     "execution_count": 9,
     "metadata": {},
     "output_type": "execute_result"
    }
   ],
   "source": [
    "torch.manual_seed(1)\n",
    "\n",
    "# Define the class, the arguments are the number of inputs and outputs\n",
    "class LR(nn.Module):\n",
    "    def __init__(self,num_in,num_out):\n",
    "        super(LR, self).__init__() \n",
    "        self.linear = torch.nn.Linear(num_in, num_out)  \n",
    "        \n",
    "    # the functon that is called in the forward pass\n",
    "    def forward(self, x):   \n",
    "        y_pred = self.linear(x) \n",
    "        return y_pred # return the prediction\n",
    "\n",
    "# Model Constructor\n",
    "model = LR(X_train.shape[1],1) #number of features, 1 prediction\n",
    "model"
   ]
  },
  {
   "cell_type": "markdown",
   "metadata": {},
   "source": [
    "#### Set the device and tell model which device"
   ]
  },
  {
   "cell_type": "code",
   "execution_count": 11,
   "metadata": {},
   "outputs": [
    {
     "name": "stdout",
     "output_type": "stream",
     "text": [
      "cpu\n"
     ]
    },
    {
     "data": {
      "text/plain": [
       "LR(\n",
       "  (linear): Linear(in_features=1, out_features=1, bias=True)\n",
       ")"
      ]
     },
     "execution_count": 11,
     "metadata": {},
     "output_type": "execute_result"
    }
   ],
   "source": [
    "device = torch.device(\"cuda:0\" if torch.cuda.is_available() else \"cpu\")\n",
    "print(device)\n",
    "model.to(device)"
   ]
  },
  {
   "cell_type": "markdown",
   "metadata": {},
   "source": [
    "#### Loss and optimizer\n",
    "\n",
    "Mean Squared error loss and stochastic gradient descent optimization"
   ]
  },
  {
   "cell_type": "code",
   "execution_count": 13,
   "metadata": {},
   "outputs": [
    {
     "data": {
      "text/plain": [
       "SGD (\n",
       "Parameter Group 0\n",
       "    dampening: 0\n",
       "    lr: 0.05\n",
       "    momentum: 0\n",
       "    nesterov: False\n",
       "    weight_decay: 0\n",
       ")"
      ]
     },
     "execution_count": 13,
     "metadata": {},
     "output_type": "execute_result"
    }
   ],
   "source": [
    "criterion = nn.MSELoss()\n",
    "optimizer = torch.optim.SGD(model.parameters(), lr=0.05) #lr = learning rate\n",
    "optimizer"
   ]
  },
  {
   "cell_type": "markdown",
   "metadata": {},
   "source": [
    "#### Create the tensors for the model\n",
    "\n",
    "Numpy creates float64 by default, but PyTorch uses float32 by default."
   ]
  },
  {
   "cell_type": "code",
   "execution_count": 14,
   "metadata": {},
   "outputs": [
    {
     "data": {
      "text/plain": [
       "(torch.Size([281, 1]),\n",
       " torch.Size([281, 1]),\n",
       " torch.Size([71, 1]),\n",
       " torch.Size([71, 1]))"
      ]
     },
     "execution_count": 14,
     "metadata": {},
     "output_type": "execute_result"
    }
   ],
   "source": [
    "\n",
    "feats = torch.from_numpy(X_train.astype(np.float32)).to(device)\n",
    "target = torch.from_numpy(y_train.astype(np.float32)).to(device)\n",
    "test_input = torch.from_numpy(X_test.astype(np.float32)).to(device)\n",
    "test_target = torch.from_numpy(y_test.astype(np.float32)).to(device)\n",
    "\n",
    "feats.shape,target.shape,test_input.shape,test_target.shape"
   ]
  },
  {
   "cell_type": "markdown",
   "metadata": {},
   "source": [
    "#### Train the model"
   ]
  },
  {
   "cell_type": "code",
   "execution_count": 15,
   "metadata": {},
   "outputs": [
    {
     "name": "stdout",
     "output_type": "stream",
     "text": [
      "Epoch 1/30, Train Loss: 0.5258 Test Loss: 0.4278\n",
      "Epoch 2/30, Train Loss: 0.4123 Test Loss: 0.3370\n",
      "Epoch 3/30, Train Loss: 0.3242 Test Loss: 0.2664\n",
      "Epoch 4/30, Train Loss: 0.2559 Test Loss: 0.2116\n",
      "Epoch 5/30, Train Loss: 0.2029 Test Loss: 0.1690\n",
      "Epoch 6/30, Train Loss: 0.1618 Test Loss: 0.1358\n",
      "Epoch 7/30, Train Loss: 0.1299 Test Loss: 0.1100\n",
      "Epoch 8/30, Train Loss: 0.1052 Test Loss: 0.0899\n",
      "Epoch 9/30, Train Loss: 0.0860 Test Loss: 0.0743\n",
      "Epoch 10/30, Train Loss: 0.0711 Test Loss: 0.0621\n",
      "Epoch 11/30, Train Loss: 0.0595 Test Loss: 0.0526\n",
      "Epoch 12/30, Train Loss: 0.0506 Test Loss: 0.0452\n",
      "Epoch 13/30, Train Loss: 0.0436 Test Loss: 0.0394\n",
      "Epoch 14/30, Train Loss: 0.0383 Test Loss: 0.0349\n",
      "Epoch 15/30, Train Loss: 0.0341 Test Loss: 0.0313\n",
      "Epoch 16/30, Train Loss: 0.0308 Test Loss: 0.0286\n",
      "Epoch 17/30, Train Loss: 0.0283 Test Loss: 0.0264\n",
      "Epoch 18/30, Train Loss: 0.0264 Test Loss: 0.0247\n",
      "Epoch 19/30, Train Loss: 0.0249 Test Loss: 0.0234\n",
      "Epoch 20/30, Train Loss: 0.0237 Test Loss: 0.0223\n",
      "Epoch 21/30, Train Loss: 0.0228 Test Loss: 0.0215\n",
      "Epoch 22/30, Train Loss: 0.0221 Test Loss: 0.0209\n",
      "Epoch 23/30, Train Loss: 0.0215 Test Loss: 0.0203\n",
      "Epoch 24/30, Train Loss: 0.0211 Test Loss: 0.0199\n",
      "Epoch 25/30, Train Loss: 0.0208 Test Loss: 0.0196\n",
      "Epoch 26/30, Train Loss: 0.0205 Test Loss: 0.0193\n",
      "Epoch 27/30, Train Loss: 0.0203 Test Loss: 0.0191\n",
      "Epoch 28/30, Train Loss: 0.0202 Test Loss: 0.0190\n",
      "Epoch 29/30, Train Loss: 0.0200 Test Loss: 0.0188\n",
      "Epoch 30/30, Train Loss: 0.0199 Test Loss: 0.0187\n"
     ]
    }
   ],
   "source": [
    "n_epochs = 30\n",
    "\n",
    "train_losses = np.zeros(n_epochs)\n",
    "test_losses = np.zeros(n_epochs)\n",
    "\n",
    "for i in range(n_epochs):\n",
    "\n",
    "    optimizer.zero_grad()  # zero the parameter gradients\n",
    "    outputs = model(feats) # Forward pass\n",
    "    loss = criterion(outputs, target) # Calculate loss\n",
    "    loss.backward()        # Backward pass\n",
    "    optimizer.step()       # Update weights\n",
    "    train_losses[i] = loss.item() # Log loss\n",
    "    \n",
    "    outputs_test = model(test_input) # run the test data\n",
    "    loss_test = criterion(outputs_test, test_target) # Calulate loss\n",
    "    test_losses[i] = loss_test.item()\n",
    "    \n",
    "    print(f'Epoch {i+1}/{n_epochs}, Train Loss: {loss.item():.4f} Test Loss: {loss_test.item():.4f}')"
   ]
  },
  {
   "cell_type": "markdown",
   "metadata": {},
   "source": [
    "#### Plot the loss per iteration"
   ]
  },
  {
   "cell_type": "code",
   "execution_count": 16,
   "metadata": {},
   "outputs": [
    {
     "data": {
      "image/png": "[encoded data removed]",
      "text/plain": [
       "<Figure size 432x288 with 1 Axes>"
      ]
     },
     "metadata": {
      "needs_background": "light"
     },
     "output_type": "display_data"
    }
   ],
   "source": [
    "\n",
    "plt.plot(train_losses, label='train loss')\n",
    "plt.plot(test_losses, label='test loss')\n",
    "plt.legend();"
   ]
  },
  {
   "cell_type": "markdown",
   "metadata": {},
   "source": [
    "#### Convert predictions for the test data from tensors to numpy arrays"
   ]
  },
  {
   "cell_type": "code",
   "execution_count": 23,
   "metadata": {
    "tags": []
   },
   "outputs": [
    {
     "data": {
      "text/plain": [
       "(71, 1)"
      ]
     },
     "execution_count": 23,
     "metadata": {},
     "output_type": "execute_result"
    }
   ],
   "source": [
    "predicted = outputs_test.cpu().detach().numpy()\n",
    "predicted.shape"
   ]
  },
  {
   "cell_type": "markdown",
   "metadata": {},
   "source": [
    "#### Calculate Coefficient of Determination"
   ]
  },
  {
   "cell_type": "code",
   "execution_count": 27,
   "metadata": {},
   "outputs": [
    {
     "data": {
      "text/plain": [
       "(0.5906308002591196, 0.13684667443463228)"
      ]
     },
     "execution_count": 27,
     "metadata": {},
     "output_type": "execute_result"
    }
   ],
   "source": [
    "r2_score(y_test,predicted),np.sqrt(mean_squared_error(y_test,predicted))"
   ]
  },
  {
   "cell_type": "markdown",
   "metadata": {},
   "source": [
    "#### Plot the predictions"
   ]
  },
  {
   "cell_type": "code",
   "execution_count": 31,
   "metadata": {},
   "outputs": [
    {
     "data": {
      "image/png": "[encoded data removed]",
      "text/plain": [
       "<Figure size 432x288 with 1 Axes>"
      ]
     },
     "metadata": {
      "needs_background": "light"
     },
     "output_type": "display_data"
    }
   ],
   "source": [
    "if X_test.shape[1] == 1:\n",
    "    plt.scatter(X_test, y_test, label='Original data')\n",
    "    plt.plot(X_test, predicted, 'r', label='Fitted line')\n",
    "    plt.legend();"
   ]
  },
  {
   "cell_type": "markdown",
   "metadata": {},
   "source": [
    "#### Alternate way to generate predictions for test data\n",
    "\n",
    "Fit the model on the training data and then do a forward pass for the test data"
   ]
  },
  {
   "cell_type": "code",
   "execution_count": 32,
   "metadata": {},
   "outputs": [
    {
     "name": "stdout",
     "output_type": "stream",
     "text": [
      "Epoch 1/30, Train Loss: 0.0199\n",
      "Epoch 2/30, Train Loss: 0.0198\n",
      "Epoch 3/30, Train Loss: 0.0198\n",
      "Epoch 4/30, Train Loss: 0.0197\n",
      "Epoch 5/30, Train Loss: 0.0197\n",
      "Epoch 6/30, Train Loss: 0.0197\n",
      "Epoch 7/30, Train Loss: 0.0197\n",
      "Epoch 8/30, Train Loss: 0.0197\n",
      "Epoch 9/30, Train Loss: 0.0197\n",
      "Epoch 10/30, Train Loss: 0.0197\n",
      "Epoch 11/30, Train Loss: 0.0196\n",
      "Epoch 12/30, Train Loss: 0.0196\n",
      "Epoch 13/30, Train Loss: 0.0196\n",
      "Epoch 14/30, Train Loss: 0.0196\n",
      "Epoch 15/30, Train Loss: 0.0196\n",
      "Epoch 16/30, Train Loss: 0.0196\n",
      "Epoch 17/30, Train Loss: 0.0196\n",
      "Epoch 18/30, Train Loss: 0.0196\n",
      "Epoch 19/30, Train Loss: 0.0196\n",
      "Epoch 20/30, Train Loss: 0.0196\n",
      "Epoch 21/30, Train Loss: 0.0196\n",
      "Epoch 22/30, Train Loss: 0.0196\n",
      "Epoch 23/30, Train Loss: 0.0196\n",
      "Epoch 24/30, Train Loss: 0.0196\n",
      "Epoch 25/30, Train Loss: 0.0196\n",
      "Epoch 26/30, Train Loss: 0.0196\n",
      "Epoch 27/30, Train Loss: 0.0196\n",
      "Epoch 28/30, Train Loss: 0.0196\n",
      "Epoch 29/30, Train Loss: 0.0196\n",
      "Epoch 30/30, Train Loss: 0.0196\n"
     ]
    }
   ],
   "source": [
    "n_epochs = 30\n",
    "\n",
    "train_losses = np.zeros(n_epochs)\n",
    "\n",
    "for i in range(n_epochs):\n",
    "\n",
    "    optimizer.zero_grad()  # zero the parameter gradients\n",
    "    outputs = model(feats) # Forward pass\n",
    "    loss = criterion(outputs, target) # Calculate loss\n",
    "    loss.backward()        # Backward pass\n",
    "    optimizer.step()       # Update weights\n",
    "    train_losses[i] = loss.item() # Log loss\n",
    "    \n",
    "    print(f'Epoch {i+1}/{n_epochs}, Train Loss: {loss.item():.4f}')"
   ]
  },
  {
   "cell_type": "code",
   "execution_count": 33,
   "metadata": {},
   "outputs": [
    {
     "data": {
      "text/plain": [
       "torch.Tensor"
      ]
     },
     "execution_count": 33,
     "metadata": {},
     "output_type": "execute_result"
    }
   ],
   "source": [
    "foo = model(torch.from_numpy(X_test.astype(np.float32)).to(device)) # Forward pass for test data\n",
    "type(foo)"
   ]
  },
  {
   "cell_type": "code",
   "execution_count": 34,
   "metadata": {},
   "outputs": [
    {
     "data": {
      "text/plain": [
       "((71, 1), numpy.ndarray, dtype('float32'))"
      ]
     },
     "execution_count": 34,
     "metadata": {},
     "output_type": "execute_result"
    }
   ],
   "source": [
    "predicted2 = foo.cpu().detach().numpy()\n",
    "predicted2.shape,type(predicted2),predicted2.dtype"
   ]
  },
  {
   "cell_type": "code",
   "execution_count": 35,
   "metadata": {
    "tags": []
   },
   "outputs": [
    {
     "data": {
      "text/plain": [
       "(0.6014810594237242, 0.13502094693928354)"
      ]
     },
     "execution_count": 35,
     "metadata": {},
     "output_type": "execute_result"
    }
   ],
   "source": [
    "r2_score(y_test,predicted2),np.sqrt(mean_squared_error(y_test,predicted2))"
   ]
  },
  {
   "cell_type": "code",
   "execution_count": 36,
   "metadata": {},
   "outputs": [
    {
     "data": {
      "image/png": "[encoded data removed]",
      "text/plain": [
       "<Figure size 432x288 with 1 Axes>"
      ]
     },
     "metadata": {
      "needs_background": "light"
     },
     "output_type": "display_data"
    }
   ],
   "source": [
    "if X_test.shape[1] == 1:\n",
    "    plt.scatter(X_test, y_test, label='Original data')\n",
    "    plt.plot(X_test, predicted2, label='Fitted2 line')\n",
    "    plt.legend();"
   ]
  },
  {
   "cell_type": "code",
   "execution_count": 29,
   "metadata": {},
   "outputs": [
    {
     "data": {
      "text/plain": [
       "[Parameter containing:\n",
       " tensor([[0.7740]], requires_grad=True),\n",
       " Parameter containing:\n",
       " tensor([0.1407], requires_grad=True)]"
      ]
     },
     "execution_count": 29,
     "metadata": {},
     "output_type": "execute_result"
    }
   ],
   "source": [
    "list(model.parameters())"
   ]
  },
  {
   "cell_type": "markdown",
   "metadata": {},
   "source": [
    "### Two layers"
   ]
  },
  {
   "cell_type": "code",
   "execution_count": null,
   "metadata": {},
   "outputs": [],
   "source": [
    "X = adult.loc[:,['weight','age']].values\n",
    "y = adult.height.values.reshape(-1,1)\n",
    "\n",
    "X_train, X_test, y_train, y_test = train_test_split(X, y, test_size = 0.2,random_state=1234)\n",
    "\n",
    "scaler = StandardScaler()\n",
    "X_train = scaler.fit_transform(X_train)\n",
    "X_test = scaler.transform(X_test)\n",
    "y_train = scaler.fit_transform(y_train)\n",
    "y_test = scaler.transform(y_test)\n",
    "\n",
    "X_train.shape, X_test.shape, y_train.shape, y_test.shape"
   ]
  },
  {
   "cell_type": "code",
   "execution_count": null,
   "metadata": {},
   "outputs": [],
   "source": [
    "torch.manual_seed(1)\n",
    "\n",
    "class LR2(nn.Module):\n",
    "    def __init__(self,num_in,num_out):\n",
    "        super(LR2, self).__init__() \n",
    "        self.hid1 = nn.Linear(num_in,8)\n",
    "        self.outp = nn.Linear(8,num_out)\n",
    "        \n",
    "  \n",
    "    def forward(self, x): \n",
    "        z = nn.ReLU()(self.hid1(x))\n",
    "        y_pred = self.outp(z)\n",
    "        return y_pred \n",
    "    \n",
    "model = LR2(X_train.shape[1],1)\n",
    "model.to(device)"
   ]
  },
  {
   "cell_type": "code",
   "execution_count": null,
   "metadata": {},
   "outputs": [],
   "source": [
    "criterion = nn.MSELoss()\n",
    "optimizer = torch.optim.SGD(model.parameters(), lr=0.05)"
   ]
  },
  {
   "cell_type": "code",
   "execution_count": null,
   "metadata": {},
   "outputs": [],
   "source": [
    "feats = torch.from_numpy(X_train.astype(np.float32)).to(device)\n",
    "target = torch.from_numpy(y_train.astype(np.float32)).to(device)\n",
    "test_input = torch.from_numpy(X_test.astype(np.float32)).to(device)\n",
    "test_target = torch.from_numpy(y_test.astype(np.float32)).to(device)\n",
    "feats.shape,target.shape,test_input.shape,test_target.shape"
   ]
  },
  {
   "cell_type": "code",
   "execution_count": null,
   "metadata": {},
   "outputs": [],
   "source": [
    "# Train the model\n",
    "n_epochs = 30\n",
    "\n",
    "train_losses = np.zeros(n_epochs)\n",
    "test_losses = np.zeros(n_epochs)\n",
    "\n",
    "for i in range(n_epochs):\n",
    "\n",
    "    optimizer.zero_grad()  # zero the parameter gradients\n",
    "    outputs = model(feats) # Forward pass\n",
    "    loss = criterion(outputs, target) # Calculate loss\n",
    "    loss.backward()        # Backward pass\n",
    "    optimizer.step()       # Update weights\n",
    "    train_losses[i] = loss.item() # Log loss\n",
    "    \n",
    "    outputs_test = model(test_input) # Get test loss\n",
    "    loss_test = criterion(outputs_test, test_target)\n",
    "    test_losses[i] = loss_test.item()\n",
    "    \n",
    "    print(f'Epoch {i+1}/{n_epochs}, Train Loss: {loss.item():.4f} Test Loss: {loss_test.item():.4f}')"
   ]
  },
  {
   "cell_type": "code",
   "execution_count": null,
   "metadata": {},
   "outputs": [],
   "source": [
    "# Plot the loss per iteration\n",
    "plt.plot(train_losses, label='train loss')\n",
    "plt.plot(test_losses, label='test loss')\n",
    "plt.legend();"
   ]
  },
  {
   "cell_type": "code",
   "execution_count": null,
   "metadata": {},
   "outputs": [],
   "source": [
    "foo = model(torch.from_numpy(X_test.astype(np.float32)).to(device))\n",
    "predicted = foo.cpu().detach().numpy()\n",
    "predicted.shape"
   ]
  },
  {
   "cell_type": "code",
   "execution_count": null,
   "metadata": {},
   "outputs": [],
   "source": [
    "r2_score(y_test,predicted),np.sqrt(mean_squared_error(y_test,predicted))"
   ]
  },
  {
   "cell_type": "code",
   "execution_count": null,
   "metadata": {},
   "outputs": [],
   "source": [
    "list(model.parameters())"
   ]
  },
  {
   "cell_type": "markdown",
   "metadata": {},
   "source": [
    "## Tensorflow Linear Regression"
   ]
  },
  {
   "cell_type": "code",
   "execution_count": null,
   "metadata": {},
   "outputs": [],
   "source": [
    "import tensorflow as tf\n",
    "from tensorflow.keras.models import Sequential\n",
    "from tensorflow.keras.layers import Dense, Activation,Dropout\n",
    "tf.__version__"
   ]
  },
  {
   "cell_type": "code",
   "execution_count": null,
   "metadata": {},
   "outputs": [],
   "source": [
    "model = Sequential()\n",
    "\n",
    "model.add(Dense(units=8,activation='relu'))\n",
    "model.add(Dense(units=1))"
   ]
  },
  {
   "cell_type": "code",
   "execution_count": null,
   "metadata": {},
   "outputs": [],
   "source": [
    "model.compile(loss='mean_squared_error', optimizer='adam')"
   ]
  },
  {
   "cell_type": "code",
   "execution_count": null,
   "metadata": {},
   "outputs": [],
   "source": [
    "model.fit(x=X_train, \n",
    "          y=y_train, \n",
    "          epochs=30,\n",
    "          validation_data=(X_test, y_test), verbose=1\n",
    "          )"
   ]
  },
  {
   "cell_type": "code",
   "execution_count": null,
   "metadata": {},
   "outputs": [],
   "source": [
    "model_loss = pd.DataFrame(model.history.history)\n",
    "model_loss.plot()"
   ]
  },
  {
   "cell_type": "code",
   "execution_count": null,
   "metadata": {},
   "outputs": [],
   "source": [
    "predicted = model.predict_classes(X_test)"
   ]
  },
  {
   "cell_type": "code",
   "execution_count": null,
   "metadata": {},
   "outputs": [],
   "source": [
    "r2_score(y_test,predicted),np.sqrt(mean_squared_error(y_test,predicted))"
   ]
  },
  {
   "cell_type": "code",
   "execution_count": null,
   "metadata": {},
   "outputs": [],
   "source": []
  }
 ],
 "metadata": {
  "kernelspec": {
   "display_name": "Python 3",
   "language": "python",
   "name": "python3"
  },
  "language_info": {
   "codemirror_mode": {
    "name": "ipython",
    "version": 3
   },
   "file_extension": ".py",
   "mimetype": "text/x-python",
   "name": "python",
   "nbconvert_exporter": "python",
   "pygments_lexer": "ipython3",
   "version": "3.8.8"
  },
  "varInspector": {
   "cols": {
    "lenName": 16,
    "lenType": 16,
    "lenVar": 40
   },
   "kernels_config": {
    "python": {
     "delete_cmd_postfix": "",
     "delete_cmd_prefix": "del ",
     "library": "var_list.py",
     "varRefreshCmd": "print(var_dic_list())"
    },
    "r": {
     "delete_cmd_postfix": ") ",
     "delete_cmd_prefix": "rm(",
     "library": "var_list.r",
     "varRefreshCmd": "cat(var_dic_list()) "
    }
   },
   "types_to_exclude": [
    "module",
    "function",
    "builtin_function_or_method",
    "instance",
    "_Feature"
   ],
   "window_display": false
  }
 },
 "nbformat": 4,
 "nbformat_minor": 4
}
