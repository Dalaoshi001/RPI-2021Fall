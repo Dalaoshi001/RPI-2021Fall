{
 "cells": [
  {
   "cell_type": "markdown",
   "metadata": {},
   "source": [
    "## Exam Review\n"
   ]
  },
  {
   "cell_type": "markdown",
   "metadata": {},
   "source": [
    "### Exploratory Data Analysis\n",
    "\n",
    "* Formulate Goal\n",
    "* Collect data\n",
    "* Specify and explore variables\n",
    "* Check assumptions"
   ]
  },
  {
   "cell_type": "markdown",
   "metadata": {},
   "source": [
    "#### Descriptive Statistics\n",
    "* Mean, Median and Mode\n",
    "* Variance and standard deviation\n",
    "    - Population versus Sample\n",
    "* Percentiles\n",
    "* Covariance and Correlation"
   ]
  },
  {
   "cell_type": "markdown",
   "metadata": {},
   "source": [
    "#### Visualization \n",
    "\n",
    "* Scatterplot\n",
    "* Histogram\n",
    "* Pairplots\n",
    "* Box plots \n",
    "* Distribution plots"
   ]
  },
  {
   "cell_type": "markdown",
   "metadata": {},
   "source": [
    "#### Data Preprocessing\n",
    "\n",
    "* Missing Values\n",
    "    - Imputing\n",
    "* Scaling\n",
    "    - Normalization \n",
    "    - Standardization\n",
    "* Encoding Categorical variables\n",
    "    - Label encoding\n",
    "    - One-Hot encoding\n",
    "* Training, Validation and Testing Data\n",
    "    - Regression versus classification\n"
   ]
  },
  {
   "cell_type": "markdown",
   "metadata": {},
   "source": [
    "### Learning Methods for Regression and Classification\n",
    "\n",
    "* Supervised Learning for tabular data: columns are the dependent and independent variables, the rows are the observations (examples).\n",
    "* Regression: real-valued dependent variable, real-valued or categorical independent variables\n",
    "* Classification: categorical dependent variable, real-valued or categorical independent variables \n",
    "\n",
    "#### Modeling Data\n",
    "\n",
    "* Learn model parameters by **fitting** model to the training data\n",
    "* Extract estimated parameters from model\n",
    "* Predict the test data using the fitted model\n",
    "* Determine how good the model is\n",
    "\n",
    " "
   ]
  },
  {
   "cell_type": "markdown",
   "metadata": {},
   "source": [
    "#### Linear Regression\n",
    "  \n",
    "<div style=\"font-size: 115%;\"> $\\{(x_1,y_1),(x_2,y_2),...,(x_n,y_n)\\}$, $x_i \\in R^d$, $y_i \\in R$ </div>\n",
    "\n",
    "<div style=\"font-size: 115%;\">\n",
    "$$Y = \\beta_0 + \\beta_1{X_1} + \\beta_2{X_2} +...+\\beta_p{X_p} + \\epsilon $$\n",
    "</div>\n",
    "\n",
    "\n",
    "\n",
    "* Parameters: intercept and coefficients\n",
    "* Numerical dependent variable, numerical or categorical independent variable(s)\n",
    "* Simple,Multivariate and Polynomial Linear Regression\n",
    "* Ordinary Least Squares\n",
    "    - Residuals\n",
    "    - Assumptions\n",
    "* Maximum Likelihood Estimation\n",
    "    - Likelihood function versus PMF or PDF\n",
    "    - Method to solve for maximum\n",
    "* Closed form solutions for parameters\n",
    "    - Design Matrix and Normal equation\n",
    "* Interpretation of the parameters\n",
    "* Best fitting line\n",
    "* Goodness of fit\n",
    "    - R-squared\n",
    "    - Mean Squared Error and Root Mean Squared Error\n"
   ]
  },
  {
   "cell_type": "markdown",
   "metadata": {},
   "source": [
    "### Probability\n",
    "\n",
    "* Random Variable\n",
    "* Joint, conditional, and marginal distribution of RVs\n",
    "* Independence \n",
    "* Expectation of RV\n",
    "    - Discrete and Continuous\n",
    "    - Expectation of a function of an RV\n",
    "* Bayes Theorem\n",
    "* Distributions\n",
    "    * PMF,PDF,CDF,PPF,RVS \n",
    "    * Bernoulli, Binomial\n",
    "    * Normal, Uniform, Exponential\n",
    "    * Central Limit Theorem\n",
    "    * Theoretical mean and variance versus random generation\n",
    "    "
   ]
  },
  {
   "cell_type": "markdown",
   "metadata": {},
   "source": [
    "#### Logistic Regression and Multinomial Regression\n",
    "\n",
    "\n",
    "<div style=\"font-size: 115%;\"> $\\{(x_1,y_1),(x_2,y_2),...,(x_n,y_n)\\}$, $x_i \\in R^d$, $y_i \\in \\{0,1\\}$ </div>\n",
    "\n",
    "\n",
    "<div style=\"font-size: 115%;\">\n",
    "\n",
    "$$ Y \\sim Bernoulli(p(X))$$\n",
    "$$ p(X) = P(Y = 1)|X) = logistic(\\beta_0 + \\beta_1X) = \\frac{e^{\\beta_0 + \\beta_1X}} {1+e^{\\beta_0 + \\beta_1X}} = \\frac{1}{1 + e^{-(\\beta_0 + \\beta_1X)}})$$\n",
    "</div>"
   ]
  },
  {
   "cell_type": "markdown",
   "metadata": {},
   "source": [
    "* Parameters: intercept and coefficients of linear function of the data  \n",
    "* Assume dependent variable has a Bernoulli distribution  \n",
    "* Logistic (sigmoid) function maps infinite line defined by the parameters to a probability  \n",
    "* Classification of dependent variable that has 2 classes  \n",
    "* Predicts probability that a data point belongs to one of the two categories  \n",
    "* No closed form of MLE for the parameters  \n",
    "* Logit function: log odds, inverse of the logistic function  \n",
    "* Interpretation of the coefficients: changes the log odds of a successful classification  "
   ]
  },
  {
   "cell_type": "markdown",
   "metadata": {},
   "source": [
    "* Goodness of fit\n",
    "    * Confusion Matrix\n",
    "        - Accuracy, Error Rate, Precision, Recall, F!\n",
    "        - ROC Curve and Area Under Curve\n",
    "\n",
    "        \n",
    "* Extend to more then two classes using the softmax function\n",
    "* Generalized Linear Model (GLM)\n",
    "    - Specify distribution of dependent variable\n",
    "    - Specify Link function (i.e. inverse of function that transforms the independent variables \n",
    "    "
   ]
  },
  {
   "cell_type": "markdown",
   "metadata": {},
   "source": [
    "### Linear Algebra\n",
    "\n",
    "* Matrix multiplication and dot product\n",
    "* Eigenvalue and eigenvector\n",
    "* Inverse and Moore-Penrose Inverse\n",
    "* Eigen decomposition"
   ]
  },
  {
   "cell_type": "markdown",
   "metadata": {},
   "source": [
    "### Neural Network Basics\n",
    "\n",
    "* Layers: Input, hidden, output\n",
    "* Nodes: Transforms input using activation function\n",
    "* Weights: dot product with input data or output of previous layer\n",
    "    - Only thing that can be changed during training to improve network performance\n",
    "* Links: connect the nodes\n",
    "* Activation function: introduce non-linearity\n",
    "    - ReLU, sigmoid, softmax, tanh\n",
    "* Loss function: compares output prediction with truth to determine the error in the prediction\n",
    "    - Mean Squared Error: Linear Regression\n",
    "    - Binary Cross Entropy: Logistic Regression\n",
    "    - Cross Entropy: Multinomial Regression\n",
    "* Backpropagation: Uses the chain rule to determine how much each node contributes to the error\n",
    "* Optimization: Weight update\n",
    "    * Stochastic Gradient Descent: Updating the weights gradually. The rate is determined by the learning rate\n",
    "    * Adam"
   ]
  },
  {
   "cell_type": "markdown",
   "metadata": {},
   "source": [
    "### Multilayer Perceptron for Logistic and Multinomial Regression\n",
    "\n",
    "Artificial Neural Network with one or two hidden layers applied to tabular data"
   ]
  },
  {
   "cell_type": "markdown",
   "metadata": {},
   "source": [
    "#### Pytorch\n",
    "\n",
    "* Utilizes a computational graph that holds the gradients of the tensors  \n",
    "* Define Model class with forward function.  \n",
    "* Uses __call()__ so model acts as a function   \n",
    "* Must convert numpy arrays to tensors  \n",
    "* Define Loss function and optimizer  \n",
    "* Training loop\n",
    "    - Clear gradients\n",
    "    - Execute forward pass to produce output predictions\n",
    "    - Determine Loss on training data\n",
    "    - Execute backward pass\n",
    "    - Update weights\n",
    "* Execute forward pass with test data without gradients\n",
    "* Covert tensors to numpy arrays to use sklearn functions to determine model accuracy"
   ]
  },
  {
   "cell_type": "markdown",
   "metadata": {},
   "source": [
    "### Support Vector Machines\n",
    "\n",
    "* Can be used for Classification and Regression\n",
    "* Find hyperplane that maximally separates the data\n",
    "* Optimization problem using Lagrange Multipliers\n",
    "* Maximum margin determined by similarity of examples (i.e. dot product)\n",
    "* Use slack variables for slightly non-separable data\n",
    "\n",
    "#### Kernel Method and kernel trick For Non-linear data\n",
    "\n",
    "* Project data to higher dimension\n",
    "* Solve optimization problem in higher dimension calculation the dot products\n",
    "* Kernel functions allow you to calculate the dot product in the higher dimension with actually having to do the transformation.\n",
    "    - Polynomial and radial basis kernels, Hypertangent"
   ]
  },
  {
   "cell_type": "markdown",
   "metadata": {},
   "source": [
    "### Format of Exam\n",
    "\n",
    "* Jupyter lab notebook, like exercises\n",
    "* Open notes\n",
    "* Can use internet\n",
    "* All work must be your own\n",
    "* 10am-11:50am\n",
    "* You can take the exam at a location of your choosing.\n",
    "* Mixture of short coding questions and some short answer using text cells."
   ]
  },
  {
   "cell_type": "code",
   "execution_count": null,
   "metadata": {},
   "outputs": [],
   "source": []
  }
 ],
 "metadata": {
  "kernelspec": {
   "display_name": "Python 3 (ipykernel)",
   "language": "python",
   "name": "python3"
  },
  "language_info": {
   "codemirror_mode": {
    "name": "ipython",
    "version": 3
   },
   "file_extension": ".py",
   "mimetype": "text/x-python",
   "name": "python",
   "nbconvert_exporter": "python",
   "pygments_lexer": "ipython3",
   "version": "3.8.11"
  },
  "varInspector": {
   "cols": {
    "lenName": 16,
    "lenType": 16,
    "lenVar": 40
   },
   "kernels_config": {
    "python": {
     "delete_cmd_postfix": "",
     "delete_cmd_prefix": "del ",
     "library": "var_list.py",
     "varRefreshCmd": "print(var_dic_list())"
    },
    "r": {
     "delete_cmd_postfix": ") ",
     "delete_cmd_prefix": "rm(",
     "library": "var_list.r",
     "varRefreshCmd": "cat(var_dic_list()) "
    }
   },
   "types_to_exclude": [
    "module",
    "function",
    "builtin_function_or_method",
    "instance",
    "_Feature"
   ],
   "window_display": false
  }
 },
 "nbformat": 4,
 "nbformat_minor": 4
}
