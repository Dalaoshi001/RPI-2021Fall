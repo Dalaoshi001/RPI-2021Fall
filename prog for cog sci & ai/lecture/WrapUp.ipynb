{
 "cells": [
  {
   "cell_type": "markdown",
   "id": "e79bae72-f51d-4d4d-98c6-3a2a26db8fb6",
   "metadata": {},
   "source": [
    "### Things we didn’t cover\n",
    "\n",
    "#### Deep Reinforcement Learning \n",
    "\n",
    "Alpha Zero: Chess,Go  \n",
    "\n",
    "https://deepmind.com/blog/article/muzero-mastering-go-chess-shogi-and-atari-without-rules\n",
    "\n",
    "Alpha Fold: Protein Folding\n",
    "\n",
    "https://deepmind.com/learning-resources/reinforcement-learning-series-2021\n",
    "\n",
    "#### Self-supervised learning\n",
    "\n",
    "https://bdtechtalks.com/2020/03/23/yann-lecun-self-supervised-learning/\n",
    "\n",
    "https://ai.facebook.com/blog/self-supervised-learning-the-dark-matter-of-intelligence/\n",
    "\n",
    "#### Graph Neural Networks\n",
    "\n",
    "https://arxiv.org/pdf/1812.08434.pdf\n",
    "\n",
    "https://pytorch-geometric.readthedocs.io/en/latest/\n",
    "\n",
    "#### Other Miscellaneous\n",
    "\n",
    "Weight Initialization\n",
    "\n",
    "Auto ML \n",
    "\n",
    "Model Explainability\n",
    "\n",
    "Data-centric \n",
    "\n",
    "Deep Learning Biases\n",
    "\n"
   ]
  },
  {
   "cell_type": "markdown",
   "id": "32f4c92b-1888-4a1c-b274-0f909f29f54f",
   "metadata": {},
   "source": [
    "### 10 Take Away Ideas\n",
    "\n",
    "Importance of Data exploration and Preprocessing\n",
    "\n",
    "Techniques other than deep learning are still useful and important\n",
    "\n",
    "Bias-Variance Tradeoff, model complexity and variance\n",
    "\n",
    "Regularization techniques to alleviate over fitting, L1 and L2\n",
    "\n",
    "Combining weak learners to produce a strong learner\n",
    "\n",
    "Kernels for non-linear data\n",
    "\n",
    "Dot product as a similarity measure\n",
    "\n",
    "Skip connections to increase depth\n",
    "\n",
    "Kl-Divergence\n",
    "\n",
    "Attention/Transformers\n",
    "\n"
   ]
  },
  {
   "cell_type": "markdown",
   "id": "5ae7c93f-0900-41bf-b84d-57a972b42498",
   "metadata": {},
   "source": [
    "#### Future of Deep Learning\n",
    "\n",
    "Will Deep Learning achieve Human Level General intelligence????"
   ]
  },
  {
   "cell_type": "code",
   "execution_count": null,
   "id": "0adc68db-8dc8-4513-aed8-845d9f32b734",
   "metadata": {},
   "outputs": [],
   "source": []
  }
 ],
 "metadata": {
  "kernelspec": {
   "display_name": "Python 3 (ipykernel)",
   "language": "python",
   "name": "python3"
  },
  "language_info": {
   "codemirror_mode": {
    "name": "ipython",
    "version": 3
   },
   "file_extension": ".py",
   "mimetype": "text/x-python",
   "name": "python",
   "nbconvert_exporter": "python",
   "pygments_lexer": "ipython3",
   "version": "3.8.12"
  }
 },
 "nbformat": 4,
 "nbformat_minor": 5
}
