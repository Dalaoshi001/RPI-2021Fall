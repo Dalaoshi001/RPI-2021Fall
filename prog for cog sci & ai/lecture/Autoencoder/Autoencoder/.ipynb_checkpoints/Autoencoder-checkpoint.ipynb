{
 "cells": [
  {
   "cell_type": "markdown",
   "id": "3e433604-389c-43f8-bd98-6af87d4a73a1",
   "metadata": {
    "colab_type": "text",
    "id": "TM83wQpTZWNL"
   },
   "source": [
    "## Autoencoders\n",
    "\n",
    "Autoencoders are self-supervised techniques that reconstructs the input using a hidden layer with fewer active units than the number of input units. They are self-supervised since they use the input as the labels.\n",
    "\n",
    "![](Basic_Autoencoder.png)\n",
    "\n",
    "The middle layer is a bottleneck. In the figure above 4 input features are transformed into two latent features.\n",
    "\n",
    "Autoencoders try to determine what are the most important features of the input. They are data-specific, i.e. They are only be able to compress data similar to what they have been trained on.  They are Lossy, i.e. the outputs will be degraded compared to the original inputs.  \n",
    "\n",
    "    \n",
    "    \n",
    "#### Mapping\n",
    "\n",
    "$$\\text{Encoder: }\\Phi: \\mathcal{X} -> \\mathcal{Z} \\\\\n",
    "  \\text{Decoder: }\\Psi: \\mathcal{Z} -> \\mathcal{X} \\\\\n",
    "  \\Phi,\\Psi =  \\underset{\\Phi,\\Psi}{\\mathrm{argmin}}||X - (\\Psi\\circ\\Phi)X||^2$$\n",
    "\n",
    "The Encoder $\\Phi$ maps input to latent space $\\mathcal{Z}$, the bottleneck. $a_E$ is the activation function.\n",
    "$$z = a_E(Wx + b)$$\n",
    "\n",
    "The Decoder $\\Psi$ maps latent space $\\mathcal{Z}$ to the output which is the same as the input. $a_D$ is the activation function.\n",
    "$$x^{'} = a_D(Uz + c)$$\n",
    "\n",
    "\n",
    "#### Types of Autoencoders\n",
    "\n",
    "* Basic (shown above)\n",
    "* Sparse\n",
    "* Denoising\n",
    "* Stacked/Deep\n",
    "* Convolutional\n",
    "* Variational\n"
   ]
  },
  {
   "cell_type": "markdown",
   "id": "e2b610bc-2144-4e08-8398-1d7645d86099",
   "metadata": {
    "colab_type": "text",
    "id": "o6yfq0ajZWN8"
   },
   "source": [
    "### Sparse Autoencoder\n",
    "\n",
    "A Sparse Autoencoder usually has more hidden units than input units but only some of the hidden unit are active during any feed forward operation. They are used for feature extraction.\n",
    "\n",
    "Sparsity constraints are a type of regularization and can be imposed through L1 regularization or KL-divergence.\n",
    "\n",
    "![](Sparse_Autoencoder.png)"
   ]
  },
  {
   "cell_type": "markdown",
   "id": "f5ad4f73-7e96-4888-bd98-0a2e4576fd30",
   "metadata": {
    "colab_type": "text",
    "id": "dtjWEAuiZWON"
   },
   "source": [
    "### Denoising Autoencoder\n",
    "\n",
    "A Denoising Autoencoder reconstructs data from an input of corrupted data. This prevents just \"memorizing\" the input. Inputs are randomly removed (i.e. set to zero).\n",
    "\n",
    "\n",
    "![](Denoising.png)\n",
    "\n"
   ]
  },
  {
   "cell_type": "markdown",
   "id": "e1b54b51-6105-4e66-8a4b-4a46f27df98e",
   "metadata": {
    "colab_type": "text",
    "id": "EbYqrT0HZWOa"
   },
   "source": [
    "#### Stacked/Deep Autoencoder\n",
    "\n",
    "A Stacked/Deep Autoencoder has more than 1 hidden layer.\n",
    "\n",
    "![](Stacked.png)\n",
    "\n"
   ]
  },
  {
   "cell_type": "markdown",
   "id": "4387ddf4-061c-46d5-a1c2-bd4582112f1b",
   "metadata": {
    "colab_type": "text",
    "id": "ZaCCBMYgZWOg"
   },
   "source": [
    "### Convolutional Autoencoder\n",
    "\n",
    "A Convulutional Autoencoder Tties to reconstruct the input image by replacing the fully-connected layer of a CNN. It learns to remove noise from image and reconstruct missing parts.\n",
    "\n",
    "![](ConvolAutoEncode.png)"
   ]
  },
  {
   "cell_type": "markdown",
   "id": "abfe9add-2377-4fbf-9f0c-f571559f1511",
   "metadata": {},
   "source": [
    "## Variational Autoencoder\n",
    "\n",
    "\n",
    "The encoder produces a probability distribution for each latent variable rather than a single value.\n",
    "\n",
    "![](VAE_distrib.png)\n",
    "\n",
    "$\\text{Latent Variable Distributions. Source: Jeremy Jordan}$\n",
    "\n",
    "The decoder samples from these distribution to reconstruct the original image. The objective is to make the  reconstruction similar to the original image. The degree of similarity is determined by an information theoretic measure called Kullback-Leiber(KL)-Divergence which is determined by Variational Inference, an optimization method that approximates probability densities. \n",
    "\n",
    "A variational autoencoder learns smooth latent state representations of the input data. "
   ]
  },
  {
   "cell_type": "markdown",
   "id": "07437fd8-73e2-4ad4-a275-7561467c6d1e",
   "metadata": {},
   "source": [
    "#### Variational Inference\n",
    "\n",
    "Given: Observed variables **x** and hidden or latent variables **z** we wish to infer p(**z**|**x**)\n",
    "\n",
    "![](VarInfer.png)\n",
    "\n",
    "$\\text{Variational Inferrence. Source: David Blei}$\n",
    "\n",
    "To do this, we create a **variational distribution** over the hidden variables $q(z_{1:m}|\\nu)$ then find settings of $\\nu$ such that q is close to p. "
   ]
  },
  {
   "cell_type": "markdown",
   "id": "f996b823-1f92-4014-9c88-56ab50b3ea4f",
   "metadata": {},
   "source": [
    "### Kullback-Leibler (KL) Divergence (Relative Entropy)\n",
    "\n",
    "KL is a measure of the \"distance\" between two distributions. It measures the similarity of two distributions with Entropy as the measure. (it can't be a distance measure because $KL(q||p) \\ne KL(p||q)$"
   ]
  },
  {
   "cell_type": "markdown",
   "id": "ed1bb8e1-5c04-428c-bca1-91f62f0fef0b",
   "metadata": {},
   "source": [
    "**Information**: The reduction in uncertainty derived from learning an outcome, quantified by  minus the log probability of an event\n",
    "\n",
    "<div style=\"font-size: 125%;\">\n",
    "$$ I = -log_2P(x)$$\n",
    "</div>\n",
    "\n",
    "x is an event, e.g. a coin flip came up heads\n",
    "\n",
    "\n",
    "Probability $\\uparrow$ Information $\\downarrow$\n",
    "\n",
    "\n",
    "**Information Entropy**: Average Information\n",
    "\n",
    "<div style=\"font-size: 115%;\">\n",
    "$$ Entropy = H = -E(I) = -\\sum_i p(x_i)*log(p(x_i))$$\n",
    "</div>\n",
    "\n",
    "\n",
    "**Differential Entropy**: Entropy of Continuous Random Variables.\n",
    "\n",
    "<div style=\"font-size: 115%;\">\n",
    "$$Entropy = H = -\\int{p(x)*log(p(x)} dx$$\n",
    "</div>\n"
   ]
  },
  {
   "cell_type": "markdown",
   "id": "84feb4db-78ce-41c7-957b-fcbd5e4614d7",
   "metadata": {},
   "source": [
    "#### KL example for discrete distribution\n",
    "\n",
    "Suppose you have 3 4-sided die with these PMFs:\n",
    "\n",
    "* Dice A: p(x): (.25, .25, .25, .25)\n",
    "* Dice B: q(x): (.25, .26, .24, .25)\n",
    "* Dice C: r(x): (.4, .15, .05, .4)\n",
    "    "
   ]
  },
  {
   "cell_type": "code",
   "execution_count": 73,
   "id": "6057a249-58fb-413e-acc5-53a3eaf97568",
   "metadata": {},
   "outputs": [
    {
     "data": {
      "image/png": "[encoded data removed]",
      "text/plain": [
       "<Figure size 864x432 with 3 Axes>"
      ]
     },
     "metadata": {
      "needs_background": "light"
     },
     "output_type": "display_data"
    }
   ],
   "source": [
    "x = np.array([1,2,3,4])\n",
    "p = (.25, .25, .25, .25)\n",
    "q = (.25, .26, .24, .25)\n",
    "r = (.4, .15, .05, .4)\n",
    "\n",
    "fig,(ax1,ax2,ax3) = plt.subplots(1,3,figsize=(12,6))\n",
    "ax1.vlines(x,0,p)\n",
    "ax1.set_title(\"PMF for p\")\n",
    "ax2.vlines(x,0,q)\n",
    "ax2.set_title(\"PMF for q\")\n",
    "ax3.vlines(x,0,r)\n",
    "ax3.set_title(\"PMF for r\");"
   ]
  },
  {
   "cell_type": "markdown",
   "id": "fc4293bb-454b-449f-8269-a811e882db57",
   "metadata": {
    "tags": []
   },
   "source": [
    "   \n",
    "KL(p||q) should be small and KL(p||r) should be much larger."
   ]
  },
  {
   "cell_type": "markdown",
   "id": "fa9b39f6-8191-4e16-9009-a8cd5a8fff8a",
   "metadata": {
    "id": "PUJszG6X-IjC",
    "tags": []
   },
   "source": [
    "#### KL divergence example for continuous distribution\n"
   ]
  },
  {
   "cell_type": "code",
   "execution_count": 7,
   "id": "a1e927cc-bd32-45e2-b918-02f19ac25425",
   "metadata": {
    "colab": {
     "base_uri": "https://localhost:8080/"
    },
    "id": "8OEM2xJ39PUZ",
    "outputId": "b0011525-77d2-4c20-b708-17086bac1913"
   },
   "outputs": [
    {
     "name": "stdout",
     "output_type": "stream",
     "text": [
      "z: -3.810887336730957\n",
      "log prob pz: -8.18036937713623, prob: 0.0002800984657369554\n",
      "log prob qzx: -3.3604331016540527, prob: 0.03472021967172623\n",
      "kl_divergence: 4.819936275482178\n"
     ]
    }
   ],
   "source": [
    "import torch\n",
    "\n",
    "p = torch.distributions.Normal(0, 1)\n",
    "q = torch.distributions.Normal(2, 4)\n",
    "\n",
    "z = q.rsample()\n",
    "print(f'z: {z}')\n",
    "\n",
    "log_pz = p.log_prob(z)\n",
    "log_qzx = q.log_prob(z)\n",
    "\n",
    "print(f'log prob pz: {log_pz}, prob: {torch.exp(log_pz)}')\n",
    "print(f'log prob qzx: {log_qzx}, prob: {torch.exp(log_qzx)}')\n",
    "\n",
    "kl_divergence = log_qzx - log_pz\n",
    "print(f'kl_divergence: {kl_divergence}')"
   ]
  },
  {
   "cell_type": "markdown",
   "id": "87a2010b-a5c2-4931-bd4d-e4b396dea7ce",
   "metadata": {
    "id": "q_N9da8V-Qom"
   },
   "source": [
    "#### Move move q closer to p."
   ]
  },
  {
   "cell_type": "code",
   "execution_count": 11,
   "id": "76e55e14-a14d-4f7d-a4d5-83ee6e603caa",
   "metadata": {
    "colab": {
     "base_uri": "https://localhost:8080/"
    },
    "id": "q59dzIZq-eSG",
    "outputId": "da836119-546a-443e-93b3-7ea65e74138f"
   },
   "outputs": [
    {
     "name": "stdout",
     "output_type": "stream",
     "text": [
      "log prob qzx: -4.505165100097656, prob: 0.011051765643060207\n",
      "New kl_divergence: 3.675204277038574, Difference -1.1447319984436035\n"
     ]
    }
   ],
   "source": [
    "q = torch.distributions.Normal(1, 2)\n",
    "\n",
    "log_qzx = q.log_prob(z)\n",
    "print(f'log prob qzx: {log_qzx}, prob: {torch.exp(log_qzx)}')\n",
    "\n",
    "new_kl_divergence = log_qzx - log_pz\n",
    "print(f'New kl_divergence: {new_kl_divergence}, Difference {new_kl_divergence - kl_divergence}')"
   ]
  },
  {
   "cell_type": "markdown",
   "id": "c18ae924-335e-4d41-b648-0241fe7db1be",
   "metadata": {
    "tags": []
   },
   "source": [
    "#### KL-Divergence Definition\n",
    "\n",
    "<div style=\"font-size: 115%;\">\n",
    "$$KL(p||q) = \\sum p(x) log(p(x)) - \\sum p(x) log(q(x)) \\\\\n",
    "            = \\sum p(x)[log(p(x)) - log(q(x))] \\\\\n",
    "            = \\sum p(x) \\left [log\\frac{p(x)}{q(x)} \\right ] = - \\sum p(x) \\left [log\\frac{q(x)}{p(x)} \\right]$$\n",
    "</div>\n",
    "    "
   ]
  },
  {
   "cell_type": "markdown",
   "id": "7cdeef58-24ba-42b0-a009-0954b4149063",
   "metadata": {},
   "source": [
    "#### Properties of KL Divergence\n",
    "\n",
    "* KL Divergence >= 0, 0 when p(x) = q(x)\n",
    "* Asymmetric: KL(p||q) $\\ne$ KL(q||p). Note: Not really a distance measure since KL(p||q) $\\ne$ KL(q||p)"
   ]
  },
  {
   "cell_type": "markdown",
   "id": "9dfbc133-408a-4f20-92cc-b9a2eadd2ee6",
   "metadata": {},
   "source": [
    "### Minimizing the distance between q(z) and p(z|x)\n",
    "\n",
    "We use q(z) to estimate p(z|x). We wnat to minimize the difference between the target p(z|x) and the proposal q(z), i.e. minimize KL(q(z)||p(z|x))\n",
    "\n",
    "It is hard to compute p(z|x), but remember $p(z|x) = \\frac{p(z,x)}{p(x)}$.\n",
    "\n",
    "<div style=\"font-size: 115%;\">\n",
    "   \n",
    "\n",
    "$$KL(q(z)||p(z|x)) = -\\sum q(z) log \\frac{p(z|x)}{q(z)}$$\n",
    "\n",
    "$$p(z|x) = \\frac{p(z,x)}{p(x)} $$\n",
    "\n",
    "$$KL = -\\sum q(z) log \\frac{p(x,z)}{p(x)}\\frac{1}{q(z)} $$\n",
    "$$KL = -\\sum q(z) log\\frac{p(x,z)}{q(z)}\\frac{1}{p(x)} $$\n",
    "$$KL = -\\sum q(z) [log \\frac{p(x,z)}{q(z)} + log \\frac{1}{p(x)}] $$\n",
    "$$KL = -\\sum q(z) [log \\frac{p(x,z)}{q(z)} - log( p(x))] $$\n",
    "$$KL = -\\sum q(z)log \\frac{p(x,z)}{q(z)} + \\sum q(z) log(p(x)) $$\n",
    "$$KL + \\sum q(z)log \\frac{p(x,z)}{q(z)}  = log(p(x))$$\n",
    "$$KL + \\sum q(z)log (p(x,z)) - \\sum q(z) log(q(z)) = log(p(x)$$\n",
    "$$KL + L(x) = log(p(x))$$\n",
    "</div>\n",
    "\n",
    "Note:\n",
    "* log (p(x)) < 0 since $0 \\le p(x) \\le 1$, and log(1) = 0\n",
    "* log (p(x)) is fixed, i.e. a constant\n",
    "\n",
    "so KL divergence is bounded and nonnegative.\n",
    "\n",
    "Since KL + L equals a constant, if one increases the other must decrease. L(X) is called the **Evidence Lower Bound (ELBO)**. To minimize KL, maximize L, the ELBO.\n",
    "\n",
    "#### Evidence Lower Bound (ELBO)\n",
    "\n",
    "$$L(x) = \\sum q(z)log( p(x,z)) - \\sum q(z) log (q(z))$$\n",
    "\n",
    "\n",
    "<div style=\"font-size: 110%;\">\n",
    "$$L(x) =  \\sum q(z)log (p(x,z)/q(z))  = \\\\\n",
    " \\sum q(z)[log p(x|z)p(z)/q(z)]  = \\\\\n",
    "\\sum q(z)[log (p(x|z)) + log p(z)/Q(z)] = \\\\\n",
    "\\sum q(z)log (p(x|z) + \\sum q(z)log p(x|z)/q(z) = \\\\\n",
    "\\mathbb{E}_q log p(x|z) - KL(q(z)||p(x))$$\n",
    "</div>\n",
    "\n",
    "The first term is the expectation of the likelihood of x and the second term is the similarity of q(z) to p(x).\n",
    "\n",
    "This is the objective function for training a VAE.\n",
    "\n",
    "### VAE Latent Space Representation\n",
    "\n",
    "![](VAE_Mapping.png)\n",
    "\n",
    "$\\text{Encoder, Decoder Distributions. Source: Jeremy Jordan}$\n",
    "\n",
    "q(z|x) maps x to z, p(x|z) maps z to x.\n",
    "\n",
    "#### Assumption: The latent variables have Normal distributions with parameters mean and variance\n",
    "\n",
    "The encoder produces a mean and variance for each Normally distributed latent variable.\n",
    "\n",
    "The decoder can sample from these Normal random variables to reconstruct the image."
   ]
  },
  {
   "cell_type": "markdown",
   "id": "c99d2605-d09d-4c21-85f2-2201431357c6",
   "metadata": {},
   "source": [
    "![](VAE.png)\n",
    "\n",
    "$\\text{Variational Autoencoder. Source: Jeremy Jordan}$"
   ]
  },
  {
   "cell_type": "markdown",
   "id": "23296579-80ed-4301-afdc-d2e0fb767620",
   "metadata": {},
   "source": [
    "#### Training\n",
    "\n",
    "Training with backpropagation can't be implemented through the random sampling step in the algorithm. However there is a trick called 'Reparameterization' that allows backpropagation through the node.\n",
    "\n",
    "![](Reparm.png)\n",
    "\n",
    "$\\text{Reparameterization. Source: Jeremy Jordan}$\n",
    "\n",
    "Reparameterization uses the fact that any Normal distribution can be generated by shifting and scaling a standard Normal distribution. \n",
    "\n",
    "With the reparameterization backprop can be executed on the deterministic node and still allow sampling to occur.\n",
    "\n",
    "![](Reparm2.png)\n",
    "\n",
    "$\\text{Backpropagation. Source: Jeremy Jordan}$"
   ]
  },
  {
   "cell_type": "markdown",
   "id": "08ad16d2-1fff-4b26-8dac-a7f7826b071d",
   "metadata": {
    "colab_type": "text",
    "id": "qZwO4wTvZWO1"
   },
   "source": [
    "### References\n",
    "\n",
    "https://towardsdatascience.com/applied-deep-learning-part-3-autoencoders-1c083af4d798\n",
    "\n",
    "https://blog.keras.io/building-autoencoders-in-keras.html\n",
    "\n",
    "https://machinelearningmastery.com/lstm-autoencoders/\n",
    "\n",
    "https://analyticsindiamag.com/how-to-implement-convolutional-autoencoder-in-pytorch-with-cuda/\n",
    "\n",
    "https://www.jeremyjordan.me/variational-autoencoders/\n",
    "\n",
    "https://towardsdatascience.com/variational-autoencoder-demystified-with-pytorch-implementation-3a06bee395ed\n",
    "\n",
    "https://arxiv.org/abs/1601.00670"
   ]
  },
  {
   "cell_type": "code",
   "execution_count": null,
   "id": "2107d4d7-0135-4ac7-8b95-bdbd0cdc6183",
   "metadata": {},
   "outputs": [],
   "source": []
  }
 ],
 "metadata": {
  "kernelspec": {
   "display_name": "Python 3",
   "language": "python",
   "name": "python3"
  },
  "language_info": {
   "codemirror_mode": {
    "name": "ipython",
    "version": 3
   },
   "file_extension": ".py",
   "mimetype": "text/x-python",
   "name": "python",
   "nbconvert_exporter": "python",
   "pygments_lexer": "ipython3",
   "version": "3.8.8"
  }
 },
 "nbformat": 4,
 "nbformat_minor": 5
}
