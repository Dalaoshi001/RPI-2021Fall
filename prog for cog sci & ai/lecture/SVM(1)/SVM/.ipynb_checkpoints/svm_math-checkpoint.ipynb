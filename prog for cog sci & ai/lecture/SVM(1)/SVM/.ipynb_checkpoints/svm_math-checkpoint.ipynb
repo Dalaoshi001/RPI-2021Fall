{
 "cells": [
  {
   "cell_type": "code",
   "execution_count": 1,
   "metadata": {},
   "outputs": [],
   "source": [
    "import numpy.linalg as la"
   ]
  },
  {
   "cell_type": "markdown",
   "metadata": {},
   "source": [
    "### Hyperplane\n",
    "\n",
    "#### Equation of hyperplane\n",
    "\n",
    "$$y -mx -b = 0$$\n",
    "\n",
    "$$\\vec{w}\\cdot \\vec{x} = 0$$\n",
    "\n",
    "Let $\\vec{w} = (-b,-1,1), \\vec{x} = (1,x,y)$\n",
    "\n",
    "$$\\vec{w}\\cdot \\vec{x} = y -mx -b$$\n",
    "\n",
    "#### Compute distance from hyperplane to a point\n",
    "\n",
    "* Let b = 0\n",
    "* $\\vec{w}$ is unit vector perpendicular to the hyperplane\n",
    "* Compute distance from point A to hyperplane\n",
    "\n",
    "\n",
    "![](hyperplane.png)\n",
    "$$x_2 = -2x_1$$\n",
    "\n",
    "* Project $\\vec{A}$ onto $\\vec{w}$\n",
    "![](hyperplane2.png)\n",
    "\n",
    "* Calculate $||\\vec{p}||$"
   ]
  },
  {
   "cell_type": "code",
   "execution_count": 7,
   "metadata": {},
   "outputs": [
    {
     "name": "stdout",
     "output_type": "stream",
     "text": [
      "Norm w = 2.23606797749979\n",
      "Unit vector = [0.89442719 0.4472136 ]\n"
     ]
    }
   ],
   "source": [
    "w = np.array([2,1])\n",
    "A = np.array([3,4])\n",
    "print(f'Norm w = {la.norm(w)}')\n",
    "u = w/la.norm(w)\n",
    "print(f'Unit vector = {u}')"
   ]
  },
  {
   "cell_type": "code",
   "execution_count": 17,
   "metadata": {},
   "outputs": [
    {
     "name": "stdout",
     "output_type": "stream",
     "text": [
      "p is the projection of A unto u [4. 2.]\n",
      "Length of p =  4.47213595499958\n"
     ]
    }
   ],
   "source": [
    "p = (u.dot(A))*u # p is the projection of A unto u\n",
    "print(f'p is the projection of A unto u {p}')\n",
    "p_norm = la.norm(p)\n",
    "print(f'Length of p =  {p_norm}')"
   ]
  },
  {
   "cell_type": "markdown",
   "metadata": {},
   "source": [
    "#### Margin of hyperplane\n",
    "\n",
    "margin = 2$||\\vec{p}||$"
   ]
  },
  {
   "cell_type": "code",
   "execution_count": 18,
   "metadata": {},
   "outputs": [
    {
     "data": {
      "text/plain": [
       "8.94427190999916"
      ]
     },
     "execution_count": 18,
     "metadata": {},
     "output_type": "execute_result"
    }
   ],
   "source": [
    "margin = 2*p_norm;margin"
   ]
  },
  {
   "cell_type": "code",
   "execution_count": 19,
   "metadata": {},
   "outputs": [
    {
     "data": {
      "text/plain": [
       "8.94427190999916"
      ]
     },
     "execution_count": 19,
     "metadata": {},
     "output_type": "execute_result"
    }
   ],
   "source": [
    "4*np.sqrt(5)"
   ]
  },
  {
   "cell_type": "markdown",
   "metadata": {},
   "source": [
    "#### Find width of maximum separating \n",
    "\n",
    "![](hyperplane3.png)\n",
    "\n",
    "Let $\\vec{w} = (-m,1), \\vec{x} = (x_1,x_2)$, then equation for hyperplane H is: \n",
    "\n",
    "$$H: \\vec{w}\\cdot \\vec{x} + b = 0$$"
   ]
  },
  {
   "cell_type": "markdown",
   "metadata": {},
   "source": [
    "Let $H_1$ be a hyperplane with a intercept 1 greater than H and $H_0$ be a hyperplane with a intercept 1 less than H. H will be equidistant for $H_1$ and $H_0$.\n",
    "\n",
    "$$H_1: \\vec{w}\\cdot \\vec{x} + b = 1 $$\n",
    "$$H_0: \\vec{w}\\cdot \\vec{x} + b = -1$$"
   ]
  },
  {
   "cell_type": "markdown",
   "metadata": {},
   "source": [
    "#### Impose the following constraints:\n",
    "\n",
    "Assume the classes are $y_i$ = $\\{-1,1\\}$, for each data point x then\n",
    "$$\\vec{w}\\cdot \\vec{x_i} + b \\ge 1 \\text{ for }x_i\\text{ having class 1 or} \\\\\n",
    "  \\vec{w}\\cdot \\vec{x_i} + b \\le 1 \\text{ for }x_i\\text{ having class -1} $$\n",
    "  \n",
    "These two constraints can be combined into 1 constraint:\n",
    "\n",
    "$$y(\\vec{w}\\cdot \\vec{x} + b) \\ge 1 \\text{ for all data points}$$\n",
    "\n",
    "There a many hyperplanes that satisfy this constraint. \n",
    "\n"
   ]
  },
  {
   "cell_type": "markdown",
   "metadata": {},
   "source": [
    "#### Find $\\vec{w}$ and b that maximizes the distance between the hyperplanes\n",
    "\n",
    "Let $x_0$ be a point in the hyperplane $H_0$  \n",
    "\n",
    "Let m be the margin.  \n",
    "\n",
    "Let $\\vec{u} = \\frac{\\vec{w}}{||\\vec{w}}$, the unit vector perpendicular to the hyperplane\n",
    "\n",
    "![](hyperplane4.png)\n",
    "\n",
    "$$ \\vec{k} = m\\vec{u} = m \\frac{\\vec{w}}{||\\vec{w}||}$$\n",
    "\n",
    "$z_0$ is the point in $H_1$ closest to $x_0$.\n",
    "\n",
    "$$\\vec{w} \\cdot \\vec{z}_0 + b = 1 \\\\\n",
    "  \\vec{w} \\cdot (\\vec{x}_0 + \\vec{k}) + b = 1 \\\\\n",
    "  \\vec{w} \\cdot (\\vec{x}_0 + m \\frac{\\vec{w}}{||\\vec{w}||}) + b = 1 \\\\\n",
    "  \\vec{w} \\cdot \\vec{x}_0 + m \\frac{||\\vec{w}||^2}{||\\vec{w}||} + b = 1 \\\\\n",
    "  \\vec{w} \\cdot \\vec{x}_0 + b = 1 - m||\\vec{w}||$$\n",
    "  \n",
    "Substitute -1 for $\\vec{w} \\cdot \\vec{x}_0 + b$ since $\\vec{x}_0$ is in $H_0$\n",
    "\n",
    "$$ m = \\frac{2}{||\\vec{w}||}$$"
   ]
  },
  {
   "cell_type": "code",
   "execution_count": null,
   "metadata": {},
   "outputs": [],
   "source": []
  },
  {
   "cell_type": "code",
   "execution_count": null,
   "metadata": {},
   "outputs": [],
   "source": []
  }
 ],
 "metadata": {
  "kernelspec": {
   "display_name": "Python 3",
   "language": "python",
   "name": "python3"
  },
  "language_info": {
   "codemirror_mode": {
    "name": "ipython",
    "version": 3
   },
   "file_extension": ".py",
   "mimetype": "text/x-python",
   "name": "python",
   "nbconvert_exporter": "python",
   "pygments_lexer": "ipython3",
   "version": "3.7.3"
  },
  "varInspector": {
   "cols": {
    "lenName": 16,
    "lenType": 16,
    "lenVar": 40
   },
   "kernels_config": {
    "python": {
     "delete_cmd_postfix": "",
     "delete_cmd_prefix": "del ",
     "library": "var_list.py",
     "varRefreshCmd": "print(var_dic_list())"
    },
    "r": {
     "delete_cmd_postfix": ") ",
     "delete_cmd_prefix": "rm(",
     "library": "var_list.r",
     "varRefreshCmd": "cat(var_dic_list()) "
    }
   },
   "types_to_exclude": [
    "module",
    "function",
    "builtin_function_or_method",
    "instance",
    "_Feature"
   ],
   "window_display": false
  }
 },
 "nbformat": 4,
 "nbformat_minor": 4
}
