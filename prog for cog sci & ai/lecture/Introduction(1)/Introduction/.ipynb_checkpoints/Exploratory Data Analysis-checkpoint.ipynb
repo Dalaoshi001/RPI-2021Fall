{
 "cells": [
  {
   "cell_type": "markdown",
   "metadata": {},
   "source": [
    "## Exploratory Data Analysis (EDA) and Data Preprocessing (DP)"
   ]
  },
  {
   "cell_type": "markdown",
   "metadata": {},
   "source": [
    "### EDA Imports"
   ]
  },
  {
   "cell_type": "code",
   "execution_count": 3,
   "metadata": {},
   "outputs": [
    {
     "name": "stdout",
     "output_type": "stream",
     "text": [
      "3.7.3 (default, Mar 27 2019, 16:54:48) \n",
      "[Clang 4.0.1 (tags/RELEASE_401/final)]\n"
     ]
    }
   ],
   "source": [
    "import sys\n",
    "print(sys.version)\n",
    "assert sys.version_info >= (3, 6)\n",
    "\n",
    "import warnings\n",
    "warnings.simplefilter(action='ignore', category=FutureWarning)\n",
    "warnings.simplefilter(action='ignore', category=UserWarning)\n",
    "\n",
    "import numpy as np\n",
    "import pandas as pd\n",
    "from scipy import stats\n",
    "import seaborn as sns\n",
    "import matplotlib.pyplot as plt\n",
    "%matplotlib inline"
   ]
  },
  {
   "cell_type": "markdown",
   "metadata": {},
   "source": [
    "### DP Imports from sklearn"
   ]
  },
  {
   "cell_type": "code",
   "execution_count": 4,
   "metadata": {},
   "outputs": [],
   "source": [
    "from sklearn.preprocessing import LabelEncoder,StandardScaler\n",
    "from sklearn.model_selection import train_test_split\n"
   ]
  },
  {
   "cell_type": "markdown",
   "metadata": {},
   "source": [
    "### Read in data with Pandas into DataFrame\n",
    "\n",
    "https://pandas.pydata.org/pandas-docs/version/0.21/generated/pandas.read_csv.html#pandas.read_csv"
   ]
  },
  {
   "cell_type": "code",
   "execution_count": 19,
   "metadata": {},
   "outputs": [
    {
     "data": {
      "text/html": [
       "<div>\n",
       "<style scoped>\n",
       "    .dataframe tbody tr th:only-of-type {\n",
       "        vertical-align: middle;\n",
       "    }\n",
       "\n",
       "    .dataframe tbody tr th {\n",
       "        vertical-align: top;\n",
       "    }\n",
       "\n",
       "    .dataframe thead th {\n",
       "        text-align: right;\n",
       "    }\n",
       "</style>\n",
       "<table border=\"1\" class=\"dataframe\">\n",
       "  <thead>\n",
       "    <tr style=\"text-align: right;\">\n",
       "      <th></th>\n",
       "      <th>Country</th>\n",
       "      <th>Region</th>\n",
       "    </tr>\n",
       "  </thead>\n",
       "  <tbody>\n",
       "    <tr>\n",
       "      <th>0</th>\n",
       "      <td>Algeria</td>\n",
       "      <td>AFRICA</td>\n",
       "    </tr>\n",
       "    <tr>\n",
       "      <th>1</th>\n",
       "      <td>Angola</td>\n",
       "      <td>AFRICA</td>\n",
       "    </tr>\n",
       "    <tr>\n",
       "      <th>2</th>\n",
       "      <td>Benin</td>\n",
       "      <td>AFRICA</td>\n",
       "    </tr>\n",
       "    <tr>\n",
       "      <th>3</th>\n",
       "      <td>Botswana</td>\n",
       "      <td>AFRICA</td>\n",
       "    </tr>\n",
       "    <tr>\n",
       "      <th>4</th>\n",
       "      <td>Burkina</td>\n",
       "      <td>AFRICA</td>\n",
       "    </tr>\n",
       "  </tbody>\n",
       "</table>\n",
       "</div>"
      ],
      "text/plain": [
       "    Country  Region\n",
       "0   Algeria  AFRICA\n",
       "1    Angola  AFRICA\n",
       "2     Benin  AFRICA\n",
       "3  Botswana  AFRICA\n",
       "4   Burkina  AFRICA"
      ]
     },
     "execution_count": 19,
     "metadata": {},
     "output_type": "execute_result"
    }
   ],
   "source": [
    "url=\"https://raw.githubusercontent.com/cs109/2014_data/master/countries.csv\"\n",
    "df = pd.read_csv(url) # Pandas version 0.19.2 or later\n",
    "df.head()"
   ]
  },
  {
   "cell_type": "code",
   "execution_count": 22,
   "metadata": {},
   "outputs": [
    {
     "name": "stdout",
     "output_type": "stream",
     "text": [
      "Iris is a <class 'pandas.core.frame.DataFrame'>\n"
     ]
    },
    {
     "data": {
      "text/html": [
       "<div>\n",
       "<style scoped>\n",
       "    .dataframe tbody tr th:only-of-type {\n",
       "        vertical-align: middle;\n",
       "    }\n",
       "\n",
       "    .dataframe tbody tr th {\n",
       "        vertical-align: top;\n",
       "    }\n",
       "\n",
       "    .dataframe thead th {\n",
       "        text-align: right;\n",
       "    }\n",
       "</style>\n",
       "<table border=\"1\" class=\"dataframe\">\n",
       "  <thead>\n",
       "    <tr style=\"text-align: right;\">\n",
       "      <th></th>\n",
       "      <th>sepal_length</th>\n",
       "      <th>sepal_width</th>\n",
       "      <th>petal_length</th>\n",
       "      <th>petal_width</th>\n",
       "      <th>species</th>\n",
       "    </tr>\n",
       "  </thead>\n",
       "  <tbody>\n",
       "    <tr>\n",
       "      <th>145</th>\n",
       "      <td>6.7</td>\n",
       "      <td>3.0</td>\n",
       "      <td>5.2</td>\n",
       "      <td>2.3</td>\n",
       "      <td>virginica</td>\n",
       "    </tr>\n",
       "    <tr>\n",
       "      <th>146</th>\n",
       "      <td>6.3</td>\n",
       "      <td>2.5</td>\n",
       "      <td>5.0</td>\n",
       "      <td>1.9</td>\n",
       "      <td>virginica</td>\n",
       "    </tr>\n",
       "    <tr>\n",
       "      <th>147</th>\n",
       "      <td>6.5</td>\n",
       "      <td>3.0</td>\n",
       "      <td>5.2</td>\n",
       "      <td>2.0</td>\n",
       "      <td>virginica</td>\n",
       "    </tr>\n",
       "    <tr>\n",
       "      <th>148</th>\n",
       "      <td>6.2</td>\n",
       "      <td>3.4</td>\n",
       "      <td>5.4</td>\n",
       "      <td>2.3</td>\n",
       "      <td>virginica</td>\n",
       "    </tr>\n",
       "    <tr>\n",
       "      <th>149</th>\n",
       "      <td>5.9</td>\n",
       "      <td>3.0</td>\n",
       "      <td>5.1</td>\n",
       "      <td>1.8</td>\n",
       "      <td>virginica</td>\n",
       "    </tr>\n",
       "  </tbody>\n",
       "</table>\n",
       "</div>"
      ],
      "text/plain": [
       "     sepal_length  sepal_width  petal_length  petal_width    species\n",
       "145           6.7          3.0           5.2          2.3  virginica\n",
       "146           6.3          2.5           5.0          1.9  virginica\n",
       "147           6.5          3.0           5.2          2.0  virginica\n",
       "148           6.2          3.4           5.4          2.3  virginica\n",
       "149           5.9          3.0           5.1          1.8  virginica"
      ]
     },
     "execution_count": 22,
     "metadata": {},
     "output_type": "execute_result"
    }
   ],
   "source": [
    "iris = pd.read_csv(\"iris.csv\")\n",
    "print(f'Iris is a {type(iris)}')\n",
    "iris.tail() # Shows last 5 rows of dataframe with column labels"
   ]
  },
  {
   "cell_type": "markdown",
   "metadata": {},
   "source": [
    "### Data Frames\n",
    " \n",
    "* The main data structure for data analysis\n",
    "* Columns are variables, rows are observations\n",
    "* Number of rows in each column must be the same\n",
    "* Columns can be different data types\n",
    "* Extensive set of methods\n",
    "* Typically created by reading in a dataset\n",
    "* Some packages have built-in datasets\n",
    "* Three types of indexing\n",
    "    - []  \n",
    "    - .loc  \n",
    "    - .iloc\n",
    "\n",
    "https://pandas.pydata.org/pandas-docs/stable/generated/pandas.DataFrame.html"
   ]
  },
  {
   "cell_type": "markdown",
   "metadata": {},
   "source": [
    "#### Columns of data frame are pandas series data structure\n",
    "\n",
    "* A NumPy array (vector) and an index that labels each element in the vector."
   ]
  },
  {
   "cell_type": "code",
   "execution_count": 12,
   "metadata": {},
   "outputs": [
    {
     "name": "stdout",
     "output_type": "stream",
     "text": [
      "Type of DataFrame is <class 'pandas.core.series.Series'>\n"
     ]
    },
    {
     "data": {
      "text/plain": [
       "0    5.1\n",
       "1    4.9\n",
       "2    4.7\n",
       "3    4.6\n",
       "4    5.0\n",
       "Name: sepal_length, dtype: float64"
      ]
     },
     "execution_count": 12,
     "metadata": {},
     "output_type": "execute_result"
    }
   ],
   "source": [
    "sep_length = iris.loc[:,'sepal_length']\n",
    "print(f'Type of DataFrame is {type(sep_length)}')\n",
    "sep_length[0:5]"
   ]
  },
  {
   "cell_type": "markdown",
   "metadata": {},
   "source": [
    "#### Convert Series to Numpy array"
   ]
  },
  {
   "cell_type": "code",
   "execution_count": 18,
   "metadata": {},
   "outputs": [
    {
     "data": {
      "text/plain": [
       "numpy.ndarray"
      ]
     },
     "execution_count": 18,
     "metadata": {},
     "output_type": "execute_result"
    }
   ],
   "source": [
    "sep_width = iris.iloc[0:5,1].values \n",
    "type(sep_width)"
   ]
  },
  {
   "cell_type": "markdown",
   "metadata": {},
   "source": [
    "### Type of Task:  Classification Task\n",
    "\n",
    "* Classification task: **categorical dependent variable and numeric or categorical independent variables**\n",
    "* We want to predict (i.e. classify) which species an observation (i.e. data point) will belong to\n",
    "* The Dependent or Target Variable is the species. It is a **Categorical Variable**.\n",
    "* The Independent Variables are sepal_length, sepal_width, petal_length and petal_width"
   ]
  },
  {
   "cell_type": "markdown",
   "metadata": {},
   "source": [
    "### Filter data using DataFrame query method"
   ]
  },
  {
   "cell_type": "code",
   "execution_count": 110,
   "metadata": {},
   "outputs": [
    {
     "data": {
      "text/html": [
       "<div>\n",
       "<style scoped>\n",
       "    .dataframe tbody tr th:only-of-type {\n",
       "        vertical-align: middle;\n",
       "    }\n",
       "\n",
       "    .dataframe tbody tr th {\n",
       "        vertical-align: top;\n",
       "    }\n",
       "\n",
       "    .dataframe thead th {\n",
       "        text-align: right;\n",
       "    }\n",
       "</style>\n",
       "<table border=\"1\" class=\"dataframe\">\n",
       "  <thead>\n",
       "    <tr style=\"text-align: right;\">\n",
       "      <th></th>\n",
       "      <th>sepal_length</th>\n",
       "      <th>sepal_width</th>\n",
       "      <th>petal_length</th>\n",
       "      <th>petal_width</th>\n",
       "      <th>species</th>\n",
       "    </tr>\n",
       "  </thead>\n",
       "  <tbody>\n",
       "    <tr>\n",
       "      <th>50</th>\n",
       "      <td>7.0</td>\n",
       "      <td>3.2</td>\n",
       "      <td>4.7</td>\n",
       "      <td>1.4</td>\n",
       "      <td>versicolor</td>\n",
       "    </tr>\n",
       "    <tr>\n",
       "      <th>51</th>\n",
       "      <td>6.4</td>\n",
       "      <td>3.2</td>\n",
       "      <td>4.5</td>\n",
       "      <td>1.5</td>\n",
       "      <td>versicolor</td>\n",
       "    </tr>\n",
       "    <tr>\n",
       "      <th>52</th>\n",
       "      <td>6.9</td>\n",
       "      <td>3.1</td>\n",
       "      <td>4.9</td>\n",
       "      <td>1.5</td>\n",
       "      <td>versicolor</td>\n",
       "    </tr>\n",
       "    <tr>\n",
       "      <th>53</th>\n",
       "      <td>5.5</td>\n",
       "      <td>2.3</td>\n",
       "      <td>4.0</td>\n",
       "      <td>1.3</td>\n",
       "      <td>versicolor</td>\n",
       "    </tr>\n",
       "    <tr>\n",
       "      <th>54</th>\n",
       "      <td>6.5</td>\n",
       "      <td>2.8</td>\n",
       "      <td>4.6</td>\n",
       "      <td>1.5</td>\n",
       "      <td>versicolor</td>\n",
       "    </tr>\n",
       "  </tbody>\n",
       "</table>\n",
       "</div>"
      ],
      "text/plain": [
       "    sepal_length  sepal_width  petal_length  petal_width     species\n",
       "50           7.0          3.2           4.7          1.4  versicolor\n",
       "51           6.4          3.2           4.5          1.5  versicolor\n",
       "52           6.9          3.1           4.9          1.5  versicolor\n",
       "53           5.5          2.3           4.0          1.3  versicolor\n",
       "54           6.5          2.8           4.6          1.5  versicolor"
      ]
     },
     "execution_count": 110,
     "metadata": {},
     "output_type": "execute_result"
    }
   ],
   "source": [
    "iris = iris.query(\"species == 'versicolor' or species == 'virginica'\")\n",
    "iris.head()"
   ]
  },
  {
   "cell_type": "markdown",
   "metadata": {},
   "source": [
    "#### Add column to DataFrame and list column names"
   ]
  },
  {
   "cell_type": "code",
   "execution_count": 21,
   "metadata": {},
   "outputs": [
    {
     "data": {
      "text/plain": [
       "['sepal_length',\n",
       " 'sepal_width',\n",
       " 'petal_length',\n",
       " 'petal_width',\n",
       " 'species',\n",
       " 'width_diff']"
      ]
     },
     "execution_count": 21,
     "metadata": {},
     "output_type": "execute_result"
    }
   ],
   "source": [
    "iris['width_diff'] = iris.loc[:,'sepal_width'] - iris.loc[:,'petal_width']\n",
    "col_names = iris.columns.tolist()\n",
    "col_names"
   ]
  },
  {
   "cell_type": "markdown",
   "metadata": {},
   "source": [
    "### Descriptive Statistics"
   ]
  },
  {
   "cell_type": "code",
   "execution_count": 111,
   "metadata": {},
   "outputs": [
    {
     "name": "stdout",
     "output_type": "stream",
     "text": [
      "Iris is a <class 'pandas.core.frame.DataFrame'>\n"
     ]
    },
    {
     "data": {
      "text/html": [
       "<div>\n",
       "<style scoped>\n",
       "    .dataframe tbody tr th:only-of-type {\n",
       "        vertical-align: middle;\n",
       "    }\n",
       "\n",
       "    .dataframe tbody tr th {\n",
       "        vertical-align: top;\n",
       "    }\n",
       "\n",
       "    .dataframe thead th {\n",
       "        text-align: right;\n",
       "    }\n",
       "</style>\n",
       "<table border=\"1\" class=\"dataframe\">\n",
       "  <thead>\n",
       "    <tr style=\"text-align: right;\">\n",
       "      <th></th>\n",
       "      <th>sepal_length</th>\n",
       "      <th>sepal_width</th>\n",
       "      <th>petal_length</th>\n",
       "      <th>petal_width</th>\n",
       "    </tr>\n",
       "  </thead>\n",
       "  <tbody>\n",
       "    <tr>\n",
       "      <th>count</th>\n",
       "      <td>100.000000</td>\n",
       "      <td>100.000000</td>\n",
       "      <td>100.000000</td>\n",
       "      <td>100.000000</td>\n",
       "    </tr>\n",
       "    <tr>\n",
       "      <th>mean</th>\n",
       "      <td>6.262000</td>\n",
       "      <td>2.872000</td>\n",
       "      <td>4.906000</td>\n",
       "      <td>1.676000</td>\n",
       "    </tr>\n",
       "    <tr>\n",
       "      <th>std</th>\n",
       "      <td>0.662834</td>\n",
       "      <td>0.332751</td>\n",
       "      <td>0.825578</td>\n",
       "      <td>0.424769</td>\n",
       "    </tr>\n",
       "    <tr>\n",
       "      <th>min</th>\n",
       "      <td>4.900000</td>\n",
       "      <td>2.000000</td>\n",
       "      <td>3.000000</td>\n",
       "      <td>1.000000</td>\n",
       "    </tr>\n",
       "    <tr>\n",
       "      <th>25%</th>\n",
       "      <td>5.800000</td>\n",
       "      <td>2.700000</td>\n",
       "      <td>4.375000</td>\n",
       "      <td>1.300000</td>\n",
       "    </tr>\n",
       "    <tr>\n",
       "      <th>50%</th>\n",
       "      <td>6.300000</td>\n",
       "      <td>2.900000</td>\n",
       "      <td>4.900000</td>\n",
       "      <td>1.600000</td>\n",
       "    </tr>\n",
       "    <tr>\n",
       "      <th>75%</th>\n",
       "      <td>6.700000</td>\n",
       "      <td>3.025000</td>\n",
       "      <td>5.525000</td>\n",
       "      <td>2.000000</td>\n",
       "    </tr>\n",
       "    <tr>\n",
       "      <th>max</th>\n",
       "      <td>7.900000</td>\n",
       "      <td>3.800000</td>\n",
       "      <td>6.900000</td>\n",
       "      <td>2.500000</td>\n",
       "    </tr>\n",
       "  </tbody>\n",
       "</table>\n",
       "</div>"
      ],
      "text/plain": [
       "       sepal_length  sepal_width  petal_length  petal_width\n",
       "count    100.000000   100.000000    100.000000   100.000000\n",
       "mean       6.262000     2.872000      4.906000     1.676000\n",
       "std        0.662834     0.332751      0.825578     0.424769\n",
       "min        4.900000     2.000000      3.000000     1.000000\n",
       "25%        5.800000     2.700000      4.375000     1.300000\n",
       "50%        6.300000     2.900000      4.900000     1.600000\n",
       "75%        6.700000     3.025000      5.525000     2.000000\n",
       "max        7.900000     3.800000      6.900000     2.500000"
      ]
     },
     "execution_count": 111,
     "metadata": {},
     "output_type": "execute_result"
    }
   ],
   "source": [
    "iris.describe()"
   ]
  },
  {
   "cell_type": "code",
   "execution_count": 113,
   "metadata": {},
   "outputs": [
    {
     "data": {
      "text/html": [
       "<div>\n",
       "<style scoped>\n",
       "    .dataframe tbody tr th:only-of-type {\n",
       "        vertical-align: middle;\n",
       "    }\n",
       "\n",
       "    .dataframe tbody tr th {\n",
       "        vertical-align: top;\n",
       "    }\n",
       "\n",
       "    .dataframe thead th {\n",
       "        text-align: right;\n",
       "    }\n",
       "</style>\n",
       "<table border=\"1\" class=\"dataframe\">\n",
       "  <thead>\n",
       "    <tr style=\"text-align: right;\">\n",
       "      <th></th>\n",
       "      <th>sepal_length</th>\n",
       "      <th>sepal_width</th>\n",
       "      <th>petal_length</th>\n",
       "      <th>petal_width</th>\n",
       "    </tr>\n",
       "  </thead>\n",
       "  <tbody>\n",
       "    <tr>\n",
       "      <th>sepal_length</th>\n",
       "      <td>1.000000</td>\n",
       "      <td>0.553855</td>\n",
       "      <td>0.828479</td>\n",
       "      <td>0.593709</td>\n",
       "    </tr>\n",
       "    <tr>\n",
       "      <th>sepal_width</th>\n",
       "      <td>0.553855</td>\n",
       "      <td>1.000000</td>\n",
       "      <td>0.519802</td>\n",
       "      <td>0.566203</td>\n",
       "    </tr>\n",
       "    <tr>\n",
       "      <th>petal_length</th>\n",
       "      <td>0.828479</td>\n",
       "      <td>0.519802</td>\n",
       "      <td>1.000000</td>\n",
       "      <td>0.823348</td>\n",
       "    </tr>\n",
       "    <tr>\n",
       "      <th>petal_width</th>\n",
       "      <td>0.593709</td>\n",
       "      <td>0.566203</td>\n",
       "      <td>0.823348</td>\n",
       "      <td>1.000000</td>\n",
       "    </tr>\n",
       "  </tbody>\n",
       "</table>\n",
       "</div>"
      ],
      "text/plain": [
       "              sepal_length  sepal_width  petal_length  petal_width\n",
       "sepal_length      1.000000     0.553855      0.828479     0.593709\n",
       "sepal_width       0.553855     1.000000      0.519802     0.566203\n",
       "petal_length      0.828479     0.519802      1.000000     0.823348\n",
       "petal_width       0.593709     0.566203      0.823348     1.000000"
      ]
     },
     "execution_count": 113,
     "metadata": {},
     "output_type": "execute_result"
    }
   ],
   "source": [
    "iris.corr()"
   ]
  },
  {
   "cell_type": "code",
   "execution_count": 112,
   "metadata": {},
   "outputs": [
    {
     "data": {
      "image/png": "[encoded data removed]",
      "text/plain": [
       "<Figure size 804.75x720 with 20 Axes>"
      ]
     },
     "metadata": {
      "needs_background": "light"
     },
     "output_type": "display_data"
    }
   ],
   "source": [
    "sns.pairplot(iris,diag_kind='kde',hue='species');"
   ]
  },
  {
   "cell_type": "code",
   "execution_count": 114,
   "metadata": {},
   "outputs": [
    {
     "data": {
      "image/png": "[encoded data removed]",
      "text/plain": [
       "<Figure size 432x288 with 1 Axes>"
      ]
     },
     "metadata": {
      "needs_background": "light"
     },
     "output_type": "display_data"
    }
   ],
   "source": [
    "sns.boxplot(x='species',y='sepal_length',data=iris);"
   ]
  },
  {
   "cell_type": "markdown",
   "metadata": {},
   "source": [
    "## Data Preprocessing\n",
    "\n",
    "### Check for Missing Values"
   ]
  },
  {
   "cell_type": "code",
   "execution_count": 28,
   "metadata": {},
   "outputs": [
    {
     "data": {
      "text/plain": [
       "sepal_length    0\n",
       "sepal_width     0\n",
       "petal_length    0\n",
       "petal_width     0\n",
       "species         0\n",
       "dtype: int64"
      ]
     },
     "execution_count": 28,
     "metadata": {},
     "output_type": "execute_result"
    }
   ],
   "source": [
    "np.sum(iris.isna())"
   ]
  },
  {
   "cell_type": "markdown",
   "metadata": {},
   "source": [
    "### Transform data variables to dependent and independent variables in Numpy arrays\n",
    "\n",
    "#### Numpy N-dimensionsal Arrays (tensors)\n",
    "\n",
    "Numpy basics: \n",
    "\n",
    "https://docs.scipy.org/doc/numpy-1.13.0/user/basics.creation.html\n",
    "\n",
    "https://docs.scipy.org/doc/numpy-1.13.0/user/basics.indexing.html\n",
    "\n",
    "* A tensor is defined by 3 attributes\n",
    "    - ndim: Number of axes (dimensionality of tensor) (often called the rank of the tensor)\n",
    "    - shape: tuple of integers containing number of dimensions along each axis\n",
    "    - dtype: the type of data contained in the tensor\n",
    "    \n",
    "Note:  Dimensionality can denote either the number of entries along a specific axis or the number of axes in a tensor(i.e. the number of direction required to describe it)"
   ]
  },
  {
   "cell_type": "code",
   "execution_count": 24,
   "metadata": {},
   "outputs": [
    {
     "name": "stdout",
     "output_type": "stream",
     "text": [
      "X shape: (150, 4), X dimension 2\n",
      "y shape: (150, 1), y dimension 2\n"
     ]
    }
   ],
   "source": [
    "X = iris.iloc[:,:4].values  # Matrix of Independent Variables\n",
    "print(f'X shape: {X.shape}, X dimension {X.ndim}')\n",
    "\n",
    "y = iris.loc[:,'species'].values # Vector of the dependent variab;e\n",
    "y = y.reshape(-1,1) # -1 means use current value\n",
    "print(f'y shape: {y.shape}, y dimension {y.ndim}')\n"
   ]
  },
  {
   "cell_type": "code",
   "execution_count": 27,
   "metadata": {},
   "outputs": [
    {
     "data": {
      "text/plain": [
       "array([['setosa'],\n",
       "       ['setosa'],\n",
       "       ['setosa'],\n",
       "       ['setosa'],\n",
       "       ['setosa']], dtype=object)"
      ]
     },
     "execution_count": 27,
     "metadata": {},
     "output_type": "execute_result"
    }
   ],
   "source": [
    "y[:5]"
   ]
  },
  {
   "cell_type": "markdown",
   "metadata": {},
   "source": [
    "### Encode string to numeric values \n",
    "\n",
    "* For sklearn classification you don't have to encode the dependent variable"
   ]
  },
  {
   "cell_type": "code",
   "execution_count": 117,
   "metadata": {},
   "outputs": [],
   "source": [
    "y = LabelEncoder().fit_transform(y) "
   ]
  },
  {
   "cell_type": "markdown",
   "metadata": {},
   "source": [
    "#### Split the data\n",
    "\n",
    "* Setting stratify = y ensures that proportion of "
   ]
  },
  {
   "cell_type": "code",
   "execution_count": 118,
   "metadata": {},
   "outputs": [
    {
     "data": {
      "text/plain": [
       "((80, 4), (20, 4), (80,), (20,))"
      ]
     },
     "execution_count": 118,
     "metadata": {},
     "output_type": "execute_result"
    }
   ],
   "source": [
    "X_train, X_test, y_train, y_test = train_test_split(X, y, test_size = 0.2, stratify = y,random_state=1234)\n",
    "X_train.shape, X_test.shape, y_train.shape, y_test.shape"
   ]
  },
  {
   "cell_type": "markdown",
   "metadata": {},
   "source": [
    "#### Classification Model"
   ]
  },
  {
   "cell_type": "code",
   "execution_count": 119,
   "metadata": {},
   "outputs": [
    {
     "data": {
      "text/plain": [
       "LogisticRegression()"
      ]
     },
     "execution_count": 119,
     "metadata": {},
     "output_type": "execute_result"
    }
   ],
   "source": [
    "from sklearn.linear_model import LogisticRegression\n",
    "model = LogisticRegression()\n",
    "model.fit(X_train,y_train)"
   ]
  },
  {
   "cell_type": "code",
   "execution_count": null,
   "metadata": {},
   "outputs": [],
   "source": [
    "y_predict = model.predict(X_test)"
   ]
  },
  {
   "cell_type": "code",
   "execution_count": 120,
   "metadata": {},
   "outputs": [
    {
     "name": "stdout",
     "output_type": "stream",
     "text": [
      "[[10  0]\n",
      " [ 3  7]]\n",
      "Accuracy = 0.85\n"
     ]
    }
   ],
   "source": [
    "from sklearn.metrics import confusion_matrix\n",
    "cm = confusion_matrix(y_test,y_predict)\n",
    "print(cm)\n",
    "print(f'Accuracy = {np.round(np.trace(cm)/np.sum(cm),3)}')"
   ]
  },
  {
   "cell_type": "markdown",
   "metadata": {},
   "source": [
    "### PyTorch "
   ]
  },
  {
   "cell_type": "code",
   "execution_count": 121,
   "metadata": {},
   "outputs": [],
   "source": [
    "import torch\n",
    "import torch.nn as nn"
   ]
  },
  {
   "cell_type": "markdown",
   "metadata": {},
   "source": [
    "#### Split and Scale"
   ]
  },
  {
   "cell_type": "code",
   "execution_count": 122,
   "metadata": {},
   "outputs": [
    {
     "data": {
      "text/plain": [
       "((80, 4), (20, 4))"
      ]
     },
     "execution_count": 122,
     "metadata": {},
     "output_type": "execute_result"
    }
   ],
   "source": [
    "X_train, X_test, y_train, y_test = train_test_split(X, y, test_size = 0.2, stratify = y,random_state=1234)\n",
    "X_train.shape, X_test.shape, y_train.shape, y_test.shape\n",
    "\n",
    "scaler = StandardScaler()\n",
    "X_train = scaler.fit_transform(X_train)\n",
    "X_test =scaler.transform(X_test)\n",
    "X_train.shape,X_test.shape"
   ]
  },
  {
   "cell_type": "markdown",
   "metadata": {},
   "source": [
    "#### Build the model"
   ]
  },
  {
   "cell_type": "code",
   "execution_count": 123,
   "metadata": {},
   "outputs": [],
   "source": [
    "N, D = X_train.shape\n",
    "model = nn.Sequential(\n",
    "    nn.Linear(D, 1),\n",
    "    nn.Sigmoid()\n",
    ")"
   ]
  },
  {
   "cell_type": "markdown",
   "metadata": {},
   "source": [
    "#### Loss and optimizer"
   ]
  },
  {
   "cell_type": "code",
   "execution_count": 124,
   "metadata": {},
   "outputs": [],
   "source": [
    "criterion = nn.BCELoss()\n",
    "optimizer = torch.optim.Adam(model.parameters())"
   ]
  },
  {
   "cell_type": "markdown",
   "metadata": {},
   "source": [
    "#### Convert data into torch tensors"
   ]
  },
  {
   "cell_type": "code",
   "execution_count": 125,
   "metadata": {},
   "outputs": [],
   "source": [
    "X_train = torch.from_numpy(X_train.astype(np.float32))\n",
    "X_test = torch.from_numpy(X_test.astype(np.float32))\n",
    "y_train = torch.from_numpy(y_train.astype(np.float32).reshape(-1, 1))\n",
    "y_test = torch.from_numpy(y_test.astype(np.float32).reshape(-1, 1))"
   ]
  },
  {
   "cell_type": "markdown",
   "metadata": {},
   "source": [
    "#### Train the model"
   ]
  },
  {
   "cell_type": "code",
   "execution_count": 126,
   "metadata": {},
   "outputs": [
    {
     "name": "stdout",
     "output_type": "stream",
     "text": [
      "Epoch 50/1000, Train Loss: 0.7296, Test Loss: 0.7594\n",
      "Epoch 100/1000, Train Loss: 0.6772, Test Loss: 0.7195\n",
      "Epoch 150/1000, Train Loss: 0.6334, Test Loss: 0.6858\n",
      "Epoch 200/1000, Train Loss: 0.5967, Test Loss: 0.6575\n",
      "Epoch 250/1000, Train Loss: 0.5657, Test Loss: 0.6334\n",
      "Epoch 300/1000, Train Loss: 0.5391, Test Loss: 0.6125\n",
      "Epoch 350/1000, Train Loss: 0.5161, Test Loss: 0.5942\n",
      "Epoch 400/1000, Train Loss: 0.4960, Test Loss: 0.5778\n",
      "Epoch 450/1000, Train Loss: 0.4780, Test Loss: 0.5628\n",
      "Epoch 500/1000, Train Loss: 0.4618, Test Loss: 0.5490\n",
      "Epoch 550/1000, Train Loss: 0.4470, Test Loss: 0.5360\n",
      "Epoch 600/1000, Train Loss: 0.4334, Test Loss: 0.5236\n",
      "Epoch 650/1000, Train Loss: 0.4208, Test Loss: 0.5117\n",
      "Epoch 700/1000, Train Loss: 0.4090, Test Loss: 0.5002\n",
      "Epoch 750/1000, Train Loss: 0.3979, Test Loss: 0.4890\n",
      "Epoch 800/1000, Train Loss: 0.3873, Test Loss: 0.4780\n",
      "Epoch 850/1000, Train Loss: 0.3773, Test Loss: 0.4673\n",
      "Epoch 900/1000, Train Loss: 0.3677, Test Loss: 0.4569\n",
      "Epoch 950/1000, Train Loss: 0.3586, Test Loss: 0.4467\n",
      "Epoch 1000/1000, Train Loss: 0.3498, Test Loss: 0.4366\n"
     ]
    }
   ],
   "source": [
    "n_epochs = 1000\n",
    "\n",
    "# Stuff to store\n",
    "train_losses = np.zeros(n_epochs)\n",
    "test_losses = np.zeros(n_epochs)\n",
    "\n",
    "for it in range(n_epochs):\n",
    "  # zero the parameter gradients\n",
    "  optimizer.zero_grad()\n",
    "\n",
    "  # Forward pass\n",
    "  outputs = model(X_train)\n",
    "  loss = criterion(outputs, y_train)\n",
    "    \n",
    "  # Backward and optimize\n",
    "  loss.backward()\n",
    "  optimizer.step()\n",
    "\n",
    "  # Get test loss\n",
    "  outputs_test = model(X_test)\n",
    "  loss_test = criterion(outputs_test, y_test)\n",
    "\n",
    "  # Save losses\n",
    "  train_losses[it] = loss.item()\n",
    "  test_losses[it] = loss_test.item()\n",
    "    \n",
    "  if (it + 1) % 50 == 0:\n",
    "    print(f'Epoch {it+1}/{n_epochs}, Train Loss: {loss.item():.4f}, Test Loss: {loss_test.item():.4f}')"
   ]
  },
  {
   "cell_type": "markdown",
   "metadata": {},
   "source": [
    "#### Plot the train loss and test loss per iteration"
   ]
  },
  {
   "cell_type": "code",
   "execution_count": 127,
   "metadata": {},
   "outputs": [
    {
     "data": {
      "image/png": "[encoded data removed]",
      "text/plain": [
       "<Figure size 432x288 with 1 Axes>"
      ]
     },
     "metadata": {
      "needs_background": "light"
     },
     "output_type": "display_data"
    }
   ],
   "source": [
    "plt.plot(train_losses, label='train loss')\n",
    "plt.plot(test_losses, label='test loss')\n",
    "plt.legend()\n",
    "plt.show()"
   ]
  },
  {
   "cell_type": "markdown",
   "metadata": {},
   "source": [
    "#### Predict "
   ]
  },
  {
   "cell_type": "code",
   "execution_count": 128,
   "metadata": {},
   "outputs": [],
   "source": [
    "p_test = model(X_test)"
   ]
  },
  {
   "cell_type": "markdown",
   "metadata": {},
   "source": [
    "#### Check accuracy"
   ]
  },
  {
   "cell_type": "code",
   "execution_count": 129,
   "metadata": {},
   "outputs": [
    {
     "name": "stdout",
     "output_type": "stream",
     "text": [
      "[[9 1]\n",
      " [3 7]]\n",
      "Accuracy = 0.8\n"
     ]
    }
   ],
   "source": [
    "y_predict = np.round(p_test.detach().numpy())\n",
    "cm = confusion_matrix(y_test,y_predict)\n",
    "print(cm)\n",
    "print(f'Accuracy = {np.round(np.trace(cm)/np.sum(cm),3)}')"
   ]
  },
  {
   "cell_type": "code",
   "execution_count": 130,
   "metadata": {},
   "outputs": [
    {
     "data": {
      "text/plain": [
       "'2.1.0'"
      ]
     },
     "execution_count": 130,
     "metadata": {},
     "output_type": "execute_result"
    }
   ],
   "source": [
    "import tensorflow as tf\n",
    "from tensorflow.keras.models import Sequential\n",
    "from tensorflow.keras.layers import Dense, Activation,Dropout\n",
    "tf.__version__"
   ]
  },
  {
   "cell_type": "markdown",
   "metadata": {},
   "source": [
    "#### Split and Scale"
   ]
  },
  {
   "cell_type": "code",
   "execution_count": 131,
   "metadata": {},
   "outputs": [
    {
     "data": {
      "text/plain": [
       "((80, 4), (20, 4))"
      ]
     },
     "execution_count": 131,
     "metadata": {},
     "output_type": "execute_result"
    }
   ],
   "source": [
    "X_train, X_test, y_train, y_test = train_test_split(X, y, test_size = 0.2, stratify = y,random_state=1234)\n",
    "X_train.shape, X_test.shape, y_train.shape, y_test.shape\n",
    "\n",
    "scaler = StandardScaler()\n",
    "X_train = scaler.fit_transform(X_train)\n",
    "X_test =scaler.transform(X_test)\n",
    "X_train.shape,X_test.shape"
   ]
  },
  {
   "cell_type": "code",
   "execution_count": 132,
   "metadata": {},
   "outputs": [],
   "source": [
    "model = Sequential()\n",
    "\n",
    "model.add(Dense(units=30,activation='relu'))\n",
    "model.add(Dense(units=15,activation='relu'))\n",
    "\n",
    "\n",
    "model.add(Dense(units=1,activation='sigmoid'))\n",
    "\n",
    "# For a binary classification problem\n",
    "model.compile(loss='binary_crossentropy', optimizer='adam')"
   ]
  },
  {
   "cell_type": "code",
   "execution_count": 133,
   "metadata": {},
   "outputs": [
    {
     "name": "stdout",
     "output_type": "stream",
     "text": [
      "Train on 80 samples, validate on 20 samples\n",
      "Epoch 1/600\n",
      "80/80 [==============================] - 0s 5ms/sample - loss: 0.7329 - val_loss: 0.6999\n",
      "Epoch 2/600\n",
      "80/80 [==============================] - 0s 201us/sample - loss: 0.7082 - val_loss: 0.6786\n",
      "Epoch 3/600\n",
      "80/80 [==============================] - 0s 210us/sample - loss: 0.6836 - val_loss: 0.6588\n",
      "Epoch 4/600\n",
      "80/80 [==============================] - 0s 308us/sample - loss: 0.6616 - val_loss: 0.6405\n",
      "Epoch 5/600\n",
      "80/80 [==============================] - 0s 308us/sample - loss: 0.6391 - val_loss: 0.6232\n",
      "Epoch 6/600\n",
      "80/80 [==============================] - 0s 285us/sample - loss: 0.6177 - val_loss: 0.6067\n",
      "Epoch 7/600\n",
      "80/80 [==============================] - 0s 305us/sample - loss: 0.5977 - val_loss: 0.5912\n",
      "Epoch 8/600\n",
      "80/80 [==============================] - 0s 241us/sample - loss: 0.5796 - val_loss: 0.5767\n",
      "Epoch 9/600\n",
      "80/80 [==============================] - 0s 274us/sample - loss: 0.5621 - val_loss: 0.5628\n",
      "Epoch 10/600\n",
      "80/80 [==============================] - 0s 243us/sample - loss: 0.5450 - val_loss: 0.5498\n",
      "Epoch 11/600\n",
      "80/80 [==============================] - 0s 247us/sample - loss: 0.5300 - val_loss: 0.5377\n",
      "Epoch 12/600\n",
      "80/80 [==============================] - 0s 282us/sample - loss: 0.5152 - val_loss: 0.5262\n",
      "Epoch 13/600\n",
      "80/80 [==============================] - 0s 267us/sample - loss: 0.5003 - val_loss: 0.5148\n",
      "Epoch 14/600\n",
      "80/80 [==============================] - 0s 213us/sample - loss: 0.4866 - val_loss: 0.5037\n",
      "Epoch 15/600\n",
      "80/80 [==============================] - 0s 177us/sample - loss: 0.4724 - val_loss: 0.4926\n",
      "Epoch 16/600\n",
      "80/80 [==============================] - 0s 213us/sample - loss: 0.4586 - val_loss: 0.4819\n",
      "Epoch 17/600\n",
      "80/80 [==============================] - 0s 173us/sample - loss: 0.4455 - val_loss: 0.4711\n",
      "Epoch 18/600\n",
      "80/80 [==============================] - 0s 210us/sample - loss: 0.4317 - val_loss: 0.4606\n",
      "Epoch 19/600\n",
      "80/80 [==============================] - 0s 194us/sample - loss: 0.4185 - val_loss: 0.4503\n",
      "Epoch 20/600\n",
      "80/80 [==============================] - 0s 252us/sample - loss: 0.4056 - val_loss: 0.4404\n",
      "Epoch 21/600\n",
      "80/80 [==============================] - 0s 243us/sample - loss: 0.3931 - val_loss: 0.4305\n",
      "Epoch 22/600\n",
      "80/80 [==============================] - 0s 254us/sample - loss: 0.3806 - val_loss: 0.4210\n",
      "Epoch 23/600\n",
      "80/80 [==============================] - 0s 179us/sample - loss: 0.3685 - val_loss: 0.4114\n",
      "Epoch 24/600\n",
      "80/80 [==============================] - 0s 229us/sample - loss: 0.3568 - val_loss: 0.4024\n",
      "Epoch 25/600\n",
      "80/80 [==============================] - 0s 327us/sample - loss: 0.3455 - val_loss: 0.3934\n",
      "Epoch 26/600\n",
      "80/80 [==============================] - 0s 292us/sample - loss: 0.3339 - val_loss: 0.3851\n",
      "Epoch 27/600\n",
      "80/80 [==============================] - 0s 190us/sample - loss: 0.3232 - val_loss: 0.3768\n",
      "Epoch 28/600\n",
      "80/80 [==============================] - 0s 265us/sample - loss: 0.3126 - val_loss: 0.3688\n",
      "Epoch 29/600\n",
      "80/80 [==============================] - 0s 243us/sample - loss: 0.3023 - val_loss: 0.3606\n",
      "Epoch 30/600\n",
      "80/80 [==============================] - 0s 255us/sample - loss: 0.2923 - val_loss: 0.3529\n",
      "Epoch 31/600\n",
      "80/80 [==============================] - 0s 262us/sample - loss: 0.2825 - val_loss: 0.3449\n",
      "Epoch 32/600\n",
      "80/80 [==============================] - 0s 235us/sample - loss: 0.2737 - val_loss: 0.3368\n",
      "Epoch 33/600\n",
      "80/80 [==============================] - 0s 224us/sample - loss: 0.2641 - val_loss: 0.3291\n",
      "Epoch 34/600\n",
      "80/80 [==============================] - 0s 258us/sample - loss: 0.2553 - val_loss: 0.3211\n",
      "Epoch 35/600\n",
      "80/80 [==============================] - 0s 216us/sample - loss: 0.2472 - val_loss: 0.3133\n",
      "Epoch 36/600\n",
      "80/80 [==============================] - 0s 263us/sample - loss: 0.2389 - val_loss: 0.3059\n",
      "Epoch 37/600\n",
      "80/80 [==============================] - 0s 296us/sample - loss: 0.2309 - val_loss: 0.2993\n",
      "Epoch 38/600\n",
      "80/80 [==============================] - 0s 233us/sample - loss: 0.2232 - val_loss: 0.2927\n",
      "Epoch 39/600\n",
      "80/80 [==============================] - 0s 251us/sample - loss: 0.2163 - val_loss: 0.2860\n",
      "Epoch 40/600\n",
      "80/80 [==============================] - 0s 265us/sample - loss: 0.2090 - val_loss: 0.2802\n",
      "Epoch 41/600\n",
      "80/80 [==============================] - 0s 323us/sample - loss: 0.2021 - val_loss: 0.2745\n",
      "Epoch 42/600\n",
      "80/80 [==============================] - 0s 219us/sample - loss: 0.1958 - val_loss: 0.2684\n",
      "Epoch 43/600\n",
      "80/80 [==============================] - 0s 215us/sample - loss: 0.1897 - val_loss: 0.2623\n",
      "Epoch 44/600\n",
      "80/80 [==============================] - 0s 248us/sample - loss: 0.1835 - val_loss: 0.2567\n",
      "Epoch 45/600\n",
      "80/80 [==============================] - 0s 230us/sample - loss: 0.1778 - val_loss: 0.2508\n",
      "Epoch 46/600\n",
      "80/80 [==============================] - 0s 290us/sample - loss: 0.1720 - val_loss: 0.2454\n",
      "Epoch 47/600\n",
      "80/80 [==============================] - 0s 233us/sample - loss: 0.1669 - val_loss: 0.2399\n",
      "Epoch 48/600\n",
      "80/80 [==============================] - 0s 227us/sample - loss: 0.1618 - val_loss: 0.2349\n",
      "Epoch 49/600\n",
      "80/80 [==============================] - 0s 220us/sample - loss: 0.1569 - val_loss: 0.2301\n",
      "Epoch 50/600\n",
      "80/80 [==============================] - 0s 227us/sample - loss: 0.1525 - val_loss: 0.2258\n",
      "Epoch 51/600\n",
      "80/80 [==============================] - 0s 211us/sample - loss: 0.1482 - val_loss: 0.2227\n",
      "Epoch 52/600\n",
      "80/80 [==============================] - 0s 336us/sample - loss: 0.1443 - val_loss: 0.2202\n",
      "Epoch 53/600\n",
      "80/80 [==============================] - 0s 238us/sample - loss: 0.1402 - val_loss: 0.2181\n",
      "Epoch 54/600\n",
      "80/80 [==============================] - 0s 256us/sample - loss: 0.1367 - val_loss: 0.2154\n",
      "Epoch 55/600\n",
      "80/80 [==============================] - 0s 249us/sample - loss: 0.1331 - val_loss: 0.2126\n",
      "Epoch 56/600\n",
      "80/80 [==============================] - 0s 230us/sample - loss: 0.1298 - val_loss: 0.2097\n",
      "Epoch 57/600\n",
      "80/80 [==============================] - 0s 168us/sample - loss: 0.1267 - val_loss: 0.2073\n",
      "Epoch 58/600\n",
      "80/80 [==============================] - 0s 225us/sample - loss: 0.1237 - val_loss: 0.2051\n",
      "Epoch 59/600\n",
      "80/80 [==============================] - 0s 243us/sample - loss: 0.1207 - val_loss: 0.2036\n",
      "Epoch 60/600\n",
      "80/80 [==============================] - 0s 224us/sample - loss: 0.1181 - val_loss: 0.2014\n",
      "Epoch 61/600\n",
      "80/80 [==============================] - 0s 211us/sample - loss: 0.1155 - val_loss: 0.1994\n",
      "Epoch 62/600\n",
      "80/80 [==============================] - 0s 210us/sample - loss: 0.1131 - val_loss: 0.1978\n",
      "Epoch 63/600\n",
      "80/80 [==============================] - 0s 255us/sample - loss: 0.1108 - val_loss: 0.1962\n",
      "Epoch 64/600\n",
      "80/80 [==============================] - 0s 221us/sample - loss: 0.1085 - val_loss: 0.1946\n",
      "Epoch 65/600\n",
      "80/80 [==============================] - 0s 190us/sample - loss: 0.1064 - val_loss: 0.1925\n",
      "Epoch 66/600\n",
      "80/80 [==============================] - 0s 205us/sample - loss: 0.1044 - val_loss: 0.1904\n",
      "Epoch 67/600\n",
      "80/80 [==============================] - 0s 186us/sample - loss: 0.1025 - val_loss: 0.1882\n",
      "Epoch 68/600\n",
      "80/80 [==============================] - 0s 205us/sample - loss: 0.1007 - val_loss: 0.1869\n",
      "Epoch 69/600\n",
      "80/80 [==============================] - 0s 188us/sample - loss: 0.0988 - val_loss: 0.1857\n",
      "Epoch 70/600\n",
      "80/80 [==============================] - 0s 206us/sample - loss: 0.0974 - val_loss: 0.1834\n",
      "Epoch 71/600\n",
      "80/80 [==============================] - 0s 282us/sample - loss: 0.0956 - val_loss: 0.1827\n",
      "Epoch 72/600\n",
      "80/80 [==============================] - 0s 222us/sample - loss: 0.0942 - val_loss: 0.1820\n",
      "Epoch 73/600\n",
      "80/80 [==============================] - 0s 256us/sample - loss: 0.0927 - val_loss: 0.1810\n",
      "Epoch 74/600\n",
      "80/80 [==============================] - 0s 212us/sample - loss: 0.0915 - val_loss: 0.1799\n",
      "Epoch 75/600\n",
      "80/80 [==============================] - 0s 219us/sample - loss: 0.0900 - val_loss: 0.1799\n",
      "Epoch 76/600\n",
      "80/80 [==============================] - 0s 221us/sample - loss: 0.0888 - val_loss: 0.1799\n",
      "Epoch 77/600\n",
      "80/80 [==============================] - 0s 211us/sample - loss: 0.0877 - val_loss: 0.1799\n",
      "Epoch 78/600\n",
      "80/80 [==============================] - 0s 200us/sample - loss: 0.0865 - val_loss: 0.1805\n",
      "Epoch 79/600\n",
      "80/80 [==============================] - 0s 208us/sample - loss: 0.0854 - val_loss: 0.1795\n",
      "Epoch 80/600\n",
      "80/80 [==============================] - 0s 222us/sample - loss: 0.0843 - val_loss: 0.1803\n",
      "Epoch 81/600\n",
      "80/80 [==============================] - 0s 236us/sample - loss: 0.0832 - val_loss: 0.1807\n",
      "Epoch 82/600\n",
      "80/80 [==============================] - 0s 192us/sample - loss: 0.0822 - val_loss: 0.1805\n",
      "Epoch 83/600\n",
      "80/80 [==============================] - 0s 167us/sample - loss: 0.0813 - val_loss: 0.1805\n",
      "Epoch 84/600\n",
      "80/80 [==============================] - 0s 201us/sample - loss: 0.0804 - val_loss: 0.1796\n",
      "Epoch 85/600\n",
      "80/80 [==============================] - 0s 208us/sample - loss: 0.0794 - val_loss: 0.1801\n",
      "Epoch 86/600\n",
      "80/80 [==============================] - 0s 223us/sample - loss: 0.0786 - val_loss: 0.1805\n",
      "Epoch 87/600\n",
      "80/80 [==============================] - 0s 207us/sample - loss: 0.0777 - val_loss: 0.1794\n",
      "Epoch 88/600\n",
      "80/80 [==============================] - 0s 204us/sample - loss: 0.0769 - val_loss: 0.1788\n",
      "Epoch 89/600\n",
      "80/80 [==============================] - 0s 208us/sample - loss: 0.0762 - val_loss: 0.1774\n",
      "Epoch 90/600\n",
      "80/80 [==============================] - 0s 184us/sample - loss: 0.0754 - val_loss: 0.1764\n",
      "Epoch 91/600\n",
      "80/80 [==============================] - 0s 181us/sample - loss: 0.0746 - val_loss: 0.1761\n",
      "Epoch 92/600\n",
      "80/80 [==============================] - 0s 197us/sample - loss: 0.0739 - val_loss: 0.1755\n",
      "Epoch 93/600\n",
      "80/80 [==============================] - 0s 187us/sample - loss: 0.0732 - val_loss: 0.1739\n",
      "Epoch 94/600\n",
      "80/80 [==============================] - 0s 174us/sample - loss: 0.0725 - val_loss: 0.1741\n",
      "Epoch 95/600\n",
      "80/80 [==============================] - 0s 200us/sample - loss: 0.0718 - val_loss: 0.1732\n",
      "Epoch 96/600\n",
      "80/80 [==============================] - 0s 203us/sample - loss: 0.0711 - val_loss: 0.1714\n",
      "Epoch 97/600\n",
      "80/80 [==============================] - 0s 218us/sample - loss: 0.0707 - val_loss: 0.1704\n",
      "Epoch 98/600\n",
      "80/80 [==============================] - 0s 226us/sample - loss: 0.0699 - val_loss: 0.1729\n",
      "Epoch 99/600\n",
      "80/80 [==============================] - 0s 223us/sample - loss: 0.0694 - val_loss: 0.1752\n",
      "Epoch 100/600\n",
      "80/80 [==============================] - 0s 244us/sample - loss: 0.0688 - val_loss: 0.1775\n",
      "Epoch 101/600\n",
      "80/80 [==============================] - 0s 223us/sample - loss: 0.0682 - val_loss: 0.1796\n",
      "Epoch 102/600\n",
      "80/80 [==============================] - 0s 196us/sample - loss: 0.0676 - val_loss: 0.1816\n",
      "Epoch 103/600\n",
      "80/80 [==============================] - 0s 198us/sample - loss: 0.0670 - val_loss: 0.1840\n",
      "Epoch 104/600\n",
      "80/80 [==============================] - 0s 202us/sample - loss: 0.0664 - val_loss: 0.1871\n",
      "Epoch 105/600\n",
      "80/80 [==============================] - 0s 227us/sample - loss: 0.0659 - val_loss: 0.1894\n",
      "Epoch 106/600\n",
      "80/80 [==============================] - 0s 207us/sample - loss: 0.0653 - val_loss: 0.1948\n",
      "Epoch 107/600\n",
      "80/80 [==============================] - 0s 218us/sample - loss: 0.0649 - val_loss: 0.1993\n",
      "Epoch 108/600\n",
      "80/80 [==============================] - 0s 222us/sample - loss: 0.0643 - val_loss: 0.2015\n",
      "Epoch 109/600\n",
      "80/80 [==============================] - 0s 190us/sample - loss: 0.0638 - val_loss: 0.2020\n",
      "Epoch 110/600\n",
      "80/80 [==============================] - 0s 231us/sample - loss: 0.0632 - val_loss: 0.2043\n",
      "Epoch 111/600\n",
      "80/80 [==============================] - 0s 186us/sample - loss: 0.0627 - val_loss: 0.2052\n",
      "Epoch 112/600\n",
      "80/80 [==============================] - 0s 198us/sample - loss: 0.0622 - val_loss: 0.2057\n",
      "Epoch 113/600\n",
      "80/80 [==============================] - 0s 208us/sample - loss: 0.0618 - val_loss: 0.2059\n",
      "Epoch 114/600\n",
      "80/80 [==============================] - 0s 188us/sample - loss: 0.0613 - val_loss: 0.2055\n",
      "Epoch 115/600\n",
      "80/80 [==============================] - 0s 199us/sample - loss: 0.0608 - val_loss: 0.2056\n",
      "Epoch 116/600\n",
      "80/80 [==============================] - 0s 192us/sample - loss: 0.0603 - val_loss: 0.2056\n",
      "Epoch 117/600\n",
      "80/80 [==============================] - 0s 203us/sample - loss: 0.0600 - val_loss: 0.2051\n",
      "Epoch 118/600\n",
      "80/80 [==============================] - 0s 193us/sample - loss: 0.0595 - val_loss: 0.2049\n",
      "Epoch 119/600\n",
      "80/80 [==============================] - 0s 192us/sample - loss: 0.0591 - val_loss: 0.2057\n",
      "Epoch 120/600\n",
      "80/80 [==============================] - 0s 201us/sample - loss: 0.0586 - val_loss: 0.2050\n",
      "Epoch 121/600\n",
      "80/80 [==============================] - 0s 229us/sample - loss: 0.0583 - val_loss: 0.2037\n",
      "Epoch 122/600\n",
      "80/80 [==============================] - 0s 185us/sample - loss: 0.0579 - val_loss: 0.2041\n",
      "Epoch 123/600\n",
      "80/80 [==============================] - 0s 204us/sample - loss: 0.0576 - val_loss: 0.2048\n",
      "Epoch 124/600\n",
      "80/80 [==============================] - 0s 185us/sample - loss: 0.0572 - val_loss: 0.2086\n",
      "Epoch 125/600\n",
      "80/80 [==============================] - 0s 191us/sample - loss: 0.0568 - val_loss: 0.2138\n",
      "Epoch 126/600\n",
      "80/80 [==============================] - 0s 186us/sample - loss: 0.0563 - val_loss: 0.2187\n",
      "Epoch 127/600\n",
      "80/80 [==============================] - 0s 211us/sample - loss: 0.0561 - val_loss: 0.2227\n",
      "Epoch 128/600\n",
      "80/80 [==============================] - 0s 169us/sample - loss: 0.0556 - val_loss: 0.2255\n",
      "Epoch 129/600\n",
      "80/80 [==============================] - 0s 236us/sample - loss: 0.0552 - val_loss: 0.2276\n",
      "Epoch 130/600\n",
      "80/80 [==============================] - 0s 193us/sample - loss: 0.0548 - val_loss: 0.2267\n",
      "Epoch 131/600\n",
      "80/80 [==============================] - 0s 194us/sample - loss: 0.0545 - val_loss: 0.2271\n",
      "Epoch 132/600\n",
      "80/80 [==============================] - 0s 209us/sample - loss: 0.0542 - val_loss: 0.2292\n",
      "Epoch 133/600\n",
      "80/80 [==============================] - 0s 197us/sample - loss: 0.0539 - val_loss: 0.2319\n",
      "Epoch 134/600\n",
      "80/80 [==============================] - 0s 206us/sample - loss: 0.0536 - val_loss: 0.2335\n",
      "Epoch 135/600\n",
      "80/80 [==============================] - 0s 234us/sample - loss: 0.0533 - val_loss: 0.2359\n",
      "Epoch 136/600\n",
      "80/80 [==============================] - 0s 218us/sample - loss: 0.0531 - val_loss: 0.2421\n",
      "Epoch 137/600\n",
      "80/80 [==============================] - 0s 214us/sample - loss: 0.0526 - val_loss: 0.2457\n",
      "Epoch 138/600\n",
      "80/80 [==============================] - 0s 266us/sample - loss: 0.0524 - val_loss: 0.2501\n",
      "Epoch 139/600\n",
      "80/80 [==============================] - 0s 241us/sample - loss: 0.0520 - val_loss: 0.2525\n",
      "Epoch 140/600\n",
      "80/80 [==============================] - 0s 213us/sample - loss: 0.0517 - val_loss: 0.2538\n",
      "Epoch 141/600\n",
      "80/80 [==============================] - 0s 248us/sample - loss: 0.0514 - val_loss: 0.2563\n",
      "Epoch 142/600\n",
      "80/80 [==============================] - 0s 218us/sample - loss: 0.0511 - val_loss: 0.2585\n",
      "Epoch 143/600\n",
      "80/80 [==============================] - 0s 225us/sample - loss: 0.0510 - val_loss: 0.2646\n",
      "Epoch 144/600\n",
      "80/80 [==============================] - 0s 174us/sample - loss: 0.0505 - val_loss: 0.2678\n",
      "Epoch 145/600\n",
      "80/80 [==============================] - 0s 223us/sample - loss: 0.0502 - val_loss: 0.2700\n",
      "Epoch 146/600\n",
      "80/80 [==============================] - 0s 214us/sample - loss: 0.0499 - val_loss: 0.2752\n",
      "Epoch 147/600\n",
      "80/80 [==============================] - 0s 206us/sample - loss: 0.0497 - val_loss: 0.2791\n",
      "Epoch 148/600\n",
      "80/80 [==============================] - 0s 178us/sample - loss: 0.0495 - val_loss: 0.2835\n",
      "Epoch 149/600\n",
      "80/80 [==============================] - 0s 193us/sample - loss: 0.0491 - val_loss: 0.2872\n",
      "Epoch 150/600\n",
      "80/80 [==============================] - 0s 246us/sample - loss: 0.0489 - val_loss: 0.2922\n",
      "Epoch 151/600\n",
      "80/80 [==============================] - 0s 233us/sample - loss: 0.0485 - val_loss: 0.2940\n",
      "Epoch 152/600\n",
      "80/80 [==============================] - 0s 245us/sample - loss: 0.0482 - val_loss: 0.2963\n",
      "Epoch 153/600\n",
      "80/80 [==============================] - 0s 248us/sample - loss: 0.0480 - val_loss: 0.2979\n",
      "Epoch 154/600\n",
      "80/80 [==============================] - 0s 219us/sample - loss: 0.0477 - val_loss: 0.2983\n",
      "Epoch 155/600\n",
      "80/80 [==============================] - 0s 239us/sample - loss: 0.0474 - val_loss: 0.3002\n",
      "Epoch 156/600\n",
      "80/80 [==============================] - 0s 209us/sample - loss: 0.0472 - val_loss: 0.3008\n",
      "Epoch 157/600\n"
     ]
    },
    {
     "name": "stdout",
     "output_type": "stream",
     "text": [
      "80/80 [==============================] - 0s 235us/sample - loss: 0.0469 - val_loss: 0.3027\n",
      "Epoch 158/600\n",
      "80/80 [==============================] - 0s 275us/sample - loss: 0.0467 - val_loss: 0.3026\n",
      "Epoch 159/600\n",
      "80/80 [==============================] - 0s 219us/sample - loss: 0.0464 - val_loss: 0.3047\n",
      "Epoch 160/600\n",
      "80/80 [==============================] - 0s 208us/sample - loss: 0.0462 - val_loss: 0.3042\n",
      "Epoch 161/600\n",
      "80/80 [==============================] - 0s 256us/sample - loss: 0.0460 - val_loss: 0.3075\n",
      "Epoch 162/600\n",
      "80/80 [==============================] - 0s 287us/sample - loss: 0.0458 - val_loss: 0.3079\n",
      "Epoch 163/600\n",
      "80/80 [==============================] - 0s 235us/sample - loss: 0.0455 - val_loss: 0.3114\n",
      "Epoch 164/600\n",
      "80/80 [==============================] - 0s 303us/sample - loss: 0.0453 - val_loss: 0.3136\n",
      "Epoch 165/600\n",
      "80/80 [==============================] - 0s 212us/sample - loss: 0.0451 - val_loss: 0.3198\n",
      "Epoch 166/600\n",
      "80/80 [==============================] - 0s 225us/sample - loss: 0.0447 - val_loss: 0.3236\n",
      "Epoch 167/600\n",
      "80/80 [==============================] - 0s 214us/sample - loss: 0.0444 - val_loss: 0.3260\n",
      "Epoch 168/600\n",
      "80/80 [==============================] - 0s 428us/sample - loss: 0.0443 - val_loss: 0.3288\n",
      "Epoch 169/600\n",
      "80/80 [==============================] - 0s 273us/sample - loss: 0.0440 - val_loss: 0.3345\n",
      "Epoch 170/600\n",
      "80/80 [==============================] - 0s 347us/sample - loss: 0.0437 - val_loss: 0.3398\n",
      "Epoch 171/600\n",
      "80/80 [==============================] - 0s 246us/sample - loss: 0.0435 - val_loss: 0.3446\n",
      "Epoch 172/600\n",
      "80/80 [==============================] - 0s 312us/sample - loss: 0.0432 - val_loss: 0.3473\n",
      "Epoch 173/600\n",
      "80/80 [==============================] - 0s 331us/sample - loss: 0.0429 - val_loss: 0.3490\n",
      "Epoch 174/600\n",
      "80/80 [==============================] - 0s 277us/sample - loss: 0.0427 - val_loss: 0.3520\n",
      "Epoch 175/600\n",
      "80/80 [==============================] - 0s 282us/sample - loss: 0.0425 - val_loss: 0.3549\n",
      "Epoch 176/600\n",
      "80/80 [==============================] - 0s 250us/sample - loss: 0.0423 - val_loss: 0.3582\n",
      "Epoch 177/600\n",
      "80/80 [==============================] - 0s 291us/sample - loss: 0.0420 - val_loss: 0.3612\n",
      "Epoch 178/600\n",
      "80/80 [==============================] - 0s 382us/sample - loss: 0.0417 - val_loss: 0.3644\n",
      "Epoch 179/600\n",
      "80/80 [==============================] - 0s 274us/sample - loss: 0.0415 - val_loss: 0.3671\n",
      "Epoch 180/600\n",
      "80/80 [==============================] - 0s 355us/sample - loss: 0.0412 - val_loss: 0.3697\n",
      "Epoch 181/600\n",
      "80/80 [==============================] - 0s 284us/sample - loss: 0.0411 - val_loss: 0.3730\n",
      "Epoch 182/600\n",
      "80/80 [==============================] - 0s 382us/sample - loss: 0.0408 - val_loss: 0.3806\n",
      "Epoch 183/600\n",
      "80/80 [==============================] - 0s 422us/sample - loss: 0.0405 - val_loss: 0.3861\n",
      "Epoch 184/600\n",
      "80/80 [==============================] - 0s 288us/sample - loss: 0.0405 - val_loss: 0.3934\n",
      "Epoch 185/600\n",
      "80/80 [==============================] - 0s 232us/sample - loss: 0.0401 - val_loss: 0.3989\n",
      "Epoch 186/600\n",
      "80/80 [==============================] - 0s 402us/sample - loss: 0.0399 - val_loss: 0.4023\n",
      "Epoch 187/600\n",
      "80/80 [==============================] - 0s 229us/sample - loss: 0.0396 - val_loss: 0.4090\n",
      "Epoch 188/600\n",
      "80/80 [==============================] - ETA: 0s - loss: 0.038 - 0s 317us/sample - loss: 0.0395 - val_loss: 0.4129\n",
      "Epoch 189/600\n",
      "80/80 [==============================] - 0s 208us/sample - loss: 0.0392 - val_loss: 0.4181\n",
      "Epoch 190/600\n",
      "80/80 [==============================] - 0s 216us/sample - loss: 0.0390 - val_loss: 0.4217\n",
      "Epoch 191/600\n",
      "80/80 [==============================] - 0s 232us/sample - loss: 0.0387 - val_loss: 0.4281\n",
      "Epoch 192/600\n",
      "80/80 [==============================] - 0s 202us/sample - loss: 0.0386 - val_loss: 0.4339\n",
      "Epoch 193/600\n",
      "80/80 [==============================] - 0s 275us/sample - loss: 0.0384 - val_loss: 0.4374\n",
      "Epoch 194/600\n",
      "80/80 [==============================] - 0s 218us/sample - loss: 0.0381 - val_loss: 0.4406\n",
      "Epoch 195/600\n",
      "80/80 [==============================] - 0s 201us/sample - loss: 0.0380 - val_loss: 0.4432\n",
      "Epoch 196/600\n",
      "80/80 [==============================] - 0s 274us/sample - loss: 0.0377 - val_loss: 0.4511\n",
      "Epoch 197/600\n",
      "80/80 [==============================] - 0s 189us/sample - loss: 0.0375 - val_loss: 0.4559\n",
      "Epoch 198/600\n",
      "80/80 [==============================] - 0s 196us/sample - loss: 0.0372 - val_loss: 0.4590\n",
      "Epoch 199/600\n",
      "80/80 [==============================] - 0s 174us/sample - loss: 0.0371 - val_loss: 0.4609\n",
      "Epoch 200/600\n",
      "80/80 [==============================] - 0s 255us/sample - loss: 0.0368 - val_loss: 0.4664\n",
      "Epoch 201/600\n",
      "80/80 [==============================] - 0s 339us/sample - loss: 0.0365 - val_loss: 0.4749\n",
      "Epoch 202/600\n",
      "80/80 [==============================] - 0s 282us/sample - loss: 0.0364 - val_loss: 0.4822\n",
      "Epoch 203/600\n",
      "80/80 [==============================] - 0s 269us/sample - loss: 0.0362 - val_loss: 0.4864\n",
      "Epoch 204/600\n",
      "80/80 [==============================] - 0s 225us/sample - loss: 0.0359 - val_loss: 0.4868\n",
      "Epoch 205/600\n",
      "80/80 [==============================] - 0s 258us/sample - loss: 0.0356 - val_loss: 0.4885\n",
      "Epoch 206/600\n",
      "80/80 [==============================] - 0s 207us/sample - loss: 0.0355 - val_loss: 0.4883\n",
      "Epoch 207/600\n",
      "80/80 [==============================] - 0s 198us/sample - loss: 0.0353 - val_loss: 0.4891\n",
      "Epoch 208/600\n",
      "80/80 [==============================] - 0s 191us/sample - loss: 0.0350 - val_loss: 0.4936\n",
      "Epoch 209/600\n",
      "80/80 [==============================] - 0s 207us/sample - loss: 0.0347 - val_loss: 0.4983\n",
      "Epoch 210/600\n",
      "80/80 [==============================] - 0s 204us/sample - loss: 0.0344 - val_loss: 0.5054\n",
      "Epoch 211/600\n",
      "80/80 [==============================] - 0s 200us/sample - loss: 0.0344 - val_loss: 0.5135\n",
      "Epoch 212/600\n",
      "80/80 [==============================] - 0s 211us/sample - loss: 0.0341 - val_loss: 0.5180\n",
      "Epoch 213/600\n",
      "80/80 [==============================] - 0s 195us/sample - loss: 0.0338 - val_loss: 0.5223\n",
      "Epoch 214/600\n",
      "80/80 [==============================] - 0s 207us/sample - loss: 0.0337 - val_loss: 0.5230\n",
      "Epoch 215/600\n",
      "80/80 [==============================] - 0s 223us/sample - loss: 0.0334 - val_loss: 0.5256\n",
      "Epoch 216/600\n",
      "80/80 [==============================] - 0s 195us/sample - loss: 0.0332 - val_loss: 0.5275\n",
      "Epoch 217/600\n",
      "80/80 [==============================] - 0s 195us/sample - loss: 0.0330 - val_loss: 0.5316\n",
      "Epoch 218/600\n",
      "80/80 [==============================] - 0s 197us/sample - loss: 0.0327 - val_loss: 0.5368\n",
      "Epoch 219/600\n",
      "80/80 [==============================] - 0s 235us/sample - loss: 0.0325 - val_loss: 0.5446\n",
      "Epoch 220/600\n",
      "80/80 [==============================] - 0s 214us/sample - loss: 0.0324 - val_loss: 0.5500\n",
      "Epoch 221/600\n",
      "80/80 [==============================] - 0s 212us/sample - loss: 0.0321 - val_loss: 0.5550\n",
      "Epoch 222/600\n",
      "80/80 [==============================] - 0s 216us/sample - loss: 0.0319 - val_loss: 0.5588\n",
      "Epoch 223/600\n",
      "80/80 [==============================] - 0s 249us/sample - loss: 0.0317 - val_loss: 0.5630\n",
      "Epoch 224/600\n",
      "80/80 [==============================] - 0s 206us/sample - loss: 0.0315 - val_loss: 0.5649\n",
      "Epoch 225/600\n",
      "80/80 [==============================] - 0s 193us/sample - loss: 0.0314 - val_loss: 0.5665\n",
      "Epoch 226/600\n",
      "80/80 [==============================] - 0s 274us/sample - loss: 0.0311 - val_loss: 0.5706\n",
      "Epoch 227/600\n",
      "80/80 [==============================] - 0s 187us/sample - loss: 0.0309 - val_loss: 0.5731\n",
      "Epoch 228/600\n",
      "80/80 [==============================] - 0s 227us/sample - loss: 0.0307 - val_loss: 0.5810\n",
      "Epoch 229/600\n",
      "80/80 [==============================] - 0s 210us/sample - loss: 0.0305 - val_loss: 0.5866\n",
      "Epoch 230/600\n",
      "80/80 [==============================] - 0s 196us/sample - loss: 0.0303 - val_loss: 0.5916\n",
      "Epoch 231/600\n",
      "80/80 [==============================] - 0s 211us/sample - loss: 0.0300 - val_loss: 0.5969\n",
      "Epoch 232/600\n",
      "80/80 [==============================] - 0s 191us/sample - loss: 0.0298 - val_loss: 0.6020\n",
      "Epoch 233/600\n",
      "80/80 [==============================] - 0s 176us/sample - loss: 0.0298 - val_loss: 0.6078\n",
      "Epoch 234/600\n",
      "80/80 [==============================] - 0s 194us/sample - loss: 0.0295 - val_loss: 0.6115\n"
     ]
    },
    {
     "name": "stdout",
     "output_type": "stream",
     "text": [
      "Epoch 235/600\n",
      "80/80 [==============================] - ETA: 0s - loss: 0.024 - 0s 190us/sample - loss: 0.0293 - val_loss: 0.6158\n",
      "Epoch 236/600\n",
      "80/80 [==============================] - 0s 244us/sample - loss: 0.0291 - val_loss: 0.6217\n",
      "Epoch 237/600\n",
      "80/80 [==============================] - 0s 243us/sample - loss: 0.0289 - val_loss: 0.6277\n",
      "Epoch 238/600\n",
      "80/80 [==============================] - 0s 200us/sample - loss: 0.0287 - val_loss: 0.6336\n",
      "Epoch 239/600\n",
      "80/80 [==============================] - 0s 190us/sample - loss: 0.0285 - val_loss: 0.6368\n",
      "Epoch 240/600\n",
      "80/80 [==============================] - 0s 201us/sample - loss: 0.0283 - val_loss: 0.6403\n",
      "Epoch 241/600\n",
      "80/80 [==============================] - 0s 200us/sample - loss: 0.0280 - val_loss: 0.6429\n",
      "Epoch 242/600\n",
      "80/80 [==============================] - 0s 179us/sample - loss: 0.0279 - val_loss: 0.6438\n",
      "Epoch 243/600\n",
      "80/80 [==============================] - 0s 232us/sample - loss: 0.0276 - val_loss: 0.6493\n",
      "Epoch 244/600\n",
      "80/80 [==============================] - 0s 195us/sample - loss: 0.0275 - val_loss: 0.6550\n",
      "Epoch 245/600\n",
      "80/80 [==============================] - 0s 203us/sample - loss: 0.0273 - val_loss: 0.6577\n",
      "Epoch 246/600\n",
      "80/80 [==============================] - 0s 185us/sample - loss: 0.0271 - val_loss: 0.6607\n",
      "Epoch 247/600\n",
      "80/80 [==============================] - 0s 208us/sample - loss: 0.0269 - val_loss: 0.6669\n",
      "Epoch 248/600\n",
      "80/80 [==============================] - 0s 183us/sample - loss: 0.0266 - val_loss: 0.6731\n",
      "Epoch 249/600\n",
      "80/80 [==============================] - 0s 178us/sample - loss: 0.0265 - val_loss: 0.6815\n",
      "Epoch 250/600\n",
      "80/80 [==============================] - 0s 165us/sample - loss: 0.0263 - val_loss: 0.6868\n",
      "Epoch 251/600\n",
      "80/80 [==============================] - 0s 248us/sample - loss: 0.0260 - val_loss: 0.6909\n",
      "Epoch 252/600\n",
      "80/80 [==============================] - 0s 238us/sample - loss: 0.0258 - val_loss: 0.6951\n",
      "Epoch 253/600\n",
      "80/80 [==============================] - 0s 243us/sample - loss: 0.0257 - val_loss: 0.6966\n",
      "Epoch 254/600\n",
      "80/80 [==============================] - 0s 251us/sample - loss: 0.0255 - val_loss: 0.6996\n",
      "Epoch 255/600\n",
      "80/80 [==============================] - 0s 191us/sample - loss: 0.0253 - val_loss: 0.7029\n",
      "Epoch 256/600\n",
      "80/80 [==============================] - 0s 185us/sample - loss: 0.0252 - val_loss: 0.7025\n",
      "Epoch 257/600\n",
      "80/80 [==============================] - 0s 207us/sample - loss: 0.0250 - val_loss: 0.7045\n",
      "Epoch 258/600\n",
      "80/80 [==============================] - 0s 194us/sample - loss: 0.0247 - val_loss: 0.7125\n",
      "Epoch 259/600\n",
      "80/80 [==============================] - 0s 189us/sample - loss: 0.0244 - val_loss: 0.7169\n",
      "Epoch 260/600\n",
      "80/80 [==============================] - 0s 193us/sample - loss: 0.0243 - val_loss: 0.7210\n",
      "Epoch 261/600\n",
      "80/80 [==============================] - 0s 201us/sample - loss: 0.0241 - val_loss: 0.7246\n",
      "Epoch 262/600\n",
      "80/80 [==============================] - 0s 198us/sample - loss: 0.0239 - val_loss: 0.7283\n",
      "Epoch 263/600\n",
      "80/80 [==============================] - 0s 199us/sample - loss: 0.0238 - val_loss: 0.7302\n",
      "Epoch 264/600\n",
      "80/80 [==============================] - 0s 196us/sample - loss: 0.0236 - val_loss: 0.7342\n",
      "Epoch 265/600\n",
      "80/80 [==============================] - 0s 208us/sample - loss: 0.0233 - val_loss: 0.7367\n",
      "Epoch 266/600\n",
      "80/80 [==============================] - 0s 212us/sample - loss: 0.0231 - val_loss: 0.7381\n",
      "Epoch 267/600\n",
      "80/80 [==============================] - 0s 206us/sample - loss: 0.0230 - val_loss: 0.7398\n",
      "Epoch 268/600\n",
      "80/80 [==============================] - 0s 165us/sample - loss: 0.0228 - val_loss: 0.7462\n",
      "Epoch 269/600\n",
      "80/80 [==============================] - 0s 180us/sample - loss: 0.0227 - val_loss: 0.7513\n",
      "Epoch 270/600\n",
      "80/80 [==============================] - 0s 173us/sample - loss: 0.0224 - val_loss: 0.7567\n",
      "Epoch 271/600\n",
      "80/80 [==============================] - 0s 216us/sample - loss: 0.0222 - val_loss: 0.7604\n",
      "Epoch 272/600\n",
      "80/80 [==============================] - 0s 199us/sample - loss: 0.0221 - val_loss: 0.7646\n",
      "Epoch 273/600\n",
      "80/80 [==============================] - 0s 185us/sample - loss: 0.0219 - val_loss: 0.7688\n",
      "Epoch 274/600\n",
      "80/80 [==============================] - 0s 236us/sample - loss: 0.0218 - val_loss: 0.7743\n",
      "Epoch 275/600\n",
      "80/80 [==============================] - 0s 172us/sample - loss: 0.0216 - val_loss: 0.7793\n",
      "Epoch 276/600\n",
      "80/80 [==============================] - 0s 192us/sample - loss: 0.0214 - val_loss: 0.7843\n",
      "Epoch 277/600\n",
      "80/80 [==============================] - 0s 191us/sample - loss: 0.0213 - val_loss: 0.7928\n",
      "Epoch 278/600\n",
      "80/80 [==============================] - 0s 195us/sample - loss: 0.0210 - val_loss: 0.7973\n",
      "Epoch 279/600\n",
      "80/80 [==============================] - 0s 227us/sample - loss: 0.0209 - val_loss: 0.8020\n",
      "Epoch 280/600\n",
      "80/80 [==============================] - 0s 207us/sample - loss: 0.0207 - val_loss: 0.8061\n",
      "Epoch 281/600\n",
      "80/80 [==============================] - 0s 209us/sample - loss: 0.0205 - val_loss: 0.8096\n",
      "Epoch 282/600\n",
      "80/80 [==============================] - 0s 192us/sample - loss: 0.0204 - val_loss: 0.8128\n",
      "Epoch 283/600\n",
      "80/80 [==============================] - 0s 215us/sample - loss: 0.0202 - val_loss: 0.8164\n",
      "Epoch 284/600\n",
      "80/80 [==============================] - 0s 221us/sample - loss: 0.0199 - val_loss: 0.8243\n",
      "Epoch 285/600\n",
      "80/80 [==============================] - 0s 212us/sample - loss: 0.0197 - val_loss: 0.8352\n",
      "Epoch 286/600\n",
      "80/80 [==============================] - 0s 185us/sample - loss: 0.0196 - val_loss: 0.8438\n",
      "Epoch 287/600\n",
      "80/80 [==============================] - 0s 199us/sample - loss: 0.0194 - val_loss: 0.8541\n",
      "Epoch 288/600\n",
      "80/80 [==============================] - 0s 196us/sample - loss: 0.0194 - val_loss: 0.8643\n",
      "Epoch 289/600\n",
      "80/80 [==============================] - 0s 223us/sample - loss: 0.0192 - val_loss: 0.8708\n",
      "Epoch 290/600\n",
      "80/80 [==============================] - 0s 189us/sample - loss: 0.0191 - val_loss: 0.8753\n",
      "Epoch 291/600\n",
      "80/80 [==============================] - 0s 211us/sample - loss: 0.0188 - val_loss: 0.8782\n",
      "Epoch 292/600\n",
      "80/80 [==============================] - 0s 208us/sample - loss: 0.0188 - val_loss: 0.8787\n",
      "Epoch 293/600\n",
      "80/80 [==============================] - 0s 168us/sample - loss: 0.0185 - val_loss: 0.8834\n",
      "Epoch 294/600\n",
      "80/80 [==============================] - 0s 205us/sample - loss: 0.0183 - val_loss: 0.8865\n",
      "Epoch 295/600\n",
      "80/80 [==============================] - 0s 203us/sample - loss: 0.0182 - val_loss: 0.8882\n",
      "Epoch 296/600\n",
      "80/80 [==============================] - 0s 175us/sample - loss: 0.0181 - val_loss: 0.8893\n",
      "Epoch 297/600\n",
      "80/80 [==============================] - 0s 161us/sample - loss: 0.0179 - val_loss: 0.8953\n",
      "Epoch 298/600\n",
      "80/80 [==============================] - 0s 204us/sample - loss: 0.0177 - val_loss: 0.8984\n",
      "Epoch 299/600\n",
      "80/80 [==============================] - 0s 203us/sample - loss: 0.0175 - val_loss: 0.9005\n",
      "Epoch 300/600\n",
      "80/80 [==============================] - 0s 205us/sample - loss: 0.0174 - val_loss: 0.9017\n",
      "Epoch 301/600\n",
      "80/80 [==============================] - 0s 234us/sample - loss: 0.0172 - val_loss: 0.9041\n",
      "Epoch 302/600\n",
      "80/80 [==============================] - 0s 257us/sample - loss: 0.0171 - val_loss: 0.9065\n",
      "Epoch 303/600\n",
      "80/80 [==============================] - 0s 213us/sample - loss: 0.0170 - val_loss: 0.9095\n",
      "Epoch 304/600\n",
      "80/80 [==============================] - 0s 207us/sample - loss: 0.0168 - val_loss: 0.9116\n",
      "Epoch 305/600\n",
      "80/80 [==============================] - 0s 199us/sample - loss: 0.0167 - val_loss: 0.9140\n",
      "Epoch 306/600\n",
      "80/80 [==============================] - 0s 192us/sample - loss: 0.0165 - val_loss: 0.9197\n",
      "Epoch 307/600\n",
      "80/80 [==============================] - 0s 229us/sample - loss: 0.0164 - val_loss: 0.9288\n",
      "Epoch 308/600\n",
      "80/80 [==============================] - 0s 331us/sample - loss: 0.0162 - val_loss: 0.9366\n",
      "Epoch 309/600\n",
      "80/80 [==============================] - 0s 198us/sample - loss: 0.0161 - val_loss: 0.9426\n",
      "Epoch 310/600\n",
      "80/80 [==============================] - 0s 212us/sample - loss: 0.0160 - val_loss: 0.9513\n",
      "Epoch 311/600\n",
      "80/80 [==============================] - 0s 180us/sample - loss: 0.0159 - val_loss: 0.9576\n",
      "Epoch 312/600\n",
      "80/80 [==============================] - 0s 218us/sample - loss: 0.0158 - val_loss: 0.9609\n"
     ]
    },
    {
     "name": "stdout",
     "output_type": "stream",
     "text": [
      "Epoch 313/600\n",
      "80/80 [==============================] - 0s 197us/sample - loss: 0.0156 - val_loss: 0.9638\n",
      "Epoch 314/600\n",
      "80/80 [==============================] - 0s 208us/sample - loss: 0.0155 - val_loss: 0.9693\n",
      "Epoch 315/600\n",
      "80/80 [==============================] - 0s 206us/sample - loss: 0.0153 - val_loss: 0.9727\n",
      "Epoch 316/600\n",
      "80/80 [==============================] - 0s 205us/sample - loss: 0.0152 - val_loss: 0.9761\n",
      "Epoch 317/600\n",
      "80/80 [==============================] - 0s 210us/sample - loss: 0.0151 - val_loss: 0.9784\n",
      "Epoch 318/600\n",
      "80/80 [==============================] - 0s 198us/sample - loss: 0.0149 - val_loss: 0.9810\n",
      "Epoch 319/600\n",
      "80/80 [==============================] - 0s 225us/sample - loss: 0.0148 - val_loss: 0.9822\n",
      "Epoch 320/600\n",
      "80/80 [==============================] - 0s 199us/sample - loss: 0.0147 - val_loss: 0.9874\n",
      "Epoch 321/600\n",
      "80/80 [==============================] - 0s 192us/sample - loss: 0.0145 - val_loss: 0.9955\n",
      "Epoch 322/600\n",
      "80/80 [==============================] - 0s 194us/sample - loss: 0.0144 - val_loss: 1.0052\n",
      "Epoch 323/600\n",
      "80/80 [==============================] - 0s 194us/sample - loss: 0.0144 - val_loss: 1.0131\n",
      "Epoch 324/600\n",
      "80/80 [==============================] - 0s 208us/sample - loss: 0.0143 - val_loss: 1.0185\n",
      "Epoch 325/600\n",
      "80/80 [==============================] - 0s 192us/sample - loss: 0.0141 - val_loss: 1.0218\n",
      "Epoch 326/600\n",
      "80/80 [==============================] - 0s 182us/sample - loss: 0.0140 - val_loss: 1.0239\n",
      "Epoch 327/600\n",
      "80/80 [==============================] - 0s 210us/sample - loss: 0.0139 - val_loss: 1.0236\n",
      "Epoch 328/600\n",
      "80/80 [==============================] - 0s 197us/sample - loss: 0.0138 - val_loss: 1.0245\n",
      "Epoch 329/600\n",
      "80/80 [==============================] - 0s 200us/sample - loss: 0.0137 - val_loss: 1.0267\n",
      "Epoch 330/600\n",
      "80/80 [==============================] - 0s 200us/sample - loss: 0.0135 - val_loss: 1.0336\n",
      "Epoch 331/600\n",
      "80/80 [==============================] - 0s 204us/sample - loss: 0.0134 - val_loss: 1.0386\n",
      "Epoch 332/600\n",
      "80/80 [==============================] - 0s 215us/sample - loss: 0.0133 - val_loss: 1.0465\n",
      "Epoch 333/600\n",
      "80/80 [==============================] - 0s 188us/sample - loss: 0.0132 - val_loss: 1.0544\n",
      "Epoch 334/600\n",
      "80/80 [==============================] - 0s 194us/sample - loss: 0.0131 - val_loss: 1.0599\n",
      "Epoch 335/600\n",
      "80/80 [==============================] - 0s 192us/sample - loss: 0.0130 - val_loss: 1.0633\n",
      "Epoch 336/600\n",
      "80/80 [==============================] - 0s 196us/sample - loss: 0.0128 - val_loss: 1.0670\n",
      "Epoch 337/600\n",
      "80/80 [==============================] - 0s 214us/sample - loss: 0.0127 - val_loss: 1.0693\n",
      "Epoch 338/600\n",
      "80/80 [==============================] - 0s 177us/sample - loss: 0.0127 - val_loss: 1.0709\n",
      "Epoch 339/600\n",
      "80/80 [==============================] - 0s 202us/sample - loss: 0.0126 - val_loss: 1.0731\n",
      "Epoch 340/600\n",
      "80/80 [==============================] - 0s 226us/sample - loss: 0.0125 - val_loss: 1.0766\n",
      "Epoch 341/600\n",
      "80/80 [==============================] - 0s 174us/sample - loss: 0.0124 - val_loss: 1.0773\n",
      "Epoch 342/600\n",
      "80/80 [==============================] - 0s 209us/sample - loss: 0.0122 - val_loss: 1.0796\n",
      "Epoch 343/600\n",
      "80/80 [==============================] - 0s 173us/sample - loss: 0.0122 - val_loss: 1.0826\n",
      "Epoch 344/600\n",
      "80/80 [==============================] - 0s 183us/sample - loss: 0.0121 - val_loss: 1.0863\n",
      "Epoch 345/600\n",
      "80/80 [==============================] - 0s 220us/sample - loss: 0.0120 - val_loss: 1.0888\n",
      "Epoch 346/600\n",
      "80/80 [==============================] - 0s 196us/sample - loss: 0.0119 - val_loss: 1.0909\n",
      "Epoch 347/600\n",
      "80/80 [==============================] - 0s 190us/sample - loss: 0.0118 - val_loss: 1.0915\n",
      "Epoch 348/600\n",
      "80/80 [==============================] - 0s 198us/sample - loss: 0.0117 - val_loss: 1.0938\n",
      "Epoch 349/600\n",
      "80/80 [==============================] - 0s 175us/sample - loss: 0.0116 - val_loss: 1.0974\n",
      "Epoch 350/600\n",
      "80/80 [==============================] - 0s 229us/sample - loss: 0.0115 - val_loss: 1.1017\n",
      "Epoch 351/600\n",
      "80/80 [==============================] - 0s 197us/sample - loss: 0.0114 - val_loss: 1.1049\n",
      "Epoch 352/600\n",
      "80/80 [==============================] - 0s 200us/sample - loss: 0.0113 - val_loss: 1.1115\n",
      "Epoch 353/600\n",
      "80/80 [==============================] - 0s 167us/sample - loss: 0.0113 - val_loss: 1.1178\n",
      "Epoch 354/600\n",
      "80/80 [==============================] - 0s 192us/sample - loss: 0.0111 - val_loss: 1.1223\n",
      "Epoch 355/600\n",
      "80/80 [==============================] - 0s 218us/sample - loss: 0.0110 - val_loss: 1.1270\n",
      "Epoch 356/600\n",
      "80/80 [==============================] - 0s 211us/sample - loss: 0.0110 - val_loss: 1.1315\n",
      "Epoch 357/600\n",
      "80/80 [==============================] - 0s 204us/sample - loss: 0.0109 - val_loss: 1.1352\n",
      "Epoch 358/600\n",
      "80/80 [==============================] - 0s 203us/sample - loss: 0.0108 - val_loss: 1.1376\n",
      "Epoch 359/600\n",
      "80/80 [==============================] - 0s 205us/sample - loss: 0.0107 - val_loss: 1.1393\n",
      "Epoch 360/600\n",
      "80/80 [==============================] - 0s 196us/sample - loss: 0.0106 - val_loss: 1.1426\n",
      "Epoch 361/600\n",
      "80/80 [==============================] - 0s 213us/sample - loss: 0.0106 - val_loss: 1.1462\n",
      "Epoch 362/600\n",
      "80/80 [==============================] - 0s 208us/sample - loss: 0.0105 - val_loss: 1.1496\n",
      "Epoch 363/600\n",
      "80/80 [==============================] - 0s 268us/sample - loss: 0.0104 - val_loss: 1.1553\n",
      "Epoch 364/600\n",
      "80/80 [==============================] - 0s 173us/sample - loss: 0.0103 - val_loss: 1.1596\n",
      "Epoch 365/600\n",
      "80/80 [==============================] - 0s 224us/sample - loss: 0.0102 - val_loss: 1.1635\n",
      "Epoch 366/600\n",
      "80/80 [==============================] - 0s 193us/sample - loss: 0.0102 - val_loss: 1.1697\n",
      "Epoch 367/600\n",
      "80/80 [==============================] - 0s 175us/sample - loss: 0.0101 - val_loss: 1.1790\n",
      "Epoch 368/600\n",
      "80/80 [==============================] - 0s 241us/sample - loss: 0.0100 - val_loss: 1.1854\n",
      "Epoch 369/600\n",
      "80/80 [==============================] - 0s 239us/sample - loss: 0.0099 - val_loss: 1.1892\n",
      "Epoch 370/600\n",
      "80/80 [==============================] - 0s 210us/sample - loss: 0.0099 - val_loss: 1.1959\n",
      "Epoch 371/600\n",
      "80/80 [==============================] - 0s 188us/sample - loss: 0.0098 - val_loss: 1.1987\n",
      "Epoch 372/600\n",
      "80/80 [==============================] - 0s 189us/sample - loss: 0.0097 - val_loss: 1.2017\n",
      "Epoch 373/600\n",
      "80/80 [==============================] - 0s 239us/sample - loss: 0.0096 - val_loss: 1.2052\n",
      "Epoch 374/600\n",
      "80/80 [==============================] - 0s 194us/sample - loss: 0.0095 - val_loss: 1.2080\n",
      "Epoch 375/600\n",
      "80/80 [==============================] - 0s 202us/sample - loss: 0.0094 - val_loss: 1.2109\n",
      "Epoch 376/600\n",
      "80/80 [==============================] - 0s 206us/sample - loss: 0.0094 - val_loss: 1.2138\n",
      "Epoch 377/600\n",
      "80/80 [==============================] - 0s 215us/sample - loss: 0.0093 - val_loss: 1.2158\n",
      "Epoch 378/600\n",
      "80/80 [==============================] - 0s 198us/sample - loss: 0.0092 - val_loss: 1.2212\n",
      "Epoch 379/600\n",
      "80/80 [==============================] - 0s 190us/sample - loss: 0.0092 - val_loss: 1.2255\n",
      "Epoch 380/600\n",
      "80/80 [==============================] - 0s 197us/sample - loss: 0.0091 - val_loss: 1.2270\n",
      "Epoch 381/600\n",
      "80/80 [==============================] - 0s 239us/sample - loss: 0.0090 - val_loss: 1.2291\n",
      "Epoch 382/600\n",
      "80/80 [==============================] - 0s 174us/sample - loss: 0.0090 - val_loss: 1.2313\n",
      "Epoch 383/600\n",
      "80/80 [==============================] - 0s 207us/sample - loss: 0.0089 - val_loss: 1.2337\n",
      "Epoch 384/600\n",
      "80/80 [==============================] - 0s 203us/sample - loss: 0.0088 - val_loss: 1.2353\n",
      "Epoch 385/600\n",
      "80/80 [==============================] - 0s 230us/sample - loss: 0.0088 - val_loss: 1.2370\n",
      "Epoch 386/600\n",
      "80/80 [==============================] - 0s 212us/sample - loss: 0.0087 - val_loss: 1.2383\n",
      "Epoch 387/600\n",
      "80/80 [==============================] - 0s 214us/sample - loss: 0.0087 - val_loss: 1.2398\n",
      "Epoch 388/600\n",
      "80/80 [==============================] - 0s 249us/sample - loss: 0.0086 - val_loss: 1.2420\n",
      "Epoch 389/600\n",
      "80/80 [==============================] - 0s 222us/sample - loss: 0.0085 - val_loss: 1.2440\n",
      "Epoch 390/600\n",
      "80/80 [==============================] - 0s 185us/sample - loss: 0.0085 - val_loss: 1.2470\n",
      "Epoch 391/600\n"
     ]
    },
    {
     "name": "stdout",
     "output_type": "stream",
     "text": [
      "80/80 [==============================] - 0s 197us/sample - loss: 0.0084 - val_loss: 1.2523\n",
      "Epoch 392/600\n",
      "80/80 [==============================] - 0s 206us/sample - loss: 0.0084 - val_loss: 1.2605\n",
      "Epoch 393/600\n",
      "80/80 [==============================] - 0s 212us/sample - loss: 0.0083 - val_loss: 1.2644\n",
      "Epoch 394/600\n",
      "80/80 [==============================] - 0s 181us/sample - loss: 0.0082 - val_loss: 1.2675\n",
      "Epoch 395/600\n",
      "80/80 [==============================] - 0s 206us/sample - loss: 0.0081 - val_loss: 1.2687\n",
      "Epoch 396/600\n",
      "80/80 [==============================] - 0s 204us/sample - loss: 0.0081 - val_loss: 1.2695\n",
      "Epoch 397/600\n",
      "80/80 [==============================] - 0s 216us/sample - loss: 0.0080 - val_loss: 1.2708\n",
      "Epoch 398/600\n",
      "80/80 [==============================] - 0s 180us/sample - loss: 0.0080 - val_loss: 1.2731\n",
      "Epoch 399/600\n",
      "80/80 [==============================] - 0s 224us/sample - loss: 0.0079 - val_loss: 1.2777\n",
      "Epoch 400/600\n",
      "80/80 [==============================] - 0s 179us/sample - loss: 0.0079 - val_loss: 1.2819\n",
      "Epoch 401/600\n",
      "80/80 [==============================] - 0s 186us/sample - loss: 0.0078 - val_loss: 1.2857\n",
      "Epoch 402/600\n",
      "80/80 [==============================] - 0s 217us/sample - loss: 0.0077 - val_loss: 1.2885\n",
      "Epoch 403/600\n",
      "80/80 [==============================] - 0s 182us/sample - loss: 0.0077 - val_loss: 1.2914\n",
      "Epoch 404/600\n",
      "80/80 [==============================] - 0s 197us/sample - loss: 0.0076 - val_loss: 1.2961\n",
      "Epoch 405/600\n",
      "80/80 [==============================] - 0s 188us/sample - loss: 0.0075 - val_loss: 1.3001\n",
      "Epoch 406/600\n",
      "80/80 [==============================] - 0s 211us/sample - loss: 0.0075 - val_loss: 1.3048\n",
      "Epoch 407/600\n",
      "80/80 [==============================] - 0s 192us/sample - loss: 0.0074 - val_loss: 1.3073\n",
      "Epoch 408/600\n",
      "80/80 [==============================] - 0s 210us/sample - loss: 0.0074 - val_loss: 1.3095\n",
      "Epoch 409/600\n",
      "80/80 [==============================] - 0s 201us/sample - loss: 0.0073 - val_loss: 1.3123\n",
      "Epoch 410/600\n",
      "80/80 [==============================] - 0s 200us/sample - loss: 0.0073 - val_loss: 1.3165\n",
      "Epoch 411/600\n",
      "80/80 [==============================] - 0s 225us/sample - loss: 0.0072 - val_loss: 1.3207\n",
      "Epoch 412/600\n",
      "80/80 [==============================] - 0s 186us/sample - loss: 0.0071 - val_loss: 1.3232\n",
      "Epoch 413/600\n",
      "80/80 [==============================] - 0s 196us/sample - loss: 0.0071 - val_loss: 1.3268\n",
      "Epoch 414/600\n",
      "80/80 [==============================] - 0s 183us/sample - loss: 0.0070 - val_loss: 1.3296\n",
      "Epoch 415/600\n",
      "80/80 [==============================] - 0s 203us/sample - loss: 0.0070 - val_loss: 1.3317\n",
      "Epoch 416/600\n",
      "80/80 [==============================] - 0s 188us/sample - loss: 0.0070 - val_loss: 1.3348\n",
      "Epoch 417/600\n",
      "80/80 [==============================] - 0s 167us/sample - loss: 0.0069 - val_loss: 1.3375\n",
      "Epoch 418/600\n",
      "80/80 [==============================] - 0s 225us/sample - loss: 0.0069 - val_loss: 1.3392\n",
      "Epoch 419/600\n",
      "80/80 [==============================] - 0s 172us/sample - loss: 0.0068 - val_loss: 1.3416\n",
      "Epoch 420/600\n",
      "80/80 [==============================] - 0s 327us/sample - loss: 0.0068 - val_loss: 1.3451\n",
      "Epoch 421/600\n",
      "80/80 [==============================] - 0s 209us/sample - loss: 0.0067 - val_loss: 1.3486\n",
      "Epoch 422/600\n",
      "80/80 [==============================] - 0s 214us/sample - loss: 0.0067 - val_loss: 1.3514\n",
      "Epoch 423/600\n",
      "80/80 [==============================] - 0s 218us/sample - loss: 0.0066 - val_loss: 1.3539\n",
      "Epoch 424/600\n",
      "80/80 [==============================] - 0s 231us/sample - loss: 0.0066 - val_loss: 1.3557\n",
      "Epoch 425/600\n",
      "80/80 [==============================] - 0s 233us/sample - loss: 0.0066 - val_loss: 1.3601\n",
      "Epoch 426/600\n",
      "80/80 [==============================] - 0s 199us/sample - loss: 0.0065 - val_loss: 1.3655\n",
      "Epoch 427/600\n",
      "80/80 [==============================] - 0s 267us/sample - loss: 0.0065 - val_loss: 1.3696\n",
      "Epoch 428/600\n",
      "80/80 [==============================] - 0s 215us/sample - loss: 0.0064 - val_loss: 1.3726\n",
      "Epoch 429/600\n",
      "80/80 [==============================] - 0s 237us/sample - loss: 0.0064 - val_loss: 1.3763\n",
      "Epoch 430/600\n",
      "80/80 [==============================] - 0s 248us/sample - loss: 0.0063 - val_loss: 1.3796\n",
      "Epoch 431/600\n",
      "80/80 [==============================] - 0s 217us/sample - loss: 0.0063 - val_loss: 1.3812\n",
      "Epoch 432/600\n",
      "80/80 [==============================] - 0s 227us/sample - loss: 0.0062 - val_loss: 1.3845\n",
      "Epoch 433/600\n",
      "80/80 [==============================] - 0s 254us/sample - loss: 0.0062 - val_loss: 1.3882\n",
      "Epoch 434/600\n",
      "80/80 [==============================] - 0s 267us/sample - loss: 0.0061 - val_loss: 1.3915\n",
      "Epoch 435/600\n",
      "80/80 [==============================] - 0s 201us/sample - loss: 0.0061 - val_loss: 1.3943\n",
      "Epoch 436/600\n",
      "80/80 [==============================] - 0s 265us/sample - loss: 0.0060 - val_loss: 1.3970\n",
      "Epoch 437/600\n",
      "80/80 [==============================] - 0s 194us/sample - loss: 0.0060 - val_loss: 1.4004\n",
      "Epoch 438/600\n",
      "80/80 [==============================] - 0s 224us/sample - loss: 0.0060 - val_loss: 1.4061\n",
      "Epoch 439/600\n",
      "80/80 [==============================] - 0s 225us/sample - loss: 0.0059 - val_loss: 1.4106\n",
      "Epoch 440/600\n",
      "80/80 [==============================] - 0s 260us/sample - loss: 0.0059 - val_loss: 1.4152\n",
      "Epoch 441/600\n",
      "80/80 [==============================] - 0s 217us/sample - loss: 0.0058 - val_loss: 1.4189\n",
      "Epoch 442/600\n",
      "80/80 [==============================] - 0s 226us/sample - loss: 0.0058 - val_loss: 1.4241\n",
      "Epoch 443/600\n",
      "80/80 [==============================] - 0s 237us/sample - loss: 0.0058 - val_loss: 1.4277\n",
      "Epoch 444/600\n",
      "80/80 [==============================] - 0s 219us/sample - loss: 0.0057 - val_loss: 1.4327\n",
      "Epoch 445/600\n",
      "80/80 [==============================] - 0s 258us/sample - loss: 0.0057 - val_loss: 1.4365\n",
      "Epoch 446/600\n",
      "80/80 [==============================] - 0s 257us/sample - loss: 0.0056 - val_loss: 1.4391\n",
      "Epoch 447/600\n",
      "80/80 [==============================] - 0s 204us/sample - loss: 0.0056 - val_loss: 1.4424\n",
      "Epoch 448/600\n",
      "80/80 [==============================] - 0s 173us/sample - loss: 0.0056 - val_loss: 1.4440\n",
      "Epoch 449/600\n",
      "80/80 [==============================] - 0s 258us/sample - loss: 0.0055 - val_loss: 1.4456\n",
      "Epoch 450/600\n",
      "80/80 [==============================] - 0s 276us/sample - loss: 0.0055 - val_loss: 1.4474\n",
      "Epoch 451/600\n",
      "80/80 [==============================] - 0s 236us/sample - loss: 0.0055 - val_loss: 1.4487\n",
      "Epoch 452/600\n",
      "80/80 [==============================] - 0s 244us/sample - loss: 0.0054 - val_loss: 1.4511\n",
      "Epoch 453/600\n",
      "80/80 [==============================] - 0s 226us/sample - loss: 0.0054 - val_loss: 1.4533\n",
      "Epoch 454/600\n",
      "80/80 [==============================] - 0s 232us/sample - loss: 0.0053 - val_loss: 1.4553\n",
      "Epoch 455/600\n",
      "80/80 [==============================] - 0s 228us/sample - loss: 0.0053 - val_loss: 1.4596\n",
      "Epoch 456/600\n",
      "80/80 [==============================] - 0s 259us/sample - loss: 0.0053 - val_loss: 1.4631\n",
      "Epoch 457/600\n",
      "80/80 [==============================] - 0s 245us/sample - loss: 0.0052 - val_loss: 1.4656\n",
      "Epoch 458/600\n",
      "80/80 [==============================] - 0s 220us/sample - loss: 0.0052 - val_loss: 1.4681\n",
      "Epoch 459/600\n",
      "80/80 [==============================] - 0s 257us/sample - loss: 0.0052 - val_loss: 1.4707\n",
      "Epoch 460/600\n",
      "80/80 [==============================] - 0s 256us/sample - loss: 0.0051 - val_loss: 1.4738\n",
      "Epoch 461/600\n",
      "80/80 [==============================] - 0s 267us/sample - loss: 0.0051 - val_loss: 1.4762\n",
      "Epoch 462/600\n",
      "80/80 [==============================] - 0s 250us/sample - loss: 0.0051 - val_loss: 1.4798\n",
      "Epoch 463/600\n",
      "80/80 [==============================] - 0s 236us/sample - loss: 0.0050 - val_loss: 1.4839\n",
      "Epoch 464/600\n",
      "80/80 [==============================] - 0s 188us/sample - loss: 0.0050 - val_loss: 1.4893\n",
      "Epoch 465/600\n",
      "80/80 [==============================] - 0s 248us/sample - loss: 0.0050 - val_loss: 1.4938\n",
      "Epoch 466/600\n",
      "80/80 [==============================] - 0s 206us/sample - loss: 0.0049 - val_loss: 1.4965\n",
      "Epoch 467/600\n",
      "80/80 [==============================] - 0s 236us/sample - loss: 0.0049 - val_loss: 1.4990\n",
      "Epoch 468/600\n",
      "80/80 [==============================] - 0s 201us/sample - loss: 0.0049 - val_loss: 1.5009\n",
      "Epoch 469/600\n",
      "80/80 [==============================] - 0s 203us/sample - loss: 0.0048 - val_loss: 1.5027\n",
      "Epoch 470/600\n",
      "80/80 [==============================] - 0s 268us/sample - loss: 0.0048 - val_loss: 1.5042\n",
      "Epoch 471/600\n",
      "80/80 [==============================] - 0s 149us/sample - loss: 0.0048 - val_loss: 1.5060\n",
      "Epoch 472/600\n",
      "80/80 [==============================] - 0s 233us/sample - loss: 0.0047 - val_loss: 1.5099\n",
      "Epoch 473/600\n",
      "80/80 [==============================] - 0s 195us/sample - loss: 0.0047 - val_loss: 1.5138\n",
      "Epoch 474/600\n",
      "80/80 [==============================] - 0s 218us/sample - loss: 0.0047 - val_loss: 1.5168\n",
      "Epoch 475/600\n",
      "80/80 [==============================] - 0s 201us/sample - loss: 0.0047 - val_loss: 1.5189\n",
      "Epoch 476/600\n",
      "80/80 [==============================] - 0s 250us/sample - loss: 0.0046 - val_loss: 1.5216\n",
      "Epoch 477/600\n",
      "80/80 [==============================] - 0s 198us/sample - loss: 0.0046 - val_loss: 1.5243\n",
      "Epoch 478/600\n",
      "80/80 [==============================] - 0s 172us/sample - loss: 0.0046 - val_loss: 1.5259\n",
      "Epoch 479/600\n",
      "80/80 [==============================] - 0s 193us/sample - loss: 0.0045 - val_loss: 1.5280\n",
      "Epoch 480/600\n",
      "80/80 [==============================] - 0s 208us/sample - loss: 0.0045 - val_loss: 1.5291\n",
      "Epoch 481/600\n",
      "80/80 [==============================] - 0s 183us/sample - loss: 0.0045 - val_loss: 1.5306\n",
      "Epoch 482/600\n",
      "80/80 [==============================] - 0s 200us/sample - loss: 0.0045 - val_loss: 1.5313\n",
      "Epoch 483/600\n",
      "80/80 [==============================] - 0s 194us/sample - loss: 0.0044 - val_loss: 1.5326\n",
      "Epoch 484/600\n",
      "80/80 [==============================] - 0s 202us/sample - loss: 0.0044 - val_loss: 1.5341\n",
      "Epoch 485/600\n",
      "80/80 [==============================] - 0s 173us/sample - loss: 0.0044 - val_loss: 1.5378\n",
      "Epoch 486/600\n",
      "80/80 [==============================] - 0s 171us/sample - loss: 0.0043 - val_loss: 1.5418\n",
      "Epoch 487/600\n",
      "80/80 [==============================] - 0s 200us/sample - loss: 0.0043 - val_loss: 1.5444\n",
      "Epoch 488/600\n",
      "80/80 [==============================] - 0s 194us/sample - loss: 0.0043 - val_loss: 1.5471\n",
      "Epoch 489/600\n",
      "80/80 [==============================] - 0s 209us/sample - loss: 0.0043 - val_loss: 1.5515\n",
      "Epoch 490/600\n",
      "80/80 [==============================] - 0s 210us/sample - loss: 0.0042 - val_loss: 1.5550\n",
      "Epoch 491/600\n",
      "80/80 [==============================] - 0s 206us/sample - loss: 0.0042 - val_loss: 1.5568\n",
      "Epoch 492/600\n",
      "80/80 [==============================] - 0s 193us/sample - loss: 0.0042 - val_loss: 1.5598\n",
      "Epoch 493/600\n",
      "80/80 [==============================] - 0s 211us/sample - loss: 0.0042 - val_loss: 1.5624\n",
      "Epoch 494/600\n",
      "80/80 [==============================] - 0s 204us/sample - loss: 0.0041 - val_loss: 1.5666\n",
      "Epoch 495/600\n",
      "80/80 [==============================] - 0s 206us/sample - loss: 0.0041 - val_loss: 1.5716\n",
      "Epoch 496/600\n",
      "80/80 [==============================] - 0s 189us/sample - loss: 0.0041 - val_loss: 1.5763\n",
      "Epoch 497/600\n",
      "80/80 [==============================] - 0s 208us/sample - loss: 0.0041 - val_loss: 1.5792\n",
      "Epoch 498/600\n",
      "80/80 [==============================] - 0s 215us/sample - loss: 0.0040 - val_loss: 1.5803\n",
      "Epoch 499/600\n",
      "80/80 [==============================] - 0s 216us/sample - loss: 0.0040 - val_loss: 1.5815\n",
      "Epoch 500/600\n",
      "80/80 [==============================] - 0s 219us/sample - loss: 0.0040 - val_loss: 1.5826\n",
      "Epoch 501/600\n",
      "80/80 [==============================] - 0s 214us/sample - loss: 0.0039 - val_loss: 1.5846\n",
      "Epoch 502/600\n",
      "80/80 [==============================] - 0s 239us/sample - loss: 0.0039 - val_loss: 1.5863\n",
      "Epoch 503/600\n",
      "80/80 [==============================] - 0s 216us/sample - loss: 0.0039 - val_loss: 1.5902\n",
      "Epoch 504/600\n",
      "80/80 [==============================] - 0s 209us/sample - loss: 0.0039 - val_loss: 1.5934\n",
      "Epoch 505/600\n",
      "80/80 [==============================] - 0s 208us/sample - loss: 0.0038 - val_loss: 1.5957\n",
      "Epoch 506/600\n",
      "80/80 [==============================] - 0s 230us/sample - loss: 0.0038 - val_loss: 1.5999\n",
      "Epoch 507/600\n",
      "80/80 [==============================] - 0s 199us/sample - loss: 0.0038 - val_loss: 1.6031\n",
      "Epoch 508/600\n",
      "80/80 [==============================] - 0s 205us/sample - loss: 0.0038 - val_loss: 1.6048\n",
      "Epoch 509/600\n",
      "80/80 [==============================] - 0s 232us/sample - loss: 0.0037 - val_loss: 1.6074\n",
      "Epoch 510/600\n",
      "80/80 [==============================] - 0s 202us/sample - loss: 0.0037 - val_loss: 1.6109\n",
      "Epoch 511/600\n",
      "80/80 [==============================] - 0s 200us/sample - loss: 0.0037 - val_loss: 1.6153\n",
      "Epoch 512/600\n",
      "80/80 [==============================] - 0s 225us/sample - loss: 0.0037 - val_loss: 1.6186\n",
      "Epoch 513/600\n",
      "80/80 [==============================] - 0s 214us/sample - loss: 0.0036 - val_loss: 1.6209\n",
      "Epoch 514/600\n",
      "80/80 [==============================] - 0s 242us/sample - loss: 0.0036 - val_loss: 1.6226\n",
      "Epoch 515/600\n",
      "80/80 [==============================] - 0s 225us/sample - loss: 0.0036 - val_loss: 1.6243\n",
      "Epoch 516/600\n",
      "80/80 [==============================] - 0s 213us/sample - loss: 0.0036 - val_loss: 1.6259\n",
      "Epoch 517/600\n",
      "80/80 [==============================] - 0s 190us/sample - loss: 0.0035 - val_loss: 1.6278\n",
      "Epoch 518/600\n",
      "80/80 [==============================] - 0s 225us/sample - loss: 0.0035 - val_loss: 1.6292\n",
      "Epoch 519/600\n",
      "80/80 [==============================] - 0s 183us/sample - loss: 0.0035 - val_loss: 1.6316\n",
      "Epoch 520/600\n",
      "80/80 [==============================] - 0s 197us/sample - loss: 0.0035 - val_loss: 1.6347\n",
      "Epoch 521/600\n",
      "80/80 [==============================] - 0s 234us/sample - loss: 0.0035 - val_loss: 1.6374\n",
      "Epoch 522/600\n",
      "80/80 [==============================] - 0s 217us/sample - loss: 0.0034 - val_loss: 1.6411\n",
      "Epoch 523/600\n",
      "80/80 [==============================] - 0s 231us/sample - loss: 0.0034 - val_loss: 1.6439\n",
      "Epoch 524/600\n",
      "80/80 [==============================] - 0s 302us/sample - loss: 0.0034 - val_loss: 1.6469\n",
      "Epoch 525/600\n",
      "80/80 [==============================] - 0s 264us/sample - loss: 0.0034 - val_loss: 1.6492\n",
      "Epoch 526/600\n",
      "80/80 [==============================] - 0s 209us/sample - loss: 0.0034 - val_loss: 1.6512\n",
      "Epoch 527/600\n",
      "80/80 [==============================] - 0s 204us/sample - loss: 0.0033 - val_loss: 1.6524\n",
      "Epoch 528/600\n",
      "80/80 [==============================] - 0s 248us/sample - loss: 0.0033 - val_loss: 1.6535\n",
      "Epoch 529/600\n",
      "80/80 [==============================] - 0s 302us/sample - loss: 0.0033 - val_loss: 1.6549\n",
      "Epoch 530/600\n",
      "80/80 [==============================] - 0s 284us/sample - loss: 0.0033 - val_loss: 1.6584\n",
      "Epoch 531/600\n",
      "80/80 [==============================] - 0s 287us/sample - loss: 0.0033 - val_loss: 1.6631\n",
      "Epoch 532/600\n",
      "80/80 [==============================] - 0s 277us/sample - loss: 0.0032 - val_loss: 1.6655\n",
      "Epoch 533/600\n",
      "80/80 [==============================] - 0s 280us/sample - loss: 0.0032 - val_loss: 1.6676\n",
      "Epoch 534/600\n",
      "80/80 [==============================] - 0s 265us/sample - loss: 0.0032 - val_loss: 1.6679\n",
      "Epoch 535/600\n",
      "80/80 [==============================] - 0s 208us/sample - loss: 0.0032 - val_loss: 1.6693\n",
      "Epoch 536/600\n",
      "80/80 [==============================] - 0s 194us/sample - loss: 0.0032 - val_loss: 1.6703\n",
      "Epoch 537/600\n",
      "80/80 [==============================] - 0s 191us/sample - loss: 0.0032 - val_loss: 1.6718\n",
      "Epoch 538/600\n",
      "80/80 [==============================] - 0s 198us/sample - loss: 0.0031 - val_loss: 1.6751\n",
      "Epoch 539/600\n",
      "80/80 [==============================] - 0s 234us/sample - loss: 0.0031 - val_loss: 1.6803\n",
      "Epoch 540/600\n",
      "80/80 [==============================] - 0s 191us/sample - loss: 0.0031 - val_loss: 1.6840\n",
      "Epoch 541/600\n",
      "80/80 [==============================] - 0s 193us/sample - loss: 0.0031 - val_loss: 1.6852\n",
      "Epoch 542/600\n",
      "80/80 [==============================] - 0s 211us/sample - loss: 0.0031 - val_loss: 1.6882\n",
      "Epoch 543/600\n",
      "80/80 [==============================] - 0s 212us/sample - loss: 0.0030 - val_loss: 1.6903\n",
      "Epoch 544/600\n",
      "80/80 [==============================] - 0s 222us/sample - loss: 0.0030 - val_loss: 1.6918\n",
      "Epoch 545/600\n",
      "80/80 [==============================] - 0s 225us/sample - loss: 0.0030 - val_loss: 1.6935\n",
      "Epoch 546/600\n",
      "80/80 [==============================] - 0s 250us/sample - loss: 0.0030 - val_loss: 1.6951\n",
      "Epoch 547/600\n"
     ]
    },
    {
     "name": "stdout",
     "output_type": "stream",
     "text": [
      "80/80 [==============================] - 0s 197us/sample - loss: 0.0030 - val_loss: 1.6988\n",
      "Epoch 548/600\n",
      "80/80 [==============================] - 0s 197us/sample - loss: 0.0030 - val_loss: 1.7012\n",
      "Epoch 549/600\n",
      "80/80 [==============================] - 0s 244us/sample - loss: 0.0029 - val_loss: 1.7031\n",
      "Epoch 550/600\n",
      "80/80 [==============================] - 0s 175us/sample - loss: 0.0029 - val_loss: 1.7065\n",
      "Epoch 551/600\n",
      "80/80 [==============================] - 0s 187us/sample - loss: 0.0029 - val_loss: 1.7113\n",
      "Epoch 552/600\n",
      "80/80 [==============================] - 0s 227us/sample - loss: 0.0029 - val_loss: 1.7142\n",
      "Epoch 553/600\n",
      "80/80 [==============================] - 0s 190us/sample - loss: 0.0029 - val_loss: 1.7169\n",
      "Epoch 554/600\n",
      "80/80 [==============================] - 0s 217us/sample - loss: 0.0029 - val_loss: 1.7187\n",
      "Epoch 555/600\n",
      "80/80 [==============================] - 0s 219us/sample - loss: 0.0028 - val_loss: 1.7208\n",
      "Epoch 556/600\n",
      "80/80 [==============================] - 0s 224us/sample - loss: 0.0028 - val_loss: 1.7226\n",
      "Epoch 557/600\n",
      "80/80 [==============================] - 0s 356us/sample - loss: 0.0028 - val_loss: 1.7248\n",
      "Epoch 558/600\n",
      "80/80 [==============================] - 0s 288us/sample - loss: 0.0028 - val_loss: 1.7266\n",
      "Epoch 559/600\n",
      "80/80 [==============================] - 0s 257us/sample - loss: 0.0028 - val_loss: 1.7304\n",
      "Epoch 560/600\n",
      "80/80 [==============================] - 0s 222us/sample - loss: 0.0028 - val_loss: 1.7332\n",
      "Epoch 561/600\n",
      "80/80 [==============================] - 0s 374us/sample - loss: 0.0027 - val_loss: 1.7353\n",
      "Epoch 562/600\n",
      "80/80 [==============================] - 0s 243us/sample - loss: 0.0027 - val_loss: 1.7368\n",
      "Epoch 563/600\n",
      "80/80 [==============================] - 0s 247us/sample - loss: 0.0027 - val_loss: 1.7373\n",
      "Epoch 564/600\n",
      "80/80 [==============================] - 0s 232us/sample - loss: 0.0027 - val_loss: 1.7381\n",
      "Epoch 565/600\n",
      "80/80 [==============================] - 0s 184us/sample - loss: 0.0027 - val_loss: 1.7387\n",
      "Epoch 566/600\n",
      "80/80 [==============================] - 0s 165us/sample - loss: 0.0027 - val_loss: 1.7412\n",
      "Epoch 567/600\n",
      "80/80 [==============================] - 0s 199us/sample - loss: 0.0027 - val_loss: 1.7451\n",
      "Epoch 568/600\n",
      "80/80 [==============================] - 0s 185us/sample - loss: 0.0026 - val_loss: 1.7483\n",
      "Epoch 569/600\n",
      "80/80 [==============================] - 0s 216us/sample - loss: 0.0026 - val_loss: 1.7528\n",
      "Epoch 570/600\n",
      "80/80 [==============================] - 0s 203us/sample - loss: 0.0026 - val_loss: 1.7562\n",
      "Epoch 571/600\n",
      "80/80 [==============================] - 0s 186us/sample - loss: 0.0026 - val_loss: 1.7585\n",
      "Epoch 572/600\n",
      "80/80 [==============================] - 0s 192us/sample - loss: 0.0026 - val_loss: 1.7605\n",
      "Epoch 573/600\n",
      "80/80 [==============================] - 0s 196us/sample - loss: 0.0026 - val_loss: 1.7616\n",
      "Epoch 574/600\n",
      "80/80 [==============================] - 0s 241us/sample - loss: 0.0026 - val_loss: 1.7612\n",
      "Epoch 575/600\n",
      "80/80 [==============================] - 0s 204us/sample - loss: 0.0025 - val_loss: 1.7628\n",
      "Epoch 576/600\n",
      "80/80 [==============================] - 0s 199us/sample - loss: 0.0025 - val_loss: 1.7659\n",
      "Epoch 577/600\n",
      "80/80 [==============================] - 0s 212us/sample - loss: 0.0025 - val_loss: 1.7687\n",
      "Epoch 578/600\n",
      "80/80 [==============================] - 0s 207us/sample - loss: 0.0025 - val_loss: 1.7714\n",
      "Epoch 579/600\n",
      "80/80 [==============================] - 0s 197us/sample - loss: 0.0025 - val_loss: 1.7738\n",
      "Epoch 580/600\n",
      "80/80 [==============================] - 0s 201us/sample - loss: 0.0025 - val_loss: 1.7756\n",
      "Epoch 581/600\n",
      "80/80 [==============================] - 0s 197us/sample - loss: 0.0024 - val_loss: 1.7775\n",
      "Epoch 582/600\n",
      "80/80 [==============================] - 0s 193us/sample - loss: 0.0024 - val_loss: 1.7792\n",
      "Epoch 583/600\n",
      "80/80 [==============================] - 0s 203us/sample - loss: 0.0024 - val_loss: 1.7801\n",
      "Epoch 584/600\n",
      "80/80 [==============================] - 0s 197us/sample - loss: 0.0024 - val_loss: 1.7815\n",
      "Epoch 585/600\n",
      "80/80 [==============================] - 0s 200us/sample - loss: 0.0024 - val_loss: 1.7850\n",
      "Epoch 586/600\n",
      "80/80 [==============================] - 0s 194us/sample - loss: 0.0024 - val_loss: 1.7877\n",
      "Epoch 587/600\n",
      "80/80 [==============================] - 0s 193us/sample - loss: 0.0024 - val_loss: 1.7895\n",
      "Epoch 588/600\n",
      "80/80 [==============================] - 0s 206us/sample - loss: 0.0024 - val_loss: 1.7919\n",
      "Epoch 589/600\n",
      "80/80 [==============================] - 0s 181us/sample - loss: 0.0023 - val_loss: 1.7939\n",
      "Epoch 590/600\n",
      "80/80 [==============================] - 0s 191us/sample - loss: 0.0023 - val_loss: 1.7957\n",
      "Epoch 591/600\n",
      "80/80 [==============================] - 0s 215us/sample - loss: 0.0023 - val_loss: 1.7988\n",
      "Epoch 592/600\n",
      "80/80 [==============================] - 0s 224us/sample - loss: 0.0023 - val_loss: 1.8025\n",
      "Epoch 593/600\n",
      "80/80 [==============================] - 0s 236us/sample - loss: 0.0023 - val_loss: 1.8053\n",
      "Epoch 594/600\n",
      "80/80 [==============================] - 0s 200us/sample - loss: 0.0023 - val_loss: 1.8071\n",
      "Epoch 595/600\n",
      "80/80 [==============================] - 0s 232us/sample - loss: 0.0023 - val_loss: 1.8094\n",
      "Epoch 596/600\n",
      "80/80 [==============================] - 0s 222us/sample - loss: 0.0023 - val_loss: 1.8126\n",
      "Epoch 597/600\n",
      "80/80 [==============================] - 0s 277us/sample - loss: 0.0022 - val_loss: 1.8153\n",
      "Epoch 598/600\n",
      "80/80 [==============================] - 0s 213us/sample - loss: 0.0022 - val_loss: 1.8168\n",
      "Epoch 599/600\n",
      "80/80 [==============================] - 0s 207us/sample - loss: 0.0022 - val_loss: 1.8181\n",
      "Epoch 600/600\n",
      "80/80 [==============================] - 0s 215us/sample - loss: 0.0022 - val_loss: 1.8205\n"
     ]
    },
    {
     "data": {
      "text/plain": [
       "<tensorflow.python.keras.callbacks.History at 0x7fb7bdc709b0>"
      ]
     },
     "execution_count": 133,
     "metadata": {},
     "output_type": "execute_result"
    }
   ],
   "source": [
    "model.fit(x=X_train, \n",
    "          y=y_train, \n",
    "          epochs=600,\n",
    "          validation_data=(X_test, y_test), verbose=1\n",
    "          )"
   ]
  },
  {
   "cell_type": "code",
   "execution_count": 134,
   "metadata": {},
   "outputs": [
    {
     "data": {
      "text/plain": [
       "<matplotlib.axes._subplots.AxesSubplot at 0x7fb7be6a0438>"
      ]
     },
     "execution_count": 134,
     "metadata": {},
     "output_type": "execute_result"
    },
    {
     "data": {
      "image/png": "[encoded data removed]",
      "text/plain": [
       "<Figure size 432x288 with 1 Axes>"
      ]
     },
     "metadata": {
      "needs_background": "light"
     },
     "output_type": "display_data"
    }
   ],
   "source": [
    "model_loss = pd.DataFrame(model.history.history)\n",
    "model_loss.plot()"
   ]
  },
  {
   "cell_type": "code",
   "execution_count": 135,
   "metadata": {},
   "outputs": [],
   "source": [
    "predictions = model.predict_classes(X_test)"
   ]
  },
  {
   "cell_type": "code",
   "execution_count": 136,
   "metadata": {},
   "outputs": [],
   "source": [
    "from sklearn.metrics import classification_report,confusion_matrix"
   ]
  },
  {
   "cell_type": "code",
   "execution_count": 137,
   "metadata": {},
   "outputs": [
    {
     "name": "stdout",
     "output_type": "stream",
     "text": [
      "              precision    recall  f1-score   support\n",
      "\n",
      "           0       0.83      1.00      0.91        10\n",
      "           1       1.00      0.80      0.89        10\n",
      "\n",
      "    accuracy                           0.90        20\n",
      "   macro avg       0.92      0.90      0.90        20\n",
      "weighted avg       0.92      0.90      0.90        20\n",
      "\n"
     ]
    },
    {
     "data": {
      "text/plain": [
       "array([[10,  0],\n",
       "       [ 2,  8]])"
      ]
     },
     "execution_count": 137,
     "metadata": {},
     "output_type": "execute_result"
    }
   ],
   "source": [
    "print(classification_report(y_test,predictions))\n",
    "cm = confusion_matrix(y_test,predictions)\n",
    "\n",
    "cm"
   ]
  },
  {
   "cell_type": "markdown",
   "metadata": {},
   "source": [
    "### Exercise\n",
    "\n",
    "1) Install Anaconda with Python 3.6 or later (mine is 3.7.3)\n",
    "\n",
    "2) Run all the code blocks and check that they were run successfully"
   ]
  },
  {
   "cell_type": "code",
   "execution_count": null,
   "metadata": {},
   "outputs": [],
   "source": []
  }
 ],
 "metadata": {
  "kernelspec": {
   "display_name": "Python 3",
   "language": "python",
   "name": "python3"
  },
  "language_info": {
   "codemirror_mode": {
    "name": "ipython",
    "version": 3
   },
   "file_extension": ".py",
   "mimetype": "text/x-python",
   "name": "python",
   "nbconvert_exporter": "python",
   "pygments_lexer": "ipython3",
   "version": "3.7.3"
  },
  "varInspector": {
   "cols": {
    "lenName": 16,
    "lenType": 16,
    "lenVar": 40
   },
   "kernels_config": {
    "python": {
     "delete_cmd_postfix": "",
     "delete_cmd_prefix": "del ",
     "library": "var_list.py",
     "varRefreshCmd": "print(var_dic_list())"
    },
    "r": {
     "delete_cmd_postfix": ") ",
     "delete_cmd_prefix": "rm(",
     "library": "var_list.r",
     "varRefreshCmd": "cat(var_dic_list()) "
    }
   },
   "types_to_exclude": [
    "module",
    "function",
    "builtin_function_or_method",
    "instance",
    "_Feature"
   ],
   "window_display": false
  }
 },
 "nbformat": 4,
 "nbformat_minor": 4
}
