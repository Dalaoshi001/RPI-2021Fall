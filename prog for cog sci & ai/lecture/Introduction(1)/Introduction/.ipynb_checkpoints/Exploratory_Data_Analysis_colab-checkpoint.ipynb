{
 "cells": [
  {
   "cell_type": "markdown",
   "metadata": {
    "colab_type": "text",
    "id": "A9Kb_wQhN_N2"
   },
   "source": [
    "## Exploratory Data Analysis (EDA) and Data Preprocessing (DP)"
   ]
  },
  {
   "cell_type": "markdown",
   "metadata": {
    "colab_type": "text",
    "id": "gKE46Ts1N_N3"
   },
   "source": [
    "### EDA Imports"
   ]
  },
  {
   "cell_type": "code",
   "execution_count": 1,
   "metadata": {
    "colab": {
     "base_uri": "https://localhost:8080/",
     "height": 51
    },
    "colab_type": "code",
    "id": "QPgof6qtN_N4",
    "outputId": "1c66f2bf-cef5-4c4f-d678-ff289b1d0c07"
   },
   "outputs": [
    {
     "name": "stdout",
     "output_type": "stream",
     "text": [
      "3.7.3 (default, Mar 27 2019, 16:54:48) \n",
      "[Clang 4.0.1 (tags/RELEASE_401/final)]\n"
     ]
    }
   ],
   "source": [
    "import sys\n",
    "print(sys.version)\n",
    "assert sys.version_info >= (3, 6)\n",
    "\n",
    "import warnings\n",
    "warnings.simplefilter(action='ignore', category=FutureWarning)\n",
    "warnings.simplefilter(action='ignore', category=UserWarning)\n",
    "\n",
    "import numpy as np\n",
    "import pandas as pd\n",
    "from scipy import stats\n",
    "import seaborn as sns\n",
    "import matplotlib.pyplot as plt\n",
    "%matplotlib inline"
   ]
  },
  {
   "cell_type": "markdown",
   "metadata": {
    "colab_type": "text",
    "id": "dXIoygsLN_N8"
   },
   "source": [
    "### DP Imports from sklearn"
   ]
  },
  {
   "cell_type": "code",
   "execution_count": 2,
   "metadata": {
    "colab": {},
    "colab_type": "code",
    "id": "2FGydWHMN_N9"
   },
   "outputs": [],
   "source": [
    "from sklearn.preprocessing import LabelEncoder,StandardScaler\n",
    "from sklearn.model_selection import train_test_split\n"
   ]
  },
  {
   "cell_type": "markdown",
   "metadata": {
    "colab_type": "text",
    "id": "NOp-kXauN_OC"
   },
   "source": [
    "### Read in data with Pandas into DataFrame\n",
    "\n",
    "https://pandas.pydata.org/pandas-docs/version/0.21/generated/pandas.read_csv.html#pandas.read_csv"
   ]
  },
  {
   "cell_type": "code",
   "execution_count": 5,
   "metadata": {
    "colab": {
     "base_uri": "https://localhost:8080/",
     "height": 204
    },
    "colab_type": "code",
    "id": "YfiuA4OMN_OD",
    "outputId": "45ca2701-994c-4459-de22-ed87551f0055"
   },
   "outputs": [
    {
     "data": {
      "text/html": [
       "<div>\n",
       "<style scoped>\n",
       "    .dataframe tbody tr th:only-of-type {\n",
       "        vertical-align: middle;\n",
       "    }\n",
       "\n",
       "    .dataframe tbody tr th {\n",
       "        vertical-align: top;\n",
       "    }\n",
       "\n",
       "    .dataframe thead th {\n",
       "        text-align: right;\n",
       "    }\n",
       "</style>\n",
       "<table border=\"1\" class=\"dataframe\">\n",
       "  <thead>\n",
       "    <tr style=\"text-align: right;\">\n",
       "      <th></th>\n",
       "      <th>Unnamed: 0</th>\n",
       "      <th>mpg</th>\n",
       "      <th>cyl</th>\n",
       "      <th>disp</th>\n",
       "      <th>hp</th>\n",
       "      <th>drat</th>\n",
       "      <th>wt</th>\n",
       "      <th>qsec</th>\n",
       "      <th>vs</th>\n",
       "      <th>am</th>\n",
       "      <th>gear</th>\n",
       "      <th>carb</th>\n",
       "    </tr>\n",
       "  </thead>\n",
       "  <tbody>\n",
       "    <tr>\n",
       "      <th>0</th>\n",
       "      <td>Mazda RX4</td>\n",
       "      <td>21.0</td>\n",
       "      <td>6</td>\n",
       "      <td>160.0</td>\n",
       "      <td>110</td>\n",
       "      <td>3.90</td>\n",
       "      <td>2.620</td>\n",
       "      <td>16.46</td>\n",
       "      <td>0</td>\n",
       "      <td>1</td>\n",
       "      <td>4</td>\n",
       "      <td>4</td>\n",
       "    </tr>\n",
       "    <tr>\n",
       "      <th>1</th>\n",
       "      <td>Mazda RX4 Wag</td>\n",
       "      <td>21.0</td>\n",
       "      <td>6</td>\n",
       "      <td>160.0</td>\n",
       "      <td>110</td>\n",
       "      <td>3.90</td>\n",
       "      <td>2.875</td>\n",
       "      <td>17.02</td>\n",
       "      <td>0</td>\n",
       "      <td>1</td>\n",
       "      <td>4</td>\n",
       "      <td>4</td>\n",
       "    </tr>\n",
       "    <tr>\n",
       "      <th>2</th>\n",
       "      <td>Datsun 710</td>\n",
       "      <td>22.8</td>\n",
       "      <td>4</td>\n",
       "      <td>108.0</td>\n",
       "      <td>93</td>\n",
       "      <td>3.85</td>\n",
       "      <td>2.320</td>\n",
       "      <td>18.61</td>\n",
       "      <td>1</td>\n",
       "      <td>1</td>\n",
       "      <td>4</td>\n",
       "      <td>1</td>\n",
       "    </tr>\n",
       "    <tr>\n",
       "      <th>3</th>\n",
       "      <td>Hornet 4 Drive</td>\n",
       "      <td>21.4</td>\n",
       "      <td>6</td>\n",
       "      <td>258.0</td>\n",
       "      <td>110</td>\n",
       "      <td>3.08</td>\n",
       "      <td>3.215</td>\n",
       "      <td>19.44</td>\n",
       "      <td>1</td>\n",
       "      <td>0</td>\n",
       "      <td>3</td>\n",
       "      <td>1</td>\n",
       "    </tr>\n",
       "    <tr>\n",
       "      <th>4</th>\n",
       "      <td>Hornet Sportabout</td>\n",
       "      <td>18.7</td>\n",
       "      <td>8</td>\n",
       "      <td>360.0</td>\n",
       "      <td>175</td>\n",
       "      <td>3.15</td>\n",
       "      <td>3.440</td>\n",
       "      <td>17.02</td>\n",
       "      <td>0</td>\n",
       "      <td>0</td>\n",
       "      <td>3</td>\n",
       "      <td>2</td>\n",
       "    </tr>\n",
       "  </tbody>\n",
       "</table>\n",
       "</div>"
      ],
      "text/plain": [
       "          Unnamed: 0   mpg  cyl   disp   hp  drat     wt   qsec  vs  am  gear  \\\n",
       "0          Mazda RX4  21.0    6  160.0  110  3.90  2.620  16.46   0   1     4   \n",
       "1      Mazda RX4 Wag  21.0    6  160.0  110  3.90  2.875  17.02   0   1     4   \n",
       "2         Datsun 710  22.8    4  108.0   93  3.85  2.320  18.61   1   1     4   \n",
       "3     Hornet 4 Drive  21.4    6  258.0  110  3.08  3.215  19.44   1   0     3   \n",
       "4  Hornet Sportabout  18.7    8  360.0  175  3.15  3.440  17.02   0   0     3   \n",
       "\n",
       "   carb  \n",
       "0     4  \n",
       "1     4  \n",
       "2     1  \n",
       "3     1  \n",
       "4     2  "
      ]
     },
     "execution_count": 5,
     "metadata": {},
     "output_type": "execute_result"
    }
   ],
   "source": [
    "url=\"https://raw.githubusercontent.com/cs109/2014_data/master/mtcars.csv\"\n",
    "df = pd.read_csv(url) # Pandas version 0.19.2 or later\n",
    "df.head()"
   ]
  },
  {
   "cell_type": "code",
   "execution_count": 3,
   "metadata": {
    "colab": {
     "base_uri": "https://localhost:8080/",
     "height": 55,
     "resources": {
      "http://localhost:8080/nbextensions/google.colab/files.js": {
       "data": "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",
       "headers": [
        [
         "content-type",
         "application/javascript"
        ]
       ],
       "ok": true,
       "status": 200,
       "status_text": ""
      }
     }
    },
    "colab_type": "code",
    "id": "3mZJmNyeOYog",
    "outputId": "cdc1a570-acaf-4afa-c817-7526eacbe24e"
   },
   "outputs": [
    {
     "data": {
      "text/html": [
       "\n",
       "     <input type=\"file\" id=\"files-a0cb6eaa-a76e-4dbf-a77a-de82305d54af\" name=\"files[]\" multiple disabled\n",
       "        style=\"border:none\" />\n",
       "     <output id=\"result-a0cb6eaa-a76e-4dbf-a77a-de82305d54af\">\n",
       "      Upload widget is only available when the cell has been executed in the\n",
       "      current browser session. Please rerun this cell to enable.\n",
       "      </output>\n",
       "      <script src=\"/nbextensions/google.colab/files.js\"></script> "
      ],
      "text/plain": [
       "<IPython.core.display.HTML object>"
      ]
     },
     "metadata": {
      "tags": []
     },
     "output_type": "display_data"
    },
    {
     "name": "stdout",
     "output_type": "stream",
     "text": [
      "Saving iris.csv to iris.csv\n"
     ]
    }
   ],
   "source": [
    "if 'google.colab' in sys.modules:\n",
    "    from google.colab import files\n",
    "    uploaded = files.upload()"
   ]
  },
  {
   "cell_type": "code",
   "execution_count": 4,
   "metadata": {
    "colab": {
     "base_uri": "https://localhost:8080/",
     "height": 221
    },
    "colab_type": "code",
    "id": "hQjnAQznN_OG",
    "outputId": "19af2359-c30c-4fa0-cf07-d01a45d41a62"
   },
   "outputs": [
    {
     "name": "stdout",
     "output_type": "stream",
     "text": [
      "Iris is a <class 'pandas.core.frame.DataFrame'>\n"
     ]
    },
    {
     "data": {
      "text/html": [
       "<div>\n",
       "<style scoped>\n",
       "    .dataframe tbody tr th:only-of-type {\n",
       "        vertical-align: middle;\n",
       "    }\n",
       "\n",
       "    .dataframe tbody tr th {\n",
       "        vertical-align: top;\n",
       "    }\n",
       "\n",
       "    .dataframe thead th {\n",
       "        text-align: right;\n",
       "    }\n",
       "</style>\n",
       "<table border=\"1\" class=\"dataframe\">\n",
       "  <thead>\n",
       "    <tr style=\"text-align: right;\">\n",
       "      <th></th>\n",
       "      <th>sepal_length</th>\n",
       "      <th>sepal_width</th>\n",
       "      <th>petal_length</th>\n",
       "      <th>petal_width</th>\n",
       "      <th>species</th>\n",
       "    </tr>\n",
       "  </thead>\n",
       "  <tbody>\n",
       "    <tr>\n",
       "      <th>145</th>\n",
       "      <td>6.7</td>\n",
       "      <td>3.0</td>\n",
       "      <td>5.2</td>\n",
       "      <td>2.3</td>\n",
       "      <td>virginica</td>\n",
       "    </tr>\n",
       "    <tr>\n",
       "      <th>146</th>\n",
       "      <td>6.3</td>\n",
       "      <td>2.5</td>\n",
       "      <td>5.0</td>\n",
       "      <td>1.9</td>\n",
       "      <td>virginica</td>\n",
       "    </tr>\n",
       "    <tr>\n",
       "      <th>147</th>\n",
       "      <td>6.5</td>\n",
       "      <td>3.0</td>\n",
       "      <td>5.2</td>\n",
       "      <td>2.0</td>\n",
       "      <td>virginica</td>\n",
       "    </tr>\n",
       "    <tr>\n",
       "      <th>148</th>\n",
       "      <td>6.2</td>\n",
       "      <td>3.4</td>\n",
       "      <td>5.4</td>\n",
       "      <td>2.3</td>\n",
       "      <td>virginica</td>\n",
       "    </tr>\n",
       "    <tr>\n",
       "      <th>149</th>\n",
       "      <td>5.9</td>\n",
       "      <td>3.0</td>\n",
       "      <td>5.1</td>\n",
       "      <td>1.8</td>\n",
       "      <td>virginica</td>\n",
       "    </tr>\n",
       "  </tbody>\n",
       "</table>\n",
       "</div>"
      ],
      "text/plain": [
       "     sepal_length  sepal_width  petal_length  petal_width    species\n",
       "145           6.7          3.0           5.2          2.3  virginica\n",
       "146           6.3          2.5           5.0          1.9  virginica\n",
       "147           6.5          3.0           5.2          2.0  virginica\n",
       "148           6.2          3.4           5.4          2.3  virginica\n",
       "149           5.9          3.0           5.1          1.8  virginica"
      ]
     },
     "execution_count": 4,
     "metadata": {
      "tags": []
     },
     "output_type": "execute_result"
    }
   ],
   "source": [
    "iris = pd.read_csv(\"iris.csv\")\n",
    "print(f'Iris is a {type(iris)}')\n",
    "iris.tail() # Shows last 5 rows of dataframe with column labels"
   ]
  },
  {
   "cell_type": "markdown",
   "metadata": {
    "colab_type": "text",
    "id": "Q8IBtcoWN_OJ"
   },
   "source": [
    "### Data Frames\n",
    " \n",
    "* The main data structure for data analysis\n",
    "* Columns are variables, rows are observations\n",
    "* Number of rows in each column must be the same\n",
    "* Columns can be different data types\n",
    "* Extensive set of methods\n",
    "* Typically created by reading in a dataset\n",
    "* Some packages have built-in datasets\n",
    "* Three types of indexing\n",
    "    - []  \n",
    "    - .loc  \n",
    "    - .iloc\n",
    "\n",
    "https://pandas.pydata.org/pandas-docs/stable/generated/pandas.DataFrame.html"
   ]
  },
  {
   "cell_type": "markdown",
   "metadata": {
    "colab_type": "text",
    "id": "iNKjfq7NN_OJ"
   },
   "source": [
    "#### Columns of data frame are pandas series data structure\n",
    "\n",
    "* A NumPy array (vector) and an index that labels each element in the vector."
   ]
  },
  {
   "cell_type": "code",
   "execution_count": 6,
   "metadata": {
    "colab": {
     "base_uri": "https://localhost:8080/",
     "height": 136
    },
    "colab_type": "code",
    "id": "-DzSAR6_N_OK",
    "outputId": "07f2c29d-ae3b-44b6-dad4-dc5cf62c7f17"
   },
   "outputs": [
    {
     "name": "stdout",
     "output_type": "stream",
     "text": [
      "Type of DataFrame is <class 'pandas.core.series.Series'>\n"
     ]
    },
    {
     "data": {
      "text/plain": [
       "0    5.1\n",
       "1    4.9\n",
       "2    4.7\n",
       "3    4.6\n",
       "4    5.0\n",
       "Name: sepal_length, dtype: float64"
      ]
     },
     "execution_count": 6,
     "metadata": {
      "tags": []
     },
     "output_type": "execute_result"
    }
   ],
   "source": [
    "sep_length = iris.loc[:,'sepal_length']\n",
    "print(f'Type of DataFrame is {type(sep_length)}')\n",
    "sep_length[0:5]"
   ]
  },
  {
   "cell_type": "markdown",
   "metadata": {
    "colab_type": "text",
    "id": "zoD2h802N_OM"
   },
   "source": [
    "#### Convert Series to Numpy array"
   ]
  },
  {
   "cell_type": "code",
   "execution_count": 7,
   "metadata": {
    "colab": {
     "base_uri": "https://localhost:8080/",
     "height": 34
    },
    "colab_type": "code",
    "id": "LDBagOnUN_ON",
    "outputId": "6753a0cc-67a7-462d-87f6-7b1882cd544d"
   },
   "outputs": [
    {
     "data": {
      "text/plain": [
       "numpy.ndarray"
      ]
     },
     "execution_count": 7,
     "metadata": {
      "tags": []
     },
     "output_type": "execute_result"
    }
   ],
   "source": [
    "sep_width = iris.iloc[0:5,1].values \n",
    "type(sep_width)"
   ]
  },
  {
   "cell_type": "markdown",
   "metadata": {
    "colab_type": "text",
    "id": "OO-kr-6VN_OQ"
   },
   "source": [
    "### Type of Task:  Classification Task\n",
    "\n",
    "* Classification task: **categorical dependent variable and numeric or categorical independent variables**\n",
    "* We want to predict (i.e. classify) which species an observation (i.e. data point) will belong to\n",
    "* The Dependent or Target Variable is the species. It is a **Categorical Variable**.\n",
    "* The Independent Variables are sepal_length, sepal_width, petal_length and petal_width"
   ]
  },
  {
   "cell_type": "markdown",
   "metadata": {
    "colab_type": "text",
    "id": "h2AOn-51N_OR"
   },
   "source": [
    "### Filter data using DataFrame query method"
   ]
  },
  {
   "cell_type": "code",
   "execution_count": 8,
   "metadata": {
    "colab": {
     "base_uri": "https://localhost:8080/",
     "height": 204
    },
    "colab_type": "code",
    "id": "3wKpBhBiN_OR",
    "outputId": "c8222a93-b535-4c99-9038-dc805eb317bc"
   },
   "outputs": [
    {
     "data": {
      "text/html": [
       "<div>\n",
       "<style scoped>\n",
       "    .dataframe tbody tr th:only-of-type {\n",
       "        vertical-align: middle;\n",
       "    }\n",
       "\n",
       "    .dataframe tbody tr th {\n",
       "        vertical-align: top;\n",
       "    }\n",
       "\n",
       "    .dataframe thead th {\n",
       "        text-align: right;\n",
       "    }\n",
       "</style>\n",
       "<table border=\"1\" class=\"dataframe\">\n",
       "  <thead>\n",
       "    <tr style=\"text-align: right;\">\n",
       "      <th></th>\n",
       "      <th>sepal_length</th>\n",
       "      <th>sepal_width</th>\n",
       "      <th>petal_length</th>\n",
       "      <th>petal_width</th>\n",
       "      <th>species</th>\n",
       "    </tr>\n",
       "  </thead>\n",
       "  <tbody>\n",
       "    <tr>\n",
       "      <th>50</th>\n",
       "      <td>7.0</td>\n",
       "      <td>3.2</td>\n",
       "      <td>4.7</td>\n",
       "      <td>1.4</td>\n",
       "      <td>versicolor</td>\n",
       "    </tr>\n",
       "    <tr>\n",
       "      <th>51</th>\n",
       "      <td>6.4</td>\n",
       "      <td>3.2</td>\n",
       "      <td>4.5</td>\n",
       "      <td>1.5</td>\n",
       "      <td>versicolor</td>\n",
       "    </tr>\n",
       "    <tr>\n",
       "      <th>52</th>\n",
       "      <td>6.9</td>\n",
       "      <td>3.1</td>\n",
       "      <td>4.9</td>\n",
       "      <td>1.5</td>\n",
       "      <td>versicolor</td>\n",
       "    </tr>\n",
       "    <tr>\n",
       "      <th>53</th>\n",
       "      <td>5.5</td>\n",
       "      <td>2.3</td>\n",
       "      <td>4.0</td>\n",
       "      <td>1.3</td>\n",
       "      <td>versicolor</td>\n",
       "    </tr>\n",
       "    <tr>\n",
       "      <th>54</th>\n",
       "      <td>6.5</td>\n",
       "      <td>2.8</td>\n",
       "      <td>4.6</td>\n",
       "      <td>1.5</td>\n",
       "      <td>versicolor</td>\n",
       "    </tr>\n",
       "  </tbody>\n",
       "</table>\n",
       "</div>"
      ],
      "text/plain": [
       "    sepal_length  sepal_width  petal_length  petal_width     species\n",
       "50           7.0          3.2           4.7          1.4  versicolor\n",
       "51           6.4          3.2           4.5          1.5  versicolor\n",
       "52           6.9          3.1           4.9          1.5  versicolor\n",
       "53           5.5          2.3           4.0          1.3  versicolor\n",
       "54           6.5          2.8           4.6          1.5  versicolor"
      ]
     },
     "execution_count": 8,
     "metadata": {
      "tags": []
     },
     "output_type": "execute_result"
    }
   ],
   "source": [
    "iris = iris.query(\"species == 'versicolor' or species == 'virginica'\")\n",
    "iris.head()"
   ]
  },
  {
   "cell_type": "markdown",
   "metadata": {
    "colab_type": "text",
    "id": "JYzu9wwnN_OU"
   },
   "source": [
    "#### Add column to DataFrame and list column names"
   ]
  },
  {
   "cell_type": "code",
   "execution_count": 9,
   "metadata": {
    "colab": {
     "base_uri": "https://localhost:8080/",
     "height": 119
    },
    "colab_type": "code",
    "id": "im6nDsErN_OV",
    "outputId": "0f6a1fb8-b2e2-4ef7-85fd-060290f35ef1"
   },
   "outputs": [
    {
     "data": {
      "text/plain": [
       "['sepal_length',\n",
       " 'sepal_width',\n",
       " 'petal_length',\n",
       " 'petal_width',\n",
       " 'species',\n",
       " 'width_diff']"
      ]
     },
     "execution_count": 9,
     "metadata": {
      "tags": []
     },
     "output_type": "execute_result"
    }
   ],
   "source": [
    "iris['width_diff'] = iris.loc[:,'sepal_width'] - iris.loc[:,'petal_width']\n",
    "col_names = iris.columns.tolist()\n",
    "col_names"
   ]
  },
  {
   "cell_type": "markdown",
   "metadata": {
    "colab_type": "text",
    "id": "bpRlgifON_OX"
   },
   "source": [
    "### Descriptive Statistics"
   ]
  },
  {
   "cell_type": "code",
   "execution_count": 10,
   "metadata": {
    "colab": {
     "base_uri": "https://localhost:8080/",
     "height": 297
    },
    "colab_type": "code",
    "id": "c_DIrCMHN_OY",
    "outputId": "885c262e-c7cf-413b-f20f-72a867194a28"
   },
   "outputs": [
    {
     "data": {
      "text/html": [
       "<div>\n",
       "<style scoped>\n",
       "    .dataframe tbody tr th:only-of-type {\n",
       "        vertical-align: middle;\n",
       "    }\n",
       "\n",
       "    .dataframe tbody tr th {\n",
       "        vertical-align: top;\n",
       "    }\n",
       "\n",
       "    .dataframe thead th {\n",
       "        text-align: right;\n",
       "    }\n",
       "</style>\n",
       "<table border=\"1\" class=\"dataframe\">\n",
       "  <thead>\n",
       "    <tr style=\"text-align: right;\">\n",
       "      <th></th>\n",
       "      <th>sepal_length</th>\n",
       "      <th>sepal_width</th>\n",
       "      <th>petal_length</th>\n",
       "      <th>petal_width</th>\n",
       "      <th>width_diff</th>\n",
       "    </tr>\n",
       "  </thead>\n",
       "  <tbody>\n",
       "    <tr>\n",
       "      <th>count</th>\n",
       "      <td>100.000000</td>\n",
       "      <td>100.000000</td>\n",
       "      <td>100.000000</td>\n",
       "      <td>100.000000</td>\n",
       "      <td>100.00000</td>\n",
       "    </tr>\n",
       "    <tr>\n",
       "      <th>mean</th>\n",
       "      <td>6.262000</td>\n",
       "      <td>2.872000</td>\n",
       "      <td>4.906000</td>\n",
       "      <td>1.676000</td>\n",
       "      <td>1.19600</td>\n",
       "    </tr>\n",
       "    <tr>\n",
       "      <th>std</th>\n",
       "      <td>0.662834</td>\n",
       "      <td>0.332751</td>\n",
       "      <td>0.825578</td>\n",
       "      <td>0.424769</td>\n",
       "      <td>0.36207</td>\n",
       "    </tr>\n",
       "    <tr>\n",
       "      <th>min</th>\n",
       "      <td>4.900000</td>\n",
       "      <td>2.000000</td>\n",
       "      <td>3.000000</td>\n",
       "      <td>1.000000</td>\n",
       "      <td>0.30000</td>\n",
       "    </tr>\n",
       "    <tr>\n",
       "      <th>25%</th>\n",
       "      <td>5.800000</td>\n",
       "      <td>2.700000</td>\n",
       "      <td>4.375000</td>\n",
       "      <td>1.300000</td>\n",
       "      <td>0.90000</td>\n",
       "    </tr>\n",
       "    <tr>\n",
       "      <th>50%</th>\n",
       "      <td>6.300000</td>\n",
       "      <td>2.900000</td>\n",
       "      <td>4.900000</td>\n",
       "      <td>1.600000</td>\n",
       "      <td>1.20000</td>\n",
       "    </tr>\n",
       "    <tr>\n",
       "      <th>75%</th>\n",
       "      <td>6.700000</td>\n",
       "      <td>3.025000</td>\n",
       "      <td>5.525000</td>\n",
       "      <td>2.000000</td>\n",
       "      <td>1.50000</td>\n",
       "    </tr>\n",
       "    <tr>\n",
       "      <th>max</th>\n",
       "      <td>7.900000</td>\n",
       "      <td>3.800000</td>\n",
       "      <td>6.900000</td>\n",
       "      <td>2.500000</td>\n",
       "      <td>1.80000</td>\n",
       "    </tr>\n",
       "  </tbody>\n",
       "</table>\n",
       "</div>"
      ],
      "text/plain": [
       "       sepal_length  sepal_width  petal_length  petal_width  width_diff\n",
       "count    100.000000   100.000000    100.000000   100.000000   100.00000\n",
       "mean       6.262000     2.872000      4.906000     1.676000     1.19600\n",
       "std        0.662834     0.332751      0.825578     0.424769     0.36207\n",
       "min        4.900000     2.000000      3.000000     1.000000     0.30000\n",
       "25%        5.800000     2.700000      4.375000     1.300000     0.90000\n",
       "50%        6.300000     2.900000      4.900000     1.600000     1.20000\n",
       "75%        6.700000     3.025000      5.525000     2.000000     1.50000\n",
       "max        7.900000     3.800000      6.900000     2.500000     1.80000"
      ]
     },
     "execution_count": 10,
     "metadata": {
      "tags": []
     },
     "output_type": "execute_result"
    }
   ],
   "source": [
    "iris.describe()"
   ]
  },
  {
   "cell_type": "code",
   "execution_count": 11,
   "metadata": {
    "colab": {
     "base_uri": "https://localhost:8080/",
     "height": 204
    },
    "colab_type": "code",
    "id": "CUDOlkdVN_Oa",
    "outputId": "bd32ce75-a837-465f-9806-dd7a4a3455cc"
   },
   "outputs": [
    {
     "data": {
      "text/html": [
       "<div>\n",
       "<style scoped>\n",
       "    .dataframe tbody tr th:only-of-type {\n",
       "        vertical-align: middle;\n",
       "    }\n",
       "\n",
       "    .dataframe tbody tr th {\n",
       "        vertical-align: top;\n",
       "    }\n",
       "\n",
       "    .dataframe thead th {\n",
       "        text-align: right;\n",
       "    }\n",
       "</style>\n",
       "<table border=\"1\" class=\"dataframe\">\n",
       "  <thead>\n",
       "    <tr style=\"text-align: right;\">\n",
       "      <th></th>\n",
       "      <th>sepal_length</th>\n",
       "      <th>sepal_width</th>\n",
       "      <th>petal_length</th>\n",
       "      <th>petal_width</th>\n",
       "      <th>width_diff</th>\n",
       "    </tr>\n",
       "  </thead>\n",
       "  <tbody>\n",
       "    <tr>\n",
       "      <th>sepal_length</th>\n",
       "      <td>1.000000</td>\n",
       "      <td>0.553855</td>\n",
       "      <td>0.828479</td>\n",
       "      <td>0.593709</td>\n",
       "      <td>-0.187514</td>\n",
       "    </tr>\n",
       "    <tr>\n",
       "      <th>sepal_width</th>\n",
       "      <td>0.553855</td>\n",
       "      <td>1.000000</td>\n",
       "      <td>0.519802</td>\n",
       "      <td>0.566203</td>\n",
       "      <td>0.254774</td>\n",
       "    </tr>\n",
       "    <tr>\n",
       "      <th>petal_length</th>\n",
       "      <td>0.828479</td>\n",
       "      <td>0.519802</td>\n",
       "      <td>1.000000</td>\n",
       "      <td>0.823348</td>\n",
       "      <td>-0.488213</td>\n",
       "    </tr>\n",
       "    <tr>\n",
       "      <th>petal_width</th>\n",
       "      <td>0.593709</td>\n",
       "      <td>0.566203</td>\n",
       "      <td>0.823348</td>\n",
       "      <td>1.000000</td>\n",
       "      <td>-0.652812</td>\n",
       "    </tr>\n",
       "    <tr>\n",
       "      <th>width_diff</th>\n",
       "      <td>-0.187514</td>\n",
       "      <td>0.254774</td>\n",
       "      <td>-0.488213</td>\n",
       "      <td>-0.652812</td>\n",
       "      <td>1.000000</td>\n",
       "    </tr>\n",
       "  </tbody>\n",
       "</table>\n",
       "</div>"
      ],
      "text/plain": [
       "              sepal_length  sepal_width  petal_length  petal_width  width_diff\n",
       "sepal_length      1.000000     0.553855      0.828479     0.593709   -0.187514\n",
       "sepal_width       0.553855     1.000000      0.519802     0.566203    0.254774\n",
       "petal_length      0.828479     0.519802      1.000000     0.823348   -0.488213\n",
       "petal_width       0.593709     0.566203      0.823348     1.000000   -0.652812\n",
       "width_diff       -0.187514     0.254774     -0.488213    -0.652812    1.000000"
      ]
     },
     "execution_count": 11,
     "metadata": {
      "tags": []
     },
     "output_type": "execute_result"
    }
   ],
   "source": [
    "iris.corr()"
   ]
  },
  {
   "cell_type": "code",
   "execution_count": 12,
   "metadata": {
    "colab": {
     "base_uri": "https://localhost:8080/",
     "height": 928
    },
    "colab_type": "code",
    "id": "tPRR9cLzN_Od",
    "outputId": "471c6966-1a7f-4347-9caf-c9ea55cba219"
   },
   "outputs": [
    {
     "data": {
      "image/png": "[encoded data removed]",
      "text/plain": [
       "<Figure size 984.75x900 with 30 Axes>"
      ]
     },
     "metadata": {
      "needs_background": "light",
      "tags": []
     },
     "output_type": "display_data"
    }
   ],
   "source": [
    "sns.pairplot(iris,diag_kind='kde',hue='species');"
   ]
  },
  {
   "cell_type": "code",
   "execution_count": 13,
   "metadata": {
    "colab": {
     "base_uri": "https://localhost:8080/",
     "height": 280
    },
    "colab_type": "code",
    "id": "yHkstT7EN_Of",
    "outputId": "b5a87461-d35e-48e6-fb17-25b348ae5c1e"
   },
   "outputs": [
    {
     "data": {
      "image/png": "[encoded data removed]",
      "text/plain": [
       "<Figure size 432x288 with 1 Axes>"
      ]
     },
     "metadata": {
      "needs_background": "light",
      "tags": []
     },
     "output_type": "display_data"
    }
   ],
   "source": [
    "sns.boxplot(x='species',y='sepal_length',data=iris);"
   ]
  },
  {
   "cell_type": "markdown",
   "metadata": {
    "colab_type": "text",
    "id": "7q0gasHlN_Oj"
   },
   "source": [
    "## Data Preprocessing\n",
    "\n",
    "### Check for Missing Values"
   ]
  },
  {
   "cell_type": "code",
   "execution_count": 14,
   "metadata": {
    "colab": {
     "base_uri": "https://localhost:8080/",
     "height": 136
    },
    "colab_type": "code",
    "id": "x8zN2ihMN_Oj",
    "outputId": "c3c4efc3-e6b5-4879-fce5-2cb42aeebccd"
   },
   "outputs": [
    {
     "data": {
      "text/plain": [
       "sepal_length    0\n",
       "sepal_width     0\n",
       "petal_length    0\n",
       "petal_width     0\n",
       "species         0\n",
       "width_diff      0\n",
       "dtype: int64"
      ]
     },
     "execution_count": 14,
     "metadata": {
      "tags": []
     },
     "output_type": "execute_result"
    }
   ],
   "source": [
    "np.sum(iris.isna())"
   ]
  },
  {
   "cell_type": "markdown",
   "metadata": {
    "colab_type": "text",
    "id": "h1cLdMGbN_On"
   },
   "source": [
    "### Transform data variables to dependent and independent variables in Numpy arrays\n",
    "\n",
    "#### Numpy N-dimensionsal Arrays (tensors)\n",
    "\n",
    "Numpy basics: \n",
    "\n",
    "https://docs.scipy.org/doc/numpy-1.13.0/user/basics.creation.html\n",
    "\n",
    "https://docs.scipy.org/doc/numpy-1.13.0/user/basics.indexing.html\n",
    "\n",
    "* A tensor is defined by 3 attributes\n",
    "    - ndim: Number of axes (dimensionality of tensor) (often called the rank of the tensor)\n",
    "    - shape: tuple of integers containing number of dimensions along each axis\n",
    "    - dtype: the type of data contained in the tensor\n",
    "    \n",
    "Note:  Dimensionality can denote either the number of entries along a specific axis or the number of axes in a tensor(i.e. the number of direction required to describe it)"
   ]
  },
  {
   "cell_type": "code",
   "execution_count": 15,
   "metadata": {
    "colab": {
     "base_uri": "https://localhost:8080/",
     "height": 51
    },
    "colab_type": "code",
    "id": "8STj5rFdN_Oo",
    "outputId": "e957bc7e-8a6e-4706-8aa4-4950131c7651"
   },
   "outputs": [
    {
     "name": "stdout",
     "output_type": "stream",
     "text": [
      "X shape: (100, 4), X dimension 2\n",
      "y shape: (100, 1), y dimension 2\n"
     ]
    }
   ],
   "source": [
    "X = iris.iloc[:,:4].values  # Matrix of Independent Variables\n",
    "print(f'X shape: {X.shape}, X dimension {X.ndim}')\n",
    "\n",
    "y = iris.loc[:,'species'].values # Vector of the dependent variab;e\n",
    "y = y.reshape(-1,1) # -1 means use current value\n",
    "print(f'y shape: {y.shape}, y dimension {y.ndim}')\n"
   ]
  },
  {
   "cell_type": "code",
   "execution_count": 16,
   "metadata": {
    "colab": {
     "base_uri": "https://localhost:8080/",
     "height": 102
    },
    "colab_type": "code",
    "id": "Tdhb48EAN_Oq",
    "outputId": "36b8a446-9492-41cf-898f-c4c1f3649fc6"
   },
   "outputs": [
    {
     "data": {
      "text/plain": [
       "array([['versicolor'],\n",
       "       ['versicolor'],\n",
       "       ['versicolor'],\n",
       "       ['versicolor'],\n",
       "       ['versicolor']], dtype=object)"
      ]
     },
     "execution_count": 16,
     "metadata": {
      "tags": []
     },
     "output_type": "execute_result"
    }
   ],
   "source": [
    "y[:5]"
   ]
  },
  {
   "cell_type": "markdown",
   "metadata": {
    "colab_type": "text",
    "id": "3XcRAIbwN_Ot"
   },
   "source": [
    "### Encode string to numeric values \n",
    "\n",
    "* For sklearn classification you don't have to encode the dependent variable"
   ]
  },
  {
   "cell_type": "code",
   "execution_count": 17,
   "metadata": {
    "colab": {},
    "colab_type": "code",
    "id": "pTqjjJwjN_Ou"
   },
   "outputs": [],
   "source": [
    "y = LabelEncoder().fit_transform(y) "
   ]
  },
  {
   "cell_type": "markdown",
   "metadata": {
    "colab_type": "text",
    "id": "t42dNkNkN_Ow"
   },
   "source": [
    "#### Split the data\n",
    "\n",
    "* Setting stratify = y ensures that proportion of "
   ]
  },
  {
   "cell_type": "code",
   "execution_count": 18,
   "metadata": {
    "colab": {
     "base_uri": "https://localhost:8080/",
     "height": 34
    },
    "colab_type": "code",
    "id": "3BYzXaweN_Ox",
    "outputId": "82c56521-427a-4c2c-baab-cd0b13fef408"
   },
   "outputs": [
    {
     "data": {
      "text/plain": [
       "((80, 4), (20, 4), (80,), (20,))"
      ]
     },
     "execution_count": 18,
     "metadata": {
      "tags": []
     },
     "output_type": "execute_result"
    }
   ],
   "source": [
    "X_train, X_test, y_train, y_test = train_test_split(X, y, test_size = 0.2, stratify = y,random_state=1234)\n",
    "X_train.shape, X_test.shape, y_train.shape, y_test.shape"
   ]
  },
  {
   "cell_type": "markdown",
   "metadata": {
    "colab_type": "text",
    "id": "qWBt4ia5N_Oz"
   },
   "source": [
    "#### Classification Model"
   ]
  },
  {
   "cell_type": "code",
   "execution_count": 20,
   "metadata": {
    "colab": {
     "base_uri": "https://localhost:8080/",
     "height": 102
    },
    "colab_type": "code",
    "id": "c9De6l1cN_Oz",
    "outputId": "0bcc22aa-1a91-4fd7-ac0a-41838b94e8db"
   },
   "outputs": [
    {
     "data": {
      "text/plain": [
       "LogisticRegression(C=1.0, class_weight=None, dual=False, fit_intercept=True,\n",
       "                   intercept_scaling=1, l1_ratio=None, max_iter=100,\n",
       "                   multi_class='auto', n_jobs=None, penalty='l2',\n",
       "                   random_state=None, solver='lbfgs', tol=0.0001, verbose=0,\n",
       "                   warm_start=False)"
      ]
     },
     "execution_count": 20,
     "metadata": {
      "tags": []
     },
     "output_type": "execute_result"
    }
   ],
   "source": [
    "from sklearn.linear_model import LogisticRegression\n",
    "model = LogisticRegression()\n",
    "model.fit(X_train,y_train)"
   ]
  },
  {
   "cell_type": "code",
   "execution_count": 21,
   "metadata": {
    "colab": {},
    "colab_type": "code",
    "id": "c2jdD78XN_O2"
   },
   "outputs": [],
   "source": [
    "y_predict = model.predict(X_test)"
   ]
  },
  {
   "cell_type": "code",
   "execution_count": 23,
   "metadata": {
    "colab": {
     "base_uri": "https://localhost:8080/",
     "height": 68
    },
    "colab_type": "code",
    "id": "KNUp2DE0N_O4",
    "outputId": "fd0572b8-aa7a-420f-afa1-a2c7dfc785f6"
   },
   "outputs": [
    {
     "name": "stdout",
     "output_type": "stream",
     "text": [
      "[[10  0]\n",
      " [ 3  7]]\n",
      "Accuracy = 0.85\n"
     ]
    }
   ],
   "source": [
    "from sklearn.metrics import confusion_matrix\n",
    "cm = confusion_matrix(y_test,y_predict)\n",
    "print(cm)\n",
    "print(f'Accuracy = {np.round(np.trace(cm)/np.sum(cm),3)}')"
   ]
  },
  {
   "cell_type": "markdown",
   "metadata": {
    "colab_type": "text",
    "id": "kwRmxeqcN_O6"
   },
   "source": [
    "### PyTorch "
   ]
  },
  {
   "cell_type": "code",
   "execution_count": 24,
   "metadata": {
    "colab": {},
    "colab_type": "code",
    "id": "TlzU1sPeN_O6"
   },
   "outputs": [],
   "source": [
    "import torch\n",
    "import torch.nn as nn"
   ]
  },
  {
   "cell_type": "markdown",
   "metadata": {
    "colab_type": "text",
    "id": "P71f1651N_O8"
   },
   "source": [
    "#### Split and Scale"
   ]
  },
  {
   "cell_type": "code",
   "execution_count": 25,
   "metadata": {
    "colab": {
     "base_uri": "https://localhost:8080/",
     "height": 34
    },
    "colab_type": "code",
    "id": "xJLWPS79N_O9",
    "outputId": "b8e320d7-8dfb-4a41-9101-40229a2c1bb2"
   },
   "outputs": [
    {
     "data": {
      "text/plain": [
       "((80, 4), (20, 4))"
      ]
     },
     "execution_count": 25,
     "metadata": {
      "tags": []
     },
     "output_type": "execute_result"
    }
   ],
   "source": [
    "X_train, X_test, y_train, y_test = train_test_split(X, y, test_size = 0.2, stratify = y,random_state=1234)\n",
    "X_train.shape, X_test.shape, y_train.shape, y_test.shape\n",
    "\n",
    "scaler = StandardScaler()\n",
    "X_train = scaler.fit_transform(X_train)\n",
    "X_test =scaler.transform(X_test)\n",
    "X_train.shape,X_test.shape"
   ]
  },
  {
   "cell_type": "markdown",
   "metadata": {
    "colab_type": "text",
    "id": "8ugh2I60N_PB"
   },
   "source": [
    "#### Build the model"
   ]
  },
  {
   "cell_type": "code",
   "execution_count": 26,
   "metadata": {
    "colab": {},
    "colab_type": "code",
    "id": "0dy2WznSN_PB"
   },
   "outputs": [],
   "source": [
    "N, D = X_train.shape\n",
    "model = nn.Sequential(\n",
    "    nn.Linear(D, 1),\n",
    "    nn.Sigmoid()\n",
    ")"
   ]
  },
  {
   "cell_type": "markdown",
   "metadata": {
    "colab_type": "text",
    "id": "k7BAaFP2N_PE"
   },
   "source": [
    "#### Loss and optimizer"
   ]
  },
  {
   "cell_type": "code",
   "execution_count": 27,
   "metadata": {
    "colab": {},
    "colab_type": "code",
    "id": "fp5x1FF0N_PF"
   },
   "outputs": [],
   "source": [
    "criterion = nn.BCELoss()\n",
    "optimizer = torch.optim.Adam(model.parameters())"
   ]
  },
  {
   "cell_type": "markdown",
   "metadata": {
    "colab_type": "text",
    "id": "CQ-7feGZN_PH"
   },
   "source": [
    "#### Convert data into torch tensors"
   ]
  },
  {
   "cell_type": "code",
   "execution_count": 28,
   "metadata": {
    "colab": {},
    "colab_type": "code",
    "id": "ZZSjcGoXN_PH"
   },
   "outputs": [],
   "source": [
    "X_train = torch.from_numpy(X_train.astype(np.float32))\n",
    "X_test = torch.from_numpy(X_test.astype(np.float32))\n",
    "y_train = torch.from_numpy(y_train.astype(np.float32).reshape(-1, 1))\n",
    "y_test = torch.from_numpy(y_test.astype(np.float32).reshape(-1, 1))"
   ]
  },
  {
   "cell_type": "markdown",
   "metadata": {
    "colab_type": "text",
    "id": "ahdPa0NkN_PJ"
   },
   "source": [
    "#### Train the model"
   ]
  },
  {
   "cell_type": "code",
   "execution_count": 29,
   "metadata": {
    "colab": {
     "base_uri": "https://localhost:8080/",
     "height": 357
    },
    "colab_type": "code",
    "id": "m8PK7z-HN_PJ",
    "outputId": "928ac1d6-38a3-4725-cc99-fb822dc75dd2"
   },
   "outputs": [
    {
     "name": "stdout",
     "output_type": "stream",
     "text": [
      "Epoch 50/1000, Train Loss: 0.6126, Test Loss: 0.5941\n",
      "Epoch 100/1000, Train Loss: 0.5607, Test Loss: 0.5550\n",
      "Epoch 150/1000, Train Loss: 0.5182, Test Loss: 0.5231\n",
      "Epoch 200/1000, Train Loss: 0.4832, Test Loss: 0.4968\n",
      "Epoch 250/1000, Train Loss: 0.4542, Test Loss: 0.4749\n",
      "Epoch 300/1000, Train Loss: 0.4298, Test Loss: 0.4564\n",
      "Epoch 350/1000, Train Loss: 0.4090, Test Loss: 0.4403\n",
      "Epoch 400/1000, Train Loss: 0.3910, Test Loss: 0.4262\n",
      "Epoch 450/1000, Train Loss: 0.3752, Test Loss: 0.4136\n",
      "Epoch 500/1000, Train Loss: 0.3612, Test Loss: 0.4021\n",
      "Epoch 550/1000, Train Loss: 0.3487, Test Loss: 0.3916\n",
      "Epoch 600/1000, Train Loss: 0.3373, Test Loss: 0.3819\n",
      "Epoch 650/1000, Train Loss: 0.3269, Test Loss: 0.3727\n",
      "Epoch 700/1000, Train Loss: 0.3173, Test Loss: 0.3640\n",
      "Epoch 750/1000, Train Loss: 0.3084, Test Loss: 0.3558\n",
      "Epoch 800/1000, Train Loss: 0.3001, Test Loss: 0.3479\n",
      "Epoch 850/1000, Train Loss: 0.2923, Test Loss: 0.3403\n",
      "Epoch 900/1000, Train Loss: 0.2850, Test Loss: 0.3330\n",
      "Epoch 950/1000, Train Loss: 0.2780, Test Loss: 0.3259\n",
      "Epoch 1000/1000, Train Loss: 0.2715, Test Loss: 0.3190\n"
     ]
    }
   ],
   "source": [
    "n_epochs = 1000\n",
    "\n",
    "# Stuff to store\n",
    "train_losses = np.zeros(n_epochs)\n",
    "test_losses = np.zeros(n_epochs)\n",
    "\n",
    "for it in range(n_epochs):\n",
    "  # zero the parameter gradients\n",
    "  optimizer.zero_grad()\n",
    "\n",
    "  # Forward pass\n",
    "  outputs = model(X_train)\n",
    "  loss = criterion(outputs, y_train)\n",
    "    \n",
    "  # Backward and optimize\n",
    "  loss.backward()\n",
    "  optimizer.step()\n",
    "\n",
    "  # Get test loss\n",
    "  outputs_test = model(X_test)\n",
    "  loss_test = criterion(outputs_test, y_test)\n",
    "\n",
    "  # Save losses\n",
    "  train_losses[it] = loss.item()\n",
    "  test_losses[it] = loss_test.item()\n",
    "    \n",
    "  if (it + 1) % 50 == 0:\n",
    "    print(f'Epoch {it+1}/{n_epochs}, Train Loss: {loss.item():.4f}, Test Loss: {loss_test.item():.4f}')"
   ]
  },
  {
   "cell_type": "markdown",
   "metadata": {
    "colab_type": "text",
    "id": "h9cgIHpEN_PM"
   },
   "source": [
    "#### Plot the train loss and test loss per iteration"
   ]
  },
  {
   "cell_type": "code",
   "execution_count": 30,
   "metadata": {
    "colab": {
     "base_uri": "https://localhost:8080/",
     "height": 265
    },
    "colab_type": "code",
    "id": "SGOay8PvN_PN",
    "outputId": "0c9a03af-d7c7-4d4f-d3c0-8e6f8b40b3c1"
   },
   "outputs": [
    {
     "data": {
      "image/png": "[encoded data removed]",
      "text/plain": [
       "<Figure size 432x288 with 1 Axes>"
      ]
     },
     "metadata": {
      "needs_background": "light",
      "tags": []
     },
     "output_type": "display_data"
    }
   ],
   "source": [
    "plt.plot(train_losses, label='train loss')\n",
    "plt.plot(test_losses, label='test loss')\n",
    "plt.legend()\n",
    "plt.show()"
   ]
  },
  {
   "cell_type": "markdown",
   "metadata": {
    "colab_type": "text",
    "id": "KHUu2yShN_PP"
   },
   "source": [
    "#### Predict "
   ]
  },
  {
   "cell_type": "code",
   "execution_count": 31,
   "metadata": {
    "colab": {},
    "colab_type": "code",
    "id": "kwupw91CN_PQ"
   },
   "outputs": [],
   "source": [
    "p_test = model(X_test)"
   ]
  },
  {
   "cell_type": "markdown",
   "metadata": {
    "colab_type": "text",
    "id": "RN7GYUTPN_PS"
   },
   "source": [
    "#### Check accuracy"
   ]
  },
  {
   "cell_type": "code",
   "execution_count": 32,
   "metadata": {
    "colab": {
     "base_uri": "https://localhost:8080/",
     "height": 68
    },
    "colab_type": "code",
    "id": "Tk3ZLYM1N_PS",
    "outputId": "8475282f-f016-4569-a47b-0d74bcb0b211"
   },
   "outputs": [
    {
     "name": "stdout",
     "output_type": "stream",
     "text": [
      "[[10  0]\n",
      " [ 2  8]]\n",
      "Accuracy = 0.9\n"
     ]
    }
   ],
   "source": [
    "y_predict = np.round(p_test.detach().numpy())\n",
    "cm = confusion_matrix(y_test,y_predict)\n",
    "print(cm)\n",
    "print(f'Accuracy = {np.round(np.trace(cm)/np.sum(cm),3)}')"
   ]
  },
  {
   "cell_type": "code",
   "execution_count": 33,
   "metadata": {
    "colab": {
     "base_uri": "https://localhost:8080/",
     "height": 35
    },
    "colab_type": "code",
    "id": "uOwoJ3nzN_PU",
    "outputId": "ce700635-bcfd-402f-faf8-68bc66bd4988"
   },
   "outputs": [
    {
     "data": {
      "application/vnd.google.colaboratory.intrinsic+json": {
       "type": "string"
      },
      "text/plain": [
       "'2.3.0'"
      ]
     },
     "execution_count": 33,
     "metadata": {
      "tags": []
     },
     "output_type": "execute_result"
    }
   ],
   "source": [
    "import tensorflow as tf\n",
    "from tensorflow.keras.models import Sequential\n",
    "from tensorflow.keras.layers import Dense, Activation,Dropout\n",
    "tf.__version__"
   ]
  },
  {
   "cell_type": "markdown",
   "metadata": {
    "colab_type": "text",
    "id": "F6j0eZvNN_PW"
   },
   "source": [
    "#### Split and Scale"
   ]
  },
  {
   "cell_type": "code",
   "execution_count": 34,
   "metadata": {
    "colab": {
     "base_uri": "https://localhost:8080/",
     "height": 34
    },
    "colab_type": "code",
    "id": "fkFqenJHN_PX",
    "outputId": "8f71393c-dff4-46ec-d2e8-8e5de4e6749d"
   },
   "outputs": [
    {
     "data": {
      "text/plain": [
       "((80, 4), (20, 4))"
      ]
     },
     "execution_count": 34,
     "metadata": {
      "tags": []
     },
     "output_type": "execute_result"
    }
   ],
   "source": [
    "X_train, X_test, y_train, y_test = train_test_split(X, y, test_size = 0.2, stratify = y,random_state=1234)\n",
    "X_train.shape, X_test.shape, y_train.shape, y_test.shape\n",
    "\n",
    "scaler = StandardScaler()\n",
    "X_train = scaler.fit_transform(X_train)\n",
    "X_test =scaler.transform(X_test)\n",
    "X_train.shape,X_test.shape"
   ]
  },
  {
   "cell_type": "code",
   "execution_count": 35,
   "metadata": {
    "colab": {},
    "colab_type": "code",
    "id": "Nc-QQk7fN_PZ"
   },
   "outputs": [],
   "source": [
    "model = Sequential()\n",
    "\n",
    "model.add(Dense(units=30,activation='relu'))\n",
    "model.add(Dense(units=15,activation='relu'))\n",
    "\n",
    "\n",
    "model.add(Dense(units=1,activation='sigmoid'))\n",
    "\n",
    "# For a binary classification problem\n",
    "model.compile(loss='binary_crossentropy', optimizer='adam')"
   ]
  },
  {
   "cell_type": "code",
   "execution_count": 36,
   "metadata": {
    "colab": {
     "base_uri": "https://localhost:8080/",
     "height": 1000
    },
    "colab_type": "code",
    "id": "R2iw5IG1N_Pb",
    "outputId": "30e3436c-12e0-48bf-973b-7ad1c03b9673"
   },
   "outputs": [
    {
     "name": "stdout",
     "output_type": "stream",
     "text": [
      "Epoch 1/600\n",
      "3/3 [==============================] - 0s 39ms/step - loss: 0.5859 - val_loss: 0.5711\n",
      "Epoch 2/600\n",
      "3/3 [==============================] - 0s 6ms/step - loss: 0.5677 - val_loss: 0.5556\n",
      "Epoch 3/600\n",
      "3/3 [==============================] - 0s 5ms/step - loss: 0.5513 - val_loss: 0.5410\n",
      "Epoch 4/600\n",
      "3/3 [==============================] - 0s 5ms/step - loss: 0.5355 - val_loss: 0.5271\n",
      "Epoch 5/600\n",
      "3/3 [==============================] - 0s 5ms/step - loss: 0.5199 - val_loss: 0.5141\n",
      "Epoch 6/600\n",
      "3/3 [==============================] - 0s 6ms/step - loss: 0.5049 - val_loss: 0.5014\n",
      "Epoch 7/600\n",
      "3/3 [==============================] - 0s 5ms/step - loss: 0.4904 - val_loss: 0.4894\n",
      "Epoch 8/600\n",
      "3/3 [==============================] - 0s 6ms/step - loss: 0.4763 - val_loss: 0.4782\n",
      "Epoch 9/600\n",
      "3/3 [==============================] - 0s 5ms/step - loss: 0.4626 - val_loss: 0.4675\n",
      "Epoch 10/600\n",
      "3/3 [==============================] - 0s 6ms/step - loss: 0.4490 - val_loss: 0.4567\n",
      "Epoch 11/600\n",
      "3/3 [==============================] - 0s 5ms/step - loss: 0.4354 - val_loss: 0.4465\n",
      "Epoch 12/600\n",
      "3/3 [==============================] - 0s 6ms/step - loss: 0.4223 - val_loss: 0.4366\n",
      "Epoch 13/600\n",
      "3/3 [==============================] - 0s 6ms/step - loss: 0.4103 - val_loss: 0.4270\n",
      "Epoch 14/600\n",
      "3/3 [==============================] - 0s 5ms/step - loss: 0.3974 - val_loss: 0.4176\n",
      "Epoch 15/600\n",
      "3/3 [==============================] - 0s 6ms/step - loss: 0.3851 - val_loss: 0.4078\n",
      "Epoch 16/600\n",
      "3/3 [==============================] - 0s 6ms/step - loss: 0.3727 - val_loss: 0.3977\n",
      "Epoch 17/600\n",
      "3/3 [==============================] - 0s 5ms/step - loss: 0.3614 - val_loss: 0.3878\n",
      "Epoch 18/600\n",
      "3/3 [==============================] - 0s 5ms/step - loss: 0.3494 - val_loss: 0.3781\n",
      "Epoch 19/600\n",
      "3/3 [==============================] - 0s 6ms/step - loss: 0.3376 - val_loss: 0.3689\n",
      "Epoch 20/600\n",
      "3/3 [==============================] - 0s 5ms/step - loss: 0.3267 - val_loss: 0.3598\n",
      "Epoch 21/600\n",
      "3/3 [==============================] - 0s 5ms/step - loss: 0.3161 - val_loss: 0.3511\n",
      "Epoch 22/600\n",
      "3/3 [==============================] - 0s 5ms/step - loss: 0.3055 - val_loss: 0.3428\n",
      "Epoch 23/600\n",
      "3/3 [==============================] - 0s 5ms/step - loss: 0.2950 - val_loss: 0.3342\n",
      "Epoch 24/600\n",
      "3/3 [==============================] - 0s 5ms/step - loss: 0.2853 - val_loss: 0.3258\n",
      "Epoch 25/600\n",
      "3/3 [==============================] - 0s 5ms/step - loss: 0.2755 - val_loss: 0.3180\n",
      "Epoch 26/600\n",
      "3/3 [==============================] - 0s 5ms/step - loss: 0.2657 - val_loss: 0.3107\n",
      "Epoch 27/600\n",
      "3/3 [==============================] - 0s 6ms/step - loss: 0.2570 - val_loss: 0.3035\n",
      "Epoch 28/600\n",
      "3/3 [==============================] - 0s 5ms/step - loss: 0.2482 - val_loss: 0.2964\n",
      "Epoch 29/600\n",
      "3/3 [==============================] - 0s 5ms/step - loss: 0.2394 - val_loss: 0.2894\n",
      "Epoch 30/600\n",
      "3/3 [==============================] - 0s 5ms/step - loss: 0.2313 - val_loss: 0.2828\n",
      "Epoch 31/600\n",
      "3/3 [==============================] - 0s 5ms/step - loss: 0.2236 - val_loss: 0.2762\n",
      "Epoch 32/600\n",
      "3/3 [==============================] - 0s 5ms/step - loss: 0.2156 - val_loss: 0.2705\n",
      "Epoch 33/600\n",
      "3/3 [==============================] - 0s 5ms/step - loss: 0.2084 - val_loss: 0.2648\n",
      "Epoch 34/600\n",
      "3/3 [==============================] - 0s 5ms/step - loss: 0.2017 - val_loss: 0.2594\n",
      "Epoch 35/600\n",
      "3/3 [==============================] - 0s 6ms/step - loss: 0.1950 - val_loss: 0.2543\n",
      "Epoch 36/600\n",
      "3/3 [==============================] - 0s 6ms/step - loss: 0.1888 - val_loss: 0.2498\n",
      "Epoch 37/600\n",
      "3/3 [==============================] - 0s 6ms/step - loss: 0.1829 - val_loss: 0.2453\n",
      "Epoch 38/600\n",
      "3/3 [==============================] - 0s 6ms/step - loss: 0.1772 - val_loss: 0.2406\n",
      "Epoch 39/600\n",
      "3/3 [==============================] - 0s 6ms/step - loss: 0.1714 - val_loss: 0.2361\n",
      "Epoch 40/600\n",
      "3/3 [==============================] - 0s 5ms/step - loss: 0.1664 - val_loss: 0.2314\n",
      "Epoch 41/600\n",
      "3/3 [==============================] - 0s 6ms/step - loss: 0.1614 - val_loss: 0.2274\n",
      "Epoch 42/600\n",
      "3/3 [==============================] - 0s 5ms/step - loss: 0.1568 - val_loss: 0.2233\n",
      "Epoch 43/600\n",
      "3/3 [==============================] - 0s 5ms/step - loss: 0.1521 - val_loss: 0.2191\n",
      "Epoch 44/600\n",
      "3/3 [==============================] - 0s 5ms/step - loss: 0.1479 - val_loss: 0.2153\n",
      "Epoch 45/600\n",
      "3/3 [==============================] - 0s 5ms/step - loss: 0.1439 - val_loss: 0.2119\n",
      "Epoch 46/600\n",
      "3/3 [==============================] - 0s 5ms/step - loss: 0.1400 - val_loss: 0.2075\n",
      "Epoch 47/600\n",
      "3/3 [==============================] - 0s 5ms/step - loss: 0.1360 - val_loss: 0.2030\n",
      "Epoch 48/600\n",
      "3/3 [==============================] - 0s 5ms/step - loss: 0.1327 - val_loss: 0.1982\n",
      "Epoch 49/600\n",
      "3/3 [==============================] - 0s 6ms/step - loss: 0.1294 - val_loss: 0.1945\n",
      "Epoch 50/600\n",
      "3/3 [==============================] - 0s 6ms/step - loss: 0.1260 - val_loss: 0.1916\n",
      "Epoch 51/600\n",
      "3/3 [==============================] - 0s 5ms/step - loss: 0.1231 - val_loss: 0.1893\n",
      "Epoch 52/600\n",
      "3/3 [==============================] - 0s 5ms/step - loss: 0.1203 - val_loss: 0.1875\n",
      "Epoch 53/600\n",
      "3/3 [==============================] - 0s 5ms/step - loss: 0.1178 - val_loss: 0.1861\n",
      "Epoch 54/600\n",
      "3/3 [==============================] - 0s 5ms/step - loss: 0.1150 - val_loss: 0.1852\n",
      "Epoch 55/600\n",
      "3/3 [==============================] - 0s 6ms/step - loss: 0.1126 - val_loss: 0.1840\n",
      "Epoch 56/600\n",
      "3/3 [==============================] - 0s 6ms/step - loss: 0.1104 - val_loss: 0.1829\n",
      "Epoch 57/600\n",
      "3/3 [==============================] - 0s 5ms/step - loss: 0.1082 - val_loss: 0.1830\n",
      "Epoch 58/600\n",
      "3/3 [==============================] - 0s 6ms/step - loss: 0.1060 - val_loss: 0.1823\n",
      "Epoch 59/600\n",
      "3/3 [==============================] - 0s 6ms/step - loss: 0.1039 - val_loss: 0.1812\n",
      "Epoch 60/600\n",
      "3/3 [==============================] - 0s 5ms/step - loss: 0.1020 - val_loss: 0.1794\n",
      "Epoch 61/600\n",
      "3/3 [==============================] - 0s 6ms/step - loss: 0.1001 - val_loss: 0.1765\n",
      "Epoch 62/600\n",
      "3/3 [==============================] - 0s 6ms/step - loss: 0.0985 - val_loss: 0.1738\n",
      "Epoch 63/600\n",
      "3/3 [==============================] - 0s 5ms/step - loss: 0.0966 - val_loss: 0.1722\n",
      "Epoch 64/600\n",
      "3/3 [==============================] - 0s 5ms/step - loss: 0.0953 - val_loss: 0.1708\n",
      "Epoch 65/600\n",
      "3/3 [==============================] - 0s 5ms/step - loss: 0.0935 - val_loss: 0.1696\n",
      "Epoch 66/600\n",
      "3/3 [==============================] - 0s 6ms/step - loss: 0.0922 - val_loss: 0.1684\n",
      "Epoch 67/600\n",
      "3/3 [==============================] - 0s 6ms/step - loss: 0.0907 - val_loss: 0.1690\n",
      "Epoch 68/600\n",
      "3/3 [==============================] - 0s 6ms/step - loss: 0.0896 - val_loss: 0.1690\n",
      "Epoch 69/600\n",
      "3/3 [==============================] - 0s 5ms/step - loss: 0.0883 - val_loss: 0.1703\n",
      "Epoch 70/600\n",
      "3/3 [==============================] - 0s 6ms/step - loss: 0.0871 - val_loss: 0.1723\n",
      "Epoch 71/600\n",
      "3/3 [==============================] - 0s 6ms/step - loss: 0.0861 - val_loss: 0.1762\n",
      "Epoch 72/600\n",
      "3/3 [==============================] - 0s 5ms/step - loss: 0.0849 - val_loss: 0.1778\n",
      "Epoch 73/600\n",
      "3/3 [==============================] - 0s 6ms/step - loss: 0.0838 - val_loss: 0.1790\n",
      "Epoch 74/600\n",
      "3/3 [==============================] - 0s 5ms/step - loss: 0.0829 - val_loss: 0.1800\n",
      "Epoch 75/600\n",
      "3/3 [==============================] - 0s 6ms/step - loss: 0.0820 - val_loss: 0.1797\n",
      "Epoch 76/600\n",
      "3/3 [==============================] - 0s 5ms/step - loss: 0.0812 - val_loss: 0.1807\n",
      "Epoch 77/600\n",
      "3/3 [==============================] - 0s 5ms/step - loss: 0.0802 - val_loss: 0.1804\n",
      "Epoch 78/600\n",
      "3/3 [==============================] - 0s 5ms/step - loss: 0.0795 - val_loss: 0.1800\n",
      "Epoch 79/600\n",
      "3/3 [==============================] - 0s 6ms/step - loss: 0.0785 - val_loss: 0.1819\n",
      "Epoch 80/600\n",
      "3/3 [==============================] - 0s 5ms/step - loss: 0.0779 - val_loss: 0.1834\n",
      "Epoch 81/600\n",
      "3/3 [==============================] - 0s 6ms/step - loss: 0.0771 - val_loss: 0.1865\n",
      "Epoch 82/600\n",
      "3/3 [==============================] - 0s 5ms/step - loss: 0.0764 - val_loss: 0.1910\n",
      "Epoch 83/600\n",
      "3/3 [==============================] - 0s 6ms/step - loss: 0.0757 - val_loss: 0.1945\n",
      "Epoch 84/600\n",
      "3/3 [==============================] - 0s 6ms/step - loss: 0.0750 - val_loss: 0.1966\n",
      "Epoch 85/600\n",
      "3/3 [==============================] - 0s 5ms/step - loss: 0.0744 - val_loss: 0.1979\n",
      "Epoch 86/600\n",
      "3/3 [==============================] - 0s 5ms/step - loss: 0.0737 - val_loss: 0.1976\n",
      "Epoch 87/600\n",
      "3/3 [==============================] - 0s 7ms/step - loss: 0.0733 - val_loss: 0.1964\n",
      "Epoch 88/600\n",
      "3/3 [==============================] - 0s 5ms/step - loss: 0.0724 - val_loss: 0.1975\n",
      "Epoch 89/600\n",
      "3/3 [==============================] - 0s 6ms/step - loss: 0.0720 - val_loss: 0.1958\n",
      "Epoch 90/600\n",
      "3/3 [==============================] - 0s 5ms/step - loss: 0.0713 - val_loss: 0.1964\n",
      "Epoch 91/600\n",
      "3/3 [==============================] - 0s 5ms/step - loss: 0.0707 - val_loss: 0.1970\n",
      "Epoch 92/600\n",
      "3/3 [==============================] - 0s 6ms/step - loss: 0.0703 - val_loss: 0.1976\n",
      "Epoch 93/600\n",
      "3/3 [==============================] - 0s 5ms/step - loss: 0.0697 - val_loss: 0.1988\n",
      "Epoch 94/600\n",
      "3/3 [==============================] - 0s 5ms/step - loss: 0.0692 - val_loss: 0.1982\n",
      "Epoch 95/600\n",
      "3/3 [==============================] - 0s 5ms/step - loss: 0.0686 - val_loss: 0.1984\n",
      "Epoch 96/600\n",
      "3/3 [==============================] - 0s 5ms/step - loss: 0.0682 - val_loss: 0.1983\n",
      "Epoch 97/600\n",
      "3/3 [==============================] - 0s 6ms/step - loss: 0.0678 - val_loss: 0.1981\n",
      "Epoch 98/600\n",
      "3/3 [==============================] - 0s 5ms/step - loss: 0.0674 - val_loss: 0.2004\n",
      "Epoch 99/600\n",
      "3/3 [==============================] - 0s 5ms/step - loss: 0.0668 - val_loss: 0.2013\n",
      "Epoch 100/600\n",
      "3/3 [==============================] - 0s 5ms/step - loss: 0.0664 - val_loss: 0.1993\n",
      "Epoch 101/600\n",
      "3/3 [==============================] - 0s 10ms/step - loss: 0.0661 - val_loss: 0.1977\n",
      "Epoch 102/600\n",
      "3/3 [==============================] - 0s 6ms/step - loss: 0.0657 - val_loss: 0.1979\n",
      "Epoch 103/600\n",
      "3/3 [==============================] - 0s 5ms/step - loss: 0.0653 - val_loss: 0.1991\n",
      "Epoch 104/600\n",
      "3/3 [==============================] - 0s 5ms/step - loss: 0.0648 - val_loss: 0.2014\n",
      "Epoch 105/600\n",
      "3/3 [==============================] - 0s 5ms/step - loss: 0.0645 - val_loss: 0.2049\n",
      "Epoch 106/600\n",
      "3/3 [==============================] - 0s 5ms/step - loss: 0.0641 - val_loss: 0.2067\n",
      "Epoch 107/600\n",
      "3/3 [==============================] - 0s 6ms/step - loss: 0.0637 - val_loss: 0.2080\n",
      "Epoch 108/600\n",
      "3/3 [==============================] - 0s 6ms/step - loss: 0.0634 - val_loss: 0.2091\n",
      "Epoch 109/600\n",
      "3/3 [==============================] - 0s 6ms/step - loss: 0.0629 - val_loss: 0.2142\n",
      "Epoch 110/600\n",
      "3/3 [==============================] - 0s 5ms/step - loss: 0.0626 - val_loss: 0.2197\n",
      "Epoch 111/600\n",
      "3/3 [==============================] - 0s 6ms/step - loss: 0.0621 - val_loss: 0.2243\n",
      "Epoch 112/600\n",
      "3/3 [==============================] - 0s 5ms/step - loss: 0.0617 - val_loss: 0.2289\n",
      "Epoch 113/600\n",
      "3/3 [==============================] - 0s 6ms/step - loss: 0.0613 - val_loss: 0.2305\n",
      "Epoch 114/600\n",
      "3/3 [==============================] - 0s 5ms/step - loss: 0.0611 - val_loss: 0.2326\n",
      "Epoch 115/600\n",
      "3/3 [==============================] - 0s 6ms/step - loss: 0.0607 - val_loss: 0.2373\n",
      "Epoch 116/600\n",
      "3/3 [==============================] - 0s 6ms/step - loss: 0.0602 - val_loss: 0.2397\n",
      "Epoch 117/600\n",
      "3/3 [==============================] - 0s 5ms/step - loss: 0.0600 - val_loss: 0.2415\n",
      "Epoch 118/600\n",
      "3/3 [==============================] - 0s 6ms/step - loss: 0.0596 - val_loss: 0.2446\n",
      "Epoch 119/600\n",
      "3/3 [==============================] - 0s 6ms/step - loss: 0.0593 - val_loss: 0.2469\n",
      "Epoch 120/600\n",
      "3/3 [==============================] - 0s 8ms/step - loss: 0.0589 - val_loss: 0.2471\n",
      "Epoch 121/600\n",
      "3/3 [==============================] - 0s 6ms/step - loss: 0.0587 - val_loss: 0.2489\n",
      "Epoch 122/600\n",
      "3/3 [==============================] - 0s 6ms/step - loss: 0.0583 - val_loss: 0.2532\n",
      "Epoch 123/600\n",
      "3/3 [==============================] - 0s 5ms/step - loss: 0.0581 - val_loss: 0.2611\n",
      "Epoch 124/600\n",
      "3/3 [==============================] - 0s 5ms/step - loss: 0.0577 - val_loss: 0.2654\n",
      "Epoch 125/600\n",
      "3/3 [==============================] - 0s 5ms/step - loss: 0.0575 - val_loss: 0.2674\n",
      "Epoch 126/600\n",
      "3/3 [==============================] - 0s 5ms/step - loss: 0.0570 - val_loss: 0.2713\n",
      "Epoch 127/600\n",
      "3/3 [==============================] - 0s 5ms/step - loss: 0.0568 - val_loss: 0.2744\n",
      "Epoch 128/600\n",
      "3/3 [==============================] - 0s 6ms/step - loss: 0.0564 - val_loss: 0.2764\n",
      "Epoch 129/600\n",
      "3/3 [==============================] - 0s 6ms/step - loss: 0.0561 - val_loss: 0.2803\n",
      "Epoch 130/600\n",
      "3/3 [==============================] - 0s 5ms/step - loss: 0.0558 - val_loss: 0.2842\n",
      "Epoch 131/600\n",
      "3/3 [==============================] - 0s 6ms/step - loss: 0.0555 - val_loss: 0.2856\n",
      "Epoch 132/600\n",
      "3/3 [==============================] - 0s 7ms/step - loss: 0.0553 - val_loss: 0.2900\n",
      "Epoch 133/600\n",
      "3/3 [==============================] - 0s 5ms/step - loss: 0.0549 - val_loss: 0.2904\n",
      "Epoch 134/600\n",
      "3/3 [==============================] - 0s 5ms/step - loss: 0.0546 - val_loss: 0.2917\n",
      "Epoch 135/600\n",
      "3/3 [==============================] - 0s 5ms/step - loss: 0.0543 - val_loss: 0.2918\n",
      "Epoch 136/600\n",
      "3/3 [==============================] - 0s 5ms/step - loss: 0.0540 - val_loss: 0.2923\n",
      "Epoch 137/600\n",
      "3/3 [==============================] - 0s 6ms/step - loss: 0.0537 - val_loss: 0.2910\n",
      "Epoch 138/600\n",
      "3/3 [==============================] - 0s 5ms/step - loss: 0.0534 - val_loss: 0.2907\n",
      "Epoch 139/600\n",
      "3/3 [==============================] - 0s 5ms/step - loss: 0.0531 - val_loss: 0.2915\n",
      "Epoch 140/600\n",
      "3/3 [==============================] - 0s 5ms/step - loss: 0.0528 - val_loss: 0.2892\n",
      "Epoch 141/600\n",
      "3/3 [==============================] - 0s 6ms/step - loss: 0.0525 - val_loss: 0.2883\n",
      "Epoch 142/600\n",
      "3/3 [==============================] - 0s 5ms/step - loss: 0.0522 - val_loss: 0.2891\n",
      "Epoch 143/600\n",
      "3/3 [==============================] - 0s 6ms/step - loss: 0.0519 - val_loss: 0.2902\n",
      "Epoch 144/600\n",
      "3/3 [==============================] - 0s 5ms/step - loss: 0.0517 - val_loss: 0.2924\n",
      "Epoch 145/600\n",
      "3/3 [==============================] - 0s 5ms/step - loss: 0.0515 - val_loss: 0.2934\n",
      "Epoch 146/600\n",
      "3/3 [==============================] - 0s 8ms/step - loss: 0.0512 - val_loss: 0.2958\n",
      "Epoch 147/600\n",
      "3/3 [==============================] - 0s 5ms/step - loss: 0.0509 - val_loss: 0.2985\n",
      "Epoch 148/600\n",
      "3/3 [==============================] - 0s 5ms/step - loss: 0.0506 - val_loss: 0.3006\n",
      "Epoch 149/600\n",
      "3/3 [==============================] - 0s 5ms/step - loss: 0.0503 - val_loss: 0.3017\n",
      "Epoch 150/600\n",
      "3/3 [==============================] - 0s 5ms/step - loss: 0.0504 - val_loss: 0.3015\n",
      "Epoch 151/600\n",
      "3/3 [==============================] - 0s 5ms/step - loss: 0.0499 - val_loss: 0.3061\n",
      "Epoch 152/600\n",
      "3/3 [==============================] - 0s 5ms/step - loss: 0.0495 - val_loss: 0.3111\n",
      "Epoch 153/600\n",
      "3/3 [==============================] - 0s 5ms/step - loss: 0.0495 - val_loss: 0.3167\n",
      "Epoch 154/600\n",
      "3/3 [==============================] - 0s 6ms/step - loss: 0.0489 - val_loss: 0.3180\n",
      "Epoch 155/600\n",
      "3/3 [==============================] - 0s 5ms/step - loss: 0.0487 - val_loss: 0.3182\n",
      "Epoch 156/600\n",
      "3/3 [==============================] - 0s 5ms/step - loss: 0.0487 - val_loss: 0.3179\n",
      "Epoch 157/600\n",
      "3/3 [==============================] - 0s 5ms/step - loss: 0.0484 - val_loss: 0.3194\n",
      "Epoch 158/600\n",
      "3/3 [==============================] - 0s 6ms/step - loss: 0.0481 - val_loss: 0.3220\n",
      "Epoch 159/600\n",
      "3/3 [==============================] - 0s 5ms/step - loss: 0.0478 - val_loss: 0.3254\n",
      "Epoch 160/600\n",
      "3/3 [==============================] - 0s 6ms/step - loss: 0.0476 - val_loss: 0.3282\n",
      "Epoch 161/600\n",
      "3/3 [==============================] - 0s 6ms/step - loss: 0.0474 - val_loss: 0.3322\n",
      "Epoch 162/600\n",
      "3/3 [==============================] - 0s 5ms/step - loss: 0.0471 - val_loss: 0.3371\n",
      "Epoch 163/600\n",
      "3/3 [==============================] - 0s 6ms/step - loss: 0.0468 - val_loss: 0.3415\n",
      "Epoch 164/600\n",
      "3/3 [==============================] - 0s 5ms/step - loss: 0.0467 - val_loss: 0.3449\n",
      "Epoch 165/600\n",
      "3/3 [==============================] - 0s 7ms/step - loss: 0.0463 - val_loss: 0.3494\n",
      "Epoch 166/600\n",
      "3/3 [==============================] - 0s 5ms/step - loss: 0.0460 - val_loss: 0.3577\n",
      "Epoch 167/600\n",
      "3/3 [==============================] - 0s 5ms/step - loss: 0.0458 - val_loss: 0.3691\n",
      "Epoch 168/600\n",
      "3/3 [==============================] - 0s 6ms/step - loss: 0.0456 - val_loss: 0.3813\n",
      "Epoch 169/600\n",
      "3/3 [==============================] - 0s 5ms/step - loss: 0.0453 - val_loss: 0.3903\n",
      "Epoch 170/600\n",
      "3/3 [==============================] - 0s 6ms/step - loss: 0.0452 - val_loss: 0.3979\n",
      "Epoch 171/600\n",
      "3/3 [==============================] - 0s 6ms/step - loss: 0.0449 - val_loss: 0.4027\n",
      "Epoch 172/600\n",
      "3/3 [==============================] - 0s 6ms/step - loss: 0.0447 - val_loss: 0.4080\n",
      "Epoch 173/600\n",
      "3/3 [==============================] - 0s 6ms/step - loss: 0.0447 - val_loss: 0.4162\n",
      "Epoch 174/600\n",
      "3/3 [==============================] - 0s 5ms/step - loss: 0.0445 - val_loss: 0.4223\n",
      "Epoch 175/600\n",
      "3/3 [==============================] - 0s 6ms/step - loss: 0.0442 - val_loss: 0.4254\n",
      "Epoch 176/600\n",
      "3/3 [==============================] - 0s 6ms/step - loss: 0.0439 - val_loss: 0.4245\n",
      "Epoch 177/600\n",
      "3/3 [==============================] - 0s 8ms/step - loss: 0.0437 - val_loss: 0.4222\n",
      "Epoch 178/600\n",
      "3/3 [==============================] - 0s 6ms/step - loss: 0.0433 - val_loss: 0.4218\n",
      "Epoch 179/600\n",
      "3/3 [==============================] - 0s 5ms/step - loss: 0.0432 - val_loss: 0.4207\n",
      "Epoch 180/600\n",
      "3/3 [==============================] - 0s 5ms/step - loss: 0.0429 - val_loss: 0.4260\n",
      "Epoch 181/600\n",
      "3/3 [==============================] - 0s 6ms/step - loss: 0.0425 - val_loss: 0.4282\n",
      "Epoch 182/600\n",
      "3/3 [==============================] - 0s 5ms/step - loss: 0.0423 - val_loss: 0.4301\n",
      "Epoch 183/600\n",
      "3/3 [==============================] - 0s 6ms/step - loss: 0.0421 - val_loss: 0.4305\n",
      "Epoch 184/600\n",
      "3/3 [==============================] - 0s 6ms/step - loss: 0.0419 - val_loss: 0.4292\n",
      "Epoch 185/600\n",
      "3/3 [==============================] - 0s 6ms/step - loss: 0.0417 - val_loss: 0.4315\n",
      "Epoch 186/600\n",
      "3/3 [==============================] - 0s 5ms/step - loss: 0.0414 - val_loss: 0.4344\n",
      "Epoch 187/600\n",
      "3/3 [==============================] - 0s 6ms/step - loss: 0.0414 - val_loss: 0.4341\n",
      "Epoch 188/600\n",
      "3/3 [==============================] - 0s 5ms/step - loss: 0.0412 - val_loss: 0.4357\n",
      "Epoch 189/600\n",
      "3/3 [==============================] - 0s 6ms/step - loss: 0.0409 - val_loss: 0.4381\n",
      "Epoch 190/600\n",
      "3/3 [==============================] - 0s 5ms/step - loss: 0.0407 - val_loss: 0.4409\n",
      "Epoch 191/600\n",
      "3/3 [==============================] - 0s 6ms/step - loss: 0.0407 - val_loss: 0.4416\n",
      "Epoch 192/600\n",
      "3/3 [==============================] - 0s 7ms/step - loss: 0.0402 - val_loss: 0.4485\n",
      "Epoch 193/600\n",
      "3/3 [==============================] - 0s 5ms/step - loss: 0.0397 - val_loss: 0.4581\n",
      "Epoch 194/600\n",
      "3/3 [==============================] - 0s 5ms/step - loss: 0.0401 - val_loss: 0.4720\n",
      "Epoch 195/600\n",
      "3/3 [==============================] - 0s 6ms/step - loss: 0.0394 - val_loss: 0.4786\n",
      "Epoch 196/600\n",
      "3/3 [==============================] - 0s 5ms/step - loss: 0.0393 - val_loss: 0.4825\n",
      "Epoch 197/600\n",
      "3/3 [==============================] - 0s 5ms/step - loss: 0.0391 - val_loss: 0.4839\n",
      "Epoch 198/600\n",
      "3/3 [==============================] - 0s 5ms/step - loss: 0.0388 - val_loss: 0.4859\n",
      "Epoch 199/600\n",
      "3/3 [==============================] - 0s 5ms/step - loss: 0.0385 - val_loss: 0.4859\n",
      "Epoch 200/600\n",
      "3/3 [==============================] - 0s 6ms/step - loss: 0.0383 - val_loss: 0.4850\n",
      "Epoch 201/600\n",
      "3/3 [==============================] - 0s 8ms/step - loss: 0.0380 - val_loss: 0.4852\n",
      "Epoch 202/600\n",
      "3/3 [==============================] - 0s 6ms/step - loss: 0.0379 - val_loss: 0.4848\n",
      "Epoch 203/600\n",
      "3/3 [==============================] - 0s 5ms/step - loss: 0.0377 - val_loss: 0.4839\n",
      "Epoch 204/600\n",
      "3/3 [==============================] - 0s 5ms/step - loss: 0.0375 - val_loss: 0.4824\n",
      "Epoch 205/600\n",
      "3/3 [==============================] - 0s 5ms/step - loss: 0.0374 - val_loss: 0.4820\n",
      "Epoch 206/600\n",
      "3/3 [==============================] - 0s 5ms/step - loss: 0.0371 - val_loss: 0.4839\n",
      "Epoch 207/600\n",
      "3/3 [==============================] - 0s 6ms/step - loss: 0.0370 - val_loss: 0.4855\n",
      "Epoch 208/600\n",
      "3/3 [==============================] - 0s 5ms/step - loss: 0.0368 - val_loss: 0.4930\n",
      "Epoch 209/600\n",
      "3/3 [==============================] - 0s 5ms/step - loss: 0.0364 - val_loss: 0.5002\n",
      "Epoch 210/600\n",
      "3/3 [==============================] - 0s 5ms/step - loss: 0.0361 - val_loss: 0.5061\n",
      "Epoch 211/600\n",
      "3/3 [==============================] - 0s 5ms/step - loss: 0.0361 - val_loss: 0.5137\n",
      "Epoch 212/600\n",
      "3/3 [==============================] - 0s 5ms/step - loss: 0.0359 - val_loss: 0.5191\n",
      "Epoch 213/600\n",
      "3/3 [==============================] - 0s 5ms/step - loss: 0.0357 - val_loss: 0.5216\n",
      "Epoch 214/600\n",
      "3/3 [==============================] - 0s 5ms/step - loss: 0.0353 - val_loss: 0.5296\n",
      "Epoch 215/600\n",
      "3/3 [==============================] - 0s 5ms/step - loss: 0.0350 - val_loss: 0.5401\n",
      "Epoch 216/600\n",
      "3/3 [==============================] - 0s 5ms/step - loss: 0.0349 - val_loss: 0.5484\n",
      "Epoch 217/600\n",
      "3/3 [==============================] - 0s 6ms/step - loss: 0.0347 - val_loss: 0.5550\n",
      "Epoch 218/600\n",
      "3/3 [==============================] - 0s 6ms/step - loss: 0.0346 - val_loss: 0.5656\n",
      "Epoch 219/600\n",
      "3/3 [==============================] - 0s 6ms/step - loss: 0.0345 - val_loss: 0.5730\n",
      "Epoch 220/600\n",
      "3/3 [==============================] - 0s 5ms/step - loss: 0.0342 - val_loss: 0.5755\n",
      "Epoch 221/600\n",
      "3/3 [==============================] - 0s 5ms/step - loss: 0.0339 - val_loss: 0.5814\n",
      "Epoch 222/600\n",
      "3/3 [==============================] - 0s 5ms/step - loss: 0.0339 - val_loss: 0.5873\n",
      "Epoch 223/600\n",
      "3/3 [==============================] - 0s 5ms/step - loss: 0.0334 - val_loss: 0.5876\n",
      "Epoch 224/600\n",
      "3/3 [==============================] - 0s 7ms/step - loss: 0.0332 - val_loss: 0.5885\n",
      "Epoch 225/600\n",
      "3/3 [==============================] - 0s 8ms/step - loss: 0.0331 - val_loss: 0.5899\n",
      "Epoch 226/600\n",
      "3/3 [==============================] - 0s 5ms/step - loss: 0.0329 - val_loss: 0.5919\n",
      "Epoch 227/600\n",
      "3/3 [==============================] - 0s 6ms/step - loss: 0.0327 - val_loss: 0.5930\n",
      "Epoch 228/600\n",
      "3/3 [==============================] - 0s 5ms/step - loss: 0.0325 - val_loss: 0.5938\n",
      "Epoch 229/600\n",
      "3/3 [==============================] - 0s 5ms/step - loss: 0.0322 - val_loss: 0.5966\n",
      "Epoch 230/600\n",
      "3/3 [==============================] - 0s 5ms/step - loss: 0.0320 - val_loss: 0.5991\n",
      "Epoch 231/600\n",
      "3/3 [==============================] - 0s 5ms/step - loss: 0.0319 - val_loss: 0.6010\n",
      "Epoch 232/600\n",
      "3/3 [==============================] - 0s 6ms/step - loss: 0.0317 - val_loss: 0.6030\n",
      "Epoch 233/600\n",
      "3/3 [==============================] - 0s 5ms/step - loss: 0.0316 - val_loss: 0.6067\n",
      "Epoch 234/600\n",
      "3/3 [==============================] - 0s 6ms/step - loss: 0.0313 - val_loss: 0.6088\n",
      "Epoch 235/600\n",
      "3/3 [==============================] - 0s 5ms/step - loss: 0.0312 - val_loss: 0.6150\n",
      "Epoch 236/600\n",
      "3/3 [==============================] - 0s 5ms/step - loss: 0.0310 - val_loss: 0.6178\n",
      "Epoch 237/600\n",
      "3/3 [==============================] - 0s 6ms/step - loss: 0.0307 - val_loss: 0.6200\n",
      "Epoch 238/600\n",
      "3/3 [==============================] - 0s 7ms/step - loss: 0.0306 - val_loss: 0.6229\n",
      "Epoch 239/600\n",
      "3/3 [==============================] - 0s 5ms/step - loss: 0.0305 - val_loss: 0.6263\n",
      "Epoch 240/600\n",
      "3/3 [==============================] - 0s 5ms/step - loss: 0.0302 - val_loss: 0.6263\n",
      "Epoch 241/600\n",
      "3/3 [==============================] - 0s 5ms/step - loss: 0.0300 - val_loss: 0.6278\n",
      "Epoch 242/600\n",
      "3/3 [==============================] - 0s 6ms/step - loss: 0.0300 - val_loss: 0.6269\n",
      "Epoch 243/600\n",
      "3/3 [==============================] - 0s 5ms/step - loss: 0.0297 - val_loss: 0.6273\n",
      "Epoch 244/600\n",
      "3/3 [==============================] - 0s 5ms/step - loss: 0.0296 - val_loss: 0.6334\n",
      "Epoch 245/600\n",
      "3/3 [==============================] - 0s 6ms/step - loss: 0.0294 - val_loss: 0.6384\n",
      "Epoch 246/600\n",
      "3/3 [==============================] - 0s 5ms/step - loss: 0.0292 - val_loss: 0.6428\n",
      "Epoch 247/600\n",
      "3/3 [==============================] - 0s 5ms/step - loss: 0.0290 - val_loss: 0.6466\n",
      "Epoch 248/600\n",
      "3/3 [==============================] - 0s 6ms/step - loss: 0.0288 - val_loss: 0.6512\n",
      "Epoch 249/600\n",
      "3/3 [==============================] - 0s 5ms/step - loss: 0.0287 - val_loss: 0.6568\n",
      "Epoch 250/600\n",
      "3/3 [==============================] - 0s 6ms/step - loss: 0.0285 - val_loss: 0.6597\n",
      "Epoch 251/600\n",
      "3/3 [==============================] - 0s 5ms/step - loss: 0.0283 - val_loss: 0.6625\n",
      "Epoch 252/600\n",
      "3/3 [==============================] - 0s 5ms/step - loss: 0.0282 - val_loss: 0.6654\n",
      "Epoch 253/600\n",
      "3/3 [==============================] - 0s 5ms/step - loss: 0.0280 - val_loss: 0.6688\n",
      "Epoch 254/600\n",
      "3/3 [==============================] - 0s 6ms/step - loss: 0.0279 - val_loss: 0.6714\n",
      "Epoch 255/600\n",
      "3/3 [==============================] - 0s 5ms/step - loss: 0.0276 - val_loss: 0.6794\n",
      "Epoch 256/600\n",
      "3/3 [==============================] - 0s 5ms/step - loss: 0.0275 - val_loss: 0.6917\n",
      "Epoch 257/600\n",
      "3/3 [==============================] - 0s 5ms/step - loss: 0.0273 - val_loss: 0.7015\n",
      "Epoch 258/600\n",
      "3/3 [==============================] - 0s 5ms/step - loss: 0.0270 - val_loss: 0.7070\n",
      "Epoch 259/600\n",
      "3/3 [==============================] - 0s 6ms/step - loss: 0.0268 - val_loss: 0.7115\n",
      "Epoch 260/600\n",
      "3/3 [==============================] - 0s 6ms/step - loss: 0.0266 - val_loss: 0.7154\n",
      "Epoch 261/600\n",
      "3/3 [==============================] - 0s 6ms/step - loss: 0.0266 - val_loss: 0.7197\n",
      "Epoch 262/600\n",
      "3/3 [==============================] - 0s 5ms/step - loss: 0.0263 - val_loss: 0.7229\n",
      "Epoch 263/600\n",
      "3/3 [==============================] - 0s 6ms/step - loss: 0.0262 - val_loss: 0.7252\n",
      "Epoch 264/600\n",
      "3/3 [==============================] - 0s 5ms/step - loss: 0.0260 - val_loss: 0.7273\n",
      "Epoch 265/600\n",
      "3/3 [==============================] - 0s 6ms/step - loss: 0.0259 - val_loss: 0.7308\n",
      "Epoch 266/600\n",
      "3/3 [==============================] - 0s 5ms/step - loss: 0.0257 - val_loss: 0.7380\n",
      "Epoch 267/600\n",
      "3/3 [==============================] - 0s 6ms/step - loss: 0.0255 - val_loss: 0.7484\n",
      "Epoch 268/600\n",
      "3/3 [==============================] - 0s 6ms/step - loss: 0.0254 - val_loss: 0.7593\n",
      "Epoch 269/600\n",
      "3/3 [==============================] - 0s 5ms/step - loss: 0.0255 - val_loss: 0.7711\n",
      "Epoch 270/600\n",
      "3/3 [==============================] - 0s 5ms/step - loss: 0.0252 - val_loss: 0.7772\n",
      "Epoch 271/600\n",
      "3/3 [==============================] - 0s 6ms/step - loss: 0.0250 - val_loss: 0.7831\n",
      "Epoch 272/600\n",
      "3/3 [==============================] - 0s 6ms/step - loss: 0.0249 - val_loss: 0.7905\n",
      "Epoch 273/600\n",
      "3/3 [==============================] - 0s 6ms/step - loss: 0.0247 - val_loss: 0.7963\n",
      "Epoch 274/600\n",
      "3/3 [==============================] - 0s 5ms/step - loss: 0.0246 - val_loss: 0.7993\n",
      "Epoch 275/600\n",
      "3/3 [==============================] - 0s 5ms/step - loss: 0.0244 - val_loss: 0.8010\n",
      "Epoch 276/600\n",
      "3/3 [==============================] - 0s 5ms/step - loss: 0.0241 - val_loss: 0.7993\n",
      "Epoch 277/600\n",
      "3/3 [==============================] - 0s 6ms/step - loss: 0.0240 - val_loss: 0.7971\n",
      "Epoch 278/600\n",
      "3/3 [==============================] - 0s 5ms/step - loss: 0.0237 - val_loss: 0.7996\n",
      "Epoch 279/600\n",
      "3/3 [==============================] - 0s 5ms/step - loss: 0.0235 - val_loss: 0.8010\n",
      "Epoch 280/600\n",
      "3/3 [==============================] - 0s 5ms/step - loss: 0.0233 - val_loss: 0.8031\n",
      "Epoch 281/600\n",
      "3/3 [==============================] - 0s 5ms/step - loss: 0.0231 - val_loss: 0.8041\n",
      "Epoch 282/600\n",
      "3/3 [==============================] - 0s 6ms/step - loss: 0.0230 - val_loss: 0.8031\n",
      "Epoch 283/600\n",
      "3/3 [==============================] - 0s 6ms/step - loss: 0.0228 - val_loss: 0.8032\n",
      "Epoch 284/600\n",
      "3/3 [==============================] - 0s 8ms/step - loss: 0.0226 - val_loss: 0.8015\n",
      "Epoch 285/600\n",
      "3/3 [==============================] - 0s 6ms/step - loss: 0.0225 - val_loss: 0.8000\n",
      "Epoch 286/600\n",
      "3/3 [==============================] - 0s 6ms/step - loss: 0.0223 - val_loss: 0.8019\n",
      "Epoch 287/600\n",
      "3/3 [==============================] - 0s 7ms/step - loss: 0.0222 - val_loss: 0.8025\n",
      "Epoch 288/600\n",
      "3/3 [==============================] - 0s 5ms/step - loss: 0.0220 - val_loss: 0.8035\n",
      "Epoch 289/600\n",
      "3/3 [==============================] - 0s 6ms/step - loss: 0.0220 - val_loss: 0.8040\n",
      "Epoch 290/600\n",
      "3/3 [==============================] - 0s 5ms/step - loss: 0.0218 - val_loss: 0.8091\n",
      "Epoch 291/600\n",
      "3/3 [==============================] - 0s 5ms/step - loss: 0.0217 - val_loss: 0.8130\n",
      "Epoch 292/600\n",
      "3/3 [==============================] - 0s 5ms/step - loss: 0.0215 - val_loss: 0.8232\n",
      "Epoch 293/600\n",
      "3/3 [==============================] - 0s 6ms/step - loss: 0.0212 - val_loss: 0.8319\n",
      "Epoch 294/600\n",
      "3/3 [==============================] - 0s 5ms/step - loss: 0.0210 - val_loss: 0.8378\n",
      "Epoch 295/600\n",
      "3/3 [==============================] - 0s 5ms/step - loss: 0.0209 - val_loss: 0.8437\n",
      "Epoch 296/600\n",
      "3/3 [==============================] - 0s 7ms/step - loss: 0.0208 - val_loss: 0.8478\n",
      "Epoch 297/600\n",
      "3/3 [==============================] - 0s 6ms/step - loss: 0.0207 - val_loss: 0.8514\n",
      "Epoch 298/600\n",
      "3/3 [==============================] - 0s 6ms/step - loss: 0.0205 - val_loss: 0.8529\n",
      "Epoch 299/600\n",
      "3/3 [==============================] - 0s 6ms/step - loss: 0.0205 - val_loss: 0.8545\n",
      "Epoch 300/600\n",
      "3/3 [==============================] - 0s 7ms/step - loss: 0.0202 - val_loss: 0.8604\n",
      "Epoch 301/600\n",
      "3/3 [==============================] - 0s 5ms/step - loss: 0.0201 - val_loss: 0.8657\n",
      "Epoch 302/600\n",
      "3/3 [==============================] - 0s 5ms/step - loss: 0.0202 - val_loss: 0.8756\n",
      "Epoch 303/600\n",
      "3/3 [==============================] - 0s 5ms/step - loss: 0.0199 - val_loss: 0.8790\n",
      "Epoch 304/600\n",
      "3/3 [==============================] - 0s 5ms/step - loss: 0.0197 - val_loss: 0.8857\n",
      "Epoch 305/600\n",
      "3/3 [==============================] - 0s 5ms/step - loss: 0.0196 - val_loss: 0.8915\n",
      "Epoch 306/600\n",
      "3/3 [==============================] - 0s 5ms/step - loss: 0.0194 - val_loss: 0.8935\n",
      "Epoch 307/600\n",
      "3/3 [==============================] - 0s 5ms/step - loss: 0.0192 - val_loss: 0.8953\n",
      "Epoch 308/600\n",
      "3/3 [==============================] - 0s 6ms/step - loss: 0.0190 - val_loss: 0.8943\n",
      "Epoch 309/600\n",
      "3/3 [==============================] - 0s 6ms/step - loss: 0.0189 - val_loss: 0.8971\n",
      "Epoch 310/600\n",
      "3/3 [==============================] - 0s 6ms/step - loss: 0.0188 - val_loss: 0.8993\n",
      "Epoch 311/600\n",
      "3/3 [==============================] - 0s 6ms/step - loss: 0.0186 - val_loss: 0.9020\n",
      "Epoch 312/600\n",
      "3/3 [==============================] - 0s 5ms/step - loss: 0.0184 - val_loss: 0.9046\n",
      "Epoch 313/600\n",
      "3/3 [==============================] - 0s 5ms/step - loss: 0.0183 - val_loss: 0.9060\n",
      "Epoch 314/600\n",
      "3/3 [==============================] - 0s 7ms/step - loss: 0.0182 - val_loss: 0.9091\n",
      "Epoch 315/600\n",
      "3/3 [==============================] - 0s 5ms/step - loss: 0.0181 - val_loss: 0.9124\n",
      "Epoch 316/600\n",
      "3/3 [==============================] - 0s 5ms/step - loss: 0.0180 - val_loss: 0.9121\n",
      "Epoch 317/600\n",
      "3/3 [==============================] - 0s 6ms/step - loss: 0.0179 - val_loss: 0.9146\n",
      "Epoch 318/600\n",
      "3/3 [==============================] - 0s 5ms/step - loss: 0.0177 - val_loss: 0.9205\n",
      "Epoch 319/600\n",
      "3/3 [==============================] - 0s 5ms/step - loss: 0.0175 - val_loss: 0.9264\n",
      "Epoch 320/600\n",
      "3/3 [==============================] - 0s 5ms/step - loss: 0.0175 - val_loss: 0.9324\n",
      "Epoch 321/600\n",
      "3/3 [==============================] - 0s 6ms/step - loss: 0.0173 - val_loss: 0.9379\n",
      "Epoch 322/600\n",
      "3/3 [==============================] - 0s 5ms/step - loss: 0.0172 - val_loss: 0.9417\n",
      "Epoch 323/600\n",
      "3/3 [==============================] - 0s 6ms/step - loss: 0.0172 - val_loss: 0.9488\n",
      "Epoch 324/600\n",
      "3/3 [==============================] - 0s 5ms/step - loss: 0.0170 - val_loss: 0.9530\n",
      "Epoch 325/600\n",
      "3/3 [==============================] - 0s 5ms/step - loss: 0.0169 - val_loss: 0.9594\n",
      "Epoch 326/600\n",
      "3/3 [==============================] - 0s 5ms/step - loss: 0.0167 - val_loss: 0.9644\n",
      "Epoch 327/600\n",
      "3/3 [==============================] - 0s 5ms/step - loss: 0.0166 - val_loss: 0.9690\n",
      "Epoch 328/600\n",
      "3/3 [==============================] - 0s 5ms/step - loss: 0.0165 - val_loss: 0.9730\n",
      "Epoch 329/600\n",
      "3/3 [==============================] - 0s 5ms/step - loss: 0.0164 - val_loss: 0.9754\n",
      "Epoch 330/600\n",
      "3/3 [==============================] - 0s 8ms/step - loss: 0.0162 - val_loss: 0.9763\n",
      "Epoch 331/600\n",
      "3/3 [==============================] - 0s 6ms/step - loss: 0.0161 - val_loss: 0.9778\n",
      "Epoch 332/600\n",
      "3/3 [==============================] - 0s 5ms/step - loss: 0.0160 - val_loss: 0.9801\n",
      "Epoch 333/600\n",
      "3/3 [==============================] - 0s 5ms/step - loss: 0.0159 - val_loss: 0.9812\n",
      "Epoch 334/600\n",
      "3/3 [==============================] - 0s 6ms/step - loss: 0.0157 - val_loss: 0.9821\n",
      "Epoch 335/600\n",
      "3/3 [==============================] - 0s 6ms/step - loss: 0.0157 - val_loss: 0.9830\n",
      "Epoch 336/600\n",
      "3/3 [==============================] - 0s 5ms/step - loss: 0.0155 - val_loss: 0.9890\n",
      "Epoch 337/600\n",
      "3/3 [==============================] - 0s 6ms/step - loss: 0.0154 - val_loss: 0.9934\n",
      "Epoch 338/600\n",
      "3/3 [==============================] - 0s 5ms/step - loss: 0.0154 - val_loss: 1.0006\n",
      "Epoch 339/600\n",
      "3/3 [==============================] - 0s 5ms/step - loss: 0.0152 - val_loss: 1.0050\n",
      "Epoch 340/600\n",
      "3/3 [==============================] - 0s 6ms/step - loss: 0.0151 - val_loss: 1.0086\n",
      "Epoch 341/600\n",
      "3/3 [==============================] - 0s 6ms/step - loss: 0.0150 - val_loss: 1.0154\n",
      "Epoch 342/600\n",
      "3/3 [==============================] - 0s 6ms/step - loss: 0.0149 - val_loss: 1.0198\n",
      "Epoch 343/600\n",
      "3/3 [==============================] - 0s 5ms/step - loss: 0.0148 - val_loss: 1.0230\n",
      "Epoch 344/600\n",
      "3/3 [==============================] - 0s 5ms/step - loss: 0.0147 - val_loss: 1.0234\n",
      "Epoch 345/600\n",
      "3/3 [==============================] - 0s 7ms/step - loss: 0.0146 - val_loss: 1.0241\n",
      "Epoch 346/600\n",
      "3/3 [==============================] - 0s 5ms/step - loss: 0.0145 - val_loss: 1.0211\n",
      "Epoch 347/600\n",
      "3/3 [==============================] - 0s 6ms/step - loss: 0.0144 - val_loss: 1.0210\n",
      "Epoch 348/600\n",
      "3/3 [==============================] - 0s 5ms/step - loss: 0.0144 - val_loss: 1.0218\n",
      "Epoch 349/600\n",
      "3/3 [==============================] - 0s 5ms/step - loss: 0.0142 - val_loss: 1.0279\n",
      "Epoch 350/600\n",
      "3/3 [==============================] - 0s 5ms/step - loss: 0.0140 - val_loss: 1.0379\n",
      "Epoch 351/600\n",
      "3/3 [==============================] - 0s 5ms/step - loss: 0.0141 - val_loss: 1.0494\n",
      "Epoch 352/600\n",
      "3/3 [==============================] - 0s 5ms/step - loss: 0.0138 - val_loss: 1.0551\n",
      "Epoch 353/600\n",
      "3/3 [==============================] - 0s 6ms/step - loss: 0.0137 - val_loss: 1.0585\n",
      "Epoch 354/600\n",
      "3/3 [==============================] - 0s 5ms/step - loss: 0.0136 - val_loss: 1.0642\n",
      "Epoch 355/600\n",
      "3/3 [==============================] - 0s 5ms/step - loss: 0.0135 - val_loss: 1.0726\n",
      "Epoch 356/600\n",
      "3/3 [==============================] - 0s 6ms/step - loss: 0.0134 - val_loss: 1.0782\n",
      "Epoch 357/600\n",
      "3/3 [==============================] - 0s 5ms/step - loss: 0.0133 - val_loss: 1.0838\n",
      "Epoch 358/600\n",
      "3/3 [==============================] - 0s 6ms/step - loss: 0.0132 - val_loss: 1.0866\n",
      "Epoch 359/600\n",
      "3/3 [==============================] - 0s 7ms/step - loss: 0.0131 - val_loss: 1.0883\n",
      "Epoch 360/600\n",
      "3/3 [==============================] - 0s 6ms/step - loss: 0.0129 - val_loss: 1.0904\n",
      "Epoch 361/600\n",
      "3/3 [==============================] - 0s 5ms/step - loss: 0.0129 - val_loss: 1.0915\n",
      "Epoch 362/600\n",
      "3/3 [==============================] - 0s 6ms/step - loss: 0.0128 - val_loss: 1.0927\n",
      "Epoch 363/600\n",
      "3/3 [==============================] - 0s 6ms/step - loss: 0.0127 - val_loss: 1.0936\n",
      "Epoch 364/600\n",
      "3/3 [==============================] - 0s 6ms/step - loss: 0.0127 - val_loss: 1.0920\n",
      "Epoch 365/600\n",
      "3/3 [==============================] - 0s 6ms/step - loss: 0.0124 - val_loss: 1.0952\n",
      "Epoch 366/600\n",
      "3/3 [==============================] - 0s 6ms/step - loss: 0.0124 - val_loss: 1.0967\n",
      "Epoch 367/600\n",
      "3/3 [==============================] - 0s 5ms/step - loss: 0.0122 - val_loss: 1.0985\n",
      "Epoch 368/600\n",
      "3/3 [==============================] - 0s 5ms/step - loss: 0.0122 - val_loss: 1.1001\n",
      "Epoch 369/600\n",
      "3/3 [==============================] - 0s 5ms/step - loss: 0.0121 - val_loss: 1.1040\n",
      "Epoch 370/600\n",
      "3/3 [==============================] - 0s 5ms/step - loss: 0.0120 - val_loss: 1.1084\n",
      "Epoch 371/600\n",
      "3/3 [==============================] - 0s 5ms/step - loss: 0.0119 - val_loss: 1.1121\n",
      "Epoch 372/600\n",
      "3/3 [==============================] - 0s 6ms/step - loss: 0.0118 - val_loss: 1.1145\n",
      "Epoch 373/600\n",
      "3/3 [==============================] - 0s 6ms/step - loss: 0.0117 - val_loss: 1.1174\n",
      "Epoch 374/600\n",
      "3/3 [==============================] - 0s 6ms/step - loss: 0.0116 - val_loss: 1.1194\n",
      "Epoch 375/600\n",
      "3/3 [==============================] - 0s 7ms/step - loss: 0.0115 - val_loss: 1.1205\n",
      "Epoch 376/600\n",
      "3/3 [==============================] - 0s 6ms/step - loss: 0.0115 - val_loss: 1.1218\n",
      "Epoch 377/600\n",
      "3/3 [==============================] - 0s 5ms/step - loss: 0.0114 - val_loss: 1.1280\n",
      "Epoch 378/600\n",
      "3/3 [==============================] - 0s 5ms/step - loss: 0.0113 - val_loss: 1.1338\n",
      "Epoch 379/600\n",
      "3/3 [==============================] - 0s 6ms/step - loss: 0.0112 - val_loss: 1.1377\n",
      "Epoch 380/600\n",
      "3/3 [==============================] - 0s 6ms/step - loss: 0.0111 - val_loss: 1.1427\n",
      "Epoch 381/600\n",
      "3/3 [==============================] - 0s 6ms/step - loss: 0.0110 - val_loss: 1.1476\n",
      "Epoch 382/600\n",
      "3/3 [==============================] - 0s 5ms/step - loss: 0.0110 - val_loss: 1.1510\n",
      "Epoch 383/600\n",
      "3/3 [==============================] - 0s 6ms/step - loss: 0.0109 - val_loss: 1.1542\n",
      "Epoch 384/600\n",
      "3/3 [==============================] - 0s 6ms/step - loss: 0.0108 - val_loss: 1.1572\n",
      "Epoch 385/600\n",
      "3/3 [==============================] - 0s 6ms/step - loss: 0.0107 - val_loss: 1.1592\n",
      "Epoch 386/600\n",
      "3/3 [==============================] - 0s 6ms/step - loss: 0.0106 - val_loss: 1.1616\n",
      "Epoch 387/600\n",
      "3/3 [==============================] - 0s 6ms/step - loss: 0.0105 - val_loss: 1.1637\n",
      "Epoch 388/600\n",
      "3/3 [==============================] - 0s 6ms/step - loss: 0.0105 - val_loss: 1.1665\n",
      "Epoch 389/600\n",
      "3/3 [==============================] - 0s 8ms/step - loss: 0.0104 - val_loss: 1.1688\n",
      "Epoch 390/600\n",
      "3/3 [==============================] - 0s 6ms/step - loss: 0.0103 - val_loss: 1.1692\n",
      "Epoch 391/600\n",
      "3/3 [==============================] - 0s 5ms/step - loss: 0.0102 - val_loss: 1.1689\n",
      "Epoch 392/600\n",
      "3/3 [==============================] - 0s 5ms/step - loss: 0.0101 - val_loss: 1.1691\n",
      "Epoch 393/600\n",
      "3/3 [==============================] - 0s 6ms/step - loss: 0.0101 - val_loss: 1.1681\n",
      "Epoch 394/600\n",
      "3/3 [==============================] - 0s 7ms/step - loss: 0.0100 - val_loss: 1.1687\n",
      "Epoch 395/600\n",
      "3/3 [==============================] - 0s 5ms/step - loss: 0.0099 - val_loss: 1.1713\n",
      "Epoch 396/600\n",
      "3/3 [==============================] - 0s 6ms/step - loss: 0.0099 - val_loss: 1.1736\n",
      "Epoch 397/600\n",
      "3/3 [==============================] - 0s 6ms/step - loss: 0.0098 - val_loss: 1.1777\n",
      "Epoch 398/600\n",
      "3/3 [==============================] - 0s 6ms/step - loss: 0.0097 - val_loss: 1.1818\n",
      "Epoch 399/600\n",
      "3/3 [==============================] - 0s 6ms/step - loss: 0.0096 - val_loss: 1.1847\n",
      "Epoch 400/600\n",
      "3/3 [==============================] - 0s 6ms/step - loss: 0.0096 - val_loss: 1.1885\n",
      "Epoch 401/600\n",
      "3/3 [==============================] - 0s 5ms/step - loss: 0.0095 - val_loss: 1.1922\n",
      "Epoch 402/600\n",
      "3/3 [==============================] - 0s 5ms/step - loss: 0.0095 - val_loss: 1.1961\n",
      "Epoch 403/600\n",
      "3/3 [==============================] - 0s 6ms/step - loss: 0.0094 - val_loss: 1.1974\n",
      "Epoch 404/600\n",
      "3/3 [==============================] - 0s 7ms/step - loss: 0.0093 - val_loss: 1.1996\n",
      "Epoch 405/600\n",
      "3/3 [==============================] - 0s 5ms/step - loss: 0.0092 - val_loss: 1.2032\n",
      "Epoch 406/600\n",
      "3/3 [==============================] - 0s 5ms/step - loss: 0.0092 - val_loss: 1.2052\n",
      "Epoch 407/600\n",
      "3/3 [==============================] - 0s 6ms/step - loss: 0.0091 - val_loss: 1.2113\n",
      "Epoch 408/600\n",
      "3/3 [==============================] - 0s 5ms/step - loss: 0.0090 - val_loss: 1.2160\n",
      "Epoch 409/600\n",
      "3/3 [==============================] - 0s 6ms/step - loss: 0.0089 - val_loss: 1.2227\n",
      "Epoch 410/600\n",
      "3/3 [==============================] - 0s 5ms/step - loss: 0.0089 - val_loss: 1.2289\n",
      "Epoch 411/600\n",
      "3/3 [==============================] - 0s 6ms/step - loss: 0.0088 - val_loss: 1.2326\n",
      "Epoch 412/600\n",
      "3/3 [==============================] - 0s 6ms/step - loss: 0.0088 - val_loss: 1.2377\n",
      "Epoch 413/600\n",
      "3/3 [==============================] - 0s 5ms/step - loss: 0.0087 - val_loss: 1.2410\n",
      "Epoch 414/600\n",
      "3/3 [==============================] - 0s 6ms/step - loss: 0.0086 - val_loss: 1.2430\n",
      "Epoch 415/600\n",
      "3/3 [==============================] - 0s 6ms/step - loss: 0.0085 - val_loss: 1.2473\n",
      "Epoch 416/600\n",
      "3/3 [==============================] - 0s 6ms/step - loss: 0.0085 - val_loss: 1.2534\n",
      "Epoch 417/600\n",
      "3/3 [==============================] - 0s 5ms/step - loss: 0.0084 - val_loss: 1.2576\n",
      "Epoch 418/600\n",
      "3/3 [==============================] - 0s 6ms/step - loss: 0.0084 - val_loss: 1.2596\n",
      "Epoch 419/600\n",
      "3/3 [==============================] - 0s 6ms/step - loss: 0.0083 - val_loss: 1.2600\n",
      "Epoch 420/600\n",
      "3/3 [==============================] - 0s 7ms/step - loss: 0.0082 - val_loss: 1.2607\n",
      "Epoch 421/600\n",
      "3/3 [==============================] - 0s 5ms/step - loss: 0.0082 - val_loss: 1.2609\n",
      "Epoch 422/600\n",
      "3/3 [==============================] - 0s 5ms/step - loss: 0.0082 - val_loss: 1.2605\n",
      "Epoch 423/600\n",
      "3/3 [==============================] - 0s 6ms/step - loss: 0.0081 - val_loss: 1.2644\n",
      "Epoch 424/600\n",
      "3/3 [==============================] - 0s 5ms/step - loss: 0.0080 - val_loss: 1.2676\n",
      "Epoch 425/600\n",
      "3/3 [==============================] - 0s 6ms/step - loss: 0.0079 - val_loss: 1.2710\n",
      "Epoch 426/600\n",
      "3/3 [==============================] - 0s 5ms/step - loss: 0.0079 - val_loss: 1.2759\n",
      "Epoch 427/600\n",
      "3/3 [==============================] - 0s 6ms/step - loss: 0.0078 - val_loss: 1.2794\n",
      "Epoch 428/600\n",
      "3/3 [==============================] - 0s 5ms/step - loss: 0.0078 - val_loss: 1.2826\n",
      "Epoch 429/600\n",
      "3/3 [==============================] - 0s 6ms/step - loss: 0.0077 - val_loss: 1.2850\n",
      "Epoch 430/600\n",
      "3/3 [==============================] - 0s 5ms/step - loss: 0.0077 - val_loss: 1.2848\n",
      "Epoch 431/600\n",
      "3/3 [==============================] - 0s 6ms/step - loss: 0.0076 - val_loss: 1.2885\n",
      "Epoch 432/600\n",
      "3/3 [==============================] - 0s 6ms/step - loss: 0.0075 - val_loss: 1.2916\n",
      "Epoch 433/600\n",
      "3/3 [==============================] - 0s 5ms/step - loss: 0.0074 - val_loss: 1.2944\n",
      "Epoch 434/600\n",
      "3/3 [==============================] - 0s 5ms/step - loss: 0.0074 - val_loss: 1.3004\n",
      "Epoch 435/600\n",
      "3/3 [==============================] - 0s 5ms/step - loss: 0.0074 - val_loss: 1.3048\n",
      "Epoch 436/600\n",
      "3/3 [==============================] - 0s 6ms/step - loss: 0.0073 - val_loss: 1.3107\n",
      "Epoch 437/600\n",
      "3/3 [==============================] - 0s 6ms/step - loss: 0.0073 - val_loss: 1.3140\n",
      "Epoch 438/600\n",
      "3/3 [==============================] - 0s 6ms/step - loss: 0.0072 - val_loss: 1.3164\n",
      "Epoch 439/600\n",
      "3/3 [==============================] - 0s 6ms/step - loss: 0.0071 - val_loss: 1.3202\n",
      "Epoch 440/600\n",
      "3/3 [==============================] - 0s 5ms/step - loss: 0.0071 - val_loss: 1.3248\n",
      "Epoch 441/600\n",
      "3/3 [==============================] - 0s 5ms/step - loss: 0.0070 - val_loss: 1.3310\n",
      "Epoch 442/600\n",
      "3/3 [==============================] - 0s 6ms/step - loss: 0.0070 - val_loss: 1.3349\n",
      "Epoch 443/600\n",
      "3/3 [==============================] - 0s 6ms/step - loss: 0.0069 - val_loss: 1.3374\n",
      "Epoch 444/600\n",
      "3/3 [==============================] - 0s 5ms/step - loss: 0.0069 - val_loss: 1.3381\n",
      "Epoch 445/600\n",
      "3/3 [==============================] - 0s 5ms/step - loss: 0.0068 - val_loss: 1.3397\n",
      "Epoch 446/600\n",
      "3/3 [==============================] - 0s 5ms/step - loss: 0.0068 - val_loss: 1.3402\n",
      "Epoch 447/600\n",
      "3/3 [==============================] - 0s 5ms/step - loss: 0.0067 - val_loss: 1.3403\n",
      "Epoch 448/600\n",
      "3/3 [==============================] - 0s 5ms/step - loss: 0.0067 - val_loss: 1.3418\n",
      "Epoch 449/600\n",
      "3/3 [==============================] - 0s 6ms/step - loss: 0.0066 - val_loss: 1.3431\n",
      "Epoch 450/600\n",
      "3/3 [==============================] - 0s 6ms/step - loss: 0.0066 - val_loss: 1.3429\n",
      "Epoch 451/600\n",
      "3/3 [==============================] - 0s 5ms/step - loss: 0.0065 - val_loss: 1.3459\n",
      "Epoch 452/600\n",
      "3/3 [==============================] - 0s 5ms/step - loss: 0.0065 - val_loss: 1.3487\n",
      "Epoch 453/600\n",
      "3/3 [==============================] - 0s 5ms/step - loss: 0.0064 - val_loss: 1.3528\n",
      "Epoch 454/600\n",
      "3/3 [==============================] - 0s 6ms/step - loss: 0.0064 - val_loss: 1.3597\n",
      "Epoch 455/600\n",
      "3/3 [==============================] - 0s 6ms/step - loss: 0.0063 - val_loss: 1.3636\n",
      "Epoch 456/600\n",
      "3/3 [==============================] - 0s 6ms/step - loss: 0.0063 - val_loss: 1.3681\n",
      "Epoch 457/600\n",
      "3/3 [==============================] - 0s 5ms/step - loss: 0.0063 - val_loss: 1.3742\n",
      "Epoch 458/600\n",
      "3/3 [==============================] - 0s 6ms/step - loss: 0.0062 - val_loss: 1.3782\n",
      "Epoch 459/600\n",
      "3/3 [==============================] - 0s 6ms/step - loss: 0.0062 - val_loss: 1.3815\n",
      "Epoch 460/600\n",
      "3/3 [==============================] - 0s 5ms/step - loss: 0.0061 - val_loss: 1.3823\n",
      "Epoch 461/600\n",
      "3/3 [==============================] - 0s 6ms/step - loss: 0.0061 - val_loss: 1.3815\n",
      "Epoch 462/600\n",
      "3/3 [==============================] - 0s 6ms/step - loss: 0.0060 - val_loss: 1.3816\n",
      "Epoch 463/600\n",
      "3/3 [==============================] - 0s 6ms/step - loss: 0.0060 - val_loss: 1.3812\n",
      "Epoch 464/600\n",
      "3/3 [==============================] - 0s 5ms/step - loss: 0.0059 - val_loss: 1.3833\n",
      "Epoch 465/600\n",
      "3/3 [==============================] - 0s 5ms/step - loss: 0.0059 - val_loss: 1.3847\n",
      "Epoch 466/600\n",
      "3/3 [==============================] - 0s 6ms/step - loss: 0.0058 - val_loss: 1.3859\n",
      "Epoch 467/600\n",
      "3/3 [==============================] - 0s 6ms/step - loss: 0.0058 - val_loss: 1.3870\n",
      "Epoch 468/600\n",
      "3/3 [==============================] - 0s 5ms/step - loss: 0.0058 - val_loss: 1.3901\n",
      "Epoch 469/600\n",
      "3/3 [==============================] - 0s 5ms/step - loss: 0.0057 - val_loss: 1.3938\n",
      "Epoch 470/600\n",
      "3/3 [==============================] - 0s 5ms/step - loss: 0.0057 - val_loss: 1.3950\n",
      "Epoch 471/600\n",
      "3/3 [==============================] - 0s 5ms/step - loss: 0.0056 - val_loss: 1.3971\n",
      "Epoch 472/600\n",
      "3/3 [==============================] - 0s 6ms/step - loss: 0.0056 - val_loss: 1.3988\n",
      "Epoch 473/600\n",
      "3/3 [==============================] - 0s 7ms/step - loss: 0.0056 - val_loss: 1.4028\n",
      "Epoch 474/600\n",
      "3/3 [==============================] - 0s 5ms/step - loss: 0.0055 - val_loss: 1.4059\n",
      "Epoch 475/600\n",
      "3/3 [==============================] - 0s 6ms/step - loss: 0.0055 - val_loss: 1.4082\n",
      "Epoch 476/600\n",
      "3/3 [==============================] - 0s 6ms/step - loss: 0.0055 - val_loss: 1.4108\n",
      "Epoch 477/600\n",
      "3/3 [==============================] - 0s 5ms/step - loss: 0.0054 - val_loss: 1.4133\n",
      "Epoch 478/600\n",
      "3/3 [==============================] - 0s 6ms/step - loss: 0.0054 - val_loss: 1.4131\n",
      "Epoch 479/600\n",
      "3/3 [==============================] - 0s 6ms/step - loss: 0.0054 - val_loss: 1.4148\n",
      "Epoch 480/600\n",
      "3/3 [==============================] - 0s 5ms/step - loss: 0.0053 - val_loss: 1.4168\n",
      "Epoch 481/600\n",
      "3/3 [==============================] - 0s 6ms/step - loss: 0.0053 - val_loss: 1.4182\n",
      "Epoch 482/600\n",
      "3/3 [==============================] - 0s 5ms/step - loss: 0.0052 - val_loss: 1.4190\n",
      "Epoch 483/600\n",
      "3/3 [==============================] - 0s 6ms/step - loss: 0.0052 - val_loss: 1.4200\n",
      "Epoch 484/600\n",
      "3/3 [==============================] - 0s 6ms/step - loss: 0.0052 - val_loss: 1.4229\n",
      "Epoch 485/600\n",
      "3/3 [==============================] - 0s 6ms/step - loss: 0.0051 - val_loss: 1.4256\n",
      "Epoch 486/600\n",
      "3/3 [==============================] - 0s 6ms/step - loss: 0.0051 - val_loss: 1.4264\n",
      "Epoch 487/600\n",
      "3/3 [==============================] - 0s 6ms/step - loss: 0.0051 - val_loss: 1.4303\n",
      "Epoch 488/600\n",
      "3/3 [==============================] - 0s 6ms/step - loss: 0.0050 - val_loss: 1.4336\n",
      "Epoch 489/600\n",
      "3/3 [==============================] - 0s 5ms/step - loss: 0.0050 - val_loss: 1.4361\n",
      "Epoch 490/600\n",
      "3/3 [==============================] - 0s 5ms/step - loss: 0.0050 - val_loss: 1.4398\n",
      "Epoch 491/600\n",
      "3/3 [==============================] - 0s 5ms/step - loss: 0.0049 - val_loss: 1.4438\n",
      "Epoch 492/600\n",
      "3/3 [==============================] - 0s 5ms/step - loss: 0.0049 - val_loss: 1.4456\n",
      "Epoch 493/600\n",
      "3/3 [==============================] - 0s 6ms/step - loss: 0.0049 - val_loss: 1.4471\n",
      "Epoch 494/600\n",
      "3/3 [==============================] - 0s 6ms/step - loss: 0.0048 - val_loss: 1.4492\n",
      "Epoch 495/600\n",
      "3/3 [==============================] - 0s 7ms/step - loss: 0.0048 - val_loss: 1.4505\n",
      "Epoch 496/600\n",
      "3/3 [==============================] - 0s 6ms/step - loss: 0.0048 - val_loss: 1.4524\n",
      "Epoch 497/600\n",
      "3/3 [==============================] - 0s 6ms/step - loss: 0.0047 - val_loss: 1.4560\n",
      "Epoch 498/600\n",
      "3/3 [==============================] - 0s 6ms/step - loss: 0.0047 - val_loss: 1.4607\n",
      "Epoch 499/600\n",
      "3/3 [==============================] - 0s 6ms/step - loss: 0.0047 - val_loss: 1.4663\n",
      "Epoch 500/600\n",
      "3/3 [==============================] - 0s 5ms/step - loss: 0.0046 - val_loss: 1.4697\n",
      "Epoch 501/600\n",
      "3/3 [==============================] - 0s 5ms/step - loss: 0.0046 - val_loss: 1.4760\n",
      "Epoch 502/600\n",
      "3/3 [==============================] - 0s 5ms/step - loss: 0.0046 - val_loss: 1.4800\n",
      "Epoch 503/600\n",
      "3/3 [==============================] - 0s 5ms/step - loss: 0.0045 - val_loss: 1.4821\n",
      "Epoch 504/600\n",
      "3/3 [==============================] - 0s 5ms/step - loss: 0.0045 - val_loss: 1.4842\n",
      "Epoch 505/600\n",
      "3/3 [==============================] - 0s 5ms/step - loss: 0.0045 - val_loss: 1.4856\n",
      "Epoch 506/600\n",
      "3/3 [==============================] - 0s 5ms/step - loss: 0.0044 - val_loss: 1.4896\n",
      "Epoch 507/600\n",
      "3/3 [==============================] - 0s 6ms/step - loss: 0.0044 - val_loss: 1.4911\n",
      "Epoch 508/600\n",
      "3/3 [==============================] - 0s 6ms/step - loss: 0.0044 - val_loss: 1.4930\n",
      "Epoch 509/600\n",
      "3/3 [==============================] - 0s 5ms/step - loss: 0.0043 - val_loss: 1.4948\n",
      "Epoch 510/600\n",
      "3/3 [==============================] - 0s 5ms/step - loss: 0.0043 - val_loss: 1.4965\n",
      "Epoch 511/600\n",
      "3/3 [==============================] - 0s 6ms/step - loss: 0.0043 - val_loss: 1.4970\n",
      "Epoch 512/600\n",
      "3/3 [==============================] - 0s 6ms/step - loss: 0.0043 - val_loss: 1.4982\n",
      "Epoch 513/600\n",
      "3/3 [==============================] - 0s 5ms/step - loss: 0.0042 - val_loss: 1.5012\n",
      "Epoch 514/600\n",
      "3/3 [==============================] - 0s 5ms/step - loss: 0.0042 - val_loss: 1.5034\n",
      "Epoch 515/600\n",
      "3/3 [==============================] - 0s 6ms/step - loss: 0.0042 - val_loss: 1.5076\n",
      "Epoch 516/600\n",
      "3/3 [==============================] - 0s 6ms/step - loss: 0.0042 - val_loss: 1.5104\n",
      "Epoch 517/600\n",
      "3/3 [==============================] - 0s 5ms/step - loss: 0.0041 - val_loss: 1.5123\n",
      "Epoch 518/600\n",
      "3/3 [==============================] - 0s 5ms/step - loss: 0.0041 - val_loss: 1.5142\n",
      "Epoch 519/600\n",
      "3/3 [==============================] - 0s 5ms/step - loss: 0.0041 - val_loss: 1.5149\n",
      "Epoch 520/600\n",
      "3/3 [==============================] - 0s 5ms/step - loss: 0.0040 - val_loss: 1.5158\n",
      "Epoch 521/600\n",
      "3/3 [==============================] - 0s 5ms/step - loss: 0.0040 - val_loss: 1.5168\n",
      "Epoch 522/600\n",
      "3/3 [==============================] - 0s 5ms/step - loss: 0.0040 - val_loss: 1.5195\n",
      "Epoch 523/600\n",
      "3/3 [==============================] - 0s 5ms/step - loss: 0.0040 - val_loss: 1.5218\n",
      "Epoch 524/600\n",
      "3/3 [==============================] - 0s 5ms/step - loss: 0.0039 - val_loss: 1.5226\n",
      "Epoch 525/600\n",
      "3/3 [==============================] - 0s 5ms/step - loss: 0.0039 - val_loss: 1.5237\n",
      "Epoch 526/600\n",
      "3/3 [==============================] - 0s 6ms/step - loss: 0.0039 - val_loss: 1.5274\n",
      "Epoch 527/600\n",
      "3/3 [==============================] - 0s 5ms/step - loss: 0.0039 - val_loss: 1.5326\n",
      "Epoch 528/600\n",
      "3/3 [==============================] - 0s 5ms/step - loss: 0.0038 - val_loss: 1.5368\n",
      "Epoch 529/600\n",
      "3/3 [==============================] - 0s 6ms/step - loss: 0.0038 - val_loss: 1.5425\n",
      "Epoch 530/600\n",
      "3/3 [==============================] - 0s 6ms/step - loss: 0.0038 - val_loss: 1.5452\n",
      "Epoch 531/600\n",
      "3/3 [==============================] - 0s 6ms/step - loss: 0.0038 - val_loss: 1.5464\n",
      "Epoch 532/600\n",
      "3/3 [==============================] - 0s 5ms/step - loss: 0.0037 - val_loss: 1.5478\n",
      "Epoch 533/600\n",
      "3/3 [==============================] - 0s 6ms/step - loss: 0.0037 - val_loss: 1.5488\n",
      "Epoch 534/600\n",
      "3/3 [==============================] - 0s 6ms/step - loss: 0.0037 - val_loss: 1.5514\n",
      "Epoch 535/600\n",
      "3/3 [==============================] - 0s 6ms/step - loss: 0.0037 - val_loss: 1.5527\n",
      "Epoch 536/600\n",
      "3/3 [==============================] - 0s 6ms/step - loss: 0.0037 - val_loss: 1.5571\n",
      "Epoch 537/600\n",
      "3/3 [==============================] - 0s 6ms/step - loss: 0.0036 - val_loss: 1.5598\n",
      "Epoch 538/600\n",
      "3/3 [==============================] - 0s 6ms/step - loss: 0.0036 - val_loss: 1.5612\n",
      "Epoch 539/600\n",
      "3/3 [==============================] - 0s 6ms/step - loss: 0.0036 - val_loss: 1.5624\n",
      "Epoch 540/600\n",
      "3/3 [==============================] - 0s 6ms/step - loss: 0.0036 - val_loss: 1.5631\n",
      "Epoch 541/600\n",
      "3/3 [==============================] - 0s 7ms/step - loss: 0.0035 - val_loss: 1.5657\n",
      "Epoch 542/600\n",
      "3/3 [==============================] - 0s 6ms/step - loss: 0.0035 - val_loss: 1.5687\n",
      "Epoch 543/600\n",
      "3/3 [==============================] - 0s 6ms/step - loss: 0.0035 - val_loss: 1.5711\n",
      "Epoch 544/600\n",
      "3/3 [==============================] - 0s 6ms/step - loss: 0.0035 - val_loss: 1.5736\n",
      "Epoch 545/600\n",
      "3/3 [==============================] - 0s 5ms/step - loss: 0.0034 - val_loss: 1.5741\n",
      "Epoch 546/600\n",
      "3/3 [==============================] - 0s 5ms/step - loss: 0.0034 - val_loss: 1.5768\n",
      "Epoch 547/600\n",
      "3/3 [==============================] - 0s 6ms/step - loss: 0.0034 - val_loss: 1.5791\n",
      "Epoch 548/600\n",
      "3/3 [==============================] - 0s 5ms/step - loss: 0.0034 - val_loss: 1.5807\n",
      "Epoch 549/600\n",
      "3/3 [==============================] - 0s 5ms/step - loss: 0.0033 - val_loss: 1.5838\n",
      "Epoch 550/600\n",
      "3/3 [==============================] - 0s 6ms/step - loss: 0.0033 - val_loss: 1.5863\n",
      "Epoch 551/600\n",
      "3/3 [==============================] - 0s 6ms/step - loss: 0.0033 - val_loss: 1.5876\n",
      "Epoch 552/600\n",
      "3/3 [==============================] - 0s 5ms/step - loss: 0.0033 - val_loss: 1.5889\n",
      "Epoch 553/600\n",
      "3/3 [==============================] - 0s 5ms/step - loss: 0.0033 - val_loss: 1.5897\n",
      "Epoch 554/600\n",
      "3/3 [==============================] - 0s 5ms/step - loss: 0.0033 - val_loss: 1.5917\n",
      "Epoch 555/600\n",
      "3/3 [==============================] - 0s 5ms/step - loss: 0.0032 - val_loss: 1.5933\n",
      "Epoch 556/600\n",
      "3/3 [==============================] - 0s 5ms/step - loss: 0.0032 - val_loss: 1.5952\n",
      "Epoch 557/600\n",
      "3/3 [==============================] - 0s 5ms/step - loss: 0.0032 - val_loss: 1.5967\n",
      "Epoch 558/600\n",
      "3/3 [==============================] - 0s 6ms/step - loss: 0.0032 - val_loss: 1.5972\n",
      "Epoch 559/600\n",
      "3/3 [==============================] - 0s 7ms/step - loss: 0.0032 - val_loss: 1.5977\n",
      "Epoch 560/600\n",
      "3/3 [==============================] - 0s 6ms/step - loss: 0.0032 - val_loss: 1.5984\n",
      "Epoch 561/600\n",
      "3/3 [==============================] - 0s 7ms/step - loss: 0.0031 - val_loss: 1.6019\n",
      "Epoch 562/600\n",
      "3/3 [==============================] - 0s 6ms/step - loss: 0.0031 - val_loss: 1.6052\n",
      "Epoch 563/600\n",
      "3/3 [==============================] - 0s 5ms/step - loss: 0.0031 - val_loss: 1.6079\n",
      "Epoch 564/600\n",
      "3/3 [==============================] - 0s 5ms/step - loss: 0.0031 - val_loss: 1.6090\n",
      "Epoch 565/600\n",
      "3/3 [==============================] - 0s 5ms/step - loss: 0.0030 - val_loss: 1.6095\n",
      "Epoch 566/600\n",
      "3/3 [==============================] - 0s 5ms/step - loss: 0.0030 - val_loss: 1.6098\n",
      "Epoch 567/600\n",
      "3/3 [==============================] - 0s 5ms/step - loss: 0.0030 - val_loss: 1.6127\n",
      "Epoch 568/600\n",
      "3/3 [==============================] - 0s 5ms/step - loss: 0.0030 - val_loss: 1.6167\n",
      "Epoch 569/600\n",
      "3/3 [==============================] - 0s 5ms/step - loss: 0.0030 - val_loss: 1.6202\n",
      "Epoch 570/600\n",
      "3/3 [==============================] - 0s 6ms/step - loss: 0.0030 - val_loss: 1.6233\n",
      "Epoch 571/600\n",
      "3/3 [==============================] - 0s 6ms/step - loss: 0.0029 - val_loss: 1.6249\n",
      "Epoch 572/600\n",
      "3/3 [==============================] - 0s 5ms/step - loss: 0.0029 - val_loss: 1.6278\n",
      "Epoch 573/600\n",
      "3/3 [==============================] - 0s 5ms/step - loss: 0.0029 - val_loss: 1.6308\n",
      "Epoch 574/600\n",
      "3/3 [==============================] - 0s 6ms/step - loss: 0.0029 - val_loss: 1.6328\n",
      "Epoch 575/600\n",
      "3/3 [==============================] - 0s 5ms/step - loss: 0.0029 - val_loss: 1.6348\n",
      "Epoch 576/600\n",
      "3/3 [==============================] - 0s 5ms/step - loss: 0.0029 - val_loss: 1.6368\n",
      "Epoch 577/600\n",
      "3/3 [==============================] - 0s 5ms/step - loss: 0.0028 - val_loss: 1.6382\n",
      "Epoch 578/600\n",
      "3/3 [==============================] - 0s 6ms/step - loss: 0.0028 - val_loss: 1.6394\n",
      "Epoch 579/600\n",
      "3/3 [==============================] - 0s 6ms/step - loss: 0.0028 - val_loss: 1.6403\n",
      "Epoch 580/600\n",
      "3/3 [==============================] - 0s 5ms/step - loss: 0.0028 - val_loss: 1.6416\n",
      "Epoch 581/600\n",
      "3/3 [==============================] - 0s 6ms/step - loss: 0.0028 - val_loss: 1.6420\n",
      "Epoch 582/600\n",
      "3/3 [==============================] - 0s 5ms/step - loss: 0.0028 - val_loss: 1.6455\n",
      "Epoch 583/600\n",
      "3/3 [==============================] - 0s 5ms/step - loss: 0.0027 - val_loss: 1.6480\n",
      "Epoch 584/600\n",
      "3/3 [==============================] - 0s 6ms/step - loss: 0.0027 - val_loss: 1.6511\n",
      "Epoch 585/600\n",
      "3/3 [==============================] - 0s 6ms/step - loss: 0.0027 - val_loss: 1.6554\n",
      "Epoch 586/600\n",
      "3/3 [==============================] - 0s 5ms/step - loss: 0.0027 - val_loss: 1.6599\n",
      "Epoch 587/600\n",
      "3/3 [==============================] - 0s 7ms/step - loss: 0.0027 - val_loss: 1.6649\n",
      "Epoch 588/600\n",
      "3/3 [==============================] - 0s 6ms/step - loss: 0.0027 - val_loss: 1.6686\n",
      "Epoch 589/600\n",
      "3/3 [==============================] - 0s 6ms/step - loss: 0.0027 - val_loss: 1.6717\n",
      "Epoch 590/600\n",
      "3/3 [==============================] - 0s 5ms/step - loss: 0.0026 - val_loss: 1.6735\n",
      "Epoch 591/600\n",
      "3/3 [==============================] - 0s 5ms/step - loss: 0.0026 - val_loss: 1.6759\n",
      "Epoch 592/600\n",
      "3/3 [==============================] - 0s 5ms/step - loss: 0.0026 - val_loss: 1.6783\n",
      "Epoch 593/600\n",
      "3/3 [==============================] - 0s 5ms/step - loss: 0.0026 - val_loss: 1.6802\n",
      "Epoch 594/600\n",
      "3/3 [==============================] - 0s 5ms/step - loss: 0.0026 - val_loss: 1.6804\n",
      "Epoch 595/600\n",
      "3/3 [==============================] - 0s 5ms/step - loss: 0.0026 - val_loss: 1.6826\n",
      "Epoch 596/600\n",
      "3/3 [==============================] - 0s 6ms/step - loss: 0.0025 - val_loss: 1.6832\n",
      "Epoch 597/600\n",
      "3/3 [==============================] - 0s 6ms/step - loss: 0.0025 - val_loss: 1.6831\n",
      "Epoch 598/600\n",
      "3/3 [==============================] - 0s 5ms/step - loss: 0.0025 - val_loss: 1.6829\n",
      "Epoch 599/600\n",
      "3/3 [==============================] - 0s 5ms/step - loss: 0.0025 - val_loss: 1.6832\n",
      "Epoch 600/600\n",
      "3/3 [==============================] - 0s 5ms/step - loss: 0.0025 - val_loss: 1.6830\n"
     ]
    },
    {
     "data": {
      "text/plain": [
       "<tensorflow.python.keras.callbacks.History at 0x7f996e4f5f60>"
      ]
     },
     "execution_count": 36,
     "metadata": {
      "tags": []
     },
     "output_type": "execute_result"
    }
   ],
   "source": [
    "model.fit(x=X_train, \n",
    "          y=y_train, \n",
    "          epochs=600,\n",
    "          validation_data=(X_test, y_test), verbose=1\n",
    "          )"
   ]
  },
  {
   "cell_type": "code",
   "execution_count": null,
   "metadata": {
    "colab": {},
    "colab_type": "code",
    "id": "kbYCRLkCN_Pd",
    "outputId": "194684bf-d498-4dc0-96a9-9570402ace16"
   },
   "outputs": [
    {
     "data": {
      "text/plain": [
       "<matplotlib.axes._subplots.AxesSubplot at 0x7fb7be6a0438>"
      ]
     },
     "execution_count": 134,
     "metadata": {
      "tags": []
     },
     "output_type": "execute_result"
    },
    {
     "data": {
      "image/png": "[encoded data removed]",
      "text/plain": [
       "<Figure size 432x288 with 1 Axes>"
      ]
     },
     "metadata": {
      "needs_background": "light",
      "tags": []
     },
     "output_type": "display_data"
    }
   ],
   "source": [
    "model_loss = pd.DataFrame(model.history.history)\n",
    "model_loss.plot()"
   ]
  },
  {
   "cell_type": "code",
   "execution_count": 37,
   "metadata": {
    "colab": {
     "base_uri": "https://localhost:8080/",
     "height": 88
    },
    "colab_type": "code",
    "id": "Drq9IAlFN_Ph",
    "outputId": "623ef9fd-62d3-4c26-c99d-f3bc1cdb0160"
   },
   "outputs": [
    {
     "name": "stdout",
     "output_type": "stream",
     "text": [
      "WARNING:tensorflow:From <ipython-input-37-bc83193b8b59>:1: Sequential.predict_classes (from tensorflow.python.keras.engine.sequential) is deprecated and will be removed after 2021-01-01.\n",
      "Instructions for updating:\n",
      "Please use instead:* `np.argmax(model.predict(x), axis=-1)`,   if your model does multi-class classification   (e.g. if it uses a `softmax` last-layer activation).* `(model.predict(x) > 0.5).astype(\"int32\")`,   if your model does binary classification   (e.g. if it uses a `sigmoid` last-layer activation).\n"
     ]
    }
   ],
   "source": [
    "predictions = model.predict_classes(X_test)"
   ]
  },
  {
   "cell_type": "code",
   "execution_count": 38,
   "metadata": {
    "colab": {},
    "colab_type": "code",
    "id": "C7ZCi0zgN_Pj"
   },
   "outputs": [],
   "source": [
    "from sklearn.metrics import classification_report,confusion_matrix"
   ]
  },
  {
   "cell_type": "code",
   "execution_count": 39,
   "metadata": {
    "colab": {
     "base_uri": "https://localhost:8080/",
     "height": 204
    },
    "colab_type": "code",
    "id": "x8uC3kfkN_Pm",
    "outputId": "a884a4d5-9926-456e-c467-b0ade360a1a7"
   },
   "outputs": [
    {
     "name": "stdout",
     "output_type": "stream",
     "text": [
      "              precision    recall  f1-score   support\n",
      "\n",
      "           0       0.83      1.00      0.91        10\n",
      "           1       1.00      0.80      0.89        10\n",
      "\n",
      "    accuracy                           0.90        20\n",
      "   macro avg       0.92      0.90      0.90        20\n",
      "weighted avg       0.92      0.90      0.90        20\n",
      "\n"
     ]
    },
    {
     "data": {
      "text/plain": [
       "array([[10,  0],\n",
       "       [ 2,  8]])"
      ]
     },
     "execution_count": 39,
     "metadata": {
      "tags": []
     },
     "output_type": "execute_result"
    }
   ],
   "source": [
    "print(classification_report(y_test,predictions))\n",
    "cm = confusion_matrix(y_test,predictions)\n",
    "\n",
    "cm"
   ]
  },
  {
   "cell_type": "markdown",
   "metadata": {
    "colab_type": "text",
    "id": "jBv7PhNZN_Pp"
   },
   "source": [
    "### Exercise\n",
    "\n",
    "1) Install Anaconda with Python 3.6 or later (mine is 3.7.3)\n",
    "\n",
    "2) Run all the code blocks and check that they were run successfully"
   ]
  },
  {
   "cell_type": "code",
   "execution_count": null,
   "metadata": {
    "colab": {},
    "colab_type": "code",
    "id": "fSNStCqkN_Pp"
   },
   "outputs": [],
   "source": []
  }
 ],
 "metadata": {
  "accelerator": "GPU",
  "colab": {
   "name": "Exploratory Data Analysis.ipynb",
   "provenance": []
  },
  "kernelspec": {
   "display_name": "Python 3",
   "language": "python",
   "name": "python3"
  },
  "language_info": {
   "codemirror_mode": {
    "name": "ipython",
    "version": 3
   },
   "file_extension": ".py",
   "mimetype": "text/x-python",
   "name": "python",
   "nbconvert_exporter": "python",
   "pygments_lexer": "ipython3",
   "version": "3.7.3"
  },
  "varInspector": {
   "cols": {
    "lenName": 16,
    "lenType": 16,
    "lenVar": 40
   },
   "kernels_config": {
    "python": {
     "delete_cmd_postfix": "",
     "delete_cmd_prefix": "del ",
     "library": "var_list.py",
     "varRefreshCmd": "print(var_dic_list())"
    },
    "r": {
     "delete_cmd_postfix": ") ",
     "delete_cmd_prefix": "rm(",
     "library": "var_list.r",
     "varRefreshCmd": "cat(var_dic_list()) "
    }
   },
   "types_to_exclude": [
    "module",
    "function",
    "builtin_function_or_method",
    "instance",
    "_Feature"
   ],
   "window_display": false
  }
 },
 "nbformat": 4,
 "nbformat_minor": 1
}
