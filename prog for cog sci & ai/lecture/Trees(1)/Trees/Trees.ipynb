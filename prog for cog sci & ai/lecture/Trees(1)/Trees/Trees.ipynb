{
 "cells": [
  {
   "cell_type": "code",
   "execution_count": 1,
   "metadata": {},
   "outputs": [],
   "source": [
    "import warnings\n",
    "warnings.simplefilter(action='ignore', category=FutureWarning)\n",
    "warnings.simplefilter(action='ignore', category=UserWarning)\n",
    "\n",
    "import numpy as np\n",
    "import pandas as pd\n",
    "from scipy import stats\n",
    "import seaborn as sns\n",
    "import matplotlib.pyplot as plt\n",
    "%matplotlib inline"
   ]
  },
  {
   "cell_type": "code",
   "execution_count": 2,
   "metadata": {},
   "outputs": [],
   "source": [
    "from sklearn.model_selection import train_test_split\n",
    "from sklearn.metrics import confusion_matrix"
   ]
  },
  {
   "cell_type": "markdown",
   "metadata": {},
   "source": [
    "#### Imports for trees"
   ]
  },
  {
   "cell_type": "code",
   "execution_count": 3,
   "metadata": {},
   "outputs": [],
   "source": [
    "from sklearn import tree \n",
    "from sklearn.tree import DecisionTreeRegressor,DecisionTreeClassifier\n",
    "\n",
    "from sklearn.datasets import load_breast_cancer"
   ]
  },
  {
   "cell_type": "markdown",
   "metadata": {},
   "source": [
    "## Tree-based methods for Regression and Classification\n",
    "\n",
    "Tree-based methods are non-parametric supervised learning methods for classification and regression.\n",
    "\n",
    "These methods learn simple decision rules inferred from the training data to predict target values.\n",
    "\n",
    "Tree methods segment the feature space into regions based on Decision (Splitting) rules. Trees are a representation of these rules.\n"
   ]
  },
  {
   "cell_type": "code",
   "execution_count": 4,
   "metadata": {},
   "outputs": [
    {
     "data": {
      "text/html": [
       "<div>\n",
       "<style scoped>\n",
       "    .dataframe tbody tr th:only-of-type {\n",
       "        vertical-align: middle;\n",
       "    }\n",
       "\n",
       "    .dataframe tbody tr th {\n",
       "        vertical-align: top;\n",
       "    }\n",
       "\n",
       "    .dataframe thead th {\n",
       "        text-align: right;\n",
       "    }\n",
       "</style>\n",
       "<table border=\"1\" class=\"dataframe\">\n",
       "  <thead>\n",
       "    <tr style=\"text-align: right;\">\n",
       "      <th></th>\n",
       "      <th>AtBat</th>\n",
       "      <th>Hits</th>\n",
       "      <th>HmRun</th>\n",
       "      <th>Runs</th>\n",
       "      <th>RBI</th>\n",
       "      <th>Walks</th>\n",
       "      <th>Years</th>\n",
       "      <th>CAtBat</th>\n",
       "      <th>CHits</th>\n",
       "      <th>CHmRun</th>\n",
       "      <th>CRuns</th>\n",
       "      <th>CRBI</th>\n",
       "      <th>CWalks</th>\n",
       "      <th>PutOuts</th>\n",
       "      <th>Assists</th>\n",
       "      <th>Errors</th>\n",
       "      <th>Salary</th>\n",
       "      <th>LogSalary</th>\n",
       "    </tr>\n",
       "  </thead>\n",
       "  <tbody>\n",
       "    <tr>\n",
       "      <th>317</th>\n",
       "      <td>497</td>\n",
       "      <td>127</td>\n",
       "      <td>7</td>\n",
       "      <td>65</td>\n",
       "      <td>48</td>\n",
       "      <td>37</td>\n",
       "      <td>5</td>\n",
       "      <td>2703</td>\n",
       "      <td>806</td>\n",
       "      <td>32</td>\n",
       "      <td>379</td>\n",
       "      <td>311</td>\n",
       "      <td>138</td>\n",
       "      <td>325</td>\n",
       "      <td>9</td>\n",
       "      <td>3</td>\n",
       "      <td>700.0</td>\n",
       "      <td>6.551080</td>\n",
       "    </tr>\n",
       "    <tr>\n",
       "      <th>318</th>\n",
       "      <td>492</td>\n",
       "      <td>136</td>\n",
       "      <td>5</td>\n",
       "      <td>76</td>\n",
       "      <td>50</td>\n",
       "      <td>94</td>\n",
       "      <td>12</td>\n",
       "      <td>5511</td>\n",
       "      <td>1511</td>\n",
       "      <td>39</td>\n",
       "      <td>897</td>\n",
       "      <td>451</td>\n",
       "      <td>875</td>\n",
       "      <td>313</td>\n",
       "      <td>381</td>\n",
       "      <td>20</td>\n",
       "      <td>875.0</td>\n",
       "      <td>6.774224</td>\n",
       "    </tr>\n",
       "    <tr>\n",
       "      <th>319</th>\n",
       "      <td>475</td>\n",
       "      <td>126</td>\n",
       "      <td>3</td>\n",
       "      <td>61</td>\n",
       "      <td>43</td>\n",
       "      <td>52</td>\n",
       "      <td>6</td>\n",
       "      <td>1700</td>\n",
       "      <td>433</td>\n",
       "      <td>7</td>\n",
       "      <td>217</td>\n",
       "      <td>93</td>\n",
       "      <td>146</td>\n",
       "      <td>37</td>\n",
       "      <td>113</td>\n",
       "      <td>7</td>\n",
       "      <td>385.0</td>\n",
       "      <td>5.953243</td>\n",
       "    </tr>\n",
       "    <tr>\n",
       "      <th>320</th>\n",
       "      <td>573</td>\n",
       "      <td>144</td>\n",
       "      <td>9</td>\n",
       "      <td>85</td>\n",
       "      <td>60</td>\n",
       "      <td>78</td>\n",
       "      <td>8</td>\n",
       "      <td>3198</td>\n",
       "      <td>857</td>\n",
       "      <td>97</td>\n",
       "      <td>470</td>\n",
       "      <td>420</td>\n",
       "      <td>332</td>\n",
       "      <td>1314</td>\n",
       "      <td>131</td>\n",
       "      <td>12</td>\n",
       "      <td>960.0</td>\n",
       "      <td>6.866933</td>\n",
       "    </tr>\n",
       "    <tr>\n",
       "      <th>321</th>\n",
       "      <td>631</td>\n",
       "      <td>170</td>\n",
       "      <td>9</td>\n",
       "      <td>77</td>\n",
       "      <td>44</td>\n",
       "      <td>31</td>\n",
       "      <td>11</td>\n",
       "      <td>4908</td>\n",
       "      <td>1457</td>\n",
       "      <td>30</td>\n",
       "      <td>775</td>\n",
       "      <td>357</td>\n",
       "      <td>249</td>\n",
       "      <td>408</td>\n",
       "      <td>4</td>\n",
       "      <td>3</td>\n",
       "      <td>1000.0</td>\n",
       "      <td>6.907755</td>\n",
       "    </tr>\n",
       "  </tbody>\n",
       "</table>\n",
       "</div>"
      ],
      "text/plain": [
       "     AtBat  Hits  HmRun  Runs  RBI  Walks  Years  CAtBat  CHits  CHmRun  \\\n",
       "317    497   127      7    65   48     37      5    2703    806      32   \n",
       "318    492   136      5    76   50     94     12    5511   1511      39   \n",
       "319    475   126      3    61   43     52      6    1700    433       7   \n",
       "320    573   144      9    85   60     78      8    3198    857      97   \n",
       "321    631   170      9    77   44     31     11    4908   1457      30   \n",
       "\n",
       "     CRuns  CRBI  CWalks  PutOuts  Assists  Errors  Salary  LogSalary  \n",
       "317    379   311     138      325        9       3   700.0   6.551080  \n",
       "318    897   451     875      313      381      20   875.0   6.774224  \n",
       "319    217    93     146       37      113       7   385.0   5.953243  \n",
       "320    470   420     332     1314      131      12   960.0   6.866933  \n",
       "321    775   357     249      408        4       3  1000.0   6.907755  "
      ]
     },
     "execution_count": 4,
     "metadata": {},
     "output_type": "execute_result"
    }
   ],
   "source": [
    "Hitters = pd.read_csv(\"Hitters.csv\")\n",
    "Hitters = Hitters.dropna()\n",
    "Hitters = Hitters.drop(['League','Division','NewLeague'],axis = 1)\n",
    "Hitters['LogSalary'] = np.log(Hitters.Salary)\n",
    "Hitters.tail()"
   ]
  },
  {
   "cell_type": "markdown",
   "metadata": {},
   "source": [
    "#### Tree\n",
    "\n",
    "A tree represents a sequence of binary decisions of which feature and feature value to split on.\n",
    "\n",
    "Trees are built based on Training data.\n",
    "\n",
    "The Root node is the node at the top of the tree\n",
    "Leaf (terminal) nodes are the lowest nodes. They contains value or class of target variable.\n",
    "\n",
    "\n",
    "\n",
    "![](simpleDecisionTree1.png)\n",
    "$$\\text{Figure 1. Simple Decision Tree}$$\n",
    "\n",
    "1. Split on Years < 4.5\n",
    "2. Split on Hits < 117.5\n",
    " "
   ]
  },
  {
   "cell_type": "markdown",
   "metadata": {},
   "source": [
    "#### Divides the space into regions ($R_1, R_2, R_3, ...$)"
   ]
  },
  {
   "cell_type": "code",
   "execution_count": 5,
   "metadata": {},
   "outputs": [
    {
     "data": {
      "image/png": "[encoded data removed]",
      "text/plain": [
       "<Figure size 432x288 with 1 Axes>"
      ]
     },
     "metadata": {
      "needs_background": "light"
     },
     "output_type": "display_data"
    }
   ],
   "source": [
    "sns.scatterplot(x = 'Years',y='Hits',hue='LogSalary',data = Hitters)\n",
    "plt.plot([4.5,4.5],[0,250])\n",
    "plt.plot([4.5,25],[117.5,117.5])\n",
    "plt.plot(3,100,color = 'black',marker = 's');\n"
   ]
  },
  {
   "cell_type": "markdown",
   "metadata": {},
   "source": [
    "#### Prediction\n",
    "\n",
    " Predict new observation by transversing the tree from the top according to the features and feature values of the new data point.\n",
    "\n",
    "For new point (black square) assign value or class based on a metric of other points in the region (i.e. node)."
   ]
  },
  {
   "cell_type": "markdown",
   "metadata": {},
   "source": [
    "### History\n",
    "\n",
    "\n",
    "CART (Breiman et. al., 1984): Classification and Regression Trees.\n",
    "\n",
    "CART constructs binary trees using the feature and threshold that yield the largest information gain at each node.\n",
    "\n",
    "sklearn uses an optimized version of CART except **Independent variables can not be categorical** at this time.\n",
    "\n",
    "Quinlan: ID3(1986), C4.5(1993), C5.0, only for Classification Trees.\n"
   ]
  },
  {
   "cell_type": "markdown",
   "metadata": {},
   "source": [
    "### Recursive Binary Splitting (a top-down greedy algorithm)\n",
    "\n",
    "Given feature vector $X \\in R^p$, it is computationally infeasible to consider every possible partition of the feature space into regions.  \n",
    "\n",
    "![](Regions_tree.png)\n",
    "$$\\text{Figure 2. Regions and Tree produced by Recursive Bianry Splitting}$$\n",
    "\n",
    "Top-down: begins at the top of the tree and then successively splits the predictor space.\n",
    "\n",
    "This is a **greedy** algorithm. At each step of the tree-building process, the best split is made at that particular step. No look ahead to pick a split that will lead to a better tree in some future step.\n",
    "\n",
    "The predictor ($X_j$) and the cutpoints (s) are selected such that splitting the space into the regions {X|$X_j$ < s} and {X|$X_j$ >  s} leads to the greatest possible reduction in some Regression or Classification metric.\n",
    "\n",
    "The process is repeated on the resulting regions.\n",
    "\n",
    "The process is continued until a stopping criterion is reached.\n",
    "\n",
    "A feature can be used multiple times with different values.\n",
    "\n"
   ]
  },
  {
   "cell_type": "markdown",
   "metadata": {},
   "source": [
    "## Regression Trees\n",
    "\n",
    "Data: $(x_1,y_1),(x_2,y_2),...(x_n,y_n)$, $x_i \\in R^d$, $y_i \\in R$\n",
    " \n",
    "Goal: Find regions $R_1,R_2,...,R_j$ to minimize Mean Squared Error (MSE) or Mean Absolute Error (MAE)\n",
    "\n",
    "Determine which of the d features to split on and which value of the feature.\n",
    "\n",
    "#### Regression Prediction\n",
    "\n",
    "Response of new observation is the mean of the training observations in the region to which the new observation belongs"
   ]
  },
  {
   "cell_type": "markdown",
   "metadata": {},
   "source": [
    "### Regression Metrics\n",
    "\n",
    "Given Node m representing a region $R_m$ with $N_m$ observations ($x_i,y_i)$  \n",
    "\n",
    "The mean response for the training observations within the ith region is:\n",
    "\n",
    "$$\\bar{y} = \\frac{1}{N_m}\\sum_{i\\in{N_m}}y_i$$\n",
    "\n",
    "$X_m$ is the training data in node m\n",
    "\n",
    "#### $H(X_m)$ is called the impurity function.\n",
    "We want nodes to be pure\n",
    "\n",
    "#### Mean Squared Error:Minimizes L2 Error \n",
    "\n",
    "$$H(X_m) = \\frac{1}{N_m}\\sum_{i \\in {N_m}}(y_i - \\bar{y}_m)^2 $$\n",
    "\n",
    "#### Mean Absolute Error: Minimizes L1 Error \n",
    "\n",
    "$$H(X_m) = \\frac{1}{N_m}\\sum_{i \\in {N_m}}|y_i - \\bar{y}_m| $$\n",
    " "
   ]
  },
  {
   "cell_type": "markdown",
   "metadata": {},
   "source": [
    "###  Overfitting   \n",
    "\n",
    "Decision Tree learning tends to make overly complex models which overfit\n",
    "\n",
    "Reduce size of tree since a smaller tree will have less variance: \n",
    "- Limit the depth of the tree\n",
    "- Set the minimum number of samples required at a leaf node\n",
    "\n",
    "sklearn uses Minimal Cost-Complexity (see Appendix) to reduce tree size\n",
    "    "
   ]
  },
  {
   "cell_type": "markdown",
   "metadata": {},
   "source": [
    "### Fitting Regression Trees in sklearn\n",
    "\n",
    "http://scikit-learn.org/stable/modules/generated/sklearn.tree.DecisionTreeRegressor.html\n",
    "\n",
    "#### Parameters\n",
    "\n",
    "criterion - the function to measure the quality of the split\n",
    "\n",
    "- 'mse'\n",
    "- 'friedman_mse'\n",
    "- 'mae'\n",
    "\n",
    "max_depth: control size by limiting tree depth\n",
    "\n",
    "min_samples_split: minimum # of samples required to split an internal node\n",
    "\n",
    "min_samples_leaf: control size by setting minimum number of samples at leaf nodes\n",
    "\n",
    "random_state: To obtain a deterministic behavior during fitting, set random_state.\n",
    "\n",
    "ccp_alpha: cost-complexity parameter used for Minimal Cost-Complexity Pruning. The subtree with the largest cost complexity that is smaller than ccp_alpha will be chosen."
   ]
  },
  {
   "cell_type": "code",
   "execution_count": 13,
   "metadata": {},
   "outputs": [
    {
     "data": {
      "text/plain": [
       "((263, 16), (263,))"
      ]
     },
     "execution_count": 13,
     "metadata": {},
     "output_type": "execute_result"
    }
   ],
   "source": [
    "#feats = ['Years','Hits']\n",
    "feats = Hitters.columns.tolist()[:-2] # All the features\n",
    "X = Hitters.loc[:,feats].values\n",
    "y = Hitters.loc[:,'Salary'].values\n",
    "X.shape,y.shape"
   ]
  },
  {
   "cell_type": "code",
   "execution_count": 14,
   "metadata": {},
   "outputs": [
    {
     "data": {
      "text/plain": [
       "((197, 16), (66, 16), (197,), (66,))"
      ]
     },
     "execution_count": 14,
     "metadata": {},
     "output_type": "execute_result"
    }
   ],
   "source": [
    "X_train, X_test, y_train, y_test = train_test_split(X, y, test_size = 0.25, random_state = 0)\n",
    "X_train.shape, X_test.shape, y_train.shape, y_test.shape"
   ]
  },
  {
   "cell_type": "code",
   "execution_count": 15,
   "metadata": {},
   "outputs": [
    {
     "data": {
      "text/plain": [
       "DecisionTreeRegressor(random_state=1234)"
      ]
     },
     "execution_count": 15,
     "metadata": {},
     "output_type": "execute_result"
    }
   ],
   "source": [
    "# Fit Tree to Training data\n",
    "dt = DecisionTreeRegressor(random_state = 1234)\n",
    "dt.fit(X_train, y_train)"
   ]
  },
  {
   "cell_type": "code",
   "execution_count": 16,
   "metadata": {},
   "outputs": [
    {
     "name": "stdout",
     "output_type": "stream",
     "text": [
      "Test error is:  137063.9272000303\n"
     ]
    }
   ],
   "source": [
    "# Predict the Test data\n",
    "y_pred = dt.predict(X_test)\n",
    "mse = np.mean((y_pred - y_test)**2)\n",
    "print(\"Test error is: \",mse)"
   ]
  },
  {
   "cell_type": "code",
   "execution_count": 17,
   "metadata": {},
   "outputs": [
    {
     "name": "stdout",
     "output_type": "stream",
     "text": [
      "R-squared = 0.536\n"
     ]
    }
   ],
   "source": [
    "R2 = dt.score(X_test,y_test);R2\n",
    "print(f'R-squared = {np.round(R2,3)}')"
   ]
  },
  {
   "cell_type": "code",
   "execution_count": 18,
   "metadata": {},
   "outputs": [
    {
     "name": "stdout",
     "output_type": "stream",
     "text": [
      "CHits \t 0.388989\n",
      "CWalks \t 0.168324\n",
      "AtBat \t 0.150901\n",
      "Runs \t 0.055334\n",
      "CRBI \t 0.053743\n",
      "Walks \t 0.046251\n",
      "HmRun \t 0.033541\n",
      "CAtBat \t 0.033231\n",
      "Assists \t 0.025148\n",
      "PutOuts \t 0.015695\n",
      "Errors \t 0.011589\n",
      "CRuns \t 0.007317\n",
      "RBI \t 0.006249\n",
      "Hits \t 0.001965\n",
      "Years \t 0.001427\n",
      "CHmRun \t 0.000295\n"
     ]
    }
   ],
   "source": [
    "\n",
    "vals = dt.feature_importances_\n",
    "pairs = [(vals[i],feats[i]) for i in range(len(vals))]\n",
    "pairs.sort(reverse=True)\n",
    "for val,feat in pairs:\n",
    " print(feat,'\\t',round(val,6))\n"
   ]
  },
  {
   "cell_type": "markdown",
   "metadata": {},
   "source": [
    "#### 10-fold Cross Validation"
   ]
  },
  {
   "cell_type": "code",
   "execution_count": 19,
   "metadata": {},
   "outputs": [
    {
     "name": "stdout",
     "output_type": "stream",
     "text": [
      "[ 0.34475315  0.75488939  0.59906393  0.26972567  0.39909365  0.19479386\n",
      "  0.42175835 -0.04737039  0.1537412  -0.4163741 ]\n",
      "0.2674074707471733\n"
     ]
    },
    {
     "data": {
      "image/png": "[encoded data removed]",
      "text/plain": [
       "<Figure size 432x288 with 1 Axes>"
      ]
     },
     "metadata": {
      "needs_background": "light"
     },
     "output_type": "display_data"
    }
   ],
   "source": [
    "from sklearn.model_selection import cross_val_score\n",
    "scores = cross_val_score(dt, X,y, cv=10)\n",
    "print(scores)\n",
    "print(np.mean(scores))\n",
    "plt.plot(range(1,11),scores);"
   ]
  },
  {
   "cell_type": "markdown",
   "metadata": {},
   "source": [
    "## Classification Trees\n",
    " \n",
    "Goal:  Predict that each observation belongs to the most commonly occurring class of training observations in the region to which it belongs.\n",
    "    \n",
    "Classes should be balanced to avoid  creating biased trees "
   ]
  },
  {
   "cell_type": "markdown",
   "metadata": {},
   "source": [
    "\n",
    "#### Predictions\n",
    "\n",
    "Response of new observation is the class the has the high proportion of observations in the region to which the new observation belongs"
   ]
  },
  {
   "cell_type": "markdown",
   "metadata": {},
   "source": [
    "### Classification Metrics \n",
    "\n",
    "Given Node m representing a region $R_m$ with $N_m$ observations ($x_i,y_i)$  \n",
    "\n",
    "The proportion if class k observations in node m is:\n",
    "\n",
    "$$ p_{mk} = \\frac{1}{N_m}\\sum_{x_i \\in R_m}I(y_i ==k)$$\n",
    "\n",
    "$X_m$ is the training data for node m\n",
    "\n",
    "#### Gini impurity\n",
    "\n",
    "\n",
    "    \n",
    "$$H(X_m) = \\sum_{k=1}^Kp_{mk}(1-p_{mk})$$\n",
    " \n",
    "where $p_{mk}$ is the proportion of training observations in the mth region that are from the kth class. It takes on a small value if all of the $p_{mk}$s are close to\n",
    "zero or one.\n",
    "\n",
    "Node purity: a small value indicates that a node contains predominantly observations from a single class.\n",
    " \n",
    "#### Information Entropy (Average Information)\n",
    "\n",
    "See Appendix\n",
    " \n",
    "$$H(X_m) = -\\sum_{k=1}^Kp_{mk}log(p_{mk})$$\n",
    "\n",
    "In most cases the Gini and Entropy metrics produce the same results\n",
    "\n",
    "#### Misclassification\n",
    "\n",
    "$$H(X_m) = 1 - max(p_{mk})$$\n",
    "\n",
    "Not widely used because not sensitive enough"
   ]
  },
  {
   "cell_type": "markdown",
   "metadata": {},
   "source": [
    "### Fitting Classification Trees in sklearn\n",
    "\n",
    "http://scikit-learn.org/stable/modules/generated/sklearn.tree.DecisionTreeClassifier.html#sklearn.tree.DecisionTreeClassifier\n",
    "\n",
    "#### Parameters\n",
    "\n",
    "criterion: the function to measure the quality of the split:\n",
    "\n",
    "- 'gini'\n",
    "- 'entropy'\n",
    "\n",
    "max_depth: control size by limiting tree depth\n",
    "\n",
    "min_samples_split: minimum # of samples required to split an internal node\n",
    "\n",
    "min_samples_leaf: control size by setting minimum number of samples at leaf nodes\n",
    "\n",
    "random_state: To obtain a deterministic behavior during fitting, set random_state.\n",
    "\n",
    "ccp_alpha: cost-complexity parameter used for Minimal Cost-Complexity Pruning. The subtree with the largest cost complexity that is smaller than ccp_alpha will be chosen"
   ]
  },
  {
   "cell_type": "code",
   "execution_count": 20,
   "metadata": {},
   "outputs": [
    {
     "name": "stdout",
     "output_type": "stream",
     "text": [
      "13\n"
     ]
    },
    {
     "data": {
      "text/html": [
       "<div>\n",
       "<style scoped>\n",
       "    .dataframe tbody tr th:only-of-type {\n",
       "        vertical-align: middle;\n",
       "    }\n",
       "\n",
       "    .dataframe tbody tr th {\n",
       "        vertical-align: top;\n",
       "    }\n",
       "\n",
       "    .dataframe thead th {\n",
       "        text-align: right;\n",
       "    }\n",
       "</style>\n",
       "<table border=\"1\" class=\"dataframe\">\n",
       "  <thead>\n",
       "    <tr style=\"text-align: right;\">\n",
       "      <th></th>\n",
       "      <th>Alcohol</th>\n",
       "      <th>Malic_Acid</th>\n",
       "      <th>Ash</th>\n",
       "      <th>Ash_Alcanity</th>\n",
       "      <th>Magnesium</th>\n",
       "      <th>Total_Phenols</th>\n",
       "      <th>Flavanoids</th>\n",
       "      <th>Nonflavanoid_Phenols</th>\n",
       "      <th>Proanthocyanins</th>\n",
       "      <th>Color_Intensity</th>\n",
       "      <th>Hue</th>\n",
       "      <th>OD280</th>\n",
       "      <th>Proline</th>\n",
       "      <th>Customer_Segment</th>\n",
       "    </tr>\n",
       "  </thead>\n",
       "  <tbody>\n",
       "    <tr>\n",
       "      <th>0</th>\n",
       "      <td>14.23</td>\n",
       "      <td>1.71</td>\n",
       "      <td>2.43</td>\n",
       "      <td>15.6</td>\n",
       "      <td>127</td>\n",
       "      <td>2.80</td>\n",
       "      <td>3.06</td>\n",
       "      <td>0.28</td>\n",
       "      <td>2.29</td>\n",
       "      <td>5.64</td>\n",
       "      <td>1.04</td>\n",
       "      <td>3.92</td>\n",
       "      <td>1065</td>\n",
       "      <td>1</td>\n",
       "    </tr>\n",
       "    <tr>\n",
       "      <th>1</th>\n",
       "      <td>13.20</td>\n",
       "      <td>1.78</td>\n",
       "      <td>2.14</td>\n",
       "      <td>11.2</td>\n",
       "      <td>100</td>\n",
       "      <td>2.65</td>\n",
       "      <td>2.76</td>\n",
       "      <td>0.26</td>\n",
       "      <td>1.28</td>\n",
       "      <td>4.38</td>\n",
       "      <td>1.05</td>\n",
       "      <td>3.40</td>\n",
       "      <td>1050</td>\n",
       "      <td>1</td>\n",
       "    </tr>\n",
       "    <tr>\n",
       "      <th>2</th>\n",
       "      <td>13.16</td>\n",
       "      <td>2.36</td>\n",
       "      <td>2.67</td>\n",
       "      <td>18.6</td>\n",
       "      <td>101</td>\n",
       "      <td>2.80</td>\n",
       "      <td>3.24</td>\n",
       "      <td>0.30</td>\n",
       "      <td>2.81</td>\n",
       "      <td>5.68</td>\n",
       "      <td>1.03</td>\n",
       "      <td>3.17</td>\n",
       "      <td>1185</td>\n",
       "      <td>1</td>\n",
       "    </tr>\n",
       "    <tr>\n",
       "      <th>3</th>\n",
       "      <td>14.37</td>\n",
       "      <td>1.95</td>\n",
       "      <td>2.50</td>\n",
       "      <td>16.8</td>\n",
       "      <td>113</td>\n",
       "      <td>3.85</td>\n",
       "      <td>3.49</td>\n",
       "      <td>0.24</td>\n",
       "      <td>2.18</td>\n",
       "      <td>7.80</td>\n",
       "      <td>0.86</td>\n",
       "      <td>3.45</td>\n",
       "      <td>1480</td>\n",
       "      <td>1</td>\n",
       "    </tr>\n",
       "    <tr>\n",
       "      <th>4</th>\n",
       "      <td>13.24</td>\n",
       "      <td>2.59</td>\n",
       "      <td>2.87</td>\n",
       "      <td>21.0</td>\n",
       "      <td>118</td>\n",
       "      <td>2.80</td>\n",
       "      <td>2.69</td>\n",
       "      <td>0.39</td>\n",
       "      <td>1.82</td>\n",
       "      <td>4.32</td>\n",
       "      <td>1.04</td>\n",
       "      <td>2.93</td>\n",
       "      <td>735</td>\n",
       "      <td>1</td>\n",
       "    </tr>\n",
       "  </tbody>\n",
       "</table>\n",
       "</div>"
      ],
      "text/plain": [
       "   Alcohol  Malic_Acid   Ash  Ash_Alcanity  Magnesium  Total_Phenols  \\\n",
       "0    14.23        1.71  2.43          15.6        127           2.80   \n",
       "1    13.20        1.78  2.14          11.2        100           2.65   \n",
       "2    13.16        2.36  2.67          18.6        101           2.80   \n",
       "3    14.37        1.95  2.50          16.8        113           3.85   \n",
       "4    13.24        2.59  2.87          21.0        118           2.80   \n",
       "\n",
       "   Flavanoids  Nonflavanoid_Phenols  Proanthocyanins  Color_Intensity   Hue  \\\n",
       "0        3.06                  0.28             2.29             5.64  1.04   \n",
       "1        2.76                  0.26             1.28             4.38  1.05   \n",
       "2        3.24                  0.30             2.81             5.68  1.03   \n",
       "3        3.49                  0.24             2.18             7.80  0.86   \n",
       "4        2.69                  0.39             1.82             4.32  1.04   \n",
       "\n",
       "   OD280  Proline  Customer_Segment  \n",
       "0   3.92     1065                 1  \n",
       "1   3.40     1050                 1  \n",
       "2   3.17     1185                 1  \n",
       "3   3.45     1480                 1  \n",
       "4   2.93      735                 1  "
      ]
     },
     "execution_count": 20,
     "metadata": {},
     "output_type": "execute_result"
    }
   ],
   "source": [
    "Wine = pd.read_csv(\"Wine.csv\")\n",
    "feats = Wine.columns[0:-1]\n",
    "print(len(feats))\n",
    "Wine.head()"
   ]
  },
  {
   "cell_type": "code",
   "execution_count": 21,
   "metadata": {},
   "outputs": [],
   "source": [
    "X = Wine.iloc[:,0:13].values\n",
    "y = Wine.iloc[:,13].values\n"
   ]
  },
  {
   "cell_type": "code",
   "execution_count": 22,
   "metadata": {},
   "outputs": [],
   "source": [
    "X_train, X_test, y_train, y_test = train_test_split(X, y,stratify = y, test_size = 0.25, random_state = 1234)"
   ]
  },
  {
   "cell_type": "code",
   "execution_count": 23,
   "metadata": {},
   "outputs": [
    {
     "data": {
      "text/plain": [
       "DecisionTreeClassifier(criterion='entropy')"
      ]
     },
     "execution_count": 23,
     "metadata": {},
     "output_type": "execute_result"
    }
   ],
   "source": [
    "# Build decision tree classifier\n",
    "dt = DecisionTreeClassifier(criterion='entropy')\n",
    "dt.fit(X_train, y_train)"
   ]
  },
  {
   "cell_type": "code",
   "execution_count": 24,
   "metadata": {},
   "outputs": [
    {
     "name": "stdout",
     "output_type": "stream",
     "text": [
      "Accuracy:  0.956\n"
     ]
    },
    {
     "data": {
      "text/plain": [
       "array([[14,  1,  0],\n",
       "       [ 0, 18,  0],\n",
       "       [ 0,  1, 11]], dtype=int64)"
      ]
     },
     "execution_count": 24,
     "metadata": {},
     "output_type": "execute_result"
    }
   ],
   "source": [
    "# Predict the Test data\n",
    "y_pred = dt.predict(X_test)\n",
    "\n",
    "# Make  the Confusion Matrix and calculate  model accuracy\n",
    "\n",
    "cm = confusion_matrix(y_test, y_pred)\n",
    "print(\"Accuracy: \",round(np.trace(cm)/np.sum(cm),3))\n",
    "cm"
   ]
  },
  {
   "cell_type": "markdown",
   "metadata": {},
   "source": [
    "#### 10-fold Cross Validation"
   ]
  },
  {
   "cell_type": "code",
   "execution_count": 25,
   "metadata": {},
   "outputs": [
    {
     "name": "stdout",
     "output_type": "stream",
     "text": [
      "[0.88888889 0.94444444 0.72222222 0.88888889 0.88888889 1.\n",
      " 1.         0.94444444 1.         0.76470588]\n",
      "Mean Accuracy:  0.904\n"
     ]
    },
    {
     "data": {
      "image/png": "[encoded data removed]",
      "text/plain": [
       "<Figure size 432x288 with 1 Axes>"
      ]
     },
     "metadata": {
      "needs_background": "light"
     },
     "output_type": "display_data"
    }
   ],
   "source": [
    "from sklearn.model_selection import cross_val_score\n",
    "np.random.seed(42)\n",
    "scores = cross_val_score(dt, X,y, cv=10, scoring = 'accuracy')\n",
    "print(scores)\n",
    "print(\"Mean Accuracy: \",round(np.mean(scores),3))\n",
    "plt.plot(range(1,11),scores);"
   ]
  },
  {
   "cell_type": "code",
   "execution_count": 26,
   "metadata": {},
   "outputs": [
    {
     "data": {
      "text/plain": [
       "13"
      ]
     },
     "execution_count": 26,
     "metadata": {},
     "output_type": "execute_result"
    }
   ],
   "source": [
    "dt.n_features_"
   ]
  },
  {
   "cell_type": "code",
   "execution_count": 27,
   "metadata": {},
   "outputs": [
    {
     "data": {
      "text/plain": [
       "[Text(396.79999999999995, 475.65000000000003, 'X[6] <= 1.4\\nentropy = 1.567\\nsamples = 133\\nvalue = [44, 53, 36]'),\n",
       " Text(198.39999999999998, 339.75, 'X[9] <= 3.725\\nentropy = 0.684\\nsamples = 44\\nvalue = [0, 8, 36]'),\n",
       " Text(99.19999999999999, 203.85000000000002, 'entropy = 0.0\\nsamples = 8\\nvalue = [0, 8, 0]'),\n",
       " Text(297.59999999999997, 203.85000000000002, 'entropy = 0.0\\nsamples = 36\\nvalue = [0, 0, 36]'),\n",
       " Text(595.1999999999999, 339.75, 'X[12] <= 724.5\\nentropy = 1.0\\nsamples = 89\\nvalue = [44, 45, 0]'),\n",
       " Text(495.99999999999994, 203.85000000000002, 'entropy = 0.0\\nsamples = 42\\nvalue = [0, 42, 0]'),\n",
       " Text(694.3999999999999, 203.85000000000002, 'X[9] <= 3.49\\nentropy = 0.342\\nsamples = 47\\nvalue = [44, 3, 0]'),\n",
       " Text(595.1999999999999, 67.94999999999999, 'entropy = 0.0\\nsamples = 3\\nvalue = [0, 3, 0]'),\n",
       " Text(793.5999999999999, 67.94999999999999, 'entropy = 0.0\\nsamples = 44\\nvalue = [44, 0, 0]')]"
      ]
     },
     "execution_count": 27,
     "metadata": {},
     "output_type": "execute_result"
    },
    {
     "data": {
      "image/png": "[encoded data removed]",
      "text/plain": [
       "<Figure size 1152x720 with 1 Axes>"
      ]
     },
     "metadata": {
      "needs_background": "light"
     },
     "output_type": "display_data"
    }
   ],
   "source": [
    "plt.figure(figsize=(16,10))\n",
    "tree.plot_tree(dt,fontsize=14)\n",
    "#plt.savefig(\"wine.png\",format='png');"
   ]
  },
  {
   "cell_type": "markdown",
   "metadata": {},
   "source": [
    "### Pros\n",
    "\n",
    "* Simple and interpretable. \n",
    "* Trees can be visualized  \n",
    "* Requires little data preparation (e.g. no scaling)\n",
    "* Rules for numerical, ordinal and categorical data\n",
    "* Mirror human decision-making??   \n",
    " \n",
    "\n",
    "### Cons\n",
    " \n",
    "* Tends to overfit. Creates overly complex trees that do not generalize well. \n",
    "    - Need to prune trees \n",
    "* Highly variable. Small change in data can produce completely different tree\n",
    "* Finding optimum tree is NP-Complete.\n",
    "    - Use Greedy algorithm which may not produce the best tree \n",
    "* Prediction accuracy is not competitive with other approaches\n",
    "    - But with Ensemble Methods (Bagging, Random Forests and Boosting) can produce results that surpass other common methods in use today"
   ]
  },
  {
   "cell_type": "markdown",
   "metadata": {},
   "source": [
    "\n",
    "## Pruning decision trees with cost complexity pruning (CCP)\n",
    "\n",
    "https://scikit-learn.org/stable/auto_examples/tree/plot_cost_complexity_pruning.html#sphx-glr-auto-examples-tree-plot-cost-complexity-pruning-py\n",
    "\n",
    "Cost Complexity Pruning controls the size of a tree to alleviate overfitting\n",
    "\n",
    "The keyword ccp_alpha is the CCP parameter. Greater values increase number of nodes pruned.\n",
    "    \n",
    "The best value of ccp_alpha can be determined from accuracy scores"
   ]
  },
  {
   "cell_type": "markdown",
   "metadata": {},
   "source": [
    "### Total impurity of leaves and alphas of pruned tree\n",
    "\n",
    "Minimal cost complexity pruning recursively finds the node with the \"weakest link\". The weakest link is characterized by an effective alpha, where the nodes with the smallest alpha are pruned first. \n",
    "\n",
    "scikit-learn provides DecisionTreeClassifier.cost_complexity_pruning_path to determine the best  ccp_alpha. It returns the alphas and the corresponding total leaf impurities at each step of the pruning process. As alpha increases, more of the tree is pruned, which increases the total impurity of its leaves.\n",
    "\n"
   ]
  },
  {
   "cell_type": "code",
   "execution_count": 28,
   "metadata": {},
   "outputs": [
    {
     "data": {
      "text/plain": [
       "dict_keys(['data', 'target', 'frame', 'target_names', 'DESCR', 'feature_names', 'filename'])"
      ]
     },
     "execution_count": 28,
     "metadata": {},
     "output_type": "execute_result"
    }
   ],
   "source": [
    "data = load_breast_cancer(as_frame=True)\n",
    "data.keys()"
   ]
  },
  {
   "cell_type": "code",
   "execution_count": 29,
   "metadata": {},
   "outputs": [
    {
     "data": {
      "text/html": [
       "<div>\n",
       "<style scoped>\n",
       "    .dataframe tbody tr th:only-of-type {\n",
       "        vertical-align: middle;\n",
       "    }\n",
       "\n",
       "    .dataframe tbody tr th {\n",
       "        vertical-align: top;\n",
       "    }\n",
       "\n",
       "    .dataframe thead th {\n",
       "        text-align: right;\n",
       "    }\n",
       "</style>\n",
       "<table border=\"1\" class=\"dataframe\">\n",
       "  <thead>\n",
       "    <tr style=\"text-align: right;\">\n",
       "      <th></th>\n",
       "      <th>mean radius</th>\n",
       "      <th>mean texture</th>\n",
       "      <th>mean perimeter</th>\n",
       "      <th>mean area</th>\n",
       "      <th>mean smoothness</th>\n",
       "      <th>mean compactness</th>\n",
       "      <th>mean concavity</th>\n",
       "      <th>mean concave points</th>\n",
       "      <th>mean symmetry</th>\n",
       "      <th>mean fractal dimension</th>\n",
       "      <th>...</th>\n",
       "      <th>worst texture</th>\n",
       "      <th>worst perimeter</th>\n",
       "      <th>worst area</th>\n",
       "      <th>worst smoothness</th>\n",
       "      <th>worst compactness</th>\n",
       "      <th>worst concavity</th>\n",
       "      <th>worst concave points</th>\n",
       "      <th>worst symmetry</th>\n",
       "      <th>worst fractal dimension</th>\n",
       "      <th>target</th>\n",
       "    </tr>\n",
       "  </thead>\n",
       "  <tbody>\n",
       "    <tr>\n",
       "      <th>564</th>\n",
       "      <td>21.56</td>\n",
       "      <td>22.39</td>\n",
       "      <td>142.00</td>\n",
       "      <td>1479.0</td>\n",
       "      <td>0.11100</td>\n",
       "      <td>0.11590</td>\n",
       "      <td>0.24390</td>\n",
       "      <td>0.13890</td>\n",
       "      <td>0.1726</td>\n",
       "      <td>0.05623</td>\n",
       "      <td>...</td>\n",
       "      <td>26.40</td>\n",
       "      <td>166.10</td>\n",
       "      <td>2027.0</td>\n",
       "      <td>0.14100</td>\n",
       "      <td>0.21130</td>\n",
       "      <td>0.4107</td>\n",
       "      <td>0.2216</td>\n",
       "      <td>0.2060</td>\n",
       "      <td>0.07115</td>\n",
       "      <td>0</td>\n",
       "    </tr>\n",
       "    <tr>\n",
       "      <th>565</th>\n",
       "      <td>20.13</td>\n",
       "      <td>28.25</td>\n",
       "      <td>131.20</td>\n",
       "      <td>1261.0</td>\n",
       "      <td>0.09780</td>\n",
       "      <td>0.10340</td>\n",
       "      <td>0.14400</td>\n",
       "      <td>0.09791</td>\n",
       "      <td>0.1752</td>\n",
       "      <td>0.05533</td>\n",
       "      <td>...</td>\n",
       "      <td>38.25</td>\n",
       "      <td>155.00</td>\n",
       "      <td>1731.0</td>\n",
       "      <td>0.11660</td>\n",
       "      <td>0.19220</td>\n",
       "      <td>0.3215</td>\n",
       "      <td>0.1628</td>\n",
       "      <td>0.2572</td>\n",
       "      <td>0.06637</td>\n",
       "      <td>0</td>\n",
       "    </tr>\n",
       "    <tr>\n",
       "      <th>566</th>\n",
       "      <td>16.60</td>\n",
       "      <td>28.08</td>\n",
       "      <td>108.30</td>\n",
       "      <td>858.1</td>\n",
       "      <td>0.08455</td>\n",
       "      <td>0.10230</td>\n",
       "      <td>0.09251</td>\n",
       "      <td>0.05302</td>\n",
       "      <td>0.1590</td>\n",
       "      <td>0.05648</td>\n",
       "      <td>...</td>\n",
       "      <td>34.12</td>\n",
       "      <td>126.70</td>\n",
       "      <td>1124.0</td>\n",
       "      <td>0.11390</td>\n",
       "      <td>0.30940</td>\n",
       "      <td>0.3403</td>\n",
       "      <td>0.1418</td>\n",
       "      <td>0.2218</td>\n",
       "      <td>0.07820</td>\n",
       "      <td>0</td>\n",
       "    </tr>\n",
       "    <tr>\n",
       "      <th>567</th>\n",
       "      <td>20.60</td>\n",
       "      <td>29.33</td>\n",
       "      <td>140.10</td>\n",
       "      <td>1265.0</td>\n",
       "      <td>0.11780</td>\n",
       "      <td>0.27700</td>\n",
       "      <td>0.35140</td>\n",
       "      <td>0.15200</td>\n",
       "      <td>0.2397</td>\n",
       "      <td>0.07016</td>\n",
       "      <td>...</td>\n",
       "      <td>39.42</td>\n",
       "      <td>184.60</td>\n",
       "      <td>1821.0</td>\n",
       "      <td>0.16500</td>\n",
       "      <td>0.86810</td>\n",
       "      <td>0.9387</td>\n",
       "      <td>0.2650</td>\n",
       "      <td>0.4087</td>\n",
       "      <td>0.12400</td>\n",
       "      <td>0</td>\n",
       "    </tr>\n",
       "    <tr>\n",
       "      <th>568</th>\n",
       "      <td>7.76</td>\n",
       "      <td>24.54</td>\n",
       "      <td>47.92</td>\n",
       "      <td>181.0</td>\n",
       "      <td>0.05263</td>\n",
       "      <td>0.04362</td>\n",
       "      <td>0.00000</td>\n",
       "      <td>0.00000</td>\n",
       "      <td>0.1587</td>\n",
       "      <td>0.05884</td>\n",
       "      <td>...</td>\n",
       "      <td>30.37</td>\n",
       "      <td>59.16</td>\n",
       "      <td>268.6</td>\n",
       "      <td>0.08996</td>\n",
       "      <td>0.06444</td>\n",
       "      <td>0.0000</td>\n",
       "      <td>0.0000</td>\n",
       "      <td>0.2871</td>\n",
       "      <td>0.07039</td>\n",
       "      <td>1</td>\n",
       "    </tr>\n",
       "  </tbody>\n",
       "</table>\n",
       "<p>5 rows × 31 columns</p>\n",
       "</div>"
      ],
      "text/plain": [
       "     mean radius  mean texture  mean perimeter  mean area  mean smoothness  \\\n",
       "564        21.56         22.39          142.00     1479.0          0.11100   \n",
       "565        20.13         28.25          131.20     1261.0          0.09780   \n",
       "566        16.60         28.08          108.30      858.1          0.08455   \n",
       "567        20.60         29.33          140.10     1265.0          0.11780   \n",
       "568         7.76         24.54           47.92      181.0          0.05263   \n",
       "\n",
       "     mean compactness  mean concavity  mean concave points  mean symmetry  \\\n",
       "564           0.11590         0.24390              0.13890         0.1726   \n",
       "565           0.10340         0.14400              0.09791         0.1752   \n",
       "566           0.10230         0.09251              0.05302         0.1590   \n",
       "567           0.27700         0.35140              0.15200         0.2397   \n",
       "568           0.04362         0.00000              0.00000         0.1587   \n",
       "\n",
       "     mean fractal dimension  ...  worst texture  worst perimeter  worst area  \\\n",
       "564                 0.05623  ...          26.40           166.10      2027.0   \n",
       "565                 0.05533  ...          38.25           155.00      1731.0   \n",
       "566                 0.05648  ...          34.12           126.70      1124.0   \n",
       "567                 0.07016  ...          39.42           184.60      1821.0   \n",
       "568                 0.05884  ...          30.37            59.16       268.6   \n",
       "\n",
       "     worst smoothness  worst compactness  worst concavity  \\\n",
       "564           0.14100            0.21130           0.4107   \n",
       "565           0.11660            0.19220           0.3215   \n",
       "566           0.11390            0.30940           0.3403   \n",
       "567           0.16500            0.86810           0.9387   \n",
       "568           0.08996            0.06444           0.0000   \n",
       "\n",
       "     worst concave points  worst symmetry  worst fractal dimension  target  \n",
       "564                0.2216          0.2060                  0.07115       0  \n",
       "565                0.1628          0.2572                  0.06637       0  \n",
       "566                0.1418          0.2218                  0.07820       0  \n",
       "567                0.2650          0.4087                  0.12400       0  \n",
       "568                0.0000          0.2871                  0.07039       1  \n",
       "\n",
       "[5 rows x 31 columns]"
      ]
     },
     "execution_count": 29,
     "metadata": {},
     "output_type": "execute_result"
    }
   ],
   "source": [
    "df = data['frame']\n",
    "df.tail()"
   ]
  },
  {
   "cell_type": "code",
   "execution_count": 30,
   "metadata": {},
   "outputs": [
    {
     "data": {
      "text/plain": [
       "((569, 30), (569,))"
      ]
     },
     "execution_count": 30,
     "metadata": {},
     "output_type": "execute_result"
    }
   ],
   "source": [
    "X = data['data'].values\n",
    "y = data['target'].values\n",
    "X.shape,y.shape"
   ]
  },
  {
   "cell_type": "code",
   "execution_count": 31,
   "metadata": {},
   "outputs": [
    {
     "data": {
      "text/plain": [
       "((426, 30), (143, 30), (426,), (143,))"
      ]
     },
     "execution_count": 31,
     "metadata": {},
     "output_type": "execute_result"
    }
   ],
   "source": [
    "X_train, X_test, y_train, y_test = train_test_split(X, y,test_size=.25,random_state=0,stratify=y)\n",
    "X_train.shape, X_test.shape, y_train.shape, y_test.shape"
   ]
  },
  {
   "cell_type": "code",
   "execution_count": 32,
   "metadata": {},
   "outputs": [
    {
     "data": {
      "text/plain": [
       "{'ccp_alpha': 0.0,\n",
       " 'class_weight': None,\n",
       " 'criterion': 'gini',\n",
       " 'max_depth': None,\n",
       " 'max_features': None,\n",
       " 'max_leaf_nodes': None,\n",
       " 'min_impurity_decrease': 0.0,\n",
       " 'min_impurity_split': None,\n",
       " 'min_samples_leaf': 1,\n",
       " 'min_samples_split': 2,\n",
       " 'min_weight_fraction_leaf': 0.0,\n",
       " 'random_state': 0,\n",
       " 'splitter': 'best'}"
      ]
     },
     "execution_count": 32,
     "metadata": {},
     "output_type": "execute_result"
    }
   ],
   "source": [
    "model = DecisionTreeClassifier(random_state=0)\n",
    "model.get_params()"
   ]
  },
  {
   "cell_type": "code",
   "execution_count": 33,
   "metadata": {},
   "outputs": [
    {
     "name": "stdout",
     "output_type": "stream",
     "text": [
      "dict_keys(['ccp_alphas', 'impurities'])\n",
      "(16,) (16,)\n"
     ]
    },
    {
     "data": {
      "text/plain": [
       "array([0.        , 0.00211268, 0.00232922, 0.00312989, 0.00417319,\n",
       "       0.00435949, 0.00458677, 0.00467527, 0.00515511, 0.00625978,\n",
       "       0.00698636, 0.01384016, 0.0172511 , 0.02253588, 0.02666621,\n",
       "       0.33936051])"
      ]
     },
     "execution_count": 33,
     "metadata": {},
     "output_type": "execute_result"
    }
   ],
   "source": [
    "path = model.cost_complexity_pruning_path(X_train, y_train)\n",
    "ccp_alphas, impurities = path.ccp_alphas, path.impurities\n",
    "\n",
    "print(path.keys())\n",
    "print(ccp_alphas.shape,impurities.shape)\n",
    "ccp_alphas"
   ]
  },
  {
   "cell_type": "markdown",
   "metadata": {},
   "source": [
    "The maximum effective alpha value is removed, because it is the trivial tree with only one node.\n",
    "\n"
   ]
  },
  {
   "cell_type": "code",
   "execution_count": 34,
   "metadata": {},
   "outputs": [
    {
     "data": {
      "image/png": "[encoded data removed]",
      "text/plain": [
       "<Figure size 432x288 with 1 Axes>"
      ]
     },
     "metadata": {
      "needs_background": "light"
     },
     "output_type": "display_data"
    }
   ],
   "source": [
    "fig, ax = plt.subplots()\n",
    "ax.plot(ccp_alphas[:-1], impurities[:-1], marker='o', drawstyle=\"steps-post\")\n",
    "ax.set_xlabel(\"effective alpha\")\n",
    "ax.set_ylabel(\"total impurity of leaves\")\n",
    "ax.set_title(\"Total Impurity vs effective alpha for training set\");"
   ]
  },
  {
   "cell_type": "markdown",
   "metadata": {},
   "source": [
    "#### Train a decision tree using the effective alphas. \n",
    "\n",
    "The last value in ccp_alphas is the alpha value that prunes the whole tree, leaving the last tree with one node.\n",
    "\n"
   ]
  },
  {
   "cell_type": "code",
   "execution_count": 35,
   "metadata": {},
   "outputs": [
    {
     "name": "stdout",
     "output_type": "stream",
     "text": [
      "Number of nodes in the last tree is: 1 with ccp_alpha: 0.3393605055932058\n"
     ]
    }
   ],
   "source": [
    "models = []\n",
    "for ccp_alpha in ccp_alphas:\n",
    "    model = DecisionTreeClassifier(random_state=0, ccp_alpha=ccp_alpha)\n",
    "    model.fit(X_train, y_train)\n",
    "    models.append(model)\n",
    "print(f\"Number of nodes in the last tree is: {models[-1].tree_.node_count} with ccp_alpha: {ccp_alphas[-1]}\")"
   ]
  },
  {
   "cell_type": "markdown",
   "metadata": {},
   "source": [
    "####  Show that the number of nodes and tree depth decreases as alpha increases.\n",
    "\n"
   ]
  },
  {
   "cell_type": "code",
   "execution_count": 36,
   "metadata": {},
   "outputs": [
    {
     "data": {
      "image/png": "[encoded data removed]",
      "text/plain": [
       "<Figure size 432x288 with 2 Axes>"
      ]
     },
     "metadata": {
      "needs_background": "light"
     },
     "output_type": "display_data"
    }
   ],
   "source": [
    "models = models[:-1] # Remove last element because it is the trivial tree with only one node\n",
    "ccp_alphas = ccp_alphas[:-1]\n",
    "\n",
    "node_counts = [m.tree_.node_count for m in models]\n",
    "depth = [m.tree_.max_depth for m in models]\n",
    "fig, ax = plt.subplots(2, 1)\n",
    "ax[0].plot(ccp_alphas, node_counts, marker='o', drawstyle=\"steps-post\")\n",
    "ax[0].set_xlabel(\"alpha\")\n",
    "ax[0].set_ylabel(\"number of nodes\")\n",
    "ax[0].set_title(\"Number of nodes vs alpha\")\n",
    "ax[1].plot(ccp_alphas, depth, marker='o', drawstyle=\"steps-post\")\n",
    "ax[1].set_xlabel(\"alpha\")\n",
    "ax[1].set_ylabel(\"depth of tree\")\n",
    "ax[1].set_title(\"Depth vs alpha\")\n",
    "fig.tight_layout()"
   ]
  },
  {
   "cell_type": "markdown",
   "metadata": {},
   "source": [
    "### Accuracy vs alpha for training and testing sets\n",
    "\n",
    "When ccp_alpha is set to zero and the other parameters are set to their default values the tree overfits with 100% training accuracy and 90% testing accuracy. As alpha increases, more of the tree is pruned which will generalize better.\n"
   ]
  },
  {
   "cell_type": "code",
   "execution_count": 37,
   "metadata": {},
   "outputs": [
    {
     "data": {
      "text/plain": [
       "[DecisionTreeClassifier(random_state=0),\n",
       " DecisionTreeClassifier(ccp_alpha=0.002112676056338029, random_state=0),\n",
       " DecisionTreeClassifier(ccp_alpha=0.002329220802853295, random_state=0),\n",
       " DecisionTreeClassifier(ccp_alpha=0.0031298904538341154, random_state=0),\n",
       " DecisionTreeClassifier(ccp_alpha=0.004173187271778821, random_state=0),\n",
       " DecisionTreeClassifier(ccp_alpha=0.004359490274983234, random_state=0),\n",
       " DecisionTreeClassifier(ccp_alpha=0.0045867732733111104, random_state=0),\n",
       " DecisionTreeClassifier(ccp_alpha=0.004675273865414691, random_state=0),\n",
       " DecisionTreeClassifier(ccp_alpha=0.005155113688667954, random_state=0),\n",
       " DecisionTreeClassifier(ccp_alpha=0.006259780907668231, random_state=0),\n",
       " DecisionTreeClassifier(ccp_alpha=0.0069863626201654375, random_state=0),\n",
       " DecisionTreeClassifier(ccp_alpha=0.013840155945419104, random_state=0),\n",
       " DecisionTreeClassifier(ccp_alpha=0.01725109533725938, random_state=0),\n",
       " DecisionTreeClassifier(ccp_alpha=0.022535883071465004, random_state=0),\n",
       " DecisionTreeClassifier(ccp_alpha=0.02666621312147161, random_state=0)]"
      ]
     },
     "execution_count": 37,
     "metadata": {},
     "output_type": "execute_result"
    }
   ],
   "source": [
    "models"
   ]
  },
  {
   "cell_type": "code",
   "execution_count": 38,
   "metadata": {},
   "outputs": [
    {
     "name": "stdout",
     "output_type": "stream",
     "text": [
      "The best alpha is 0.006259780907668231\n"
     ]
    },
    {
     "data": {
      "image/png": "[encoded data removed]",
      "text/plain": [
       "<Figure size 432x288 with 1 Axes>"
      ]
     },
     "metadata": {
      "needs_background": "light"
     },
     "output_type": "display_data"
    }
   ],
   "source": [
    "train_scores = [m.score(X_train, y_train) for m in models]\n",
    "test_scores = [m.score(X_test, y_test) for m in models]\n",
    "\n",
    "fig, ax = plt.subplots()\n",
    "ax.set_xlabel(\"alpha\")\n",
    "ax.set_ylabel(\"accuracy\")\n",
    "ax.set_title(\"Accuracy vs alpha for training and testing sets\")\n",
    "ax.plot(ccp_alphas, train_scores, marker='o', label=\"train\",\n",
    "        drawstyle=\"steps-post\")\n",
    "ax.plot(ccp_alphas, test_scores, marker='o', label=\"test\",\n",
    "        drawstyle=\"steps-post\")\n",
    "ax.legend()\n",
    "print(f'The best alpha is {ccp_alphas[np.argmax(test_scores)]}')"
   ]
  },
  {
   "cell_type": "markdown",
   "metadata": {},
   "source": [
    "### Reference\n"
   ]
  },
  {
   "cell_type": "markdown",
   "metadata": {},
   "source": [
    "Figures 1 and 2 are taken from \"An Introduction to Statistical Learning, with applications in R\" (Springer, 2013) with permission from the authors: G. James, D. Witten, T. Hastie and R. Tibshirani \""
   ]
  },
  {
   "cell_type": "markdown",
   "metadata": {},
   "source": [
    "## Appendixes"
   ]
  },
  {
   "cell_type": "markdown",
   "metadata": {},
   "source": [
    "### Information Entropy\n",
    " \n",
    "#### Information: The reduction in uncertainty derived from learning an outcome\n",
    "\n",
    "Quantified by  minus the log probability of an event\n",
    "\n",
    "<div style=\"font-size: 125%;\">\n",
    "$$ I = -log_2P(x)$$\n",
    "</div>\n",
    "\n",
    "x is an event, e.g. a coin flip came up heads"
   ]
  },
  {
   "cell_type": "code",
   "execution_count": 39,
   "metadata": {},
   "outputs": [
    {
     "name": "stdout",
     "output_type": "stream",
     "text": [
      "1.0 bit of information\n"
     ]
    }
   ],
   "source": [
    "# Suppose P(X=heads) = 1/2, P(X = tails) = 1/2\n",
    "from math import log\n",
    "\n",
    "I = -log(1/2,2) #Base 2\n",
    "print(\"{} bit of information\".format(I))"
   ]
  },
  {
   "cell_type": "code",
   "execution_count": 40,
   "metadata": {},
   "outputs": [
    {
     "name": "stdout",
     "output_type": "stream",
     "text": [
      "0.4150374992788438 bits of information\n"
     ]
    }
   ],
   "source": [
    "# Suppose P(X=heads) = 3/4, P(X = tails) = 1/4\n",
    "I = -log(3/4,2)\n",
    "print(\"{} bits of information\".format(I))"
   ]
  },
  {
   "cell_type": "markdown",
   "metadata": {},
   "source": [
    "P(x) = 3/4 > P(x) = 1/2, but I = -log(1/2,2) < I = -log(3/4,2)\n",
    "\n",
    "Probability $\\uparrow$ Information $\\downarrow$\n"
   ]
  },
  {
   "cell_type": "markdown",
   "metadata": {},
   "source": [
    "#### Information Entropy is the Average Information\n",
    "\n",
    "Minus the Expected Value of Information\n",
    "Suppose you have a 4-sided die with the probability of tossing a 1 = 1/2, a 2 = 1/4, 3 = 1/8, 4 =  1/8.\n",
    "\n",
    "pmf = (1/2,1/4,1/8,1/8)  \n",
    "\n"
   ]
  },
  {
   "cell_type": "markdown",
   "metadata": {},
   "source": [
    "<div style=\"font-size: 115%;\">\n",
    "$$ Entropy = H = -E(I) = -\\sum_i p(x_i)*log(p(x_i))$$\n",
    "</div>\n",
    "\n",
    "$p(x_i)$ is a PMF\n",
    "  "
   ]
  },
  {
   "cell_type": "code",
   "execution_count": 41,
   "metadata": {},
   "outputs": [
    {
     "name": "stdout",
     "output_type": "stream",
     "text": [
      "Entropy is:  1.75\n"
     ]
    }
   ],
   "source": [
    "print(\"Entropy is: \",-1*(1/2*log(1/2,2) + 1/4*log(1/4,2) + 1/8*log(1/8,2) + 1/8*log(1/8,2)))"
   ]
  },
  {
   "cell_type": "markdown",
   "metadata": {},
   "source": [
    "#### Differential Entropy - Continuous RV\n",
    "\n",
    "<div style=\"font-size: 115%;\">\n",
    "$$Entropy = H = -\\int{p(x)*log(p(x)} dx$$\n",
    "</div>\n",
    "\n",
    "$p(x)$ is a PDF"
   ]
  },
  {
   "cell_type": "markdown",
   "metadata": {},
   "source": [
    "### Minimal Cost-Complexity Pruning \n",
    "\n",
    "Minimal cost-complexity pruning is an algorithm used to prune a tree to avoid over-fitting.\n",
    "\n",
    "Minimal cost complexity pruning recursively finds the node with the \"weakest link\" where the weakest link is characterized by the complexity parameter $\\alpha \\ge 0$ The nodes with the smallest alpha are pruned first. \n",
    "    \n",
    "#### Cost-complexity measure $R_{\\alpha}(T)$ of a given tree T\n",
    "\n",
    "$$R_{\\alpha}(T) = R(T) + \\alpha|T|$$\n",
    "\n",
    "|T|: number of terminal nodes in T  \n",
    "R(T): total sample impurity of the terminal nodes in T  \n",
    "\n",
    "Minimal cost-complexity pruning finds the subtree of T that minimizes $R_{\\alpha}(T)$\n",
    "    \n",
    "#### Effective $\\alpha$\n",
    "\n",
    "The cost complexity measure of a single node is $R_{\\alpha}(t) = R(t) + \\alpha$.\n",
    "\n",
    "The branch $T_t$ is defined to be a tree where node t is the root node.\n",
    "\n",
    "The **effective $\\alpha$** of a node t is when  $R_{\\alpha}(T_t) = R_{\\alpha}(t)$ i.e. when cost complexity measure of a node, t , and its branch $T_t$ are equal:\n",
    "\n",
    "$$ \\alpha_{eff} = \\frac{R(t) - R(T_t)}{|T|-1}$$\n",
    "\n",
    "A non-terminal node with the smallest value of $\\alpha_{eff}$ is the weakest link and will be pruned. \n",
    "\n",
    "Pruning stops when the tree’s minimal $\\alpha_{eff}$ is greater than the ccp_alpha parameter in sklearn.\n",
    "\n"
   ]
  },
  {
   "cell_type": "code",
   "execution_count": null,
   "metadata": {},
   "outputs": [],
   "source": []
  },
  {
   "cell_type": "code",
   "execution_count": null,
   "metadata": {},
   "outputs": [],
   "source": []
  },
  {
   "cell_type": "code",
   "execution_count": null,
   "metadata": {},
   "outputs": [],
   "source": []
  }
 ],
 "metadata": {
  "kernelspec": {
   "display_name": "Python 3 (ipykernel)",
   "language": "python",
   "name": "python3"
  },
  "language_info": {
   "codemirror_mode": {
    "name": "ipython",
    "version": 3
   },
   "file_extension": ".py",
   "mimetype": "text/x-python",
   "name": "python",
   "nbconvert_exporter": "python",
   "pygments_lexer": "ipython3",
   "version": "3.8.11"
  },
  "varInspector": {
   "cols": {
    "lenName": 16,
    "lenType": 16,
    "lenVar": 40
   },
   "kernels_config": {
    "python": {
     "delete_cmd_postfix": "",
     "delete_cmd_prefix": "del ",
     "library": "var_list.py",
     "varRefreshCmd": "print(var_dic_list())"
    },
    "r": {
     "delete_cmd_postfix": ") ",
     "delete_cmd_prefix": "rm(",
     "library": "var_list.r",
     "varRefreshCmd": "cat(var_dic_list()) "
    }
   },
   "position": {
    "height": "302px",
    "left": "996px",
    "right": "20px",
    "top": "120px",
    "width": "350px"
   },
   "types_to_exclude": [
    "module",
    "function",
    "builtin_function_or_method",
    "instance",
    "_Feature"
   ],
   "window_display": false
  }
 },
 "nbformat": 4,
 "nbformat_minor": 4
}
