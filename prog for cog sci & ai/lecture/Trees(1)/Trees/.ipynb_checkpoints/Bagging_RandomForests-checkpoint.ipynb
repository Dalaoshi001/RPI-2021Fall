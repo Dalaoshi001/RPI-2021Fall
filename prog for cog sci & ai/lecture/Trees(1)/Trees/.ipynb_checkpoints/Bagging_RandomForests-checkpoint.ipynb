{
 "cells": [
  {
   "cell_type": "code",
   "execution_count": 2,
   "metadata": {},
   "outputs": [],
   "source": [
    "import warnings\n",
    "warnings.simplefilter(action='ignore', category=FutureWarning)\n",
    "warnings.simplefilter(action='ignore', category=UserWarning)\n",
    "\n",
    "import numpy as np\n",
    "import pandas as pd\n",
    "from scipy import stats\n",
    "import seaborn as sns\n",
    "import matplotlib.pyplot as plt\n",
    "%matplotlib inline"
   ]
  },
  {
   "cell_type": "code",
   "execution_count": null,
   "metadata": {},
   "outputs": [],
   "source": [
    "from sklearn.model_selection import train_test_split\n",
    "from sklearn.metrics import confusion_matrix"
   ]
  },
  {
   "cell_type": "markdown",
   "metadata": {},
   "source": [
    "## Ensemble Methods\n",
    "\n",
    "* Combine models to improve predication/classification performance of a learning method \n",
    "    - Overcome overfitting and stability problem of decision trees\n",
    "* Generate many models that learn independently and then combine into a single prediction/classification\n",
    "* They are general purpose methods that can be applied to any type of learning model\n",
    "* They have been very successful when applied to trees\n",
    "* Methods\n",
    "    * Bagging/Random Forests\n",
    "    * Boosting"
   ]
  },
  {
   "cell_type": "markdown",
   "metadata": {},
   "source": [
    "## The Bootstrap\n",
    "\n",
    "* Bradley Efron, 1979\n",
    "\n",
    "* Widely applicable method to quantify uncertainty associated with a given estimator or learning method\n",
    "    - e.g. estimate standard error of coefficients in linear regression\n",
    "    - Used when measure of variability is difficult to obtain\n",
    "    - It does not improve the point estimate of a parameter\n",
    "\n",
    "* Often we are not able to keep getting different samples of the population.\n",
    "    - Can use the Bootstrap to \"simulate the different samples\" "
   ]
  },
  {
   "cell_type": "code",
   "execution_count": null,
   "metadata": {},
   "outputs": [],
   "source": [
    "from sklearn.utils import resample\n",
    "np.random.seed(1234)\n",
    "\n",
    "N = 10000\n",
    "sample_size = 100\n",
    "\n",
    "# Sampling distribution of the mean\n",
    "\n",
    "dist1 = [np.mean(stats.norm.rvs(size = sample_size)) for i in range(N)] # N samples of size 100\n",
    "\n",
    "X = norm.rvs(size = sample_size)\n",
    "dist2 = [np.mean(resample(X)) for i in range(N)] # 1 sample of size 100, resampled N timesfrom sklearn.utils import resample\n",
    "np.random.seed(1234)\n",
    "\n"
   ]
  },
  {
   "cell_type": "code",
   "execution_count": null,
   "metadata": {},
   "outputs": [],
   "source": [
    "fig,(ax1,ax2) = plt.subplots(1,2,figsize=(10,4))\n",
    "sns.distplot(dist1,ax=ax1)\n",
    "sns.distplot(dist2,ax=ax2);"
   ]
  },
  {
   "cell_type": "markdown",
   "metadata": {},
   "source": [
    "##  Bagging (Bootstrap Aggregation)\n",
    " \n",
    "* General-purpose procedure for reducing the variance of a statistical learning method\n",
    "    - Used with decision trees to improve prediction accuracy\n",
    "        - Grow full trees which will have low bias and high variance\n",
    "        - Average the results to reduce the variance\n",
    "    - Averaging independent training sets reduces the variance\n",
    "       \n",
    "    \n",
    "$$ \\text{Let }Z_1,Z_2,...,Z_n\\text{ be a set of n independent observations each with variance }\\sigma^2$$\n",
    "$$Var(\\bar{Z}) = \\frac{\\sigma^2}{n}$$\n",
    " "
   ]
  },
  {
   "cell_type": "code",
   "execution_count": 73,
   "metadata": {},
   "outputs": [
    {
     "name": "stdout",
     "output_type": "stream",
     "text": [
      "Variance of 10 observations with variance of 100 is 9.849991509472208\n",
      "Variance of 100 observations with variance of 100 is 1.0748006644954218\n"
     ]
    }
   ],
   "source": [
    "np.random.seed(42)\n",
    "from scipy.stats import norm\n",
    "def calc_var(n,v):\n",
    "    X = [norm.rvs(0,np.sqrt(v),size = n) for i in range(1000)]\n",
    "    v_ = np.var([np.mean(x) for x in X])\n",
    "    print(f'Variance of {n} observations with variance of {v} is {v_}')\n",
    "\n",
    "calc_var(10,100)\n",
    "calc_var(100,100)\n"
   ]
  },
  {
   "cell_type": "markdown",
   "metadata": {},
   "source": [
    "### Variance in Decision Trees"
   ]
  },
  {
   "cell_type": "markdown",
   "metadata": {},
   "source": [
    "#### Generate some data"
   ]
  },
  {
   "cell_type": "code",
   "execution_count": 74,
   "metadata": {},
   "outputs": [
    {
     "data": {
      "text/plain": [
       "(60, 3)"
      ]
     },
     "execution_count": 74,
     "metadata": {},
     "output_type": "execute_result"
    },
    {
     "data": {
      "image/png": "[encoded data removed]",
      "text/plain": [
       "<Figure size 432x288 with 1 Axes>"
      ]
     },
     "metadata": {},
     "output_type": "display_data"
    }
   ],
   "source": [
    "np.random.seed(42)\n",
    "# Generate some nonlinear data\n",
    "x = np.array([i*np.pi/180 for i in range(60,300,4)]) # radians 60-300 degrees\n",
    "y = np.sin(x) + np.random.normal(0,0.15,len(x)) # Add some noise to sin function\n",
    "plt.plot(x,y,'o')\n",
    "\n",
    "X = np.array([x**(n+1) for n in range(3)]).T # 3rd-degree polynomial\n",
    "# Rows of Nth degree polynomial for 60 data points on the x-axis\n",
    "X.shape"
   ]
  },
  {
   "cell_type": "markdown",
   "metadata": {},
   "source": [
    "#### Variance in trees versus linear regression"
   ]
  },
  {
   "cell_type": "code",
   "execution_count": 75,
   "metadata": {},
   "outputs": [],
   "source": [
    "dt = tree.DecisionTreeRegressor(random_state = 1234)\n",
    "from sklearn.linear_model import LinearRegression\n",
    "lr = LinearRegression()"
   ]
  },
  {
   "cell_type": "markdown",
   "metadata": {},
   "source": [
    "#### Show that trees are sensitive to small changes in the data\n",
    "\n",
    "* Predict x = 3.5 for different datasets (i.e. different y generated for each iteration\n",
    "* Compare trees to linear regression"
   ]
  },
  {
   "cell_type": "code",
   "execution_count": 76,
   "metadata": {},
   "outputs": [],
   "source": [
    "x_pred = np.array([3.5,3.5**2,3.5**3]).reshape(1,3)\n",
    "N = 10\n",
    "yhats = []\n",
    "yhats_lr = []\n",
    "mses = []\n",
    "mses_lr = []\n",
    "y_ = y\n",
    "for i in range(1,N):\n",
    "    dt.fit(X, y_)\n",
    "    lr.fit(X,y_)\n",
    "    yhats.append(dt.predict(x_pred))\n",
    "    yhats_lr.append(lr.predict(x_pred))\n",
    "    mses.append(np.mean(y_ - yhats)**2)\n",
    "    mses_lr.append(np.mean(y_ - yhats_lr)**2)\n",
    "    y_ = np.sin(x) + np.random.normal(0,0.15,len(y)) # new sample data\n",
    "    "
   ]
  },
  {
   "cell_type": "code",
   "execution_count": 77,
   "metadata": {},
   "outputs": [
    {
     "data": {
      "text/plain": [
       "<matplotlib.legend.Legend at 0x1a221ed5f8>"
      ]
     },
     "execution_count": 77,
     "metadata": {},
     "output_type": "execute_result"
    },
    {
     "data": {
      "image/png": "[encoded data removed]",
      "text/plain": [
       "<Figure size 432x288 with 1 Axes>"
      ]
     },
     "metadata": {},
     "output_type": "display_data"
    }
   ],
   "source": [
    "plt.plot(range(len(mses)),mses)\n",
    "plt.plot(range(len(mses_lr)),mses_lr)\n",
    "plt.legend(('trees','linear regression'))"
   ]
  },
  {
   "cell_type": "code",
   "execution_count": 78,
   "metadata": {},
   "outputs": [
    {
     "data": {
      "text/plain": [
       "<matplotlib.legend.Legend at 0x1a2217a208>"
      ]
     },
     "execution_count": 78,
     "metadata": {},
     "output_type": "execute_result"
    },
    {
     "data": {
      "image/png": "[encoded data removed]",
      "text/plain": [
       "<Figure size 432x288 with 1 Axes>"
      ]
     },
     "metadata": {},
     "output_type": "display_data"
    }
   ],
   "source": [
    "\n",
    "plt.plot([3.5]*len(yhats),yhats,'ro')\n",
    "plt.plot([3.5]*len(yhats_lr),yhats_lr,'bo')\n",
    "plt.ylim((-.5,0))\n",
    "plt.legend(('trees','linear regression'))"
   ]
  },
  {
   "cell_type": "markdown",
   "metadata": {},
   "source": [
    "### Bagging method  \n",
    " \n",
    "* Since don't generally have access to independent training sets, use bootstrap on single training set\n",
    "* Generate B different bootstrapped training data sets\n",
    "* Train our method on the bth bootstrapped training to get a prediction\n",
    " \n",
    "#### For regression trees\n",
    " \n",
    "* Average the predictions\n",
    "$$\\hat{f}_{bag}(x) = \\frac{1}{B}\\sum_{b=1}^B\\hat{f}^{*b}(x)$$\n",
    " \n",
    "* where $\\hat{f}^{*b}(x)$ is the prediction at point x\n",
    "\n",
    "#### For classification trees\n",
    "\n",
    "* For each test observation record the class predicted by each if the B trees\n",
    "* Take a majority vote\n",
    "\n",
    "#### Out-of-bag (OOB) Error estimation\n",
    "  \n",
    "* Natural way to estimate test error without a validation set or cross-validation\n",
    "* Each bagged tree makes use of around two-thirds of the observations.\n",
    "* Out-of-bag observations: the remaining one-third\n",
    "* Predict the response for the ith observation using each of the trees in which that observation was OOB. \n",
    "* Average the apporximately B/3 predictions for the ith observation\n",
    "    - essentially the LOO cross-validation error for bagging\n",
    " \n",
    "#### Variable Importance\n",
    " \n",
    "* Aggregation improves prediction accuracy but makes interpretability harder\n",
    "* But can obtain an overall summary of the importance of each predictor\n",
    "* For regression: Average the total amount that the MSE or MAE is decreased due to splits over a given predictor\n",
    "    - a large value indicates an important predictor. \n",
    "* For classification: Use Gini or Entropy instead of MSE or MAE\n",
    " \n",
    "### Bagging will be a special case of Random Forests\n",
    " \n",
    "* Uses same function as Random Forest using all the predictors\n",
    "    "
   ]
  },
  {
   "cell_type": "markdown",
   "metadata": {},
   "source": [
    "### Bagging in sklearn\n",
    "\n",
    "http://scikit-learn.org/stable/modules/generated/sklearn.ensemble.RandomForestRegressor.html"
   ]
  },
  {
   "cell_type": "markdown",
   "metadata": {},
   "source": [
    "#### Compare Variance of bagged trees to regular decision trees"
   ]
  },
  {
   "cell_type": "code",
   "execution_count": 79,
   "metadata": {},
   "outputs": [],
   "source": [
    "from sklearn.ensemble import RandomForestRegressor\n",
    "from sklearn.ensemble import BaggingRegressor\n",
    "\n",
    "#bt = RandomForestRegressor(n_estimators = 10, random_state = 1234)\n",
    "bt = BaggingRegressor(n_estimators = 10, random_state = 1234)"
   ]
  },
  {
   "cell_type": "code",
   "execution_count": 80,
   "metadata": {},
   "outputs": [],
   "source": [
    "N = 10\n",
    "yhats = []\n",
    "yhats_bt = []\n",
    "mses = []\n",
    "mses_bt = []\n",
    "y_ = y\n",
    "for i in range(1,N):\n",
    "    dt.fit(X, y_)\n",
    "    bt.fit(X,y_)\n",
    "    yhats.append(dt.predict(x_pred))\n",
    "    yhats_bt.append(bt.predict(x_pred))\n",
    "    mses.append(np.mean(y_ - yhats)**2)\n",
    "    mses_bt.append(np.mean(y_ - yhats_bt)**2)\n",
    "    y_ = np.sin(x) + np.random.normal(0,0.15,len(y)) # new sample data\n",
    "    "
   ]
  },
  {
   "cell_type": "code",
   "execution_count": 81,
   "metadata": {},
   "outputs": [
    {
     "data": {
      "text/plain": [
       "3"
      ]
     },
     "execution_count": 81,
     "metadata": {},
     "output_type": "execute_result"
    }
   ],
   "source": [
    "bt.n_features_"
   ]
  },
  {
   "cell_type": "code",
   "execution_count": 82,
   "metadata": {},
   "outputs": [
    {
     "data": {
      "text/plain": [
       "<matplotlib.legend.Legend at 0x1a223137f0>"
      ]
     },
     "execution_count": 82,
     "metadata": {},
     "output_type": "execute_result"
    },
    {
     "data": {
      "image/png": "[encoded data removed]",
      "text/plain": [
       "<Figure size 432x288 with 1 Axes>"
      ]
     },
     "metadata": {},
     "output_type": "display_data"
    }
   ],
   "source": [
    "plt.plot(range(len(mses)),mses)\n",
    "plt.plot(range(len(mses_bt)),mses_bt)\n",
    "plt.legend(('Decision Tree','Bagged Tree'))"
   ]
  },
  {
   "cell_type": "code",
   "execution_count": 83,
   "metadata": {},
   "outputs": [
    {
     "data": {
      "text/plain": [
       "Text(0, 0.5, 'y')"
      ]
     },
     "execution_count": 83,
     "metadata": {},
     "output_type": "execute_result"
    },
    {
     "data": {
      "image/png": "[encoded data removed]",
      "text/plain": [
       "<Figure size 432x288 with 1 Axes>"
      ]
     },
     "metadata": {},
     "output_type": "display_data"
    }
   ],
   "source": [
    "plt.plot([3.5]*len(yhats),yhats,'ro')\n",
    "plt.plot([3.5]*len(yhats_bt),yhats_bt,'bo')\n",
    "plt.ylim((-.5,0))\n",
    "plt.legend(('Decision Tree','Bagged Tree'))\n",
    "plt.title(\"Estimates for y at fixed x = 3.5\")\n",
    "plt.xlabel(\"X\")\n",
    "plt.ylabel(\"y\")"
   ]
  },
  {
   "cell_type": "markdown",
   "metadata": {},
   "source": [
    "#### Bagged tree regression  on Boston data"
   ]
  },
  {
   "cell_type": "code",
   "execution_count": 37,
   "metadata": {},
   "outputs": [],
   "source": [
    "Boston = pd.read_csv(\"Boston.csv\")\n",
    "X = Boston.iloc[:, 0:13].values\n",
    "y = Boston.iloc[:, 13].values\n",
    "\n",
    "# Validation Set\n",
    "X_train, X_test, y_train, y_test = train_test_split(X, y, test_size = 0.25, random_state = 0)"
   ]
  },
  {
   "cell_type": "code",
   "execution_count": 38,
   "metadata": {},
   "outputs": [
    {
     "name": "stdout",
     "output_type": "stream",
     "text": [
      "Test error is:  16.20590718110237\n"
     ]
    }
   ],
   "source": [
    "from sklearn.ensemble import RandomForestRegressor\n",
    "# Fit random Forest to Training data\n",
    "rf = RandomForestRegressor(n_estimators = 100, max_features = 13,random_state = 1234)\n",
    "rf.fit(X_train, y_train)\n",
    "\n",
    "# Predict the Test data\n",
    "y_pred = rf.predict(X_test)\n",
    "mse = np.mean((y_pred - y_test)**2)\n",
    "print(\"Test error is: \",mse)"
   ]
  },
  {
   "cell_type": "markdown",
   "metadata": {},
   "source": [
    "## Random Forests\n",
    " \n",
    "* Improvement over bagged trees by way of a small tweak that decorrelates the trees. \n",
    " \n",
    "    - This reduces the variance when we average the trees.\n",
    " \n",
    "* Each time a split in a tree is considered, a random selection of m predictors is chosen as split candidates from the full set of p predictors. \n",
    " \n",
    "    - For Classification, choose $m \\approx{\\sqrt{p}}$\n",
    " \n",
    "    - For Regression p / 3\n",
    " "
   ]
  },
  {
   "cell_type": "markdown",
   "metadata": {},
   "source": [
    "### Random Forest Regression in sklearn\n",
    "\n",
    "http://scikit-learn.org/stable/modules/generated/sklearn.ensemble.RandomForestRegressor.html"
   ]
  },
  {
   "cell_type": "code",
   "execution_count": 39,
   "metadata": {},
   "outputs": [],
   "source": [
    "Boston = pd.read_csv(\"Boston.csv\")\n",
    "X = Boston.iloc[:, 0:13].values\n",
    "y = Boston.iloc[:, 13].values\n",
    "feats = Boston.columns.tolist()[0:13]\n",
    "\n",
    "# Validation Set\n",
    "X_train, X_test, y_train, y_test = train_test_split(X, y, test_size = 0.25, random_state = 42)"
   ]
  },
  {
   "cell_type": "code",
   "execution_count": 40,
   "metadata": {},
   "outputs": [
    {
     "data": {
      "text/plain": [
       "RandomForestRegressor(bootstrap=True, criterion='mse', max_depth=None,\n",
       "           max_features=4, max_leaf_nodes=None, min_impurity_decrease=0.0,\n",
       "           min_impurity_split=None, min_samples_leaf=1,\n",
       "           min_samples_split=2, min_weight_fraction_leaf=0.0,\n",
       "           n_estimators=100, n_jobs=1, oob_score=False, random_state=1234,\n",
       "           verbose=0, warm_start=False)"
      ]
     },
     "execution_count": 40,
     "metadata": {},
     "output_type": "execute_result"
    }
   ],
   "source": [
    "# Fit random Forest to Training data\n",
    "# For regression use p/3 predictors\n",
    "rf = RandomForestRegressor(n_estimators = 100, max_features = 4, random_state = 1234)\n",
    "rf.fit(X_train, y_train)"
   ]
  },
  {
   "cell_type": "code",
   "execution_count": 41,
   "metadata": {},
   "outputs": [
    {
     "name": "stdout",
     "output_type": "stream",
     "text": [
      "Test error is:  10.309798960629916\n",
      "Feature Importances:  [0.06071798 0.00748343 0.06457682 0.00847233 0.07352527 0.28819825\n",
      " 0.02399655 0.05897283 0.00793398 0.02859561 0.06157639 0.0217485\n",
      " 0.29420205]\n"
     ]
    }
   ],
   "source": [
    "# Predict the Test data\n",
    "y_pred = rf.predict(X_test)\n",
    "mse = np.mean((y_pred - y_test)**2)\n",
    "print(\"Test error is: \",mse)\n",
    "var_import = rf.feature_importances_\n",
    "print(\"Feature Importances: \",var_import)"
   ]
  },
  {
   "cell_type": "code",
   "execution_count": 42,
   "metadata": {},
   "outputs": [
    {
     "name": "stdout",
     "output_type": "stream",
     "text": [
      "lstat \t 0.294\n",
      "rm \t 0.288\n",
      "nox \t 0.074\n",
      "indus \t 0.065\n",
      "ptratio \t 0.062\n",
      "crim \t 0.061\n",
      "dis \t 0.059\n",
      "tax \t 0.029\n",
      "age \t 0.024\n",
      "black \t 0.022\n",
      "chas \t 0.008\n",
      "rad \t 0.008\n",
      "zn \t 0.007\n"
     ]
    }
   ],
   "source": [
    "pairs = [(var_import[i], feats[i]) for i in range(len(feats))]\n",
    "# Sort from high to low\n",
    "pairs.sort(reverse=True)\n",
    "for val,feat in pairs:\n",
    "    print(feat,'\\t',round(val,3))"
   ]
  },
  {
   "cell_type": "markdown",
   "metadata": {},
   "source": [
    "### Random Forest Classification in sklearn\n",
    "\n",
    "http://scikit-learn.org/stable/modules/generated/sklearn.ensemble.RandomForestClassifier.html"
   ]
  },
  {
   "cell_type": "code",
   "execution_count": 43,
   "metadata": {},
   "outputs": [
    {
     "name": "stdout",
     "output_type": "stream",
     "text": [
      "13\n"
     ]
    },
    {
     "data": {
      "text/html": [
       "<div>\n",
       "<style scoped>\n",
       "    .dataframe tbody tr th:only-of-type {\n",
       "        vertical-align: middle;\n",
       "    }\n",
       "\n",
       "    .dataframe tbody tr th {\n",
       "        vertical-align: top;\n",
       "    }\n",
       "\n",
       "    .dataframe thead th {\n",
       "        text-align: right;\n",
       "    }\n",
       "</style>\n",
       "<table border=\"1\" class=\"dataframe\">\n",
       "  <thead>\n",
       "    <tr style=\"text-align: right;\">\n",
       "      <th></th>\n",
       "      <th>Alcohol</th>\n",
       "      <th>Malic_Acid</th>\n",
       "      <th>Ash</th>\n",
       "      <th>Ash_Alcanity</th>\n",
       "      <th>Magnesium</th>\n",
       "      <th>Total_Phenols</th>\n",
       "      <th>Flavanoids</th>\n",
       "      <th>Nonflavanoid_Phenols</th>\n",
       "      <th>Proanthocyanins</th>\n",
       "      <th>Color_Intensity</th>\n",
       "      <th>Hue</th>\n",
       "      <th>OD280</th>\n",
       "      <th>Proline</th>\n",
       "      <th>Customer_Segment</th>\n",
       "    </tr>\n",
       "  </thead>\n",
       "  <tbody>\n",
       "    <tr>\n",
       "      <th>0</th>\n",
       "      <td>14.23</td>\n",
       "      <td>1.71</td>\n",
       "      <td>2.43</td>\n",
       "      <td>15.6</td>\n",
       "      <td>127</td>\n",
       "      <td>2.80</td>\n",
       "      <td>3.06</td>\n",
       "      <td>0.28</td>\n",
       "      <td>2.29</td>\n",
       "      <td>5.64</td>\n",
       "      <td>1.04</td>\n",
       "      <td>3.92</td>\n",
       "      <td>1065</td>\n",
       "      <td>1</td>\n",
       "    </tr>\n",
       "    <tr>\n",
       "      <th>1</th>\n",
       "      <td>13.20</td>\n",
       "      <td>1.78</td>\n",
       "      <td>2.14</td>\n",
       "      <td>11.2</td>\n",
       "      <td>100</td>\n",
       "      <td>2.65</td>\n",
       "      <td>2.76</td>\n",
       "      <td>0.26</td>\n",
       "      <td>1.28</td>\n",
       "      <td>4.38</td>\n",
       "      <td>1.05</td>\n",
       "      <td>3.40</td>\n",
       "      <td>1050</td>\n",
       "      <td>1</td>\n",
       "    </tr>\n",
       "    <tr>\n",
       "      <th>2</th>\n",
       "      <td>13.16</td>\n",
       "      <td>2.36</td>\n",
       "      <td>2.67</td>\n",
       "      <td>18.6</td>\n",
       "      <td>101</td>\n",
       "      <td>2.80</td>\n",
       "      <td>3.24</td>\n",
       "      <td>0.30</td>\n",
       "      <td>2.81</td>\n",
       "      <td>5.68</td>\n",
       "      <td>1.03</td>\n",
       "      <td>3.17</td>\n",
       "      <td>1185</td>\n",
       "      <td>1</td>\n",
       "    </tr>\n",
       "    <tr>\n",
       "      <th>3</th>\n",
       "      <td>14.37</td>\n",
       "      <td>1.95</td>\n",
       "      <td>2.50</td>\n",
       "      <td>16.8</td>\n",
       "      <td>113</td>\n",
       "      <td>3.85</td>\n",
       "      <td>3.49</td>\n",
       "      <td>0.24</td>\n",
       "      <td>2.18</td>\n",
       "      <td>7.80</td>\n",
       "      <td>0.86</td>\n",
       "      <td>3.45</td>\n",
       "      <td>1480</td>\n",
       "      <td>1</td>\n",
       "    </tr>\n",
       "    <tr>\n",
       "      <th>4</th>\n",
       "      <td>13.24</td>\n",
       "      <td>2.59</td>\n",
       "      <td>2.87</td>\n",
       "      <td>21.0</td>\n",
       "      <td>118</td>\n",
       "      <td>2.80</td>\n",
       "      <td>2.69</td>\n",
       "      <td>0.39</td>\n",
       "      <td>1.82</td>\n",
       "      <td>4.32</td>\n",
       "      <td>1.04</td>\n",
       "      <td>2.93</td>\n",
       "      <td>735</td>\n",
       "      <td>1</td>\n",
       "    </tr>\n",
       "  </tbody>\n",
       "</table>\n",
       "</div>"
      ],
      "text/plain": [
       "   Alcohol  Malic_Acid   Ash  Ash_Alcanity  Magnesium  Total_Phenols  \\\n",
       "0    14.23        1.71  2.43          15.6        127           2.80   \n",
       "1    13.20        1.78  2.14          11.2        100           2.65   \n",
       "2    13.16        2.36  2.67          18.6        101           2.80   \n",
       "3    14.37        1.95  2.50          16.8        113           3.85   \n",
       "4    13.24        2.59  2.87          21.0        118           2.80   \n",
       "\n",
       "   Flavanoids  Nonflavanoid_Phenols  Proanthocyanins  Color_Intensity   Hue  \\\n",
       "0        3.06                  0.28             2.29             5.64  1.04   \n",
       "1        2.76                  0.26             1.28             4.38  1.05   \n",
       "2        3.24                  0.30             2.81             5.68  1.03   \n",
       "3        3.49                  0.24             2.18             7.80  0.86   \n",
       "4        2.69                  0.39             1.82             4.32  1.04   \n",
       "\n",
       "   OD280  Proline  Customer_Segment  \n",
       "0   3.92     1065                 1  \n",
       "1   3.40     1050                 1  \n",
       "2   3.17     1185                 1  \n",
       "3   3.45     1480                 1  \n",
       "4   2.93      735                 1  "
      ]
     },
     "execution_count": 43,
     "metadata": {},
     "output_type": "execute_result"
    }
   ],
   "source": [
    "# Random Forest Classification\n",
    "\n",
    "Wine = pd.read_csv(\"Wine.csv\")\n",
    "feats = Wine.columns[0:-1]\n",
    "print(len(feats))\n",
    "Wine.head()"
   ]
  },
  {
   "cell_type": "code",
   "execution_count": 44,
   "metadata": {},
   "outputs": [],
   "source": [
    "X = Wine.iloc[:, 0:13].values\n",
    "y = Wine.iloc[:, 13].values\n",
    "X_train, X_test, y_train, y_test = train_test_split(X, y, stratify=y, test_size = 0.25, random_state = 1234)"
   ]
  },
  {
   "cell_type": "code",
   "execution_count": 45,
   "metadata": {},
   "outputs": [
    {
     "data": {
      "text/plain": [
       "RandomForestClassifier(bootstrap=True, class_weight=None, criterion='gini',\n",
       "            max_depth=None, max_features='auto', max_leaf_nodes=None,\n",
       "            min_impurity_decrease=0.0, min_impurity_split=None,\n",
       "            min_samples_leaf=1, min_samples_split=2,\n",
       "            min_weight_fraction_leaf=0.0, n_estimators=10, n_jobs=1,\n",
       "            oob_score=False, random_state=1234, verbose=0,\n",
       "            warm_start=False)"
      ]
     },
     "execution_count": 45,
     "metadata": {},
     "output_type": "execute_result"
    }
   ],
   "source": [
    "from sklearn.ensemble import RandomForestClassifier\n",
    "rfc = RandomForestClassifier(n_estimators = 10, criterion = 'gini', random_state = 1234)\n",
    "rfc.fit(X_train, y_train)"
   ]
  },
  {
   "cell_type": "code",
   "execution_count": 46,
   "metadata": {},
   "outputs": [
    {
     "name": "stdout",
     "output_type": "stream",
     "text": [
      "Accuracy is:  0.9555555555555556\n"
     ]
    }
   ],
   "source": [
    "# Predict the test data\n",
    "y_pred = rfc.predict(X_test)\n",
    "\n",
    "# Make the Confusion Matrix and calculate accuracy\n",
    "cm = confusion_matrix(y_test, y_pred)\n",
    "cm\n",
    "accuracy = np.trace(cm)/np.sum(cm)\n",
    "print(\"Accuracy is: \", accuracy)\n",
    "\n"
   ]
  },
  {
   "cell_type": "code",
   "execution_count": 47,
   "metadata": {},
   "outputs": [
    {
     "name": "stdout",
     "output_type": "stream",
     "text": [
      "Proline \t 0.294\n",
      "Total_Phenols \t 0.288\n",
      "Magnesium \t 0.074\n",
      "Ash \t 0.065\n",
      "Hue \t 0.062\n",
      "Alcohol \t 0.061\n",
      "Nonflavanoid_Phenols \t 0.059\n",
      "Color_Intensity \t 0.029\n",
      "Flavanoids \t 0.024\n",
      "OD280 \t 0.022\n",
      "Ash_Alcanity \t 0.008\n",
      "Proanthocyanins \t 0.008\n",
      "Malic_Acid \t 0.007\n"
     ]
    }
   ],
   "source": [
    "val_imort = rfc.feature_importances_\n",
    "pairs = [(var_import[i], feats[i]) for i in range(len(feats))]\n",
    "# Sort from high to low\n",
    "pairs.sort(reverse=True)\n",
    "for val,feat in pairs:\n",
    "    print(feat,'\\t',round(val,3))"
   ]
  }
 ],
 "metadata": {
  "kernelspec": {
   "display_name": "Python 3",
   "language": "python",
   "name": "python3"
  },
  "language_info": {
   "codemirror_mode": {
    "name": "ipython",
    "version": 3
   },
   "file_extension": ".py",
   "mimetype": "text/x-python",
   "name": "python",
   "nbconvert_exporter": "python",
   "pygments_lexer": "ipython3",
   "version": "3.7.3"
  },
  "varInspector": {
   "cols": {
    "lenName": 16,
    "lenType": 16,
    "lenVar": 40
   },
   "kernels_config": {
    "python": {
     "delete_cmd_postfix": "",
     "delete_cmd_prefix": "del ",
     "library": "var_list.py",
     "varRefreshCmd": "print(var_dic_list())"
    },
    "r": {
     "delete_cmd_postfix": ") ",
     "delete_cmd_prefix": "rm(",
     "library": "var_list.r",
     "varRefreshCmd": "cat(var_dic_list()) "
    }
   },
   "types_to_exclude": [
    "module",
    "function",
    "builtin_function_or_method",
    "instance",
    "_Feature"
   ],
   "window_display": false
  }
 },
 "nbformat": 4,
 "nbformat_minor": 2
}
