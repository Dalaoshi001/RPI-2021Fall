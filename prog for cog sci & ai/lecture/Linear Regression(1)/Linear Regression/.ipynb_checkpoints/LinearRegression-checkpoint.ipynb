{
 "cells": [
  {
   "cell_type": "code",
   "execution_count": 1,
   "metadata": {},
   "outputs": [],
   "source": [
    "import warnings\n",
    "warnings.simplefilter(action='ignore', category=FutureWarning)\n",
    "warnings.simplefilter(action='ignore', category=UserWarning)\n",
    "\n",
    "import numpy as np\n",
    "import pandas as pd\n",
    "from scipy import stats\n",
    "import seaborn as sns\n",
    "import matplotlib.pyplot as plt\n",
    "%matplotlib inline"
   ]
  },
  {
   "cell_type": "code",
   "execution_count": 2,
   "metadata": {},
   "outputs": [],
   "source": [
    "from sklearn.preprocessing import LabelEncoder,OneHotEncoder,StandardScaler,MinMaxScaler\n",
    "from sklearn.model_selection import train_test_split\n",
    "from sklearn.linear_model import LinearRegression\n",
    "from sklearn.metrics import r2_score,mean_squared_error"
   ]
  },
  {
   "cell_type": "markdown",
   "metadata": {},
   "source": [
    "# Linear Regression\n",
    "\n",
    "Linear Regression is the oldest data analysis method, one of the simplest and one that is widely used. It is important because\n",
    "it is the basis of many more recent and complex learning methods.\n",
    "\n",
    "It predicts the quantitative (continuous real-valued, $\\in R^1$) response (Y) as a linear function of one or more features (X). \n",
    "e.g. height as a function of weight, temperature as a function of pressure.\n",
    "\n",
    "#### Linear Regression Model (single feature)\n",
    "\n",
    "Setup: **Data** ${((x_0,y_0),(x_1,y_1),...,(x_n,y_n)}, x_i \\in R^d, y \\in R$, n is the number of observations (i.e. samples)  \n",
    "\n",
    "\n",
    "The expected value of Y given X as a linear function of X (i.e. a line)  \n",
    "\n",
    "<div style=\"font-size: 125%;\">\n",
    "    \n",
    "$$ E[Y|X] = f(X) = b_0 + b_1X$$\n",
    "</div>\n",
    "\n",
    "#### Uses\n",
    "\n",
    "We use Linear Regression to:\n",
    "\n",
    "* Explain the relationship between response variable and feature variable(s).\n",
    "What is the Strength of association (i.e. the correlation)?  How much of the variance of the response can be explained by the predictors?  \n",
    "* Predict the response variable from the feature variables\n",
    "\n",
    "#### Types\n",
    "\n",
    "**Simple** Linear Regression has a single quantitative feature.\n",
    "\n",
    "**Multivariate** Regression has two or more features. They can be quantitative or categorical features.  \n",
    "\n",
    "**Polynomial** Regression has Polynomial terms of single feature.\n"
   ]
  },
  {
   "cell_type": "markdown",
   "metadata": {},
   "source": [
    "\n",
    "## Simple Linear Regression\n",
    "\n",
    "The Dependent variable (response, outcome variable) y is a function of a single independent (feature, predictor) variable x, y = mx + b, where m is the slope and b is the intercept: $y,x,b \\in R$\n",
    "\n",
    "Does y increase or decrease as x increases or decreases and by how much?\n"
   ]
  },
  {
   "cell_type": "code",
   "execution_count": 52,
   "metadata": {},
   "outputs": [
    {
     "data": {
      "text/html": [
       "<div>\n",
       "<style scoped>\n",
       "    .dataframe tbody tr th:only-of-type {\n",
       "        vertical-align: middle;\n",
       "    }\n",
       "\n",
       "    .dataframe tbody tr th {\n",
       "        vertical-align: top;\n",
       "    }\n",
       "\n",
       "    .dataframe thead th {\n",
       "        text-align: right;\n",
       "    }\n",
       "</style>\n",
       "<table border=\"1\" class=\"dataframe\">\n",
       "  <thead>\n",
       "    <tr style=\"text-align: right;\">\n",
       "      <th></th>\n",
       "      <th>height</th>\n",
       "      <th>weight</th>\n",
       "      <th>age</th>\n",
       "      <th>male</th>\n",
       "    </tr>\n",
       "  </thead>\n",
       "  <tbody>\n",
       "    <tr>\n",
       "      <th>539</th>\n",
       "      <td>145.415</td>\n",
       "      <td>31.127751</td>\n",
       "      <td>17.0</td>\n",
       "      <td>1</td>\n",
       "    </tr>\n",
       "    <tr>\n",
       "      <th>540</th>\n",
       "      <td>162.560</td>\n",
       "      <td>52.163080</td>\n",
       "      <td>31.0</td>\n",
       "      <td>1</td>\n",
       "    </tr>\n",
       "    <tr>\n",
       "      <th>541</th>\n",
       "      <td>156.210</td>\n",
       "      <td>54.062497</td>\n",
       "      <td>21.0</td>\n",
       "      <td>0</td>\n",
       "    </tr>\n",
       "    <tr>\n",
       "      <th>542</th>\n",
       "      <td>71.120</td>\n",
       "      <td>8.051258</td>\n",
       "      <td>0.0</td>\n",
       "      <td>1</td>\n",
       "    </tr>\n",
       "    <tr>\n",
       "      <th>543</th>\n",
       "      <td>158.750</td>\n",
       "      <td>52.531624</td>\n",
       "      <td>68.0</td>\n",
       "      <td>1</td>\n",
       "    </tr>\n",
       "  </tbody>\n",
       "</table>\n",
       "</div>"
      ],
      "text/plain": [
       "      height     weight   age  male\n",
       "539  145.415  31.127751  17.0     1\n",
       "540  162.560  52.163080  31.0     1\n",
       "541  156.210  54.062497  21.0     0\n",
       "542   71.120   8.051258   0.0     1\n",
       "543  158.750  52.531624  68.0     1"
      ]
     },
     "execution_count": 52,
     "metadata": {},
     "output_type": "execute_result"
    }
   ],
   "source": [
    "howell = pd.read_csv(\"Howell.csv\",sep=';')\n",
    "howell.tail()"
   ]
  },
  {
   "cell_type": "code",
   "execution_count": 53,
   "metadata": {},
   "outputs": [
    {
     "data": {
      "text/html": [
       "<div>\n",
       "<style scoped>\n",
       "    .dataframe tbody tr th:only-of-type {\n",
       "        vertical-align: middle;\n",
       "    }\n",
       "\n",
       "    .dataframe tbody tr th {\n",
       "        vertical-align: top;\n",
       "    }\n",
       "\n",
       "    .dataframe thead th {\n",
       "        text-align: right;\n",
       "    }\n",
       "</style>\n",
       "<table border=\"1\" class=\"dataframe\">\n",
       "  <thead>\n",
       "    <tr style=\"text-align: right;\">\n",
       "      <th></th>\n",
       "      <th>height</th>\n",
       "      <th>weight</th>\n",
       "      <th>age</th>\n",
       "      <th>male</th>\n",
       "    </tr>\n",
       "  </thead>\n",
       "  <tbody>\n",
       "    <tr>\n",
       "      <th>534</th>\n",
       "      <td>162.560</td>\n",
       "      <td>47.031821</td>\n",
       "      <td>27.0</td>\n",
       "      <td>0</td>\n",
       "    </tr>\n",
       "    <tr>\n",
       "      <th>537</th>\n",
       "      <td>142.875</td>\n",
       "      <td>34.246196</td>\n",
       "      <td>31.0</td>\n",
       "      <td>0</td>\n",
       "    </tr>\n",
       "    <tr>\n",
       "      <th>540</th>\n",
       "      <td>162.560</td>\n",
       "      <td>52.163080</td>\n",
       "      <td>31.0</td>\n",
       "      <td>1</td>\n",
       "    </tr>\n",
       "    <tr>\n",
       "      <th>541</th>\n",
       "      <td>156.210</td>\n",
       "      <td>54.062497</td>\n",
       "      <td>21.0</td>\n",
       "      <td>0</td>\n",
       "    </tr>\n",
       "    <tr>\n",
       "      <th>543</th>\n",
       "      <td>158.750</td>\n",
       "      <td>52.531624</td>\n",
       "      <td>68.0</td>\n",
       "      <td>1</td>\n",
       "    </tr>\n",
       "  </tbody>\n",
       "</table>\n",
       "</div>"
      ],
      "text/plain": [
       "      height     weight   age  male\n",
       "534  162.560  47.031821  27.0     0\n",
       "537  142.875  34.246196  31.0     0\n",
       "540  162.560  52.163080  31.0     1\n",
       "541  156.210  54.062497  21.0     0\n",
       "543  158.750  52.531624  68.0     1"
      ]
     },
     "execution_count": 53,
     "metadata": {},
     "output_type": "execute_result"
    }
   ],
   "source": [
    "adult = howell.query(\"age > 17\")\n",
    "adult.tail()"
   ]
  },
  {
   "cell_type": "code",
   "execution_count": 54,
   "metadata": {},
   "outputs": [
    {
     "data": {
      "image/png": "[encoded data removed]",
      "text/plain": [
       "<Figure size 432x288 with 1 Axes>"
      ]
     },
     "metadata": {
      "needs_background": "light"
     },
     "output_type": "display_data"
    }
   ],
   "source": [
    "sns.histplot(adult.height,kde=True);"
   ]
  },
  {
   "cell_type": "markdown",
   "metadata": {},
   "source": [
    "#### Plot relationship"
   ]
  },
  {
   "cell_type": "code",
   "execution_count": 55,
   "metadata": {},
   "outputs": [
    {
     "data": {
      "image/png": "[encoded data removed]",
      "text/plain": [
       "<Figure size 432x288 with 1 Axes>"
      ]
     },
     "metadata": {
      "needs_background": "light"
     },
     "output_type": "display_data"
    }
   ],
   "source": [
    "xlabel,ylabel = 'weight','height'\n",
    "plt.scatter(adult.weight, adult.height, color = 'red')\n",
    "plt.title(f'{ylabel} vs. {xlabel}')\n",
    "plt.xlabel(xlabel)\n",
    "plt.ylabel(ylabel);"
   ]
  },
  {
   "cell_type": "code",
   "execution_count": 56,
   "metadata": {},
   "outputs": [
    {
     "name": "stdout",
     "output_type": "stream",
     "text": [
      "Missing values:\n",
      " height    0\n",
      "weight    0\n",
      "age       0\n",
      "male      0\n",
      "dtype: int64\n",
      "\n",
      "Correlation: 0.755\n"
     ]
    }
   ],
   "source": [
    "print('Missing values:\\n',adult.isnull().sum())\n",
    "print(f'\\nCorrelation: {np.round(np.corrcoef(adult.weight, adult.height)[0,1],3)}')\n"
   ]
  },
  {
   "cell_type": "markdown",
   "metadata": {},
   "source": [
    "### Linear Model for Simple Linear Regression\n",
    "\n",
    "The dependent variable y (height) is a linear function of the independent variable x (weight)\n",
    "\n",
    "<div style=\"font-size: 125%;\">\n",
    "$$ y = b_0 + b_1*x + \\epsilon$$\n",
    "</div>\n",
    "\n",
    "y is the dependent variable  \n",
    "x is the independent variable  \n",
    "$b_0$ is the intercept  \n",
    "$b_1$ is the slope  \n",
    "$\\epsilon$ is the error term (noise)\n",
    "\n",
    "#### Fitting the model\n",
    "\n",
    "The parameters of the model are $b_0$ and $b_1$.\n",
    "\n",
    "Fitting the model learns $b_0$ and $b_1$ from the data.\n",
    "\n",
    "$b_0$ and $b_1$ will determine a line through the data."
   ]
  },
  {
   "cell_type": "markdown",
   "metadata": {},
   "source": [
    "### Goal: To find best fitting line\n",
    "\n",
    "Learn $b_0$ and $b_1$ to find the best fitting line and use it to predict new data.\n",
    "\n",
    "The best fitting line is the line with the smallest error $\\epsilon$. \n",
    "\n",
    "Its an **optimization** problem.We want to fit the linear regression model to the data to estimate the values of the coefficients that minimize the error.\n",
    "\n",
    "<div style=\"font-size: 125%;\">\n",
    "$$\\hat{y_i} = \\hat{b}_0 + \\hat{b}_1x_i$$\n",
    "</div>\n",
    "\n",
    "$x_i$ is the ith value of the predictor.  \n",
    "$\\hat{y_i}$ is the predicted response (or fitted value) for observation i.  \n",
    "$\\hat{b}_0$ is an estimate of the intercept.  \n",
    "$\\hat{b}_1$ is an estimate of the slope.  "
   ]
  },
  {
   "cell_type": "markdown",
   "metadata": {},
   "source": [
    "### Model Code"
   ]
  },
  {
   "cell_type": "markdown",
   "metadata": {},
   "source": [
    "#### sklearn.LinearRegression\n",
    "\n",
    "http://scikit-learn.org/stable/modules/generated/sklearn.linear_model.LinearRegression.html\n",
    "\n",
    "Methods:\n",
    "- fit: fit model to training data  \n",
    "- predict: predict new data  \n",
    "- score: R-squared  \n",
    "    \n",
    "Attributes:\n",
    "* intercept_: the fitted intercept parameter\n",
    "* coef_: the fitted coefficient(s) parameter(s)"
   ]
  },
  {
   "cell_type": "markdown",
   "metadata": {},
   "source": [
    "#### Create arrays from data frame\n",
    "\n",
    "X should be 2-dimensional"
   ]
  },
  {
   "cell_type": "code",
   "execution_count": 57,
   "metadata": {},
   "outputs": [
    {
     "data": {
      "text/plain": [
       "((352, 1), 2, (352,), 1)"
      ]
     },
     "execution_count": 57,
     "metadata": {},
     "output_type": "execute_result"
    }
   ],
   "source": [
    "X = adult.weight.values.reshape(-1,1)\n",
    "y = adult.height.values\n",
    "\n",
    "X.shape, X.ndim, y.shape,y.ndim"
   ]
  },
  {
   "cell_type": "code",
   "execution_count": 102,
   "metadata": {},
   "outputs": [
    {
     "data": {
      "text/plain": [
       "((281, 1), (71, 1), (281,), (71,))"
      ]
     },
     "execution_count": 102,
     "metadata": {},
     "output_type": "execute_result"
    }
   ],
   "source": [
    "X_train, X_test, y_train, y_test = train_test_split(X, y, test_size = 0.2,random_state=1234)\n",
    "X_train.shape, X_test.shape, y_train.shape, y_test.shape"
   ]
  },
  {
   "cell_type": "markdown",
   "metadata": {},
   "source": [
    "#### Create linear model and fit to data"
   ]
  },
  {
   "cell_type": "code",
   "execution_count": 103,
   "metadata": {},
   "outputs": [
    {
     "name": "stdout",
     "output_type": "stream",
     "text": [
      "Intercept: 114.99596835443411 Slope: 0.8791108768876055 \n"
     ]
    }
   ],
   "source": [
    "model = LinearRegression()\n",
    "model.fit(X_train, y_train)\n",
    "print(f'Intercept: {model.intercept_} Slope: {model.coef_[0]} ')"
   ]
  },
  {
   "cell_type": "markdown",
   "metadata": {},
   "source": [
    "#### Predict new points"
   ]
  },
  {
   "cell_type": "code",
   "execution_count": 104,
   "metadata": {},
   "outputs": [
    {
     "data": {
      "text/plain": [
       "array([141.36929466, 154.55595781, 172.13817535])"
      ]
     },
     "execution_count": 104,
     "metadata": {},
     "output_type": "execute_result"
    }
   ],
   "source": [
    "new = np.array([30.0,45.0,65.0])\n",
    "predictions = model.predict(new.reshape(-1,1)) # Model fitted to 2-d array\n",
    "predictions"
   ]
  },
  {
   "cell_type": "code",
   "execution_count": 105,
   "metadata": {},
   "outputs": [
    {
     "data": {
      "image/png": "[encoded data removed]",
      "text/plain": [
       "<Figure size 432x288 with 1 Axes>"
      ]
     },
     "metadata": {
      "needs_background": "light"
     },
     "output_type": "display_data"
    }
   ],
   "source": [
    "xlabel,ylabel = 'Weight','Height'\n",
    "\n",
    "plt.scatter(X, y, color = 'red')\n",
    "plt.plot(new,predictions,'bo')\n",
    "plt.title(f'Predict {new}')\n",
    "plt.xlabel(xlabel)\n",
    "plt.ylabel(ylabel);"
   ]
  },
  {
   "cell_type": "markdown",
   "metadata": {},
   "source": [
    "### Regression Line\n",
    "\n",
    "#### Predict each value of test set using the  model fitted to the training data"
   ]
  },
  {
   "cell_type": "code",
   "execution_count": 106,
   "metadata": {},
   "outputs": [],
   "source": [
    "yhat = model.predict(X_test) # model.intercept_  + model.coef_[0]* X_test"
   ]
  },
  {
   "cell_type": "code",
   "execution_count": 107,
   "metadata": {},
   "outputs": [
    {
     "data": {
      "text/plain": [
       "(71,)"
      ]
     },
     "execution_count": 107,
     "metadata": {},
     "output_type": "execute_result"
    }
   ],
   "source": [
    "yhat.shape"
   ]
  },
  {
   "cell_type": "code",
   "execution_count": 108,
   "metadata": {},
   "outputs": [
    {
     "data": {
      "image/png": "[encoded data removed]",
      "text/plain": [
       "<Figure size 432x288 with 1 Axes>"
      ]
     },
     "metadata": {
      "needs_background": "light"
     },
     "output_type": "display_data"
    }
   ],
   "source": [
    "plt.scatter(X_test, y_test, color = 'red') # the data points\n",
    "plt.plot(X_test, yhat, color = 'blue') # the predicted points on the line\n",
    "plt.plot(new,predictions,'bo')\n",
    "plt.title(f'Best Fitting Line, y = {model.intercept_:.2f} + {model.coef_[0]:.2f}*x')\n",
    "plt.xlabel(xlabel)\n",
    "plt.ylabel(ylabel);"
   ]
  },
  {
   "cell_type": "markdown",
   "metadata": {},
   "source": [
    "### Ordinary Least Squares (OLS) (i.e. how the model does it)\n",
    "\n",
    "OLS is a popular method for estimating the coefficients. Under certain assumptions it produces the Maximum Likelihood Estimate (MLE) (to be explained later)."
   ]
  },
  {
   "cell_type": "markdown",
   "metadata": {},
   "source": [
    "#### Residuals: Difference between actual response value $y_i$ and fitted value $\\hat{y}$\n",
    "\n",
    "<div style=\"font-size: 125%;\">\n",
    "$$\\epsilon_i = y_i - \\hat{y_i}$$\n",
    "</div> \n",
    "\n",
    "The **best fitting** line is one that makes this prediction error \"as small as possible\" \n",
    "\n",
    "#### Minimize Square Error\n",
    "\n",
    "OLS is one way is to minimize the sum of the squared prediction errors.\n",
    "\n",
    "Find parameters $\\hat{b}_0$ and $\\hat{b}_1$ that minimizes:\n",
    "\n",
    "<div style=\"font-size: 125%;\">\n",
    "$$RSS = SSE = \\sum{\\epsilon^2_i} = \\sum{(y_i - \\hat{y_i})^2} = \\sum{(y_i - (\\hat{b}_0 + \\hat{b}_1x_i))^2}$$\n",
    "</div>\n",
    "\n",
    "RSS is called the Residual Sum of Squares, SSE = Sum of Squared Estimate of Errors"
   ]
  },
  {
   "cell_type": "markdown",
   "metadata": {},
   "source": [
    "#### Plot Residuals"
   ]
  },
  {
   "cell_type": "code",
   "execution_count": 109,
   "metadata": {},
   "outputs": [
    {
     "data": {
      "image/png": "[encoded data removed]",
      "text/plain": [
       "<Figure size 432x288 with 1 Axes>"
      ]
     },
     "metadata": {
      "needs_background": "light"
     },
     "output_type": "display_data"
    }
   ],
   "source": [
    "plt.scatter(X_test, y_test, color = 'red')\n",
    "plt.plot(X_test, yhat, color = 'blue')\n",
    "plt.title('Residuals')\n",
    "plt.xlabel(xlabel)\n",
    "plt.ylabel(ylabel)\n",
    "for i in range(len(yhat)):\n",
    "    plt.plot((X_test[i],X_test[i]),(yhat[i],y_test[i]),'g-') #(x-coordinates from,to) (y-coordinates  from,to)    \n",
    "#plt.savefig(\"Residuals.png\")\n"
   ]
  },
  {
   "cell_type": "markdown",
   "metadata": {},
   "source": [
    "##### Why squared error? why not absolute error\n",
    " \n",
    "We use the squared error rather than the absolute error because it is a measure of distance between points (i.e. sign doesn't matter). And we use it for mathematical convenience. It is a smooth differentiable function.\n",
    "\n",
    "#### Least squares estimate for the coefficients $\\hat{b}_0$ and $\\hat{b}_1$\n",
    " \n",
    "Take the partial derivative with respect to $\\hat{b}_1$, set it to 0 and solve for $\\hat{b}_1$\n",
    "\n",
    "<div style=\"font-size: 125%;\">\n",
    "\n",
    "$$\\frac{\\partial(RSS)}{\\partial(\\hat{b}_1)} = 0$$$$\\hat{b}_1 = \\frac{\\sum^n_{i=1}(x_i-\\bar{x})(y_i-\\bar{y})}{\\sum^n_{i=1}(x_i-\\bar{x})^2}$$\n",
    "\n",
    "$$\\hat{b}_0 = \\bar{y} - \\hat{b}_1\\bar{x}$$\n",
    "</div>\n",
    "\n",
    "$\\bar{x}$ - mean of x  \n",
    "$\\bar{y}$ - mean of y\n",
    "\n",
    "#### Note:\n",
    "\n",
    "<div style=\"font-size: 125%;\">\n",
    "$$\\hat{b}_1 = \\frac{COV(x,y)}{VAR(x)}$$\n",
    "</div>\n",
    "\n",
    "#### Derivation\n",
    "\n",
    "https://are.berkeley.edu/courses/EEP118/current/derive_ols.pdf\n"
   ]
  },
  {
   "cell_type": "markdown",
   "metadata": {},
   "source": [
    "### Interpreting the coefficients\n",
    " \n",
    "$\\hat{b}_0$: the value of the response when the predictor is equal to 0. The estimated mean of y, the dependent variable.\n",
    "\n",
    "$\\hat{b}_1$: the amount (in $\\hat{b}_1$ units) that the mean response will increase or decrease by for every one unit increase in x.\n",
    "\n",
    "Note: We Will get a different estimate with a different sample.\n"
   ]
  },
  {
   "cell_type": "markdown",
   "metadata": {},
   "source": [
    "### Assumptions of Least Squares\n",
    "\n",
    "Under these assumptions, the Method of Least Squares is the Maximum Likelihood Estimate (MLE). MLE is a frequentist probabilistic method that we will cover in the Probability section.\n",
    "\n",
    "The assumptions are:\n",
    " \n",
    "* **Linear** relationship between response and predictor variables.\n",
    "* Error terms are **Independent**\n",
    "* The error term is **Normally distributed** $N(0,\\sigma^2)$\n",
    "* Homoscedastic: **Equal** variance of the error term\n"
   ]
  },
  {
   "cell_type": "code",
   "execution_count": 110,
   "metadata": {},
   "outputs": [],
   "source": [
    "def residuals(y,yhat):\n",
    "    return y - yhat"
   ]
  },
  {
   "cell_type": "code",
   "execution_count": 111,
   "metadata": {},
   "outputs": [
    {
     "data": {
      "image/png": "[encoded data removed]",
      "text/plain": [
       "<Figure size 432x288 with 1 Axes>"
      ]
     },
     "metadata": {
      "needs_background": "light"
     },
     "output_type": "display_data"
    }
   ],
   "source": [
    "sns.histplot(residuals(y_test,yhat),kde='True');"
   ]
  },
  {
   "cell_type": "markdown",
   "metadata": {},
   "source": [
    "#### Check for Homoscedasticity\n",
    "\n",
    "The plot should not be funnel shaped."
   ]
  },
  {
   "cell_type": "code",
   "execution_count": 112,
   "metadata": {},
   "outputs": [
    {
     "data": {
      "image/png": "[encoded data removed]",
      "text/plain": [
       "<Figure size 432x288 with 1 Axes>"
      ]
     },
     "metadata": {
      "needs_background": "light"
     },
     "output_type": "display_data"
    }
   ],
   "source": [
    "plt.plot(yhat,residuals(y_test,yhat),'bo')\n",
    "plt.title(\"Fitted vs. Residuals\")\n",
    "plt.xlabel(\"Fitted\")\n",
    "plt.ylabel(\"Residuals\");"
   ]
  },
  {
   "cell_type": "markdown",
   "metadata": {},
   "source": [
    "### Accessing the accuracy of the model\n",
    "\n",
    "How do we determine the **Goodness of Fit** of the model?"
   ]
  },
  {
   "cell_type": "markdown",
   "metadata": {},
   "source": [
    "####  R-squared (Coefficient of Determination) \n",
    " \n",
    "$R^2$ is the fraction of the total variance in y explained by the predictor(s). It is a number between 0 and 1 (i.e. independent of the scale of Y).\n",
    "\n",
    "$R^2$ close to 1 means a large proportion of the variance in the response is explained by the regression. $R^2$ close to 0 means that not much of the variance is explained. Possible reasons are: it is the wrong model or inherently high variance or both.\n",
    "\n",
    "\n",
    "<div style=\"font-size: 125%;\"> \n",
    "$$R^2 = \\frac{TSS - RSS}{RSS} = 1 - \\frac{RSS}{TSS}$$\n",
    "$$TSS = \\sum^n_{i=1}(y_i-\\bar{y})^2$$\n",
    "</div>\n",
    "\n",
    "\n",
    "Residual Sum of Squares (RSS): squared difference of actual response value and fitted values (i.e. the residuals).  \n",
    "Total Sum of Squares (TSS): squared difference of actual response value and mean response value."
   ]
  },
  {
   "cell_type": "code",
   "execution_count": 113,
   "metadata": {},
   "outputs": [],
   "source": [
    "def rss(y,yhat):\n",
    "    return(np.sum(residuals(y,yhat)**2))"
   ]
  },
  {
   "cell_type": "code",
   "execution_count": 114,
   "metadata": {},
   "outputs": [
    {
     "data": {
      "text/plain": [
       "0.5998052517672163"
      ]
     },
     "execution_count": 114,
     "metadata": {},
     "output_type": "execute_result"
    }
   ],
   "source": [
    "def tss(y):\n",
    "    return(np.sum((y - np.mean(y))**2))\n",
    "\n",
    "def R_squared(y,yhat):\n",
    "    return(1 - (rss(y,yhat)/tss(y)))\n",
    "\n",
    "R_squared(y_test,yhat)"
   ]
  },
  {
   "cell_type": "markdown",
   "metadata": {},
   "source": [
    "#### R-squared from model"
   ]
  },
  {
   "cell_type": "code",
   "execution_count": 115,
   "metadata": {},
   "outputs": [
    {
     "data": {
      "text/plain": [
       "0.5998052517672163"
      ]
     },
     "execution_count": 115,
     "metadata": {},
     "output_type": "execute_result"
    }
   ],
   "source": [
    "model.score(X_test,y_test)"
   ]
  },
  {
   "cell_type": "code",
   "execution_count": 116,
   "metadata": {},
   "outputs": [
    {
     "data": {
      "text/plain": [
       "0.5599383795079707"
      ]
     },
     "execution_count": 116,
     "metadata": {},
     "output_type": "execute_result"
    }
   ],
   "source": [
    "model.score(X_train,y_train)"
   ]
  },
  {
   "cell_type": "markdown",
   "metadata": {},
   "source": [
    "For a single predictor, R-squared is equal to Pearson's Correlation squared\n",
    "<div style=\"font-size: 125%;\"> \n",
    "$$R^2 = r^2$$\n",
    "</div> "
   ]
  },
  {
   "cell_type": "code",
   "execution_count": 117,
   "metadata": {},
   "outputs": [
    {
     "data": {
      "text/plain": [
       "0.5599383795079697"
      ]
     },
     "execution_count": 117,
     "metadata": {},
     "output_type": "execute_result"
    }
   ],
   "source": [
    "# Training data\n",
    "\n",
    "r = stats.pearsonr(X_train[:,0],y_train)[0]\n",
    "r**2\n"
   ]
  },
  {
   "cell_type": "code",
   "execution_count": 118,
   "metadata": {},
   "outputs": [
    {
     "data": {
      "text/plain": [
       "0.6132641820967145"
      ]
     },
     "execution_count": 118,
     "metadata": {},
     "output_type": "execute_result"
    }
   ],
   "source": [
    "# Test data\n",
    "\n",
    "(np.corrcoef(X_test[:,0],y_test)[0,1])**2"
   ]
  },
  {
   "cell_type": "markdown",
   "metadata": {},
   "source": [
    "#### Mean Squared Error (MSE)\n",
    "\n",
    "MSE is the average of the squared error (i.e. residuals).\n",
    "\n",
    "$$MSE = \\frac{1}{n}\\sum(y - \\hat{y})^2$$\n",
    "\n",
    "Root Mean Squared Error (RMSE) is in the same units as the response variable.\n",
    "\n",
    "$$RMSE = \\sqrt{\\frac{1}{n}\\sum(y - \\hat{y})^2}$$"
   ]
  },
  {
   "cell_type": "code",
   "execution_count": 25,
   "metadata": {},
   "outputs": [],
   "source": [
    "def mse(y,yhat):\n",
    "    return np.mean((y - yhat)**2)\n",
    "\n",
    "def rmse(y,yhat):\n",
    "    return np.sqrt(np.mean((y - yhat)**2))"
   ]
  },
  {
   "cell_type": "code",
   "execution_count": 26,
   "metadata": {},
   "outputs": [
    {
     "name": "stdout",
     "output_type": "stream",
     "text": [
      "MSE: 24.35572321633479\n",
      "RMSE: 4.935151792633616\n"
     ]
    }
   ],
   "source": [
    "print(f'MSE: {mse(y_test,yhat)}\\nRMSE: {rmse(y_test, yhat)}')"
   ]
  },
  {
   "cell_type": "markdown",
   "metadata": {},
   "source": [
    "### Exercises\n",
    "\n",
    "Using the code below:\n",
    "\n",
    "1. Change value of random_state in train_test_split\n",
    "\n",
    "2. Change test_size in train_test_split\n"
   ]
  },
  {
   "cell_type": "code",
   "execution_count": null,
   "metadata": {},
   "outputs": [],
   "source": [
    "X_train, X_test, y_train, y_test = train_test_split(X, y, test_size = 0.2,random_state=1234)\n",
    "yhat = LinearRegression().fit(X_train, y_train).predict(X_test)\n",
    "print(model.score(X_test,y_test),(stats.pearsonr(X_test[:,0],y_test)[0])**2)"
   ]
  },
  {
   "cell_type": "markdown",
   "metadata": {},
   "source": [
    "## Multiple Linear Regression\n",
    "\n",
    "The response is a linear function of p predictors\n",
    "\n",
    "<div style=\"font-size: 125%;\">\n",
    "$$Y = \\beta_0 + \\beta_1{X_1} + \\beta_2{X_2} +...+\\beta_p{X_p} + \\epsilon $$\n",
    "</div>\n",
    "\n",
    "$X_j$ is the jth predictor and $\\beta_j$ is the average effect on Y of a one unit increase in $X_j$ holding all other predictors fixed\n",
    "    \n",
    "To estimate the Regression Coefficients:\n",
    "<div style=\"font-size: 125%;\">\n",
    "$$\\hat{y} = \\hat{b}_0 + \\hat{b}_1{x_1} + \\hat{b}_2{x_2} +...+ \\hat{b}_p{x_p}$$\n",
    "</div>\n",
    "Minimize:\n",
    "<div style=\"font-size: 125%;\">\n",
    "$$RSS = \\sum^n_{i=1}(y_i - \\hat{y}_i)^2 = \\sum^n_{i=1}(y_i - \\hat{b}_0 - \\hat{b}_1{x_1} - \\hat{b}_2{x_2} -...- \\hat{b}_p{x_p})^2$$\n",
    "</div>\n",
    "\n"
   ]
  },
  {
   "cell_type": "markdown",
   "metadata": {},
   "source": [
    "### Matrix Formulation\n",
    "\n",
    "X is called the Design Matrix (1's in the first column for the intercept and the remaining columns are the predictors)  \n",
    "\n",
    "The parameters are contained in a vector: $\\beta = (b_0,b_1,...b_n)$\n",
    "\n",
    "We find the $\\beta$ that minimizes the RSS by:\n",
    "- Taking the partial derivative of RSS with respect to $\\beta$, \n",
    "- Setting it equal to 0 and\n",
    "- Solving for $\\beta$\n",
    "\n",
    "$X\\beta$ is the dot product, $(y-X\\beta)^T(y-X\\beta)$ is the Squared Error\n",
    "\n",
    "<div style=\"font-size: 125%;\">\n",
    "$$RSS(\\beta) = (y-X\\beta)^T(y-X\\beta)$$\n",
    "$$\\frac{\\partial{RSS}}{\\partial{\\beta}} = -2X^T(y-X\\beta)$$\n",
    "$$X^T(y-X\\beta) = 0$$\n",
    "$$X^Ty = X^TX\\beta$$\n",
    "$$\\beta = (X^TX)^{-1}X^Ty$$\n",
    "</div>\n",
    "$\\beta = (X^TX)^{-1}X^Ty$ is called the Normal Equation. It is a closed form solution to the optimization problem.\n",
    "\n",
    "### Issues with multiple predictors\n",
    "\n",
    "#### Which predictors best explain the response?\n",
    "\n",
    "    \n",
    "#### Is there multicolinearity (i.e. are two or more predictors highly correlated)?"
   ]
  },
  {
   "cell_type": "code",
   "execution_count": 27,
   "metadata": {},
   "outputs": [
    {
     "data": {
      "image/png": "[encoded data removed]",
      "text/plain": [
       "<Figure size 720x720 with 20 Axes>"
      ]
     },
     "metadata": {
      "needs_background": "light"
     },
     "output_type": "display_data"
    }
   ],
   "source": [
    "sns.pairplot(adult,diag_kind='kde');"
   ]
  },
  {
   "cell_type": "code",
   "execution_count": 28,
   "metadata": {},
   "outputs": [
    {
     "data": {
      "text/html": [
       "<div>\n",
       "<style scoped>\n",
       "    .dataframe tbody tr th:only-of-type {\n",
       "        vertical-align: middle;\n",
       "    }\n",
       "\n",
       "    .dataframe tbody tr th {\n",
       "        vertical-align: top;\n",
       "    }\n",
       "\n",
       "    .dataframe thead th {\n",
       "        text-align: right;\n",
       "    }\n",
       "</style>\n",
       "<table border=\"1\" class=\"dataframe\">\n",
       "  <thead>\n",
       "    <tr style=\"text-align: right;\">\n",
       "      <th></th>\n",
       "      <th>height</th>\n",
       "      <th>weight</th>\n",
       "      <th>age</th>\n",
       "      <th>male</th>\n",
       "    </tr>\n",
       "  </thead>\n",
       "  <tbody>\n",
       "    <tr>\n",
       "      <th>height</th>\n",
       "      <td>1.000000</td>\n",
       "      <td>0.754748</td>\n",
       "      <td>-0.101838</td>\n",
       "      <td>0.699993</td>\n",
       "    </tr>\n",
       "    <tr>\n",
       "      <th>weight</th>\n",
       "      <td>0.754748</td>\n",
       "      <td>1.000000</td>\n",
       "      <td>-0.172904</td>\n",
       "      <td>0.524453</td>\n",
       "    </tr>\n",
       "    <tr>\n",
       "      <th>age</th>\n",
       "      <td>-0.101838</td>\n",
       "      <td>-0.172904</td>\n",
       "      <td>1.000000</td>\n",
       "      <td>0.028455</td>\n",
       "    </tr>\n",
       "    <tr>\n",
       "      <th>male</th>\n",
       "      <td>0.699993</td>\n",
       "      <td>0.524453</td>\n",
       "      <td>0.028455</td>\n",
       "      <td>1.000000</td>\n",
       "    </tr>\n",
       "  </tbody>\n",
       "</table>\n",
       "</div>"
      ],
      "text/plain": [
       "          height    weight       age      male\n",
       "height  1.000000  0.754748 -0.101838  0.699993\n",
       "weight  0.754748  1.000000 -0.172904  0.524453\n",
       "age    -0.101838 -0.172904  1.000000  0.028455\n",
       "male    0.699993  0.524453  0.028455  1.000000"
      ]
     },
     "execution_count": 28,
     "metadata": {},
     "output_type": "execute_result"
    }
   ],
   "source": [
    "adult.corr()"
   ]
  },
  {
   "cell_type": "code",
   "execution_count": 29,
   "metadata": {},
   "outputs": [
    {
     "data": {
      "text/plain": [
       "(352, 3)"
      ]
     },
     "execution_count": 29,
     "metadata": {},
     "output_type": "execute_result"
    }
   ],
   "source": [
    "X = adult.loc[:,['weight','age','male']].values\n",
    "X.shape"
   ]
  },
  {
   "cell_type": "code",
   "execution_count": 30,
   "metadata": {},
   "outputs": [
    {
     "data": {
      "text/plain": [
       "((281, 3), (71, 3), (281,), (71,))"
      ]
     },
     "execution_count": 30,
     "metadata": {},
     "output_type": "execute_result"
    }
   ],
   "source": [
    "X_train, X_test, y_train, y_test = train_test_split(X, y, test_size = 0.2, random_state = 1234)\n",
    "X_train.shape,X_test.shape,y_train.shape,y_test.shape"
   ]
  },
  {
   "cell_type": "code",
   "execution_count": 31,
   "metadata": {},
   "outputs": [
    {
     "data": {
      "text/plain": [
       "((281, 3), (71, 3))"
      ]
     },
     "execution_count": 31,
     "metadata": {},
     "output_type": "execute_result"
    }
   ],
   "source": [
    "scaler = StandardScaler()\n",
    "X_train[:,0:2] = scaler.fit_transform(X_train[:,0:2])\n",
    "X_test[:,0:2] = scaler.transform(X_test[:,0:2])\n",
    "X_train.shape,X_test.shape"
   ]
  },
  {
   "cell_type": "code",
   "execution_count": 32,
   "metadata": {},
   "outputs": [
    {
     "name": "stdout",
     "output_type": "stream",
     "text": [
      "Intercept: 151.53478855610106 Coefficients:: [4.14632988 0.18080859 6.36363634] \n"
     ]
    }
   ],
   "source": [
    "model = LinearRegression()\n",
    "model.fit(X_train, y_train)\n",
    "print(f'Intercept: {model.intercept_} Coefficients:: {model.coef_} ')"
   ]
  },
  {
   "cell_type": "code",
   "execution_count": 33,
   "metadata": {},
   "outputs": [
    {
     "data": {
      "text/plain": [
       "(71,)"
      ]
     },
     "execution_count": 33,
     "metadata": {},
     "output_type": "execute_result"
    }
   ],
   "source": [
    "yhat = model.predict(X_test)\n",
    "yhat.shape"
   ]
  },
  {
   "cell_type": "code",
   "execution_count": 34,
   "metadata": {},
   "outputs": [
    {
     "data": {
      "text/plain": [
       "0.73"
      ]
     },
     "execution_count": 34,
     "metadata": {},
     "output_type": "execute_result"
    }
   ],
   "source": [
    "np.round(model.score(X_test,y_test),2)"
   ]
  },
  {
   "cell_type": "code",
   "execution_count": 35,
   "metadata": {},
   "outputs": [
    {
     "data": {
      "text/plain": [
       "4.06"
      ]
     },
     "execution_count": 35,
     "metadata": {},
     "output_type": "execute_result"
    }
   ],
   "source": [
    "np.round(rmse(y_test,yhat),2)"
   ]
  },
  {
   "cell_type": "markdown",
   "metadata": {},
   "source": [
    "#### Exercise\n",
    "\n",
    "1. Create and run a model with just weight and age as predictors. Compare with full model"
   ]
  },
  {
   "cell_type": "markdown",
   "metadata": {},
   "source": [
    "## Polynomial Linear Regression\n",
    " \n",
    "So far our Linear Model assumes a linear relationship between response and predictors, but what if relationship is non-linear, can we extend model to fit these cases?\n",
    "* Polynomial Regression\n",
    "\n",
    "<div style=\"font-size: 115%;\">\n",
    "$$y = \\beta_0 + \\beta_1 X + \\beta_2 X^2 + \\epsilon$$\n",
    "</div>\n",
    "\n",
    "**This is still a linear model - it is linear in the coefficients**.\n",
    "\n",
    "<div style=\"font-size: 115%;\">\n",
    "$$Z = X^2$$\n",
    "$$y = \\beta_0 + \\beta_1 X + \\beta_2 Z + \\epsilon$$\n",
    "</div>\n"
   ]
  },
  {
   "cell_type": "markdown",
   "metadata": {},
   "source": [
    "### Data for Polynomial example\n",
    "\n",
    "How does height vary with weight for all subjects?\n",
    "\n",
    "* Dependent Variable: height\n",
    "* Independent Varible: weight"
   ]
  },
  {
   "cell_type": "code",
   "execution_count": 36,
   "metadata": {},
   "outputs": [
    {
     "data": {
      "image/png": "[encoded data removed]",
      "text/plain": [
       "<Figure size 432x288 with 1 Axes>"
      ]
     },
     "metadata": {
      "needs_background": "light"
     },
     "output_type": "display_data"
    }
   ],
   "source": [
    "X = howell.weight.values.reshape(-1,1)\n",
    "y = howell.height.values\n",
    "\n",
    "plt.scatter(X, y, color = 'red')\n",
    "plt.title(f'{ylabel} vs. {xlabel} all ages')\n",
    "plt.xlabel(xlabel)\n",
    "plt.ylabel(ylabel);"
   ]
  },
  {
   "cell_type": "markdown",
   "metadata": {},
   "source": [
    "#### Split data"
   ]
  },
  {
   "cell_type": "code",
   "execution_count": 37,
   "metadata": {},
   "outputs": [
    {
     "data": {
      "text/plain": [
       "((435, 1), (109, 1), (435,), (109,))"
      ]
     },
     "execution_count": 37,
     "metadata": {},
     "output_type": "execute_result"
    }
   ],
   "source": [
    "X_train, X_test, y_train, y_test = train_test_split(X, y, test_size = 0.2, random_state = 1234)\n",
    "X_train.shape, X_test.shape, y_train.shape, y_test.shape"
   ]
  },
  {
   "cell_type": "markdown",
   "metadata": {},
   "source": [
    "#### Fit model"
   ]
  },
  {
   "cell_type": "code",
   "execution_count": 38,
   "metadata": {},
   "outputs": [
    {
     "data": {
      "text/plain": [
       "LinearRegression()"
      ]
     },
     "execution_count": 38,
     "metadata": {},
     "output_type": "execute_result"
    }
   ],
   "source": [
    "model = LinearRegression()\n",
    "model.fit(X_train, y_train)"
   ]
  },
  {
   "cell_type": "markdown",
   "metadata": {},
   "source": [
    "#### Predict test data"
   ]
  },
  {
   "cell_type": "code",
   "execution_count": 39,
   "metadata": {},
   "outputs": [
    {
     "data": {
      "text/plain": [
       "(109,)"
      ]
     },
     "execution_count": 39,
     "metadata": {},
     "output_type": "execute_result"
    }
   ],
   "source": [
    "yhat = model.predict(X_test)\n",
    "yhat.shape"
   ]
  },
  {
   "cell_type": "markdown",
   "metadata": {},
   "source": [
    "#### Model Parameters"
   ]
  },
  {
   "cell_type": "code",
   "execution_count": 40,
   "metadata": {},
   "outputs": [
    {
     "name": "stdout",
     "output_type": "stream",
     "text": [
      "Intercept: 75.83565786396692 Coefficients: [1.75736011] \n"
     ]
    }
   ],
   "source": [
    "print(f'Intercept: {model.intercept_} Coefficients: {model.coef_} ')"
   ]
  },
  {
   "cell_type": "markdown",
   "metadata": {},
   "source": [
    "#### Model Accuracy"
   ]
  },
  {
   "cell_type": "code",
   "execution_count": 41,
   "metadata": {},
   "outputs": [
    {
     "name": "stdout",
     "output_type": "stream",
     "text": [
      "R-squared: 0.89\n",
      "RMSE: 9.38\n"
     ]
    }
   ],
   "source": [
    "print(f'R-squared: {np.round(model.score(X,y),2)}')\n",
    "\n",
    "print(f'RMSE: {np.round(rmse(y_test,yhat),2)}')\n",
    "\n"
   ]
  },
  {
   "cell_type": "code",
   "execution_count": 42,
   "metadata": {},
   "outputs": [
    {
     "data": {
      "image/png": "[encoded data removed]",
      "text/plain": [
       "<Figure size 432x288 with 1 Axes>"
      ]
     },
     "metadata": {
      "needs_background": "light"
     },
     "output_type": "display_data"
    }
   ],
   "source": [
    "plt.scatter(X, y, color = 'red')\n",
    "plt.plot(X_test, yhat, color = 'blue')\n",
    "plt.title('Regression Line')\n",
    "plt.xlabel(xlabel)\n",
    "plt.ylabel(ylabel);"
   ]
  },
  {
   "cell_type": "markdown",
   "metadata": {},
   "source": [
    "### Try adding a quadratic term\n",
    "\n",
    "<div style=\"font-size: 125%;\">\n",
    "$$ height = \\beta_0 + \\beta_1\\cdot{weight} + \\beta_2\\cdot{weight^2} + \\epsilon$$\n",
    "</div>"
   ]
  },
  {
   "cell_type": "code",
   "execution_count": 43,
   "metadata": {},
   "outputs": [
    {
     "data": {
      "text/html": [
       "<div>\n",
       "<style scoped>\n",
       "    .dataframe tbody tr th:only-of-type {\n",
       "        vertical-align: middle;\n",
       "    }\n",
       "\n",
       "    .dataframe tbody tr th {\n",
       "        vertical-align: top;\n",
       "    }\n",
       "\n",
       "    .dataframe thead th {\n",
       "        text-align: right;\n",
       "    }\n",
       "</style>\n",
       "<table border=\"1\" class=\"dataframe\">\n",
       "  <thead>\n",
       "    <tr style=\"text-align: right;\">\n",
       "      <th></th>\n",
       "      <th>height</th>\n",
       "      <th>weight</th>\n",
       "      <th>age</th>\n",
       "      <th>male</th>\n",
       "      <th>weight2</th>\n",
       "    </tr>\n",
       "  </thead>\n",
       "  <tbody>\n",
       "    <tr>\n",
       "      <th>0</th>\n",
       "      <td>151.765</td>\n",
       "      <td>47.825606</td>\n",
       "      <td>63.0</td>\n",
       "      <td>1</td>\n",
       "      <td>2287.288637</td>\n",
       "    </tr>\n",
       "    <tr>\n",
       "      <th>1</th>\n",
       "      <td>139.700</td>\n",
       "      <td>36.485807</td>\n",
       "      <td>63.0</td>\n",
       "      <td>0</td>\n",
       "      <td>1331.214076</td>\n",
       "    </tr>\n",
       "    <tr>\n",
       "      <th>2</th>\n",
       "      <td>136.525</td>\n",
       "      <td>31.864838</td>\n",
       "      <td>65.0</td>\n",
       "      <td>0</td>\n",
       "      <td>1015.367901</td>\n",
       "    </tr>\n",
       "    <tr>\n",
       "      <th>3</th>\n",
       "      <td>156.845</td>\n",
       "      <td>53.041914</td>\n",
       "      <td>41.0</td>\n",
       "      <td>1</td>\n",
       "      <td>2813.444694</td>\n",
       "    </tr>\n",
       "    <tr>\n",
       "      <th>4</th>\n",
       "      <td>145.415</td>\n",
       "      <td>41.276872</td>\n",
       "      <td>51.0</td>\n",
       "      <td>0</td>\n",
       "      <td>1703.780162</td>\n",
       "    </tr>\n",
       "  </tbody>\n",
       "</table>\n",
       "</div>"
      ],
      "text/plain": [
       "    height     weight   age  male      weight2\n",
       "0  151.765  47.825606  63.0     1  2287.288637\n",
       "1  139.700  36.485807  63.0     0  1331.214076\n",
       "2  136.525  31.864838  65.0     0  1015.367901\n",
       "3  156.845  53.041914  41.0     1  2813.444694\n",
       "4  145.415  41.276872  51.0     0  1703.780162"
      ]
     },
     "execution_count": 43,
     "metadata": {},
     "output_type": "execute_result"
    }
   ],
   "source": [
    "howell['weight2'] = howell.weight**2\n",
    "howell.head()"
   ]
  },
  {
   "cell_type": "markdown",
   "metadata": {},
   "source": [
    "#### Transform to array"
   ]
  },
  {
   "cell_type": "code",
   "execution_count": 44,
   "metadata": {},
   "outputs": [
    {
     "data": {
      "text/plain": [
       "(544, 2)"
      ]
     },
     "execution_count": 44,
     "metadata": {},
     "output_type": "execute_result"
    }
   ],
   "source": [
    "X2 = howell.loc[:,['weight','weight2']].values\n",
    "X2.shape"
   ]
  },
  {
   "cell_type": "code",
   "execution_count": 45,
   "metadata": {},
   "outputs": [
    {
     "data": {
      "text/plain": [
       "((435, 2), (109, 2), (435,), (109,))"
      ]
     },
     "execution_count": 45,
     "metadata": {},
     "output_type": "execute_result"
    }
   ],
   "source": [
    "X_train, X_test, y_train, y_test = train_test_split(X2, y, test_size = 0.2, random_state = 1234)\n",
    "X_train.shape, X_test.shape, y_train.shape, y_test.shape"
   ]
  },
  {
   "cell_type": "markdown",
   "metadata": {},
   "source": [
    "#### Fit quadratic model"
   ]
  },
  {
   "cell_type": "code",
   "execution_count": 46,
   "metadata": {},
   "outputs": [
    {
     "data": {
      "text/plain": [
       "LinearRegression()"
      ]
     },
     "execution_count": 46,
     "metadata": {},
     "output_type": "execute_result"
    }
   ],
   "source": [
    "model = LinearRegression()\n",
    "model.fit(X_train, y_train)"
   ]
  },
  {
   "cell_type": "markdown",
   "metadata": {},
   "source": [
    "#### Predict test data"
   ]
  },
  {
   "cell_type": "code",
   "execution_count": 47,
   "metadata": {},
   "outputs": [
    {
     "data": {
      "text/plain": [
       "(109,)"
      ]
     },
     "execution_count": 47,
     "metadata": {},
     "output_type": "execute_result"
    }
   ],
   "source": [
    "yhat = model.predict(X_test)\n",
    "yhat.shape"
   ]
  },
  {
   "cell_type": "markdown",
   "metadata": {},
   "source": [
    "#### Model Parameters"
   ]
  },
  {
   "cell_type": "code",
   "execution_count": 48,
   "metadata": {},
   "outputs": [
    {
     "name": "stdout",
     "output_type": "stream",
     "text": [
      "Intercept: 45.67166423240849 Coefficients: [ 4.21578579 -0.03862632] \n"
     ]
    }
   ],
   "source": [
    "print(f'Intercept: {model.intercept_} Coefficients: {model.coef_} ')"
   ]
  },
  {
   "cell_type": "markdown",
   "metadata": {},
   "source": [
    "#### Model Accuracy"
   ]
  },
  {
   "cell_type": "code",
   "execution_count": 49,
   "metadata": {},
   "outputs": [
    {
     "name": "stdout",
     "output_type": "stream",
     "text": [
      "R-squared: 0.96\n",
      "RMSE: 5.84\n"
     ]
    }
   ],
   "source": [
    "print(f'R-squared: {np.round(model.score(X2,y),2)}')\n",
    "\n",
    "print(f'RMSE: {np.round(rmse(y_test,yhat),2)}')\n",
    "\n"
   ]
  },
  {
   "cell_type": "code",
   "execution_count": 50,
   "metadata": {},
   "outputs": [
    {
     "data": {
      "text/plain": [
       "(109,)"
      ]
     },
     "execution_count": 50,
     "metadata": {},
     "output_type": "execute_result"
    }
   ],
   "source": [
    "X_test[:,0].shape"
   ]
  },
  {
   "cell_type": "code",
   "execution_count": 51,
   "metadata": {},
   "outputs": [
    {
     "data": {
      "image/png": "[encoded data removed]",
      "text/plain": [
       "<Figure size 432x288 with 1 Axes>"
      ]
     },
     "metadata": {
      "needs_background": "light"
     },
     "output_type": "display_data"
    }
   ],
   "source": [
    "plt.scatter(X, y, color = 'red')\n",
    "plt.plot(X_test[:,0], yhat, 'bo')\n",
    "plt.title('Predicted Values')\n",
    "plt.xlabel(xlabel)\n",
    "plt.ylabel(ylabel);"
   ]
  },
  {
   "cell_type": "markdown",
   "metadata": {},
   "source": [
    "#### Exercise\n",
    "\n",
    "1. Add cubic term to model and compare with quadratic model."
   ]
  },
  {
   "cell_type": "code",
   "execution_count": null,
   "metadata": {},
   "outputs": [],
   "source": []
  }
 ],
 "metadata": {
  "kernelspec": {
   "display_name": "Python 3",
   "language": "python",
   "name": "python3"
  },
  "language_info": {
   "codemirror_mode": {
    "name": "ipython",
    "version": 3
   },
   "file_extension": ".py",
   "mimetype": "text/x-python",
   "name": "python",
   "nbconvert_exporter": "python",
   "pygments_lexer": "ipython3",
   "version": "3.8.8"
  },
  "varInspector": {
   "cols": {
    "lenName": 16,
    "lenType": 16,
    "lenVar": 40
   },
   "kernels_config": {
    "python": {
     "delete_cmd_postfix": "",
     "delete_cmd_prefix": "del ",
     "library": "var_list.py",
     "varRefreshCmd": "print(var_dic_list())"
    },
    "r": {
     "delete_cmd_postfix": ") ",
     "delete_cmd_prefix": "rm(",
     "library": "var_list.r",
     "varRefreshCmd": "cat(var_dic_list()) "
    }
   },
   "position": {
    "height": "144px",
    "left": "936px",
    "right": "20px",
    "top": "96px",
    "width": "350px"
   },
   "types_to_exclude": [
    "module",
    "function",
    "builtin_function_or_method",
    "instance",
    "_Feature"
   ],
   "window_display": false
  }
 },
 "nbformat": 4,
 "nbformat_minor": 4
}
