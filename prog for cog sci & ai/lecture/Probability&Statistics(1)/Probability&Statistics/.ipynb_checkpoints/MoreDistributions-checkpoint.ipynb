{
 "cells": [
  {
   "cell_type": "markdown",
   "metadata": {},
   "source": [
    "### Negative Binomial\n",
    "\n",
    "* Number of repeated i.i.d. Bernoulli trials needed to obtain n successes. \n",
    "\n",
    "* The Random Variable is the the number of failures until n successes is obtained.\n",
    "    - Number of trials = k + n\n",
    "    \n",
    "#### PMF\n",
    "\n",
    "<div style=\"font-size: 115%;\">\n",
    "$$P(X=k;n,p) = \\binom{k+n-1}{n-1}p^n(1-p)^k = \\frac{(k+n-1)!}{(n-1)!k!}p^n(1-p)^k \\text{  for k }\\ge 0, n > 0$$\n",
    "</div>\n",
    "\n",
    "* k = number of failures until n successes\n",
    "* Parameters\n",
    "    - n: # of successes\n",
    "    - p: Probability of success \n",
    "\n",
    "#### Moments\n",
    "\n",
    "$$Mean = \\frac{(1-p)*n}{p}$$\n",
    "$$Variance = \\frac{(1-p)*n}{p^2}$$\n",
    "\n",
    "#### Example\n",
    "\n",
    "* Flip a fair coin repeatedly until have 5 heads, what is the probability that the 5th head occurs on the 12th trial?"
   ]
  },
  {
   "cell_type": "code",
   "execution_count": 2,
   "metadata": {},
   "outputs": [
    {
     "name": "stdout",
     "output_type": "stream",
     "text": [
      "0.08056640625000007\n"
     ]
    },
    {
     "data": {
      "text/plain": [
       "Text(0, 0.5, 'Probability')"
      ]
     },
     "execution_count": 2,
     "metadata": {},
     "output_type": "execute_result"
    },
    {
     "data": {
      "image/png": "[encoded data removed]",
      "text/plain": [
       "<Figure size 432x288 with 1 Axes>"
      ]
     },
     "metadata": {
      "needs_background": "light"
     },
     "output_type": "display_data"
    }
   ],
   "source": [
    "from scipy.stats import nbinom\n",
    "\n",
    "k,n,p = 7,5,.5\n",
    "rv = nbinom(n,p)\n",
    "print(rv.pmf(k))\n",
    "x = np.arange(0,16,step=1,dtype='int')\n",
    "v = rv.pmf(x)\n",
    "plt.bar((x+n),v)\n",
    "plt.title(\"Negative Binomial(5,.5)\")\n",
    "plt.xlabel(\"Trial\")\n",
    "plt.ylabel(\"Probability\")\n",
    "\n"
   ]
  },
  {
   "cell_type": "markdown",
   "metadata": {},
   "source": [
    "###  Geometric\n",
    "\n",
    "* Negative Binomial with n = 1, but random variable is trial number not number of failures\n",
    " \n",
    "* Probability distribution of trial number (k = 1,2,...) of 1st success\n",
    "    \n",
    "        \n",
    "#### PMF\n",
    "\n",
    "<div style=\"font-size: 115%;\">\n",
    "$$P(X=k;p) = p*(1 - p)^{(k-1)}\\text{ for k = 1,2,...}$$\n",
    "</div>\n",
    "\n",
    "#### Moments\n",
    "\n",
    "$$Mean = \\frac{1}{p}$$\n",
    "\n",
    "$$ Variance = \\frac{(1 - p)}{p^2}$$\n",
    " \n",
    "#### Example\n",
    "\n",
    "* Flip a biased coin (p = .2). Heads (X = 1) is a success.\n",
    "    + What is probability that the first six flips will be tails?\n",
    "    + What is the expected number of flips before a head?\n",
    "    + What is the probability that a head will occur in the first 6 flips?\n"
   ]
  },
  {
   "cell_type": "code",
   "execution_count": 20,
   "metadata": {},
   "outputs": [
    {
     "name": "stdout",
     "output_type": "stream",
     "text": [
      "Probability first 6 flips will be tails: 0.052428800000000025\n",
      "Expected number of flips before a head: 5.0\n",
      "Probability that a head will occur in the first 6 flips: 0.7378560000000001\n",
      "As sum of PMFs 0.7378560000000002\n"
     ]
    }
   ],
   "source": [
    "from scipy.stats import geom\n",
    "\n",
    "# 1st six flips are all tails = 1st success on seventh flip so k = 7\n",
    "k,p = 7,0.2\n",
    "pmf = geom.pmf(k,p)\n",
    "print(\"Probability first 6 flips will be tails:\",pmf)\n",
    "mean = 1/p\n",
    "print(\"Expected number of flips before a head:\",mean)\n",
    "# Probabiliity of head in 1st 6 flips = P(x <= 6)\n",
    "cdf = geom.cdf(k-1,p)\n",
    "print(\"Probability that a head will occur in the first 6 flips:\",cdf)\n",
    "# As a\n",
    "x = np.arange(1,k,step=1,dtype='int')\n",
    "print(\"As sum of PMFs\", sum(i for i in map(lambda k : geom.pmf(k,p),x)))\n"
   ]
  },
  {
   "cell_type": "code",
   "execution_count": 43,
   "metadata": {},
   "outputs": [
    {
     "name": "stdout",
     "output_type": "stream",
     "text": [
      "21\n"
     ]
    },
    {
     "data": {
      "text/plain": [
       "1.95961"
      ]
     },
     "execution_count": 43,
     "metadata": {},
     "output_type": "execute_result"
    }
   ],
   "source": [
    "# Simulate expected number of tails before a head\n",
    "def geom_1(p):\n",
    "    cnt = 1\n",
    "    val = flip(p)\n",
    "    while not val:\n",
    "        cnt += 1\n",
    "        val = flip(p)\n",
    "    return cnt\n",
    "\n",
    "def simMeanGeom (p,N = 100000):\n",
    "    cnts = [geom_1(p)for i in range(N)]\n",
    "    print(max(cnts)) # Maximu\n",
    "    m length of initial run of tails\n",
    "    return np.mean(cnts)\n",
    "                   \n",
    "simMeanGeom(.5)\n"
   ]
  },
  {
   "cell_type": "code",
   "execution_count": null,
   "metadata": {},
   "outputs": [],
   "source": []
  }
 ],
 "metadata": {
  "kernelspec": {
   "display_name": "Python 3",
   "language": "python",
   "name": "python3"
  },
  "language_info": {
   "codemirror_mode": {
    "name": "ipython",
    "version": 3
   },
   "file_extension": ".py",
   "mimetype": "text/x-python",
   "name": "python",
   "nbconvert_exporter": "python",
   "pygments_lexer": "ipython3",
   "version": "3.7.3"
  },
  "varInspector": {
   "cols": {
    "lenName": 16,
    "lenType": 16,
    "lenVar": 40
   },
   "kernels_config": {
    "python": {
     "delete_cmd_postfix": "",
     "delete_cmd_prefix": "del ",
     "library": "var_list.py",
     "varRefreshCmd": "print(var_dic_list())"
    },
    "r": {
     "delete_cmd_postfix": ") ",
     "delete_cmd_prefix": "rm(",
     "library": "var_list.r",
     "varRefreshCmd": "cat(var_dic_list()) "
    }
   },
   "types_to_exclude": [
    "module",
    "function",
    "builtin_function_or_method",
    "instance",
    "_Feature"
   ],
   "window_display": false
  }
 },
 "nbformat": 4,
 "nbformat_minor": 2
}
