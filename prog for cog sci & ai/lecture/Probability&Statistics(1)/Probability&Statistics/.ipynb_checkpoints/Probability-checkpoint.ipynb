{
 "cells": [
  {
   "cell_type": "code",
   "execution_count": 4,
   "metadata": {},
   "outputs": [],
   "source": [
    "import warnings\n",
    "warnings.simplefilter(action='ignore', category=FutureWarning)\n",
    "warnings.simplefilter(action='ignore', category=UserWarning)\n",
    "\n",
    "import numpy as np\n",
    "import scipy.stats as stats\n",
    "import pandas as pd\n",
    "import matplotlib.pyplot as plt\n",
    "import seaborn as sns\n",
    "%matplotlib inline"
   ]
  },
  {
   "cell_type": "markdown",
   "metadata": {},
   "source": [
    "## Probability\n",
    " \n",
    "#### Quantify uncertainty  \n",
    "\n",
    "We use probability and statistics to quantify uncertainty. Probability can be thought of as an extension of logic to deal with uncertainty.\n",
    "\n",
    "Uncertainty comes about through may factors, for example:\n",
    "- Noisy measurements  \n",
    "- Lack of information  \n",
    "- Sampling Variation\n",
    "- Finite data sets  \n",
    " \n",
    "\n",
    "#### Probability and Statistics Inverse Relationship\n",
    "\n",
    "Probability: given a completely specified model -> predict data from running a random experiment. Given a fair coin, flip it 10 times and predict the number of heads.\n",
    "\n",
    "Statistics (Inferential): use data collected from running an experiment -> draw inferences about unknowns in model. Given 10 flips = [T,H,T,T,T,H,T,T,H,T], what is the bias of the coin\n",
    " "
   ]
  },
  {
   "cell_type": "markdown",
   "metadata": {},
   "source": [
    "   \n",
    "### Terminology\n",
    " \n",
    "**Experiment** or **trial**: a process with an observable outcome.\n",
    "\n",
    "**Random Experiment**: An experiment whose outcome can not be predicted before the experiment is run (interpret this very broadly). For example:\n",
    "\n",
    "- Roll of a die  \n",
    "- Flip of a coin  \n",
    "- Picking a random person and measuring the person's weight  \n",
    "- Recording the reaction time of subjects to experimental stimuli  \n",
    "    \n",
    "**Random Variable**: the distribution of the outcomes of a random experiment (process). A function from outcomes to a real number.  Two types:\n",
    "\n",
    "- Discrete: the sum of rolls of 10 dice  \n",
    "- Continuous: the temperature tomorrow in Troy  \n",
    "    \n",
    "**Sample Space**: the set of all possible outcomes of a random experiment. e.g. Flip a coin twice: S = (HH,HT,TH,TT)\n",
    "\n",
    "**Event**: a subset of the sample space (i.e. a set of outcomes) to which a probability is assigned. e.g. If I roll a 6-sided die, then rolling a 1 is an event (p=1/6). Rolling a 2,4 or 6 is an event (p=1/2)\n",
    "\n",
    "The **Probability of an event** is a measure of certainty of that event.\n",
    "\n",
    "A **Statistic** is a measure of some attribute of a sample. It is a function of the sample values. e.g. the average GPA of the students in this room (i.e. a sample of the RPI population).\n",
    "        \n",
    "        "
   ]
  },
  {
   "cell_type": "markdown",
   "metadata": {},
   "source": [
    "### Naive definition of probability\n",
    "\n",
    "#### If all outcomes are equally likely, then then probability of event A occurring:\n",
    "\n",
    "$$P(A) = \\frac{\\text{# number of favorable outcomes to A}}{\\text{# of possible outcomes}}$$"
   ]
  },
  {
   "cell_type": "markdown",
   "metadata": {},
   "source": [
    "### Mathematical Definition:  Kolmorgorov Axioms\n",
    "\n",
    "The Axiomatic(Formal Theory) of Probability was formulated by A.N. Kolmorgorov in the 1930s.\n",
    "\n",
    "Given an event A in a sample space $\\Omega = (\\cup^N_{i=1}{A_i})$, $P(A_i)$ is called the Probability of event $A_i$\n",
    "\n",
    "#### Three Axioms\n",
    " \n",
    "1. $0 \\le{P(A_i)} \\le1$  \n",
    "The probability of an event is a value between 0 and 1\n",
    "2. $P(\\Omega)$ = 1  \n",
    "The probability of all the events sums to one.\n",
    "3. $Given: A\\cap{B} = 0\\text{ then }P(A\\cup{B}) = P(A) + P(B)$  \n",
    "The probability of the union of two disjoint events is the sum of their probabilities.\n",
    "   \n",
    "\n",
    " \n",
    "### Properties\n",
    "\n",
    "Denote the complement of an event A: $\\bar{A} = \\Omega - A$\n",
    "\n",
    "$A \\cap{\\bar{A}} = \\emptyset$\n",
    "\n",
    "$1 = P(\\Omega) = P(A) + P(\\bar{A})\\text{ that is}P(\\bar{A}) = 1 - P(A)$\n",
    "\n",
    "$P(\\emptyset) = 0$\n",
    "\n",
    "$\\text{if }A\\subset{B}\\text{ then }P(A)\\leq{P(B)}$"
   ]
  },
  {
   "cell_type": "markdown",
   "metadata": {},
   "source": [
    "### Joint and Marginal Probability\n",
    "\n",
    "**Joint Probability** is the probability of both events A and B occurring: $P(AB)$  \n",
    "\n",
    "Notation: $P(A\\cap{B})$ or $P(AB)$ or $P(A,B)$\n",
    "\n",
    "**Marginal Probability** is the probability of just A or just B occurring: P(A), P(B).\n",
    "\n",
    "### Conditional Probability\n",
    "\n",
    "The **Conditional Probability** is the probability of an event occurring given another event has occurred P(A|B)  \n",
    " \n",
    "P(A|B) is the conditional probability of A given B (assuming $P(B) \\gt 0$)\n",
    "<div style=\"font-size: 115%;\">\n",
    "$$P(A|B) = \\frac{P(A\\cap{B})}{P(B)}$$\n",
    "</div>\n",
    "\n",
    "Note:  The Denominator resizes the sample space.\n",
    "\n",
    "**P(AB) = P(A|B)P(B)**"
   ]
  },
  {
   "cell_type": "markdown",
   "metadata": {},
   "source": [
    "### Independence\n",
    "\n",
    "If two random variables are independent, then knowing about one gives you no information about the other.\n",
    "\n",
    "Events A and B are independent if\n",
    "\n",
    "<div style=\"font-size: 115%;\">  \n",
    "$$P(A|B) = P(A)$$\n",
    "</div>\n",
    "\n",
    "or\n",
    "\n",
    "<div style=\"font-size: 115%;\">  \n",
    "$$P(AB) = P(A)P(B) = P(B)P(A)$$\n",
    "</div>\n",
    "\n",
    "#### Conditional Independence\n",
    "\n",
    "Events A and B are conditionally independent given event C if\n",
    "\n",
    "<div style=\"font-size: 115%;\"> \n",
    "$$P(AB|C) = P(A|C)P(B|C)$$\n",
    "</div>\n",
    "\n",
    "or\n",
    "\n",
    "<div style=\"font-size: 115%;\"> \n",
    "$$P(A|BC) = P(A|C)$$\n",
    "</div>\n",
    "\n",
    "\n",
    "Conditional independence does not imply independence and independence does not imply conditional independence."
   ]
  },
  {
   "cell_type": "markdown",
   "metadata": {},
   "source": [
    "#### Example of Joint, Marginal and Conditional Probability\n",
    "\n",
    "Given:  \n",
    "\n",
    "P(A,C) = .1  \n",
    "P(A) = .6  \n",
    "P(B,C) = .05  \n",
    "\n",
    "What is joint probability of B and D?\n",
    "\n",
    "What is the conditional probability, A given C.\n",
    "\n",
    "Are A and C independent? why?"
   ]
  },
  {
   "cell_type": "markdown",
   "metadata": {},
   "source": [
    "| <i></i>|C|D| <i></i> |\n",
    "|-----|-----|---- |---- |\n",
    "|A|.1 | - | .6 |\n",
    "|B |.05 | -  | - | \n",
    "|<i></i>|-|-|1.0|"
   ]
  },
  {
   "cell_type": "markdown",
   "metadata": {},
   "source": [
    "| <i></i>|C|D| <i></i> |\n",
    "|-----|-----|---- |---- |\n",
    "|A|.1 | .5| .6 |\n",
    "|B |.05 | .35 | .4 | \n",
    "|<i></i>|.15|.85|1.0|"
   ]
  },
  {
   "cell_type": "markdown",
   "metadata": {},
   "source": [
    "𝑃(𝐴|𝐶)=𝑃(𝐴,𝐶)/𝑃(𝐶)  = .1/.15 = .666  \n",
    "P(A) = P(A,C) + P(A,D) = .1 + .5 = .6  \n",
    "No, Independent if P(A|C) = P(A), .666 ≠ .6 or Independent if P(A,C) = P(A)P(C), .6 ≠ .6*.15"
   ]
  },
  {
   "cell_type": "markdown",
   "metadata": {},
   "source": [
    "### Sum Rule\n",
    "\n",
    "<div style=\"font-size: 115%;\"> \n",
    "$$P(A\\cup{B}) = P(A) + P(B) - P(A\\cap{B})$$\n",
    "</div>\n",
    " \n",
    "\n",
    "\n",
    "\n",
    "![](additivity.png)\n",
    "\n",
    "$\\text{Figure 1. Law of Additivity}$"
   ]
  },
  {
   "cell_type": "markdown",
   "metadata": {},
   "source": [
    "### Product Rule\n",
    "\n",
    "<div style=\"font-size: 115%;\"> \n",
    "$$P(A\\cap{B}) = P(A|B)P(B) = P(B|A)P(A) = P(B\\cap{A})$$\n",
    "</div>\n",
    "\n",
    "$P(B|A) = \\frac{P(A\\cap{B})}{P(A)}$ Denominator renormalizes the sample space\n",
    " \n",
    "More generally:\n",
    "\n",
    "<div style=\"font-size: 115%;\">\n",
    "$$P(A,B,C) = P(A|B,C)\\cdot{P(B|C)}\\cdot{P(C)}$$\n",
    "</div>"
   ]
  },
  {
   "cell_type": "markdown",
   "metadata": {},
   "source": [
    "### Law of Total Probability\n",
    "\n",
    "<div style=\"font-size: 115%;\"> \n",
    "$$P(A) = \\sum_{i}P(A\\cap{B_i})$$\n",
    "\n",
    "$$P(A) = \\sum_{i}P(A|B_i)P(B_i)$$\n",
    "</div>\n",
    "\n",
    "![](TotProb.jpeg)\n",
    "\n",
    "$\\text{Figure 2. Law of Total Probability}$\n",
    "\n",
    "\n",
    "#### Example:\n",
    "\n",
    "An urn has 3 red balls and 2 black balls with equal probability of being picked. If a red ball is picked it is replaced but a black ball is not replaced. \n",
    "\n",
    "What is the probability that the second ball picked is black?\n",
    "\n",
    "$A\\equiv{\\text{2nd ball picked is black}}$\n",
    "\n",
    "Divide the space into disjoint areas.\n",
    "\n",
    "$B_1\\equiv{\\text{1st ball picked is red}}$\n",
    "\n",
    "$B_2\\equiv{\\text{1st ball picked is black}}$\n",
    "\n",
    "$P(A) = P(A|B_1)P(B_1) + P(A|B_2)P(B_2)$\n",
    "\n",
    "Note: After $B_1$ the urn contains 3 red + 2 black., after $B_2$ the urn contains 3 red + 1 black.\n",
    "\n",
    "$P(A) = \\frac{2}{5}\\cdot{\\frac{3}{5}} + \\frac{1}{4}\\cdot{\\frac{2}{5}} = 0.34$"
   ]
  },
  {
   "cell_type": "markdown",
   "metadata": {},
   "source": [
    " \n",
    "### Bayes Theorem/Rule\n",
    "\n",
    "<div style=\"font-size: 115%;\"> \n",
    "$$P(H|D) = \\frac{P(D|H)P(H)}{P(D)}$$\n",
    "</div>\n",
    "\n",
    "P(H|D) = Posterior Probability  \n",
    "P(D|H) = Likelihood  \n",
    "P(H) = Prior Probability  \n",
    "P(D) = Evidence or Marginal Likelihood\n"
   ]
  },
  {
   "cell_type": "markdown",
   "metadata": {},
   "source": [
    "\n",
    "<div style=\"font-size: 110%;\"> \n",
    "$$P(H|D) = \\frac{P(H,D)}{P(D)} \\text{  (Definition of Conditional Probability) } \\\\\n",
    "= \\frac{P(D|H)P(H)}{P(D)}\\text{   (Product Rule) } \\\\\n",
    "= \\frac{P(D|H)P(H)}{\\sum{P(D|H)P(H))}}\\text{   (Law of Total Probability)}  $$\n",
    "</div>"
   ]
  },
  {
   "cell_type": "markdown",
   "metadata": {},
   "source": [
    "pos: Test is positive  \n",
    "neg: Test is negative  \n",
    "COV: Has Covid19  \n",
    "COVFree: Covid19 free  \n",
    "\n",
    "<div style=\"font-size: 115%;\">\n",
    "$$P(COV|pos) = \\frac{P(pos|COV)P(COV)}{P(pos|COV)P(COV) + P(pos|COVFree)P(COVFree)}$$\n",
    "</div>\n",
    "\n",
    "\n",
    "#### IF:\n",
    "Base rate for COV: 1 person in every 1000 people  \n",
    "Probability of True Positive P(pos|COV): 97%  \n",
    "Probability of True Negative P(neg|COVFree): 99%  \n",
    "\n",
    "What is the Probability that the person has covid if this test (whose accuracy is 97%) is positive?"
   ]
  },
  {
   "cell_type": "markdown",
   "metadata": {
    "jupyter": {
     "source_hidden": true
    },
    "tags": []
   },
   "source": [
    "    \n",
    "<div style=\"font-size: 115%;\">\n",
    "$$P(COV|pos) = \\frac{.97*0.001}{.97*0.001 + (1 - .99)*0.999}$$\n",
    "</div>"
   ]
  },
  {
   "cell_type": "code",
   "execution_count": 5,
   "metadata": {
    "jupyter": {
     "outputs_hidden": true,
     "source_hidden": true
    },
    "tags": []
   },
   "outputs": [
    {
     "data": {
      "text/plain": [
       "0.08850364963503642"
      ]
     },
     "execution_count": 5,
     "metadata": {},
     "output_type": "execute_result"
    }
   ],
   "source": [
    ".97*0.001/(.97*0.001 + (1 - .99)*0.999)"
   ]
  },
  {
   "cell_type": "markdown",
   "metadata": {
    "tags": []
   },
   "source": [
    "\n",
    "  \n",
    "### Random Variables (X)\n",
    "\n",
    "(Mathematical definition)A function which maps outcomes of random processes (experiment) to a number. Two types: Discrete and Continuous.\n",
    "\n",
    "#### i.i.d. Independent identically distributed\n",
    "\n",
    "We often assume a sequence of RVs $X_1,X_2,...,X_n$ are i.i.d. \n",
    "\n",
    "That is, they are pairwise independent and all come from the same distribution.\n",
    "\n",
    "    "
   ]
  },
  {
   "cell_type": "markdown",
   "metadata": {},
   "source": [
    "#### Indicator Random Variable\n",
    "\n",
    "An indicator random variable is a random variable that is an indicator of some event.\n",
    "\n",
    "I(A) = 1 if event A occurs otherwise 0\n",
    "        "
   ]
  },
  {
   "cell_type": "markdown",
   "metadata": {},
   "source": [
    "### Functions of RVs\n",
    "\n",
    "#### Probability Mass Function (PMF)\n",
    "\n",
    "A function that calculates the probability that a **discrete** random variable equals a specific value. It must sum to 1.\n",
    "\n",
    "$$P(X=x) = f_X(x)$$\n",
    "\n",
    " "
   ]
  },
  {
   "cell_type": "markdown",
   "metadata": {},
   "source": [
    "#### Probability Density Function (PDF) \n",
    "\n",
    "A function that calculates the relative likelihood of a **continuous** random variable to equal a certain value. $f_X(x)$. It must be positive.\n",
    "\n",
    "Density is the ratio of probability mass to width of an interval\n",
    "\n",
    "The density is NOT a probability. The area under the curve is the probability, it must integrate to 1\n",
    "    \n",
    "<div style=\"font-size: 115%;\">\n",
    "$$f(x ; \\mu, \\sigma) = \\frac{1}{\\sigma\\sqrt{2\\pi}}e^{-\\frac{(x-\\mu)^2}{2\\sigma^2}}$$\n",
    "</div>\n",
    "\n",
    "$$ f(x) = 3x^2 \\text{ for }x\\in{(0,1)}$$\n",
    "\n",
    "\n",
    "$$ f(x) = x^3/4 \\text{ for }x\\in{(0,c)}\\text{ What is c?}$$\n",
    "\n",
    "#### Likelihood function (L)\n",
    "\n",
    "PDFs and PMFs are functions of the data with fixed parameters.\n",
    "\n",
    "A Likelihood function is a function with the same functional form as PMF or PDF but is a function of the parameter for fixed data point. \n",
    "\n",
    "\n",
    "\n",
    "$$f(\\mu, \\sigma; x) = \\frac{1}{\\sigma\\sqrt{2\\pi}}e^{-\\frac{(x-\\mu)^2}{2\\sigma^2}}$$\n",
    "\n",
    "    \n",
    "#### Cumulative Distribution Function (CDF) \n",
    "\n",
    "A function that calculates the probability that a random variable X  will take on a value less than or equal to x. $$P(X \\leqq{x}) = F_X(x)$$\n",
    "\n",
    "For continuous probability distributions it is the integral of the pdf.\n",
    "$$  P(2\\leqq{X}\\leqq{4}) = \\int^4_2f(x)dx$$\n",
    "\n",
    "#### Percent Point Function (PPF)\n",
    "\n",
    "A function that calculates the value of a random variable given the percentile (also called quantile) of the value.\n",
    "\n",
    "It is the inverse of CDF. Input is a probability and the output is a value of the Random Variable \n",
    "    \n",
    "#### Random Variable generation function (RVS)\n",
    "\n",
    "A function that samples from the distribution of the random variable"
   ]
  },
  {
   "cell_type": "markdown",
   "metadata": {},
   "source": [
    "### Expected Value\n",
    " \n",
    "The Expected Value of a Random Variable is its Mean, i.e. the average value. It is a weighted average of the possible outcomes of the random variable.\n",
    "\n",
    "For Discreet RVs:\n",
    "\n",
    "<div style=\"font-size: 115%;\"> \n",
    "$$E(X) = \\sum_x{x\\cdot{p(x)}}$$\n",
    "</div>\n",
    "\n",
    "For Continuous RVs:\n",
    "\n",
    "<div style=\"font-size: 115%;\"> \n",
    "$$E(X) = \\int_x{x\\cdot{p(x)dx}}$$\n",
    "</div>"
   ]
  },
  {
   "cell_type": "markdown",
   "metadata": {},
   "source": [
    "#### Discrete example of expected value as a weighted average \n",
    "\n",
    "<div style=\"font-size: 115%;\"> \n",
    "$$E(X) = \\sum_S{x\\cdot{p(X = x)}}$$\n",
    "</div>\n",
    "\n",
    "S is the sample space\n",
    "\n",
    "X is a Random Variable with values $\\in$ {1,2,3} and PMF =  P(X=1)=1/8, P(X=2)=3/8, and P(X=3)=1/2\n",
    "\n",
    "$E(X) = 1 \\ast P(X = 1) + 2 \\ast P(X = 2) + 3 \\ast P(X = 3)$"
   ]
  },
  {
   "cell_type": "code",
   "execution_count": 6,
   "metadata": {
    "scrolled": true
   },
   "outputs": [
    {
     "data": {
      "text/plain": [
       "2.375"
      ]
     },
     "execution_count": 6,
     "metadata": {},
     "output_type": "execute_result"
    }
   ],
   "source": [
    "E_X = 1 * 1/8 + 2 * 3/8 + 3 * 1/2;E_X"
   ]
  },
  {
   "cell_type": "code",
   "execution_count": 7,
   "metadata": {},
   "outputs": [
    {
     "data": {
      "text/plain": [
       "2.375"
      ]
     },
     "execution_count": 7,
     "metadata": {},
     "output_type": "execute_result"
    }
   ],
   "source": [
    "X = (1,1,1,2,2,2,2,2,2,2,2,2,3,3,3,3,3,3,3,3,3,3,3,3)\n",
    "np.mean(X)"
   ]
  },
  {
   "cell_type": "code",
   "execution_count": 8,
   "metadata": {},
   "outputs": [
    {
     "data": {
      "image/png": "[encoded data removed]",
      "text/plain": [
       "<Figure size 432x288 with 1 Axes>"
      ]
     },
     "metadata": {
      "needs_background": "light"
     },
     "output_type": "display_data"
    }
   ],
   "source": [
    "sns.histplot(X,kde=False,bins=3);\n"
   ]
  },
  {
   "cell_type": "markdown",
   "metadata": {},
   "source": [
    "#### Expectation of a function of a Random Variable\n",
    "\n",
    "Let X be a Random Variable with Probability Density Function p(x)\n",
    "\n",
    "Let Y = g(X) be a Random Variable that is a function of X\n",
    "\n",
    "<div style=\"font-size: 115%;\">\n",
    "$$E(Y) = E(g(x)) = \\int_{-\\infty}^{+\\infty}g(x)p(x)dx$$\n",
    "</div>"
   ]
  },
  {
   "cell_type": "markdown",
   "metadata": {},
   "source": [
    " \n",
    "\n",
    "### Distributions\n",
    " \n",
    "#### Discrete\n",
    "\n",
    "* Binomial\n",
    "    + Bernoulli\n",
    " \n",
    "#### Continuous\n",
    "\n",
    "* Normal\n",
    "* Uniform\n",
    "* Exponential\n"
   ]
  },
  {
   "cell_type": "markdown",
   "metadata": {},
   "source": [
    "### For every distribution Scipy provides four functions\n",
    " \n",
    "* Probability Mass Function (PMF)or Probability Density Function (PDF)\n",
    "* Cumulative Distribution Function (CDF) \n",
    "* Percent Point (PPF) (Inverse of Cumulative)\n",
    "* Random generation (RVS)"
   ]
  },
  {
   "cell_type": "markdown",
   "metadata": {},
   "source": [
    "### Normal (Gaussian) Distribution\n",
    " \n",
    "The Normal or Gaussian distribution is the most common continuous distribution for several reasons.\n",
    "\n",
    "It occurs very often in nature. Any process that repeatedly **adds** together fluctuations will tend towards a Normal distribution.\n",
    "\n",
    "The Central Limit Theorem implies that if you take repeated samples from a population with finite variance and calculate their averages, then the averages will be normally distributed. The underlying distribution can anything as long as it has finite variance.\n",
    "\n",
    "\n",
    "https://docs.scipy.org/doc/scipy/reference/generated/scipy.stats.norm.html#scipy.stats.norm\n",
    "\n",
    "        \n",
    "#### Probability Density Function (PDF): \n",
    "\n",
    "<div style=\"font-size: 115%;\">\n",
    "$$f(x ; \\mu, \\sigma) = \\frac{1}{\\sigma\\sqrt{2\\pi}}e^{-\\frac{(x-\\mu)^2}{2\\sigma^2}}$$\n",
    "</div>\n",
    "\n",
    "x: data  \n",
    "Location parameter (mean): $\\mu$  \n",
    "Scale parameter: different expressions for scale parameter:\n",
    "- Standard deviation: $\\sigma$  \n",
    "- Precision: 1/variance: $\\tau = 1/\\sigma^2$  \n",
    "- Variance: $\\sigma^2$\n"
   ]
  },
  {
   "cell_type": "markdown",
   "metadata": {},
   "source": [
    "#### Plot $X \\sim N(\\mu=0,sd=.25)$\n",
    "\n",
    "X is Random Variable Normally distributed with mean = 0 and standard devation = 0.25"
   ]
  },
  {
   "cell_type": "code",
   "execution_count": 9,
   "metadata": {},
   "outputs": [],
   "source": [
    "from scipy.stats import norm"
   ]
  },
  {
   "cell_type": "code",
   "execution_count": 10,
   "metadata": {},
   "outputs": [
    {
     "data": {
      "image/png": "[encoded data removed]",
      "text/plain": [
       "<Figure size 432x288 with 1 Axes>"
      ]
     },
     "metadata": {
      "needs_background": "light"
     },
     "output_type": "display_data"
    }
   ],
   "source": [
    "x = np.linspace(-3,3,100) # range to plot\n",
    "# Create a Noramally distributed random variable\n",
    "rv = norm(loc=0,scale=.25) # fix to parameters: loc = mean, scale = standard deviation\n",
    "y = rv.pdf(x) # pdf method for\n",
    "plt.plot(x,y)\n",
    "plt.title(\"PDF of Normal(x,0.25)\")\n",
    "plt.xlabel(\"X\")\n",
    "plt.ylabel(\"Density\");"
   ]
  },
  {
   "cell_type": "markdown",
   "metadata": {},
   "source": [
    "Note: y-axis is a Density not a Probability"
   ]
  },
  {
   "cell_type": "markdown",
   "metadata": {},
   "source": [
    "#### Cummlative Probability Function (CDF):\n",
    " \n",
    "The CDF is the Integral of the PDF, i.e. the area under the PDF curve)"
   ]
  },
  {
   "cell_type": "code",
   "execution_count": 11,
   "metadata": {},
   "outputs": [
    {
     "data": {
      "image/png": "[encoded data removed]",
      "text/plain": [
       "<Figure size 432x288 with 1 Axes>"
      ]
     },
     "metadata": {
      "needs_background": "light"
     },
     "output_type": "display_data"
    }
   ],
   "source": [
    "y = rv.cdf(x)\n",
    "plt.plot(x,y)\n",
    "plt.title(\"CDF of Normal(0,.25)\")\n",
    "plt.xlabel(\"X\")\n",
    "plt.ylabel(\"Probability\");\n"
   ]
  },
  {
   "cell_type": "markdown",
   "metadata": {},
   "source": [
    "Note: y-axis is a Probability"
   ]
  },
  {
   "cell_type": "markdown",
   "metadata": {},
   "source": [
    "#### Stanard Normal\n",
    "\n",
    "if X has a Standard Normal distribution then $X \\sim N(0,1)$\n"
   ]
  },
  {
   "cell_type": "code",
   "execution_count": 12,
   "metadata": {},
   "outputs": [
    {
     "data": {
      "image/png": "[encoded data removed]",
      "text/plain": [
       "<Figure size 432x288 with 1 Axes>"
      ]
     },
     "metadata": {
      "needs_background": "light"
     },
     "output_type": "display_data"
    }
   ],
   "source": [
    "rv = norm() # Defaults to loc=0,scale=1\n",
    "y = rv.cdf(x)\n",
    "plt.plot(x,y)\n",
    "plt.title(\"CDF for Normal(0,1)\")\n",
    "plt.xlabel(\"X\")\n",
    "plt.ylabel(\"Probability\")\n",
    "\n",
    "x = -1\n",
    "prob = rv.cdf(x)\n",
    "plt.plot(x,prob,'bo')\n",
    "plt.vlines(x,0,prob,colors='b')\n",
    "plt.hlines(prob,-3,x,colors='b');"
   ]
  },
  {
   "cell_type": "markdown",
   "metadata": {},
   "source": [
    "#### Coverting to Stanard Normal\n",
    "\n",
    "$X \\sim N(0,1)$\n",
    "\n",
    "The term z-scores is the number of standard deviations from mean.\n",
    "\n",
    "To convert a value y from a distribution with mean $\\hat{y}$ and standard deviation s, subtract the mean and divide by the standard deviation: $z = \\frac{y - \\hat{y}}{s}$\n",
    "\n",
    "Measure the heights of 100 people, mean = 170 cm, sd = 8 cm.\n",
    "\n",
    "What is probability that a random selected person will be less than 160 cm in height?\n",
    "\n",
    "$z = \\frac{160 - 170}{8} = -1.25$"
   ]
  },
  {
   "cell_type": "code",
   "execution_count": 13,
   "metadata": {},
   "outputs": [
    {
     "name": "stdout",
     "output_type": "stream",
     "text": [
      "Probability that a random selected person will be less than 160 cm in height:\n"
     ]
    },
    {
     "data": {
      "text/plain": [
       "(0.10564977366685535, 0.10564977366685535)"
      ]
     },
     "execution_count": 13,
     "metadata": {},
     "output_type": "execute_result"
    }
   ],
   "source": [
    "from scipy.stats import norm\n",
    "print(\"Probability that a random selected person will be less than 160 cm in height:\")\n",
    "prob1 = norm.cdf(160,loc = 170, scale = 8)\n",
    "prob2 = norm.cdf(-1.25) # Standard Normal\n",
    "(prob1,prob2)"
   ]
  },
  {
   "cell_type": "markdown",
   "metadata": {},
   "source": [
    "#### Percent Point Function (PPF)\n",
    "\n",
    "The PPF is the Inverse of the CDF, it inputs a probability and outputs a data value"
   ]
  },
  {
   "cell_type": "code",
   "execution_count": 14,
   "metadata": {},
   "outputs": [
    {
     "name": "stdout",
     "output_type": "stream",
     "text": [
      "Probability of x = -1.0 for standard normal:  0.15865525393145707\n",
      "ppf(cdf(-1)):  -1.0\n"
     ]
    }
   ],
   "source": [
    "print(\"Probability of x = -1.0 for standard normal: \", prob)\n",
    "x = rv.ppf(prob)\n",
    "print(\"ppf(cdf(-1)): \",x)"
   ]
  },
  {
   "cell_type": "markdown",
   "metadata": {},
   "source": [
    "#### RV Generation"
   ]
  },
  {
   "cell_type": "code",
   "execution_count": 15,
   "metadata": {},
   "outputs": [
    {
     "name": "stdout",
     "output_type": "stream",
     "text": [
      "Mean = 5.039511, Variance = 4.048614\n"
     ]
    }
   ],
   "source": [
    "rv = norm(loc=5,scale = 2)\n",
    "X = rv.rvs(size = 10000) # 1000 samples\n",
    "mean = np.mean(X)\n",
    "var = np.var(X)\n",
    "print (\"Mean = %f, Variance = %f\" % (mean,var))"
   ]
  },
  {
   "cell_type": "code",
   "execution_count": 16,
   "metadata": {},
   "outputs": [
    {
     "data": {
      "image/png": "[encoded data removed]",
      "text/plain": [
       "<Figure size 432x288 with 1 Axes>"
      ]
     },
     "metadata": {
      "needs_background": "light"
     },
     "output_type": "display_data"
    }
   ],
   "source": [
    "sns.histplot(X,kde=True)\n",
    "plt.title(\"Random Sample from Normal(5,2)\");\n"
   ]
  },
  {
   "cell_type": "markdown",
   "metadata": {},
   "source": [
    "###  Central Limit Theorem\n",
    " \n",
    "The distribution of the mean of a large number of independent, identically distributed (i.i.d) samples from any distribution will converge to a Normal distribution as the sample size -> infinity.\n",
    "\n",
    "For example, if i repeatedly sample from a geometric distribution, the means of those samples will be normally distributed.\n"
   ]
  },
  {
   "cell_type": "code",
   "execution_count": 17,
   "metadata": {},
   "outputs": [
    {
     "data": {
      "image/png": "[encoded data removed]",
      "text/plain": [
       "<Figure size 432x288 with 1 Axes>"
      ]
     },
     "metadata": {
      "needs_background": "light"
     },
     "output_type": "display_data"
    }
   ],
   "source": [
    "rv = stats.geom(p = .5)\n",
    "x = np.arange(rv.ppf(0.01),rv.ppf(0.99))\n",
    "plt.plot(x, rv.pmf(x), 'bo', ms=8, label='geom pmf')\n",
    "plt.vlines(x, 0, rv.pmf(x), colors='b', lw=5, alpha=0.5);\n"
   ]
  },
  {
   "cell_type": "code",
   "execution_count": 18,
   "metadata": {},
   "outputs": [
    {
     "data": {
      "image/png": "[encoded data removed]",
      "text/plain": [
       "<Figure size 432x288 with 4 Axes>"
      ]
     },
     "metadata": {
      "needs_background": "light"
     },
     "output_type": "display_data"
    }
   ],
   "source": [
    "np.random.seed(1234)\n",
    "\n",
    "fig,((ax1,ax2),(ax3,ax4)) =  plt.subplots(nrows = 2,ncols=2)\n",
    "\n",
    "def mapMeanGeom(sample_size,p = .5): \n",
    "    return(np.mean(stats.geom.rvs(p,size=sample_size)))\n",
    "    \n",
    "\n",
    "means2 = [mapMeanGeom(2) for i in range(1000)]\n",
    "means10 = [mapMeanGeom(10) for i in range(1000)]\n",
    "means50 = [mapMeanGeom(50) for i in range(1000)]\n",
    "means100 = [mapMeanGeom(100) for i in range(1000)]\n",
    "\n",
    "\n",
    "sns.distplot(means2,ax=ax1)\n",
    "ax1.set_title(\"Means2\")\n",
    "\n",
    "sns.distplot(means10,ax=ax2)\n",
    "ax2.set_title(\"Means10\")\n",
    "\n",
    "sns.distplot(means50,ax=ax3)\n",
    "ax3.set_title(\"Means50\")\n",
    "\n",
    "sns.distplot(means100,ax=ax4)\n",
    "ax4.set_title(\"Means100\")\n",
    "\n",
    "plt.tight_layout()"
   ]
  },
  {
   "cell_type": "markdown",
   "metadata": {},
   "source": [
    "#### Generate Unknown Population"
   ]
  },
  {
   "cell_type": "code",
   "execution_count": 19,
   "metadata": {
    "jupyter": {
     "outputs_hidden": true,
     "source_hidden": true
    },
    "tags": []
   },
   "outputs": [
    {
     "name": "stdout",
     "output_type": "stream",
     "text": [
      "a = 2.977, loc = 0.001, scale = 0.502\n",
      "Mean = 1.501, Standard Deviation = 0.867\n"
     ]
    }
   ],
   "source": [
    "# Population parameter specifications\n",
    "shape_a = 2.99\n",
    "loc = 0.\n",
    "scale = 0.5\n",
    "\n",
    "# Create Population Data\n",
    "population = stats.gamma.rvs(a = shape_a, loc = loc, scale = scale, size = 1000000,random_state=42)\n",
    "\n",
    "# Check out the gamma.fit function on the population data.\n",
    "\n",
    "a,loc,scale = stats.gamma.fit(population) # returns 3 parameters, return order: a, loc, scale\n",
    "print(f'a = {a.round(3)}, loc = {loc.round(3)}, scale = {scale.round(3)}')\n",
    "\n",
    "# Mean and Standard deviation of Popuation\n",
    "rv = stats.gamma(a=shape_a,loc=loc,scale=scale)\n",
    "m,v = rv.stats()\n",
    "print(f'Mean = {m.round(3)}, Standard Deviation = {np.sqrt(v).round(3)}') "
   ]
  },
  {
   "cell_type": "code",
   "execution_count": null,
   "metadata": {},
   "outputs": [],
   "source": [
    "sns.histplot(population,kde=True);"
   ]
  },
  {
   "cell_type": "markdown",
   "metadata": {},
   "source": [
    "#### Generate sample means"
   ]
  },
  {
   "cell_type": "code",
   "execution_count": null,
   "metadata": {},
   "outputs": [],
   "source": [
    "sample_size = 10000\n",
    "num_iter = 10000\n",
    "means = np.zeros(num_iter)\n",
    "\n",
    "for i in range(num_iter):\n",
    "    random_sample = np.random.choice(population, size = sample_size)\n",
    "    sample_means[i] = np.mean(random_sample)\n",
    "\n",
    "sample_means.shape"
   ]
  },
  {
   "cell_type": "markdown",
   "metadata": {},
   "source": [
    "#### Fit Normal Distribution to means"
   ]
  },
  {
   "cell_type": "code",
   "execution_count": null,
   "metadata": {},
   "outputs": [],
   "source": [
    "loc,scale=stats.norm.fit(sample_means) Adjust to Population\n",
    "sigma = scale*np.sqrt(sample_size)\n",
    "print(f'Mean of Unknown Population = {loc.round(3)}\\nStandard Deviation of Unknown Population ={sigma.round(3)}')"
   ]
  },
  {
   "cell_type": "markdown",
   "metadata": {},
   "source": [
    "### Binomial Distribution \n",
    "\n",
    "The Binomial distribution is a discrete distribution with two parameters (n,p). It outputs the number of successes in n trials when p is the probability of a success.\n",
    " \n",
    "https://docs.scipy.org/doc/scipy/reference/stats.html\n",
    "\n",
    "https://docs.pymc.io/api/distributions/discrete.html#pymc3.distributions.discrete.Binomial\n",
    "\n",
    "If I flip a fair coin twenty times, what is the probability of 7 heads?\n",
    "\n",
    "To answer use a Binomial(n=20,p=.5) distribution. p = .5 because it is a fair coin. The number of trials is the number of times the coin is flipped.\n",
    "\n",
    "\n",
    "The  Bernoulli  distribution is a special case of the Binomial, i.e. when there is only 1 trial. Binom(1,p)\n",
    "\n",
    "#### PMF\n",
    "\n",
    "<div style=\"font-size: 115%;\">\n",
    "$$P(X=k ; n,p) = \\frac{n!}{k!(n - k)!}p^k(1 - p)^{(n - k)}$$\n",
    "</div>\n",
    " \n",
    "Where: \n",
    "\n",
    "* X: the random variable  \n",
    "* k: the # successes(7)   \n",
    "* n: the size parameter, i.e. the number of trials\n",
    "* p: the rate parameter, i.e. the success probability \n",
    " \n",
    "#### Mean and Variance: \n",
    "\n",
    "<div style=\"font-size: 115%;\">\n",
    "$$E(X) = n * p$$  \n",
    "      \n",
    "$$Var(X) = n * p * (1-p) = n * p * q$$\n",
    "</div>\n"
   ]
  },
  {
   "cell_type": "markdown",
   "metadata": {},
   "source": [
    "#### PMF"
   ]
  },
  {
   "cell_type": "code",
   "execution_count": null,
   "metadata": {},
   "outputs": [],
   "source": [
    "from scipy.stats import binom"
   ]
  },
  {
   "cell_type": "code",
   "execution_count": null,
   "metadata": {},
   "outputs": [],
   "source": [
    "# Generic method pmf\n",
    "k, n, p = 7, 20, .5  # # success, size, probability of success\n",
    "prob = binom.pmf(k, n, p)\n",
    "print(f'P(X = {k}) is {round(prob,4)}')"
   ]
  },
  {
   "cell_type": "code",
   "execution_count": null,
   "metadata": {},
   "outputs": [],
   "source": [
    "# Number of successes as a vector (numpy arrray)\n",
    "\n",
    "x = np.arange(0,21,step=1,dtype='int')\n",
    "y = binom.pmf(x, n, p)\n",
    "plt.plot(x,y,'bo')\n",
    "plt.vlines(x, 0, binom.pmf(x, n, p), colors='b', lw=5, alpha=0.5)\n",
    "plt.ylabel(\"Probability\");\n"
   ]
  },
  {
   "cell_type": "markdown",
   "metadata": {},
   "source": [
    "#### Scipy/stats frozen random variable"
   ]
  },
  {
   "cell_type": "code",
   "execution_count": null,
   "metadata": {},
   "outputs": [],
   "source": [
    "# Freeze the random variable\n",
    "rv = binom(n,p) \n",
    "rv.pmf(k)"
   ]
  },
  {
   "cell_type": "markdown",
   "metadata": {},
   "source": [
    "#### CDF and PPF "
   ]
  },
  {
   "cell_type": "code",
   "execution_count": null,
   "metadata": {},
   "outputs": [],
   "source": [
    "# PPF is inverse of CDF\n",
    "prob = binom.cdf(k,n,p)\n",
    "q = binom.ppf(prob,n,p)\n",
    "print(f'Probability = {np.round(prob,4)}, k = {q}')"
   ]
  },
  {
   "cell_type": "code",
   "execution_count": null,
   "metadata": {},
   "outputs": [],
   "source": [
    "probs = binom.cdf(x,n,p)\n",
    "plt.plot(x,probs,'-')\n",
    "plt.plot(q,prob,'bo')\n",
    "plt.vlines(k,0,prob,colors='b')\n",
    "plt.hlines(prob,0,k,colors='b');\n"
   ]
  },
  {
   "cell_type": "markdown",
   "metadata": {},
   "source": [
    "#### Random Variable Generation"
   ]
  },
  {
   "cell_type": "code",
   "execution_count": null,
   "metadata": {},
   "outputs": [],
   "source": [
    "rv = binom.rvs(n,p,size = 1000)\n",
    "plt.hist(rv,50);\n"
   ]
  },
  {
   "cell_type": "code",
   "execution_count": null,
   "metadata": {},
   "outputs": [],
   "source": [
    "# numpy method for generating RV\n",
    "rvs.binomial(n,p,size = 5)"
   ]
  },
  {
   "cell_type": "markdown",
   "metadata": {},
   "source": [
    "### Coin flipping simulation"
   ]
  },
  {
   "cell_type": "code",
   "execution_count": null,
   "metadata": {},
   "outputs": [],
   "source": [
    "np.random.seed(1235)\n",
    "\n",
    "def flip (p = 0.5):\n",
    "    return np.random.choice(100) <= 100*p\n",
    "\n",
    "def nFlips (n, p = 0.5):\n",
    "    return sum(np.array([flip(p) for i in range(n)]))\n",
    "\n",
    "def simPmfBinom (k,n,p=0.5,N_Iters = 10000):\n",
    "    total = np.array([nFlips(n,p) for i in range(N_Iters)])\n",
    "    return( sum(total == k)/N_Iters)\n",
    "\n",
    "simPmfBinom(7,20)\n"
   ]
  },
  {
   "cell_type": "markdown",
   "metadata": {},
   "source": [
    "### Bernouilli Distribution\n",
    " \n",
    "A **Bernoulli Trial** is a random experiment with exactly two possible outcomes, {success, failure}.\n",
    "\n",
    "A Bernouilli distributed RV takes a value of 1 with probability p and a value of zero with probability (1-p).\n",
    "\n",
    "#### PMF \n",
    "\n",
    "<div style=\"font-size: 115%;\">\n",
    "$$ P(X=k;p) = p^k\\cdot{(1 - p)^{(1-k)}\\text{ for k}\\in{\\{0,1\\}}}$$\n",
    "</div>\n",
    "\n",
    "#### Mmean and Variance\n",
    "\n",
    "<div style=\"font-size: 115%;\">\n",
    "$$E(X) = p$$  \n",
    "$$Var(X) = p(1-p)$$  \n",
    "</div>"
   ]
  },
  {
   "cell_type": "markdown",
   "metadata": {},
   "source": [
    " ### Binomial as sum of Bernoullis \n",
    "\n",
    "* If $X_1,X_2,...,X_n$ are independent, identically distributed (i.i.d.) Bernoulli random variables with\n",
    "success probability p, then there sum is a Binomial random variable Y, such that\n",
    "\n",
    " \n",
    "$Y = \\sum^n_{k=1}X_k\\sim{Binom(n,p)}$\n",
    "    \n"
   ]
  },
  {
   "cell_type": "markdown",
   "metadata": {},
   "source": [
    "### Exponential Distribution\n",
    "\n",
    "The probability distribution of the time between events in a Poisson process.\n",
    "\n",
    "<div style=\"font-size: 110%;\">\n",
    "$$P(T > (s+t) | T > s) =P(T>t)$$\n",
    "</div>\n",
    "\n",
    " It is the only Memoryless distribution. No matter how long you've waited for an event to happen, the distribution of the time you still have to wait until the next event is the exact same. The future is independent of the past.\n",
    " \n",
    "It is a member of the exponential family. The Normal, Bernoulli and Binomial (with fixed # of trials) are also members of the exponential family.\n",
    "    \n",
    "#### PDF\n",
    "\n",
    "<div style=\"font-size: 115%;\">\n",
    "$$ f(x;\\lambda)  = \\lambda e^{-\\lambda x} \\text{ for }x\\ge 0$$\n",
    "</div>\n",
    "\n",
    "$\\lambda$ is the rate of event occurrence."
   ]
  },
  {
   "cell_type": "code",
   "execution_count": null,
   "metadata": {},
   "outputs": [],
   "source": [
    "x = np.linspace(expon.ppf(0.01),expon.ppf(0.99), 100)\n",
    "plt.plot(x,expon.pdf(x),label = 'lambda=1')\n",
    "lam = 1.5\n",
    "plt.plot(x,expon.pdf(x,loc= 0, scale=1/lam),label = 'lambda=1.5')\n",
    "plt.legend();"
   ]
  },
  {
   "cell_type": "markdown",
   "metadata": {},
   "source": [
    "#### Mean and Variance\n",
    "\n",
    "Mean: $1/\\lambda$\n",
    "\n",
    "Variance: $1/\\lambda^2$"
   ]
  },
  {
   "cell_type": "code",
   "execution_count": null,
   "metadata": {},
   "outputs": [],
   "source": [
    "rv = expon(loc=0,scale=1/lam)\n",
    "rv.mean(),rv.var()"
   ]
  },
  {
   "cell_type": "code",
   "execution_count": null,
   "metadata": {},
   "outputs": [],
   "source": [
    "d = expon.rvs(loc=0,scale=1/lam,size = 1000)\n",
    "np.mean(d)"
   ]
  },
  {
   "cell_type": "markdown",
   "metadata": {},
   "source": [
    "### Uniform distribution\n",
    " \n",
    "A distribution with equal probability in an interval [a,b], where a = loc, b = loc + scale. Defaults to [0,1]\n",
    "    \n",
    "#### PDF\n",
    "\n",
    "<div style=\"font-size: 115%;\">\n",
    "$$f(x;a,b) = \\frac{1}{b-a}\\text{ for x}\\in [a,b],\\text{ 0 otherwise}$$\n",
    "</div>\n",
    "\n",
    "#### Mean and Variance\n",
    " \n",
    "$$ Mean = \\frac{1}{2}\\cdot(a+b)$$  \n",
    "$$Variance = \\frac{1}{12}\\cdot{(b-a)^2}$$"
   ]
  },
  {
   "cell_type": "code",
   "execution_count": null,
   "metadata": {},
   "outputs": [],
   "source": [
    "fig,(ax1,ax2) = plt.subplots(1,2,figsize = (10,4))\n",
    "size = 1000\n",
    "ax1.plot(stats.uniform.rvs(size=size),stats.uniform.rvs(size=size),'o')\n",
    "ax1.set_title(\"Scipy 2-D Uniform(0,1)\");\n",
    "\n",
    "ax2.plot(rvs.random(size = size),rvs.random(size = size),'o')\n",
    "ax2.set_title(\"Numpy 2-D Uniform(0,1)\");"
   ]
  },
  {
   "cell_type": "markdown",
   "metadata": {},
   "source": [
    "#### Simulate coin flipping"
   ]
  },
  {
   "cell_type": "code",
   "execution_count": null,
   "metadata": {},
   "outputs": [],
   "source": [
    "np.random.seed(1234)\n",
    "\n",
    "def flip(p=0.5):\n",
    "    return (1 if stats.uniform.rvs(loc=0,scale=1,size=1) < p else 0)\n",
    "flips = np.array([flip(.8) for i in range(1000)])\n",
    "print(f'Flipping a .8 biased coin 1000 times: {sum(flips)/1000}')"
   ]
  },
  {
   "cell_type": "markdown",
   "metadata": {},
   "source": [
    "### Connections between distributions\n",
    "\n",
    "![](distribution_chart.gif)\n",
    "![](distributions_rel.png)\n",
    "\n"
   ]
  },
  {
   "cell_type": "markdown",
   "metadata": {},
   "source": [
    "### Linear Regression revisited: Probabilistic Interpretation\n",
    "\n",
    "The dependent variable is a Normal RV with mean = $b_0 + b_1x$ and variance $\\sigma^2$\n",
    "\n",
    "<div style=\"font-size: 115%;\">\n",
    "$$y \\sim N(b_0 + b_1x, \\sigma^2)$$\n",
    "</div>\n",
    "\n",
    "\n",
    "![](Prob_LinReg.png)\n",
    "\n",
    "$\\text{Figure 3. Probabilistic Linear Regression. Source: Saylor Academy Introductory Statistics}$\n"
   ]
  },
  {
   "cell_type": "markdown",
   "metadata": {},
   "source": [
    "### Appendix"
   ]
  },
  {
   "cell_type": "markdown",
   "metadata": {},
   "source": [
    "### Two different interpretations of probability\n",
    "\n",
    "https://xkcd.com/1132/\n",
    "\n",
    "#### Frequentists or Classical interpretation of probability.\n",
    " \n",
    "Probability is the long run frequency of a sequence of events. The Law of Large Numbers\n",
    "guarantees convergence to a value as the number of events goes to infinity. But infinite sequences don't occur in real world.\n",
    "\n",
    "Frequentists report point estimates and confidence intervals but do not consider the uncertainty in their estimates.\n",
    "\n",
    "Frequentists believe in the real-world data generating process the parameters are fixed, and the data is random.\n",
    "\n",
    "Freqentistics relay on estimators that they must develop for each new quantity of interest and datasets that could have been collected but weren't. For example, 95% confident intervals.\n",
    "\n",
    "Null Hypothesis Significant Testing and p-values answer the wrong question , i.e. if the null hypothesis were True...\n",
    "\n",
    "####  Bayesian (Bayes, LaPlace)\n",
    "Bayesians believe probability is degree of belief (I prefer plausibility rather than belief) based on your current information. The degree of belief changes with more data\n",
    "\n",
    "In Bayesian probability we can assign probabilities to any event. It doesn't have to be repeatable. Two people can assign different probabilities to same event.\n",
    "\n",
    "The parameters of the real-world data generating process are unknown (so we can assign them probability distributions) and the sample data we have collected fixed.\n",
    "\n",
    "Bayesian probability allows us to incorporate background or domain knowledge into priors.\n",
    "\n",
    "Uncertainty in the estimation procedure is carried along throughout the process\n",
    "\n",
    "We specify a complete probability model. Things we don't know are given probability distributions and thing we do know we condition on. Then we just calculate using laws of probability. There are no hidden assumptions.\n",
    "\n",
    "There are no p-values so we can stop collecting data at any time.\n",
    "\n",
    "Bayesians adhere to the Likelihood Principle while Frequentists often do not."
   ]
  },
  {
   "cell_type": "markdown",
   "metadata": {},
   "source": [
    "### References\n",
    "\n",
    "#### Probability Cheatsheet\n",
    "\n",
    "https://static1.squarespace.com/static/54bf3241e4b0f0d81bf7ff36/t/55e9494fe4b011aed10e48e5/1441352015658/probability_cheatsheet.pdf\n",
    "\n",
    "#### Probability Primer\n",
    "\n",
    "http://www.rctn.org/bruno/npb163/probability.pdf\n",
    "\n",
    "#### On-line lectures from course in Probability by Joe Blitzstein\n",
    "\n",
    "https://www.youtube.com/playlist?list=PL2SOU6wwxB0uwwH80KTQ6ht66KWxbzTIo"
   ]
  },
  {
   "cell_type": "code",
   "execution_count": null,
   "metadata": {},
   "outputs": [],
   "source": []
  }
 ],
 "metadata": {
  "kernelspec": {
   "display_name": "Python 3 (ipykernel)",
   "language": "python",
   "name": "python3"
  },
  "language_info": {
   "codemirror_mode": {
    "name": "ipython",
    "version": 3
   },
   "file_extension": ".py",
   "mimetype": "text/x-python",
   "name": "python",
   "nbconvert_exporter": "python",
   "pygments_lexer": "ipython3",
   "version": "3.8.11"
  },
  "varInspector": {
   "cols": {
    "lenName": 16,
    "lenType": 16,
    "lenVar": 40
   },
   "kernels_config": {
    "python": {
     "delete_cmd_postfix": "",
     "delete_cmd_prefix": "del ",
     "library": "var_list.py",
     "varRefreshCmd": "print(var_dic_list())"
    },
    "r": {
     "delete_cmd_postfix": ") ",
     "delete_cmd_prefix": "rm(",
     "library": "var_list.r",
     "varRefreshCmd": "cat(var_dic_list()) "
    }
   },
   "types_to_exclude": [
    "module",
    "function",
    "builtin_function_or_method",
    "instance",
    "_Feature"
   ],
   "window_display": false
  }
 },
 "nbformat": 4,
 "nbformat_minor": 4
}
