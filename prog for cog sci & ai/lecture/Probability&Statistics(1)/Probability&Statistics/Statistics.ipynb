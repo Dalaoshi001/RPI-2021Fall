{
 "cells": [
  {
   "cell_type": "code",
   "execution_count": 3,
   "id": "c7e21c24-d1e6-4464-ae51-ee93ed31b7a8",
   "metadata": {},
   "outputs": [],
   "source": [
    "import warnings\n",
    "warnings.simplefilter(action='ignore', category=FutureWarning)\n",
    "warnings.simplefilter(action='ignore', category=UserWarning)\n",
    "\n",
    "import numpy as np\n",
    "import scipy.stats as stats\n",
    "import pandas as pd\n",
    "import matplotlib.pyplot as plt\n",
    "import seaborn as sns\n",
    "%matplotlib inline"
   ]
  },
  {
   "cell_type": "markdown",
   "id": "04809749-51a1-4171-9f70-5fc756ec4ba0",
   "metadata": {},
   "source": [
    "## Statistics\n",
    " \n",
    "Probability and statistics are the tools we use to measuring and controlling uncertainty due to inherent noise in the data.\n",
    "\n",
    "In statistics we run an experiment to collect data and construct a model of the data in order to draw inferences about unknowns in model from the data. For example, given (H H T T T H H H T H) what is probability that it is a fair coin?\n",
    "\n",
    "We collect data by sampling from the population.\n"
   ]
  },
  {
   "cell_type": "markdown",
   "id": "b7372588-e0f0-4575-9981-b0ef8ae10340",
   "metadata": {},
   "source": [
    "### Sampling Terminology\n",
    "\n",
    "Problem of Interest: the height of all college students.\n",
    "\n",
    "**Population**: The set of all units of interest, e.g. Heights all college students.\n",
    "\n",
    "**Sample**: A random selection from the population. Randomly select students and measure their height.\n",
    "\n",
    "**Parameter**: a function of the values of the population. Average height of all college students\n",
    "\n",
    "**Statistic**: a function of the values of the sample. Average height of all students in the sample.\n",
    "     "
   ]
  },
  {
   "cell_type": "markdown",
   "id": "3090153d-3050-4e72-9f58-e9b19155c644",
   "metadata": {},
   "source": [
    "### Descriptive Statistics\n",
    "\n",
    "Descriptive statistics are meaningful summaries describing characteristics of the population or sample data. They are used to describe the basic features of the data.\n",
    "\n",
    "We can't say much about just the raw data so we need to reduce it to be able to talk about it effectively.\n",
    "\n",
    "The first step in model building is to describe and visualize the data. Building a model, requires making some assumptions. Data exploration that summarizes the data provides a basis for these assumptions."
   ]
  },
  {
   "cell_type": "markdown",
   "id": "b4ea9011-80ee-4a44-83e3-cbe136c74000",
   "metadata": {},
   "source": [
    "### Inferential statistics. \n",
    " \n",
    "Inferential statistics make inferences about the population of interest from sample data. For example,\n",
    "infer the bias of a coin given the data (H, H, T, H, H, T).\n",
    "\n"
   ]
  },
  {
   "cell_type": "markdown",
   "id": "cb4bb985-1311-483c-b0ca-45951305b7d5",
   "metadata": {},
   "source": [
    "\n",
    "## Kinds of Descriptive Statistics\n",
    "\n",
    "The descriptive statistics we use in this course are:\n",
    "\n",
    "* Measures of Central Tendency\n",
    "* Measures of Dispersion\n",
    "* Correlations\n",
    "* Visualization\n",
    "\n",
    "Python functions: \n",
    " \n",
    "numpy: https://docs.scipy.org/doc/numpy/reference/routines.statistics.html\n",
    " \n",
    "scipy.stats: https://docs.scipy.org/doc/scipy/reference/stats.html#statistical-functions\n",
    " "
   ]
  },
  {
   "cell_type": "markdown",
   "id": "47688382-1388-4766-a989-4592a532b7d4",
   "metadata": {},
   "source": [
    "### Generate some data"
   ]
  },
  {
   "cell_type": "code",
   "execution_count": 4,
   "id": "2f33eadd-6101-4454-8a6c-74b6466df55b",
   "metadata": {},
   "outputs": [
    {
     "data": {
      "text/html": [
       "<div>\n",
       "<style scoped>\n",
       "    .dataframe tbody tr th:only-of-type {\n",
       "        vertical-align: middle;\n",
       "    }\n",
       "\n",
       "    .dataframe tbody tr th {\n",
       "        vertical-align: top;\n",
       "    }\n",
       "\n",
       "    .dataframe thead th {\n",
       "        text-align: right;\n",
       "    }\n",
       "</style>\n",
       "<table border=\"1\" class=\"dataframe\">\n",
       "  <thead>\n",
       "    <tr style=\"text-align: right;\">\n",
       "      <th></th>\n",
       "      <th>x</th>\n",
       "      <th>y</th>\n",
       "    </tr>\n",
       "  </thead>\n",
       "  <tbody>\n",
       "    <tr>\n",
       "      <th>0</th>\n",
       "      <td>-10.000000</td>\n",
       "      <td>-12.476365</td>\n",
       "    </tr>\n",
       "    <tr>\n",
       "      <th>1</th>\n",
       "      <td>-8.947368</td>\n",
       "      <td>-11.010247</td>\n",
       "    </tr>\n",
       "    <tr>\n",
       "      <th>2</th>\n",
       "      <td>-7.894737</td>\n",
       "      <td>-10.791616</td>\n",
       "    </tr>\n",
       "    <tr>\n",
       "      <th>3</th>\n",
       "      <td>-6.842105</td>\n",
       "      <td>-8.543221</td>\n",
       "    </tr>\n",
       "    <tr>\n",
       "      <th>4</th>\n",
       "      <td>-5.789474</td>\n",
       "      <td>-2.107913</td>\n",
       "    </tr>\n",
       "  </tbody>\n",
       "</table>\n",
       "</div>"
      ],
      "text/plain": [
       "           x          y\n",
       "0 -10.000000 -12.476365\n",
       "1  -8.947368 -11.010247\n",
       "2  -7.894737 -10.791616\n",
       "3  -6.842105  -8.543221\n",
       "4  -5.789474  -2.107913"
      ]
     },
     "execution_count": 4,
     "metadata": {},
     "output_type": "execute_result"
    }
   ],
   "source": [
    "x = np.linspace(-10,10,20)\n",
    "y = 2*x + 7 + stats.norm.rvs(loc = 0, scale=2.0, size = 20)\n",
    "\n",
    "df = pd.DataFrame({'x':x,'y':y})\n",
    "df.head()"
   ]
  },
  {
   "cell_type": "code",
   "execution_count": 5,
   "id": "a04dabc3-4585-42ea-aa8c-8a64dd38ea21",
   "metadata": {},
   "outputs": [
    {
     "data": {
      "image/png": "[encoded data removed]",
      "text/plain": [
       "<Figure size 432x288 with 1 Axes>"
      ]
     },
     "metadata": {
      "needs_background": "light"
     },
     "output_type": "display_data"
    }
   ],
   "source": [
    "plt.plot(x,y,'o');"
   ]
  },
  {
   "cell_type": "markdown",
   "id": "51813059-c6ab-4565-8603-f8bc6123808b",
   "metadata": {},
   "source": [
    "## Measures of central tendency\n",
    " \n",
    "### Mean (arithmetic)\n",
    "\n",
    "The mean is theverage of the data, its \"center of gravity\". \n",
    "\n",
    "<div style=\"font-size: 125%;\">\n",
    "$$\\bar{x} = \\frac{\\sum^N_{i=1}{x_i}}{N}$$\n",
    "</div>\n",
    "\n",
    "* $\\bar{x}$ - symbol often used for sample mean\n",
    "* $\\mu$ - symbol often used for population mean population mean\n",
    "\n",
    "The mean is sensitive to extreme values. If you do have extreme values you can use a trimmed mean Scipy.stats has a trimmed mean function, but must specify limits.\n",
    " \n"
   ]
  },
  {
   "cell_type": "code",
   "execution_count": 6,
   "id": "fbaa7a7d-d7f2-4487-b6f7-7a31f28f21c1",
   "metadata": {},
   "outputs": [
    {
     "data": {
      "text/plain": [
       "6.568427717180342"
      ]
     },
     "execution_count": 6,
     "metadata": {},
     "output_type": "execute_result"
    }
   ],
   "source": [
    "\n",
    "def myMean(v):\n",
    "    return(sum(v)/len(v))\n",
    "myMean(y)"
   ]
  },
  {
   "cell_type": "code",
   "execution_count": 7,
   "id": "c28d4917-6668-4197-ae6e-229212e0d861",
   "metadata": {},
   "outputs": [
    {
     "data": {
      "text/plain": [
       "6.568427717180342"
      ]
     },
     "execution_count": 7,
     "metadata": {},
     "output_type": "execute_result"
    }
   ],
   "source": [
    "np.mean(y)"
   ]
  },
  {
   "cell_type": "markdown",
   "id": "92667651-796a-4a03-ba46-2f182b1e1acb",
   "metadata": {},
   "source": [
    "#### Show that the mean is sensitive to extreme values"
   ]
  },
  {
   "cell_type": "code",
   "execution_count": 8,
   "id": "42b48b5b-ba07-4843-9b99-efeae24c23b9",
   "metadata": {},
   "outputs": [
    {
     "data": {
      "text/html": [
       "<div>\n",
       "<style scoped>\n",
       "    .dataframe tbody tr th:only-of-type {\n",
       "        vertical-align: middle;\n",
       "    }\n",
       "\n",
       "    .dataframe tbody tr th {\n",
       "        vertical-align: top;\n",
       "    }\n",
       "\n",
       "    .dataframe thead th {\n",
       "        text-align: right;\n",
       "    }\n",
       "</style>\n",
       "<table border=\"1\" class=\"dataframe\">\n",
       "  <thead>\n",
       "    <tr style=\"text-align: right;\">\n",
       "      <th></th>\n",
       "      <th>x</th>\n",
       "      <th>y</th>\n",
       "      <th>z</th>\n",
       "    </tr>\n",
       "  </thead>\n",
       "  <tbody>\n",
       "    <tr>\n",
       "      <th>0</th>\n",
       "      <td>-10.000000</td>\n",
       "      <td>-12.476365</td>\n",
       "      <td>100.000000</td>\n",
       "    </tr>\n",
       "    <tr>\n",
       "      <th>1</th>\n",
       "      <td>-8.947368</td>\n",
       "      <td>-11.010247</td>\n",
       "      <td>-11.010247</td>\n",
       "    </tr>\n",
       "    <tr>\n",
       "      <th>2</th>\n",
       "      <td>-7.894737</td>\n",
       "      <td>-10.791616</td>\n",
       "      <td>-10.791616</td>\n",
       "    </tr>\n",
       "    <tr>\n",
       "      <th>3</th>\n",
       "      <td>-6.842105</td>\n",
       "      <td>-8.543221</td>\n",
       "      <td>-8.543221</td>\n",
       "    </tr>\n",
       "    <tr>\n",
       "      <th>4</th>\n",
       "      <td>-5.789474</td>\n",
       "      <td>-2.107913</td>\n",
       "      <td>-2.107913</td>\n",
       "    </tr>\n",
       "  </tbody>\n",
       "</table>\n",
       "</div>"
      ],
      "text/plain": [
       "           x          y           z\n",
       "0 -10.000000 -12.476365  100.000000\n",
       "1  -8.947368 -11.010247  -11.010247\n",
       "2  -7.894737 -10.791616  -10.791616\n",
       "3  -6.842105  -8.543221   -8.543221\n",
       "4  -5.789474  -2.107913   -2.107913"
      ]
     },
     "execution_count": 8,
     "metadata": {},
     "output_type": "execute_result"
    }
   ],
   "source": [
    "df['z'] = df.y[1:].append(pd.Series([100])) #Variable with extreme value\n",
    "df.head()"
   ]
  },
  {
   "cell_type": "code",
   "execution_count": 9,
   "id": "53fee65f-cee9-4dfe-adb7-a4051ccc71f1",
   "metadata": {},
   "outputs": [
    {
     "data": {
      "text/plain": [
       "(12.19224596465845, 7.570785225956266)"
      ]
     },
     "execution_count": 9,
     "metadata": {},
     "output_type": "execute_result"
    }
   ],
   "source": [
    "np.mean(df.z), stats.tmean(df.z,limits=(y.min(),y.max()))"
   ]
  },
  {
   "cell_type": "code",
   "execution_count": 10,
   "id": "fa291717-ec4a-40fb-9646-5c8bb4b77a7e",
   "metadata": {},
   "outputs": [
    {
     "name": "stdout",
     "output_type": "stream",
     "text": [
      "-3.552713678800501e-16\n"
     ]
    },
    {
     "data": {
      "text/plain": [
       "False"
      ]
     },
     "execution_count": 10,
     "metadata": {},
     "output_type": "execute_result"
    }
   ],
   "source": [
    "print(np.mean(x))\n",
    "np.mean(x) == 0.0"
   ]
  },
  {
   "cell_type": "code",
   "execution_count": 11,
   "id": "87e8ffaa-718e-41fc-a804-c417811141a0",
   "metadata": {},
   "outputs": [
    {
     "data": {
      "text/plain": [
       "True"
      ]
     },
     "execution_count": 11,
     "metadata": {},
     "output_type": "execute_result"
    }
   ],
   "source": [
    "np.isclose(np.mean(x), 0.0)"
   ]
  },
  {
   "cell_type": "code",
   "execution_count": 12,
   "id": "3960d299-cd8e-4f9d-b6e9-bd05db8ff9c6",
   "metadata": {},
   "outputs": [
    {
     "name": "stdout",
     "output_type": "stream",
     "text": [
      "[[1 2 3]\n",
      " [4 5 6]]\n"
     ]
    },
    {
     "data": {
      "text/plain": [
       "3.5"
      ]
     },
     "execution_count": 12,
     "metadata": {},
     "output_type": "execute_result"
    }
   ],
   "source": [
    "M = np.array([[1,2,3],\n",
    "              [4,5,6]])\n",
    "print(M)\n",
    "np.mean(M)"
   ]
  },
  {
   "cell_type": "code",
   "execution_count": 13,
   "id": "50ebf448-42a3-48b2-86f7-60c37400df29",
   "metadata": {},
   "outputs": [
    {
     "name": "stdout",
     "output_type": "stream",
     "text": [
      "2.0\n",
      "2.5\n",
      "[2.5 3.5 4.5]\n",
      "[2. 5.]\n"
     ]
    }
   ],
   "source": [
    "print(np.mean(M[0])) # Mean row = 0\n",
    "print(np.mean(M[:,0]))# Mean column = 0\n",
    "print(np.mean(M,axis=0)) # Calculate mean for each column\n",
    "print(np.mean(M,axis=1)) # Calculate mean for each row\n"
   ]
  },
  {
   "cell_type": "markdown",
   "id": "d7e785e8-9ffc-4bca-b698-58c5fdc79948",
   "metadata": {},
   "source": [
    "### Median\n",
    " \n",
    "The median is the middle value of a set of observations. It is the 50th percentile (quantile). It is more robust to outliers than the mean.\n",
    "\n",
    "To calculate when length is odd, the middle data point is the median. When length is even, the average of the two middle points is the median.\n",
    "\n"
   ]
  },
  {
   "cell_type": "code",
   "execution_count": 46,
   "id": "9609e91b-b8da-4f18-9e33-22818f535054",
   "metadata": {},
   "outputs": [
    {
     "data": {
      "text/plain": [
       "8.047990522829622"
      ]
     },
     "execution_count": 46,
     "metadata": {},
     "output_type": "execute_result"
    }
   ],
   "source": [
    "np.median(df.z)"
   ]
  },
  {
   "cell_type": "code",
   "execution_count": 47,
   "id": "927e9ff9-84a2-4ac9-8eef-68152fb80e0f",
   "metadata": {},
   "outputs": [
    {
     "name": "stdout",
     "output_type": "stream",
     "text": [
      "[[1 2 3]\n",
      " [4 5 6]]\n"
     ]
    },
    {
     "data": {
      "text/plain": [
       "3.5"
      ]
     },
     "execution_count": 47,
     "metadata": {},
     "output_type": "execute_result"
    }
   ],
   "source": [
    "print(M)\n",
    "np.median(M)"
   ]
  },
  {
   "cell_type": "code",
   "execution_count": 48,
   "id": "923fd5a6-5f42-4f44-9aa7-2b7ca3473b25",
   "metadata": {},
   "outputs": [
    {
     "data": {
      "text/plain": [
       "(12.0, 12.5)"
      ]
     },
     "execution_count": 48,
     "metadata": {},
     "output_type": "execute_result"
    }
   ],
   "source": [
    "v = np.arange(25)\n",
    "(np.median(v), np.median(np.append(v,101)))"
   ]
  },
  {
   "cell_type": "markdown",
   "id": "3416f592-46f2-44f6-a743-4a0295287335",
   "metadata": {},
   "source": [
    "###  Mode\n",
    " \n",
    "The mode is the most frequent value in set of observations.\n",
    "\n"
   ]
  },
  {
   "cell_type": "code",
   "execution_count": 81,
   "id": "197caaa8-2e27-4631-a825-2a47e4c8236b",
   "metadata": {},
   "outputs": [
    {
     "name": "stdout",
     "output_type": "stream",
     "text": [
      "ModeResult(mode=array([-13.25584261]), count=array([1]))\n"
     ]
    },
    {
     "data": {
      "text/plain": [
       "array([-13.25584261])"
      ]
     },
     "execution_count": 81,
     "metadata": {},
     "output_type": "execute_result"
    }
   ],
   "source": [
    "from scipy.stats import mode\n",
    "print(mode(df.y))\n",
    "mode(df.y)[0]"
   ]
  },
  {
   "cell_type": "code",
   "execution_count": 50,
   "id": "b178aaff-1feb-4919-a496-b79d958fdd73",
   "metadata": {},
   "outputs": [
    {
     "name": "stdout",
     "output_type": "stream",
     "text": [
      "ModeResult(mode=array([[1, 3, 2, 2, 1, 1]]), count=array([[1, 2, 2, 2, 1, 2]]))\n",
      "ModeResult(mode=array([[2],\n",
      "       [1],\n",
      "       [1]]), count=array([[2],\n",
      "       [2],\n",
      "       [2]]))\n",
      "ModeResult(mode=array([2]), count=array([6]))\n"
     ]
    }
   ],
   "source": [
    "M = np.array([[1, 3, 4, 2, 2, 7],\n",
    "              [5, 2, 2, 1, 4, 1],\n",
    "              [3, 3, 2, 2, 1, 1]])\n",
    "print(mode(M)) # Defaults to axis = 0\n",
    "print(mode(M,axis=1))\n",
    "print(mode(M,axis=None))"
   ]
  },
  {
   "cell_type": "markdown",
   "id": "e07f4ce2-33e3-4dd3-a4e9-0e9593dcecb8",
   "metadata": {},
   "source": [
    "## Measures of Variability\n",
    "\n",
    "Measures of variability measure the spread of the data.\n",
    "\n",
    "### Range\n",
    " \n",
    "The range is the maximum  and minimum values. Not good if you have extreme values.\n"
   ]
  },
  {
   "cell_type": "code",
   "execution_count": 82,
   "id": "49129270-eaf6-4199-b0f4-ea242927d010",
   "metadata": {},
   "outputs": [
    {
     "data": {
      "text/plain": [
       "[-13.255842614500803, 28.07531905362195]"
      ]
     },
     "execution_count": 82,
     "metadata": {},
     "output_type": "execute_result"
    }
   ],
   "source": [
    "[np.min(y),np.max(y)]\n"
   ]
  },
  {
   "cell_type": "markdown",
   "id": "aa7691d4-4cf3-48a1-8fc4-caadcc74718a",
   "metadata": {},
   "source": [
    "###  Interquartile Range (IRQ)\n",
    " \n",
    "Quantiles (also called percentiles) divide the data values by frequency. For example, the median is 50th quantile (0.5 the values are less than the median). The 10th quantile contains the 0.1 of the values that are less than this value.\n",
    "\n",
    "The Interquartile Range is difference between the 25th and 75 quantile.\n"
   ]
  },
  {
   "cell_type": "code",
   "execution_count": 83,
   "id": "44c48c5e-cb67-4f4e-a0f7-2318d7158c92",
   "metadata": {},
   "outputs": [
    {
     "data": {
      "text/plain": [
       "16.0"
      ]
     },
     "execution_count": 83,
     "metadata": {},
     "output_type": "execute_result"
    }
   ],
   "source": [
    "from scipy.stats import iqr\n",
    "iqr(d)"
   ]
  },
  {
   "cell_type": "code",
   "execution_count": 52,
   "id": "e77932ef-fac1-4820-91d3-c8e6505dc435",
   "metadata": {},
   "outputs": [
    {
     "data": {
      "text/plain": [
       "[9.0, 25.0]"
      ]
     },
     "execution_count": 52,
     "metadata": {},
     "output_type": "execute_result"
    }
   ],
   "source": [
    "d = np.array([3,7,9,10,16,20,25,57,30])\n",
    "[np.percentile(d,25),np.percentile(d,75)]\n"
   ]
  },
  {
   "cell_type": "markdown",
   "id": "8dbc2b45-b647-48d8-bc3a-f653f7ef54c1",
   "metadata": {},
   "source": [
    "### Mean (Average) Absolute Deviation\n",
    " \n",
    "The average distance between each data value and the mean ($\\bar{x}$). \n",
    "\n",
    "<div style=\"font-size: 115%;\">    \n",
    "$$AbsoluteDeviation = |x-\\bar{x}|$$\n",
    "       \n",
    "$$MAD = \\frac{\\sum^N_{i=1}{|x_i - \\bar{x}|}}{N}$$\n",
    "\n",
    "</div>"
   ]
  },
  {
   "cell_type": "markdown",
   "id": "3e73ca6c-6668-4aa6-b101-0ef773faa28a",
   "metadata": {},
   "source": [
    "### Variance\n",
    " \n",
    "The Variance sums squared deviations rather than absolute deviations.\n",
    "\n",
    "<div style=\"font-size: 115%;\">\n",
    "$$s=\\frac{\\sum^N_{i=1}{(x_i - \\bar{x})^2}}{N-1}\\text{  }\\sigma=\\frac{\\sum^N_{i=1}{(x_i - \\bar{x})^2}}{N}$$\n",
    "</div>"
   ]
  },
  {
   "cell_type": "markdown",
   "id": "2a31309f-362e-435f-be38-295fc1436b84",
   "metadata": {},
   "source": [
    "#### Sample variance ($s^2$) versus Population ($\\sigma^2$)\n",
    "\n",
    "Terminology: $\\sigma^2$ is a parameter, $s^2$ is a statistic\n",
    "\n",
    "The sample variance is an estimate of the population variance. We want to know the population variance but just have sample data so we need to estimate the population parameter.\n",
    "\n",
    "This estimation requires a correction, known as Bessel's Correction.  The correction for the sample variance  is to divide by  by N-1 rather than N.\n",
    "\n",
    "$s^2$ is an estimate for $\\sigma^2$ and $\\bar{x}$ is an estimate for $\\mu$\n",
    "\n",
    "The $x_i$s are closer to the sample mean $\\bar{x}$ than to the population mean  $\\mu$ so the variance is smaller. It is biased to the sample that we have. To compensate for this smaller variance, we divide by N-1.\n",
    "    \n",
    "https://math.stackexchange.com/questions/61251/intuitive-explanation-of-bessels-correction\n",
    "    \n",
    "https://math.stackexchange.com/questions/15098/sample-standard-deviation-vs-population-standard-deviation\n",
    "    \n",
    "The sample variance is generally what we want. In numpy and scipy.stats you need to specify degrees of freedom for denominator (ddof = 1).\n",
    "    "
   ]
  },
  {
   "cell_type": "code",
   "execution_count": 86,
   "id": "9cb802e8-58b5-47d0-8c2f-e3ff334b9fcc",
   "metadata": {},
   "outputs": [
    {
     "data": {
      "text/plain": [
       "273.49999999999994"
      ]
     },
     "execution_count": 86,
     "metadata": {},
     "output_type": "execute_result"
    }
   ],
   "source": [
    "d = [3,7,9,10,16,20,25,57,30]\n",
    "np.var(d,ddof=1)"
   ]
  },
  {
   "cell_type": "code",
   "execution_count": 85,
   "id": "b8d0d71c-330c-46bb-b35e-2faaaf127fa7",
   "metadata": {},
   "outputs": [
    {
     "data": {
      "text/plain": [
       "273.49999999999994"
      ]
     },
     "execution_count": 85,
     "metadata": {},
     "output_type": "execute_result"
    }
   ],
   "source": [
    "def myVar(X):\n",
    "    return(sum((X-np.mean(X))**2)/(len(X)- 1))\n",
    "myVar(d)"
   ]
  },
  {
   "cell_type": "code",
   "execution_count": 56,
   "id": "98c3f8a2-d7f7-4e34-9ce1-de3ed4a1cbc4",
   "metadata": {},
   "outputs": [
    {
     "data": {
      "text/plain": [
       "273.49999999999994"
      ]
     },
     "execution_count": 56,
     "metadata": {},
     "output_type": "execute_result"
    }
   ],
   "source": [
    "np.var(d,ddof=1)"
   ]
  },
  {
   "cell_type": "markdown",
   "id": "4915fead-8386-405a-ba88-4e8c614e2e52",
   "metadata": {},
   "source": [
    "### Standard Deviation\n",
    " \n",
    "The standard deviation is the square root of the variance. \n",
    "\n",
    "The sample standard deviation is denoted by 's' the population standard deviation is denoted by $\\sigma$.\n",
    "\n",
    "The standard deviation is used in the actual analysis rather than the variance because it is in same units as the data. \n",
    "\n",
    "<div style=\"font-size: 115%;\">\n",
    "$$s=\\sqrt{\\frac{\\sum^N_{i=1}{(x_i - \\bar{x})^2}}{N-1}}\\text{  }\\sigma=\\sqrt{\\frac{\\sum^N_{i=1}{(x_i - \\bar{x})^2}}{N}}$$\n",
    "</div>"
   ]
  },
  {
   "cell_type": "code",
   "execution_count": 57,
   "id": "74f563cf-044c-48f1-a9b6-fdb444c0d8c1",
   "metadata": {},
   "outputs": [
    {
     "data": {
      "text/plain": [
       "16.537835408541227"
      ]
     },
     "execution_count": 57,
     "metadata": {},
     "output_type": "execute_result"
    }
   ],
   "source": [
    "np.std(d,ddof = 1)"
   ]
  },
  {
   "cell_type": "markdown",
   "id": "993f9a46-5735-474b-a3f6-90acc43872e7",
   "metadata": {},
   "source": [
    "###  Summary of Measures of Variability\n",
    " \n",
    "* Range: vunerable to outliers.\n",
    "* Interquartile Range: \"middle half of the data\", robust, use with median.\n",
    "* Mean Absolute Deviation: how far \"on average\" observations are from the mean, interpretable but some issues.\n",
    "* Variance: Not interpretable because of squaring but nice mathematical properties.\n",
    "* Standard Deviation: square root of variance in same unit as data, used with mean."
   ]
  },
  {
   "cell_type": "markdown",
   "id": "890a89b2-3bf5-46be-ae4a-0e672172497c",
   "metadata": {},
   "source": [
    "## Skew and Kurtosis\n",
    "\n",
    "### Skewness is a measure of asymmetry\n",
    "\n",
    "![](skewness.png)\n",
    "\n",
    "$$skewness = \\frac{\\sum^N_{i=1}{(x_i - \\bar{x})^3}}{N*\\hat{\\sigma}^3}$$"
   ]
  },
  {
   "cell_type": "code",
   "execution_count": 58,
   "id": "b0b00647-85c7-4bc2-93f6-6adc3e182f3c",
   "metadata": {},
   "outputs": [
    {
     "data": {
      "text/plain": [
       "0.1055166149640792"
      ]
     },
     "execution_count": 58,
     "metadata": {},
     "output_type": "execute_result"
    }
   ],
   "source": [
    "stats.skew(df.y)"
   ]
  },
  {
   "cell_type": "markdown",
   "id": "e266cdfd-98a1-4b69-9471-6c517ddaf01c",
   "metadata": {},
   "source": [
    "### Kurtosis is a measure of peakedness\n",
    "\n",
    "![](kurtosis.png)\n",
    "\n",
    "$$kurtosis = \\frac{\\sum^N_{i=1}{(x_i - \\bar{x})^4}}{N*\\hat{\\sigma}^4}-3$$"
   ]
  },
  {
   "cell_type": "code",
   "execution_count": 59,
   "id": "85638b4e-9d71-4f6d-a0b7-82181e8d0832",
   "metadata": {},
   "outputs": [
    {
     "data": {
      "text/plain": [
       "7.784150330720086"
      ]
     },
     "execution_count": 59,
     "metadata": {},
     "output_type": "execute_result"
    }
   ],
   "source": [
    "stats.kurtosis(df.z)"
   ]
  },
  {
   "cell_type": "code",
   "execution_count": 60,
   "id": "a31c329d-b81f-43e5-9c89-3f5a13843067",
   "metadata": {},
   "outputs": [
    {
     "data": {
      "text/html": [
       "<div>\n",
       "<style scoped>\n",
       "    .dataframe tbody tr th:only-of-type {\n",
       "        vertical-align: middle;\n",
       "    }\n",
       "\n",
       "    .dataframe tbody tr th {\n",
       "        vertical-align: top;\n",
       "    }\n",
       "\n",
       "    .dataframe thead th {\n",
       "        text-align: right;\n",
       "    }\n",
       "</style>\n",
       "<table border=\"1\" class=\"dataframe\">\n",
       "  <thead>\n",
       "    <tr style=\"text-align: right;\">\n",
       "      <th></th>\n",
       "      <th>x</th>\n",
       "      <th>y</th>\n",
       "      <th>z</th>\n",
       "    </tr>\n",
       "  </thead>\n",
       "  <tbody>\n",
       "    <tr>\n",
       "      <th>count</th>\n",
       "      <td>2.000000e+01</td>\n",
       "      <td>20.000000</td>\n",
       "      <td>20.000000</td>\n",
       "    </tr>\n",
       "    <tr>\n",
       "      <th>mean</th>\n",
       "      <td>0.000000e+00</td>\n",
       "      <td>6.848738</td>\n",
       "      <td>12.430181</td>\n",
       "    </tr>\n",
       "    <tr>\n",
       "      <th>std</th>\n",
       "      <td>6.227452e+00</td>\n",
       "      <td>12.147096</td>\n",
       "      <td>23.526214</td>\n",
       "    </tr>\n",
       "    <tr>\n",
       "      <th>min</th>\n",
       "      <td>-1.000000e+01</td>\n",
       "      <td>-11.628877</td>\n",
       "      <td>-11.209625</td>\n",
       "    </tr>\n",
       "    <tr>\n",
       "      <th>25%</th>\n",
       "      <td>-5.000000e+00</td>\n",
       "      <td>-2.447492</td>\n",
       "      <td>-1.660225</td>\n",
       "    </tr>\n",
       "    <tr>\n",
       "      <th>50%</th>\n",
       "      <td>-8.881784e-16</td>\n",
       "      <td>6.304892</td>\n",
       "      <td>8.047991</td>\n",
       "    </tr>\n",
       "    <tr>\n",
       "      <th>75%</th>\n",
       "      <td>5.000000e+00</td>\n",
       "      <td>14.964690</td>\n",
       "      <td>18.847234</td>\n",
       "    </tr>\n",
       "    <tr>\n",
       "      <th>max</th>\n",
       "      <td>1.000000e+01</td>\n",
       "      <td>25.359407</td>\n",
       "      <td>100.000000</td>\n",
       "    </tr>\n",
       "  </tbody>\n",
       "</table>\n",
       "</div>"
      ],
      "text/plain": [
       "                  x          y           z\n",
       "count  2.000000e+01  20.000000   20.000000\n",
       "mean   0.000000e+00   6.848738   12.430181\n",
       "std    6.227452e+00  12.147096   23.526214\n",
       "min   -1.000000e+01 -11.628877  -11.209625\n",
       "25%   -5.000000e+00  -2.447492   -1.660225\n",
       "50%   -8.881784e-16   6.304892    8.047991\n",
       "75%    5.000000e+00  14.964690   18.847234\n",
       "max    1.000000e+01  25.359407  100.000000"
      ]
     },
     "execution_count": 60,
     "metadata": {},
     "output_type": "execute_result"
    }
   ],
   "source": [
    "df.describe()"
   ]
  },
  {
   "cell_type": "markdown",
   "id": "25d39a0e-e3eb-40df-951d-9f031202192b",
   "metadata": {},
   "source": [
    "### Covariance and Correlation\n",
    "  \n",
    "Covariance measures the strength and direction of a linear relationship between two variables. Do they both increase or both decrease?\n",
    "\n",
    "<div style=\"font-size: 125%;\">\n",
    "$$Cov(X,Y) = \\frac{1}{N}\\sum^N_{i=1}(X_i-\\bar{X})(Y_i-\\bar{Y})$$ \n",
    "</div>\n",
    "\n",
    "If Cov = 0 then no relationship, if  > 0 then positive relationship, if < 0 then negative relationship.\n",
    "\n",
    "The units are in terms of X and Y (i.e. apples times oranges).\n",
    "\n",
    "Correlation standardizes the covariance.\n",
    "\n",
    "Pearson correlation coefficient varies between -1 and + 1.\n",
    "<div style=\"font-size: 125%;\">\n",
    "$$ r = \\frac{Cov(X,Y)}{\\sigma_X \\sigma_Y}$$\n",
    "</div>\n",
    "\n",
    "![](Correlation.png)"
   ]
  },
  {
   "cell_type": "code",
   "execution_count": 61,
   "id": "6263dd2a-56a3-4299-b373-73cc85d7a5e5",
   "metadata": {},
   "outputs": [
    {
     "name": "stdout",
     "output_type": "stream",
     "text": [
      "Covariance Matrix\n",
      " [[ 38.78116343  74.83168701]\n",
      " [ 74.83168701 147.55194631]]\n"
     ]
    }
   ],
   "source": [
    "# Covariance\n",
    "print(\"Covariance Matrix\\n\", np.cov(df.x,df.y))"
   ]
  },
  {
   "cell_type": "code",
   "execution_count": 62,
   "id": "4c73a1ac-a173-44ea-8ea5-44cde22a0725",
   "metadata": {},
   "outputs": [
    {
     "data": {
      "text/plain": [
       "(36.84210526315789, 140.17434899130092)"
      ]
     },
     "execution_count": 62,
     "metadata": {},
     "output_type": "execute_result"
    }
   ],
   "source": [
    "(np.var(df.x),np.var(df.y))"
   ]
  },
  {
   "cell_type": "code",
   "execution_count": 63,
   "id": "867603bd-fa70-4927-887f-9867a20f0a35",
   "metadata": {},
   "outputs": [
    {
     "data": {
      "text/html": [
       "<div>\n",
       "<style scoped>\n",
       "    .dataframe tbody tr th:only-of-type {\n",
       "        vertical-align: middle;\n",
       "    }\n",
       "\n",
       "    .dataframe tbody tr th {\n",
       "        vertical-align: top;\n",
       "    }\n",
       "\n",
       "    .dataframe thead th {\n",
       "        text-align: right;\n",
       "    }\n",
       "</style>\n",
       "<table border=\"1\" class=\"dataframe\">\n",
       "  <thead>\n",
       "    <tr style=\"text-align: right;\">\n",
       "      <th></th>\n",
       "      <th>x</th>\n",
       "      <th>y</th>\n",
       "      <th>z</th>\n",
       "    </tr>\n",
       "  </thead>\n",
       "  <tbody>\n",
       "    <tr>\n",
       "      <th>x</th>\n",
       "      <td>1.000000</td>\n",
       "      <td>0.989242</td>\n",
       "      <td>0.109752</td>\n",
       "    </tr>\n",
       "    <tr>\n",
       "      <th>y</th>\n",
       "      <td>0.989242</td>\n",
       "      <td>1.000000</td>\n",
       "      <td>0.136444</td>\n",
       "    </tr>\n",
       "    <tr>\n",
       "      <th>z</th>\n",
       "      <td>0.109752</td>\n",
       "      <td>0.136444</td>\n",
       "      <td>1.000000</td>\n",
       "    </tr>\n",
       "  </tbody>\n",
       "</table>\n",
       "</div>"
      ],
      "text/plain": [
       "          x         y         z\n",
       "x  1.000000  0.989242  0.109752\n",
       "y  0.989242  1.000000  0.136444\n",
       "z  0.109752  0.136444  1.000000"
      ]
     },
     "execution_count": 63,
     "metadata": {},
     "output_type": "execute_result"
    }
   ],
   "source": [
    "df.corr() # pairwise correlation of columns"
   ]
  },
  {
   "cell_type": "code",
   "execution_count": 64,
   "id": "3ffcb848-0703-4771-ae29-94a3d554063f",
   "metadata": {},
   "outputs": [
    {
     "name": "stdout",
     "output_type": "stream",
     "text": [
      "Pearsons r = 0.9892422303763067, p-value = 1.762738436910981e-16\n"
     ]
    }
   ],
   "source": [
    "r,p = stats.pearsonr(df.x,df.y) # r and p-value\n",
    "\n",
    "print(f\"Pearsons r = {r}, p-value = {p}\")"
   ]
  },
  {
   "cell_type": "code",
   "execution_count": 65,
   "id": "2fa4862e-e5c1-4687-ae86-1b03ee318672",
   "metadata": {},
   "outputs": [
    {
     "name": "stdout",
     "output_type": "stream",
     "text": [
      "[[1.         0.98924223]\n",
      " [0.98924223 1.        ]]\n"
     ]
    }
   ],
   "source": [
    "print(np.corrcoef(df.x,df.y))"
   ]
  },
  {
   "cell_type": "code",
   "execution_count": null,
   "id": "2d3cb7da-74b9-4c69-aa29-3a4ef6d71754",
   "metadata": {},
   "outputs": [],
   "source": []
  }
 ],
 "metadata": {
  "kernelspec": {
   "display_name": "Python 3",
   "language": "python",
   "name": "python3"
  },
  "language_info": {
   "codemirror_mode": {
    "name": "ipython",
    "version": 3
   },
   "file_extension": ".py",
   "mimetype": "text/x-python",
   "name": "python",
   "nbconvert_exporter": "python",
   "pygments_lexer": "ipython3",
   "version": "3.8.8"
  }
 },
 "nbformat": 4,
 "nbformat_minor": 5
}
