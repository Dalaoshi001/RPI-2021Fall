{
 "cells": [
  {
   "cell_type": "code",
   "execution_count": 1,
   "metadata": {},
   "outputs": [],
   "source": [
    "import warnings\n",
    "warnings.simplefilter(action='ignore', category=FutureWarning)\n",
    "warnings.simplefilter(action='ignore', category=UserWarning)\n",
    "\n",
    "import numpy as np\n",
    "import pandas as pd\n",
    "from scipy import stats\n",
    "import seaborn as sns\n",
    "import matplotlib.pyplot as plt\n",
    "%matplotlib inline"
   ]
  },
  {
   "cell_type": "code",
   "execution_count": 2,
   "metadata": {},
   "outputs": [],
   "source": [
    "from sklearn.model_selection import train_test_split\n",
    "from sklearn.preprocessing import StandardScaler\n",
    "from sklearn.metrics import confusion_matrix\n",
    "\n",
    "from sklearn.linear_model import LinearRegression\n",
    "from sklearn.svm import SVC"
   ]
  },
  {
   "cell_type": "markdown",
   "metadata": {},
   "source": [
    "#### Imports for Cross-Validation"
   ]
  },
  {
   "cell_type": "code",
   "execution_count": 3,
   "metadata": {},
   "outputs": [],
   "source": [
    "from sklearn.model_selection import cross_val_score #k-Fold Cross Validation\n",
    "from sklearn.model_selection import GridSearchCV"
   ]
  },
  {
   "cell_type": "markdown",
   "metadata": {},
   "source": [
    "    \n",
    "## Model Validation Methods\n",
    "\n",
    "We have been splitting the data into training sets and test sets. This is called the Holdout method. We need to modify this approach to improve model performance and to tune hyperparameters. The changes are:\n",
    "\n",
    "* Adding a validation set to our training and test sets to tune hyperparmeters\n",
    "* Use Cross-Validation methods.\n",
    "\n",
    "\n",
    " "
   ]
  },
  {
   "cell_type": "markdown",
   "metadata": {},
   "source": [
    "###  Potential Drawbacks of Holdout Approach\n",
    "\n",
    "It is highly variable since it depends on which observations are included in the test set.  \n",
    "    \n",
    "It overestimates test error rate for entire data set since model is trained on fewer observations which increased bias."
   ]
  },
  {
   "cell_type": "markdown",
   "metadata": {},
   "source": [
    "#### Variability using single sample"
   ]
  },
  {
   "cell_type": "code",
   "execution_count": 4,
   "metadata": {},
   "outputs": [
    {
     "data": {
      "text/html": [
       "<div>\n",
       "<style scoped>\n",
       "    .dataframe tbody tr th:only-of-type {\n",
       "        vertical-align: middle;\n",
       "    }\n",
       "\n",
       "    .dataframe tbody tr th {\n",
       "        vertical-align: top;\n",
       "    }\n",
       "\n",
       "    .dataframe thead th {\n",
       "        text-align: right;\n",
       "    }\n",
       "</style>\n",
       "<table border=\"1\" class=\"dataframe\">\n",
       "  <thead>\n",
       "    <tr style=\"text-align: right;\">\n",
       "      <th></th>\n",
       "      <th>mpg</th>\n",
       "      <th>cylinders</th>\n",
       "      <th>displacement</th>\n",
       "      <th>horsepower</th>\n",
       "      <th>weight</th>\n",
       "      <th>acceleration</th>\n",
       "      <th>year</th>\n",
       "      <th>origin</th>\n",
       "    </tr>\n",
       "  </thead>\n",
       "  <tbody>\n",
       "    <tr>\n",
       "      <th>387</th>\n",
       "      <td>27.0</td>\n",
       "      <td>4</td>\n",
       "      <td>140.0</td>\n",
       "      <td>86</td>\n",
       "      <td>2790</td>\n",
       "      <td>15.6</td>\n",
       "      <td>82</td>\n",
       "      <td>1</td>\n",
       "    </tr>\n",
       "    <tr>\n",
       "      <th>388</th>\n",
       "      <td>44.0</td>\n",
       "      <td>4</td>\n",
       "      <td>97.0</td>\n",
       "      <td>52</td>\n",
       "      <td>2130</td>\n",
       "      <td>24.6</td>\n",
       "      <td>82</td>\n",
       "      <td>2</td>\n",
       "    </tr>\n",
       "    <tr>\n",
       "      <th>389</th>\n",
       "      <td>32.0</td>\n",
       "      <td>4</td>\n",
       "      <td>135.0</td>\n",
       "      <td>84</td>\n",
       "      <td>2295</td>\n",
       "      <td>11.6</td>\n",
       "      <td>82</td>\n",
       "      <td>1</td>\n",
       "    </tr>\n",
       "    <tr>\n",
       "      <th>390</th>\n",
       "      <td>28.0</td>\n",
       "      <td>4</td>\n",
       "      <td>120.0</td>\n",
       "      <td>79</td>\n",
       "      <td>2625</td>\n",
       "      <td>18.6</td>\n",
       "      <td>82</td>\n",
       "      <td>1</td>\n",
       "    </tr>\n",
       "    <tr>\n",
       "      <th>391</th>\n",
       "      <td>31.0</td>\n",
       "      <td>4</td>\n",
       "      <td>119.0</td>\n",
       "      <td>82</td>\n",
       "      <td>2720</td>\n",
       "      <td>19.4</td>\n",
       "      <td>82</td>\n",
       "      <td>1</td>\n",
       "    </tr>\n",
       "  </tbody>\n",
       "</table>\n",
       "</div>"
      ],
      "text/plain": [
       "      mpg  cylinders  displacement  horsepower  weight  acceleration  year  \\\n",
       "387  27.0          4         140.0          86    2790          15.6    82   \n",
       "388  44.0          4          97.0          52    2130          24.6    82   \n",
       "389  32.0          4         135.0          84    2295          11.6    82   \n",
       "390  28.0          4         120.0          79    2625          18.6    82   \n",
       "391  31.0          4         119.0          82    2720          19.4    82   \n",
       "\n",
       "     origin  \n",
       "387       1  \n",
       "388       2  \n",
       "389       1  \n",
       "390       1  \n",
       "391       1  "
      ]
     },
     "execution_count": 4,
     "metadata": {},
     "output_type": "execute_result"
    }
   ],
   "source": [
    "df = pd.read_csv(\"Auto.csv\")\n",
    "df.tail()"
   ]
  },
  {
   "cell_type": "markdown",
   "metadata": {},
   "source": [
    "#### Create degree 5 polynomial array of horsepower"
   ]
  },
  {
   "cell_type": "code",
   "execution_count": 5,
   "metadata": {},
   "outputs": [
    {
     "data": {
      "text/plain": [
       "array([        130,       16900,     2197000,   285610000, 37129300000],\n",
       "      dtype=int64)"
      ]
     },
     "execution_count": 5,
     "metadata": {},
     "output_type": "execute_result"
    }
   ],
   "source": [
    "x = df.loc[:,\"horsepower\"].values\n",
    "X = np.array([x**(n+1) for n in range(5)]).transpose()\n",
    "y = df.loc[:,\"mpg\"].values\n",
    "X[0,:]"
   ]
  },
  {
   "cell_type": "markdown",
   "metadata": {},
   "source": [
    "#### Function to obtain a sample split,then fit and predict different degree polynomials. Returns MSE."
   ]
  },
  {
   "cell_type": "code",
   "execution_count": 6,
   "metadata": {},
   "outputs": [],
   "source": [
    "def one_epoch(X,y,degree):\n",
    "    X_train, X_test, y_train, y_test = train_test_split(X, y, \n",
    "                                                    test_size = 0.20)\n",
    "    models = [LinearRegression() for i in range(degree)]\n",
    "    mses = np.zeros(degree)\n",
    "    for i in range(degree):\n",
    "        models[i].fit(X_train[:,0:(i+1)], y_train)\n",
    "        preds = models[i].predict(X_test[:,0:(i+1)])\n",
    "        mses[i] = np.mean((y_test - preds)**2)\n",
    "    return mses"
   ]
  },
  {
   "cell_type": "markdown",
   "metadata": {},
   "source": [
    "#### Run 4 epochs"
   ]
  },
  {
   "cell_type": "code",
   "execution_count": 7,
   "metadata": {},
   "outputs": [
    {
     "name": "stdout",
     "output_type": "stream",
     "text": [
      "Degree with lowest MSE [4, 2, 2, 4]\n"
     ]
    }
   ],
   "source": [
    "num_epochs = 4\n",
    "num_degrees = 5\n",
    "mses = [one_epoch(X,y,num_degrees) for i in range(num_epochs)]\n",
    "print(f'Degree with lowest MSE {list(map(np.argmin,mses))}')\n",
    "msesT = np.array(mses).T"
   ]
  },
  {
   "cell_type": "markdown",
   "metadata": {},
   "source": [
    "#### Plot epochs (i.e. different samples) for each degree polynomial"
   ]
  },
  {
   "cell_type": "code",
   "execution_count": 8,
   "metadata": {},
   "outputs": [
    {
     "data": {
      "image/png": "[encoded data removed]",
      "text/plain": [
       "<Figure size 864x432 with 1 Axes>"
      ]
     },
     "metadata": {
      "needs_background": "light"
     },
     "output_type": "display_data"
    }
   ],
   "source": [
    "fig,ax = plt.subplots(figsize = (12,6))\n",
    "x = (1,2,3,4)\n",
    "legend = []\n",
    "for i in range(5):\n",
    "    ax.plot(x,msesT[i],'o-')\n",
    "    legend.append(f'degree {i}')\n",
    "plt.xlabel(\"Epoch\")\n",
    "plt.ylabel(\"MSE\")\n",
    "plt.legend((legend))\n",
    "plt.title(f\"Variablity due to random sampling - {5} degrees\");"
   ]
  },
  {
   "cell_type": "markdown",
   "metadata": {},
   "source": [
    "#### Plot polynomial degree for each epoch"
   ]
  },
  {
   "cell_type": "code",
   "execution_count": 9,
   "metadata": {},
   "outputs": [
    {
     "data": {
      "image/png": "[encoded data removed]",
      "text/plain": [
       "<Figure size 864x432 with 1 Axes>"
      ]
     },
     "metadata": {
      "needs_background": "light"
     },
     "output_type": "display_data"
    }
   ],
   "source": [
    "fig,ax = plt.subplots(figsize = (12,6))\n",
    "x = range(1,6)\n",
    "legend = []\n",
    "for i in range(num_epochs):\n",
    "    ax.plot(x,mses[i],'o-')\n",
    "    legend.append(f'Iteration {i}')\n",
    "plt.xlabel(\"Degree\")\n",
    "plt.ylabel(\"MSE\")\n",
    "plt.legend((legend))\n",
    "plt.title(f\"Variablity due to random sampling - {num_epochs} iterations\");\n"
   ]
  },
  {
   "cell_type": "markdown",
   "metadata": {},
   "source": [
    "### Hyperparameter Tuning using Validation Set\n",
    "\n",
    "When the model has hyperparameters we need to use a validation set to tune the hyperparameters.\n",
    "\n",
    "We split the the data into three sets by: \n",
    "\n",
    "* Splitting the data into two sets. The second set will be the test set\n",
    "* Then split the first set into two sets into a training set and a validation set.\n",
    "\n",
    "Train the model using the training set and then tune the hyperparameters using the validation set. Retrain the model on the original training set.\n"
   ]
  },
  {
   "cell_type": "code",
   "execution_count": 10,
   "metadata": {},
   "outputs": [
    {
     "data": {
      "text/html": [
       "<div>\n",
       "<style scoped>\n",
       "    .dataframe tbody tr th:only-of-type {\n",
       "        vertical-align: middle;\n",
       "    }\n",
       "\n",
       "    .dataframe tbody tr th {\n",
       "        vertical-align: top;\n",
       "    }\n",
       "\n",
       "    .dataframe thead th {\n",
       "        text-align: right;\n",
       "    }\n",
       "</style>\n",
       "<table border=\"1\" class=\"dataframe\">\n",
       "  <thead>\n",
       "    <tr style=\"text-align: right;\">\n",
       "      <th></th>\n",
       "      <th>species</th>\n",
       "      <th>island</th>\n",
       "      <th>bill_length_mm</th>\n",
       "      <th>bill_depth_mm</th>\n",
       "      <th>flipper_length_mm</th>\n",
       "      <th>body_mass_g</th>\n",
       "      <th>sex</th>\n",
       "    </tr>\n",
       "  </thead>\n",
       "  <tbody>\n",
       "    <tr>\n",
       "      <th>338</th>\n",
       "      <td>Gentoo</td>\n",
       "      <td>Biscoe</td>\n",
       "      <td>47.2</td>\n",
       "      <td>13.7</td>\n",
       "      <td>214.0</td>\n",
       "      <td>4925.0</td>\n",
       "      <td>Female</td>\n",
       "    </tr>\n",
       "    <tr>\n",
       "      <th>340</th>\n",
       "      <td>Gentoo</td>\n",
       "      <td>Biscoe</td>\n",
       "      <td>46.8</td>\n",
       "      <td>14.3</td>\n",
       "      <td>215.0</td>\n",
       "      <td>4850.0</td>\n",
       "      <td>Female</td>\n",
       "    </tr>\n",
       "    <tr>\n",
       "      <th>341</th>\n",
       "      <td>Gentoo</td>\n",
       "      <td>Biscoe</td>\n",
       "      <td>50.4</td>\n",
       "      <td>15.7</td>\n",
       "      <td>222.0</td>\n",
       "      <td>5750.0</td>\n",
       "      <td>Male</td>\n",
       "    </tr>\n",
       "    <tr>\n",
       "      <th>342</th>\n",
       "      <td>Gentoo</td>\n",
       "      <td>Biscoe</td>\n",
       "      <td>45.2</td>\n",
       "      <td>14.8</td>\n",
       "      <td>212.0</td>\n",
       "      <td>5200.0</td>\n",
       "      <td>Female</td>\n",
       "    </tr>\n",
       "    <tr>\n",
       "      <th>343</th>\n",
       "      <td>Gentoo</td>\n",
       "      <td>Biscoe</td>\n",
       "      <td>49.9</td>\n",
       "      <td>16.1</td>\n",
       "      <td>213.0</td>\n",
       "      <td>5400.0</td>\n",
       "      <td>Male</td>\n",
       "    </tr>\n",
       "  </tbody>\n",
       "</table>\n",
       "</div>"
      ],
      "text/plain": [
       "    species  island  bill_length_mm  bill_depth_mm  flipper_length_mm  \\\n",
       "338  Gentoo  Biscoe            47.2           13.7              214.0   \n",
       "340  Gentoo  Biscoe            46.8           14.3              215.0   \n",
       "341  Gentoo  Biscoe            50.4           15.7              222.0   \n",
       "342  Gentoo  Biscoe            45.2           14.8              212.0   \n",
       "343  Gentoo  Biscoe            49.9           16.1              213.0   \n",
       "\n",
       "     body_mass_g     sex  \n",
       "338       4925.0  Female  \n",
       "340       4850.0  Female  \n",
       "341       5750.0    Male  \n",
       "342       5200.0  Female  \n",
       "343       5400.0    Male  "
      ]
     },
     "execution_count": 10,
     "metadata": {},
     "output_type": "execute_result"
    }
   ],
   "source": [
    "penguins = sns.load_dataset('penguins')\n",
    "penguins.dropna(inplace=True)\n",
    "penguins.tail()"
   ]
  },
  {
   "cell_type": "code",
   "execution_count": 11,
   "metadata": {},
   "outputs": [
    {
     "data": {
      "text/plain": [
       "((333, 4), (333,))"
      ]
     },
     "execution_count": 11,
     "metadata": {},
     "output_type": "execute_result"
    }
   ],
   "source": [
    "X = penguins.iloc[:, 2:6].values\n",
    "y = penguins.loc[:, 'species'].values\n",
    "X.shape,y.shape"
   ]
  },
  {
   "cell_type": "code",
   "execution_count": 12,
   "metadata": {},
   "outputs": [
    {
     "data": {
      "text/plain": [
       "((212, 4), (54, 4), (212,), (54,))"
      ]
     },
     "execution_count": 12,
     "metadata": {},
     "output_type": "execute_result"
    }
   ],
   "source": [
    "X_train,X_test,y_train,y_test = train_test_split(X, y, \n",
    "                                                 test_size = 0.20,\n",
    "                                                 stratify=y,\n",
    "                                                 random_state=4)\n",
    "\n",
    "X_train2,X_val,y_train2,y_val = train_test_split(X_train,y_train,\n",
    "                                                 test_size = .20,\n",
    "                                                 stratify=y_train,\n",
    "                                                 random_state=4)\n",
    "#Scale featues\n",
    "sc = StandardScaler()\n",
    "X_train2 = sc.fit_transform(X_train2)\n",
    "X_val = sc.transform(X_val)\n",
    "X_train2.shape,X_val.shape,y_train2.shape,y_val.shape"
   ]
  },
  {
   "cell_type": "code",
   "execution_count": 13,
   "metadata": {},
   "outputs": [
    {
     "name": "stdout",
     "output_type": "stream",
     "text": [
      "[1.         1.         0.98148148 1.        ]\n",
      "Best parameter is 0.1\n"
     ]
    }
   ],
   "source": [
    "parameters = (.1,1.0,10.0,100.0)\n",
    "scores = np.zeros(len(parameters))\n",
    "for i,param in enumerate(parameters):\n",
    "    svc_model = SVC(C = param, kernel = 'linear', random_state = 1234)\n",
    "    svc_model.fit(X_train2, y_train2)\n",
    "    scores[i] = svc_model.score(X_val,y_val)\n",
    "print(scores)\n",
    "best_C = parameters[np.argmax(scores)]\n",
    "print(f'Best parameter is {best_C}')"
   ]
  },
  {
   "cell_type": "markdown",
   "metadata": {},
   "source": [
    "#### Refit  and test model with best hyperparameter"
   ]
  },
  {
   "cell_type": "code",
   "execution_count": 14,
   "metadata": {},
   "outputs": [
    {
     "data": {
      "text/plain": [
       "0.9850746268656716"
      ]
     },
     "execution_count": 14,
     "metadata": {},
     "output_type": "execute_result"
    }
   ],
   "source": [
    "#Scale featues\n",
    "sc = StandardScaler()\n",
    "X_train = sc.fit_transform(X_train)\n",
    "X_test = sc.transform(X_test)\n",
    "X_train.shape,X_test.shape,y_train.shape,y_test.shape\n",
    "\n",
    "final_model = SVC(C = best_C, kernel = 'linear', random_state = 1234)\n",
    "final_model.fit(X_train, y_train)\n",
    "final_model.score(X_test,y_test)"
   ]
  },
  {
   "cell_type": "markdown",
   "metadata": {},
   "source": [
    "## Cross-Validation\n",
    "\n",
    "Cross-Validation is a resampling method. Given a training set, repeatedly draw samples from that set and refit the model on each sample to gain additional information about the fitted model. By resampling cross-validation makes optimal use of the data collected. Cross-Validation can be computationally expensive but with today's computing power resampling methods are tractable. \n",
    "\n",
    "\n",
    "Cross-Validation is used for:\n",
    "\n",
    "* Model assessment on the test data  \n",
    "* Model selection of appropriate level of complexity (flexibility).\n",
    "\n",
    "#### Model Assessment ( Accuracy/Test Error Rate)\n",
    " \n",
    "Accuracy of the test set will vary depending on the particular sample. More complex models will vary more from sample to sample. Cross-Validation will improve accuracy by reducing bias.\n",
    "    \n"
   ]
  },
  {
   "cell_type": "markdown",
   "metadata": {},
   "source": [
    "### k-fold Cross-Validation \n",
    "\n",
    "#### Algorithm\n",
    "\n",
    "1. Obtain a dataset\n",
    "    - Shuffle the dataset (optional) \n",
    "2. Randomly divide the data into k groups or folds of approximately equal size  \n",
    "3. For each of the k folds  \n",
    "    a. Make it the validation set  \n",
    "    b. Fit learning method on k-1 remaining folds  \n",
    "    c. Predict the validation set  \n",
    "    d. Calculate Cross Validation score on the MSE of validation set  \n",
    "4. Average the Cross Validation scores for a final performance measure \n",
    "\n",
    "<div style=\"font-size: 115%;\">\n",
    "$$CV_{(k)} = \\frac{1}{k}\\sum^k_{i}MSE_i$$\n",
    "</div>\n",
    "\n",
    "![](k-fold.png)\n",
    "$$\\text{Figure 1. 5-fold Cross Validation}$$  \n",
    "\n",
    "Each observation in the original sample is used once in the validation set and k-1 times in the training set.\n",
    "\n",
    "This method has a lower bias than a simple train/test split. It is less prone to underestimate the test error.\n",
    "\n",
    "Any scaling or tuning of hyperparameters must be done within step three to prevent data leakage.\n",
    "\n",
    "k = 5 or k = 10 have been found to produce the best results (i.e. best bias-variance tradeoff):\n",
    "\n",
    "- k = 1 is the simple train/test split that we have been doing  \n",
    "- k = n is called Leave-One-Out Cross Validation (see below)\n",
    "\n",
    "Stratified Cross Validation is used in Classification. Each fold has the same proportion of observations with a given categorical value.\n",
    "\n",
    "Repeated Cross Validation repeats the Cross Validation procedure N times\n",
    "\n",
    " "
   ]
  },
  {
   "cell_type": "markdown",
   "metadata": {},
   "source": [
    "#### k-fold Cross Validation in Classification\n",
    "\n",
    "Use number of misclassifications to quantify test error\n",
    "\n",
    "<div style=\"font-size: 115%;\">\n",
    "$$CV_{(k)} = \\frac{1}{k}\\sum^k_{i}I(y_i\\ne{\\hat{y}_i})$$\n",
    "</div>"
   ]
  },
  {
   "cell_type": "markdown",
   "metadata": {},
   "source": [
    "#### Leave-One-Out Cross (LOOC) Validation\n",
    " \n",
    "Given $(x_1,y_1)$,$(x_2,y_2)$,...,$(x_n,y_n)$  \n",
    "\n",
    "Let: $(x_1,y_1)$ be the validation set and $(x_2,y_2)$,...,$(x_n,y_n)$ be the training set.\n",
    "\n",
    "Fit the model on the training set and calculate $MSE_1$\n",
    "Predict $\\hat{y_1}$ based on $x_1$  \n",
    "Calculate $MSE_1 = mean(y_1 - \\hat{y_1})^2)$  \n",
    "Repeat for 2,...,n  \n",
    "    \n",
    "<div style=\"font-size: 115%;\">\n",
    "$$CV_{(n)} = \\frac{1}{n}\\sum^n_{i}MSE_i$$\n",
    "</div>\n",
    "\n",
    "Leave-One-Out Cross Validation has less bias since uses almost all the data in the training set.\n",
    "\n",
    "There is no randomness in training/test set splits, but can be computationally expensive and has high variance because:\n",
    "- Averaging the ouputs of n fitted models trained on datasets that are highly correlated. \n",
    "- Variance of correlated variables higher than for non-correlated variables\n",
    "\n",
    "$$Var(X + Y) = Var(X) + Var(Y) + 2\\cdot{Cov(X,Y)}$$"
   ]
  },
  {
   "cell_type": "markdown",
   "metadata": {},
   "source": [
    "### Sklearn Cross-Validation\n",
    "\n",
    "http://scikit-learn.org/stable/modules/generated/sklearn.model_selection.cross_val_score.html"
   ]
  },
  {
   "cell_type": "code",
   "execution_count": 15,
   "metadata": {},
   "outputs": [
    {
     "data": {
      "text/html": [
       "<div>\n",
       "<style scoped>\n",
       "    .dataframe tbody tr th:only-of-type {\n",
       "        vertical-align: middle;\n",
       "    }\n",
       "\n",
       "    .dataframe tbody tr th {\n",
       "        vertical-align: top;\n",
       "    }\n",
       "\n",
       "    .dataframe thead th {\n",
       "        text-align: right;\n",
       "    }\n",
       "</style>\n",
       "<table border=\"1\" class=\"dataframe\">\n",
       "  <thead>\n",
       "    <tr style=\"text-align: right;\">\n",
       "      <th></th>\n",
       "      <th>Gender</th>\n",
       "      <th>Age</th>\n",
       "      <th>Salary</th>\n",
       "      <th>Purchased</th>\n",
       "    </tr>\n",
       "  </thead>\n",
       "  <tbody>\n",
       "    <tr>\n",
       "      <th>395</th>\n",
       "      <td>Female</td>\n",
       "      <td>46</td>\n",
       "      <td>41000</td>\n",
       "      <td>1</td>\n",
       "    </tr>\n",
       "    <tr>\n",
       "      <th>396</th>\n",
       "      <td>Male</td>\n",
       "      <td>51</td>\n",
       "      <td>23000</td>\n",
       "      <td>1</td>\n",
       "    </tr>\n",
       "    <tr>\n",
       "      <th>397</th>\n",
       "      <td>Female</td>\n",
       "      <td>50</td>\n",
       "      <td>20000</td>\n",
       "      <td>1</td>\n",
       "    </tr>\n",
       "    <tr>\n",
       "      <th>398</th>\n",
       "      <td>Male</td>\n",
       "      <td>36</td>\n",
       "      <td>33000</td>\n",
       "      <td>0</td>\n",
       "    </tr>\n",
       "    <tr>\n",
       "      <th>399</th>\n",
       "      <td>Female</td>\n",
       "      <td>49</td>\n",
       "      <td>36000</td>\n",
       "      <td>1</td>\n",
       "    </tr>\n",
       "  </tbody>\n",
       "</table>\n",
       "</div>"
      ],
      "text/plain": [
       "     Gender  Age  Salary  Purchased\n",
       "395  Female   46   41000          1\n",
       "396    Male   51   23000          1\n",
       "397  Female   50   20000          1\n",
       "398    Male   36   33000          0\n",
       "399  Female   49   36000          1"
      ]
     },
     "execution_count": 15,
     "metadata": {},
     "output_type": "execute_result"
    }
   ],
   "source": [
    "Purchase = pd.read_csv('PurchaseData.csv')\n",
    "Purchase.tail()"
   ]
  },
  {
   "cell_type": "code",
   "execution_count": 16,
   "metadata": {},
   "outputs": [
    {
     "data": {
      "text/plain": [
       "((400, 2), (400,))"
      ]
     },
     "execution_count": 16,
     "metadata": {},
     "output_type": "execute_result"
    }
   ],
   "source": [
    "X = Purchase.iloc[:, [1, 2]].values\n",
    "y = Purchase.iloc[:, 3].values\n",
    "X.shape,y.shape"
   ]
  },
  {
   "cell_type": "code",
   "execution_count": 17,
   "metadata": {},
   "outputs": [
    {
     "data": {
      "text/plain": [
       "((300, 2), (100, 2), (300,), (100,))"
      ]
     },
     "execution_count": 17,
     "metadata": {},
     "output_type": "execute_result"
    }
   ],
   "source": [
    "# Split the dataset\n",
    "X_train, X_test, y_train, y_test = train_test_split(X, y, \n",
    "                                                    test_size = 0.25,\n",
    "                                                    random_state = 12,\n",
    "                                                    stratify = y)\n",
    "\n",
    "#Scale featues\n",
    "sc = StandardScaler()\n",
    "X_train = sc.fit_transform(X_train)\n",
    "X_test = sc.transform(X_test)\n",
    "X_train.shape, X_test.shape, y_train.shape, y_test.shape "
   ]
  },
  {
   "cell_type": "code",
   "execution_count": 18,
   "metadata": {},
   "outputs": [
    {
     "name": "stdout",
     "output_type": "stream",
     "text": [
      "[[57  7]\n",
      " [ 3 33]]\n"
     ]
    },
    {
     "data": {
      "text/plain": [
       "0.9"
      ]
     },
     "execution_count": 18,
     "metadata": {},
     "output_type": "execute_result"
    }
   ],
   "source": [
    "# Fitting Kernel SVM to the Training set\n",
    "\n",
    "svc_model = SVC(kernel = 'rbf', random_state = 1234)\n",
    "svc_model.fit(X_train, y_train)\n",
    "\n",
    "# Predict test data\n",
    "y_pred = svc_model.predict(X_test)\n",
    "\n",
    "# Make the Confusion Matrix\n",
    "\n",
    "cm = confusion_matrix(y_test, y_pred)\n",
    "print(cm)\n",
    "accuracy = np.trace(cm)/np.sum(cm)\n",
    "accuracy"
   ]
  },
  {
   "cell_type": "code",
   "execution_count": 19,
   "metadata": {},
   "outputs": [
    {
     "data": {
      "text/plain": [
       "0.9166666666666666"
      ]
     },
     "execution_count": 19,
     "metadata": {},
     "output_type": "execute_result"
    }
   ],
   "source": [
    "svc_model.score(X_train,y_train)"
   ]
  },
  {
   "cell_type": "code",
   "execution_count": 20,
   "metadata": {},
   "outputs": [
    {
     "data": {
      "text/plain": [
       "array([1.        , 0.83333333, 0.96666667, 0.9       , 0.9       ,\n",
       "       0.9       , 0.93333333, 0.96666667, 0.9       , 0.86666667])"
      ]
     },
     "execution_count": 20,
     "metadata": {},
     "output_type": "execute_result"
    }
   ],
   "source": [
    "# Applying k-Fold Cross Validation\n",
    "\n",
    "n_folds = 10\n",
    "\n",
    "# score function from SVC\n",
    "scores = cross_val_score(estimator = SVC(), X = X_train, y = y_train, cv = n_folds)\n",
    "scores"
   ]
  },
  {
   "cell_type": "code",
   "execution_count": 21,
   "metadata": {},
   "outputs": [
    {
     "name": "stdout",
     "output_type": "stream",
     "text": [
      "Mean accuracy:  0.9166666666666667\n",
      "Stanard Deviation of accuracies:  0.04772607021092117\n",
      "95% Confidence Interval: 0.917 +/- 0.095\n"
     ]
    },
    {
     "data": {
      "image/png": "[encoded data removed]",
      "text/plain": [
       "<Figure size 432x288 with 1 Axes>"
      ]
     },
     "metadata": {
      "needs_background": "light"
     },
     "output_type": "display_data"
    }
   ],
   "source": [
    "plt.plot(range(1,11),scores,\"o-\")\n",
    "print(\"Mean accuracy: \",scores.mean())\n",
    "print(\"Stanard Deviation of accuracies: \",scores.std())\n",
    "print(f'95% Confidence Interval: {round(scores.mean(),3)} +/- {round(2*scores.std(),3)}')\n"
   ]
  },
  {
   "cell_type": "code",
   "execution_count": 22,
   "metadata": {},
   "outputs": [
    {
     "data": {
      "text/plain": [
       "0.9166666666666667"
      ]
     },
     "execution_count": 22,
     "metadata": {},
     "output_type": "execute_result"
    }
   ],
   "source": [
    "np.mean(scores)"
   ]
  },
  {
   "cell_type": "markdown",
   "metadata": {},
   "source": [
    "### Grid search cross validation\n",
    "\n",
    "There are two types of parameters:\n",
    "\n",
    "- Parameters that are learned by model  \n",
    "- Parameters that are set by the modeler, called hyperparameters"
   ]
  },
  {
   "cell_type": "markdown",
   "metadata": {},
   "source": [
    "![](CrossVal.png)\n",
    "\n",
    "$\\text{Figure 2. Cross-Validation Workflow}$"
   ]
  },
  {
   "cell_type": "markdown",
   "metadata": {},
   "source": [
    "#### sklearn Grid Search\n",
    "\n",
    "http://scikit-learn.org/stable/modules/generated/sklearn.model_selection.GridSearchCV.html\n",
    "\n",
    "\n",
    "Grid search is a method to find for the optimal hyperparameters. Where optimal means the ones with the best Cross Validation scores.\n",
    "\n",
    "Parameters:\n",
    "- param_grid: dictionary of hyperparamters and values to search over\n",
    "- estimator: the model object\n",
    "- cv: the number of cv folds\n",
    "- scoring: \"accuracy\" for classification, \"r2\" for regression\n",
    "        - calls accuracy_score or r2_score\n",
    "        \n",
    "Result attributes:\n",
    "- best_score_\n",
    "- best_params_  \n",
    "- cv_results_"
   ]
  },
  {
   "cell_type": "code",
   "execution_count": 23,
   "metadata": {},
   "outputs": [
    {
     "name": "stdout",
     "output_type": "stream",
     "text": [
      "Best accuracy:  0.9200000000000002\n",
      "Best parameters:  {'C': 10, 'gamma': 0.3, 'kernel': 'rbf'}\n"
     ]
    }
   ],
   "source": [
    "# Grid Search Python\n",
    "# Applying Grid Search to find the best model and the best parameters\n",
    "\n",
    "parameters = [{'C': [1, 10, 100, 1000], 'kernel': ['linear']},\n",
    "              {'C': [1, 10, 100, 1000], 'kernel': ['rbf'], \n",
    "               'gamma': [0.1, 0.2, 0.3, 0.4, 0.5, 0.6, 0.7, 0.8, 0.9]}]\n",
    "grid_search = GridSearchCV(estimator = SVC(),\n",
    "                           param_grid = parameters,\n",
    "                           scoring = 'accuracy',\n",
    "                           cv = 10,\n",
    "                           n_jobs = -1)\n",
    "grid_search = grid_search.fit(X_train, y_train)\n",
    "best_accuracy = grid_search.best_score_\n",
    "best_parameters = grid_search.best_params_\n",
    "print(\"Best accuracy: \", best_accuracy)\n",
    "print(\"Best parameters: \", best_parameters )"
   ]
  },
  {
   "cell_type": "code",
   "execution_count": 24,
   "metadata": {},
   "outputs": [
    {
     "name": "stdout",
     "output_type": "stream",
     "text": [
      "[[57  7]\n",
      " [ 3 33]]\n"
     ]
    },
    {
     "data": {
      "text/plain": [
       "0.9"
      ]
     },
     "execution_count": 24,
     "metadata": {},
     "output_type": "execute_result"
    }
   ],
   "source": [
    "svc_model = SVC(C = 10, kernel = 'rbf', gamma = 0.3)\n",
    "svc_model.fit(X_train, y_train)\n",
    "\n",
    "# Predict test data\n",
    "y_pred = svc_model.predict(X_test)\n",
    "\n",
    "# Make the Confusion Matrix\n",
    "\n",
    "cm = confusion_matrix(y_test, y_pred)\n",
    "print(cm)\n",
    "accuracy = np.trace(cm)/np.sum(cm)\n",
    "accuracy"
   ]
  },
  {
   "cell_type": "code",
   "execution_count": 25,
   "metadata": {},
   "outputs": [
    {
     "data": {
      "text/plain": [
       "{'mean_fit_time': array([0.00479977, 0.00720005, 0.01899922, 0.11609902, 0.00450001,\n",
       "        0.00379927, 0.00360117, 0.00399802, 0.0029002 , 0.00319984,\n",
       "        0.00329981, 0.00340011, 0.00359957, 0.00560052, 0.00400014,\n",
       "        0.00559905, 0.00410061, 0.00500002, 0.00469954, 0.00369883,\n",
       "        0.00319908, 0.00339992, 0.00399942, 0.00339911, 0.00399921,\n",
       "        0.00489926, 0.00489979, 0.00639911, 0.00579963, 0.00600059,\n",
       "        0.00629966, 0.00869918, 0.01679986, 0.01310036, 0.01479857,\n",
       "        0.01819928, 0.01556418, 0.01540036, 0.0153656 , 0.01249971]),\n",
       " 'std_fit_time': array([0.00040099, 0.00146977, 0.00402489, 0.02477329, 0.00156475,\n",
       "        0.00039957, 0.00066409, 0.00063281, 0.00053798, 0.0003997 ,\n",
       "        0.00045835, 0.0008003 , 0.00048958, 0.00506305, 0.00099833,\n",
       "        0.00484217, 0.00169907, 0.00438192, 0.00316343, 0.00045763,\n",
       "        0.00060055, 0.0004906 , 0.00077463, 0.00102054, 0.00141442,\n",
       "        0.00094481, 0.0009429 , 0.00149713, 0.00146961, 0.00148334,\n",
       "        0.00127007, 0.00286547, 0.00719465, 0.00344713, 0.00460065,\n",
       "        0.00868115, 0.00863352, 0.00748517, 0.00461158, 0.00385392]),\n",
       " 'mean_score_time': array([0.00100029, 0.00100043, 0.00109894, 0.00090041, 0.00180063,\n",
       "        0.00110075, 0.00109904, 0.00099967, 0.00090008, 0.00100017,\n",
       "        0.00240028, 0.00130002, 0.00129986, 0.00140073, 0.00129991,\n",
       "        0.00170102, 0.00100107, 0.00099955, 0.00199995, 0.00110085,\n",
       "        0.00120091, 0.00100031, 0.00080028, 0.00110111, 0.0009012 ,\n",
       "        0.00100029, 0.00100057, 0.00120053, 0.00100026, 0.00109954,\n",
       "        0.00110059, 0.00090079, 0.00100002, 0.00089953, 0.00110147,\n",
       "        0.00100062, 0.00090139, 0.00089948, 0.00089979, 0.00090065]),\n",
       " 'std_score_time': array([1.14465751e-06, 7.74848530e-04, 5.38269195e-04, 5.38346218e-04,\n",
       "        1.77821308e-03, 2.99782206e-04, 3.00380294e-04, 4.47555969e-04,\n",
       "        3.00026433e-04, 6.48568654e-07, 3.87835713e-03, 4.58200069e-04,\n",
       "        4.58673155e-04, 6.64322005e-04, 4.59266543e-04, 2.10081751e-03,\n",
       "        2.46806417e-06, 3.45863110e-06, 2.99998929e-03, 2.99432836e-04,\n",
       "        6.00816144e-04, 1.33684595e-06, 6.00346307e-04, 5.39363220e-04,\n",
       "        3.00402252e-04, 4.46864340e-04, 1.84077054e-06, 3.98948099e-04,\n",
       "        1.23057250e-06, 3.00265646e-04, 3.00080500e-04, 5.38726105e-04,\n",
       "        8.93856355e-04, 2.99844905e-04, 3.01133924e-04, 1.68739054e-06,\n",
       "        5.38938572e-04, 2.99829333e-04, 5.38406779e-04, 3.00219969e-04]),\n",
       " 'param_C': masked_array(data=[1, 10, 100, 1000, 1, 1, 1, 1, 1, 1, 1, 1, 1, 10, 10,\n",
       "                    10, 10, 10, 10, 10, 10, 10, 100, 100, 100, 100, 100,\n",
       "                    100, 100, 100, 100, 1000, 1000, 1000, 1000, 1000, 1000,\n",
       "                    1000, 1000, 1000],\n",
       "              mask=[False, False, False, False, False, False, False, False,\n",
       "                    False, False, False, False, False, False, False, False,\n",
       "                    False, False, False, False, False, False, False, False,\n",
       "                    False, False, False, False, False, False, False, False,\n",
       "                    False, False, False, False, False, False, False, False],\n",
       "        fill_value='?',\n",
       "             dtype=object),\n",
       " 'param_kernel': masked_array(data=['linear', 'linear', 'linear', 'linear', 'rbf', 'rbf',\n",
       "                    'rbf', 'rbf', 'rbf', 'rbf', 'rbf', 'rbf', 'rbf', 'rbf',\n",
       "                    'rbf', 'rbf', 'rbf', 'rbf', 'rbf', 'rbf', 'rbf', 'rbf',\n",
       "                    'rbf', 'rbf', 'rbf', 'rbf', 'rbf', 'rbf', 'rbf', 'rbf',\n",
       "                    'rbf', 'rbf', 'rbf', 'rbf', 'rbf', 'rbf', 'rbf', 'rbf',\n",
       "                    'rbf', 'rbf'],\n",
       "              mask=[False, False, False, False, False, False, False, False,\n",
       "                    False, False, False, False, False, False, False, False,\n",
       "                    False, False, False, False, False, False, False, False,\n",
       "                    False, False, False, False, False, False, False, False,\n",
       "                    False, False, False, False, False, False, False, False],\n",
       "        fill_value='?',\n",
       "             dtype=object),\n",
       " 'param_gamma': masked_array(data=[--, --, --, --, 0.1, 0.2, 0.3, 0.4, 0.5, 0.6, 0.7, 0.8,\n",
       "                    0.9, 0.1, 0.2, 0.3, 0.4, 0.5, 0.6, 0.7, 0.8, 0.9, 0.1,\n",
       "                    0.2, 0.3, 0.4, 0.5, 0.6, 0.7, 0.8, 0.9, 0.1, 0.2, 0.3,\n",
       "                    0.4, 0.5, 0.6, 0.7, 0.8, 0.9],\n",
       "              mask=[ True,  True,  True,  True, False, False, False, False,\n",
       "                    False, False, False, False, False, False, False, False,\n",
       "                    False, False, False, False, False, False, False, False,\n",
       "                    False, False, False, False, False, False, False, False,\n",
       "                    False, False, False, False, False, False, False, False],\n",
       "        fill_value='?',\n",
       "             dtype=object),\n",
       " 'params': [{'C': 1, 'kernel': 'linear'},\n",
       "  {'C': 10, 'kernel': 'linear'},\n",
       "  {'C': 100, 'kernel': 'linear'},\n",
       "  {'C': 1000, 'kernel': 'linear'},\n",
       "  {'C': 1, 'gamma': 0.1, 'kernel': 'rbf'},\n",
       "  {'C': 1, 'gamma': 0.2, 'kernel': 'rbf'},\n",
       "  {'C': 1, 'gamma': 0.3, 'kernel': 'rbf'},\n",
       "  {'C': 1, 'gamma': 0.4, 'kernel': 'rbf'},\n",
       "  {'C': 1, 'gamma': 0.5, 'kernel': 'rbf'},\n",
       "  {'C': 1, 'gamma': 0.6, 'kernel': 'rbf'},\n",
       "  {'C': 1, 'gamma': 0.7, 'kernel': 'rbf'},\n",
       "  {'C': 1, 'gamma': 0.8, 'kernel': 'rbf'},\n",
       "  {'C': 1, 'gamma': 0.9, 'kernel': 'rbf'},\n",
       "  {'C': 10, 'gamma': 0.1, 'kernel': 'rbf'},\n",
       "  {'C': 10, 'gamma': 0.2, 'kernel': 'rbf'},\n",
       "  {'C': 10, 'gamma': 0.3, 'kernel': 'rbf'},\n",
       "  {'C': 10, 'gamma': 0.4, 'kernel': 'rbf'},\n",
       "  {'C': 10, 'gamma': 0.5, 'kernel': 'rbf'},\n",
       "  {'C': 10, 'gamma': 0.6, 'kernel': 'rbf'},\n",
       "  {'C': 10, 'gamma': 0.7, 'kernel': 'rbf'},\n",
       "  {'C': 10, 'gamma': 0.8, 'kernel': 'rbf'},\n",
       "  {'C': 10, 'gamma': 0.9, 'kernel': 'rbf'},\n",
       "  {'C': 100, 'gamma': 0.1, 'kernel': 'rbf'},\n",
       "  {'C': 100, 'gamma': 0.2, 'kernel': 'rbf'},\n",
       "  {'C': 100, 'gamma': 0.3, 'kernel': 'rbf'},\n",
       "  {'C': 100, 'gamma': 0.4, 'kernel': 'rbf'},\n",
       "  {'C': 100, 'gamma': 0.5, 'kernel': 'rbf'},\n",
       "  {'C': 100, 'gamma': 0.6, 'kernel': 'rbf'},\n",
       "  {'C': 100, 'gamma': 0.7, 'kernel': 'rbf'},\n",
       "  {'C': 100, 'gamma': 0.8, 'kernel': 'rbf'},\n",
       "  {'C': 100, 'gamma': 0.9, 'kernel': 'rbf'},\n",
       "  {'C': 1000, 'gamma': 0.1, 'kernel': 'rbf'},\n",
       "  {'C': 1000, 'gamma': 0.2, 'kernel': 'rbf'},\n",
       "  {'C': 1000, 'gamma': 0.3, 'kernel': 'rbf'},\n",
       "  {'C': 1000, 'gamma': 0.4, 'kernel': 'rbf'},\n",
       "  {'C': 1000, 'gamma': 0.5, 'kernel': 'rbf'},\n",
       "  {'C': 1000, 'gamma': 0.6, 'kernel': 'rbf'},\n",
       "  {'C': 1000, 'gamma': 0.7, 'kernel': 'rbf'},\n",
       "  {'C': 1000, 'gamma': 0.8, 'kernel': 'rbf'},\n",
       "  {'C': 1000, 'gamma': 0.9, 'kernel': 'rbf'}],\n",
       " 'split0_test_score': array([0.73333333, 0.76666667, 0.76666667, 0.76666667, 0.9       ,\n",
       "        0.96666667, 0.96666667, 0.96666667, 1.        , 1.        ,\n",
       "        1.        , 1.        , 1.        , 0.96666667, 1.        ,\n",
       "        1.        , 0.96666667, 0.96666667, 0.96666667, 0.96666667,\n",
       "        0.93333333, 0.93333333, 0.96666667, 0.96666667, 0.96666667,\n",
       "        0.96666667, 0.96666667, 0.96666667, 0.96666667, 0.96666667,\n",
       "        0.96666667, 0.96666667, 0.96666667, 0.93333333, 0.96666667,\n",
       "        0.96666667, 0.96666667, 0.93333333, 0.93333333, 0.9       ]),\n",
       " 'split1_test_score': array([0.73333333, 0.76666667, 0.76666667, 0.76666667, 0.83333333,\n",
       "        0.83333333, 0.83333333, 0.83333333, 0.83333333, 0.83333333,\n",
       "        0.83333333, 0.83333333, 0.83333333, 0.83333333, 0.83333333,\n",
       "        0.83333333, 0.83333333, 0.83333333, 0.83333333, 0.83333333,\n",
       "        0.86666667, 0.86666667, 0.83333333, 0.83333333, 0.83333333,\n",
       "        0.83333333, 0.86666667, 0.86666667, 0.86666667, 0.86666667,\n",
       "        0.86666667, 0.83333333, 0.83333333, 0.86666667, 0.86666667,\n",
       "        0.86666667, 0.86666667, 0.83333333, 0.8       , 0.8       ]),\n",
       " 'split2_test_score': array([0.93333333, 0.96666667, 0.96666667, 0.96666667, 1.        ,\n",
       "        0.96666667, 0.96666667, 0.96666667, 0.96666667, 0.96666667,\n",
       "        0.96666667, 0.96666667, 0.96666667, 0.96666667, 0.96666667,\n",
       "        0.96666667, 0.96666667, 0.96666667, 0.96666667, 0.96666667,\n",
       "        1.        , 1.        , 0.96666667, 0.96666667, 0.96666667,\n",
       "        0.93333333, 1.        , 1.        , 1.        , 1.        ,\n",
       "        1.        , 0.96666667, 0.93333333, 0.96666667, 0.96666667,\n",
       "        0.96666667, 0.96666667, 0.96666667, 0.93333333, 0.93333333]),\n",
       " 'split3_test_score': array([0.83333333, 0.83333333, 0.83333333, 0.83333333, 0.9       ,\n",
       "        0.9       , 0.9       , 0.9       , 0.9       , 0.9       ,\n",
       "        0.9       , 0.9       , 0.9       , 0.9       , 0.9       ,\n",
       "        0.9       , 0.9       , 0.86666667, 0.86666667, 0.86666667,\n",
       "        0.86666667, 0.86666667, 0.9       , 0.9       , 0.86666667,\n",
       "        0.86666667, 0.86666667, 0.86666667, 0.86666667, 0.86666667,\n",
       "        0.86666667, 0.9       , 0.86666667, 0.86666667, 0.86666667,\n",
       "        0.86666667, 0.86666667, 0.86666667, 0.86666667, 0.86666667]),\n",
       " 'split4_test_score': array([0.8       , 0.76666667, 0.76666667, 0.76666667, 0.9       ,\n",
       "        0.9       , 0.9       , 0.9       , 0.9       , 0.93333333,\n",
       "        0.93333333, 0.93333333, 0.93333333, 0.9       , 0.9       ,\n",
       "        0.93333333, 0.93333333, 0.93333333, 0.93333333, 0.93333333,\n",
       "        0.93333333, 0.93333333, 0.9       , 0.93333333, 0.93333333,\n",
       "        0.93333333, 0.93333333, 0.93333333, 0.93333333, 0.93333333,\n",
       "        0.93333333, 0.93333333, 0.93333333, 0.93333333, 0.93333333,\n",
       "        0.9       , 0.86666667, 0.86666667, 0.86666667, 0.83333333]),\n",
       " 'split5_test_score': array([0.83333333, 0.83333333, 0.83333333, 0.83333333, 0.9       ,\n",
       "        0.9       , 0.9       , 0.9       , 0.9       , 0.86666667,\n",
       "        0.86666667, 0.86666667, 0.86666667, 0.9       , 0.9       ,\n",
       "        0.9       , 0.9       , 0.9       , 0.9       , 0.83333333,\n",
       "        0.83333333, 0.83333333, 0.9       , 0.9       , 0.9       ,\n",
       "        0.86666667, 0.83333333, 0.83333333, 0.83333333, 0.83333333,\n",
       "        0.83333333, 0.86666667, 0.9       , 0.83333333, 0.83333333,\n",
       "        0.86666667, 0.83333333, 0.86666667, 0.86666667, 0.86666667]),\n",
       " 'split6_test_score': array([0.9       , 0.93333333, 0.93333333, 0.93333333, 0.86666667,\n",
       "        0.86666667, 0.93333333, 0.93333333, 0.93333333, 0.93333333,\n",
       "        0.93333333, 0.93333333, 0.9       , 0.86666667, 0.93333333,\n",
       "        0.93333333, 0.93333333, 0.9       , 0.9       , 0.9       ,\n",
       "        0.9       , 0.9       , 0.93333333, 0.93333333, 0.9       ,\n",
       "        0.9       , 0.9       , 0.9       , 0.9       , 0.9       ,\n",
       "        0.9       , 0.93333333, 0.9       , 0.9       , 0.9       ,\n",
       "        0.9       , 0.9       , 0.9       , 0.86666667, 0.83333333]),\n",
       " 'split7_test_score': array([0.86666667, 0.86666667, 0.86666667, 0.86666667, 0.96666667,\n",
       "        0.96666667, 0.96666667, 0.96666667, 0.96666667, 0.96666667,\n",
       "        0.96666667, 0.96666667, 0.96666667, 0.96666667, 0.96666667,\n",
       "        0.96666667, 0.96666667, 0.96666667, 0.96666667, 0.96666667,\n",
       "        0.96666667, 0.96666667, 0.96666667, 0.96666667, 0.96666667,\n",
       "        0.96666667, 0.96666667, 0.96666667, 0.93333333, 0.93333333,\n",
       "        0.93333333, 0.96666667, 0.96666667, 0.93333333, 0.93333333,\n",
       "        0.96666667, 0.93333333, 0.86666667, 0.86666667, 0.83333333]),\n",
       " 'split8_test_score': array([0.9       , 0.9       , 0.9       , 0.9       , 0.9       ,\n",
       "        0.9       , 0.9       , 0.9       , 0.9       , 0.9       ,\n",
       "        0.9       , 0.9       , 0.9       , 0.9       , 0.9       ,\n",
       "        0.9       , 0.9       , 0.9       , 0.9       , 0.9       ,\n",
       "        0.93333333, 0.93333333, 0.9       , 0.9       , 0.9       ,\n",
       "        0.9       , 0.93333333, 0.93333333, 0.93333333, 0.93333333,\n",
       "        0.93333333, 0.9       , 0.9       , 0.93333333, 0.93333333,\n",
       "        0.93333333, 0.93333333, 0.86666667, 0.9       , 0.9       ]),\n",
       " 'split9_test_score': array([0.83333333, 0.86666667, 0.86666667, 0.86666667, 0.83333333,\n",
       "        0.86666667, 0.86666667, 0.86666667, 0.86666667, 0.86666667,\n",
       "        0.86666667, 0.86666667, 0.86666667, 0.86666667, 0.86666667,\n",
       "        0.86666667, 0.86666667, 0.86666667, 0.86666667, 0.86666667,\n",
       "        0.86666667, 0.86666667, 0.86666667, 0.86666667, 0.86666667,\n",
       "        0.86666667, 0.86666667, 0.86666667, 0.86666667, 0.86666667,\n",
       "        0.86666667, 0.86666667, 0.86666667, 0.86666667, 0.86666667,\n",
       "        0.86666667, 0.86666667, 0.86666667, 0.86666667, 0.86666667]),\n",
       " 'mean_test_score': array([0.83666667, 0.85      , 0.85      , 0.85      , 0.9       ,\n",
       "        0.90666667, 0.91333333, 0.91333333, 0.91666667, 0.91666667,\n",
       "        0.91666667, 0.91666667, 0.91333333, 0.90666667, 0.91666667,\n",
       "        0.92      , 0.91666667, 0.91      , 0.91      , 0.90333333,\n",
       "        0.91      , 0.91      , 0.91333333, 0.91666667, 0.91      ,\n",
       "        0.90333333, 0.91333333, 0.91333333, 0.91      , 0.91      ,\n",
       "        0.91      , 0.91333333, 0.90666667, 0.90333333, 0.90666667,\n",
       "        0.91      , 0.9       , 0.88333333, 0.87666667, 0.86333333]),\n",
       " 'std_test_score': array([0.06403124, 0.06708204, 0.06708204, 0.06708204, 0.04944132,\n",
       "        0.04422166, 0.04268749, 0.04268749, 0.04772607, 0.05      ,\n",
       "        0.05      , 0.05      , 0.04988877, 0.04422166, 0.04772607,\n",
       "        0.04760952, 0.04281744, 0.04484541, 0.04484541, 0.05044249,\n",
       "        0.04955356, 0.04955356, 0.04268749, 0.04281744, 0.04484541,\n",
       "        0.04333333, 0.05206833, 0.05206833, 0.04955356, 0.04955356,\n",
       "        0.04955356, 0.04521553, 0.04163332, 0.04068852, 0.04422166,\n",
       "        0.04229526, 0.04472136, 0.0372678 , 0.03666667, 0.03785939]),\n",
       " 'rank_test_score': array([40, 37, 37, 37, 32, 25,  9,  9,  2,  2,  2,  2,  9, 25,  2,  1,  2,\n",
       "        16, 16, 29, 16, 16,  9,  2, 16, 29,  9,  9, 16, 16, 16,  9, 25, 29,\n",
       "        25, 16, 32, 34, 35, 36])}"
      ]
     },
     "execution_count": 25,
     "metadata": {},
     "output_type": "execute_result"
    }
   ],
   "source": [
    "grid_search.cv_results_"
   ]
  },
  {
   "cell_type": "markdown",
   "metadata": {},
   "source": [
    "#### Figures\n",
    "\n",
    "\n",
    "\n",
    "Figures 1: \"An Introduction to Statistical Learning, with applications in R\" (Springer, 2013) with permission from the authors: G. James, D. Witten, T. Hastie and R. Tibshirani \n",
    "\n",
    "Figure 2: Sklearn Cross-Validation Users Guide"
   ]
  },
  {
   "cell_type": "code",
   "execution_count": null,
   "metadata": {},
   "outputs": [],
   "source": []
  }
 ],
 "metadata": {
  "kernelspec": {
   "display_name": "Python 3 (ipykernel)",
   "language": "python",
   "name": "python3"
  },
  "language_info": {
   "codemirror_mode": {
    "name": "ipython",
    "version": 3
   },
   "file_extension": ".py",
   "mimetype": "text/x-python",
   "name": "python",
   "nbconvert_exporter": "python",
   "pygments_lexer": "ipython3",
   "version": "3.8.11"
  },
  "varInspector": {
   "cols": {
    "lenName": 16,
    "lenType": 16,
    "lenVar": 40
   },
   "kernels_config": {
    "python": {
     "delete_cmd_postfix": "",
     "delete_cmd_prefix": "del ",
     "library": "var_list.py",
     "varRefreshCmd": "print(var_dic_list())"
    },
    "r": {
     "delete_cmd_postfix": ") ",
     "delete_cmd_prefix": "rm(",
     "library": "var_list.r",
     "varRefreshCmd": "cat(var_dic_list()) "
    }
   },
   "types_to_exclude": [
    "module",
    "function",
    "builtin_function_or_method",
    "instance",
    "_Feature"
   ],
   "window_display": false
  }
 },
 "nbformat": 4,
 "nbformat_minor": 4
}
