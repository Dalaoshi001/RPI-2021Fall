{
 "cells": [
  {
   "cell_type": "code",
   "execution_count": null,
   "id": "20771f16-b404-4b82-b0a8-527f5c57427b",
   "metadata": {},
   "outputs": [],
   "source": []
  },
  {
   "cell_type": "markdown",
   "id": "197b489a-62ee-401c-8845-58f6fc2428cb",
   "metadata": {},
   "source": [
    "### Exercises"
   ]
  },
  {
   "cell_type": "code",
   "execution_count": 28,
   "id": "c24067b2-0712-44fe-99de-1371fbcabb2e",
   "metadata": {},
   "outputs": [
    {
     "data": {
      "text/html": [
       "<div>\n",
       "<style scoped>\n",
       "    .dataframe tbody tr th:only-of-type {\n",
       "        vertical-align: middle;\n",
       "    }\n",
       "\n",
       "    .dataframe tbody tr th {\n",
       "        vertical-align: top;\n",
       "    }\n",
       "\n",
       "    .dataframe thead th {\n",
       "        text-align: right;\n",
       "    }\n",
       "</style>\n",
       "<table border=\"1\" class=\"dataframe\">\n",
       "  <thead>\n",
       "    <tr style=\"text-align: right;\">\n",
       "      <th></th>\n",
       "      <th>Private</th>\n",
       "      <th>Apps</th>\n",
       "      <th>Accept</th>\n",
       "      <th>Enroll</th>\n",
       "      <th>Top10perc</th>\n",
       "      <th>Top25perc</th>\n",
       "      <th>F.Undergrad</th>\n",
       "      <th>P.Undergrad</th>\n",
       "      <th>Outstate</th>\n",
       "      <th>Room.Board</th>\n",
       "      <th>Books</th>\n",
       "      <th>Personal</th>\n",
       "      <th>PhD</th>\n",
       "      <th>Terminal</th>\n",
       "      <th>S.F.Ratio</th>\n",
       "      <th>perc.alumni</th>\n",
       "      <th>Expend</th>\n",
       "      <th>Grad.Rate</th>\n",
       "    </tr>\n",
       "  </thead>\n",
       "  <tbody>\n",
       "    <tr>\n",
       "      <th>Abilene Christian University</th>\n",
       "      <td>Yes</td>\n",
       "      <td>1660</td>\n",
       "      <td>1232</td>\n",
       "      <td>721</td>\n",
       "      <td>23</td>\n",
       "      <td>52</td>\n",
       "      <td>2885</td>\n",
       "      <td>537</td>\n",
       "      <td>7440</td>\n",
       "      <td>3300</td>\n",
       "      <td>450</td>\n",
       "      <td>2200</td>\n",
       "      <td>70</td>\n",
       "      <td>78</td>\n",
       "      <td>18.1</td>\n",
       "      <td>12</td>\n",
       "      <td>7041</td>\n",
       "      <td>60</td>\n",
       "    </tr>\n",
       "    <tr>\n",
       "      <th>Adelphi University</th>\n",
       "      <td>Yes</td>\n",
       "      <td>2186</td>\n",
       "      <td>1924</td>\n",
       "      <td>512</td>\n",
       "      <td>16</td>\n",
       "      <td>29</td>\n",
       "      <td>2683</td>\n",
       "      <td>1227</td>\n",
       "      <td>12280</td>\n",
       "      <td>6450</td>\n",
       "      <td>750</td>\n",
       "      <td>1500</td>\n",
       "      <td>29</td>\n",
       "      <td>30</td>\n",
       "      <td>12.2</td>\n",
       "      <td>16</td>\n",
       "      <td>10527</td>\n",
       "      <td>56</td>\n",
       "    </tr>\n",
       "    <tr>\n",
       "      <th>Adrian College</th>\n",
       "      <td>Yes</td>\n",
       "      <td>1428</td>\n",
       "      <td>1097</td>\n",
       "      <td>336</td>\n",
       "      <td>22</td>\n",
       "      <td>50</td>\n",
       "      <td>1036</td>\n",
       "      <td>99</td>\n",
       "      <td>11250</td>\n",
       "      <td>3750</td>\n",
       "      <td>400</td>\n",
       "      <td>1165</td>\n",
       "      <td>53</td>\n",
       "      <td>66</td>\n",
       "      <td>12.9</td>\n",
       "      <td>30</td>\n",
       "      <td>8735</td>\n",
       "      <td>54</td>\n",
       "    </tr>\n",
       "    <tr>\n",
       "      <th>Agnes Scott College</th>\n",
       "      <td>Yes</td>\n",
       "      <td>417</td>\n",
       "      <td>349</td>\n",
       "      <td>137</td>\n",
       "      <td>60</td>\n",
       "      <td>89</td>\n",
       "      <td>510</td>\n",
       "      <td>63</td>\n",
       "      <td>12960</td>\n",
       "      <td>5450</td>\n",
       "      <td>450</td>\n",
       "      <td>875</td>\n",
       "      <td>92</td>\n",
       "      <td>97</td>\n",
       "      <td>7.7</td>\n",
       "      <td>37</td>\n",
       "      <td>19016</td>\n",
       "      <td>59</td>\n",
       "    </tr>\n",
       "    <tr>\n",
       "      <th>Alaska Pacific University</th>\n",
       "      <td>Yes</td>\n",
       "      <td>193</td>\n",
       "      <td>146</td>\n",
       "      <td>55</td>\n",
       "      <td>16</td>\n",
       "      <td>44</td>\n",
       "      <td>249</td>\n",
       "      <td>869</td>\n",
       "      <td>7560</td>\n",
       "      <td>4120</td>\n",
       "      <td>800</td>\n",
       "      <td>1500</td>\n",
       "      <td>76</td>\n",
       "      <td>72</td>\n",
       "      <td>11.9</td>\n",
       "      <td>2</td>\n",
       "      <td>10922</td>\n",
       "      <td>15</td>\n",
       "    </tr>\n",
       "  </tbody>\n",
       "</table>\n",
       "</div>"
      ],
      "text/plain": [
       "                             Private  Apps  Accept  Enroll  Top10perc  \\\n",
       "Abilene Christian University     Yes  1660    1232     721         23   \n",
       "Adelphi University               Yes  2186    1924     512         16   \n",
       "Adrian College                   Yes  1428    1097     336         22   \n",
       "Agnes Scott College              Yes   417     349     137         60   \n",
       "Alaska Pacific University        Yes   193     146      55         16   \n",
       "\n",
       "                              Top25perc  F.Undergrad  P.Undergrad  Outstate  \\\n",
       "Abilene Christian University         52         2885          537      7440   \n",
       "Adelphi University                   29         2683         1227     12280   \n",
       "Adrian College                       50         1036           99     11250   \n",
       "Agnes Scott College                  89          510           63     12960   \n",
       "Alaska Pacific University            44          249          869      7560   \n",
       "\n",
       "                              Room.Board  Books  Personal  PhD  Terminal  \\\n",
       "Abilene Christian University        3300    450      2200   70        78   \n",
       "Adelphi University                  6450    750      1500   29        30   \n",
       "Adrian College                      3750    400      1165   53        66   \n",
       "Agnes Scott College                 5450    450       875   92        97   \n",
       "Alaska Pacific University           4120    800      1500   76        72   \n",
       "\n",
       "                              S.F.Ratio  perc.alumni  Expend  Grad.Rate  \n",
       "Abilene Christian University       18.1           12    7041         60  \n",
       "Adelphi University                 12.2           16   10527         56  \n",
       "Adrian College                     12.9           30    8735         54  \n",
       "Agnes Scott College                 7.7           37   19016         59  \n",
       "Alaska Pacific University          11.9            2   10922         15  "
      ]
     },
     "execution_count": 28,
     "metadata": {},
     "output_type": "execute_result"
    }
   ],
   "source": [
    "college = pd.read_csv(\"College2.csv\",index_col = 0)\n",
    "college.head()"
   ]
  },
  {
   "cell_type": "markdown",
   "id": "6e4930e8-a988-4e3b-b756-2eaf80d19875",
   "metadata": {},
   "source": [
    "Using college.csv, which contains:\n",
    "\n",
    "A data frame with 777 observations on the following 18 variables.  \n",
    "\n",
    "Private: No or Yes indicating private or public university  \n",
    "Apps: Number of applications received  \n",
    "Accept: Number of applications accepted  \n",
    "Enroll: Number of new students enrolled  \n",
    "Top10perc: Pct. new students from top 10% of H.S. class  \n",
    "Top25perc: Pct. new students from top 25% of H.S. class  \n",
    "F.Undergrad: Number of fulltime undergraduates  \n",
    "P.Undergrad: Number of parttime undergraduates  \n",
    "Outstate: Out-of-state tuition  \n",
    "Room.Board: Room and board costs  \n",
    "Books: Estimated book costs  \n",
    "Personal: Estimated personal spending  \n",
    "PhD: Pct. of faculty with Ph.D.'s  \n",
    "Terminal: Pct. of faculty with terminal degree  \n",
    "S.F.Ratio: Student/faculty ratio  \n",
    "perc.alumni: Pct. alumni who donate  \n",
    "Expend: Instructional expenditure per student  \n",
    "Grad.Rate: Graduation rate  "
   ]
  },
  {
   "cell_type": "code",
   "execution_count": 29,
   "id": "ff7fd5bf-8d5c-4815-a42e-d20aed3afc1d",
   "metadata": {},
   "outputs": [],
   "source": [
    "idx = list(range(len(college.columns)))\n",
    "idx.remove(1)\n",
    "X = college.iloc[:, idx].values\n",
    "y = college.iloc[:, 1].values # number of applications\n",
    "\n",
    "labelencoder_X = LabelEncoder()\n",
    "X[:, 0] = labelencoder_X.fit_transform(X[:, 0])\n",
    "\n",
    "X_train, X_test, y_train, y_test = train_test_split(X, y, test_size = 0.25, random_state = 0)\n",
    "\n",
    "\n",
    "sc = StandardScaler()\n",
    "X_train = sc.fit_transform(X_train)\n",
    "X_test = sc.transform(X_test)\n"
   ]
  },
  {
   "cell_type": "code",
   "execution_count": 30,
   "id": "e26e5d67-1ad6-4b82-8bbc-e1987c0811e0",
   "metadata": {},
   "outputs": [
    {
     "data": {
      "text/plain": [
       "Private          Yes\n",
       "Apps            4996\n",
       "Accept          4165\n",
       "Enroll           936\n",
       "Top10perc         53\n",
       "Top25perc         82\n",
       "F.Undergrad     4291\n",
       "P.Undergrad       16\n",
       "Outstate       17475\n",
       "Room.Board      5976\n",
       "Books           1230\n",
       "Personal        1100\n",
       "PhD               94\n",
       "Terminal          98\n",
       "S.F.Ratio       15.4\n",
       "perc.alumni       21\n",
       "Expend         15605\n",
       "Grad.Rate         70\n",
       "Name: Rensselaer Polytechnic Institute, dtype: object"
      ]
     },
     "execution_count": 30,
     "metadata": {},
     "output_type": "execute_result"
    }
   ],
   "source": [
    "college.loc['Rensselaer Polytechnic Institute']"
   ]
  },
  {
   "cell_type": "markdown",
   "id": "8d2d4e99-e404-42a4-9a05-f47a3c74ec08",
   "metadata": {},
   "source": [
    "### 1. Ridge Regression\n",
    "\n",
    "Predict Apps ( Number of applications received) with a Ridge regression model using RidgeCV.  \n",
    "Output $R^2$ and MSE for the test data and the best alpha."
   ]
  },
  {
   "cell_type": "code",
   "execution_count": null,
   "id": "acd172a5-98f6-4652-b153-dd0951754235",
   "metadata": {},
   "outputs": [],
   "source": [
    "# Your code here"
   ]
  },
  {
   "cell_type": "markdown",
   "id": "f6c4bac2-9eb5-4ba9-a65c-448720afdeed",
   "metadata": {},
   "source": [
    "### 2. Lasso Regression\n",
    "\n",
    "Predict Apps ( Number of applications received) with a Lasso regression model using LassoCV. Output $R^2$ and MSE for the test data and the best alpha."
   ]
  },
  {
   "cell_type": "code",
   "execution_count": null,
   "id": "8873ade4-ba77-43c9-8faa-065840687bc0",
   "metadata": {},
   "outputs": [],
   "source": [
    "# Your code here"
   ]
  },
  {
   "cell_type": "markdown",
   "id": "deccf16f-da7b-4084-82bc-8a5ad6d18280",
   "metadata": {},
   "source": [
    "### 3. Recursive Feature Elimination\n",
    "\n",
    "Use RFECV on a Lasso model instance to determine the features to eliminate. "
   ]
  },
  {
   "cell_type": "code",
   "execution_count": null,
   "id": "38b89a72-0238-4052-baa8-3032fb581ea0",
   "metadata": {},
   "outputs": [],
   "source": [
    "# Your code here"
   ]
  },
  {
   "cell_type": "markdown",
   "id": "aace158e-ae5c-4753-a95c-cf2479e4489b",
   "metadata": {},
   "source": [
    "### 4. Use RFECV fit.support\n",
    "\n",
    "Predict Apps with a Linear regression model using the variables selected by the RFECV object. Output $R^2$ and MSE for the test data. \n"
   ]
  },
  {
   "cell_type": "code",
   "execution_count": null,
   "id": "c582c8e9-c3fb-40ca-9e82-d724d1e89f05",
   "metadata": {},
   "outputs": [],
   "source": [
    "# Your code here"
   ]
  },
  {
   "cell_type": "markdown",
   "id": "a8c15f11-d079-4bda-a22e-f9bc12ba7ea0",
   "metadata": {},
   "source": [
    "### 5. Elastic Net Regression\n",
    "\n",
    "Fit an ElasticNet Cross-Validated model to the training data.  \n",
    "Plot the coefficients.  \n",
    "Print the number of coefficients shrunk to zero."
   ]
  },
  {
   "cell_type": "code",
   "execution_count": null,
   "id": "0ca36b77-f36b-4851-b136-40440e99365e",
   "metadata": {},
   "outputs": [],
   "source": [
    "# Your code here"
   ]
  }
 ],
 "metadata": {
  "kernelspec": {
   "display_name": "Python 3",
   "language": "python",
   "name": "python3"
  },
  "language_info": {
   "codemirror_mode": {
    "name": "ipython",
    "version": 3
   },
   "file_extension": ".py",
   "mimetype": "text/x-python",
   "name": "python",
   "nbconvert_exporter": "python",
   "pygments_lexer": "ipython3",
   "version": "3.8.8"
  }
 },
 "nbformat": 4,
 "nbformat_minor": 5
}
