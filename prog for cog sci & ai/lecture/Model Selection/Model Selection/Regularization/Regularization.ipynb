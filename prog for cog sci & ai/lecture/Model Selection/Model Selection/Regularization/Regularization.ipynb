{
 "cells": [
  {
   "cell_type": "code",
   "execution_count": 16,
   "metadata": {},
   "outputs": [],
   "source": [
    "import warnings\n",
    "warnings.simplefilter(action='ignore', category=FutureWarning)\n",
    "warnings.simplefilter(action='ignore', category=UserWarning)\n",
    "\n",
    "import numpy as np\n",
    "import pandas as pd\n",
    "from scipy import stats\n",
    "import seaborn as sns\n",
    "import matplotlib.pyplot as plt\n",
    "%matplotlib inline"
   ]
  },
  {
   "cell_type": "code",
   "execution_count": 17,
   "metadata": {},
   "outputs": [],
   "source": [
    "from sklearn.model_selection import train_test_split\n",
    "from sklearn.preprocessing import StandardScaler\n",
    "from sklearn.preprocessing import LabelEncoder\n",
    "from sklearn.metrics import confusion_matrix\n",
    "from sklearn.linear_model import LinearRegression"
   ]
  },
  {
   "cell_type": "markdown",
   "metadata": {},
   "source": [
    "#### Imports for Regularization"
   ]
  },
  {
   "cell_type": "code",
   "execution_count": 18,
   "metadata": {},
   "outputs": [],
   "source": [
    "from sklearn.linear_model import Ridge, RidgeCV \n",
    "from sklearn.linear_model import Lasso,LassoCV\n",
    "from sklearn.linear_model import ElasticNet,ElasticNetCV"
   ]
  },
  {
   "cell_type": "markdown",
   "metadata": {},
   "source": [
    "## Regularization\n",
    "\n",
    "Regularization methods are intended to prevent or reduce overfitting thus improving generalization (i.e. improve performance on test set).\n",
    "\n",
    "The methods described here penalize the model by adding additional constraints to the parameter optimization. They are:\n",
    "\n",
    "- Ridge Regression\n",
    "- Lasso Regression\n",
    "- Elastic Net Regression\n",
    "\n",
    "These regularization methods add a constraint(s) to the Ordinary Least Squares linear regression cost function that constrains (i.e. shrinks) the coefficients, thus the are called **Shrinkage Methods**.\n",
    "\n",
    "We favor smaller coefficients because the larger the magnitude of the coefficient that greater the change in the response (i.e. greater variability). We do not want a lot of weight for any single predictor because if we have different training data, the response could vary with just slight change in this one predictor. The response would be overly sensitive to this predictor."
   ]
  },
  {
   "cell_type": "markdown",
   "metadata": {},
   "source": [
    "### Ridge Regression\n",
    "\n",
    "In Ordinary Least Squares regression we estimate the coefficients $\\beta$:\n",
    "\n",
    "<div style=\"font-size: 110%;\">\n",
    "$$ \\hat{\\beta} =   \\underset{\\beta}{\\mathrm{argmin}}\\sum_i{(y_i - X_i^T\\beta)^2}$$\n",
    "</div>\n",
    "\n",
    "This produces the vector of coefficients $\\beta$ that is the **Best Linear Unbiased Estimator (BLUE)**. Of all the unbiased estimators (that is the ones that $\\frac{1}{N}\\sum_1^\\infty{\\hat{\\beta}}$  = the population $\\beta$) it has the lowest variance. This is the Gauss-Markov theorem.\n",
    "\n",
    "But this may not have the best test set performance because the of the variance.\n",
    "\n",
    "Ridge Regression adds a penalty equivalent to square of the magnitude of coefficients ($\\beta^2$) to the OLS error. This is termed L2 regularization. It shrinks the coefficients toward zero but not to zero.\n",
    "    \n",
    "<div style=\"font-size: 110%;\">\n",
    "$$\\hat{\\beta} =  \\underset{\\beta}{\\mathrm{argmin}}\\sum_i{(y_i - X_i^T\\beta)^2} + \\lambda \\sum_{j=1}^p\\beta_j^2$$\n",
    "</div>\n",
    "\n",
    "By shrinking the coefficients, Ridge Regression constrains the model to fewer choices thus increasing the bias by a little, but the variance is greatly reduced due to the decrease in complexity\n",
    "\n",
    "The $\\lambda$ Parameter controls amount of regularization:\n",
    "\n",
    "* $\\lambda$ = 0: same as OLS Regression\n",
    "* $\\lambda$ >> 0: drives all the coefficients to very close to zero \n",
    "\n"
   ]
  },
  {
   "cell_type": "markdown",
   "metadata": {},
   "source": [
    "### Ridge Regression in sklearn\n",
    "\n",
    "#### Ridge Class\n",
    "\n",
    "http://scikit-learn.org/stable/modules/generated/sklearn.linear_model.Ridge.html\n",
    "\n",
    "**The alpha keyword parameter is the $\\lambda$ hyperparameter**\n"
   ]
  },
  {
   "cell_type": "markdown",
   "metadata": {},
   "source": [
    "### Model for Hitters data\n",
    "\n",
    "The Dependent variable is Salary with 16 numerical and 3 categorical predictors. The dataset has null values."
   ]
  },
  {
   "cell_type": "code",
   "execution_count": 19,
   "metadata": {},
   "outputs": [
    {
     "data": {
      "text/html": [
       "<div>\n",
       "<style scoped>\n",
       "    .dataframe tbody tr th:only-of-type {\n",
       "        vertical-align: middle;\n",
       "    }\n",
       "\n",
       "    .dataframe tbody tr th {\n",
       "        vertical-align: top;\n",
       "    }\n",
       "\n",
       "    .dataframe thead th {\n",
       "        text-align: right;\n",
       "    }\n",
       "</style>\n",
       "<table border=\"1\" class=\"dataframe\">\n",
       "  <thead>\n",
       "    <tr style=\"text-align: right;\">\n",
       "      <th></th>\n",
       "      <th>AtBat</th>\n",
       "      <th>Hits</th>\n",
       "      <th>HmRun</th>\n",
       "      <th>Runs</th>\n",
       "      <th>RBI</th>\n",
       "      <th>Walks</th>\n",
       "      <th>Years</th>\n",
       "      <th>CAtBat</th>\n",
       "      <th>CHits</th>\n",
       "      <th>CHmRun</th>\n",
       "      <th>CRuns</th>\n",
       "      <th>CRBI</th>\n",
       "      <th>CWalks</th>\n",
       "      <th>League</th>\n",
       "      <th>Division</th>\n",
       "      <th>PutOuts</th>\n",
       "      <th>Assists</th>\n",
       "      <th>Errors</th>\n",
       "      <th>Salary</th>\n",
       "      <th>NewLeague</th>\n",
       "    </tr>\n",
       "  </thead>\n",
       "  <tbody>\n",
       "    <tr>\n",
       "      <th>317</th>\n",
       "      <td>497</td>\n",
       "      <td>127</td>\n",
       "      <td>7</td>\n",
       "      <td>65</td>\n",
       "      <td>48</td>\n",
       "      <td>37</td>\n",
       "      <td>5</td>\n",
       "      <td>2703</td>\n",
       "      <td>806</td>\n",
       "      <td>32</td>\n",
       "      <td>379</td>\n",
       "      <td>311</td>\n",
       "      <td>138</td>\n",
       "      <td>N</td>\n",
       "      <td>E</td>\n",
       "      <td>325</td>\n",
       "      <td>9</td>\n",
       "      <td>3</td>\n",
       "      <td>700.0</td>\n",
       "      <td>N</td>\n",
       "    </tr>\n",
       "    <tr>\n",
       "      <th>318</th>\n",
       "      <td>492</td>\n",
       "      <td>136</td>\n",
       "      <td>5</td>\n",
       "      <td>76</td>\n",
       "      <td>50</td>\n",
       "      <td>94</td>\n",
       "      <td>12</td>\n",
       "      <td>5511</td>\n",
       "      <td>1511</td>\n",
       "      <td>39</td>\n",
       "      <td>897</td>\n",
       "      <td>451</td>\n",
       "      <td>875</td>\n",
       "      <td>A</td>\n",
       "      <td>E</td>\n",
       "      <td>313</td>\n",
       "      <td>381</td>\n",
       "      <td>20</td>\n",
       "      <td>875.0</td>\n",
       "      <td>A</td>\n",
       "    </tr>\n",
       "    <tr>\n",
       "      <th>319</th>\n",
       "      <td>475</td>\n",
       "      <td>126</td>\n",
       "      <td>3</td>\n",
       "      <td>61</td>\n",
       "      <td>43</td>\n",
       "      <td>52</td>\n",
       "      <td>6</td>\n",
       "      <td>1700</td>\n",
       "      <td>433</td>\n",
       "      <td>7</td>\n",
       "      <td>217</td>\n",
       "      <td>93</td>\n",
       "      <td>146</td>\n",
       "      <td>A</td>\n",
       "      <td>W</td>\n",
       "      <td>37</td>\n",
       "      <td>113</td>\n",
       "      <td>7</td>\n",
       "      <td>385.0</td>\n",
       "      <td>A</td>\n",
       "    </tr>\n",
       "    <tr>\n",
       "      <th>320</th>\n",
       "      <td>573</td>\n",
       "      <td>144</td>\n",
       "      <td>9</td>\n",
       "      <td>85</td>\n",
       "      <td>60</td>\n",
       "      <td>78</td>\n",
       "      <td>8</td>\n",
       "      <td>3198</td>\n",
       "      <td>857</td>\n",
       "      <td>97</td>\n",
       "      <td>470</td>\n",
       "      <td>420</td>\n",
       "      <td>332</td>\n",
       "      <td>A</td>\n",
       "      <td>E</td>\n",
       "      <td>1314</td>\n",
       "      <td>131</td>\n",
       "      <td>12</td>\n",
       "      <td>960.0</td>\n",
       "      <td>A</td>\n",
       "    </tr>\n",
       "    <tr>\n",
       "      <th>321</th>\n",
       "      <td>631</td>\n",
       "      <td>170</td>\n",
       "      <td>9</td>\n",
       "      <td>77</td>\n",
       "      <td>44</td>\n",
       "      <td>31</td>\n",
       "      <td>11</td>\n",
       "      <td>4908</td>\n",
       "      <td>1457</td>\n",
       "      <td>30</td>\n",
       "      <td>775</td>\n",
       "      <td>357</td>\n",
       "      <td>249</td>\n",
       "      <td>A</td>\n",
       "      <td>W</td>\n",
       "      <td>408</td>\n",
       "      <td>4</td>\n",
       "      <td>3</td>\n",
       "      <td>1000.0</td>\n",
       "      <td>A</td>\n",
       "    </tr>\n",
       "  </tbody>\n",
       "</table>\n",
       "</div>"
      ],
      "text/plain": [
       "     AtBat  Hits  HmRun  Runs  RBI  Walks  Years  CAtBat  CHits  CHmRun  \\\n",
       "317    497   127      7    65   48     37      5    2703    806      32   \n",
       "318    492   136      5    76   50     94     12    5511   1511      39   \n",
       "319    475   126      3    61   43     52      6    1700    433       7   \n",
       "320    573   144      9    85   60     78      8    3198    857      97   \n",
       "321    631   170      9    77   44     31     11    4908   1457      30   \n",
       "\n",
       "     CRuns  CRBI  CWalks League Division  PutOuts  Assists  Errors  Salary  \\\n",
       "317    379   311     138      N        E      325        9       3   700.0   \n",
       "318    897   451     875      A        E      313      381      20   875.0   \n",
       "319    217    93     146      A        W       37      113       7   385.0   \n",
       "320    470   420     332      A        E     1314      131      12   960.0   \n",
       "321    775   357     249      A        W      408        4       3  1000.0   \n",
       "\n",
       "    NewLeague  \n",
       "317         N  \n",
       "318         A  \n",
       "319         A  \n",
       "320         A  \n",
       "321         A  "
      ]
     },
     "execution_count": 19,
     "metadata": {},
     "output_type": "execute_result"
    }
   ],
   "source": [
    "df = pd.read_csv(\"Hitters.csv\")\n",
    "df.tail()"
   ]
  },
  {
   "cell_type": "code",
   "execution_count": 20,
   "metadata": {},
   "outputs": [
    {
     "data": {
      "text/plain": [
       "AtBat         0\n",
       "Hits          0\n",
       "HmRun         0\n",
       "Runs          0\n",
       "RBI           0\n",
       "Walks         0\n",
       "Years         0\n",
       "CAtBat        0\n",
       "CHits         0\n",
       "CHmRun        0\n",
       "CRuns         0\n",
       "CRBI          0\n",
       "CWalks        0\n",
       "League        0\n",
       "Division      0\n",
       "PutOuts       0\n",
       "Assists       0\n",
       "Errors        0\n",
       "Salary       59\n",
       "NewLeague     0\n",
       "dtype: int64"
      ]
     },
     "execution_count": 20,
     "metadata": {},
     "output_type": "execute_result"
    }
   ],
   "source": [
    "np.sum(df.isnull())"
   ]
  },
  {
   "cell_type": "markdown",
   "metadata": {},
   "source": [
    "#### Drop missing values and use only numerical values"
   ]
  },
  {
   "cell_type": "code",
   "execution_count": 21,
   "metadata": {},
   "outputs": [
    {
     "data": {
      "text/html": [
       "<div>\n",
       "<style scoped>\n",
       "    .dataframe tbody tr th:only-of-type {\n",
       "        vertical-align: middle;\n",
       "    }\n",
       "\n",
       "    .dataframe tbody tr th {\n",
       "        vertical-align: top;\n",
       "    }\n",
       "\n",
       "    .dataframe thead th {\n",
       "        text-align: right;\n",
       "    }\n",
       "</style>\n",
       "<table border=\"1\" class=\"dataframe\">\n",
       "  <thead>\n",
       "    <tr style=\"text-align: right;\">\n",
       "      <th></th>\n",
       "      <th>AtBat</th>\n",
       "      <th>Hits</th>\n",
       "      <th>HmRun</th>\n",
       "      <th>Runs</th>\n",
       "      <th>RBI</th>\n",
       "      <th>Walks</th>\n",
       "      <th>Years</th>\n",
       "      <th>CAtBat</th>\n",
       "      <th>CHits</th>\n",
       "      <th>CHmRun</th>\n",
       "      <th>CRuns</th>\n",
       "      <th>CRBI</th>\n",
       "      <th>CWalks</th>\n",
       "      <th>PutOuts</th>\n",
       "      <th>Assists</th>\n",
       "      <th>Errors</th>\n",
       "      <th>Salary</th>\n",
       "    </tr>\n",
       "  </thead>\n",
       "  <tbody>\n",
       "    <tr>\n",
       "      <th>317</th>\n",
       "      <td>497</td>\n",
       "      <td>127</td>\n",
       "      <td>7</td>\n",
       "      <td>65</td>\n",
       "      <td>48</td>\n",
       "      <td>37</td>\n",
       "      <td>5</td>\n",
       "      <td>2703</td>\n",
       "      <td>806</td>\n",
       "      <td>32</td>\n",
       "      <td>379</td>\n",
       "      <td>311</td>\n",
       "      <td>138</td>\n",
       "      <td>325</td>\n",
       "      <td>9</td>\n",
       "      <td>3</td>\n",
       "      <td>700.0</td>\n",
       "    </tr>\n",
       "    <tr>\n",
       "      <th>318</th>\n",
       "      <td>492</td>\n",
       "      <td>136</td>\n",
       "      <td>5</td>\n",
       "      <td>76</td>\n",
       "      <td>50</td>\n",
       "      <td>94</td>\n",
       "      <td>12</td>\n",
       "      <td>5511</td>\n",
       "      <td>1511</td>\n",
       "      <td>39</td>\n",
       "      <td>897</td>\n",
       "      <td>451</td>\n",
       "      <td>875</td>\n",
       "      <td>313</td>\n",
       "      <td>381</td>\n",
       "      <td>20</td>\n",
       "      <td>875.0</td>\n",
       "    </tr>\n",
       "    <tr>\n",
       "      <th>319</th>\n",
       "      <td>475</td>\n",
       "      <td>126</td>\n",
       "      <td>3</td>\n",
       "      <td>61</td>\n",
       "      <td>43</td>\n",
       "      <td>52</td>\n",
       "      <td>6</td>\n",
       "      <td>1700</td>\n",
       "      <td>433</td>\n",
       "      <td>7</td>\n",
       "      <td>217</td>\n",
       "      <td>93</td>\n",
       "      <td>146</td>\n",
       "      <td>37</td>\n",
       "      <td>113</td>\n",
       "      <td>7</td>\n",
       "      <td>385.0</td>\n",
       "    </tr>\n",
       "    <tr>\n",
       "      <th>320</th>\n",
       "      <td>573</td>\n",
       "      <td>144</td>\n",
       "      <td>9</td>\n",
       "      <td>85</td>\n",
       "      <td>60</td>\n",
       "      <td>78</td>\n",
       "      <td>8</td>\n",
       "      <td>3198</td>\n",
       "      <td>857</td>\n",
       "      <td>97</td>\n",
       "      <td>470</td>\n",
       "      <td>420</td>\n",
       "      <td>332</td>\n",
       "      <td>1314</td>\n",
       "      <td>131</td>\n",
       "      <td>12</td>\n",
       "      <td>960.0</td>\n",
       "    </tr>\n",
       "    <tr>\n",
       "      <th>321</th>\n",
       "      <td>631</td>\n",
       "      <td>170</td>\n",
       "      <td>9</td>\n",
       "      <td>77</td>\n",
       "      <td>44</td>\n",
       "      <td>31</td>\n",
       "      <td>11</td>\n",
       "      <td>4908</td>\n",
       "      <td>1457</td>\n",
       "      <td>30</td>\n",
       "      <td>775</td>\n",
       "      <td>357</td>\n",
       "      <td>249</td>\n",
       "      <td>408</td>\n",
       "      <td>4</td>\n",
       "      <td>3</td>\n",
       "      <td>1000.0</td>\n",
       "    </tr>\n",
       "  </tbody>\n",
       "</table>\n",
       "</div>"
      ],
      "text/plain": [
       "     AtBat  Hits  HmRun  Runs  RBI  Walks  Years  CAtBat  CHits  CHmRun  \\\n",
       "317    497   127      7    65   48     37      5    2703    806      32   \n",
       "318    492   136      5    76   50     94     12    5511   1511      39   \n",
       "319    475   126      3    61   43     52      6    1700    433       7   \n",
       "320    573   144      9    85   60     78      8    3198    857      97   \n",
       "321    631   170      9    77   44     31     11    4908   1457      30   \n",
       "\n",
       "     CRuns  CRBI  CWalks  PutOuts  Assists  Errors  Salary  \n",
       "317    379   311     138      325        9       3   700.0  \n",
       "318    897   451     875      313      381      20   875.0  \n",
       "319    217    93     146       37      113       7   385.0  \n",
       "320    470   420     332     1314      131      12   960.0  \n",
       "321    775   357     249      408        4       3  1000.0  "
      ]
     },
     "execution_count": 21,
     "metadata": {},
     "output_type": "execute_result"
    }
   ],
   "source": [
    "df = df.dropna()\n",
    "df = df.drop(['League','Division','NewLeague'],axis = 1)\n",
    "df.tail()"
   ]
  },
  {
   "cell_type": "code",
   "execution_count": 22,
   "metadata": {},
   "outputs": [
    {
     "data": {
      "text/html": [
       "<div>\n",
       "<style scoped>\n",
       "    .dataframe tbody tr th:only-of-type {\n",
       "        vertical-align: middle;\n",
       "    }\n",
       "\n",
       "    .dataframe tbody tr th {\n",
       "        vertical-align: top;\n",
       "    }\n",
       "\n",
       "    .dataframe thead th {\n",
       "        text-align: right;\n",
       "    }\n",
       "</style>\n",
       "<table border=\"1\" class=\"dataframe\">\n",
       "  <thead>\n",
       "    <tr style=\"text-align: right;\">\n",
       "      <th></th>\n",
       "      <th>AtBat</th>\n",
       "      <th>Hits</th>\n",
       "      <th>HmRun</th>\n",
       "      <th>Runs</th>\n",
       "      <th>RBI</th>\n",
       "      <th>Walks</th>\n",
       "      <th>Years</th>\n",
       "      <th>CAtBat</th>\n",
       "      <th>CHits</th>\n",
       "      <th>CHmRun</th>\n",
       "      <th>CRuns</th>\n",
       "      <th>CRBI</th>\n",
       "      <th>CWalks</th>\n",
       "      <th>PutOuts</th>\n",
       "      <th>Assists</th>\n",
       "      <th>Errors</th>\n",
       "      <th>Salary</th>\n",
       "    </tr>\n",
       "  </thead>\n",
       "  <tbody>\n",
       "    <tr>\n",
       "      <th>AtBat</th>\n",
       "      <td>1.000000</td>\n",
       "      <td>0.963969</td>\n",
       "      <td>0.555102</td>\n",
       "      <td>0.899829</td>\n",
       "      <td>0.796015</td>\n",
       "      <td>0.624448</td>\n",
       "      <td>0.012725</td>\n",
       "      <td>0.207166</td>\n",
       "      <td>0.225341</td>\n",
       "      <td>0.212422</td>\n",
       "      <td>0.237278</td>\n",
       "      <td>0.221393</td>\n",
       "      <td>0.132926</td>\n",
       "      <td>0.309607</td>\n",
       "      <td>0.342117</td>\n",
       "      <td>0.325577</td>\n",
       "      <td>0.394771</td>\n",
       "    </tr>\n",
       "    <tr>\n",
       "      <th>Hits</th>\n",
       "      <td>0.963969</td>\n",
       "      <td>1.000000</td>\n",
       "      <td>0.530627</td>\n",
       "      <td>0.910630</td>\n",
       "      <td>0.788478</td>\n",
       "      <td>0.587311</td>\n",
       "      <td>0.018598</td>\n",
       "      <td>0.206678</td>\n",
       "      <td>0.235606</td>\n",
       "      <td>0.189364</td>\n",
       "      <td>0.238896</td>\n",
       "      <td>0.219384</td>\n",
       "      <td>0.122971</td>\n",
       "      <td>0.299688</td>\n",
       "      <td>0.303975</td>\n",
       "      <td>0.279876</td>\n",
       "      <td>0.438675</td>\n",
       "    </tr>\n",
       "    <tr>\n",
       "      <th>HmRun</th>\n",
       "      <td>0.555102</td>\n",
       "      <td>0.530627</td>\n",
       "      <td>1.000000</td>\n",
       "      <td>0.631076</td>\n",
       "      <td>0.849107</td>\n",
       "      <td>0.440454</td>\n",
       "      <td>0.113488</td>\n",
       "      <td>0.217464</td>\n",
       "      <td>0.217496</td>\n",
       "      <td>0.492526</td>\n",
       "      <td>0.258347</td>\n",
       "      <td>0.349858</td>\n",
       "      <td>0.227183</td>\n",
       "      <td>0.250931</td>\n",
       "      <td>-0.161602</td>\n",
       "      <td>-0.009743</td>\n",
       "      <td>0.343028</td>\n",
       "    </tr>\n",
       "    <tr>\n",
       "      <th>Runs</th>\n",
       "      <td>0.899829</td>\n",
       "      <td>0.910630</td>\n",
       "      <td>0.631076</td>\n",
       "      <td>1.000000</td>\n",
       "      <td>0.778692</td>\n",
       "      <td>0.697015</td>\n",
       "      <td>-0.011975</td>\n",
       "      <td>0.171811</td>\n",
       "      <td>0.191327</td>\n",
       "      <td>0.229701</td>\n",
       "      <td>0.237831</td>\n",
       "      <td>0.202335</td>\n",
       "      <td>0.163700</td>\n",
       "      <td>0.271160</td>\n",
       "      <td>0.179258</td>\n",
       "      <td>0.192609</td>\n",
       "      <td>0.419859</td>\n",
       "    </tr>\n",
       "    <tr>\n",
       "      <th>RBI</th>\n",
       "      <td>0.796015</td>\n",
       "      <td>0.788478</td>\n",
       "      <td>0.849107</td>\n",
       "      <td>0.778692</td>\n",
       "      <td>1.000000</td>\n",
       "      <td>0.569505</td>\n",
       "      <td>0.129668</td>\n",
       "      <td>0.278126</td>\n",
       "      <td>0.292137</td>\n",
       "      <td>0.442190</td>\n",
       "      <td>0.307226</td>\n",
       "      <td>0.387777</td>\n",
       "      <td>0.233619</td>\n",
       "      <td>0.312065</td>\n",
       "      <td>0.062902</td>\n",
       "      <td>0.150155</td>\n",
       "      <td>0.449457</td>\n",
       "    </tr>\n",
       "    <tr>\n",
       "      <th>Walks</th>\n",
       "      <td>0.624448</td>\n",
       "      <td>0.587311</td>\n",
       "      <td>0.440454</td>\n",
       "      <td>0.697015</td>\n",
       "      <td>0.569505</td>\n",
       "      <td>1.000000</td>\n",
       "      <td>0.134793</td>\n",
       "      <td>0.269450</td>\n",
       "      <td>0.270795</td>\n",
       "      <td>0.349582</td>\n",
       "      <td>0.332977</td>\n",
       "      <td>0.312697</td>\n",
       "      <td>0.429140</td>\n",
       "      <td>0.280855</td>\n",
       "      <td>0.102523</td>\n",
       "      <td>0.081937</td>\n",
       "      <td>0.443867</td>\n",
       "    </tr>\n",
       "    <tr>\n",
       "      <th>Years</th>\n",
       "      <td>0.012725</td>\n",
       "      <td>0.018598</td>\n",
       "      <td>0.113488</td>\n",
       "      <td>-0.011975</td>\n",
       "      <td>0.129668</td>\n",
       "      <td>0.134793</td>\n",
       "      <td>1.000000</td>\n",
       "      <td>0.915681</td>\n",
       "      <td>0.897844</td>\n",
       "      <td>0.722371</td>\n",
       "      <td>0.876649</td>\n",
       "      <td>0.863809</td>\n",
       "      <td>0.837524</td>\n",
       "      <td>-0.020019</td>\n",
       "      <td>-0.085118</td>\n",
       "      <td>-0.156512</td>\n",
       "      <td>0.400657</td>\n",
       "    </tr>\n",
       "    <tr>\n",
       "      <th>CAtBat</th>\n",
       "      <td>0.207166</td>\n",
       "      <td>0.206678</td>\n",
       "      <td>0.217464</td>\n",
       "      <td>0.171811</td>\n",
       "      <td>0.278126</td>\n",
       "      <td>0.269450</td>\n",
       "      <td>0.915681</td>\n",
       "      <td>1.000000</td>\n",
       "      <td>0.995057</td>\n",
       "      <td>0.801676</td>\n",
       "      <td>0.982747</td>\n",
       "      <td>0.950730</td>\n",
       "      <td>0.906712</td>\n",
       "      <td>0.053393</td>\n",
       "      <td>-0.007897</td>\n",
       "      <td>-0.070478</td>\n",
       "      <td>0.526135</td>\n",
       "    </tr>\n",
       "    <tr>\n",
       "      <th>CHits</th>\n",
       "      <td>0.225341</td>\n",
       "      <td>0.235606</td>\n",
       "      <td>0.217496</td>\n",
       "      <td>0.191327</td>\n",
       "      <td>0.292137</td>\n",
       "      <td>0.270795</td>\n",
       "      <td>0.897844</td>\n",
       "      <td>0.995057</td>\n",
       "      <td>1.000000</td>\n",
       "      <td>0.786652</td>\n",
       "      <td>0.984542</td>\n",
       "      <td>0.946797</td>\n",
       "      <td>0.890718</td>\n",
       "      <td>0.067348</td>\n",
       "      <td>-0.013144</td>\n",
       "      <td>-0.068036</td>\n",
       "      <td>0.548910</td>\n",
       "    </tr>\n",
       "    <tr>\n",
       "      <th>CHmRun</th>\n",
       "      <td>0.212422</td>\n",
       "      <td>0.189364</td>\n",
       "      <td>0.492526</td>\n",
       "      <td>0.229701</td>\n",
       "      <td>0.442190</td>\n",
       "      <td>0.349582</td>\n",
       "      <td>0.722371</td>\n",
       "      <td>0.801676</td>\n",
       "      <td>0.786652</td>\n",
       "      <td>1.000000</td>\n",
       "      <td>0.825625</td>\n",
       "      <td>0.927903</td>\n",
       "      <td>0.810878</td>\n",
       "      <td>0.093822</td>\n",
       "      <td>-0.188886</td>\n",
       "      <td>-0.165369</td>\n",
       "      <td>0.524931</td>\n",
       "    </tr>\n",
       "    <tr>\n",
       "      <th>CRuns</th>\n",
       "      <td>0.237278</td>\n",
       "      <td>0.238896</td>\n",
       "      <td>0.258347</td>\n",
       "      <td>0.237831</td>\n",
       "      <td>0.307226</td>\n",
       "      <td>0.332977</td>\n",
       "      <td>0.876649</td>\n",
       "      <td>0.982747</td>\n",
       "      <td>0.984542</td>\n",
       "      <td>0.825625</td>\n",
       "      <td>1.000000</td>\n",
       "      <td>0.945677</td>\n",
       "      <td>0.927768</td>\n",
       "      <td>0.059087</td>\n",
       "      <td>-0.038895</td>\n",
       "      <td>-0.094081</td>\n",
       "      <td>0.562678</td>\n",
       "    </tr>\n",
       "    <tr>\n",
       "      <th>CRBI</th>\n",
       "      <td>0.221393</td>\n",
       "      <td>0.219384</td>\n",
       "      <td>0.349858</td>\n",
       "      <td>0.202335</td>\n",
       "      <td>0.387777</td>\n",
       "      <td>0.312697</td>\n",
       "      <td>0.863809</td>\n",
       "      <td>0.950730</td>\n",
       "      <td>0.946797</td>\n",
       "      <td>0.927903</td>\n",
       "      <td>0.945677</td>\n",
       "      <td>1.000000</td>\n",
       "      <td>0.889137</td>\n",
       "      <td>0.095375</td>\n",
       "      <td>-0.096559</td>\n",
       "      <td>-0.115316</td>\n",
       "      <td>0.566966</td>\n",
       "    </tr>\n",
       "    <tr>\n",
       "      <th>CWalks</th>\n",
       "      <td>0.132926</td>\n",
       "      <td>0.122971</td>\n",
       "      <td>0.227183</td>\n",
       "      <td>0.163700</td>\n",
       "      <td>0.233619</td>\n",
       "      <td>0.429140</td>\n",
       "      <td>0.837524</td>\n",
       "      <td>0.906712</td>\n",
       "      <td>0.890718</td>\n",
       "      <td>0.810878</td>\n",
       "      <td>0.927768</td>\n",
       "      <td>0.889137</td>\n",
       "      <td>1.000000</td>\n",
       "      <td>0.058160</td>\n",
       "      <td>-0.066243</td>\n",
       "      <td>-0.129936</td>\n",
       "      <td>0.489822</td>\n",
       "    </tr>\n",
       "    <tr>\n",
       "      <th>PutOuts</th>\n",
       "      <td>0.309607</td>\n",
       "      <td>0.299688</td>\n",
       "      <td>0.250931</td>\n",
       "      <td>0.271160</td>\n",
       "      <td>0.312065</td>\n",
       "      <td>0.280855</td>\n",
       "      <td>-0.020019</td>\n",
       "      <td>0.053393</td>\n",
       "      <td>0.067348</td>\n",
       "      <td>0.093822</td>\n",
       "      <td>0.059087</td>\n",
       "      <td>0.095375</td>\n",
       "      <td>0.058160</td>\n",
       "      <td>1.000000</td>\n",
       "      <td>-0.043390</td>\n",
       "      <td>0.075306</td>\n",
       "      <td>0.300480</td>\n",
       "    </tr>\n",
       "    <tr>\n",
       "      <th>Assists</th>\n",
       "      <td>0.342117</td>\n",
       "      <td>0.303975</td>\n",
       "      <td>-0.161602</td>\n",
       "      <td>0.179258</td>\n",
       "      <td>0.062902</td>\n",
       "      <td>0.102523</td>\n",
       "      <td>-0.085118</td>\n",
       "      <td>-0.007897</td>\n",
       "      <td>-0.013144</td>\n",
       "      <td>-0.188886</td>\n",
       "      <td>-0.038895</td>\n",
       "      <td>-0.096559</td>\n",
       "      <td>-0.066243</td>\n",
       "      <td>-0.043390</td>\n",
       "      <td>1.000000</td>\n",
       "      <td>0.703505</td>\n",
       "      <td>0.025436</td>\n",
       "    </tr>\n",
       "    <tr>\n",
       "      <th>Errors</th>\n",
       "      <td>0.325577</td>\n",
       "      <td>0.279876</td>\n",
       "      <td>-0.009743</td>\n",
       "      <td>0.192609</td>\n",
       "      <td>0.150155</td>\n",
       "      <td>0.081937</td>\n",
       "      <td>-0.156512</td>\n",
       "      <td>-0.070478</td>\n",
       "      <td>-0.068036</td>\n",
       "      <td>-0.165369</td>\n",
       "      <td>-0.094081</td>\n",
       "      <td>-0.115316</td>\n",
       "      <td>-0.129936</td>\n",
       "      <td>0.075306</td>\n",
       "      <td>0.703505</td>\n",
       "      <td>1.000000</td>\n",
       "      <td>-0.005401</td>\n",
       "    </tr>\n",
       "    <tr>\n",
       "      <th>Salary</th>\n",
       "      <td>0.394771</td>\n",
       "      <td>0.438675</td>\n",
       "      <td>0.343028</td>\n",
       "      <td>0.419859</td>\n",
       "      <td>0.449457</td>\n",
       "      <td>0.443867</td>\n",
       "      <td>0.400657</td>\n",
       "      <td>0.526135</td>\n",
       "      <td>0.548910</td>\n",
       "      <td>0.524931</td>\n",
       "      <td>0.562678</td>\n",
       "      <td>0.566966</td>\n",
       "      <td>0.489822</td>\n",
       "      <td>0.300480</td>\n",
       "      <td>0.025436</td>\n",
       "      <td>-0.005401</td>\n",
       "      <td>1.000000</td>\n",
       "    </tr>\n",
       "  </tbody>\n",
       "</table>\n",
       "</div>"
      ],
      "text/plain": [
       "            AtBat      Hits     HmRun      Runs       RBI     Walks     Years  \\\n",
       "AtBat    1.000000  0.963969  0.555102  0.899829  0.796015  0.624448  0.012725   \n",
       "Hits     0.963969  1.000000  0.530627  0.910630  0.788478  0.587311  0.018598   \n",
       "HmRun    0.555102  0.530627  1.000000  0.631076  0.849107  0.440454  0.113488   \n",
       "Runs     0.899829  0.910630  0.631076  1.000000  0.778692  0.697015 -0.011975   \n",
       "RBI      0.796015  0.788478  0.849107  0.778692  1.000000  0.569505  0.129668   \n",
       "Walks    0.624448  0.587311  0.440454  0.697015  0.569505  1.000000  0.134793   \n",
       "Years    0.012725  0.018598  0.113488 -0.011975  0.129668  0.134793  1.000000   \n",
       "CAtBat   0.207166  0.206678  0.217464  0.171811  0.278126  0.269450  0.915681   \n",
       "CHits    0.225341  0.235606  0.217496  0.191327  0.292137  0.270795  0.897844   \n",
       "CHmRun   0.212422  0.189364  0.492526  0.229701  0.442190  0.349582  0.722371   \n",
       "CRuns    0.237278  0.238896  0.258347  0.237831  0.307226  0.332977  0.876649   \n",
       "CRBI     0.221393  0.219384  0.349858  0.202335  0.387777  0.312697  0.863809   \n",
       "CWalks   0.132926  0.122971  0.227183  0.163700  0.233619  0.429140  0.837524   \n",
       "PutOuts  0.309607  0.299688  0.250931  0.271160  0.312065  0.280855 -0.020019   \n",
       "Assists  0.342117  0.303975 -0.161602  0.179258  0.062902  0.102523 -0.085118   \n",
       "Errors   0.325577  0.279876 -0.009743  0.192609  0.150155  0.081937 -0.156512   \n",
       "Salary   0.394771  0.438675  0.343028  0.419859  0.449457  0.443867  0.400657   \n",
       "\n",
       "           CAtBat     CHits    CHmRun     CRuns      CRBI    CWalks   PutOuts  \\\n",
       "AtBat    0.207166  0.225341  0.212422  0.237278  0.221393  0.132926  0.309607   \n",
       "Hits     0.206678  0.235606  0.189364  0.238896  0.219384  0.122971  0.299688   \n",
       "HmRun    0.217464  0.217496  0.492526  0.258347  0.349858  0.227183  0.250931   \n",
       "Runs     0.171811  0.191327  0.229701  0.237831  0.202335  0.163700  0.271160   \n",
       "RBI      0.278126  0.292137  0.442190  0.307226  0.387777  0.233619  0.312065   \n",
       "Walks    0.269450  0.270795  0.349582  0.332977  0.312697  0.429140  0.280855   \n",
       "Years    0.915681  0.897844  0.722371  0.876649  0.863809  0.837524 -0.020019   \n",
       "CAtBat   1.000000  0.995057  0.801676  0.982747  0.950730  0.906712  0.053393   \n",
       "CHits    0.995057  1.000000  0.786652  0.984542  0.946797  0.890718  0.067348   \n",
       "CHmRun   0.801676  0.786652  1.000000  0.825625  0.927903  0.810878  0.093822   \n",
       "CRuns    0.982747  0.984542  0.825625  1.000000  0.945677  0.927768  0.059087   \n",
       "CRBI     0.950730  0.946797  0.927903  0.945677  1.000000  0.889137  0.095375   \n",
       "CWalks   0.906712  0.890718  0.810878  0.927768  0.889137  1.000000  0.058160   \n",
       "PutOuts  0.053393  0.067348  0.093822  0.059087  0.095375  0.058160  1.000000   \n",
       "Assists -0.007897 -0.013144 -0.188886 -0.038895 -0.096559 -0.066243 -0.043390   \n",
       "Errors  -0.070478 -0.068036 -0.165369 -0.094081 -0.115316 -0.129936  0.075306   \n",
       "Salary   0.526135  0.548910  0.524931  0.562678  0.566966  0.489822  0.300480   \n",
       "\n",
       "          Assists    Errors    Salary  \n",
       "AtBat    0.342117  0.325577  0.394771  \n",
       "Hits     0.303975  0.279876  0.438675  \n",
       "HmRun   -0.161602 -0.009743  0.343028  \n",
       "Runs     0.179258  0.192609  0.419859  \n",
       "RBI      0.062902  0.150155  0.449457  \n",
       "Walks    0.102523  0.081937  0.443867  \n",
       "Years   -0.085118 -0.156512  0.400657  \n",
       "CAtBat  -0.007897 -0.070478  0.526135  \n",
       "CHits   -0.013144 -0.068036  0.548910  \n",
       "CHmRun  -0.188886 -0.165369  0.524931  \n",
       "CRuns   -0.038895 -0.094081  0.562678  \n",
       "CRBI    -0.096559 -0.115316  0.566966  \n",
       "CWalks  -0.066243 -0.129936  0.489822  \n",
       "PutOuts -0.043390  0.075306  0.300480  \n",
       "Assists  1.000000  0.703505  0.025436  \n",
       "Errors   0.703505  1.000000 -0.005401  \n",
       "Salary   0.025436 -0.005401  1.000000  "
      ]
     },
     "execution_count": 22,
     "metadata": {},
     "output_type": "execute_result"
    }
   ],
   "source": [
    "df.corr()"
   ]
  },
  {
   "cell_type": "markdown",
   "metadata": {},
   "source": [
    "#### Create arrays and split data"
   ]
  },
  {
   "cell_type": "code",
   "execution_count": 23,
   "metadata": {},
   "outputs": [],
   "source": [
    "X = df.iloc[:,0:16].values\n",
    "y = df.iloc[:,16].values"
   ]
  },
  {
   "cell_type": "code",
   "execution_count": 24,
   "metadata": {},
   "outputs": [
    {
     "name": "stdout",
     "output_type": "stream",
     "text": [
      "(197, 16) (66, 16) (197,) (66,)\n"
     ]
    }
   ],
   "source": [
    "X_train, X_test, y_train, y_test = train_test_split(X, y,  test_size = 0.25, random_state = 1234)\n",
    "print(X_train.shape, X_test.shape, y_train.shape, y_test.shape)\n",
    "sc = StandardScaler()\n",
    "X_train = sc.fit_transform(X_train)\n",
    "X_test = sc.transform(X_test)"
   ]
  },
  {
   "cell_type": "markdown",
   "metadata": {},
   "source": [
    "#### Coefficients, $R^2$, and Mean Square Error of Ridge regression model"
   ]
  },
  {
   "cell_type": "code",
   "execution_count": 25,
   "metadata": {},
   "outputs": [
    {
     "name": "stdout",
     "output_type": "stream",
     "text": [
      "R-Squared:  0.4995498448645428\n",
      "MSE:  83086.97505947598\n",
      "AtBat -133.369\n",
      "Hits 135.583\n",
      "HmRun -19.354\n",
      "Runs 44.65\n",
      "RBI 24.752\n",
      "Walks 54.721\n",
      "Years -69.178\n",
      "CAtBat -15.466\n",
      "CHits 105.559\n",
      "CHmRun 34.903\n",
      "CRuns 144.282\n",
      "CRBI 62.6\n",
      "CWalks -40.063\n",
      "PutOuts 78.801\n",
      "Assists 15.833\n",
      "Errors -1.156\n"
     ]
    }
   ],
   "source": [
    "model_r = Ridge(alpha = 10)\n",
    "model_r.fit(X_train,y_train)\n",
    "coefs_r = model_r.coef_\n",
    "print('R-Squared: ',model_r.score(X_train,y_train))\n",
    "yhat = model_r.predict(X_test)\n",
    "mse = np.mean((y_test - yhat)**2)\n",
    "print('MSE: ',mse)\n",
    "for n,v in zip(df.columns,coefs_r):\n",
    "    print(n,round(v,3))\n"
   ]
  },
  {
   "cell_type": "markdown",
   "metadata": {},
   "source": [
    "#### Coefficients, $R^2$, and Mean Square Error of OLS regression model"
   ]
  },
  {
   "cell_type": "code",
   "execution_count": 26,
   "metadata": {},
   "outputs": [
    {
     "name": "stdout",
     "output_type": "stream",
     "text": [
      "R-Squared:  0.5300312245228194\n",
      "MSE:  88004.36248218546\n",
      "AtBat -305.721\n",
      "Hits 311.443\n",
      "HmRun 31.737\n",
      "Runs -35.847\n",
      "RBI 0.167\n",
      "Walks 101.596\n",
      "Years -46.204\n",
      "CAtBat -555.51\n",
      "CHits 361.529\n",
      "CHmRun -2.304\n",
      "CRuns 485.774\n",
      "CRBI 98.624\n",
      "CWalks -127.995\n",
      "PutOuts 84.38\n",
      "Assists 39.568\n",
      "Errors 3.224\n"
     ]
    }
   ],
   "source": [
    "model_l = LinearRegression()\n",
    "model_l.fit(X_train,y_train)\n",
    "coefs_l = model_l.coef_\n",
    "print('R-Squared: ',model_l.score(X_train,y_train))\n",
    "yhat = model_l.predict(X_test)\n",
    "mse = np.mean((y_test - yhat)**2)\n",
    "print('MSE: ',mse)\n",
    "for n,v in zip(df.columns,coefs_l):\n",
    "    print(n,round(v,3))"
   ]
  },
  {
   "cell_type": "markdown",
   "metadata": {},
   "source": [
    "#### Show shrinkage of coefficients"
   ]
  },
  {
   "cell_type": "code",
   "execution_count": 27,
   "metadata": {},
   "outputs": [
    {
     "data": {
      "image/png": "[encoded data removed]",
      "text/plain": [
       "<Figure size 432x288 with 1 Axes>"
      ]
     },
     "metadata": {
      "needs_background": "light"
     },
     "output_type": "display_data"
    }
   ],
   "source": [
    "p1 = plt.plot(range(len(coefs_l)),coefs_l,'r') \n",
    "p2 = plt.plot(range(len(coefs_r)),coefs_r,'b') \n",
    "plt.title(\"Shrinkage\")\n",
    "plt.ylabel(\"Coefficient\")\n",
    "plt.legend((p1[0],p2[0]),(\"Linear\",\"Ridge\"));"
   ]
  },
  {
   "cell_type": "markdown",
   "metadata": {},
   "source": [
    "#### Check that no coefficients shrunk to zero"
   ]
  },
  {
   "cell_type": "code",
   "execution_count": 28,
   "metadata": {},
   "outputs": [
    {
     "name": "stdout",
     "output_type": "stream",
     "text": [
      "Number of coefficients ridge regression shrunk to 0: 0\n"
     ]
    }
   ],
   "source": [
    "print(f'Number of coefficients ridge regression shrunk to 0: {np.sum(coefs_r == 0)}')"
   ]
  },
  {
   "cell_type": "markdown",
   "metadata": {},
   "source": [
    "#### Ridge Cross Validation: RidgeCV Class\n",
    "\n",
    "Cross Validation for alpha\n",
    "\n",
    "http://scikit-learn.org/stable/modules/generated/sklearn.linear_model.RidgeCV.html"
   ]
  },
  {
   "cell_type": "code",
   "execution_count": 29,
   "metadata": {},
   "outputs": [
    {
     "name": "stdout",
     "output_type": "stream",
     "text": [
      "R-Squared:  0.5262778596414921\n",
      "Alpha:  1.0\n"
     ]
    }
   ],
   "source": [
    "model = RidgeCV(store_cv_values = True)\n",
    "model.fit(X_train,y_train)\n",
    "coefs_r = model.coef_\n",
    "print('R-Squared: ',model.score(X_train,y_train))\n",
    "print('Alpha: ', model.alpha_)"
   ]
  },
  {
   "cell_type": "code",
   "execution_count": 30,
   "metadata": {},
   "outputs": [
    {
     "name": "stdout",
     "output_type": "stream",
     "text": [
      "[364075.62896106 332325.91684097 207579.43648695]\n"
     ]
    },
    {
     "data": {
      "text/plain": [
       "{'alpha_per_target': False,\n",
       " 'alphas': array([ 0.1,  1. , 10. ]),\n",
       " 'cv': None,\n",
       " 'fit_intercept': True,\n",
       " 'gcv_mode': None,\n",
       " 'normalize': False,\n",
       " 'scoring': None,\n",
       " 'store_cv_values': True}"
      ]
     },
     "execution_count": 30,
     "metadata": {},
     "output_type": "execute_result"
    }
   ],
   "source": [
    "print(model.cv_values_[0])\n",
    "model.get_params()"
   ]
  },
  {
   "cell_type": "markdown",
   "metadata": {},
   "source": [
    "### Lasso Regression\n",
    "\n",
    "Lass regression is similar to Ridge regression. It adds penalty equivalent to absolute value of the magnitude of coefficients to the OLS error. This is called L1 regularization. This reduces overfitting by shrinking some of the coefficients to zero.\n",
    "\n",
    "Like ridge Regression it increases bias a little but decreases variance by decreasing the number of predictors\n",
    "\n",
    "It is also conseidered a form of model selection because it eliminates predictors.\n",
    "\n",
    "<div style=\"font-size: 110%;\">\n",
    "$$\\hat{\\beta} =  \\underset{\\beta}{\\mathrm{argmin}}\\sum_i{(y_i - X_i^T\\beta)^2} + \\lambda \\sum_{j=1}^p|\\beta_j|$$\n",
    "</div>"
   ]
  },
  {
   "cell_type": "markdown",
   "metadata": {},
   "source": [
    "#### Lasso Regression in sklearn\n",
    "\n",
    "http://scikit-learn.org/stable/modules/generated/sklearn.linear_model.Lasso.html"
   ]
  },
  {
   "cell_type": "markdown",
   "metadata": {},
   "source": [
    "#### Coefficients, $R^2$, and Mean Square Error of Ridge regression model"
   ]
  },
  {
   "cell_type": "code",
   "execution_count": 31,
   "metadata": {},
   "outputs": [
    {
     "name": "stdout",
     "output_type": "stream",
     "text": [
      "R-Squared:  0.47307340720937463\n",
      "MSE:  89081.6695167567\n",
      "Number of coefficients lasso regression shrunk to 0: 9\n"
     ]
    },
    {
     "data": {
      "image/png": "[encoded data removed]",
      "text/plain": [
       "<Figure size 432x288 with 1 Axes>"
      ]
     },
     "metadata": {
      "needs_background": "light"
     },
     "output_type": "display_data"
    }
   ],
   "source": [
    "model = Lasso(alpha = 10.0)\n",
    "model.fit(X_train,y_train)\n",
    "coefs_lasso = model.coef_\n",
    "print('R-Squared: ',model.score(X_train,y_train))\n",
    "yhat = model.predict(X_test)\n",
    "mse = np.mean((y_test - yhat)**2)\n",
    "print('MSE: ',mse)\n",
    "plt.plot(range(len(coefs_lasso)),coefs_lasso,'b')   \n",
    "print(f'Number of coefficients lasso regression shrunk to 0: {np.sum(coefs_lasso == 0)}')"
   ]
  },
  {
   "cell_type": "code",
   "execution_count": 32,
   "metadata": {},
   "outputs": [
    {
     "name": "stdout",
     "output_type": "stream",
     "text": [
      "AtBat -3.571\n",
      "Hits 92.696\n",
      "Walks 30.756\n",
      "Years -23.173\n",
      "CRuns 193.862\n",
      "CRBI 53.403\n",
      "PutOuts 73.279\n"
     ]
    }
   ],
   "source": [
    "for n,v in zip(df.columns,coefs_lasso):\n",
    "    if v != 0: print(n,round(v,3))"
   ]
  },
  {
   "cell_type": "markdown",
   "metadata": {},
   "source": [
    "#### Lasso Cross Validation, sklearn LassoCV class\n",
    "\n",
    "https://scikit-learn.org/stable/modules/generated/sklearn.linear_model.LassoCV.html"
   ]
  },
  {
   "cell_type": "code",
   "execution_count": 33,
   "metadata": {},
   "outputs": [
    {
     "name": "stdout",
     "output_type": "stream",
     "text": [
      "R-Squared:  -1.232072595066736\n",
      "Number of coefficients lasso regression shrunk to 0: 7\n",
      "Alpha:  540.6556677332911\n"
     ]
    },
    {
     "data": {
      "image/png": "[encoded data removed]",
      "text/plain": [
       "<Figure size 432x288 with 1 Axes>"
      ]
     },
     "metadata": {
      "needs_background": "light"
     },
     "output_type": "display_data"
    }
   ],
   "source": [
    "from sklearn.linear_model import LassoCV\n",
    "model = LassoCV()\n",
    "model.fit(X,y)\n",
    "coefs_lasso = model.coef_\n",
    "print('R-Squared: ',model.score(X_train,y_train))\n",
    "plt.plot(range(len(coefs_lasso)),coefs_lasso,'b')   \n",
    "print(f'Number of coefficients lasso regression shrunk to 0: {np.sum(coefs_lasso == 0)}')\n",
    "print('Alpha: ', model.alpha_)"
   ]
  },
  {
   "cell_type": "code",
   "execution_count": 34,
   "metadata": {},
   "outputs": [
    {
     "name": "stdout",
     "output_type": "stream",
     "text": [
      "Hits 1.496\n",
      "Walks 1.14\n",
      "CAtBat -0.337\n",
      "CHits 0.823\n",
      "CRuns 0.799\n",
      "CRBI 0.655\n",
      "CWalks -0.033\n",
      "PutOuts 0.276\n",
      "Assists 0.132\n"
     ]
    }
   ],
   "source": [
    "for n,v in zip(df.columns,coefs_lasso):\n",
    "    if v != 0: print(n,round(v,3))"
   ]
  },
  {
   "cell_type": "code",
   "execution_count": 35,
   "metadata": {},
   "outputs": [
    {
     "data": {
      "text/plain": [
       "0.4006569943826859"
      ]
     },
     "execution_count": 35,
     "metadata": {},
     "output_type": "execute_result"
    }
   ],
   "source": [
    "np.corrcoef(df.loc[:,'Years'],df.loc[:,'Salary'])[0,1]"
   ]
  },
  {
   "cell_type": "code",
   "execution_count": 36,
   "metadata": {},
   "outputs": [
    {
     "data": {
      "image/png": "[encoded data removed]",
      "text/plain": [
       "<Figure size 432x288 with 1 Axes>"
      ]
     },
     "metadata": {
      "needs_background": "light"
     },
     "output_type": "display_data"
    }
   ],
   "source": [
    "sns.scatterplot(df.loc[:,'Years'],df.loc[:,'Salary']);"
   ]
  },
  {
   "cell_type": "markdown",
   "metadata": {},
   "source": [
    "#### Ridge versus Lasso\n",
    "\n",
    "In general you use the shrinkage methods when you have many predictors (at least 3).\n",
    "\n",
    "When to use Ridge versus Lasso regression?\n",
    "\n",
    "* When you know that each predictor contributes something then use Ridge Regression.\n",
    "\n",
    "* When you suspect that some of the predictors are useless then use Lasso Regression.\n",
    "\n",
    "#### Constraint formulation\n",
    "\n",
    "Ridge\n",
    "<div style=\"font-size: 110%;\">\n",
    "$$\\sum_i{(y_i - X_i^T\\beta)^2} \\text{ subject to } ||\\beta||_2^2 \\le c^2$$\n",
    "</div>\n",
    "Lasso\n",
    "<div style=\"font-size: 110%;\">\n",
    "$$\\sum_i{(y_i - X_i^T\\beta)^2} \\text{ subject to } ||\\beta||_1 \\le c$$\n",
    "</div>\n",
    "\n",
    "#### Constrained Optimization: Lagrange Multipliers\n",
    "Ridge\n",
    "<div style=\"font-size: 110%;\">\n",
    "$$ L(\\beta,\\lambda) =  \\sum_i{(y_i - X_i^T\\beta)^2} + \\lambda(||\\beta||_2^2 - c^2)$$\n",
    "$$ = ||y-X\\beta||_2^2 + \\lambda||\\beta||_2^2$$\n",
    "</div>\n",
    "Lasso\n",
    "<div style=\"font-size: 110%;\">\n",
    "$$ L(\\beta,\\lambda) =  \\sum_i{(y_i - X_i^T\\beta)^2} + \\lambda(||\\beta||_1 - c)$$\n",
    "$$ = ||y-X\\beta||_2^2 + \\lambda||\\beta||_2^2$$\n",
    "</div>\n",
    "\n",
    "#### Geometric Interpretation\n",
    "\n",
    "![](GeoIntrp.png)\n",
    "$$\\text{Figure 1. Left: Ridge, Right: Lasso}$$\n",
    "\n",
    "Figure source: http://www.astroml.org/book_figures/chapter8/fig_lasso_ridge.html\n",
    "\n",
    "#### Solution\n",
    "The OLS solution to the unconstrained problem is $(X^TX)^{-1}X^Ty$\n",
    "\n",
    "The Ridge solution to constrained problem is\n",
    "$(X^TX + \\lambda I)^{-1}X^Ty$\n",
    "\n",
    "The is no Lasso solution to the constrained problem. It is solved by numerical methods.\n",
    "\n",
    "\n"
   ]
  },
  {
   "cell_type": "markdown",
   "metadata": {},
   "source": [
    "### Elastic Net Regression\n",
    "\n",
    "Elastic Net regression combines Ridge and Lasso regression. This combination is used for learning a sparse model where few of the weights are non-zero (like Lasso), while still maintaining the regularization properties of Ridge. \n",
    "\n",
    "Use this when you have a lot of variables and you don't know how each contributes or even if they are useful.\n",
    "\n",
    "Two $\\lambda$s, $\\lambda_1$ for Lasso and $\\lambda_2$ for Ridge\n",
    "\n",
    "<div style=\"font-size: 110%;\">\n",
    "$$\\hat{\\beta} =  \\underset{\\beta}{\\mathrm{argmin}}\\sum_i{(y_i - X_i^T\\beta)^2} + \\lambda_1 \\sum_{j=1}^p|\\beta_j| + \\lambda_2 \\sum_{j=1}^p\\beta_j^2$$\n",
    "</div>\n",
    "\n",
    "Use Cross Validation to determine the best $\\lambda_1$ and $\\lambda_2$"
   ]
  },
  {
   "cell_type": "markdown",
   "metadata": {},
   "source": [
    "#### sklearn Elastic Net Regression\n",
    "\n",
    "http://scikit-learn.org/stable/modules/generated/sklearn.linear_model.ElasticNet.html\n",
    "\n",
    "$\\alpha$ is the penalty weighting (i.e. $\\lambda$)\n",
    "\n",
    "l1_ratio isthe ElasticNet mixing parameter. $ 0 \\le \\text{l1_ratio} \\le 1$. It determines the scaling of $\\lambda_1$ and $\\lambda_2$\n",
    "\n",
    "* l1_ratio = 0: the penalty is a L2 penalty\n",
    "* l1_ratio = 1: the penalty is a L1 penalty\n",
    "* For 0 < l1_ratio < 1 it is a combination of L1 and L2"
   ]
  },
  {
   "cell_type": "code",
   "execution_count": 37,
   "metadata": {},
   "outputs": [
    {
     "name": "stdout",
     "output_type": "stream",
     "text": [
      "R-Squared:  0.45487024254303676\n",
      "MSE:  84536.23041120706\n",
      "Number of coefficients ElasticNet regression shrunk to 0: 0\n"
     ]
    },
    {
     "data": {
      "image/png": "[encoded data removed]",
      "text/plain": [
       "<Figure size 432x288 with 1 Axes>"
      ]
     },
     "metadata": {
      "needs_background": "light"
     },
     "output_type": "display_data"
    }
   ],
   "source": [
    "model = ElasticNet(l1_ratio = 0.5)\n",
    "model.fit(X_train,y_train)\n",
    "coefs_EN = model.coef_\n",
    "print('R-Squared: ',model.score(X_train,y_train))\n",
    "yhat = model.predict(X_test)\n",
    "mse = np.mean((y_test - yhat)**2)\n",
    "print('MSE: ',mse)\n",
    "plt.plot(range(len(coefs_EN)),coefs_EN,'b')   \n",
    "print(f'Number of coefficients ElasticNet regression shrunk to 0: {np.sum(coefs_EN == 0)}')"
   ]
  },
  {
   "cell_type": "code",
   "execution_count": 38,
   "metadata": {},
   "outputs": [
    {
     "name": "stdout",
     "output_type": "stream",
     "text": [
      "AtBat 1.373\n",
      "Hits 45.485\n",
      "HmRun -1.158\n",
      "Runs 32.661\n",
      "RBI 20.537\n",
      "Walks 33.521\n",
      "Years -4.114\n",
      "CAtBat 28.093\n",
      "CHits 47.936\n",
      "CHmRun 30.107\n",
      "CRuns 51.402\n",
      "CRBI 41.275\n",
      "CWalks 17.343\n",
      "PutOuts 53.297\n",
      "Assists 5.361\n",
      "Errors 1.164\n"
     ]
    }
   ],
   "source": [
    "for n,v in zip(df.columns,coefs_EN):\n",
    "    if v != 0: print(n,round(v,3))"
   ]
  },
  {
   "cell_type": "markdown",
   "metadata": {},
   "source": [
    "#### sklearn Elastic Net Regression Cross Vaidation\n",
    "\n",
    "http://scikit-learn.org/stable/modules/generated/sklearn.linear_model.ElasticNetCV.html\n",
    "\n",
    "\n",
    "\n",
    "When the l1_ratio is a number, it is the weight for L1 constraint is alpha*l1_ratio and weight for L2 term is 0.5*alpha*(1 - l1_ratio).\n",
    "\n",
    "When the l1_ratio is a list, the different values are tested by cross-validation. A good choice of list values for l1_ratio is often to put more values close to 1 (i.e. Lasso) and less close to 0 (i.e. Ridge)\n",
    "\n",
    "$\\alpha$ is the penalty weighting."
   ]
  },
  {
   "cell_type": "code",
   "execution_count": 39,
   "metadata": {},
   "outputs": [
    {
     "name": "stdout",
     "output_type": "stream",
     "text": [
      "Number of coefficients ElasticNet regression shrunk to 0: 4\n"
     ]
    },
    {
     "data": {
      "image/png": "[encoded data removed]",
      "text/plain": [
       "<Figure size 432x288 with 1 Axes>"
      ]
     },
     "metadata": {
      "needs_background": "light"
     },
     "output_type": "display_data"
    }
   ],
   "source": [
    "from sklearn.linear_model import ElasticNetCV\n",
    "model = ElasticNetCV(l1_ratio = [.1, .5, .7, .9, .95, .99, 1])\n",
    "model.fit(X_train,y_train)\n",
    "coefs_EN = model.coef_\n",
    "plt.plot(range(len(coefs_EN)),coefs_EN,'b')   \n",
    "print(f'Number of coefficients ElasticNet regression shrunk to 0: {np.sum(coefs_EN == 0)}')"
   ]
  },
  {
   "cell_type": "code",
   "execution_count": 40,
   "metadata": {},
   "outputs": [
    {
     "data": {
      "text/plain": [
       "3.4262922537604132"
      ]
     },
     "execution_count": 40,
     "metadata": {},
     "output_type": "execute_result"
    }
   ],
   "source": [
    "model.alpha_"
   ]
  },
  {
   "cell_type": "code",
   "execution_count": 41,
   "metadata": {},
   "outputs": [
    {
     "data": {
      "text/plain": [
       "1.0"
      ]
     },
     "execution_count": 41,
     "metadata": {},
     "output_type": "execute_result"
    }
   ],
   "source": [
    "model.l1_ratio_"
   ]
  },
  {
   "cell_type": "code",
   "execution_count": 42,
   "metadata": {},
   "outputs": [
    {
     "name": "stdout",
     "output_type": "stream",
     "text": [
      "AtBat -238.237\n",
      "Hits 263.96\n",
      "RBI 11.778\n",
      "Walks 69.502\n",
      "Years -78.965\n",
      "CHmRun 12.701\n",
      "CRuns 301.889\n",
      "CRBI 55.817\n",
      "CWalks -74.406\n",
      "PutOuts 82.947\n",
      "Assists 13.981\n",
      "Errors 0.859\n"
     ]
    }
   ],
   "source": [
    "for n,v in zip(df.columns,coefs_EN):\n",
    "    if v != 0: print(n,round(v,3))"
   ]
  }
 ],
 "metadata": {
  "kernelspec": {
   "display_name": "Python 3",
   "language": "python",
   "name": "python3"
  },
  "language_info": {
   "codemirror_mode": {
    "name": "ipython",
    "version": 3
   },
   "file_extension": ".py",
   "mimetype": "text/x-python",
   "name": "python",
   "nbconvert_exporter": "python",
   "pygments_lexer": "ipython3",
   "version": "3.8.8"
  },
  "varInspector": {
   "cols": {
    "lenName": 16,
    "lenType": 16,
    "lenVar": 40
   },
   "kernels_config": {
    "python": {
     "delete_cmd_postfix": "",
     "delete_cmd_prefix": "del ",
     "library": "var_list.py",
     "varRefreshCmd": "print(var_dic_list())"
    },
    "r": {
     "delete_cmd_postfix": ") ",
     "delete_cmd_prefix": "rm(",
     "library": "var_list.r",
     "varRefreshCmd": "cat(var_dic_list()) "
    }
   },
   "position": {
    "height": "181px",
    "left": "1047px",
    "right": "20px",
    "top": "120px",
    "width": "325px"
   },
   "types_to_exclude": [
    "module",
    "function",
    "builtin_function_or_method",
    "instance",
    "_Feature"
   ],
   "window_display": false
  }
 },
 "nbformat": 4,
 "nbformat_minor": 4
}
