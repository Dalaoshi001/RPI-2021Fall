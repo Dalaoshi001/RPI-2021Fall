{
 "cells": [
  {
   "cell_type": "markdown",
   "metadata": {},
   "source": [
    "## Principal Component Analysis (PCA)\n",
    " \n",
    "* PCA produces a low-dimensional representation of a dataset that contains as much as possible of the variation in the dataset.\n",
    "    - The dataset has n rows (observations) and p colums (features, predictors)\n",
    "    - Want to reduce the number of features by combining them to lower the dimension of the feature space\n",
    "        - Some features may be redunant, others may not have much influence on the response variable\n",
    " \n",
    "* PCA finds d linear combinations of the p features  \n",
    "    - That have maximal variance\n",
    "    - Are mutually uncorrelated.\n",
    "    - The d linear combinations form a new representation of the data in a lower dimension\n",
    " \n",
    "* These derived variables produced by PCA are called the Principal Components(PCs) and can be used in supervised learning problems\n",
    "    - Principal Component regression uses the PCs as predictors\n",
    "    - How to interpret?\n",
    " \n",
    "* Tool for data visualization.\n",
    "    - View the data in lower dimensions\n",
    "\n",
    "* Linear and non-linear data (Kernal PCA)"
   ]
  },
  {
   "cell_type": "markdown",
   "metadata": {},
   "source": [
    "### What are the Principal Components?\n",
    "\n",
    "#### Geometry of PCA\n",
    " \n",
    "* Change of basis.\n",
    "* The loading vector $\\phi_1$ defines the direction in feature space along which the data varies the most. $\\phi_2$ is perpendicular to $\\phi_1$ and points to the direction with the second highest variance\n",
    "    \n",
    "    \n",
    "![](pca.png)\n",
    "$$\\text{Figure 1. Principal Component Analysis}$$\n",
    " \n",
    " \n",
    " \n",
    "* Find the normalized linear combination of the p features that has the largest variance\n",
    "\n",
    "$$Z_1 = \\phi_{11}X_1 + \\phi_{21}X_2 + ... + \\phi_{p1}X_p\\text{ subject to }\\sum^p_{j=1}\\phi^2_{j1} = 1$$\n",
    "$$Z_2 = \\phi_{12}X_1 + \\phi_{22}X_2 + ... + \\phi_{p2}X_p\\text{ subject to }\\sum^p_{j=1}\\phi^2_{j2} = 1$$\n",
    "$$\\vdots$$\n",
    "$$Z_d = \\phi_{1d}X_1 + \\phi_{2d}X_2 + ... + \\phi_{pd}X_p\\text{ subject to }\\sum^p_{j=1}\\phi^2_{jd} = 1$$\n",
    "\n",
    "\n",
    "* d <= p\n",
    "* The coefficients $\\phi_{1d},\\ldots,\\phi_{pd}$ are called the loadings\n",
    "* $\\phi_d = (\\phi_{1d},\\ldots,\\phi_{pd})$ is called the Principal Component loading vector\n",
    "* The values of the projection of the n data points onto the loading vectors are called the scores.\n",
    "* We constrain sum the loadings to 1, otherwise setting them to be arbitrarily large could result in an arbitrarily large variance.\n",
    "\n"
   ]
  },
  {
   "cell_type": "markdown",
   "metadata": {},
   "source": [
    "### PCA Algorithm\n",
    "\n",
    "1. Scale the data by centering (mean = 0) and scaling the stanard deviation to 1.  \n",
    "2. Create the covariance matrix of the scaled data.  \n",
    "3. Calculate the eigenvalues and eigenvectors of the covariance matrix\n",
    "4. Sort the eigenvalues and eigenvectors in decreasing order.\n",
    "5. Determine percent of variance explained to determine d (the number of principle components to keep)\n",
    "6. Construct the projection matrix P (of loading vectors) from the d eigenvectors\n",
    "7. Construct the d-dimensional feature subspace Y by projecting the scaled data onto P\n"
   ]
  },
  {
   "cell_type": "markdown",
   "metadata": {},
   "source": [
    "### PCA Algorithm in Python"
   ]
  },
  {
   "cell_type": "code",
   "execution_count": 1,
   "metadata": {},
   "outputs": [],
   "source": [
    "import pandas as pd\n",
    "import numpy as np\n",
    "import seaborn as sns\n",
    "import matplotlib.pyplot as plt\n",
    "%matplotlib inline"
   ]
  },
  {
   "cell_type": "code",
   "execution_count": 2,
   "metadata": {},
   "outputs": [],
   "source": [
    "from sklearn.preprocessing import StandardScaler"
   ]
  },
  {
   "cell_type": "code",
   "execution_count": 19,
   "metadata": {},
   "outputs": [],
   "source": [
    "iris = sns.load_dataset('iris')\n",
    "X = iris.iloc[:,0:4].values\n",
    "y = iris.iloc[:,4].values"
   ]
  },
  {
   "cell_type": "markdown",
   "metadata": {},
   "source": [
    "#### 1. Scale the data by centering (mean = 0) and scaling the stanard deviation to 1."
   ]
  },
  {
   "cell_type": "code",
   "execution_count": 4,
   "metadata": {},
   "outputs": [],
   "source": [
    "X_std = StandardScaler().fit_transform(X)"
   ]
  },
  {
   "cell_type": "markdown",
   "metadata": {},
   "source": [
    "#### 2. Create the covariance matrix of the scaled data."
   ]
  },
  {
   "cell_type": "code",
   "execution_count": 5,
   "metadata": {},
   "outputs": [
    {
     "name": "stdout",
     "output_type": "stream",
     "text": [
      "NumPy covariance matrix: \n",
      "\n"
     ]
    },
    {
     "data": {
      "text/plain": [
       "array([[ 1.00671141, -0.11835884,  0.87760447,  0.82343066],\n",
       "       [-0.11835884,  1.00671141, -0.43131554, -0.36858315],\n",
       "       [ 0.87760447, -0.43131554,  1.00671141,  0.96932762],\n",
       "       [ 0.82343066, -0.36858315,  0.96932762,  1.00671141]])"
      ]
     },
     "execution_count": 5,
     "metadata": {},
     "output_type": "execute_result"
    }
   ],
   "source": [
    "print('NumPy covariance matrix: \\n')\n",
    "cov_mat = np.cov(X_std.T)\n",
    "cov_mat"
   ]
  },
  {
   "cell_type": "markdown",
   "metadata": {},
   "source": [
    "#### 3. Calculate the eigenvalues and eigenvectors of the covariance matrix"
   ]
  },
  {
   "cell_type": "code",
   "execution_count": 7,
   "metadata": {},
   "outputs": [
    {
     "name": "stdout",
     "output_type": "stream",
     "text": [
      "\n",
      "Eigenvalues \n",
      "[2.93808505 0.9201649  0.14774182 0.02085386]\n",
      "Eigenvectors \n",
      "[[ 0.52106591 -0.37741762 -0.71956635  0.26128628]\n",
      " [-0.26934744 -0.92329566  0.24438178 -0.12350962]\n",
      " [ 0.5804131  -0.02449161  0.14212637 -0.80144925]\n",
      " [ 0.56485654 -0.06694199  0.63427274  0.52359713]]\n",
      "eigenvector:  0\n",
      "0 1.0\n",
      "1 -0.0\n",
      "2 -0.0\n",
      "3 -0.0\n",
      "eigenvector:  1\n",
      "0 -0.0\n",
      "1 1.0\n",
      "2 -0.0\n",
      "3 0.0\n",
      "eigenvector:  2\n",
      "0 -0.0\n",
      "1 -0.0\n",
      "2 1.0\n",
      "3 0.0\n",
      "eigenvector:  3\n",
      "0 -0.0\n",
      "1 0.0\n",
      "2 0.0\n",
      "3 1.0\n"
     ]
    }
   ],
   "source": [
    "\n",
    "eig_vals, eig_vecs = np.linalg.eig(cov_mat)\n",
    "\n",
    "print('\\nEigenvalues \\n%s' %eig_vals)\n",
    "print('Eigenvectors \\n%s' %eig_vecs)\n",
    "\n",
    "\n",
    "# Check orthonormal eigen vectors\n",
    "for i in range(4):\n",
    "    print(\"eigenvector: \",i)\n",
    "    for j in range(4):\n",
    "        print(j, round(eig_vecs[i].dot(eig_vecs[j]),10))"
   ]
  },
  {
   "cell_type": "markdown",
   "metadata": {},
   "source": [
    "#### 4. Sort the eigenvalues and eigenvectors in decreasing order.\n"
   ]
  },
  {
   "cell_type": "code",
   "execution_count": 12,
   "metadata": {},
   "outputs": [
    {
     "data": {
      "text/plain": [
       "(2.9380850501999953,\n",
       " array([ 0.52106591, -0.26934744,  0.5804131 ,  0.56485654]))"
      ]
     },
     "execution_count": 12,
     "metadata": {},
     "output_type": "execute_result"
    }
   ],
   "source": [
    "# Make a list of (eigenvalue, eigenvector) tuples\n",
    "eig_pairs = [(np.abs(eig_vals[i]), eig_vecs[:,i]) for i in range(len(eig_vals))]\n",
    "# Sort the (eigenvalue, eigenvector) tuples from high to low\n",
    "eig_pairs.sort(reverse=True)\n",
    "eig_pairs[0]"
   ]
  },
  {
   "cell_type": "markdown",
   "metadata": {},
   "source": [
    "#### 5. Determine percent of variance explained to determine d (the number of principle components to keep)"
   ]
  },
  {
   "cell_type": "code",
   "execution_count": 14,
   "metadata": {},
   "outputs": [
    {
     "name": "stdout",
     "output_type": "stream",
     "text": [
      "Variance explained:  [72.96244541329987, 22.850761786701757, 3.6689218892828763, 0.5178709107154831]\n",
      "Cummlative variance explained:  [ 72.96244541  95.8132072   99.48212909 100.        ]\n"
     ]
    }
   ],
   "source": [
    "tot = sum(eig_vals)\n",
    "var_exp = [(i / tot)*100 for i in sorted(eig_vals, reverse=True)]\n",
    "cum_var_exp = np.cumsum(var_exp)\n",
    "print(\"Variance explained: \",var_exp)\n",
    "print(\"Cummlative variance explained: \",cum_var_exp)"
   ]
  },
  {
   "cell_type": "code",
   "execution_count": 15,
   "metadata": {},
   "outputs": [
    {
     "name": "stdout",
     "output_type": "stream",
     "text": [
      "Set number of Principal Componets =  2\n"
     ]
    },
    {
     "data": {
      "image/png": "[encoded data removed]",
      "text/plain": [
       "<Figure size 432x288 with 1 Axes>"
      ]
     },
     "metadata": {},
     "output_type": "display_data"
    }
   ],
   "source": [
    "plt.plot((0,1,2,3,4),np.insert(cum_var_exp,0,0))\n",
    "plt.xlabel(\"Principal Component Number\")\n",
    "plt.ylabel(\"% Variance Explained\")\n",
    "\n",
    "\n",
    "d = 2 # Number of Principal Components\n",
    "print(\"Set number of Principal Componets = \",d)"
   ]
  },
  {
   "cell_type": "markdown",
   "metadata": {},
   "source": [
    "#### 6. Construct the projection matrix P from the d eigenvectors"
   ]
  },
  {
   "cell_type": "code",
   "execution_count": 17,
   "metadata": {},
   "outputs": [
    {
     "name": "stdout",
     "output_type": "stream",
     "text": [
      "Projection Matrix\n"
     ]
    },
    {
     "data": {
      "text/plain": [
       "array([[ 0.52106591, -0.37741762],\n",
       "       [-0.26934744, -0.92329566],\n",
       "       [ 0.5804131 , -0.02449161],\n",
       "       [ 0.56485654, -0.06694199]])"
      ]
     },
     "execution_count": 17,
     "metadata": {},
     "output_type": "execute_result"
    }
   ],
   "source": [
    "n = len(eig_vals)\n",
    "P = np.zeros(d*n).reshape(n,d)\n",
    "for i in range(d):\n",
    "    for j in range(n):\n",
    "        P[j,i] = eig_pairs[i][1][j]\n",
    "\n",
    "print(\"Projection Matrix\")\n",
    "P"
   ]
  },
  {
   "cell_type": "markdown",
   "metadata": {},
   "source": [
    "#### 7. Construct the d-dimensional feature subspace Y by projecting the scaled data onto P"
   ]
  },
  {
   "cell_type": "code",
   "execution_count": 21,
   "metadata": {},
   "outputs": [
    {
     "data": {
      "text/html": [
       "<div>\n",
       "<style scoped>\n",
       "    .dataframe tbody tr th:only-of-type {\n",
       "        vertical-align: middle;\n",
       "    }\n",
       "\n",
       "    .dataframe tbody tr th {\n",
       "        vertical-align: top;\n",
       "    }\n",
       "\n",
       "    .dataframe thead th {\n",
       "        text-align: right;\n",
       "    }\n",
       "</style>\n",
       "<table border=\"1\" class=\"dataframe\">\n",
       "  <thead>\n",
       "    <tr style=\"text-align: right;\">\n",
       "      <th></th>\n",
       "      <th>x</th>\n",
       "      <th>y</th>\n",
       "      <th>Species</th>\n",
       "    </tr>\n",
       "  </thead>\n",
       "  <tbody>\n",
       "    <tr>\n",
       "      <th>0</th>\n",
       "      <td>-2.264703</td>\n",
       "      <td>-0.480027</td>\n",
       "      <td>setosa</td>\n",
       "    </tr>\n",
       "    <tr>\n",
       "      <th>1</th>\n",
       "      <td>-2.080961</td>\n",
       "      <td>0.674134</td>\n",
       "      <td>setosa</td>\n",
       "    </tr>\n",
       "    <tr>\n",
       "      <th>2</th>\n",
       "      <td>-2.364229</td>\n",
       "      <td>0.341908</td>\n",
       "      <td>setosa</td>\n",
       "    </tr>\n",
       "    <tr>\n",
       "      <th>3</th>\n",
       "      <td>-2.299384</td>\n",
       "      <td>0.597395</td>\n",
       "      <td>setosa</td>\n",
       "    </tr>\n",
       "    <tr>\n",
       "      <th>4</th>\n",
       "      <td>-2.389842</td>\n",
       "      <td>-0.646835</td>\n",
       "      <td>setosa</td>\n",
       "    </tr>\n",
       "  </tbody>\n",
       "</table>\n",
       "</div>"
      ],
      "text/plain": [
       "          x         y Species\n",
       "0 -2.264703 -0.480027  setosa\n",
       "1 -2.080961  0.674134  setosa\n",
       "2 -2.364229  0.341908  setosa\n",
       "3 -2.299384  0.597395  setosa\n",
       "4 -2.389842 -0.646835  setosa"
      ]
     },
     "execution_count": 21,
     "metadata": {},
     "output_type": "execute_result"
    }
   ],
   "source": [
    "Y = X_std.dot(P)\n",
    "d = {'x': Y[:,0],'y': Y[:,1],'Species': iris.loc[:,'species']}\n",
    "iris2 = pd.DataFrame(data = d)\n",
    "iris2.head()"
   ]
  },
  {
   "cell_type": "code",
   "execution_count": 23,
   "metadata": {},
   "outputs": [
    {
     "data": {
      "text/plain": [
       "<matplotlib.axes._subplots.AxesSubplot at 0x1a1fdfa390>"
      ]
     },
     "execution_count": 23,
     "metadata": {},
     "output_type": "execute_result"
    },
    {
     "data": {
      "image/png": "[encoded data removed]",
      "text/plain": [
       "<Figure size 432x288 with 1 Axes>"
      ]
     },
     "metadata": {},
     "output_type": "display_data"
    }
   ],
   "source": [
    "\n",
    "sns.scatterplot('x','y', hue='Species' ,data = iris2)"
   ]
  },
  {
   "cell_type": "markdown",
   "metadata": {},
   "source": [
    "### Intutition\n",
    " \n",
    "![](ToyPCAExample.png)\n",
    "\n",
    "$$\\text{Figure 2. Experimental Setup of System}$$\n",
    "\n",
    " \n",
    "#### Physical Example \n",
    "\n",
    "* Imagine you are ignorant of the physical system\n",
    "    - you don't know that the underlying dynamics can be expressed as a function of a single variable x.\n",
    "* You decide to place cameras at arbitrary angles around system\n",
    "* Data will be noisy and redundant \n",
    "* Data\n",
    "    - Each camera reports x and y position\n",
    "    - 12000 samples (trials)\n",
    "    - p x n matrix with p = 6 measurement types an n = 12000 trials\n",
    "    - X is one column of measurement types (features, predictors)\n",
    "    \n",
    "$$ \n",
    "  X = \\begin{bmatrix}\n",
    "    x_A \\\\y_A   \\\\ x_B \\\\y_B   \\\\x_C \\\\y_C\n",
    "\\end{bmatrix} \n",
    "$$"
   ]
  },
  {
   "cell_type": "markdown",
   "metadata": {},
   "source": [
    " * Framework: Change of basis\n",
    "    - Goal: To compute the most meaningful basis to re-express the noisy, redundant data set. \n",
    "        - filter out the noise and reveal hidden dynamics.\n",
    "    - How to find this new basis? \n",
    "        - PX = Y\n",
    "            - P is a matrix that transforms X into Y.\n",
    "            - P is a rotation and a stretch of X into Y.\n",
    "            - The rows of P will be the set of new basis vectors for expressing the columns of X.\n",
    "    - What is the best way to re-express X?\n",
    "        - reduce redundancy\n",
    " \n",
    "* Redundancy\n",
    "    - When multiple sensors (variables) contain the same information\n",
    "    - By changing basis we hope to reduce redundancy\n",
    "    - The high redundancy in Figure 4c could be caused by\n",
    "    having two of the cameras nearby (Cameras B and C in Figure 2.\n",
    "        - could get by with just one camera\n",
    "        \n",
    "![](redundancy.png)\n",
    "$$\\text{Figure 3. Degrees of Redundancy}$$\n",
    " \n",
    "* Covariance Matrix (S)\n",
    "    - Quantifies redundancy\n",
    "    - X is column-vector of measurements (6x1)\n",
    "    - S is a square symmetric (6x6) matrix \n",
    "    - covariances between separate measurements are the off-diagonal terms\n",
    "        - a large term corresponds to Figure 3c\n",
    "        - a zero term corresponds to Figure 3a  \n",
    "    \n",
    "* Diagonalize the Covariance Matrix\n",
    "    - To reduce redundancy, then we would like \n",
    "        - each variable to co-vary as little as possible with other variables. \n",
    "        - i.e. covariances between separate measurements = zero.\n",
    "    - PCA is based on the easiest way to diagonalize the covariance matrix\n",
    "    - Pseudo-algorithm:\n",
    "        - Assume:\n",
    "            - 1). all basis vectors are perpendicular (orthonormal)\n",
    "            - 2). direction of largest variance is the \"most\" important\n",
    "        - Select the direction in m-dimensional (measurement type) space along which variance in X is maximized (P1)\n",
    "        - Find another direction which variance is maximized\n",
    "            - perpendicular to P1 (P2)\n",
    "        - Continue until m-directions selected\n",
    " \n",
    "* Assumptions:\n",
    "    - Linear - data is a linear combination of basis vectors\n",
    "    - $X_i$s are Gaussian distributed\n",
    "    - The directions of highest variability (i.e. the principal components) represent the interesting dynamics while those with lower variance represent noise\n",
    "    - The principal components are orthogonal (i.e. perpendicular)\n",
    " "
   ]
  },
  {
   "cell_type": "markdown",
   "metadata": {},
   "source": [
    "## Solving PCA: Eigenvectors of Covariance Matrix\n",
    " \n",
    "* X is the original matrix adjusted so column means = 0\n",
    " \n",
    "* Find some orthonormal matrix P where PX = Y\n",
    "    - such that the covariance matrix $S_Y = \\frac{1}{n-1}YY^T = D$ (i.e. is diagonalized)\n",
    "    - P will contain the principal components.\n",
    "    \n",
    "$$ S_Y = \\frac{1}{n-1}YY^T \\\\\n",
    "      = \\frac{1}{n-1}(PX)(PX)^T \\\\\n",
    "      = \\frac{1}{n-1}PXX^TP^T \\\\\n",
    "      = \\frac{1}{n-1}PAP^T\n",
    "$$\n",
    "      \n",
    "* Linear Algebra Theorems\n",
    "    - For an orthogonal (i.e. pairwise dot product of columns = 0) matrix A, $A^{-1} = A^T$ \n",
    "    - Note: A = $XX^T$ is symmetric\n",
    "    - A symmetric matrix can be diagonalized A by an orthogonal matrix of its eigenvectors $A = EDE^T$\n",
    "      \n",
    "* Select P to be the matrix of eigenvectors of $A = XX^T$\n",
    "    - P = $E^T$\n",
    "\n",
    "$$ S_Y = \\frac{1}{n-1}P(EDE^T)P^T \\\\\n",
    "      = \\frac{1}{n-1}P(P^TDP)P^T \\\\\n",
    "      = \\frac{1}{n-1}(PP^T)D(PP^T) \\\\\n",
    "      = \\frac{1}{n-1}(PP^{-1})D(PP^{-1}) \\\\\n",
    "      = \\frac{1}{n-1}D\n",
    "$$\n",
    " "
   ]
  },
  {
   "cell_type": "markdown",
   "metadata": {},
   "source": [
    "### PCA function in sklearn\n",
    "\n",
    "http://scikit-learn.org/stable/modules/generated/sklearn.decomposition.PCA.html"
   ]
  },
  {
   "cell_type": "code",
   "execution_count": 24,
   "metadata": {},
   "outputs": [],
   "source": [
    "from sklearn.model_selection import train_test_split\n",
    "from sklearn.preprocessing import StandardScaler\n",
    "from sklearn.decomposition import PCA"
   ]
  },
  {
   "cell_type": "markdown",
   "metadata": {},
   "source": [
    "#### Preprocess  Wine data"
   ]
  },
  {
   "cell_type": "code",
   "execution_count": 43,
   "metadata": {},
   "outputs": [
    {
     "data": {
      "text/plain": [
       "((142, 13), (36, 13), (142,), (36,))"
      ]
     },
     "execution_count": 43,
     "metadata": {},
     "output_type": "execute_result"
    }
   ],
   "source": [
    "\n",
    "wine = pd.read_csv('Wine.csv')\n",
    "X = wine.iloc[:, 0:13].values\n",
    "y = wine.iloc[:, 13].values\n",
    "# Split\n",
    "X_train, X_test, y_train, y_test = train_test_split(X, y, test_size = 0.2, random_state = 0)\n",
    "# Scale\n",
    "sc = StandardScaler()\n",
    "X_train_std = sc.fit_transform(X_train)\n",
    "X_test_std = sc.transform(X_test)\n",
    "X_train_std.shape, X_test_std.shape, y_train.shape, y_test.shape"
   ]
  },
  {
   "cell_type": "markdown",
   "metadata": {},
   "source": [
    "#### Fit and Transform "
   ]
  },
  {
   "cell_type": "code",
   "execution_count": 33,
   "metadata": {},
   "outputs": [
    {
     "data": {
      "text/plain": [
       "((142, 13), (36, 13))"
      ]
     },
     "execution_count": 33,
     "metadata": {},
     "output_type": "execute_result"
    }
   ],
   "source": [
    "pca = PCA(n_components = None)\n",
    "X_train_pca = pca.fit_transform(X_train_std)\n",
    "X_test_pca = pca.transform(X_test_std)\n",
    "X_train_pca.shape, X_test_pca.shape"
   ]
  },
  {
   "cell_type": "markdown",
   "metadata": {},
   "source": [
    "#### Variance Explained"
   ]
  },
  {
   "cell_type": "code",
   "execution_count": 39,
   "metadata": {},
   "outputs": [
    {
     "name": "stdout",
     "output_type": "stream",
     "text": [
      "Ratio of Variance Explained:\n",
      "[0.369 0.193 0.108 0.074 0.062 0.049 0.041 0.025 0.023 0.019 0.017 0.013\n",
      " 0.007]\n",
      "Cummulative Variance Explained\n",
      "[0.369 0.562 0.67  0.744 0.806 0.855 0.896 0.921 0.945 0.963 0.981 0.993\n",
      " 1.   ]\n"
     ]
    }
   ],
   "source": [
    "var_exp = pca.explained_variance_ratio_\n",
    "print(\"Ratio of Variance Explained:\")\n",
    "print(np.round(var_exp,3))\n",
    "cum_var_exp = np.cumsum(var_exp)\n",
    "print(\"Cummulative Variance Explained\")\n",
    "print(np.round(cum_var_exp,3))"
   ]
  },
  {
   "cell_type": "code",
   "execution_count": 35,
   "metadata": {},
   "outputs": [
    {
     "data": {
      "image/png": "[encoded data removed]",
      "text/plain": [
       "<Figure size 432x288 with 1 Axes>"
      ]
     },
     "metadata": {},
     "output_type": "display_data"
    }
   ],
   "source": [
    "x = np.arange(len(cum_var_exp)+1)\n",
    "plt.plot(x,np.insert(cum_var_exp,0,0))\n",
    "plt.xlabel(\"Principal Component Number\")\n",
    "plt.ylabel(\"% Variance Explained\")\n",
    "plt.show()"
   ]
  },
  {
   "cell_type": "markdown",
   "metadata": {},
   "source": [
    "#### Use transformed feature array in a Logistic Regression model"
   ]
  },
  {
   "cell_type": "markdown",
   "metadata": {},
   "source": [
    "#### Regression with two features"
   ]
  },
  {
   "cell_type": "code",
   "execution_count": 44,
   "metadata": {},
   "outputs": [
    {
     "name": "stdout",
     "output_type": "stream",
     "text": [
      "Variance Explained:  [9.97861060e-01 1.94266888e-03 1.09885406e-04 5.82990749e-05]\n"
     ]
    },
    {
     "data": {
      "text/plain": [
       "LogisticRegression(C=1.0, class_weight=None, dual=False, fit_intercept=True,\n",
       "          intercept_scaling=1, max_iter=100, multi_class='ovr', n_jobs=1,\n",
       "          penalty='l2', random_state=0, solver='liblinear', tol=0.0001,\n",
       "          verbose=0, warm_start=False)"
      ]
     },
     "execution_count": 44,
     "metadata": {},
     "output_type": "execute_result"
    }
   ],
   "source": [
    "from sklearn.linear_model import LogisticRegression\n",
    "# Apply PCA\n",
    "pca = PCA(n_components = 4)\n",
    "X_train_pca2 = pca.fit_transform(X_train)\n",
    "X_test_pca2 = pca.transform(X_test)\n",
    "var_exp = pca.explained_variance_ratio_\n",
    "print(\"Variance Explained: \",var_exp)\n",
    "model = LogisticRegression(random_state = 0) #Regression with two features\n",
    "model.fit(X_train_pca2, y_train)"
   ]
  },
  {
   "cell_type": "markdown",
   "metadata": {},
   "source": [
    "#### PCA results"
   ]
  },
  {
   "cell_type": "code",
   "execution_count": 45,
   "metadata": {},
   "outputs": [
    {
     "name": "stdout",
     "output_type": "stream",
     "text": [
      "accuracy:  0.92\n"
     ]
    }
   ],
   "source": [
    "# Predicting the Test set results\n",
    "y_pred = model.predict(X_test_pca2)\n",
    "\n",
    "# Making the Confusion Matrix\n",
    "from sklearn.metrics import confusion_matrix\n",
    "cm = confusion_matrix(y_test, y_pred)\n",
    "accuracy = np.trace(cm)/np.sum(cm)\n",
    "print(\"accuracy: \",round(accuracy,2))"
   ]
  },
  {
   "cell_type": "markdown",
   "metadata": {},
   "source": [
    "### Kernal PCA\n",
    "\n",
    "* PCA for non-linear data\n",
    "* Use Kernel Trick like we did with Support Vector Machines\n",
    "    * Map to higher dimension to separate data with hyperplane\n",
    "    * Use Kernel functions which will compute the dot product in the mapped dimension \n",
    "        * Don't actually need to do the mapping"
   ]
  },
  {
   "cell_type": "code",
   "execution_count": 58,
   "metadata": {},
   "outputs": [
    {
     "data": {
      "image/png": "[encoded data removed]",
      "text/plain": [
       "<Figure size 432x288 with 1 Axes>"
      ]
     },
     "metadata": {},
     "output_type": "display_data"
    }
   ],
   "source": [
    "from sklearn.datasets import make_moons\n",
    "\n",
    "X, y = make_moons(n_samples=100, random_state=123)\n",
    "\n",
    "plt.scatter(X[y == 0, 0], X[y == 0, 1], color='red', marker='^', alpha=0.5)\n",
    "plt.scatter(X[y == 1, 0], X[y == 1, 1], color='blue', marker='o', alpha=0.5)\n",
    "\n",
    "plt.tight_layout()"
   ]
  },
  {
   "cell_type": "markdown",
   "metadata": {},
   "source": [
    "### Sklearn non-kernel Principal Component Analysis \n",
    "\n",
    "* Top 2 components"
   ]
  },
  {
   "cell_type": "code",
   "execution_count": 59,
   "metadata": {},
   "outputs": [
    {
     "data": {
      "image/png": "[encoded data removed]",
      "text/plain": [
       "<Figure size 504x216 with 2 Axes>"
      ]
     },
     "metadata": {},
     "output_type": "display_data"
    }
   ],
   "source": [
    "from sklearn.decomposition import PCA\n",
    "\n",
    "pca = PCA(n_components=2)\n",
    "X_pca = pca.fit_transform(X)\n",
    "\n",
    "fig, ax = plt.subplots(nrows=1, ncols=2, figsize=(7, 3))\n",
    "\n",
    "ax[0].scatter(X_pca[y == 0, 0], X_pca[y == 0, 1], color='red', marker='^', alpha=0.5)\n",
    "ax[0].scatter(X_pca[y == 1, 0], X_pca[y == 1, 1], color='blue', marker='o', alpha=0.5)\n",
    "\n",
    "ax[1].scatter(X_pca[y == 0, 0], np.zeros((50, 1)) + 0.02, color='red', marker='^', alpha=0.5) # LD1 only\n",
    "ax[1].scatter(X_pca[y == 1, 0], np.zeros((50, 1)) - 0.02, color='blue', marker='o', alpha=0.5)\n",
    "\n",
    "ax[0].set_xlabel('PC1')\n",
    "ax[0].set_ylabel('PC2')\n",
    "ax[1].set_ylim([-1, 1])\n",
    "ax[1].set_yticks([])\n",
    "ax[1].set_xlabel('PC1')\n",
    "plt.tight_layout()"
   ]
  },
  {
   "cell_type": "markdown",
   "metadata": {},
   "source": [
    "### Kermel PCS Algorithm"
   ]
  },
  {
   "cell_type": "code",
   "execution_count": 60,
   "metadata": {},
   "outputs": [],
   "source": [
    "from scipy.spatial.distance import pdist, squareform\n",
    "from scipy import exp\n",
    "from scipy.linalg import eigh"
   ]
  },
  {
   "cell_type": "markdown",
   "metadata": {},
   "source": [
    "#### Compute pairwise squared distances"
   ]
  },
  {
   "cell_type": "code",
   "execution_count": 61,
   "metadata": {},
   "outputs": [
    {
     "name": "stdout",
     "output_type": "stream",
     "text": [
      "(4950,)\n"
     ]
    },
    {
     "data": {
      "text/plain": [
       "(100, 100)"
      ]
     },
     "execution_count": 61,
     "metadata": {},
     "output_type": "execute_result"
    }
   ],
   "source": [
    "sq_dists = pdist(X, 'sqeuclidean')\n",
    "print(sq_dists.shape) \n",
    "mat_sq_dists = squareform(sq_dists) # Convert pairwise distances into a square matrix.\n",
    "mat_sq_dists.shape"
   ]
  },
  {
   "cell_type": "markdown",
   "metadata": {},
   "source": [
    "#### Radial Basis Function (RBF) Kernel\n",
    "\n",
    "<div style=\"font-size: 115%;\"> \n",
    "$$K(\\vec{x_i},\\vec{x_j}) = exp(-\\gamma||\\vec{x_i} - \\vec{_j}||^2_2) \\text{ where }\\gamma > 0$$\n",
    "</div>\n",
    "\n",
    "* gamma parameter"
   ]
  },
  {
   "cell_type": "code",
   "execution_count": 62,
   "metadata": {},
   "outputs": [
    {
     "data": {
      "text/plain": [
       "(100, 100)"
      ]
     },
     "execution_count": 62,
     "metadata": {},
     "output_type": "execute_result"
    }
   ],
   "source": [
    "# Compute the symmetric kernel matrix.\n",
    "gamma = 15\n",
    "K = exp(-gamma * mat_sq_dists)\n",
    "K.shape"
   ]
  },
  {
   "cell_type": "markdown",
   "metadata": {},
   "source": [
    "#### Center the kernel matrix.\n",
    "\n",
    "*  Centering Trick\n",
    " \n",
    "#### $K_{centered} = K − 1_n K − K1_n + 1_nK1_n = (I − 1_n)K(I − 1_n)$"
   ]
  },
  {
   "cell_type": "code",
   "execution_count": 63,
   "metadata": {},
   "outputs": [
    {
     "name": "stdout",
     "output_type": "stream",
     "text": [
      "(100, 100) 0.01\n",
      "(100, 100)\n"
     ]
    }
   ],
   "source": [
    "N = K.shape[0]\n",
    "one_n = np.ones((N, N)) / N\n",
    "print(one_n.shape, one_n[0,0])\n",
    "\n",
    "K = K - one_n.dot(K) - K.dot(one_n) + one_n.dot(K).dot(one_n)\n",
    "print(K.shape)"
   ]
  },
  {
   "cell_type": "markdown",
   "metadata": {},
   "source": [
    "#### Obtain eigenpairs from the centered kernel matrix"
   ]
  },
  {
   "cell_type": "code",
   "execution_count": 67,
   "metadata": {},
   "outputs": [
    {
     "data": {
      "text/plain": [
       "(100, 100)"
      ]
     },
     "execution_count": 67,
     "metadata": {},
     "output_type": "execute_result"
    }
   ],
   "source": [
    "# scipy.linalg.eigh returns them in ascending order\n",
    "eigvals, eigvecs = eigh(K)\n",
    "eigvals, eigvecs = eigvals[::-1], eigvecs[:, ::-1]\n",
    "\n",
    "eigvecs.shape"
   ]
  },
  {
   "cell_type": "markdown",
   "metadata": {},
   "source": [
    "#### Collect the top k eigenvectors into projection matrix"
   ]
  },
  {
   "cell_type": "code",
   "execution_count": 72,
   "metadata": {},
   "outputs": [
    {
     "data": {
      "text/plain": [
       "(100, 2)"
      ]
     },
     "execution_count": 72,
     "metadata": {},
     "output_type": "execute_result"
    }
   ],
   "source": [
    "n_components = 2\n",
    "X_kpca = np.column_stack((eigvecs[:, i] for i in range(n_components)))\n",
    "X_kpca.shape"
   ]
  },
  {
   "cell_type": "code",
   "execution_count": 73,
   "metadata": {},
   "outputs": [],
   "source": [
    "\n",
    "def plot_kpca(X_kpca):\n",
    "    fig, ax = plt.subplots(nrows=1,ncols=2, figsize=(7,3))\n",
    "    ax[0].scatter(X_kpca[y==0, 0], X_kpca[y==0, 1], color='red', marker='^', alpha=0.5)\n",
    "    ax[0].scatter(X_kpca[y==1, 0], X_kpca[y==1, 1], color='blue', marker='o', alpha=0.5)\n",
    "\n",
    "    ax[1].scatter(X_kpca[y==0, 0], np.zeros((50,1))+0.02, color='red', marker='^', alpha=0.5)\n",
    "    ax[1].scatter(X_kpca[y==1, 0], np.zeros((50,1))-0.02, color='blue', marker='o', alpha=0.5)\n",
    "\n",
    "    ax[0].set_xlabel('PC1')\n",
    "    ax[0].set_ylabel('PC2')\n",
    "    ax[1].set_ylim([-1, 1])\n",
    "    ax[1].set_yticks([])\n",
    "    ax[1].set_xlabel('PC1')\n",
    "    plt.tight_layout()"
   ]
  },
  {
   "cell_type": "code",
   "execution_count": 74,
   "metadata": {},
   "outputs": [
    {
     "data": {
      "image/png": "[encoded data removed]",
      "text/plain": [
       "<Figure size 504x216 with 2 Axes>"
      ]
     },
     "metadata": {},
     "output_type": "display_data"
    }
   ],
   "source": [
    "plot_kpca(X_kpca)"
   ]
  },
  {
   "cell_type": "code",
   "execution_count": 75,
   "metadata": {},
   "outputs": [],
   "source": [
    "kpca = KernelPCA(n_components = 2, kernel = 'rbf', gamma = 15)\n",
    "X_kpca2 = kpca.fit_transform(X)\n"
   ]
  },
  {
   "cell_type": "code",
   "execution_count": 76,
   "metadata": {},
   "outputs": [
    {
     "data": {
      "image/png": "[encoded data removed]",
      "text/plain": [
       "<Figure size 504x216 with 2 Axes>"
      ]
     },
     "metadata": {},
     "output_type": "display_data"
    }
   ],
   "source": [
    "plot_kpca(X_kpca2)"
   ]
  },
  {
   "cell_type": "markdown",
   "metadata": {},
   "source": [
    "### Kernal PCA in sklearn\n",
    "\n",
    "http://scikit-learn.org/stable/modules/generated/sklearn.decomposition.KernelPCA.html"
   ]
  },
  {
   "cell_type": "code",
   "execution_count": 51,
   "metadata": {},
   "outputs": [],
   "source": [
    "from sklearn.linear_model import LogisticRegression\n",
    "from sklearn.decomposition import KernelPCA"
   ]
  },
  {
   "cell_type": "markdown",
   "metadata": {},
   "source": [
    "#### Kernel PCA on Iris dataset"
   ]
  },
  {
   "cell_type": "code",
   "execution_count": 52,
   "metadata": {},
   "outputs": [],
   "source": [
    "iris = sns.load_dataset('iris')\n",
    "X = iris.iloc[:, 0:4].values\n",
    "y = iris.iloc[:, 4].values"
   ]
  },
  {
   "cell_type": "code",
   "execution_count": 53,
   "metadata": {},
   "outputs": [],
   "source": [
    "# Split\n",
    "X_train, X_test, y_train, y_test = train_test_split(X, y, test_size = 0.25, random_state = 0,stratify=y)\n",
    "\n",
    "# Scale\n",
    "sc = StandardScaler()\n",
    "X_train_std = sc.fit_transform(X_train)\n",
    "X_test_std = sc.transform(X_test)"
   ]
  },
  {
   "cell_type": "code",
   "execution_count": 54,
   "metadata": {},
   "outputs": [],
   "source": [
    "# Apply Kernel PCA\n",
    "kpca = KernelPCA(n_components = None, kernel = 'rbf')\n",
    "X_train_kpca = kpca.fit_transform(X_train_std)\n",
    "X_test_kpca = kpca.transform(X_test_std)\n",
    "\n",
    "var_exp = kpca.lambdas_/np.sum(kpca.lambdas_)"
   ]
  },
  {
   "cell_type": "code",
   "execution_count": 55,
   "metadata": {},
   "outputs": [
    {
     "data": {
      "text/plain": [
       "array([0.39518099, 0.58009293, 0.67213351, 0.75619267, 0.80977521,\n",
       "       0.84984746, 0.87556065, 0.90015608, 0.9208524 , 0.93269577,\n",
       "       0.94350378, 0.9529598 , 0.95987049, 0.96468816, 0.96916111])"
      ]
     },
     "execution_count": 55,
     "metadata": {},
     "output_type": "execute_result"
    }
   ],
   "source": [
    "cum_var_exp = np.cumsum(var_exp)\n",
    "\n",
    "cum_var_exp[0:15]"
   ]
  },
  {
   "cell_type": "code",
   "execution_count": 57,
   "metadata": {},
   "outputs": [
    {
     "name": "stdout",
     "output_type": "stream",
     "text": [
      "d =  1  Accuracy:  0.6842105263157895\n",
      "d =  2  Accuracy:  0.868421052631579\n",
      "d =  3  Accuracy:  0.868421052631579\n",
      "d =  4  Accuracy:  0.868421052631579\n",
      "d =  5  Accuracy:  1.0\n"
     ]
    }
   ],
   "source": [
    "\n",
    "for d in range(1,6): # number of features\n",
    "    # Apply kpca\n",
    "    kpca = KernelPCA(n_components = d, kernel = 'rbf')\n",
    "    X_train_kpca = kpca.fit_transform(X_train)\n",
    "    X_test_kpca = kpca.transform(X_test)\n",
    "\n",
    "    # Fit\n",
    "    m = LogisticRegression(random_state = 0)\n",
    "    m.fit(X_train_kpca, y_train)\n",
    "\n",
    "    # Predict\n",
    "    y_pred = m.predict(X_test_kpca)\n",
    "\n",
    "    # Make the Confusion Matrix\n",
    "    cm = confusion_matrix(y_test, y_pred)\n",
    "    accuracy = np.trace(cm)/np.sum(cm)\n",
    "    print('d = ',d,' Accuracy: ',accuracy)"
   ]
  },
  {
   "cell_type": "markdown",
   "metadata": {},
   "source": [
    "\n",
    "#### References\n",
    "\n",
    "Figures 2 and 4 are taken from \"An Introduction to Statistical Learning, with applications in R\"  (Springer, 2013) with permission from the authors: G. James, D. Witten,  T. Hastie and R. Tibshirani \" \n",
    "\n",
    "Jon Shlens (2003) A TUTORIAL ON PRINCIPAL COMPONENT ANALYSIS - Derivation, Discussion and\n",
    "Singular Value Decomposition\n",
    "\n",
    "Principal Component Analysis in Python: https://plot.ly/ipython-notebooks/principal-component-analysis/\n",
    "\n",
    "Raschka,Sebastin & Mirjalili, Vahid (2017). Python Machine Learning, 2nd Edition, Packt Publishing."
   ]
  },
  {
   "cell_type": "code",
   "execution_count": null,
   "metadata": {},
   "outputs": [],
   "source": []
  }
 ],
 "metadata": {
  "kernelspec": {
   "display_name": "Python 3",
   "language": "python",
   "name": "python3"
  },
  "language_info": {
   "codemirror_mode": {
    "name": "ipython",
    "version": 3
   },
   "file_extension": ".py",
   "mimetype": "text/x-python",
   "name": "python",
   "nbconvert_exporter": "python",
   "pygments_lexer": "ipython3",
   "version": "3.6.5"
  },
  "varInspector": {
   "cols": {
    "lenName": 16,
    "lenType": 16,
    "lenVar": 40
   },
   "kernels_config": {
    "python": {
     "delete_cmd_postfix": "",
     "delete_cmd_prefix": "del ",
     "library": "var_list.py",
     "varRefreshCmd": "print(var_dic_list())"
    },
    "r": {
     "delete_cmd_postfix": ") ",
     "delete_cmd_prefix": "rm(",
     "library": "var_list.r",
     "varRefreshCmd": "cat(var_dic_list()) "
    }
   },
   "position": {
    "height": "372px",
    "left": "809px",
    "right": "20px",
    "top": "13px",
    "width": "492px"
   },
   "types_to_exclude": [
    "module",
    "function",
    "builtin_function_or_method",
    "instance",
    "_Feature"
   ],
   "window_display": false
  }
 },
 "nbformat": 4,
 "nbformat_minor": 2
}
