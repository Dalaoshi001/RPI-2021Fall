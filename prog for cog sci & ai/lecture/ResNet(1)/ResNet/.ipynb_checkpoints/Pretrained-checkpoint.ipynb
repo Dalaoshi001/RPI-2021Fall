{
 "cells": [
  {
   "cell_type": "code",
   "execution_count": 1,
   "id": "400052c1-3e26-4469-8b8b-21d6e0235f2a",
   "metadata": {},
   "outputs": [],
   "source": [
    "import torch\n",
    "from torchvision import models\n",
    "from pytorch_model_summary import summary"
   ]
  },
  {
   "cell_type": "code",
   "execution_count": 2,
   "id": "27fd7c1b-7324-4973-9802-e1b51972b2a8",
   "metadata": {},
   "outputs": [
    {
     "data": {
      "text/plain": [
       "['AlexNet',\n",
       " 'DenseNet',\n",
       " 'GoogLeNet',\n",
       " 'GoogLeNetOutputs',\n",
       " 'Inception3',\n",
       " 'InceptionOutputs',\n",
       " 'MNASNet',\n",
       " 'MobileNetV2',\n",
       " 'MobileNetV3',\n",
       " 'ResNet',\n",
       " 'ShuffleNetV2',\n",
       " 'SqueezeNet',\n",
       " 'VGG',\n",
       " '_GoogLeNetOutputs',\n",
       " '_InceptionOutputs',\n",
       " '__builtins__',\n",
       " '__cached__',\n",
       " '__doc__',\n",
       " '__file__',\n",
       " '__loader__',\n",
       " '__name__',\n",
       " '__package__',\n",
       " '__path__',\n",
       " '__spec__',\n",
       " '_utils',\n",
       " 'alexnet',\n",
       " 'densenet',\n",
       " 'densenet121',\n",
       " 'densenet161',\n",
       " 'densenet169',\n",
       " 'densenet201',\n",
       " 'detection',\n",
       " 'googlenet',\n",
       " 'inception',\n",
       " 'inception_v3',\n",
       " 'mnasnet',\n",
       " 'mnasnet0_5',\n",
       " 'mnasnet0_75',\n",
       " 'mnasnet1_0',\n",
       " 'mnasnet1_3',\n",
       " 'mobilenet',\n",
       " 'mobilenet_v2',\n",
       " 'mobilenet_v3_large',\n",
       " 'mobilenet_v3_small',\n",
       " 'mobilenetv2',\n",
       " 'mobilenetv3',\n",
       " 'quantization',\n",
       " 'resnet',\n",
       " 'resnet101',\n",
       " 'resnet152',\n",
       " 'resnet18',\n",
       " 'resnet34',\n",
       " 'resnet50',\n",
       " 'resnext101_32x8d',\n",
       " 'resnext50_32x4d',\n",
       " 'segmentation',\n",
       " 'shufflenet_v2_x0_5',\n",
       " 'shufflenet_v2_x1_0',\n",
       " 'shufflenet_v2_x1_5',\n",
       " 'shufflenet_v2_x2_0',\n",
       " 'shufflenetv2',\n",
       " 'squeezenet',\n",
       " 'squeezenet1_0',\n",
       " 'squeezenet1_1',\n",
       " 'utils',\n",
       " 'vgg',\n",
       " 'vgg11',\n",
       " 'vgg11_bn',\n",
       " 'vgg13',\n",
       " 'vgg13_bn',\n",
       " 'vgg16',\n",
       " 'vgg16_bn',\n",
       " 'vgg19',\n",
       " 'vgg19_bn',\n",
       " 'video',\n",
       " 'wide_resnet101_2',\n",
       " 'wide_resnet50_2']"
      ]
     },
     "execution_count": 2,
     "metadata": {},
     "output_type": "execute_result"
    }
   ],
   "source": [
    "dir(models)"
   ]
  },
  {
   "cell_type": "markdown",
   "id": "3cbbd3c9-6971-4db4-9905-6c2bd0b8a10d",
   "metadata": {},
   "source": [
    "#### Load the file containing the 1,000 labels for the ImageNet dataset classes\n"
   ]
  },
  {
   "cell_type": "code",
   "execution_count": 3,
   "id": "26349ec3-e53f-4551-81ee-8209f1b85c87",
   "metadata": {
    "tags": []
   },
   "outputs": [],
   "source": [
    "with open('imagenet_classes.txt') as f:\n",
    "    labels = [line.strip() for line in f.readlines()]"
   ]
  },
  {
   "cell_type": "markdown",
   "id": "df9763e1-20e1-4306-b6ec-eaff0142e6bf",
   "metadata": {},
   "source": [
    "#### Setup image transform\n",
    "\n",
    "https://pytorch.org/vision/stable/transforms.html"
   ]
  },
  {
   "cell_type": "code",
   "execution_count": 4,
   "id": "274be7a3-03ea-4736-bbb4-036806a2a96c",
   "metadata": {},
   "outputs": [],
   "source": [
    "from torchvision import transforms\n",
    "\n",
    "# Reshape, crop, and normalize \n",
    "\n",
    "preprocess = transforms.Compose([\n",
    "        transforms.Resize(256),\n",
    "        transforms.CenterCrop(224),\n",
    "        transforms.ToTensor(),\n",
    "        transforms.Normalize(\n",
    "        mean=[0.485, 0.456, 0.406],  # 3 color channels\n",
    "        std=[0.229, 0.224, 0.225]\n",
    "    )])"
   ]
  },
  {
   "cell_type": "markdown",
   "id": "6c80ff2a-785e-40b1-afca-527811340dcb",
   "metadata": {},
   "source": [
    "#### Download the pre-trained model\n"
   ]
  },
  {
   "cell_type": "code",
   "execution_count": 5,
   "id": "ea1259f5-64c6-47f7-b477-abe2624a027a",
   "metadata": {},
   "outputs": [],
   "source": [
    "res101 =  models.resnet101(pretrained=True) "
   ]
  },
  {
   "cell_type": "code",
   "execution_count": 13,
   "id": "ec68c12c-24b4-4081-b5a6-293a75f5c4d6",
   "metadata": {},
   "outputs": [],
   "source": [
    "alex = models.alexnet(pretrained=True)"
   ]
  },
  {
   "cell_type": "code",
   "execution_count": 21,
   "id": "a2f80b36-a0e9-4660-a399-8ae8e0103a97",
   "metadata": {},
   "outputs": [],
   "source": [
    "res50 = models.resnet50(pretrained=True) "
   ]
  },
  {
   "cell_type": "code",
   "execution_count": 7,
   "id": "318ce71b-10f8-4143-a2c5-80ad59b28583",
   "metadata": {
    "tags": []
   },
   "outputs": [],
   "source": [
    "vgg19 = models.vgg19(pretrained=True) "
   ]
  },
  {
   "cell_type": "code",
   "execution_count": 31,
   "id": "a8f70c3e-df6a-4903-9b3d-34e61599550b",
   "metadata": {},
   "outputs": [
    {
     "name": "stdout",
     "output_type": "stream",
     "text": [
      "total 2174896\n",
      "drwxr-xr-x  6 mike  staff        192 Nov 16 08:13 \u001b[34m.\u001b[m\u001b[m\n",
      "drwxr-xr-x  3 mike  staff         96 Nov 13 11:29 \u001b[34m..\u001b[m\u001b[m\n",
      "-rw-------  1 mike  staff  244408911 Nov 14 09:38 alexnet-owt-7be5be79.pth\n",
      "-rw-------  1 mike  staff  178793939 Nov 13 11:30 resnet101-63fe2227.pth\n",
      "-rw-------  1 mike  staff  102530333 Nov 14 09:42 resnet50-0676ba61.pth\n",
      "-rw-------  1 mike  staff  574673361 Nov 16 08:13 vgg19-dcbb9e9d.pth\n"
     ]
    }
   ],
   "source": [
    "!ls -al /Users/mike/.cache/torch/hub/checkpoints"
   ]
  },
  {
   "cell_type": "code",
   "execution_count": 8,
   "id": "85d806bc-6f8d-4e6d-8613-452317d7c6c1",
   "metadata": {
    "tags": []
   },
   "outputs": [
    {
     "data": {
      "text/plain": [
       "VGG(\n",
       "  (features): Sequential(\n",
       "    (0): Conv2d(3, 64, kernel_size=(3, 3), stride=(1, 1), padding=(1, 1))\n",
       "    (1): ReLU(inplace=True)\n",
       "    (2): Conv2d(64, 64, kernel_size=(3, 3), stride=(1, 1), padding=(1, 1))\n",
       "    (3): ReLU(inplace=True)\n",
       "    (4): MaxPool2d(kernel_size=2, stride=2, padding=0, dilation=1, ceil_mode=False)\n",
       "    (5): Conv2d(64, 128, kernel_size=(3, 3), stride=(1, 1), padding=(1, 1))\n",
       "    (6): ReLU(inplace=True)\n",
       "    (7): Conv2d(128, 128, kernel_size=(3, 3), stride=(1, 1), padding=(1, 1))\n",
       "    (8): ReLU(inplace=True)\n",
       "    (9): MaxPool2d(kernel_size=2, stride=2, padding=0, dilation=1, ceil_mode=False)\n",
       "    (10): Conv2d(128, 256, kernel_size=(3, 3), stride=(1, 1), padding=(1, 1))\n",
       "    (11): ReLU(inplace=True)\n",
       "    (12): Conv2d(256, 256, kernel_size=(3, 3), stride=(1, 1), padding=(1, 1))\n",
       "    (13): ReLU(inplace=True)\n",
       "    (14): Conv2d(256, 256, kernel_size=(3, 3), stride=(1, 1), padding=(1, 1))\n",
       "    (15): ReLU(inplace=True)\n",
       "    (16): Conv2d(256, 256, kernel_size=(3, 3), stride=(1, 1), padding=(1, 1))\n",
       "    (17): ReLU(inplace=True)\n",
       "    (18): MaxPool2d(kernel_size=2, stride=2, padding=0, dilation=1, ceil_mode=False)\n",
       "    (19): Conv2d(256, 512, kernel_size=(3, 3), stride=(1, 1), padding=(1, 1))\n",
       "    (20): ReLU(inplace=True)\n",
       "    (21): Conv2d(512, 512, kernel_size=(3, 3), stride=(1, 1), padding=(1, 1))\n",
       "    (22): ReLU(inplace=True)\n",
       "    (23): Conv2d(512, 512, kernel_size=(3, 3), stride=(1, 1), padding=(1, 1))\n",
       "    (24): ReLU(inplace=True)\n",
       "    (25): Conv2d(512, 512, kernel_size=(3, 3), stride=(1, 1), padding=(1, 1))\n",
       "    (26): ReLU(inplace=True)\n",
       "    (27): MaxPool2d(kernel_size=2, stride=2, padding=0, dilation=1, ceil_mode=False)\n",
       "    (28): Conv2d(512, 512, kernel_size=(3, 3), stride=(1, 1), padding=(1, 1))\n",
       "    (29): ReLU(inplace=True)\n",
       "    (30): Conv2d(512, 512, kernel_size=(3, 3), stride=(1, 1), padding=(1, 1))\n",
       "    (31): ReLU(inplace=True)\n",
       "    (32): Conv2d(512, 512, kernel_size=(3, 3), stride=(1, 1), padding=(1, 1))\n",
       "    (33): ReLU(inplace=True)\n",
       "    (34): Conv2d(512, 512, kernel_size=(3, 3), stride=(1, 1), padding=(1, 1))\n",
       "    (35): ReLU(inplace=True)\n",
       "    (36): MaxPool2d(kernel_size=2, stride=2, padding=0, dilation=1, ceil_mode=False)\n",
       "  )\n",
       "  (avgpool): AdaptiveAvgPool2d(output_size=(7, 7))\n",
       "  (classifier): Sequential(\n",
       "    (0): Linear(in_features=25088, out_features=4096, bias=True)\n",
       "    (1): ReLU(inplace=True)\n",
       "    (2): Dropout(p=0.5, inplace=False)\n",
       "    (3): Linear(in_features=4096, out_features=4096, bias=True)\n",
       "    (4): ReLU(inplace=True)\n",
       "    (5): Dropout(p=0.5, inplace=False)\n",
       "    (6): Linear(in_features=4096, out_features=1000, bias=True)\n",
       "  )\n",
       ")"
      ]
     },
     "execution_count": 8,
     "metadata": {},
     "output_type": "execute_result"
    }
   ],
   "source": [
    "model = vgg19\n",
    "model"
   ]
  },
  {
   "cell_type": "markdown",
   "id": "3d9b7acb-7bdd-47c7-9062-b06031b30445",
   "metadata": {},
   "source": [
    "#### Load the image"
   ]
  },
  {
   "cell_type": "code",
   "execution_count": 12,
   "id": "0c3c3180-89aa-491e-869d-eeb4a112cd72",
   "metadata": {},
   "outputs": [
    {
     "name": "stdout",
     "output_type": "stream",
     "text": [
      "Car.JPG         Daisy&Ball2.JPG \u001b[31mFlower1.JPG\u001b[m\u001b[m     Flower3.png     mattie.JPG\n",
      "Daisy&BaLL1.JPG \u001b[31mDaisy.JPG\u001b[m\u001b[m       \u001b[31mFlower2.JPG\u001b[m\u001b[m     dog.png\n"
     ]
    }
   ],
   "source": [
    "!ls images"
   ]
  },
  {
   "cell_type": "code",
   "execution_count": 9,
   "id": "7095c96e-ce63-482f-a303-54ac01a00f8d",
   "metadata": {
    "tags": []
   },
   "outputs": [],
   "source": [
    "from PIL import Image\n",
    "img = Image.open(\"images/dog.png\").convert('RGB')"
   ]
  },
  {
   "cell_type": "code",
   "execution_count": 10,
   "id": "33a19707-66ec-4c48-8911-0daeeb352d72",
   "metadata": {},
   "outputs": [
    {
     "name": "stdout",
     "output_type": "stream",
     "text": [
      "(300, 168)\n"
     ]
    },
    {
     "data": {
      "image/png": "[encoded data removed]",
      "text/plain": [
       "<PIL.Image.Image image mode=RGB size=300x168 at 0x7FA7F03FFC40>"
      ]
     },
     "execution_count": 10,
     "metadata": {},
     "output_type": "execute_result"
    }
   ],
   "source": [
    "imgsiz = img.size\n",
    "print(img.size)\n",
    "img"
   ]
  },
  {
   "cell_type": "code",
   "execution_count": 11,
   "id": "4f49c9f1-fd32-4180-ada8-b6e93f320160",
   "metadata": {
    "colab": {
     "base_uri": "https://localhost:8080/",
     "height": 425
    },
    "colab_type": "code",
    "id": "GGcs-W5Tgm1r",
    "outputId": "98fd7228-7c68-4c6c-b5ba-9c965b4fa74e"
   },
   "outputs": [
    {
     "name": "stderr",
     "output_type": "stream",
     "text": [
      "/Users/mike/opt/anaconda3/lib/python3.8/site-packages/torch/nn/functional.py:718: UserWarning: Named tensors and all their associated APIs are an experimental feature and subject to change. Please do not use them for anything important until they are released as stable. (Triggered internally at  /Users/distiller/project/conda/conda-bld/pytorch_1623459044803/work/c10/core/TensorImpl.h:1156.)\n",
      "  return torch.max_pool2d(input, kernel_size, stride, padding, dilation, ceil_mode)\n"
     ]
    },
    {
     "name": "stdout",
     "output_type": "stream",
     "text": [
      "------------------------------------------------------------------------------\n",
      "           Layer (type)           Input Shape         Param #     Tr. Param #\n",
      "==============================================================================\n",
      "               Conv2d-1      [1, 3, 300, 168]           1,792           1,792\n",
      "                 ReLU-2     [1, 64, 300, 168]               0               0\n",
      "               Conv2d-3     [1, 64, 300, 168]          36,928          36,928\n",
      "                 ReLU-4     [1, 64, 300, 168]               0               0\n",
      "            MaxPool2d-5     [1, 64, 300, 168]               0               0\n",
      "               Conv2d-6      [1, 64, 150, 84]          73,856          73,856\n",
      "                 ReLU-7     [1, 128, 150, 84]               0               0\n",
      "               Conv2d-8     [1, 128, 150, 84]         147,584         147,584\n",
      "                 ReLU-9     [1, 128, 150, 84]               0               0\n",
      "           MaxPool2d-10     [1, 128, 150, 84]               0               0\n",
      "              Conv2d-11      [1, 128, 75, 42]         295,168         295,168\n",
      "                ReLU-12      [1, 256, 75, 42]               0               0\n",
      "              Conv2d-13      [1, 256, 75, 42]         590,080         590,080\n",
      "                ReLU-14      [1, 256, 75, 42]               0               0\n",
      "              Conv2d-15      [1, 256, 75, 42]         590,080         590,080\n",
      "                ReLU-16      [1, 256, 75, 42]               0               0\n",
      "              Conv2d-17      [1, 256, 75, 42]         590,080         590,080\n",
      "                ReLU-18      [1, 256, 75, 42]               0               0\n",
      "           MaxPool2d-19      [1, 256, 75, 42]               0               0\n",
      "              Conv2d-20      [1, 256, 37, 21]       1,180,160       1,180,160\n",
      "                ReLU-21      [1, 512, 37, 21]               0               0\n",
      "              Conv2d-22      [1, 512, 37, 21]       2,359,808       2,359,808\n",
      "                ReLU-23      [1, 512, 37, 21]               0               0\n",
      "              Conv2d-24      [1, 512, 37, 21]       2,359,808       2,359,808\n",
      "                ReLU-25      [1, 512, 37, 21]               0               0\n",
      "              Conv2d-26      [1, 512, 37, 21]       2,359,808       2,359,808\n",
      "                ReLU-27      [1, 512, 37, 21]               0               0\n",
      "           MaxPool2d-28      [1, 512, 37, 21]               0               0\n",
      "              Conv2d-29      [1, 512, 18, 10]       2,359,808       2,359,808\n",
      "                ReLU-30      [1, 512, 18, 10]               0               0\n",
      "              Conv2d-31      [1, 512, 18, 10]       2,359,808       2,359,808\n",
      "                ReLU-32      [1, 512, 18, 10]               0               0\n",
      "              Conv2d-33      [1, 512, 18, 10]       2,359,808       2,359,808\n",
      "                ReLU-34      [1, 512, 18, 10]               0               0\n",
      "              Conv2d-35      [1, 512, 18, 10]       2,359,808       2,359,808\n",
      "                ReLU-36      [1, 512, 18, 10]               0               0\n",
      "           MaxPool2d-37      [1, 512, 18, 10]               0               0\n",
      "   AdaptiveAvgPool2d-38        [1, 512, 9, 5]               0               0\n",
      "              Linear-39            [1, 25088]     102,764,544     102,764,544\n",
      "                ReLU-40             [1, 4096]               0               0\n",
      "             Dropout-41             [1, 4096]               0               0\n",
      "              Linear-42             [1, 4096]      16,781,312      16,781,312\n",
      "                ReLU-43             [1, 4096]               0               0\n",
      "             Dropout-44             [1, 4096]               0               0\n",
      "              Linear-45             [1, 4096]       4,097,000       4,097,000\n",
      "==============================================================================\n",
      "Total params: 143,667,240\n",
      "Trainable params: 143,667,240\n",
      "Non-trainable params: 0\n",
      "------------------------------------------------------------------------------\n"
     ]
    }
   ],
   "source": [
    "print(summary(model,torch.zeros((1,3,imgsiz[0],imgsiz[1])),show_input=True))"
   ]
  },
  {
   "cell_type": "markdown",
   "id": "02aa0c9c-fc9b-42e9-b2ed-274cbc62c006",
   "metadata": {},
   "source": [
    "#### Preprocess the image"
   ]
  },
  {
   "cell_type": "code",
   "execution_count": 25,
   "id": "8e2947ba-5d3d-47e8-a758-1a6c2b9dba84",
   "metadata": {},
   "outputs": [
    {
     "name": "stdout",
     "output_type": "stream",
     "text": [
      "torch.Size([3, 224, 224])\n"
     ]
    },
    {
     "data": {
      "text/plain": [
       "torch.Size([1, 3, 224, 224])"
      ]
     },
     "execution_count": 25,
     "metadata": {},
     "output_type": "execute_result"
    }
   ],
   "source": [
    "img_prep = preprocess(img)\n",
    "print(img_prep.shape)\n",
    "batch_img = torch.unsqueeze(img_prep, 0)\n",
    "batch_img.shape"
   ]
  },
  {
   "cell_type": "markdown",
   "id": "3fb167c7-9a74-4772-a86b-ad52becc4420",
   "metadata": {},
   "source": [
    "#### Predict image"
   ]
  },
  {
   "cell_type": "code",
   "execution_count": 26,
   "id": "7711cd66-5759-4c07-b892-20df6e015a9b",
   "metadata": {},
   "outputs": [
    {
     "data": {
      "text/plain": [
       "torch.Size([1, 1000])"
      ]
     },
     "execution_count": 26,
     "metadata": {},
     "output_type": "execute_result"
    }
   ],
   "source": [
    "model.eval() # Set evaluation mode\n",
    "preds = model(batch_img)\n",
    "preds.shape"
   ]
  },
  {
   "cell_type": "markdown",
   "id": "a5a8314b-9cf1-453f-afe1-1f9b7326c24f",
   "metadata": {},
   "source": [
    "#### Map predictions to probabilities"
   ]
  },
  {
   "cell_type": "code",
   "execution_count": 27,
   "id": "4ce2b6cc-f404-4aa2-bb31-51c6cdc9a3bf",
   "metadata": {},
   "outputs": [
    {
     "data": {
      "text/plain": [
       "torch.Size([1000])"
      ]
     },
     "execution_count": 27,
     "metadata": {},
     "output_type": "execute_result"
    }
   ],
   "source": [
    "_, index = torch.max(preds, 1)\n",
    "\n",
    "probs = torch.nn.functional.softmax(preds, dim=1)[0] * 100\n",
    "probs.shape"
   ]
  },
  {
   "cell_type": "markdown",
   "id": "1a64f09e-95e3-45fc-b910-b2a02a8f7551",
   "metadata": {},
   "source": [
    "#### Print label and probability of top 5."
   ]
  },
  {
   "cell_type": "code",
   "execution_count": 28,
   "id": "daa8149e-b285-4bd3-a223-01129854df29",
   "metadata": {},
   "outputs": [
    {
     "name": "stdout",
     "output_type": "stream",
     "text": [
      "Chihuahua 98.24454498291016\n"
     ]
    },
    {
     "data": {
      "text/plain": [
       "[('Chihuahua', 98.24454498291016),\n",
       " ('toy terrier', 0.7898305654525757),\n",
       " ('Italian greyhound', 0.22598721086978912),\n",
       " ('Mexican hairless', 0.08660207688808441),\n",
       " ('Brabancon griffon', 0.0683751255273819)]"
      ]
     },
     "execution_count": 28,
     "metadata": {},
     "output_type": "execute_result"
    }
   ],
   "source": [
    "print(labels[index[0]], probs[index[0]].item()) # Index 0 is top choice\n",
    "\n",
    "_, indices = torch.sort(preds, descending=True)\n",
    "[(labels[idx], probs[idx].item()) for idx in indices[0][:5]]"
   ]
  },
  {
   "cell_type": "markdown",
   "id": "ebf560f4-5ed4-4686-b7a7-82a06007d8c7",
   "metadata": {},
   "source": [
    "#### Reference\n",
    "\n",
    "https://vitalflux.com/pytorch-load-predict-pretrained-resnet-model/\n",
    "https://learnopencv.com/pytorch-for-beginners-image-classification-using-pre-trained-models/"
   ]
  },
  {
   "cell_type": "code",
   "execution_count": null,
   "id": "a65a2ee3-0937-499c-8105-531ce0765eb8",
   "metadata": {},
   "outputs": [],
   "source": []
  }
 ],
 "metadata": {
  "kernelspec": {
   "display_name": "Python 3",
   "language": "python",
   "name": "python3"
  },
  "language_info": {
   "codemirror_mode": {
    "name": "ipython",
    "version": 3
   },
   "file_extension": ".py",
   "mimetype": "text/x-python",
   "name": "python",
   "nbconvert_exporter": "python",
   "pygments_lexer": "ipython3",
   "version": "3.8.8"
  }
 },
 "nbformat": 4,
 "nbformat_minor": 5
}
