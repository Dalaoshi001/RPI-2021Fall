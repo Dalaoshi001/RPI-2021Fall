{
 "cells": [
  {
   "cell_type": "code",
   "execution_count": null,
   "id": "ef4a4190-e8f5-47dc-99f5-c9f4a1d6ae1f",
   "metadata": {},
   "outputs": [],
   "source": []
  },
  {
   "cell_type": "markdown",
   "id": "0870eaa8-8a42-49e5-9a1b-29f79f1b938d",
   "metadata": {},
   "source": [
    "### Exercises\n",
    "\n",
    "Show that Linear Regression has a closed form soluition by calculating the Coefficients for the data below using the Normal equation"
   ]
  },
  {
   "cell_type": "code",
   "execution_count": 35,
   "id": "0ebd82cd-1ef2-4171-b3f5-9c074d5846b1",
   "metadata": {},
   "outputs": [],
   "source": [
    "from sklearn.preprocessing import LabelEncoder,OneHotEncoder,StandardScaler,MinMaxScaler\n",
    "from sklearn.model_selection import train_test_split\n",
    "from sklearn.linear_model import LinearRegression\n",
    "from sklearn.metrics import r2_score,mean_squared_error"
   ]
  },
  {
   "cell_type": "code",
   "execution_count": 36,
   "id": "553bcb69-378a-4031-83b3-83ec64393954",
   "metadata": {},
   "outputs": [
    {
     "data": {
      "text/html": [
       "<div>\n",
       "<style scoped>\n",
       "    .dataframe tbody tr th:only-of-type {\n",
       "        vertical-align: middle;\n",
       "    }\n",
       "\n",
       "    .dataframe tbody tr th {\n",
       "        vertical-align: top;\n",
       "    }\n",
       "\n",
       "    .dataframe thead th {\n",
       "        text-align: right;\n",
       "    }\n",
       "</style>\n",
       "<table border=\"1\" class=\"dataframe\">\n",
       "  <thead>\n",
       "    <tr style=\"text-align: right;\">\n",
       "      <th></th>\n",
       "      <th>height</th>\n",
       "      <th>weight</th>\n",
       "      <th>age</th>\n",
       "      <th>male</th>\n",
       "    </tr>\n",
       "  </thead>\n",
       "  <tbody>\n",
       "    <tr>\n",
       "      <th>534</th>\n",
       "      <td>162.560</td>\n",
       "      <td>47.031821</td>\n",
       "      <td>27.0</td>\n",
       "      <td>0</td>\n",
       "    </tr>\n",
       "    <tr>\n",
       "      <th>537</th>\n",
       "      <td>142.875</td>\n",
       "      <td>34.246196</td>\n",
       "      <td>31.0</td>\n",
       "      <td>0</td>\n",
       "    </tr>\n",
       "    <tr>\n",
       "      <th>540</th>\n",
       "      <td>162.560</td>\n",
       "      <td>52.163080</td>\n",
       "      <td>31.0</td>\n",
       "      <td>1</td>\n",
       "    </tr>\n",
       "    <tr>\n",
       "      <th>541</th>\n",
       "      <td>156.210</td>\n",
       "      <td>54.062496</td>\n",
       "      <td>21.0</td>\n",
       "      <td>0</td>\n",
       "    </tr>\n",
       "    <tr>\n",
       "      <th>543</th>\n",
       "      <td>158.750</td>\n",
       "      <td>52.531624</td>\n",
       "      <td>68.0</td>\n",
       "      <td>1</td>\n",
       "    </tr>\n",
       "  </tbody>\n",
       "</table>\n",
       "</div>"
      ],
      "text/plain": [
       "      height     weight   age  male\n",
       "534  162.560  47.031821  27.0     0\n",
       "537  142.875  34.246196  31.0     0\n",
       "540  162.560  52.163080  31.0     1\n",
       "541  156.210  54.062496  21.0     0\n",
       "543  158.750  52.531624  68.0     1"
      ]
     },
     "execution_count": 36,
     "metadata": {},
     "output_type": "execute_result"
    }
   ],
   "source": [
    "howell = pd.read_csv(\"Howell.csv\",sep=';')\n",
    "\n",
    "\n",
    "adult = howell.query(\"age > 17\")\n",
    "adult.tail()"
   ]
  },
  {
   "cell_type": "code",
   "execution_count": 37,
   "id": "290b2e55-e93a-48f5-aa81-5755373c6389",
   "metadata": {},
   "outputs": [
    {
     "name": "stdout",
     "output_type": "stream",
     "text": [
      "Intercept: 113.01448006900492 \n",
      "Coefficients:: [0.91115466 0.01432531] \n"
     ]
    }
   ],
   "source": [
    "X = adult.loc[:,['weight','age']].values\n",
    "y = adult.loc[:,'height'].values\n",
    "\n",
    "model = LinearRegression().fit(X, y)\n",
    "print(f'Intercept: {model.intercept_} \\nCoefficients:: {model.coef_} ')"
   ]
  },
  {
   "cell_type": "code",
   "execution_count": 39,
   "id": "75b34ee3-d8dc-436b-8852-214e8752f822",
   "metadata": {},
   "outputs": [
    {
     "data": {
      "text/plain": [
       "array([1.13014480e+02, 9.11154663e-01, 1.43253147e-02])"
      ]
     },
     "execution_count": 39,
     "metadata": {},
     "output_type": "execute_result"
    }
   ],
   "source": [
    "#inv(X.T,X).(X.T).y\n",
    "# Your code here\n",
    "X=np.append(np.ones(len(y)).reshape(-1,1),X,axis=1)\n",
    "np.dot(np.dot(la.inv(np.dot(X.T,X)),X.T),y)"
   ]
  },
  {
   "cell_type": "code",
   "execution_count": 40,
   "id": "c3192a3f-9b6c-4151-8364-6adc4d432a56",
   "metadata": {},
   "outputs": [
    {
     "data": {
      "text/plain": [
       "array([[ 1.       , 47.8256065, 63.       ],\n",
       "       [ 1.       , 36.4858065, 63.       ],\n",
       "       [ 1.       , 31.864838 , 65.       ],\n",
       "       [ 1.       , 53.0419145, 41.       ],\n",
       "       [ 1.       , 41.276872 , 51.       ]])"
      ]
     },
     "execution_count": 40,
     "metadata": {},
     "output_type": "execute_result"
    }
   ],
   "source": [
    "X[0:5,:]"
   ]
  },
  {
   "cell_type": "markdown",
   "id": "d02e0e41-6c81-4131-8d83-3aa05069001f",
   "metadata": {},
   "source": [
    "#### Show that the sum of the eigenvalues equals the trace of the matrix A"
   ]
  },
  {
   "cell_type": "code",
   "execution_count": 46,
   "id": "536a89d8-c892-45e3-9417-7dfea4a1bd63",
   "metadata": {},
   "outputs": [
    {
     "data": {
      "text/plain": [
       "True"
      ]
     },
     "execution_count": 46,
     "metadata": {},
     "output_type": "execute_result"
    }
   ],
   "source": [
    "A = np.array([i for i in range(3,30,3)]).reshape(3,3)\n",
    "# Your code here\n",
    "e,v =la.eig(A)\n",
    "np.isclose(np.sum(e)-np.sum(np.diag(A)),0)"
   ]
  },
  {
   "cell_type": "code",
   "execution_count": 43,
   "id": "1d60da8c-dda1-402d-af9a-021ba0a26897",
   "metadata": {},
   "outputs": [
    {
     "data": {
      "text/plain": [
       "array([[ 3,  6,  9],\n",
       "       [12, 15, 18],\n",
       "       [21, 24, 27]])"
      ]
     },
     "execution_count": 43,
     "metadata": {},
     "output_type": "execute_result"
    }
   ],
   "source": [
    "np.diag(A)"
   ]
  },
  {
   "cell_type": "markdown",
   "id": "a5a4f147-8b22-4979-850d-690bda1bd2c6",
   "metadata": {},
   "source": [
    "#### Show that the product of the eigenvalues equals the determinant of the matrix A"
   ]
  },
  {
   "cell_type": "code",
   "execution_count": null,
   "id": "3df913fe-24d3-4f2b-a310-43ba210c20eb",
   "metadata": {},
   "outputs": [],
   "source": [
    "# Your code here"
   ]
  },
  {
   "cell_type": "code",
   "execution_count": 48,
   "id": "3698dd5a-5344-4b5b-bb43-64cfce54992e",
   "metadata": {},
   "outputs": [
    {
     "data": {
      "text/plain": [
       "True"
      ]
     },
     "execution_count": 48,
     "metadata": {},
     "output_type": "execute_result"
    }
   ],
   "source": [
    "np.isclose(np.prod(e)-la.det(A),0)"
   ]
  },
  {
   "cell_type": "code",
   "execution_count": null,
   "id": "5ceddde9-3884-4930-98a0-af49c9a61705",
   "metadata": {},
   "outputs": [],
   "source": []
  }
 ],
 "metadata": {
  "kernelspec": {
   "display_name": "Python 3",
   "language": "python",
   "name": "python3"
  },
  "language_info": {
   "codemirror_mode": {
    "name": "ipython",
    "version": 3
   },
   "file_extension": ".py",
   "mimetype": "text/x-python",
   "name": "python",
   "nbconvert_exporter": "python",
   "pygments_lexer": "ipython3",
   "version": "3.8.8"
  }
 },
 "nbformat": 4,
 "nbformat_minor": 5
}
