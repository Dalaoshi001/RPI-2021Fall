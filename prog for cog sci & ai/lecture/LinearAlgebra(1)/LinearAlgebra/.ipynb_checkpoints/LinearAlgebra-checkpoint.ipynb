{
 "cells": [
  {
   "cell_type": "code",
   "execution_count": 1,
   "metadata": {},
   "outputs": [],
   "source": [
    "import warnings\n",
    "warnings.simplefilter(action='ignore', category=FutureWarning)\n",
    "warnings.simplefilter(action='ignore', category=UserWarning)\n",
    "\n",
    "import numpy as np\n",
    "import scipy.stats as stats\n",
    "import pandas as pd\n",
    "import matplotlib.pyplot as plt\n",
    "import seaborn as sns\n",
    "%matplotlib inline"
   ]
  },
  {
   "cell_type": "code",
   "execution_count": 2,
   "metadata": {},
   "outputs": [],
   "source": [
    "import numpy.linalg as la"
   ]
  },
  {
   "cell_type": "markdown",
   "metadata": {},
   "source": [
    "## Linear Algebra\n",
    "\n",
    "https://numpy.org/doc/stable/reference/routines.linalg.html\n",
    "\n",
    "Vectors\n",
    "\n",
    "* Norm\n",
    "* Dot Product\n",
    "* Similarity\n",
    "* Projection\n",
    "* Linear Independence\n",
    "    \n",
    "Matricies\n",
    "\n",
    "* Operations\n",
    "* System of linear equations\n",
    "* Eigenvalues eigenvectors\n",
    "* Matrix Decomposition\n"
   ]
  },
  {
   "cell_type": "markdown",
   "metadata": {},
   "source": [
    "## Vectors\n",
    "\n",
    "**Definition** A vector is an object that has a magnitude and a direction"
   ]
  },
  {
   "cell_type": "markdown",
   "metadata": {},
   "source": [
    "###  Magnitude of a vector \n",
    "\n",
    "The length of a vector v = $(v_1,v_2,...,v_n)$ is called its **norm**\n",
    " \n",
    " <div style=\"font-size: 115%;\">\n",
    "$$ ||v|| = \\sqrt{\\sum_{i=1}^{n}v_i^2}$$\n",
    "</div>\n",
    "\n",
    "This is often referred to as the L2 Norm, $||v||_2$\n",
    "\n",
    "#### Unit Vector\n",
    "\n",
    "Denote the unit vector for a vector v by $\\hat{v}$\n",
    "\n",
    "<div style=\"font-size: 115%;\">\n",
    "$$ \\hat{v} = \\frac{v}{||v||}$$\n",
    "</div>"
   ]
  },
  {
   "cell_type": "code",
   "execution_count": 3,
   "metadata": {},
   "outputs": [
    {
     "name": "stdout",
     "output_type": "stream",
     "text": [
      "Norm v : 7.416198487095663 \n",
      "Unit v: [0.13483997 0.26967994 0.40451992 0.53935989 0.67419986]\n",
      "Norm Unit v: 1.0\n"
     ]
    }
   ],
   "source": [
    "def Norm(v):\n",
    "    return np.sqrt(np.sum(v**2))\n",
    "v = np.array([1,2,3,4,5])\n",
    "Norm_v = Norm(v)\n",
    "Unit_v = v/Norm_v\n",
    "print(f'Norm v : {Norm_v} \\nUnit v: {Unit_v}\\nNorm Unit v: {Norm(Unit_v)}' )"
   ]
  },
  {
   "cell_type": "markdown",
   "metadata": {},
   "source": [
    "### Direction of a vector\n",
    "\n",
    "Given a vector $v = (v_1,v_2,...,v_n)$, the direction of $v$ is the vector $(\\frac{v_1}{||v||},\\frac{v_2}{||v||},...,\\frac{v_n}{||v||})$"
   ]
  },
  {
   "cell_type": "code",
   "execution_count": 4,
   "metadata": {},
   "outputs": [
    {
     "data": {
      "text/plain": [
       "array([0.13483997, 0.26967994, 0.40451992, 0.53935989, 0.67419986])"
      ]
     },
     "execution_count": 4,
     "metadata": {},
     "output_type": "execute_result"
    }
   ],
   "source": [
    "Unit_v"
   ]
  },
  {
   "cell_type": "markdown",
   "metadata": {},
   "source": [
    "### Dot product \n",
    "\n",
    "Multiply vectors to get a scalar\n",
    "\n",
    "<div style=\"font-size: 115%;\">\n",
    "$$  v = (v_1,v_2,...,v_n), w = (w_1,w_2,...,w_n)$$\n",
    "</div>    \n",
    "\n",
    "#### Algebraic Definition\n",
    "\n",
    "<div style=\"font-size: 115%;\">\n",
    "$$  v\\centerdot{ w} = \\sum_i^n v_i*w_i $$\n",
    "</div>\n",
    "\n",
    "#### Geometric Definition\n",
    "\n",
    "<div style=\"font-size: 115%;\">\n",
    "$$  v\\centerdot{ w} = cos(\\theta)\\Vert v \\Vert \\Vert w\\Vert$$\n",
    "</div>"
   ]
  },
  {
   "cell_type": "code",
   "execution_count": 5,
   "metadata": {},
   "outputs": [
    {
     "data": {
      "text/plain": [
       "(110, 110, 110)"
      ]
     },
     "execution_count": 5,
     "metadata": {},
     "output_type": "execute_result"
    }
   ],
   "source": [
    "v = np.array([1,2,3,4,5])\n",
    "w = np.array([2,4,6,8,10])\n",
    "np.vdot(v,w),v.dot(w),w.dot(v)"
   ]
  },
  {
   "cell_type": "code",
   "execution_count": 6,
   "metadata": {},
   "outputs": [
    {
     "data": {
      "text/plain": [
       "4"
      ]
     },
     "execution_count": 6,
     "metadata": {},
     "output_type": "execute_result"
    }
   ],
   "source": [
    "v = np.array([2,2])\n",
    "w = np.array([2,0])\n",
    "np.vdot(v,w)"
   ]
  },
  {
   "cell_type": "code",
   "execution_count": 7,
   "metadata": {},
   "outputs": [
    {
     "data": {
      "text/plain": [
       "4.0"
      ]
     },
     "execution_count": 7,
     "metadata": {},
     "output_type": "execute_result"
    }
   ],
   "source": [
    "import math\n",
    "\n",
    "round(np.cos(math.radians(45)) * la.norm(v) * la.norm(w),10)\n"
   ]
  },
  {
   "cell_type": "markdown",
   "metadata": {},
   "source": [
    "### Measures of similarity of two vectors\n",
    "\n",
    "Similarity of vectors is used heavily in Support Vector Machines and for semantic similarity in NLP."
   ]
  },
  {
   "cell_type": "code",
   "execution_count": 8,
   "metadata": {},
   "outputs": [
    {
     "data": {
      "text/plain": [
       "1.0"
      ]
     },
     "execution_count": 8,
     "metadata": {},
     "output_type": "execute_result"
    }
   ],
   "source": [
    "v = np.array([1,1,1,1])\n",
    "\n",
    "w = np.array([2,2,2,2])\n",
    "np.dot(v,w)/(la.norm(v)*la.norm(w))"
   ]
  },
  {
   "cell_type": "markdown",
   "metadata": {},
   "source": [
    "#### Orthogonal (perpendicular) vectors\n",
    " \n",
    "Two vectors are orthogonal when $a\\cdot{b} = 0$"
   ]
  },
  {
   "cell_type": "code",
   "execution_count": 9,
   "metadata": {},
   "outputs": [
    {
     "data": {
      "text/plain": [
       "0"
      ]
     },
     "execution_count": 9,
     "metadata": {},
     "output_type": "execute_result"
    }
   ],
   "source": [
    "a = np.array((1,1))\n",
    "b= np.array((-1,1))\n",
    "adotb = np.vdot(a,b)\n",
    "adotb"
   ]
  },
  {
   "cell_type": "markdown",
   "metadata": {},
   "source": [
    "### Projection\n",
    "\n",
    "![](proj.png)\n",
    "\n",
    "#### Vector Projection of x onto y\n",
    "\n",
    "<div style=\"font-size: 115%;\">\n",
    "$$ proj_y x = \\frac{x\\cdot{y}}{||y||^2}y$$\n",
    "</div>\n",
    "\n",
    "#### Scalar Projection of x onto y\n",
    "\n",
    "The length of the projection\n",
    "\n",
    "<div style=\"font-size: 115%;\">\n",
    "$$ proj_y x = \\frac{x\\cdot{y}}{||y||}$$\n",
    "</div>\n",
    "\n",
    "$x\\cdot{y}$ is the length of the projection of x onto the unit vector $\\hat{y}$ ( $\\frac{y}{||y||}$ )"
   ]
  },
  {
   "cell_type": "code",
   "execution_count": 10,
   "metadata": {},
   "outputs": [
    {
     "data": {
      "text/plain": [
       "2.0"
      ]
     },
     "execution_count": 10,
     "metadata": {},
     "output_type": "execute_result"
    }
   ],
   "source": [
    "y = np.array([3,0])\n",
    "x = np.array([2,1])\n",
    "unit_y = y/Norm(y)\n",
    "np.vdot(x,y)/Norm(y)"
   ]
  },
  {
   "cell_type": "code",
   "execution_count": 11,
   "metadata": {},
   "outputs": [
    {
     "data": {
      "text/plain": [
       "2.0"
      ]
     },
     "execution_count": 11,
     "metadata": {},
     "output_type": "execute_result"
    }
   ],
   "source": [
    "theta = np.arcsin(1/Norm(x))\n",
    "Norm(x)*np.cos(theta)                  "
   ]
  },
  {
   "cell_type": "markdown",
   "metadata": {},
   "source": [
    "### Linear Independence\n",
    "\n",
    "A set of  vectors, $(v_1,v_2...v_n)$ are linearly dependent if one of the vectors can be expressed as a linear combination of the others. At least two of the vectors lie on the same line (they differ in magnitude only)\n",
    "\n",
    "Vectors that are not linearly dependent are linearly independent.\n",
    "\n",
    "A set of vectors are linearly independent if:\n",
    "<div style=\"font-size: 115%;\"> \n",
    "$$ a_1 v_1 + a_2 v_2 + ...+ a_n v_n = 0 \\text{ iff all } a_i = 0$$\n",
    "</div>\n"
   ]
  },
  {
   "cell_type": "code",
   "execution_count": 12,
   "metadata": {},
   "outputs": [
    {
     "data": {
      "text/plain": [
       "0"
      ]
     },
     "execution_count": 12,
     "metadata": {},
     "output_type": "execute_result"
    }
   ],
   "source": [
    "# Not linear independent since 2v-1w = 0, \n",
    "v = np.array([1,2,3,4])\n",
    "w = np.array([2,4,6,8])\n",
    "\n",
    "np.sum(2*v + (-1*w))\n"
   ]
  },
  {
   "cell_type": "code",
   "execution_count": 13,
   "metadata": {},
   "outputs": [
    {
     "data": {
      "text/plain": [
       "0"
      ]
     },
     "execution_count": 13,
     "metadata": {},
     "output_type": "execute_result"
    }
   ],
   "source": [
    "v = np.array([1,2,3,4])\n",
    "w = np.array([3,5,7,9])\n",
    "np.sum(2*v + (-1*(w - 1)))"
   ]
  },
  {
   "cell_type": "code",
   "execution_count": 14,
   "metadata": {},
   "outputs": [
    {
     "data": {
      "text/plain": [
       "array([0, 0, 0, 0])"
      ]
     },
     "execution_count": 14,
     "metadata": {},
     "output_type": "execute_result"
    }
   ],
   "source": [
    "2*v-w+1"
   ]
  },
  {
   "cell_type": "code",
   "execution_count": 15,
   "metadata": {},
   "outputs": [
    {
     "name": "stdout",
     "output_type": "stream",
     "text": [
      "cosine of angle between the vectors: 1.0\n"
     ]
    }
   ],
   "source": [
    "print(f'cosine of angle between the vectors: {np.round(np.dot(v,w)/(la.norm(v)*la.norm(w)),2)}')"
   ]
  },
  {
   "cell_type": "markdown",
   "metadata": {},
   "source": [
    "## Matricies (2-dimensional arrays)\n",
    "\n",
    "Matricies specify **Linear Transformations** \n",
    "\n",
    "\n",
    "### Matrix Multiplication Operations\n",
    "\n",
    "#### Matrix Multiplication\n",
    "\n",
    "To multiply they must be compatible: number of columns of 1st matrix = number of rows of second matrix.\n",
    "\n",
    "The result is the number of rows of 1st matrix and number of columns of 2nd. \n",
    "    "
   ]
  },
  {
   "cell_type": "code",
   "execution_count": 16,
   "metadata": {},
   "outputs": [],
   "source": [
    "# numpy matmul\n",
    "A = np.array([1,2,3,4,5,6,7,8]).reshape(4,2)\n",
    "B = np.array([1,2,3,4,5,6]).reshape(2,3)\n",
    "# 4x2 * 2x3 = 4x3"
   ]
  },
  {
   "cell_type": "code",
   "execution_count": 17,
   "metadata": {},
   "outputs": [
    {
     "name": "stdout",
     "output_type": "stream",
     "text": [
      "[[ 9 12 15]\n",
      " [19 26 33]\n",
      " [29 40 51]\n",
      " [39 54 69]]\n"
     ]
    }
   ],
   "source": [
    "print(A@B)"
   ]
  },
  {
   "cell_type": "markdown",
   "metadata": {},
   "source": [
    "##### Matmul implements @"
   ]
  },
  {
   "cell_type": "code",
   "execution_count": 18,
   "metadata": {},
   "outputs": [
    {
     "name": "stdout",
     "output_type": "stream",
     "text": [
      "Shape:  (4, 3)\n",
      "M\n",
      " [[ 9 12 15]\n",
      " [19 26 33]\n",
      " [29 40 51]\n",
      " [39 54 69]]\n"
     ]
    }
   ],
   "source": [
    "M = np.matmul(A,B)\n",
    "print(\"Shape: \", M.shape)\n",
    "print(\"M\\n\",M)"
   ]
  },
  {
   "cell_type": "code",
   "execution_count": 19,
   "metadata": {},
   "outputs": [
    {
     "data": {
      "text/plain": [
       "array([[ 9, 12, 15],\n",
       "       [19, 26, 33],\n",
       "       [29, 40, 51],\n",
       "       [39, 54, 69]])"
      ]
     },
     "execution_count": 19,
     "metadata": {},
     "output_type": "execute_result"
    }
   ],
   "source": [
    "# numpy dot product\n",
    "np.dot(A,B)"
   ]
  },
  {
   "cell_type": "markdown",
   "metadata": {},
   "source": [
    "#### Matrix by a scalar"
   ]
  },
  {
   "cell_type": "code",
   "execution_count": 20,
   "metadata": {},
   "outputs": [
    {
     "data": {
      "text/plain": [
       "array([[ 2,  4],\n",
       "       [ 6,  8],\n",
       "       [10, 12],\n",
       "       [14, 16]])"
      ]
     },
     "execution_count": 20,
     "metadata": {},
     "output_type": "execute_result"
    }
   ],
   "source": [
    "A*2"
   ]
  },
  {
   "cell_type": "code",
   "execution_count": 21,
   "metadata": {},
   "outputs": [
    {
     "data": {
      "text/plain": [
       "array([[ 2,  4],\n",
       "       [ 6,  8],\n",
       "       [10, 12],\n",
       "       [14, 16]])"
      ]
     },
     "execution_count": 21,
     "metadata": {},
     "output_type": "execute_result"
    }
   ],
   "source": [
    "np.dot(A,2)"
   ]
  },
  {
   "cell_type": "markdown",
   "metadata": {},
   "source": [
    "#### Hadamard Product\n",
    "\n",
    "The Hadamard produt is element by element multiplication. Often denoted as $A \\circ B$.\n",
    "\n",
    "In python, it is the * operator\n",
    "\n"
   ]
  },
  {
   "cell_type": "code",
   "execution_count": 22,
   "metadata": {},
   "outputs": [
    {
     "name": "stdout",
     "output_type": "stream",
     "text": [
      "A\n",
      " [[1 1]\n",
      " [0 1]]\n",
      "B\n",
      " [[2 0]\n",
      " [3 4]]\n",
      "Shape of A*B:  (2, 2)\n",
      "M\n",
      " [[2 0]\n",
      " [0 4]]\n"
     ]
    }
   ],
   "source": [
    "A = np.array( [[1,1],[0,1]] )\n",
    "B = np.array( [[2,0],[3,4]] )\n",
    "\n",
    "print(\"A\\n\",A)\n",
    "print(\"B\\n\",B)\n",
    "M = A*B # Hadamard\n",
    "print(\"Shape of A*B: \", M.shape)\n",
    "print(\"M\\n\", M)"
   ]
  },
  {
   "cell_type": "markdown",
   "metadata": {},
   "source": [
    "Matrices must have same shape or can broadcast one into the other"
   ]
  },
  {
   "cell_type": "code",
   "execution_count": 23,
   "metadata": {
    "tags": []
   },
   "outputs": [
    {
     "name": "stdout",
     "output_type": "stream",
     "text": [
      "Value Error\n"
     ]
    }
   ],
   "source": [
    "C = np.array([5]*8).reshape(4,2)\n",
    "try: \n",
    "    A*C\n",
    "except ValueError:\n",
    "    print('Value Error')"
   ]
  },
  {
   "cell_type": "code",
   "execution_count": 24,
   "metadata": {},
   "outputs": [
    {
     "name": "stdout",
     "output_type": "stream",
     "text": [
      "A\n",
      " [[1 1]\n",
      " [0 1]]\n",
      "D\n",
      " [[5]\n",
      " [6]]\n",
      "(2, 2) (2, 1)\n",
      "[[5 5]\n",
      " [0 6]]\n"
     ]
    }
   ],
   "source": [
    "D = np.array([[5],[6]]).reshape(2,1)\n",
    "print(\"A\\n\",A)\n",
    "print(\"D\\n\",D)\n",
    "print(A.shape,D.shape)\n",
    "print(A*D)"
   ]
  },
  {
   "cell_type": "markdown",
   "metadata": {},
   "source": [
    "#### Matrix times a vector\n",
    "\n",
    "Matrix as a transformation operator on a vector changes orientation and length of a vector ,i.e. it rotates and stretches or shrinks a vector.\n",
    "\n",
    "In numpy: np.matmul or np.dot"
   ]
  },
  {
   "cell_type": "code",
   "execution_count": 25,
   "metadata": {},
   "outputs": [
    {
     "name": "stdout",
     "output_type": "stream",
     "text": [
      "A\n",
      " [[0 1]\n",
      " [2 3]\n",
      " [4 5]\n",
      " [6 7]\n",
      " [8 9]]\n",
      "v\n",
      " [11 12]\n",
      "b\n",
      " [ 12  58 104 150 196]\n"
     ]
    }
   ],
   "source": [
    "A= np.arange(10).reshape(5,2)\n",
    "v = np.array([11,12])\n",
    "print(\"A\\n\",A)\n",
    "print(\"v\\n\",v)\n",
    "b = A.dot(v)\n",
    "print(\"b\\n\",b)"
   ]
  },
  {
   "cell_type": "code",
   "execution_count": 26,
   "metadata": {},
   "outputs": [
    {
     "name": "stdout",
     "output_type": "stream",
     "text": [
      "[ 12  58 104 150 196]\n"
     ]
    }
   ],
   "source": [
    "print(np.matmul(A,v))"
   ]
  },
  {
   "cell_type": "markdown",
   "metadata": {},
   "source": [
    "### Diagonal and Trace\n",
    "\n",
    "The diagonal of a matrix is $a_{ij}$ where i=j elements.\n",
    "\n",
    "The trace of a matrix is the sum of diagonal elements."
   ]
  },
  {
   "cell_type": "code",
   "execution_count": 27,
   "metadata": {},
   "outputs": [
    {
     "data": {
      "text/plain": [
       "array([[1, 0, 0],\n",
       "       [0, 2, 0],\n",
       "       [0, 0, 3]])"
      ]
     },
     "execution_count": 27,
     "metadata": {},
     "output_type": "execute_result"
    }
   ],
   "source": [
    "A = np.array([1,2,3])\n",
    "np.diag(A)\n"
   ]
  },
  {
   "cell_type": "code",
   "execution_count": 28,
   "metadata": {},
   "outputs": [
    {
     "data": {
      "text/plain": [
       "array([[1., 0., 0., 0., 0.],\n",
       "       [0., 1., 0., 0., 0.],\n",
       "       [0., 0., 1., 0., 0.],\n",
       "       [0., 0., 0., 1., 0.],\n",
       "       [0., 0., 0., 0., 1.]])"
      ]
     },
     "execution_count": 28,
     "metadata": {},
     "output_type": "execute_result"
    }
   ],
   "source": [
    "np.eye(5)"
   ]
  },
  {
   "cell_type": "code",
   "execution_count": 29,
   "metadata": {},
   "outputs": [
    {
     "name": "stdout",
     "output_type": "stream",
     "text": [
      "A\n",
      " [[1 2 3]\n",
      " [4 5 6]\n",
      " [7 8 9]]\n",
      "Trace of A: 15\n"
     ]
    }
   ],
   "source": [
    "A = np.array([[1,2,3],[4,5,6],[7,8,9]])\n",
    "print(\"A\\n\",A)\n",
    "print(f'Trace of A: {np.trace(A)}')"
   ]
  },
  {
   "cell_type": "markdown",
   "metadata": {},
   "source": [
    "### Transpose"
   ]
  },
  {
   "cell_type": "code",
   "execution_count": 30,
   "metadata": {},
   "outputs": [
    {
     "name": "stdout",
     "output_type": "stream",
     "text": [
      "A\n",
      " [[1 2 3]\n",
      " [4 5 6]]\n",
      "A-transpose\n",
      " [[1 4]\n",
      " [2 5]\n",
      " [3 6]]\n",
      "<AA-transpose>\n",
      " [[14 32]\n",
      " [32 77]]\n"
     ]
    }
   ],
   "source": [
    "A = np.array([[1,2,3],[4,5,6]])\n",
    "print(\"A\\n\",A)\n",
    "print(\"A-transpose\\n\",A.transpose())\n",
    "print(\"<AA-transpose>\\n\",np.dot(A,A.transpose())) #Notice its a square matrix\n"
   ]
  },
  {
   "cell_type": "code",
   "execution_count": 31,
   "metadata": {},
   "outputs": [
    {
     "data": {
      "text/plain": [
       "array([[1, 4],\n",
       "       [2, 5],\n",
       "       [3, 6]])"
      ]
     },
     "execution_count": 31,
     "metadata": {},
     "output_type": "execute_result"
    }
   ],
   "source": [
    "A.T"
   ]
  },
  {
   "cell_type": "markdown",
   "metadata": {},
   "source": [
    "### Determinant\n",
    " \n",
    "The determinent of a matrix only exists for square matrices.\n",
    "\n",
    "For 2x2 matrix $\\begin{bmatrix}a & b \\\\ c & d\\end{bmatrix}$, det = ad-bc \n",
    "\n",
    "If the determinent is non-zero, then matrix has an inverse.\n",
    "\n",
    "The determinent reflects what the linear transformation of a matrix does. It is related to area or volume of a region."
   ]
  },
  {
   "cell_type": "code",
   "execution_count": 32,
   "metadata": {},
   "outputs": [
    {
     "data": {
      "text/plain": [
       "-2.0"
      ]
     },
     "execution_count": 32,
     "metadata": {},
     "output_type": "execute_result"
    }
   ],
   "source": [
    "A = np.arange(4).reshape(2,2)\n",
    "la.det(A)"
   ]
  },
  {
   "cell_type": "markdown",
   "metadata": {},
   "source": [
    "###  Matrix Inversion ($A^{-1}$)\n",
    "\n",
    "$$ AA^{-1} = I$$\n",
    "\n",
    "To invert a matrix it must be a square matrix and have non-zero determinant.\n",
    "\n",
    "If det(A) = 0 then A is called a singular matrix"
   ]
  },
  {
   "cell_type": "code",
   "execution_count": 33,
   "metadata": {},
   "outputs": [
    {
     "name": "stdout",
     "output_type": "stream",
     "text": [
      "A\n",
      " [[1 1 2]\n",
      " [3 4 5]\n",
      " [6 7 1]]\n",
      "A Inverse\n",
      " [[ 3.1 -1.3  0.3]\n",
      " [-2.7  1.1 -0.1]\n",
      " [ 0.3  0.1 -0.1]]\n",
      "AA-inverse\n",
      " [[ 1.  0.  0.]\n",
      " [ 0.  1.  0.]\n",
      " [-0.  0.  1.]]\n"
     ]
    }
   ],
   "source": [
    "A = np.arange(9).reshape(3,3)\n",
    "A[0,0] = 1\n",
    "A[2,2] = 1\n",
    "print(\"A\\n\",A)\n",
    "B = la.inv(A)\n",
    "print(\"A Inverse\\n\",B)\n",
    "print(\"AA-inverse\\n\",np.round(np.matmul(A,B)))\n"
   ]
  },
  {
   "cell_type": "code",
   "execution_count": 34,
   "metadata": {},
   "outputs": [
    {
     "name": "stdout",
     "output_type": "stream",
     "text": [
      "Singular Matrix\n"
     ]
    }
   ],
   "source": [
    "A = np.array([[1,3],[2,6]])\n",
    "try:\n",
    "    la.inv(A)\n",
    "except:\n",
    "    print(\"Singular Matrix\")"
   ]
  },
  {
   "cell_type": "code",
   "execution_count": 35,
   "metadata": {},
   "outputs": [
    {
     "data": {
      "text/plain": [
       "array([[1, 3],\n",
       "       [2, 6]])"
      ]
     },
     "execution_count": 35,
     "metadata": {},
     "output_type": "execute_result"
    }
   ],
   "source": [
    "A"
   ]
  },
  {
   "cell_type": "markdown",
   "metadata": {},
   "source": [
    "#### Moore-Penrose Inverse (for real-valued matrices)\n",
    "\n",
    "For any mxn matrix (not necessarily square) A that has full rank (i.e. independent rows or columns). If columns of A are linearly independent then:\n",
    "$$ A^+ = (A^TA)^{-1}A^T$$\n",
    "$$\\text{Left Inverse } A^+A = I$$\n",
    "\n",
    "If the rows of A are linearly independent:\n",
    "$$ A^+ = A^T(AA^T)^{-1}$$\n",
    "$$\\text{Right Inverse } AA^+ = I$$"
   ]
  },
  {
   "cell_type": "code",
   "execution_count": 36,
   "metadata": {},
   "outputs": [
    {
     "name": "stdout",
     "output_type": "stream",
     "text": [
      "Linearly independent columns\n",
      " [[ 1  2]\n",
      " [ 3  4]\n",
      " [ 5  7]\n",
      " [ 9 10]]\n",
      "A+\n",
      "[[-0.38515901 -0.17314488 -0.45229682  0.46289753]\n",
      " [ 0.32862191  0.16607774  0.41342756 -0.32155477]]\n"
     ]
    },
    {
     "data": {
      "text/plain": [
       "array([[1., 0.],\n",
       "       [0., 1.]])"
      ]
     },
     "execution_count": 36,
     "metadata": {},
     "output_type": "execute_result"
    }
   ],
   "source": [
    "A = np.array([[1,2,3,4],\n",
    "              [5,7,9,10]]).reshape(4,2)\n",
    "\n",
    "print(\"Linearly independent columns\\n\",A)\n",
    "\n",
    "AT_A = np.matmul(A.T,A)\n",
    "A_plus = np.matmul(la.inv(AT_A),A.T)\n",
    "print(f'A+\\n{A_plus}')\n",
    "I = np.matmul(A_plus,A).round(2)\n",
    "I"
   ]
  },
  {
   "cell_type": "code",
   "execution_count": 37,
   "metadata": {},
   "outputs": [
    {
     "name": "stdout",
     "output_type": "stream",
     "text": [
      "Left inverse: [[-0.38515901 -0.17314488 -0.45229682  0.46289753]\n",
      " [ 0.32862191  0.16607774  0.41342756 -0.32155477]]\n",
      "I = [[ 1. -0.]\n",
      " [-0.  1.]]\n"
     ]
    }
   ],
   "source": [
    "A_plus = la.pinv(A)\n",
    "I = np.matmul(A_plus,A)\n",
    "\n",
    "print(f'Left inverse: {A_plus}\\nI = {I.round(4)}')"
   ]
  },
  {
   "cell_type": "markdown",
   "metadata": {},
   "source": [
    "### Linear operations on vectors (in a vector space)\n",
    " \n",
    "Matrices are linear operators acting on column vectors.\n",
    "       \n",
    "#### Linear system of equations\n",
    "<div style=\"font-size: 115%;\"> \n",
    "$$  Ax = b$$\n",
    "</div>\n",
    "\n",
    "$$\n",
    "\\begin{bmatrix}\n",
    "    1 & 2 & 3 \\\\\n",
    "    4 & 5 & 6 \\\\\n",
    "    7 & 8 & 9\n",
    "\\end{bmatrix}\n",
    "\\begin{bmatrix} x_1 \\\\ x_2 \\\\ x_3\\end{bmatrix}\n",
    "=\n",
    "\\begin{bmatrix} 21 \\\\ 32 \\\\ 43\\end{bmatrix}\n",
    "$$\n",
    "  \n",
    "To solve $x = A^{-1}b$ you must find $A^{-1}$ \n",
    "\n",
    "Finding the inverse means solving $AA^{-1} = I$. This is inefficient (and can induce numerical error) because you still had to solve a linear system of equations.\n",
    "\n",
    "More efficient algorithms use matrix decomposition such as LU decomposition, which decomposes A into an Upper Triangular (U) and a Lower Triangular Matrix (L). Solves L(U(x)) = b\n",
    "   \n"
   ]
  },
  {
   "cell_type": "code",
   "execution_count": 38,
   "metadata": {},
   "outputs": [
    {
     "name": "stdout",
     "output_type": "stream",
     "text": [
      "Solution\n",
      " [ 10.   -11.75  16.  ]\n"
     ]
    }
   ],
   "source": [
    "A = np.array((2,4,3,6,16,10,4,12,9)).reshape(3,3)\n",
    "b = np.array((21,32,43))\n",
    "x = la.solve(A,b)\n",
    "print(\"Solution\\n\",x)"
   ]
  },
  {
   "cell_type": "markdown",
   "metadata": {},
   "source": [
    "### Eigenvalues and Eigenvectors\n",
    "\n",
    "Matricies are linear operators. The eigenvectors of an linear operator(matrix) are those vectors that don't change direction under the linear transformation. They stretch (or shrink) by the amount indicated by the eigenvalue. \n",
    "\n",
    "<div style=\"font-size: 115%;\">\n",
    "$$Ax =  \\lambda x$$\n",
    "</div>\n",
    "\n",
    "$\\lambda$ is an eigenvalue, x is an eigenvector\n",
    "\n",
    "Only nxn matrices have eigenvectors. A nxn matrix will have n eigenvectors.\n",
    "\n",
    "Two useful properties:\n",
    "\n",
    "* Sum of the eigenvalues = trace of A, \n",
    "* Product of eigenvalues = det(A) \n",
    "\n",
    "    \n",
    "To find all n eigenvalues and eigenvectors solve:\n",
    "\n",
    "<div style=\"font-size: 115%;\">   \n",
    "$$(A - \\lambda I)x = 0$$ \n",
    "</div>\n",
    "\n",
    "where:\n",
    "\n",
    "* $\\lambda$ is the vector of eigenvalues\n",
    "* x is the matrix of eigenvectors (i.e. the columns of x)\n",
    "\n",
    "We use he numpy linear algebra module has function eig to find the eigenvectors and eigenvalues\n",
    "     "
   ]
  },
  {
   "cell_type": "code",
   "execution_count": 39,
   "metadata": {},
   "outputs": [
    {
     "name": "stdout",
     "output_type": "stream",
     "text": [
      "A\n",
      " [[0 1 2]\n",
      " [3 4 5]\n",
      " [6 7 8]]\n",
      "The eigenvalues are:  [13.34847 -1.34847 -0.     ]\n",
      "The eigenvecors are: \n",
      " [[ 0.165  0.8    0.408]\n",
      " [ 0.506  0.104 -0.816]\n",
      " [ 0.847 -0.591  0.408]]\n"
     ]
    }
   ],
   "source": [
    "A = np.array([i for i in range(9)]).reshape(3,3)\n",
    "print(\"A\\n\",A)\n",
    "E = la.eig(A)\n",
    "\n",
    "# Eigenvalues\n",
    "print(\"The eigenvalues are: \", np.round(E[0],5))\n",
    "\n",
    "# Eigenvectors\n",
    "\n",
    "print(\"The eigenvecors are: \\n\" , np.round(E[1],3))"
   ]
  },
  {
   "cell_type": "code",
   "execution_count": 40,
   "metadata": {},
   "outputs": [
    {
     "name": "stdout",
     "output_type": "stream",
     "text": [
      "Eigenvalues\n",
      " [ 1.33484692e+01 -1.34846923e+00 -1.26963291e-15]\n",
      "Eigenvectors\n",
      " [[ 0.16476382  0.79969966  0.40824829]\n",
      " [ 0.50577448  0.10420579 -0.81649658]\n",
      " [ 0.84678513 -0.59128809  0.40824829]]\n"
     ]
    }
   ],
   "source": [
    "e,v = la.eig(A)\n",
    "print(\"Eigenvalues\\n\",e)\n",
    "print(\"Eigenvectors\\n\",v)"
   ]
  },
  {
   "cell_type": "code",
   "execution_count": 41,
   "metadata": {},
   "outputs": [
    {
     "name": "stdout",
     "output_type": "stream",
     "text": [
      "Eigenvalue 1: 13.348469228349538, Eigenvector: [0.16476382 0.50577448 0.84678513] \n",
      "\n",
      "Eigenvalue 2: -1.3484692283495348, Eigenvector: [ 0.79969966  0.10420579 -0.59128809] \n",
      "\n",
      "Eigenvalue 3: -1.2696329104036546e-15, Eigenvector: [ 0.40824829 -0.81649658  0.40824829] \n",
      "\n"
     ]
    }
   ],
   "source": [
    "for i in range(len(E[0])):\n",
    "    print(f\"Eigenvalue {i+1}: {E[0][i]}, Eigenvector: {E[1][:,i]} \\n\")"
   ]
  },
  {
   "cell_type": "markdown",
   "metadata": {},
   "source": [
    "#### Positive Definite Matrices\n",
    "\n",
    "A Positive Definite matrix if:\n",
    "\n",
    "<div style=\"font-size: 115%;\"> \n",
    "$$x^tAx > 0 \\text{ for all non-zero x} \\in R^n $$\n",
    "</div>\n",
    "\n",
    "A positive semi-definite matrix if:\n",
    "\n",
    "<div style=\"font-size: 115%;\"> \n",
    "$$x^tAx \\ge 0 \\text{ for all non-zero x} \\in R^n $$ \n",
    "</div>\n",
    "\n",
    "A matrix a A is Positive Definite if $<Ax,x> \\ge 0$ for all real-valued vectors x. <.,.> is the inner (i.e. dot product)\n",
    "\n",
    "A symmetric matrix is a Positive Definite matrix if its eigenvalues are all > 0, $\\ge0$ for semi-definite.\n",
    "\n",
    "For 2x2 matrix, \n",
    "$\\begin{bmatrix}a & b \\\\b & c\\end{bmatrix}\\text{ Positive Definite if } ac-b^2 > 0 \\text{ for a > 0}$\n",
    " \n",
    "Positive Definite Matricies are the generalization of positive real numbers to matricies. This means you can take square roots.\n",
    "\n"
   ]
  },
  {
   "cell_type": "markdown",
   "metadata": {},
   "source": [
    "### Eigendecomposition\n",
    "\n",
    "If an n×n matrix A has n linearly independent eigenvectors, then A may be decomposed as follows:\n",
    "\n",
    "<div style=\"font-size: 115%;\"> \n",
    "$$A = B \\Lambda B^{-1}$$\n",
    "</div>\n",
    "\n",
    "$\\Lambda$ is a diagonal matrix of the eigenvalues\n",
    "B is a matrix whose columns are the independent eigenvectors\n",
    "\n"
   ]
  },
  {
   "cell_type": "code",
   "execution_count": 42,
   "metadata": {},
   "outputs": [
    {
     "name": "stdout",
     "output_type": "stream",
     "text": [
      "A\n",
      " [[0 1 1]\n",
      " [2 1 0]\n",
      " [3 4 5]]\n",
      "B\n",
      " [[ 1.80228488e-01  6.72063326e-01 -2.06609884e-16]\n",
      " [ 7.42582208e-02 -7.24947536e-01 -7.07106781e-01]\n",
      " [ 9.80817725e-01  1.50936928e-01  7.07106781e-01]]\n",
      "LAMBDA\n",
      " [[ 5.85410197  0.          0.        ]\n",
      " [ 0.         -0.85410197  0.        ]\n",
      " [ 0.          0.          1.        ]]\n",
      "B-inverse\n",
      " [[ 0.70644772  0.82712339  0.82712339]\n",
      " [ 1.29850561 -0.22181124 -0.22181124]\n",
      " [-1.25707872 -1.09994388  0.31426968]]\n"
     ]
    }
   ],
   "source": [
    "A = np.array([[0,1,1],[2,1,0],[3,4,5]])\n",
    "print(\"A\\n\",A)\n",
    "u, V = la.eig(A)\n",
    "print(f'B\\n {V}\\nLAMBDA\\n {np.diag(u)}\\nB-inverse\\n {la.inv(V)}')"
   ]
  },
  {
   "cell_type": "markdown",
   "metadata": {},
   "source": [
    "#### $B \\Lambda B^{-1}$"
   ]
  },
  {
   "cell_type": "code",
   "execution_count": 43,
   "metadata": {},
   "outputs": [
    {
     "name": "stdout",
     "output_type": "stream",
     "text": [
      "[[ 0.  1.  1.]\n",
      " [ 2.  1. -0.]\n",
      " [ 3.  4.  5.]]\n"
     ]
    }
   ],
   "source": [
    "print(np.dot(V,np.dot(np.diag(u), la.inv(V))).round(5))\n"
   ]
  },
  {
   "cell_type": "markdown",
   "metadata": {},
   "source": [
    "### Singular Value Decomposition\n",
    "$$A = UDV^t$$\n",
    "\n",
    "Where U and V are orthogonal, i.e. \n",
    "      \n",
    "$$U^{-1}=U^t$$ \n",
    "\n",
    "$$V^{-1} = V^t$$\n",
    "\n",
    "D is a diagonal matrix, the singular values of A\n",
    "\n",
    "SVD is used in Latent Semantic Analysis, Principal Component Analysis"
   ]
  },
  {
   "cell_type": "code",
   "execution_count": 44,
   "metadata": {},
   "outputs": [
    {
     "name": "stdout",
     "output_type": "stream",
     "text": [
      "X\n",
      " [[1.         0.5        0.33333333]\n",
      " [0.5        0.33333333 0.25      ]\n",
      " [0.33333333 0.25       0.2       ]]\n",
      "U: \n",
      " [[-0.827  0.547  0.128]\n",
      " [-0.46  -0.528 -0.714]\n",
      " [-0.323 -0.649  0.689]]\n",
      "D: \n",
      " [1.408 0.122 0.003]\n",
      "V-transpose: \n",
      " [[-0.827 -0.46  -0.323]\n",
      " [ 0.547 -0.528 -0.649]\n",
      " [ 0.128 -0.714  0.689]]\n"
     ]
    }
   ],
   "source": [
    "X = np.array((1,1/2,1/3,1/2,1/3,1/4,1/3,1/4,1/5)).reshape(3,3)\n",
    "print(\"X\\n\",X)\n",
    "S = la.svd(X)\n",
    "print(\"U: \\n\", np.round(S[0],3))\n",
    "print(\"D: \\n\", np.round(S[1],3))\n",
    "print(\"V-transpose: \\n\", np.round(S[2],3))"
   ]
  },
  {
   "cell_type": "code",
   "execution_count": null,
   "metadata": {},
   "outputs": [],
   "source": []
  },
  {
   "cell_type": "code",
   "execution_count": null,
   "metadata": {},
   "outputs": [],
   "source": []
  }
 ],
 "metadata": {
  "kernelspec": {
   "display_name": "Python 3 (ipykernel)",
   "language": "python",
   "name": "python3"
  },
  "language_info": {
   "codemirror_mode": {
    "name": "ipython",
    "version": 3
   },
   "file_extension": ".py",
   "mimetype": "text/x-python",
   "name": "python",
   "nbconvert_exporter": "python",
   "pygments_lexer": "ipython3",
   "version": "3.8.11"
  },
  "varInspector": {
   "cols": {
    "lenName": 16,
    "lenType": 16,
    "lenVar": 40
   },
   "kernels_config": {
    "python": {
     "delete_cmd_postfix": "",
     "delete_cmd_prefix": "del ",
     "library": "var_list.py",
     "varRefreshCmd": "print(var_dic_list())"
    },
    "r": {
     "delete_cmd_postfix": ") ",
     "delete_cmd_prefix": "rm(",
     "library": "var_list.r",
     "varRefreshCmd": "cat(var_dic_list()) "
    }
   },
   "types_to_exclude": [
    "module",
    "function",
    "builtin_function_or_method",
    "instance",
    "_Feature"
   ],
   "window_display": false
  }
 },
 "nbformat": 4,
 "nbformat_minor": 4
}
